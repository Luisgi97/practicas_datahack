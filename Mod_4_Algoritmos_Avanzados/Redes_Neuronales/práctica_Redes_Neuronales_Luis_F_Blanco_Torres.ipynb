{
 "cells": [
  {
   "cell_type": "markdown",
   "metadata": {
    "colab_type": "text",
    "id": "uPT-3Rh0F5W_",
    "nbgrader": {
     "grade": false,
     "locked": false,
     "solution": false
    }
   },
   "source": [
    "# Lab assignment: dogs VS cats"
   ]
  },
  {
   "cell_type": "markdown",
   "metadata": {
    "colab_type": "text",
    "id": "Po_y5PkAF5XE",
    "nbgrader": {
     "grade": false,
     "locked": false,
     "solution": false
    }
   },
   "source": [
    "<table><tr>\n",
    "    <td><img src=\"img/doge.jpg\" style=\"width:400px;height:400px;\"></td>\n",
    "    <td><img src=\"img/cat.jpg\" style=\"width:400px;height:400px;\"></td>\n",
    "</tr></table>"
   ]
  },
  {
   "cell_type": "markdown",
   "metadata": {
    "colab_type": "text",
    "id": "A6Ro9r1PF5XG",
    "nbgrader": {
     "grade": false,
     "locked": false,
     "solution": false
    }
   },
   "source": [
    "In this assignment we will face an image classification problem, trying to tell apart images of dogs and images of cats. The final battle begins! And to do so we will use a Deep Learning approach."
   ]
  },
  {
   "cell_type": "markdown",
   "metadata": {
    "colab_type": "text",
    "id": "Z7wb6oG6F5XI",
    "nbgrader": {
     "grade": false,
     "locked": false,
     "solution": false
    }
   },
   "source": [
    "## Guidelines"
   ]
  },
  {
   "cell_type": "markdown",
   "metadata": {
    "colab_type": "text",
    "id": "si1UacBFF5XK"
   },
   "source": [
    "Throughout this notebook you will find empty cells that you will need to fill with your own code. Follow the instructions in the notebook and pay special attention to the following symbols.\n",
    "\n",
    "<img src=\"img/question.png\" height=\"80\" width=\"80\" style=\"float: right;\"/>\n",
    "\n",
    "***\n",
    "\n",
    "<font color=#ad3e26>\n",
    "You will need to solve a question by writing your own code or answer in the cell immediately below or in a different file, as instructed.</font>\n",
    "\n",
    "***"
   ]
  },
  {
   "cell_type": "markdown",
   "metadata": {
    "colab_type": "text",
    "id": "dUcJtVt1F5XL"
   },
   "source": [
    "<img src=\"img/exclamation.png\" height=\"80\" width=\"80\" style=\"float: right;\"/>\n",
    "\n",
    "***\n",
    "<font color=#2655ad>\n",
    "This is a hint or useful observation that can help you solve this assignment. You should pay attention to these hints to better understand the assignment.\n",
    "</font>\n",
    "\n",
    "***"
   ]
  },
  {
   "cell_type": "markdown",
   "metadata": {
    "colab_type": "text",
    "id": "t1ofFHz3F5XN"
   },
   "source": [
    "<img src=\"img/pro.png\" height=\"80\" width=\"80\" style=\"float: right;\"/>\n",
    "\n",
    "***\n",
    "<font color=#259b4c>\n",
    "This is an advanced exercise that can help you gain a deeper knowledge into the topic. Good luck!</font>\n",
    "\n",
    "***"
   ]
  },
  {
   "cell_type": "markdown",
   "metadata": {
    "colab_type": "text",
    "id": "ZjVaSgUTF5XO"
   },
   "source": [
    "To avoid missing packages and compatibility issues you should run this notebook under one of the [recommended Deep Learning environment files](https://github.com/albarji/teaching-environments/tree/master/deeplearning), or make use of [Google Colaboratory](https://colab.research.google.com/). If you use Colaboratory make sure to [activate GPU support](https://colab.research.google.com/notebooks/gpu.ipynb)."
   ]
  },
  {
   "cell_type": "markdown",
   "metadata": {
    "colab_type": "text",
    "id": "SzcOC6rwF5XP"
   },
   "source": [
    "The following code will embed any plots into the notebook instead of generating a new window:"
   ]
  },
  {
   "cell_type": "code",
   "execution_count": 0,
   "metadata": {
    "colab": {},
    "colab_type": "code",
    "id": "pOgsUTSqF5XR"
   },
   "outputs": [],
   "source": [
    "import matplotlib.pyplot as plt\n",
    "%matplotlib inline\n",
    "from skimage.io import imread\n",
    "from skimage.transform import resize\n",
    "\n",
    "import numpy as np\n",
    "import pandas as pd\n",
    "import glob\n",
    "from sklearn.utils import shuffle\n",
    "from sklearn.pipeline import Pipeline\n",
    "from keras.models import Sequential\n",
    "from keras.layers.core import Dense\n",
    "from keras.layers import Conv2D\n",
    "from keras.layers import MaxPooling2D\n",
    "from keras.layers import Flatten\n",
    "from keras.layers.core import Activation\n",
    "from keras.layers.core import Dropout\n",
    "from keras.wrappers.scikit_learn import KerasClassifier\n",
    "from keras.callbacks import EarlyStopping\n",
    "from sklearn.model_selection import GridSearchCV"
   ]
  },
  {
   "cell_type": "code",
   "execution_count": 4,
   "metadata": {
    "colab": {
     "base_uri": "https://localhost:8080/",
     "height": 34
    },
    "colab_type": "code",
    "id": "k0KCB4A7F5XW",
    "outputId": "5d3d6cb2-4981-46c0-a564-ac80f7cac612"
   },
   "outputs": [
    {
     "name": "stdout",
     "output_type": "stream",
     "text": [
      "Found GPU at: /device:GPU:0\n"
     ]
    }
   ],
   "source": [
    "%tensorflow_version 1.x\n",
    "import tensorflow as tf\n",
    "device_name = tf.test.gpu_device_name()\n",
    "if device_name != '/device:GPU:0':\n",
    "  raise SystemError('GPU device not found')\n",
    "print('Found GPU at: {}'.format(device_name))"
   ]
  },
  {
   "cell_type": "markdown",
   "metadata": {
    "colab_type": "text",
    "id": "OKEIINLxF5Xc"
   },
   "source": [
    "Lastly, if you need any help on the usage of a Python function you can place the writing cursor over its name and press Caps+Shift to produce a pop-out with related documentation. This will only work inside code cells. \n",
    "\n",
    "Let's go!"
   ]
  },
  {
   "cell_type": "markdown",
   "metadata": {
    "colab_type": "text",
    "id": "jXJS0dVeF5Xd"
   },
   "source": [
    "## Data processing"
   ]
  },
  {
   "cell_type": "markdown",
   "metadata": {
    "colab_type": "text",
    "id": "voDYyOqTF5Xe"
   },
   "source": [
    "The images to use in this assignment are available [here](https://drive.google.com/open?id=105jGDrjEgxx2W2gYhFF8Mbf1J9qJeDPm) as a zip file. Download the data package and extract it into a folder in your computer. It is recommended to run this section of the notebook in your machine, as you might find memory issues when working in Google Colaboratory. Later on we will see how to load the processed data into Colab."
   ]
  },
  {
   "cell_type": "markdown",
   "metadata": {
    "colab_type": "text",
    "id": "Dls9DIRsF5Xg"
   },
   "source": [
    "Data is structured under two folders, *train* and *test*. You are only allowed to use the *test* data to measure the performance of your model **after** you have finished training. Both *train* and *test* folders contain one subfolder per class (*cats* and *dogs*)."
   ]
  },
  {
   "cell_type": "markdown",
   "metadata": {
    "colab_type": "text",
    "id": "tlqmSBCxF5Xh"
   },
   "source": [
    "The recommended way to load an image from disk is to use the *imread* function from the *scikit-image* library. For example:"
   ]
  },
  {
   "cell_type": "code",
   "execution_count": 0,
   "metadata": {
    "colab": {},
    "colab_type": "code",
    "id": "tzWLViP3F5Xj"
   },
   "outputs": [],
   "source": [
    "image = imread(\"./img/sample.jpg\")"
   ]
  },
  {
   "cell_type": "markdown",
   "metadata": {
    "colab_type": "text",
    "id": "mj1a0kE0F5Xn"
   },
   "source": [
    "This returns the image as 3-dimensional numpy matrix, containing the value of intensity of every pixel in each row, column and color channel."
   ]
  },
  {
   "cell_type": "code",
   "execution_count": 0,
   "metadata": {
    "colab": {},
    "colab_type": "code",
    "id": "egtsTtN1F5Xp",
    "outputId": "481d05f7-82f2-4482-9e45-261b1db9e4ea"
   },
   "outputs": [
    {
     "data": {
      "text/plain": [
       "(499, 367, 3)"
      ]
     },
     "execution_count": 4,
     "metadata": {
      "tags": []
     },
     "output_type": "execute_result"
    }
   ],
   "source": [
    "image.shape"
   ]
  },
  {
   "cell_type": "markdown",
   "metadata": {
    "colab_type": "text",
    "id": "zvrKILPHF5Xt"
   },
   "source": [
    "We can visualize the loaded image using"
   ]
  },
  {
   "cell_type": "code",
   "execution_count": 0,
   "metadata": {
    "colab": {},
    "colab_type": "code",
    "id": "gbI1rGTKF5Xu",
    "outputId": "aa9b1855-208d-4ad7-e3b4-fe98eebd31ac"
   },
   "outputs": [
    {
     "data": {
      "text/plain": [
       "<matplotlib.image.AxesImage at 0xb7bd1d0>"
      ]
     },
     "execution_count": 5,
     "metadata": {
      "tags": []
     },
     "output_type": "execute_result"
    },
    {
     "data": {
      "image/png": "[encoded data removed]",
      "text/plain": [
       "<Figure size 432x288 with 1 Axes>"
      ]
     },
     "metadata": {
      "needs_background": "light",
      "tags": []
     },
     "output_type": "display_data"
    }
   ],
   "source": [
    "plt.imshow(image)"
   ]
  },
  {
   "cell_type": "markdown",
   "metadata": {
    "colab_type": "text",
    "id": "5tgffrA1F5Xz"
   },
   "source": [
    "The dataset includes 20000 training images and 5000 test images, each image at a different resolution. Loading all this data at once requires too much memory, so we will need to **resize** each image to a smaller, common size as we load them from disk. We can do so by again making use of a *scikit-image* function. For example:"
   ]
  },
  {
   "cell_type": "code",
   "execution_count": 0,
   "metadata": {
    "colab": {},
    "colab_type": "code",
    "id": "BIGXVNzRF5X0",
    "outputId": "bf8a3e3a-c402-4a51-c783-de48b089190a"
   },
   "outputs": [
    {
     "name": "stderr",
     "output_type": "stream",
     "text": [
      "C:\\Users\\Luis\\Anaconda3\\envs\\deeplearning-labs\\lib\\site-packages\\skimage\\transform\\_warps.py:110: UserWarning: Anti-aliasing will be enabled by default in skimage 0.15 to avoid aliasing artifacts when down-sampling images.\n",
      "  warn(\"Anti-aliasing will be enabled by default in skimage 0.15 to \"\n"
     ]
    },
    {
     "data": {
      "text/plain": [
       "<matplotlib.image.AxesImage at 0xbc66a20>"
      ]
     },
     "execution_count": 6,
     "metadata": {
      "tags": []
     },
     "output_type": "execute_result"
    },
    {
     "data": {
      "image/png": "[encoded data removed]",
      "text/plain": [
       "<Figure size 432x288 with 1 Axes>"
      ]
     },
     "metadata": {
      "needs_background": "light",
      "tags": []
     },
     "output_type": "display_data"
    }
   ],
   "source": [
    "size = 64\n",
    "smallimage = resize(image, (64, 64, 3), mode=\"reflect\")  # 64 x 64 pixels, 3 color channels\n",
    "plt.imshow(smallimage)"
   ]
  },
  {
   "cell_type": "markdown",
   "metadata": {
    "colab_type": "text",
    "id": "K7hCoaRBF5X4"
   },
   "source": [
    "<img src=\"img/question.png\" height=\"80\" width=\"80\" style=\"float: right;\"/>\n",
    "\n",
    "***\n",
    "\n",
    "<font color=#ad3e26>\n",
    "    \n",
    "Perform the following tasks to prepare the data:\n",
    "- Build a numpy array *X_train* containing one entry for each training image in the data. Each entry must contain the 3-dimensional matrix of pixels corresponding to an image. Make sure to scale down each image to a common size\n",
    "- Normalize *X_train* so that pixels follow a distribution lying in the range [0, 1]\n",
    "- Build a corresponding array *Y_train* with the class of each training image (0 for cats and 1 for dogs).\n",
    "- Randomly shuffle the data. Make sure you shuffle both *X_train* and *Y_train* using the same permutation, so you don't lose track of the class of each training pattern.\n",
    "\n",
    "- Repeat the whole procedure again to generate *X_test* and *Y_test* matrices for the test data.\n",
    "</font>\n",
    "\n",
    "***"
   ]
  },
  {
   "cell_type": "markdown",
   "metadata": {
    "colab_type": "text",
    "id": "HBmh4BPeF5X5"
   },
   "source": [
    "<img src=\"img/exclamation.png\" height=\"80\" width=\"80\" style=\"float: right;\"/>\n",
    "\n",
    "***\n",
    "<font color=#2655ad>\n",
    "    \n",
    "- Take advantage of the *glob* package to generate the filename lists for the indoor and outdoor subfolders.\n",
    "- Since you need to repeat the procedure both for training and test data, it would be useful to implement a function that performs all the data loading and transforming steps.\n",
    "\n",
    "</font>\n",
    "\n",
    "***"
   ]
  },
  {
   "cell_type": "code",
   "execution_count": 0,
   "metadata": {
    "colab": {},
    "colab_type": "code",
    "id": "fOu5icjiF5X6"
   },
   "outputs": [],
   "source": [
    "def carga_imagenes(ruta):\n",
    "    archivos=glob.glob(ruta + '/*jpg')\n",
    "    \n",
    "    \"\"\"Categorizamos por perro y gato\"\"\"\n",
    "    categoria=[]\n",
    "    for i in archivos:\n",
    "        if i.split(\"\\\\\")[1].split(\".\")[0]==\"dog\":\n",
    "            categoria.append(1)\n",
    "        else:\n",
    "            categoria.append(0)\n",
    "            \n",
    "    \"\"\"Redimensionamos las imágenes\"\"\"\n",
    "    fotos=[]\n",
    "    for j in archivos:\n",
    "        foto=imread(j)\n",
    "        smallimage=resize(foto, (64,64,3), mode=\"reflect\")\n",
    "        fotos.append(smallimage)\n",
    "        \n",
    "    \"\"\"Creamos X e Y\"\"\"\n",
    "    X=np.array(fotos).reshape(-1,64,64,3)\n",
    "    Y=categoria\n",
    "    \n",
    "    \"\"\"Barajamos los datos\"\"\"\n",
    "    X,Y=shuffle(X,Y)\n",
    "    \n",
    "    return X,Y"
   ]
  },
  {
   "cell_type": "code",
   "execution_count": 0,
   "metadata": {
    "colab": {},
    "colab_type": "code",
    "id": "F3oyAEwUF5X-"
   },
   "outputs": [],
   "source": [
    "ruta_train='C:/Users/Luis/Machine Learning Python/Algoritmos Avanzados/Redes Neuronales/Alba/practice_catsVSdogs/dog_cat_train'\n",
    "ruta_test='C:/Users/Luis/Machine Learning Python/Algoritmos Avanzados/Redes Neuronales/Alba/practice_catsVSdogs/dog_cat_test'"
   ]
  },
  {
   "cell_type": "code",
   "execution_count": 0,
   "metadata": {
    "colab": {},
    "colab_type": "code",
    "id": "OZahCvkcF5YC"
   },
   "outputs": [],
   "source": [
    "X_train, Y_train=carga_imagenes(ruta_train)"
   ]
  },
  {
   "cell_type": "code",
   "execution_count": 0,
   "metadata": {
    "colab": {},
    "colab_type": "code",
    "id": "B4YbnpD7F5YI"
   },
   "outputs": [],
   "source": [
    "X_test, Y_test=carga_imagenes(ruta_test)"
   ]
  },
  {
   "cell_type": "markdown",
   "metadata": {
    "colab_type": "text",
    "id": "JpsczfnzF5YN"
   },
   "source": [
    "If everything has been properly loaded both X_train and Y_train lists should have equal length, and the same should happen for the pair X_test and Y_test."
   ]
  },
  {
   "cell_type": "code",
   "execution_count": 0,
   "metadata": {
    "colab": {},
    "colab_type": "code",
    "id": "7DX7JmMDF5YO",
    "outputId": "adc75b51-f9be-4b85-8656-ba92845c2f89"
   },
   "outputs": [
    {
     "name": "stdout",
     "output_type": "stream",
     "text": [
      "X_train size 20000\n",
      "Y_train size 20000\n",
      "X_test size 5000\n",
      "Y_test size 5000\n"
     ]
    }
   ],
   "source": [
    "print(\"X_train size\", len(X_train))\n",
    "print(\"Y_train size\", len(Y_train))\n",
    "print(\"X_test size\", len(X_test))\n",
    "print(\"Y_test size\", len(Y_test))"
   ]
  },
  {
   "cell_type": "markdown",
   "metadata": {
    "colab_type": "text",
    "id": "BHBrYIqRF5YS"
   },
   "source": [
    "### Creating a backup of the processed data"
   ]
  },
  {
   "cell_type": "markdown",
   "metadata": {
    "colab_type": "text",
    "id": "ThbP_mmzF5YT"
   },
   "source": [
    "Since the data processing above can be slow, we can save time in future sessions by saving the `X_train, Y_train, X_test, Y_test` variables we created above in a numpy format. To do so, run"
   ]
  },
  {
   "cell_type": "code",
   "execution_count": 0,
   "metadata": {
    "colab": {},
    "colab_type": "code",
    "id": "TgsS6F_OF5YU"
   },
   "outputs": [],
   "source": [
    "datafile = \"/content/drive/My Drive/Colab Notebooks/data.npz\"  # The same file you used to save the data\"  # Change here the location for the processed data"
   ]
  },
  {
   "cell_type": "code",
   "execution_count": 0,
   "metadata": {
    "colab": {
     "base_uri": "https://localhost:8080/",
     "height": 197
    },
    "colab_type": "code",
    "id": "HV7GSuHxF5YY",
    "outputId": "a7279327-db35-408e-b5f5-df08154d8420"
   },
   "outputs": [
    {
     "ename": "NameError",
     "evalue": "ignored",
     "output_type": "error",
     "traceback": [
      "\u001b[0;31m---------------------------------------------------------------------------\u001b[0m",
      "\u001b[0;31mNameError\u001b[0m                                 Traceback (most recent call last)",
      "\u001b[0;32m<ipython-input-16-ee38201bf73a>\u001b[0m in \u001b[0;36m<module>\u001b[0;34m()\u001b[0m\n\u001b[1;32m      1\u001b[0m \u001b[0;32mimport\u001b[0m \u001b[0mnumpy\u001b[0m \u001b[0;32mas\u001b[0m \u001b[0mnp\u001b[0m\u001b[0;34m\u001b[0m\u001b[0;34m\u001b[0m\u001b[0m\n\u001b[1;32m      2\u001b[0m \u001b[0;34m\u001b[0m\u001b[0m\n\u001b[0;32m----> 3\u001b[0;31m \u001b[0mnp\u001b[0m\u001b[0;34m.\u001b[0m\u001b[0msavez\u001b[0m\u001b[0;34m(\u001b[0m\u001b[0mdatafile\u001b[0m\u001b[0;34m,\u001b[0m \u001b[0mX_train\u001b[0m\u001b[0;34m=\u001b[0m\u001b[0mX_train\u001b[0m\u001b[0;34m,\u001b[0m \u001b[0mY_train\u001b[0m\u001b[0;34m=\u001b[0m\u001b[0mY_train\u001b[0m\u001b[0;34m,\u001b[0m \u001b[0mX_test\u001b[0m\u001b[0;34m=\u001b[0m\u001b[0mX_test\u001b[0m\u001b[0;34m,\u001b[0m \u001b[0mY_test\u001b[0m\u001b[0;34m=\u001b[0m\u001b[0mY_test\u001b[0m\u001b[0;34m)\u001b[0m\u001b[0;34m\u001b[0m\u001b[0;34m\u001b[0m\u001b[0m\n\u001b[0m",
      "\u001b[0;31mNameError\u001b[0m: name 'X_train' is not defined"
     ]
    }
   ],
   "source": [
    "np.savez(datafile, X_train=X_train, Y_train=Y_train, X_test=X_test, Y_test=Y_test)"
   ]
  },
  {
   "cell_type": "markdown",
   "metadata": {
    "colab_type": "text",
    "id": "FEtZqWjIF5Yb"
   },
   "source": [
    "### Loading processed data from the backup"
   ]
  },
  {
   "cell_type": "code",
   "execution_count": 5,
   "metadata": {
    "colab": {
     "base_uri": "https://localhost:8080/",
     "height": 122
    },
    "colab_type": "code",
    "id": "Uic7RwEreHDr",
    "outputId": "b0f9aed5-c92a-4a82-8374-6efe98d626de"
   },
   "outputs": [
    {
     "name": "stdout",
     "output_type": "stream",
     "text": [
      "Go to this URL in a browser: https://accounts.google.com/o/oauth2/auth?client_id=947318989803-6bn6qk8qdgf4n4g3pfee6491hc0brc4i.apps.googleusercontent.com&redirect_uri=urn%3aietf%3awg%3aoauth%3a2.0%3aoob&response_type=code&scope=email%20https%3a%2f%2fwww.googleapis.com%2fauth%2fdocs.test%20https%3a%2f%2fwww.googleapis.com%2fauth%2fdrive%20https%3a%2f%2fwww.googleapis.com%2fauth%2fdrive.photos.readonly%20https%3a%2f%2fwww.googleapis.com%2fauth%2fpeopleapi.readonly\n",
      "\n",
      "Enter your authorization code:\n",
      "··········\n",
      "Mounted at /content/drive\n"
     ]
    }
   ],
   "source": [
    "from google.colab import drive\n",
    "drive.mount('/content/drive')"
   ]
  },
  {
   "cell_type": "markdown",
   "metadata": {
    "colab_type": "text",
    "id": "Q9uQvCEEF5Yc"
   },
   "source": [
    "Upon restarting this notebook you can load the preprocessed data by running"
   ]
  },
  {
   "cell_type": "code",
   "execution_count": 0,
   "metadata": {
    "colab": {},
    "colab_type": "code",
    "id": "wKISokS3F5Ye"
   },
   "outputs": [],
   "source": [
    "datafile = \"/content/drive/My Drive/Colab Notebooks/data.npz\"  # The same file you used to save the data"
   ]
  },
  {
   "cell_type": "code",
   "execution_count": 0,
   "metadata": {
    "colab": {},
    "colab_type": "code",
    "id": "LcyHeyvVF5Yh"
   },
   "outputs": [],
   "source": [
    "data = np.load(datafile)"
   ]
  },
  {
   "cell_type": "code",
   "execution_count": 0,
   "metadata": {
    "colab": {},
    "colab_type": "code",
    "id": "0crBARhIF5Yl"
   },
   "outputs": [],
   "source": [
    "X_train = data['X_train']\n",
    "X_test = data['X_test']\n",
    "Y_train = data['Y_train']\n",
    "Y_test = data['Y_test']"
   ]
  },
  {
   "cell_type": "markdown",
   "metadata": {
    "colab_type": "text",
    "id": "w6Im41xTF5Yp"
   },
   "source": [
    "#### Note on loading data into Google Colab"
   ]
  },
  {
   "cell_type": "markdown",
   "metadata": {
    "colab_type": "text",
    "id": "VENt8Mt9F5Yr"
   },
   "source": [
    "To load data into a Google Colaboratory you will need to upload the processed data file into your Google Drive account. After that, in the Colab notebook you can run \n",
    "\n",
    "```\n",
    "from google.colab import drive\n",
    "drive.mount('/content/drive')\n",
    "```\n",
    "\n",
    "to connect all the contents in your Google Drive to the folder `/content/drive`. Then you should be able to run the loading cells above to get the data. For example, if you uploaded the data file directly to the home folder in Google Drive, you should be able to access it using the path `/content/drive/My Drive/data.npz`."
   ]
  },
  {
   "cell_type": "markdown",
   "metadata": {
    "colab_type": "text",
    "id": "nYHpCxDsF5Ys"
   },
   "source": [
    "## Basic deep model"
   ]
  },
  {
   "cell_type": "markdown",
   "metadata": {
    "colab_type": "text",
    "id": "ve9ouzzYF5Yt"
   },
   "source": [
    "<img src=\"img/question.png\" height=\"80\" width=\"80\" style=\"float: right;\"/>\n",
    "\n",
    "***\n",
    "<font color=#ad3e26>\n",
    "Create a deep network that achieves at least a 70% of accuracy in the test set. Make use of the layers you seem fit for problem, but you should include at least one layer that makes use of the spatial properties of the images. You cannot use the test data for fitting the network, but you can use it to check the final performance of different network architectures, and select the architecture performing best.</font>\n",
    "\n",
    "***"
   ]
  },
  {
   "cell_type": "markdown",
   "metadata": {
    "colab_type": "text",
    "id": "PklNAQW4F5Yu"
   },
   "source": [
    "<img src=\"img/exclamation.png\" height=\"80\" width=\"80\" style=\"float: right;\"/>\n",
    "\n",
    "***\n",
    "<font color=#2655ad>\n",
    "    \n",
    "If you are unable to attain the required 70% of accuracy, or your accuracy is too close to 100%, review the following checklist:\n",
    "- Have you mixed training and test data?\n",
    "- Have the values of the pixels been normalized?\n",
    "- Have you compiled the model with a loss function appropriate for **binary** classification?\n",
    "- Have you used ReLU units in the hidden layers? Have you used sigmoid or softmax layers in the output layer?\n",
    "\n",
    "***"
   ]
  },
  {
   "cell_type": "code",
   "execution_count": 86,
   "metadata": {
    "colab": {
     "base_uri": "https://localhost:8080/",
     "height": 1000
    },
    "colab_type": "code",
    "id": "StiGX0EWTqlN",
    "outputId": "fb6a2c57-2af7-4cf7-d793-33ea76b8ae66"
   },
   "outputs": [
    {
     "name": "stdout",
     "output_type": "stream",
     "text": [
      "Epoch 1/30\n",
      " - 5s - loss: 0.6958 - acc: 0.6085\n",
      "Epoch 2/30\n",
      " - 3s - loss: 0.5742 - acc: 0.7043\n",
      "Epoch 3/30\n",
      " - 3s - loss: 0.5100 - acc: 0.7522\n",
      "Epoch 4/30\n",
      " - 3s - loss: 0.4569 - acc: 0.7876\n",
      "Epoch 5/30\n",
      " - 3s - loss: 0.4066 - acc: 0.8182\n",
      "Epoch 6/30\n",
      " - 3s - loss: 0.3609 - acc: 0.8446\n",
      "Epoch 7/30\n",
      " - 3s - loss: 0.3201 - acc: 0.8697\n",
      "Epoch 8/30\n",
      " - 3s - loss: 0.2880 - acc: 0.8844\n",
      "Epoch 9/30\n",
      " - 3s - loss: 0.2491 - acc: 0.9055\n",
      "Epoch 10/30\n",
      " - 3s - loss: 0.2253 - acc: 0.9176\n",
      "Epoch 11/30\n",
      " - 3s - loss: 0.1993 - acc: 0.9315\n",
      "Epoch 12/30\n",
      " - 3s - loss: 0.1717 - acc: 0.9459\n",
      "Epoch 13/30\n",
      " - 3s - loss: 0.1481 - acc: 0.9564\n",
      "Epoch 14/30\n",
      " - 3s - loss: 0.1300 - acc: 0.9646\n",
      "Epoch 15/30\n",
      " - 3s - loss: 0.1116 - acc: 0.9726\n",
      "Epoch 16/30\n",
      " - 3s - loss: 0.0960 - acc: 0.9805\n",
      "Epoch 17/30\n",
      " - 3s - loss: 0.0828 - acc: 0.9843\n",
      "Epoch 18/30\n",
      " - 3s - loss: 0.0707 - acc: 0.9886\n",
      "Epoch 19/30\n",
      " - 3s - loss: 0.0617 - acc: 0.9920\n",
      "Epoch 20/30\n",
      " - 3s - loss: 0.0517 - acc: 0.9946\n",
      "Epoch 21/30\n",
      " - 4s - loss: 0.0445 - acc: 0.9956\n",
      "Epoch 22/30\n",
      " - 4s - loss: 0.0368 - acc: 0.9973\n",
      "Epoch 23/30\n",
      " - 3s - loss: 0.0294 - acc: 0.9986\n",
      "Epoch 24/30\n",
      " - 3s - loss: 0.0256 - acc: 0.9992\n",
      "Epoch 25/30\n",
      " - 3s - loss: 0.0209 - acc: 0.9994\n",
      "Epoch 26/30\n",
      " - 4s - loss: 0.0178 - acc: 0.9996\n",
      "Epoch 27/30\n",
      " - 4s - loss: 0.0147 - acc: 0.9997\n",
      "Epoch 28/30\n",
      " - 4s - loss: 0.0127 - acc: 0.9999\n",
      "Epoch 29/30\n",
      " - 4s - loss: 0.0120 - acc: 0.9998\n",
      "Epoch 30/30\n",
      " - 4s - loss: 0.0094 - acc: 1.0000\n"
     ]
    },
    {
     "data": {
      "text/plain": [
       "<keras.callbacks.History at 0x7f0a9ae64fd0>"
      ]
     },
     "execution_count": 86,
     "metadata": {
      "tags": []
     },
     "output_type": "execute_result"
    }
   ],
   "source": [
    "model_conv_0 = Sequential()\n",
    "model_conv_0.add(Conv2D (filters=40, kernel_size=(4,4), padding='valid', input_shape=(64, 64, 3)))\n",
    "model_conv_0.add(Activation('relu'))\n",
    "model_conv_0.add(Flatten())\n",
    "model_conv_0.add(Dense(1))\n",
    "model_conv_0.add(Activation('sigmoid'))\n",
    "model_conv_0.compile(loss='binary_crossentropy', optimizer='adam', metrics=['accuracy'])\n",
    "model_conv_0.fit(X_train,\n",
    "          Y_train,\n",
    "          batch_size=80,\n",
    "          epochs=30,\n",
    "          verbose=2)"
   ]
  },
  {
   "cell_type": "code",
   "execution_count": 87,
   "metadata": {
    "colab": {
     "base_uri": "https://localhost:8080/",
     "height": 68
    },
    "colab_type": "code",
    "id": "V6NSFe9RTqZA",
    "outputId": "cd46f770-de13-4248-b2a4-3ad85a78e6a8"
   },
   "outputs": [
    {
     "name": "stdout",
     "output_type": "stream",
     "text": [
      "5000/5000 [==============================] - 1s 271us/step\n",
      "Test loss 1.2585531171798705\n",
      "Test accuracy 0.7234\n"
     ]
    }
   ],
   "source": [
    "score_test_0 = model_conv_0.evaluate(X_test, Y_test)\n",
    "print(\"Test loss\", score_test_0[0])\n",
    "print(\"Test accuracy\", score_test_0[1])"
   ]
  },
  {
   "cell_type": "code",
   "execution_count": 88,
   "metadata": {
    "colab": {
     "base_uri": "https://localhost:8080/",
     "height": 68
    },
    "colab_type": "code",
    "id": "T2OFypqpYND2",
    "outputId": "1fd8bcdf-5a0f-4bf9-c2d2-de39aa03c4bf"
   },
   "outputs": [
    {
     "name": "stdout",
     "output_type": "stream",
     "text": [
      "20000/20000 [==============================] - 3s 140us/step\n",
      "Train loss 0.006488931073993444\n",
      "Train accuracy 1.0\n"
     ]
    }
   ],
   "source": [
    "score_train_0 = model_conv_0.evaluate(X_train, Y_train)\n",
    "print(\"Train loss\", score_train_0[0])\n",
    "print(\"Train accuracy\", score_train_0[1])"
   ]
  },
  {
   "cell_type": "code",
   "execution_count": 89,
   "metadata": {
    "colab": {
     "base_uri": "https://localhost:8080/",
     "height": 544
    },
    "colab_type": "code",
    "id": "F2JKR6vcbyM_",
    "outputId": "e398f5f1-4969-4c02-d0d5-b716fb458333"
   },
   "outputs": [
    {
     "name": "stdout",
     "output_type": "stream",
     "text": [
      "Epoch 1/15\n",
      " - 7s - loss: 0.6851 - acc: 0.6179\n",
      "Epoch 2/15\n",
      " - 5s - loss: 0.5864 - acc: 0.6906\n",
      "Epoch 3/15\n",
      " - 5s - loss: 0.5398 - acc: 0.7296\n",
      "Epoch 4/15\n",
      " - 5s - loss: 0.5056 - acc: 0.7539\n",
      "Epoch 5/15\n",
      " - 5s - loss: 0.4667 - acc: 0.7794\n",
      "Epoch 6/15\n",
      " - 5s - loss: 0.4482 - acc: 0.7895\n",
      "Epoch 7/15\n",
      " - 5s - loss: 0.4272 - acc: 0.8030\n",
      "Epoch 8/15\n",
      " - 5s - loss: 0.3977 - acc: 0.8210\n",
      "Epoch 9/15\n",
      " - 5s - loss: 0.3697 - acc: 0.8353\n",
      "Epoch 10/15\n",
      " - 5s - loss: 0.3435 - acc: 0.8543\n",
      "Epoch 11/15\n",
      " - 5s - loss: 0.3225 - acc: 0.8616\n",
      "Epoch 12/15\n",
      " - 5s - loss: 0.2990 - acc: 0.8758\n",
      "Epoch 13/15\n",
      " - 5s - loss: 0.2776 - acc: 0.8834\n",
      "Epoch 14/15\n",
      " - 5s - loss: 0.2637 - acc: 0.8920\n",
      "Epoch 15/15\n",
      " - 5s - loss: 0.2418 - acc: 0.9037\n"
     ]
    },
    {
     "data": {
      "text/plain": [
       "<keras.callbacks.History at 0x7f0a9ad048d0>"
      ]
     },
     "execution_count": 89,
     "metadata": {
      "tags": []
     },
     "output_type": "execute_result"
    }
   ],
   "source": [
    "model_conv_1 = Sequential()\n",
    "model_conv_1.add(Conv2D (filters=40, kernel_size=(4,4), padding='valid', input_shape=(64, 64, 3)))\n",
    "model_conv_1.add(Activation('relu'))\n",
    "model_conv_1.add(Flatten())\n",
    "model_conv_1.add(Dropout(0.4))\n",
    "model_conv_1.add(Dense(1))\n",
    "model_conv_1.add(Activation('sigmoid'))\n",
    "model_conv_1.compile(loss='binary_crossentropy', optimizer='adam', metrics=['accuracy'])\n",
    "model_conv_1.fit(X_train,\n",
    "          Y_train,\n",
    "          batch_size=80,\n",
    "          epochs=15,\n",
    "          verbose=2)"
   ]
  },
  {
   "cell_type": "code",
   "execution_count": 90,
   "metadata": {
    "colab": {
     "base_uri": "https://localhost:8080/",
     "height": 68
    },
    "colab_type": "code",
    "id": "8bo5hcAvcVTi",
    "outputId": "3314d39d-869f-4894-ba97-99b266f3f435"
   },
   "outputs": [
    {
     "name": "stdout",
     "output_type": "stream",
     "text": [
      "5000/5000 [==============================] - 1s 278us/step\n",
      "Test loss 0.6358783464431763\n",
      "Test accuracy 0.7334\n"
     ]
    }
   ],
   "source": [
    "score_test_1 = model_conv_1.evaluate(X_test, Y_test)\n",
    "print(\"Test loss\", score_test_1[0])\n",
    "print(\"Test accuracy\", score_test_1[1])"
   ]
  },
  {
   "cell_type": "code",
   "execution_count": 91,
   "metadata": {
    "colab": {
     "base_uri": "https://localhost:8080/",
     "height": 68
    },
    "colab_type": "code",
    "id": "-1YIxrdXcVDf",
    "outputId": "729d60ad-e978-4bc7-ad29-073a87deafa6"
   },
   "outputs": [
    {
     "name": "stdout",
     "output_type": "stream",
     "text": [
      "20000/20000 [==============================] - 3s 138us/step\n",
      "Train loss 0.17492043137550353\n",
      "Train accuracy 0.9524\n"
     ]
    }
   ],
   "source": [
    "score_train_1 = model_conv_1.evaluate(X_train, Y_train)\n",
    "print(\"Train loss\", score_train_1[0])\n",
    "print(\"Train accuracy\", score_train_1[1])"
   ]
  },
  {
   "cell_type": "code",
   "execution_count": 93,
   "metadata": {
    "colab": {
     "base_uri": "https://localhost:8080/",
     "height": 544
    },
    "colab_type": "code",
    "id": "b-Lrqp4EXFuy",
    "outputId": "0340c4d0-43b1-4f6b-e49f-849be87dddb5"
   },
   "outputs": [
    {
     "name": "stdout",
     "output_type": "stream",
     "text": [
      "Epoch 1/15\n",
      " - 5s - loss: 0.6165 - acc: 0.6524\n",
      "Epoch 2/15\n",
      " - 3s - loss: 0.5283 - acc: 0.7398\n",
      "Epoch 3/15\n",
      " - 3s - loss: 0.4945 - acc: 0.7648\n",
      "Epoch 4/15\n",
      " - 3s - loss: 0.4772 - acc: 0.7728\n",
      "Epoch 5/15\n",
      " - 3s - loss: 0.4578 - acc: 0.7872\n",
      "Epoch 6/15\n",
      " - 3s - loss: 0.4536 - acc: 0.7910\n",
      "Epoch 7/15\n",
      " - 3s - loss: 0.4357 - acc: 0.7996\n",
      "Epoch 8/15\n",
      " - 3s - loss: 0.4286 - acc: 0.8039\n",
      "Epoch 9/15\n",
      " - 3s - loss: 0.4152 - acc: 0.8121\n",
      "Epoch 10/15\n",
      " - 3s - loss: 0.4075 - acc: 0.8168\n",
      "Epoch 11/15\n",
      " - 3s - loss: 0.3972 - acc: 0.8204\n",
      "Epoch 12/15\n",
      " - 3s - loss: 0.3871 - acc: 0.8277\n",
      "Epoch 13/15\n",
      " - 3s - loss: 0.3826 - acc: 0.8284\n",
      "Epoch 14/15\n",
      " - 3s - loss: 0.3703 - acc: 0.8371\n",
      "Epoch 15/15\n",
      " - 3s - loss: 0.3653 - acc: 0.8399\n"
     ]
    },
    {
     "data": {
      "text/plain": [
       "<keras.callbacks.History at 0x7f0a9bc35710>"
      ]
     },
     "execution_count": 93,
     "metadata": {
      "tags": []
     },
     "output_type": "execute_result"
    }
   ],
   "source": [
    "model_conv_2 = Sequential()\n",
    "model_conv_2.add(Conv2D (filters=40, kernel_size=(4,4), padding='valid', input_shape=(64, 64, 3)))\n",
    "model_conv_2.add(MaxPooling2D(pool_size=(3,3)))\n",
    "model_conv_2.add(Activation('relu'))\n",
    "model_conv_2.add(Flatten())\n",
    "model_conv_1.add(Dropout(0.4))\n",
    "model_conv_2.add(Dense(1))\n",
    "model_conv_2.add(Activation('sigmoid'))\n",
    "model_conv_2.compile(loss='binary_crossentropy', optimizer='adam', metrics=['accuracy'])\n",
    "model_conv_2.fit(X_train,\n",
    "          Y_train,\n",
    "          batch_size=80,\n",
    "          epochs=15,\n",
    "          verbose=2)"
   ]
  },
  {
   "cell_type": "code",
   "execution_count": 94,
   "metadata": {
    "colab": {
     "base_uri": "https://localhost:8080/",
     "height": 68
    },
    "colab_type": "code",
    "id": "B1wyoAisXFK1",
    "outputId": "27cc8837-4513-4c91-cb1c-65afee5a4787"
   },
   "outputs": [
    {
     "name": "stdout",
     "output_type": "stream",
     "text": [
      "5000/5000 [==============================] - 1s 269us/step\n",
      "Test loss 0.47589314002990724\n",
      "Test accuracy 0.7836\n"
     ]
    }
   ],
   "source": [
    "score_test_2= model_conv_2.evaluate(X_test, Y_test)\n",
    "print(\"Test loss\", score_test_2[0])\n",
    "print(\"Test accuracy\", score_test_2[1])"
   ]
  },
  {
   "cell_type": "code",
   "execution_count": 95,
   "metadata": {
    "colab": {
     "base_uri": "https://localhost:8080/",
     "height": 68
    },
    "colab_type": "code",
    "id": "CAKX1XuaaVz0",
    "outputId": "e96c5ceb-f52b-4247-b851-274927ccf423"
   },
   "outputs": [
    {
     "name": "stdout",
     "output_type": "stream",
     "text": [
      "20000/20000 [==============================] - 2s 118us/step\n",
      "Train loss 0.334742221736908\n",
      "Train accuracy 0.85815\n"
     ]
    }
   ],
   "source": [
    "score_train_2= model_conv_2.evaluate(X_train, Y_train)\n",
    "print(\"Train loss\", score_train_2[0])\n",
    "print(\"Train accuracy\", score_train_2[1])"
   ]
  },
  {
   "cell_type": "code",
   "execution_count": 124,
   "metadata": {
    "colab": {
     "base_uri": "https://localhost:8080/",
     "height": 1000
    },
    "colab_type": "code",
    "id": "08SAmzRmDxst",
    "outputId": "1caaec2b-537d-41ff-9418-31af253854e7"
   },
   "outputs": [
    {
     "name": "stdout",
     "output_type": "stream",
     "text": [
      "Epoch 1/50\n",
      " - 6s - loss: 0.6195 - acc: 0.6506\n",
      "Epoch 2/50\n",
      " - 4s - loss: 0.5340 - acc: 0.7338\n",
      "Epoch 3/50\n",
      " - 4s - loss: 0.5088 - acc: 0.7520\n",
      "Epoch 4/50\n",
      " - 4s - loss: 0.4883 - acc: 0.7646\n",
      "Epoch 5/50\n",
      " - 4s - loss: 0.4765 - acc: 0.7745\n",
      "Epoch 6/50\n",
      " - 4s - loss: 0.4643 - acc: 0.7772\n",
      "Epoch 7/50\n",
      " - 4s - loss: 0.4567 - acc: 0.7874\n",
      "Epoch 8/50\n",
      " - 4s - loss: 0.4470 - acc: 0.7931\n",
      "Epoch 9/50\n",
      " - 4s - loss: 0.4376 - acc: 0.7970\n",
      "Epoch 10/50\n",
      " - 4s - loss: 0.4298 - acc: 0.8008\n",
      "Epoch 11/50\n",
      " - 4s - loss: 0.4249 - acc: 0.8057\n",
      "Epoch 12/50\n",
      " - 4s - loss: 0.4171 - acc: 0.8098\n",
      "Epoch 13/50\n",
      " - 4s - loss: 0.4128 - acc: 0.8143\n",
      "Epoch 14/50\n",
      " - 4s - loss: 0.4092 - acc: 0.8143\n",
      "Epoch 15/50\n",
      " - 4s - loss: 0.4036 - acc: 0.8174\n",
      "Epoch 16/50\n",
      " - 4s - loss: 0.3978 - acc: 0.8206\n",
      "Epoch 17/50\n",
      " - 4s - loss: 0.3916 - acc: 0.8230\n",
      "Epoch 18/50\n",
      " - 4s - loss: 0.3949 - acc: 0.8197\n",
      "Epoch 19/50\n",
      " - 4s - loss: 0.3876 - acc: 0.8270\n",
      "Epoch 20/50\n",
      " - 4s - loss: 0.3890 - acc: 0.8298\n",
      "Epoch 21/50\n",
      " - 4s - loss: 0.3796 - acc: 0.8306\n",
      "Epoch 22/50\n",
      " - 4s - loss: 0.3724 - acc: 0.8347\n",
      "Epoch 23/50\n",
      " - 4s - loss: 0.3712 - acc: 0.8338\n",
      "Epoch 24/50\n",
      " - 4s - loss: 0.3762 - acc: 0.8340\n",
      "Epoch 25/50\n",
      " - 4s - loss: 0.3631 - acc: 0.8407\n",
      "Epoch 26/50\n",
      " - 4s - loss: 0.3606 - acc: 0.8408\n",
      "Epoch 27/50\n",
      " - 4s - loss: 0.3629 - acc: 0.8410\n",
      "Epoch 28/50\n",
      " - 4s - loss: 0.3599 - acc: 0.8428\n",
      "Epoch 29/50\n",
      " - 4s - loss: 0.3552 - acc: 0.8428\n",
      "Epoch 30/50\n",
      " - 4s - loss: 0.3514 - acc: 0.8457\n",
      "Epoch 31/50\n",
      " - 4s - loss: 0.3539 - acc: 0.8465\n",
      "Epoch 32/50\n",
      " - 4s - loss: 0.3500 - acc: 0.8453\n",
      "Epoch 33/50\n",
      " - 4s - loss: 0.3486 - acc: 0.8479\n",
      "Epoch 34/50\n",
      " - 4s - loss: 0.3473 - acc: 0.8477\n",
      "Epoch 35/50\n",
      " - 4s - loss: 0.3491 - acc: 0.8477\n",
      "Epoch 36/50\n",
      " - 4s - loss: 0.3385 - acc: 0.8517\n",
      "Epoch 37/50\n",
      " - 4s - loss: 0.3373 - acc: 0.8490\n",
      "Epoch 38/50\n",
      " - 4s - loss: 0.3401 - acc: 0.8530\n",
      "Epoch 39/50\n",
      " - 4s - loss: 0.3389 - acc: 0.8515\n",
      "Epoch 40/50\n",
      " - 4s - loss: 0.3385 - acc: 0.8552\n",
      "Epoch 41/50\n",
      " - 4s - loss: 0.3399 - acc: 0.8517\n",
      "Epoch 42/50\n",
      " - 4s - loss: 0.3380 - acc: 0.8524\n",
      "Epoch 43/50\n",
      " - 4s - loss: 0.3308 - acc: 0.8539\n",
      "Epoch 44/50\n",
      " - 4s - loss: 0.3331 - acc: 0.8554\n",
      "Epoch 45/50\n",
      " - 4s - loss: 0.3338 - acc: 0.8554\n",
      "Epoch 46/50\n",
      " - 4s - loss: 0.3337 - acc: 0.8530\n",
      "Epoch 47/50\n",
      " - 4s - loss: 0.3312 - acc: 0.8590\n",
      "Epoch 48/50\n",
      " - 4s - loss: 0.3289 - acc: 0.8573\n",
      "Epoch 49/50\n",
      " - 4s - loss: 0.3317 - acc: 0.8574\n",
      "Epoch 50/50\n",
      " - 4s - loss: 0.3252 - acc: 0.8602\n"
     ]
    },
    {
     "data": {
      "text/plain": [
       "<keras.callbacks.History at 0x7f0a99c61e10>"
      ]
     },
     "execution_count": 124,
     "metadata": {
      "tags": []
     },
     "output_type": "execute_result"
    }
   ],
   "source": [
    "model_conv_2_1 = Sequential()\n",
    "model_conv_2_1.add(Conv2D (filters=40, kernel_size=(4,4), padding='valid', input_shape=(64, 64, 3)))\n",
    "model_conv_2_1.add(MaxPooling2D(pool_size=(3,3)))\n",
    "model_conv_2_1.add(Activation('relu'))\n",
    "model_conv_2_1.add(Flatten())\n",
    "model_conv_2_1.add(Dropout(0.4))\n",
    "model_conv_2_1.add(Dense(1))\n",
    "model_conv_2_1.add(Activation('sigmoid'))\n",
    "model_conv_2_1.compile(loss='binary_crossentropy', optimizer='adam', metrics=['accuracy'])\n",
    "model_conv_2_1.fit(X_train,\n",
    "          Y_train,\n",
    "          batch_size=40,\n",
    "          epochs=50,\n",
    "          verbose=2)"
   ]
  },
  {
   "cell_type": "code",
   "execution_count": 125,
   "metadata": {
    "colab": {
     "base_uri": "https://localhost:8080/",
     "height": 68
    },
    "colab_type": "code",
    "id": "umE_4rRQDxjP",
    "outputId": "8924d32e-e4b3-4f63-ca7e-395b41ece3be"
   },
   "outputs": [
    {
     "name": "stdout",
     "output_type": "stream",
     "text": [
      "5000/5000 [==============================] - 2s 323us/step\n",
      "Test loss 0.508703568816185\n",
      "Test accuracy 0.788\n"
     ]
    }
   ],
   "source": [
    "score_test_2_1= model_conv_2_1.evaluate(X_test, Y_test)\n",
    "print(\"Test loss\", score_test_2_1[0])\n",
    "print(\"Test accuracy\", score_test_2_1[1])"
   ]
  },
  {
   "cell_type": "code",
   "execution_count": 126,
   "metadata": {
    "colab": {
     "base_uri": "https://localhost:8080/",
     "height": 68
    },
    "colab_type": "code",
    "id": "UbJxAp9eDxYb",
    "outputId": "e6186f0f-1341-4d9c-9c22-f0c83e9835fe"
   },
   "outputs": [
    {
     "name": "stdout",
     "output_type": "stream",
     "text": [
      "20000/20000 [==============================] - 3s 126us/step\n",
      "Train loss 0.23330094754695893\n",
      "Train accuracy 0.911\n"
     ]
    }
   ],
   "source": [
    "score_train_2_1= model_conv_2_1.evaluate(X_train, Y_train)\n",
    "print(\"Train loss\", score_train_2_1[0])\n",
    "print(\"Train accuracy\", score_train_2_1[1])"
   ]
  },
  {
   "cell_type": "code",
   "execution_count": 121,
   "metadata": {
    "colab": {
     "base_uri": "https://localhost:8080/",
     "height": 1000
    },
    "colab_type": "code",
    "id": "9LxEYis-JtBu",
    "outputId": "db7e49f2-dc87-4227-da53-934ec74860be"
   },
   "outputs": [
    {
     "name": "stdout",
     "output_type": "stream",
     "text": [
      "Epoch 1/50\n",
      " - 5s - loss: 0.6999 - acc: 0.5426\n",
      "Epoch 2/50\n",
      " - 3s - loss: 0.6371 - acc: 0.6478\n",
      "Epoch 3/50\n",
      " - 3s - loss: 0.5951 - acc: 0.6834\n",
      "Epoch 4/50\n",
      " - 3s - loss: 0.5661 - acc: 0.7141\n",
      "Epoch 5/50\n",
      " - 3s - loss: 0.5488 - acc: 0.7231\n",
      "Epoch 6/50\n",
      " - 3s - loss: 0.5396 - acc: 0.7345\n",
      "Epoch 7/50\n",
      " - 3s - loss: 0.5196 - acc: 0.7469\n",
      "Epoch 8/50\n",
      " - 3s - loss: 0.5080 - acc: 0.7559\n",
      "Epoch 9/50\n",
      " - 3s - loss: 0.5002 - acc: 0.7590\n",
      "Epoch 10/50\n",
      " - 3s - loss: 0.4912 - acc: 0.7667\n",
      "Epoch 11/50\n",
      " - 3s - loss: 0.4848 - acc: 0.7699\n",
      "Epoch 12/50\n",
      " - 3s - loss: 0.4783 - acc: 0.7732\n",
      "Epoch 13/50\n",
      " - 3s - loss: 0.4748 - acc: 0.7769\n",
      "Epoch 14/50\n",
      " - 3s - loss: 0.4710 - acc: 0.7775\n",
      "Epoch 15/50\n",
      " - 3s - loss: 0.4631 - acc: 0.7848\n",
      "Epoch 16/50\n",
      " - 3s - loss: 0.4593 - acc: 0.7864\n",
      "Epoch 17/50\n",
      " - 3s - loss: 0.4564 - acc: 0.7870\n",
      "Epoch 18/50\n",
      " - 3s - loss: 0.4541 - acc: 0.7857\n",
      "Epoch 19/50\n",
      " - 3s - loss: 0.4513 - acc: 0.7886\n",
      "Epoch 20/50\n",
      " - 3s - loss: 0.4574 - acc: 0.7850\n",
      "Epoch 21/50\n",
      " - 3s - loss: 0.4455 - acc: 0.7925\n",
      "Epoch 22/50\n",
      " - 3s - loss: 0.4465 - acc: 0.7930\n",
      "Epoch 23/50\n",
      " - 3s - loss: 0.4415 - acc: 0.7965\n",
      "Epoch 24/50\n",
      " - 3s - loss: 0.4400 - acc: 0.7961\n",
      "Epoch 25/50\n",
      " - 3s - loss: 0.4371 - acc: 0.8022\n",
      "Epoch 26/50\n",
      " - 3s - loss: 0.4319 - acc: 0.8015\n",
      "Epoch 27/50\n",
      " - 3s - loss: 0.4364 - acc: 0.7971\n",
      "Epoch 28/50\n",
      " - 3s - loss: 0.4320 - acc: 0.7990\n",
      "Epoch 29/50\n",
      " - 3s - loss: 0.4308 - acc: 0.8017\n",
      "Epoch 30/50\n",
      " - 3s - loss: 0.4266 - acc: 0.8042\n",
      "Epoch 31/50\n",
      " - 3s - loss: 0.4246 - acc: 0.8042\n",
      "Epoch 32/50\n",
      " - 3s - loss: 0.4217 - acc: 0.8072\n",
      "Epoch 33/50\n",
      " - 2s - loss: 0.4174 - acc: 0.8091\n",
      "Epoch 34/50\n",
      " - 3s - loss: 0.4191 - acc: 0.8072\n",
      "Epoch 35/50\n",
      " - 3s - loss: 0.4173 - acc: 0.8094\n",
      "Epoch 36/50\n",
      " - 3s - loss: 0.4128 - acc: 0.8112\n",
      "Epoch 37/50\n",
      " - 3s - loss: 0.4205 - acc: 0.8077\n",
      "Epoch 38/50\n",
      " - 3s - loss: 0.4168 - acc: 0.8073\n",
      "Epoch 39/50\n",
      " - 3s - loss: 0.4091 - acc: 0.8144\n",
      "Epoch 40/50\n",
      " - 3s - loss: 0.4068 - acc: 0.8181\n",
      "Epoch 41/50\n",
      " - 3s - loss: 0.4109 - acc: 0.8133\n",
      "Epoch 42/50\n",
      " - 3s - loss: 0.4071 - acc: 0.8142\n",
      "Epoch 43/50\n",
      " - 3s - loss: 0.4050 - acc: 0.8138\n",
      "Epoch 44/50\n",
      " - 3s - loss: 0.4012 - acc: 0.8190\n",
      "Epoch 45/50\n",
      " - 3s - loss: 0.3985 - acc: 0.8194\n",
      "Epoch 46/50\n",
      " - 3s - loss: 0.3990 - acc: 0.8193\n",
      "Epoch 47/50\n",
      " - 3s - loss: 0.3967 - acc: 0.8220\n",
      "Epoch 48/50\n",
      " - 3s - loss: 0.3977 - acc: 0.8219\n",
      "Epoch 49/50\n",
      " - 3s - loss: 0.4003 - acc: 0.8177\n",
      "Epoch 50/50\n",
      " - 3s - loss: 0.3946 - acc: 0.8234\n"
     ]
    },
    {
     "data": {
      "text/plain": [
       "<keras.callbacks.History at 0x7f0a99d84e10>"
      ]
     },
     "execution_count": 121,
     "metadata": {
      "tags": []
     },
     "output_type": "execute_result"
    }
   ],
   "source": [
    "model_conv_2_2 = Sequential()\n",
    "model_conv_2_2.add(Conv2D (filters=40, kernel_size=(4,4), padding='valid', input_shape=(64, 64, 3)))\n",
    "model_conv_2_2.add(MaxPooling2D(pool_size=(3,3)))\n",
    "model_conv_2_2.add(Activation('relu'))\n",
    "model_conv_2_2.add(Flatten())\n",
    "model_conv_2_2.add(Dropout(0.4))\n",
    "model_conv_2_2.add(Dense(1))\n",
    "model_conv_2_2.add(Activation('sigmoid'))\n",
    "model_conv_2_2.compile(loss='binary_crossentropy', optimizer='adam', metrics=['accuracy'])\n",
    "model_conv_2_2.fit(X_train,\n",
    "          Y_train,\n",
    "          batch_size=500,\n",
    "          epochs=50,\n",
    "          verbose=2)"
   ]
  },
  {
   "cell_type": "code",
   "execution_count": 122,
   "metadata": {
    "colab": {
     "base_uri": "https://localhost:8080/",
     "height": 68
    },
    "colab_type": "code",
    "id": "9XTodkjWJsFZ",
    "outputId": "64785350-b92f-43f4-bf63-39d81246b350"
   },
   "outputs": [
    {
     "name": "stdout",
     "output_type": "stream",
     "text": [
      "5000/5000 [==============================] - 2s 322us/step\n",
      "Test loss 0.4571601342201233\n",
      "Test accuracy 0.7878\n"
     ]
    }
   ],
   "source": [
    "score_test_2_2= model_conv_2_2.evaluate(X_test, Y_test)\n",
    "print(\"Test loss\", score_test_2_2[0])\n",
    "print(\"Test accuracy\", score_test_2_2[1])"
   ]
  },
  {
   "cell_type": "code",
   "execution_count": 123,
   "metadata": {
    "colab": {
     "base_uri": "https://localhost:8080/",
     "height": 68
    },
    "colab_type": "code",
    "id": "B5zjmsWFJsCa",
    "outputId": "cecfe81c-347e-45eb-d952-5b7d07f57647"
   },
   "outputs": [
    {
     "name": "stdout",
     "output_type": "stream",
     "text": [
      "20000/20000 [==============================] - 2s 123us/step\n",
      "Train loss 0.36385174827575684\n",
      "Train accuracy 0.84335\n"
     ]
    }
   ],
   "source": [
    "score_train_2_2= model_conv_2_2.evaluate(X_train, Y_train)\n",
    "print(\"Train loss\", score_train_2_2[0])\n",
    "print(\"Train accuracy\", score_train_2_2[1])"
   ]
  },
  {
   "cell_type": "markdown",
   "metadata": {
    "colab_type": "text",
    "id": "K_wNfTZ5Nl_x"
   },
   "source": [
    "No hemos conseguido mejorar en exceso el accuracy, aún así, el mejor modelo es model_conv_2_1."
   ]
  },
  {
   "cell_type": "markdown",
   "metadata": {
    "colab_type": "text",
    "id": "Jc51LxwXF5Yy"
   },
   "source": [
    "## Improving the network"
   ]
  },
  {
   "cell_type": "markdown",
   "metadata": {
    "colab_type": "text",
    "id": "pDlQ0c_dF5Y0"
   },
   "source": [
    "<img src=\"img/pro.png\" height=\"80\" width=\"80\" style=\"float: right;\"/>\n",
    "\n",
    "***\n",
    "\n",
    "<font color=#259b4c>\n",
    "    \n",
    "You can further improve your results by applying one or more of the following strategies:\n",
    "- Keep apart a portion of the training data as a **validation set**. Then use an <a href=\"https://keras.io/callbacks/#earlystopping\">**EarlyStopping strategy**</a> to monitor the loss of these validation data, and stop when training when after a number of iterations such loss has not decreased.\n",
    "- Use **image augmentation techniques** to artifically create new training images. To do so, you can make use of <a href=\"https://keras.io/preprocessing/image/\">ImageDataGenerator</a> in Keras.\n",
    "- Make use of a pre-trained large network, building your network on top of it. You can find some examples in the [Keras Applications](https://keras.io/applications/) page. Be careful when freezing pre-trained networks that include [BatchNormalization layers](http://blog.datumbox.com/the-batch-normalization-layer-of-keras-is-broken/), such as ResNet.\n",
    "- Make use of **metamodelling techniques** to select the best architecture parameters for the networks. You can use scikit-learn methods GridSearchCV or RandomSearchCV. You can do those by using the <a href=\"https://keras.io/scikit-learn-api/\">KerasClassifier</a> wrapper. Even better, you can mix KerasClassifier with an advanced search method such as [BayesSearch](https://scikit-optimize.github.io/#skopt.BayesSearchCV), included in the [scikit-optimize](https://scikit-optimize.github.io/) library. If you get memory problems try to free GPU memory before building each network by [clearing the tensorflow session](https://stackoverflow.com/questions/50895110/what-do-i-need-k-clear-session-and-del-model-for-keras-with-tensorflow-gpu).\n",
    "\n",
    "If you correctly use these techniques you should be able to improve your model. With some effort it is possible to up to a 90% test accuracy. Try to do your best!</font>\n",
    "\n",
    "***"
   ]
  },
  {
   "cell_type": "markdown",
   "metadata": {
    "colab_type": "text",
    "id": "jIRS7IE3lC1R"
   },
   "source": [
    "Vamos a probar separando de nuestro conjunto de train una pequeña parte para hacer validación. Usaremos el mejor modelo conseguido anteriormente, para tratar de mejorar los resultados.\n",
    "El reparto final es: 80% (85% train y 15% validación) y 20% test."
   ]
  },
  {
   "cell_type": "code",
   "execution_count": 135,
   "metadata": {
    "colab": {
     "base_uri": "https://localhost:8080/",
     "height": 646
    },
    "colab_type": "code",
    "id": "izvHSeR0F5Y1",
    "outputId": "fa47b51e-a0ab-4e88-a7b1-e050b3aa1278"
   },
   "outputs": [
    {
     "name": "stdout",
     "output_type": "stream",
     "text": [
      "Train on 17000 samples, validate on 3000 samples\n",
      "Epoch 1/100\n",
      " - 6s - loss: 0.6377 - acc: 0.6347\n",
      "Epoch 2/100\n",
      " - 3s - loss: 0.5684 - acc: 0.7078\n",
      "Epoch 3/100\n",
      " - 4s - loss: 0.5395 - acc: 0.7300 - val_loss: 0.5398 - val_acc: 0.7373\n",
      "Epoch 4/100\n",
      " - 3s - loss: 0.5203 - acc: 0.7448\n",
      "Epoch 5/100\n",
      " - 3s - loss: 0.5015 - acc: 0.7578\n",
      "Epoch 6/100\n",
      " - 4s - loss: 0.4809 - acc: 0.7682 - val_loss: 0.5239 - val_acc: 0.7443\n",
      "Epoch 7/100\n",
      " - 3s - loss: 0.4731 - acc: 0.7706\n",
      "Epoch 8/100\n",
      " - 3s - loss: 0.4702 - acc: 0.7812\n",
      "Epoch 9/100\n",
      " - 4s - loss: 0.4563 - acc: 0.7855 - val_loss: 0.5012 - val_acc: 0.7593\n",
      "Epoch 10/100\n",
      " - 3s - loss: 0.4490 - acc: 0.7909\n",
      "Epoch 11/100\n",
      " - 3s - loss: 0.4429 - acc: 0.7926\n",
      "Epoch 12/100\n",
      " - 4s - loss: 0.4373 - acc: 0.7958 - val_loss: 0.5038 - val_acc: 0.7633\n",
      "Epoch 13/100\n",
      " - 3s - loss: 0.4322 - acc: 0.7985\n",
      "Epoch 14/100\n",
      " - 3s - loss: 0.4268 - acc: 0.8010\n",
      "Epoch 15/100\n",
      " - 4s - loss: 0.4104 - acc: 0.8092 - val_loss: 0.5021 - val_acc: 0.7663\n",
      "Epoch 16/100\n",
      " - 3s - loss: 0.4081 - acc: 0.8146\n",
      "Epoch 17/100\n",
      " - 3s - loss: 0.4107 - acc: 0.8136\n",
      "Epoch 00017: early stopping\n"
     ]
    },
    {
     "data": {
      "text/plain": [
       "<keras.callbacks.History at 0x7f0a995c29b0>"
      ]
     },
     "execution_count": 135,
     "metadata": {
      "tags": []
     },
     "output_type": "execute_result"
    }
   ],
   "source": [
    "es = EarlyStopping(monitor='loss', mode='auto', verbose=1)\n",
    "model_conv_3_val = Sequential()\n",
    "model_conv_3_val.add(Conv2D (filters=40, kernel_size=(5,5), padding='valid', input_shape=(64, 64, 3)))\n",
    "model_conv_3_val.add(MaxPooling2D(pool_size=(3,3)))\n",
    "model_conv_3_val.add(Activation('relu'))\n",
    "model_conv_3_val.add(Flatten())\n",
    "model_conv_3_val.add(Dropout(0.4))\n",
    "model_conv_3_val.add(Dense(1))\n",
    "model_conv_3_val.add(Activation('sigmoid'))\n",
    "model_conv_3_val.compile(loss='binary_crossentropy', optimizer='adam', metrics=['accuracy'])\n",
    "model_conv_3_val.fit(X_train,    \n",
    "                 Y_train,\n",
    "                 batch_size=40,\n",
    "                 epochs=100,\n",
    "                 validation_split=0.15,\n",
    "                 validation_freq=3,\n",
    "                 verbose=2,\n",
    "                 callbacks=[es])"
   ]
  },
  {
   "cell_type": "code",
   "execution_count": 136,
   "metadata": {
    "colab": {
     "base_uri": "https://localhost:8080/",
     "height": 68
    },
    "colab_type": "code",
    "id": "q3_UbFCanCSm",
    "outputId": "e0658138-abb0-4e32-c89e-2ff711df2cb0"
   },
   "outputs": [
    {
     "name": "stdout",
     "output_type": "stream",
     "text": [
      "5000/5000 [==============================] - 1s 132us/step\n",
      "Test loss 0.5182939202308655\n",
      "Test accuracy 0.765\n"
     ]
    }
   ],
   "source": [
    "score_test_3_val = model_conv_3_val.evaluate(X_test, Y_test)\n",
    "print(\"Test loss\", score_test_3_val[0])\n",
    "print(\"Test accuracy\", score_test_3_val[1])"
   ]
  },
  {
   "cell_type": "code",
   "execution_count": 137,
   "metadata": {
    "colab": {
     "base_uri": "https://localhost:8080/",
     "height": 68
    },
    "colab_type": "code",
    "id": "5C-MjAManCH8",
    "outputId": "bd18233b-c279-431e-d3ab-e583f44ecb9e"
   },
   "outputs": [
    {
     "name": "stdout",
     "output_type": "stream",
     "text": [
      "20000/20000 [==============================] - 3s 128us/step\n",
      "Train loss 0.398446884727478\n",
      "Train accuracy 0.8232\n"
     ]
    }
   ],
   "source": [
    "score_train_1_1_val = model_conv_3_val.evaluate(X_train, Y_train)\n",
    "print(\"Train loss\", score_train_1_1_val[0])\n",
    "print(\"Train accuracy\", score_train_1_1_val[1])"
   ]
  },
  {
   "cell_type": "markdown",
   "metadata": {
    "colab_type": "text",
    "id": "azDdBeY_n2Rs"
   },
   "source": [
    "Hemos obtenido peor resultado, por lo que vamos a crear un nuevo modelo más complejo, tratando de mejorar los resultados."
   ]
  },
  {
   "cell_type": "code",
   "execution_count": 138,
   "metadata": {
    "colab": {
     "base_uri": "https://localhost:8080/",
     "height": 1000
    },
    "colab_type": "code",
    "id": "1P6fDxXrnCBM",
    "outputId": "756e2a12-b4f5-451e-867b-d5948e64c92d"
   },
   "outputs": [
    {
     "name": "stdout",
     "output_type": "stream",
     "text": [
      "Train on 17000 samples, validate on 3000 samples\n",
      "Epoch 1/100\n",
      " - 7s - loss: 0.6927 - acc: 0.5067\n",
      "Epoch 2/100\n",
      " - 4s - loss: 0.6915 - acc: 0.5480\n",
      "Epoch 3/100\n",
      " - 5s - loss: 0.6899 - acc: 0.5599 - val_loss: 0.6879 - val_acc: 0.5723\n",
      "Epoch 4/100\n",
      " - 4s - loss: 0.6877 - acc: 0.5671\n",
      "Epoch 5/100\n",
      " - 4s - loss: 0.6850 - acc: 0.5788\n",
      "Epoch 6/100\n",
      " - 4s - loss: 0.6811 - acc: 0.5797 - val_loss: 0.6769 - val_acc: 0.6040\n",
      "Epoch 7/100\n",
      " - 4s - loss: 0.6760 - acc: 0.5862\n",
      "Epoch 8/100\n",
      " - 4s - loss: 0.6689 - acc: 0.5986\n",
      "Epoch 9/100\n",
      " - 4s - loss: 0.6607 - acc: 0.6054 - val_loss: 0.6536 - val_acc: 0.6107\n",
      "Epoch 10/100\n",
      " - 4s - loss: 0.6517 - acc: 0.6204\n",
      "Epoch 11/100\n",
      " - 4s - loss: 0.6421 - acc: 0.6305\n",
      "Epoch 12/100\n",
      " - 4s - loss: 0.6363 - acc: 0.6391 - val_loss: 0.6713 - val_acc: 0.5813\n",
      "Epoch 13/100\n",
      " - 4s - loss: 0.6293 - acc: 0.6456\n",
      "Epoch 14/100\n",
      " - 4s - loss: 0.6254 - acc: 0.6508\n",
      "Epoch 15/100\n",
      " - 4s - loss: 0.6195 - acc: 0.6591 - val_loss: 0.6231 - val_acc: 0.6540\n",
      "Epoch 16/100\n",
      " - 4s - loss: 0.6130 - acc: 0.6649\n",
      "Epoch 17/100\n",
      " - 4s - loss: 0.6082 - acc: 0.6694\n",
      "Epoch 18/100\n",
      " - 4s - loss: 0.6030 - acc: 0.6725 - val_loss: 0.6089 - val_acc: 0.6683\n",
      "Epoch 19/100\n",
      " - 4s - loss: 0.5950 - acc: 0.6836\n",
      "Epoch 20/100\n",
      " - 4s - loss: 0.5887 - acc: 0.6927\n",
      "Epoch 21/100\n",
      " - 4s - loss: 0.5790 - acc: 0.7003 - val_loss: 0.5986 - val_acc: 0.6780\n",
      "Epoch 22/100\n",
      " - 4s - loss: 0.5744 - acc: 0.7015\n",
      "Epoch 23/100\n",
      " - 4s - loss: 0.5687 - acc: 0.7102\n",
      "Epoch 24/100\n",
      " - 4s - loss: 0.5628 - acc: 0.7142 - val_loss: 0.5709 - val_acc: 0.7037\n",
      "Epoch 25/100\n",
      " - 4s - loss: 0.5578 - acc: 0.7207\n",
      "Epoch 26/100\n",
      " - 4s - loss: 0.5540 - acc: 0.7228\n",
      "Epoch 27/100\n",
      " - 4s - loss: 0.5475 - acc: 0.7246 - val_loss: 0.5614 - val_acc: 0.7140\n",
      "Epoch 28/100\n",
      " - 4s - loss: 0.5429 - acc: 0.7305\n",
      "Epoch 29/100\n",
      " - 4s - loss: 0.5382 - acc: 0.7335\n",
      "Epoch 30/100\n",
      " - 4s - loss: 0.5325 - acc: 0.7358 - val_loss: 0.5657 - val_acc: 0.7100\n",
      "Epoch 31/100\n",
      " - 4s - loss: 0.5321 - acc: 0.7361\n",
      "Epoch 32/100\n",
      " - 4s - loss: 0.5241 - acc: 0.7433\n",
      "Epoch 33/100\n",
      " - 4s - loss: 0.5204 - acc: 0.7448 - val_loss: 0.5442 - val_acc: 0.7267\n",
      "Epoch 34/100\n",
      " - 4s - loss: 0.5191 - acc: 0.7468\n",
      "Epoch 35/100\n",
      " - 4s - loss: 0.5130 - acc: 0.7480\n",
      "Epoch 36/100\n",
      " - 4s - loss: 0.5102 - acc: 0.7531 - val_loss: 0.5366 - val_acc: 0.7303\n",
      "Epoch 37/100\n",
      " - 4s - loss: 0.5043 - acc: 0.7585\n",
      "Epoch 38/100\n",
      " - 4s - loss: 0.5001 - acc: 0.7580\n",
      "Epoch 39/100\n",
      " - 4s - loss: 0.4993 - acc: 0.7580 - val_loss: 0.5249 - val_acc: 0.7380\n",
      "Epoch 40/100\n",
      " - 4s - loss: 0.4952 - acc: 0.7616\n",
      "Epoch 41/100\n",
      " - 4s - loss: 0.4908 - acc: 0.7645\n",
      "Epoch 42/100\n",
      " - 4s - loss: 0.4842 - acc: 0.7686 - val_loss: 0.5332 - val_acc: 0.7280\n",
      "Epoch 43/100\n",
      " - 4s - loss: 0.4839 - acc: 0.7661\n",
      "Epoch 44/100\n",
      " - 4s - loss: 0.4824 - acc: 0.7698\n",
      "Epoch 45/100\n",
      " - 4s - loss: 0.4758 - acc: 0.7713 - val_loss: 0.5128 - val_acc: 0.7510\n",
      "Epoch 46/100\n",
      " - 4s - loss: 0.4732 - acc: 0.7752\n",
      "Epoch 47/100\n",
      " - 4s - loss: 0.4700 - acc: 0.7787\n",
      "Epoch 48/100\n",
      " - 4s - loss: 0.4676 - acc: 0.7754 - val_loss: 0.5084 - val_acc: 0.7507\n",
      "Epoch 49/100\n",
      " - 4s - loss: 0.4615 - acc: 0.7848\n",
      "Epoch 50/100\n",
      " - 4s - loss: 0.4596 - acc: 0.7797\n",
      "Epoch 51/100\n",
      " - 4s - loss: 0.4581 - acc: 0.7835 - val_loss: 0.5034 - val_acc: 0.7567\n",
      "Epoch 52/100\n",
      " - 4s - loss: 0.4525 - acc: 0.7879\n",
      "Epoch 53/100\n",
      " - 4s - loss: 0.4494 - acc: 0.7885\n",
      "Epoch 54/100\n",
      " - 4s - loss: 0.4473 - acc: 0.7879 - val_loss: 0.5012 - val_acc: 0.7583\n",
      "Epoch 55/100\n",
      " - 4s - loss: 0.4444 - acc: 0.7895\n",
      "Epoch 56/100\n",
      " - 4s - loss: 0.4412 - acc: 0.7940\n",
      "Epoch 57/100\n",
      " - 4s - loss: 0.4370 - acc: 0.7956 - val_loss: 0.4987 - val_acc: 0.7633\n",
      "Epoch 58/100\n",
      " - 4s - loss: 0.4338 - acc: 0.7964\n",
      "Epoch 59/100\n",
      " - 4s - loss: 0.4321 - acc: 0.8022\n",
      "Epoch 60/100\n",
      " - 4s - loss: 0.4295 - acc: 0.7994 - val_loss: 0.5033 - val_acc: 0.7587\n",
      "Epoch 61/100\n",
      " - 4s - loss: 0.4268 - acc: 0.8002\n",
      "Epoch 62/100\n",
      " - 4s - loss: 0.4237 - acc: 0.8039\n",
      "Epoch 63/100\n",
      " - 4s - loss: 0.4233 - acc: 0.8035 - val_loss: 0.5155 - val_acc: 0.7500\n",
      "Epoch 64/100\n",
      " - 4s - loss: 0.4190 - acc: 0.8046\n",
      "Epoch 65/100\n",
      " - 4s - loss: 0.4166 - acc: 0.8071\n",
      "Epoch 66/100\n",
      " - 4s - loss: 0.4148 - acc: 0.8084 - val_loss: 0.4939 - val_acc: 0.7710\n",
      "Epoch 67/100\n",
      " - 4s - loss: 0.4123 - acc: 0.8074\n",
      "Epoch 68/100\n",
      " - 4s - loss: 0.4076 - acc: 0.8115\n",
      "Epoch 69/100\n",
      " - 4s - loss: 0.4052 - acc: 0.8148 - val_loss: 0.4992 - val_acc: 0.7670\n",
      "Epoch 70/100\n",
      " - 4s - loss: 0.4033 - acc: 0.8128\n",
      "Epoch 71/100\n",
      " - 4s - loss: 0.4011 - acc: 0.8146\n",
      "Epoch 72/100\n",
      " - 4s - loss: 0.4021 - acc: 0.8149 - val_loss: 0.4859 - val_acc: 0.7640\n",
      "Epoch 00072: early stopping\n"
     ]
    },
    {
     "data": {
      "text/plain": [
       "<keras.callbacks.History at 0x7f0a9956d908>"
      ]
     },
     "execution_count": 138,
     "metadata": {
      "tags": []
     },
     "output_type": "execute_result"
    }
   ],
   "source": [
    "es = EarlyStopping(monitor='loss', mode='auto', verbose=1)\n",
    "model_conv_4_val = Sequential()\n",
    "model_conv_4_val.add(Conv2D (filters=40, kernel_size=(2,2), padding='valid', input_shape=(64, 64, 3)))\n",
    "model_conv_4_val.add(MaxPooling2D(pool_size=(2, 2)))\n",
    "model_conv_4_val.add(Activation('relu'))\n",
    "model_conv_4_val.add(Dense(10))\n",
    "model_conv_4_val.add(Activation('relu'))\n",
    "model_conv_4_val.add(Conv2D (filters=30, kernel_size=(3,3), padding='valid', input_shape=(64, 64, 3)))\n",
    "model_conv_4_val.add(MaxPooling2D(pool_size=(2, 2)))\n",
    "model_conv_4_val.add(Activation('relu'))\n",
    "model_conv_4_val.add(Dense(5))\n",
    "model_conv_4_val.add(Activation('relu'))\n",
    "model_conv_4_val.add(Conv2D (filters=60, kernel_size=(2,2), padding='valid', input_shape=(64, 64, 3)))\n",
    "model_conv_4_val.add(MaxPooling2D(pool_size=(2, 2)))\n",
    "model_conv_4_val.add(Activation('relu'))\n",
    "model_conv_4_val.add(Flatten())\n",
    "model_conv_4_val.add(Dense(1))\n",
    "model_conv_4_val.add(Activation('sigmoid'))\n",
    "model_conv_4_val.compile(loss='binary_crossentropy', optimizer='SGD', metrics=['accuracy'])\n",
    "model_conv_4_val.fit(X_train,\n",
    "                     Y_train,\n",
    "                     batch_size=40,\n",
    "                     epochs=100,\n",
    "                     validation_split=0.15,\n",
    "                     validation_freq=3,\n",
    "                     verbose=2,\n",
    "                     callbacks=[es])"
   ]
  },
  {
   "cell_type": "code",
   "execution_count": 139,
   "metadata": {
    "colab": {
     "base_uri": "https://localhost:8080/",
     "height": 68
    },
    "colab_type": "code",
    "id": "uiNq2H-Y2Gq4",
    "outputId": "f0f4b329-9365-4094-90d2-30b35053175f"
   },
   "outputs": [
    {
     "name": "stdout",
     "output_type": "stream",
     "text": [
      "5000/5000 [==============================] - 1s 147us/step\n",
      "Test loss 0.4776692738056183\n",
      "Test accuracy 0.7752\n"
     ]
    }
   ],
   "source": [
    "score_test_4_val = model_conv_4_val.evaluate(X_test, Y_test)\n",
    "print(\"Test loss\", score_test_4_val[0])\n",
    "print(\"Test accuracy\", score_test_4_val[1])"
   ]
  },
  {
   "cell_type": "code",
   "execution_count": 140,
   "metadata": {
    "colab": {
     "base_uri": "https://localhost:8080/",
     "height": 68
    },
    "colab_type": "code",
    "id": "kkWZ0nzu2GnR",
    "outputId": "5a5efb45-605d-442f-baaa-ee35b2bb5683"
   },
   "outputs": [
    {
     "name": "stdout",
     "output_type": "stream",
     "text": [
      "20000/20000 [==============================] - 3s 142us/step\n",
      "Train loss 0.39295620024204253\n",
      "Train accuracy 0.8203\n"
     ]
    }
   ],
   "source": [
    "score_train_4_val = model_conv_4_val.evaluate(X_train, Y_train)\n",
    "print(\"Train loss\", score_train_4_val[0])\n",
    "print(\"Train accuracy\", score_train_4_val[1])"
   ]
  },
  {
   "cell_type": "markdown",
   "metadata": {
    "colab_type": "text",
    "id": "-_WBnr2TA4_k"
   },
   "source": [
    "No he conseguido mejorar notablemente el modelo, por lo que, sería conveniente quedarse con el mejor modelo de la primera parte, ya que ese modelo es menos complejo."
   ]
  },
  {
   "cell_type": "markdown",
   "metadata": {
    "colab_type": "text",
    "id": "ktb164VmF5Y5"
   },
   "source": [
    "## Analyzing the results"
   ]
  },
  {
   "cell_type": "markdown",
   "metadata": {
    "colab_type": "text",
    "id": "CodrgODSF5Y6"
   },
   "source": [
    "<img src=\"img/question.png\" height=\"80\" width=\"80\" style=\"float: right;\"/>\n",
    "\n",
    "***\n",
    "\n",
    "<font color=#ad3e26>\n",
    "Find and show some test images for which your model fails. Can you give an explanation for this behavior?</font>\n",
    "\n",
    "***"
   ]
  },
  {
   "cell_type": "code",
   "execution_count": 186,
   "metadata": {
    "colab": {
     "base_uri": "https://localhost:8080/",
     "height": 419
    },
    "colab_type": "code",
    "id": "wA7QYhBAF5Y7",
    "outputId": "cfcbf240-babb-4142-ac45-cb6c3d093c6f"
   },
   "outputs": [
    {
     "data": {
      "text/html": [
       "<div>\n",
       "<style scoped>\n",
       "    .dataframe tbody tr th:only-of-type {\n",
       "        vertical-align: middle;\n",
       "    }\n",
       "\n",
       "    .dataframe tbody tr th {\n",
       "        vertical-align: top;\n",
       "    }\n",
       "\n",
       "    .dataframe thead th {\n",
       "        text-align: right;\n",
       "    }\n",
       "</style>\n",
       "<table border=\"1\" class=\"dataframe\">\n",
       "  <thead>\n",
       "    <tr style=\"text-align: right;\">\n",
       "      <th></th>\n",
       "      <th>valor_real</th>\n",
       "      <th>valor_pred</th>\n",
       "    </tr>\n",
       "  </thead>\n",
       "  <tbody>\n",
       "    <tr>\n",
       "      <th>0</th>\n",
       "      <td>0</td>\n",
       "      <td>0</td>\n",
       "    </tr>\n",
       "    <tr>\n",
       "      <th>1</th>\n",
       "      <td>1</td>\n",
       "      <td>0</td>\n",
       "    </tr>\n",
       "    <tr>\n",
       "      <th>2</th>\n",
       "      <td>0</td>\n",
       "      <td>0</td>\n",
       "    </tr>\n",
       "    <tr>\n",
       "      <th>3</th>\n",
       "      <td>0</td>\n",
       "      <td>0</td>\n",
       "    </tr>\n",
       "    <tr>\n",
       "      <th>4</th>\n",
       "      <td>0</td>\n",
       "      <td>0</td>\n",
       "    </tr>\n",
       "    <tr>\n",
       "      <th>...</th>\n",
       "      <td>...</td>\n",
       "      <td>...</td>\n",
       "    </tr>\n",
       "    <tr>\n",
       "      <th>4995</th>\n",
       "      <td>1</td>\n",
       "      <td>1</td>\n",
       "    </tr>\n",
       "    <tr>\n",
       "      <th>4996</th>\n",
       "      <td>1</td>\n",
       "      <td>1</td>\n",
       "    </tr>\n",
       "    <tr>\n",
       "      <th>4997</th>\n",
       "      <td>1</td>\n",
       "      <td>0</td>\n",
       "    </tr>\n",
       "    <tr>\n",
       "      <th>4998</th>\n",
       "      <td>1</td>\n",
       "      <td>1</td>\n",
       "    </tr>\n",
       "    <tr>\n",
       "      <th>4999</th>\n",
       "      <td>1</td>\n",
       "      <td>1</td>\n",
       "    </tr>\n",
       "  </tbody>\n",
       "</table>\n",
       "<p>5000 rows × 2 columns</p>\n",
       "</div>"
      ],
      "text/plain": [
       "      valor_real  valor_pred\n",
       "0              0           0\n",
       "1              1           0\n",
       "2              0           0\n",
       "3              0           0\n",
       "4              0           0\n",
       "...          ...         ...\n",
       "4995           1           1\n",
       "4996           1           1\n",
       "4997           1           0\n",
       "4998           1           1\n",
       "4999           1           1\n",
       "\n",
       "[5000 rows x 2 columns]"
      ]
     },
     "execution_count": 186,
     "metadata": {
      "tags": []
     },
     "output_type": "execute_result"
    }
   ],
   "source": [
    "y_preds_model_conv= model_conv_2_1.predict_classes(X_test)\n",
    "y_preds_model_conv=y_preds_model_conv.reshape(5000)\n",
    "df_errores= pd.DataFrame({\"valor_real\":Y_test,\"valor_pred\":y_preds_model_conv})\n",
    "df_errores"
   ]
  },
  {
   "cell_type": "markdown",
   "metadata": {
    "colab_type": "text",
    "id": "214QC_u0YEZ3"
   },
   "source": [
    "Vemos que para la posición [1], el modelo comete un error e. Vamos a ver la imagen."
   ]
  },
  {
   "cell_type": "code",
   "execution_count": 209,
   "metadata": {
    "colab": {
     "base_uri": "https://localhost:8080/",
     "height": 268
    },
    "colab_type": "code",
    "id": "KL920fjcarYm",
    "outputId": "b0bc9c05-8438-49e0-f7cb-962211d654be"
   },
   "outputs": [
    {
     "data": {
      "image/png": "[encoded data removed]",
      "text/plain": [
       "<Figure size 432x288 with 1 Axes>"
      ]
     },
     "metadata": {
      "tags": []
     },
     "output_type": "display_data"
    }
   ],
   "source": [
    "(fails,) = np.where(Y_test != y_preds_model_conv)\n",
    "plt.imshow(X_test[fails[0]]);"
   ]
  },
  {
   "cell_type": "markdown",
   "metadata": {
    "colab_type": "text",
    "id": "oUNN4IywbUda"
   },
   "source": [
    "Como podemos ver, en la imagen aparece un perro, pero nuestro modelo ha predicho gato. El pelo corto, la posición, típica de un gato, y que no se diferencie un hocico largo ha podido provocar el error."
   ]
  },
  {
   "cell_type": "code",
   "execution_count": 210,
   "metadata": {
    "colab": {
     "base_uri": "https://localhost:8080/",
     "height": 268
    },
    "colab_type": "code",
    "id": "LPPnnKA_arQP",
    "outputId": "badb66c8-bbad-47a2-94d4-ad2b1395065f"
   },
   "outputs": [
    {
     "data": {
      "image/png": "[encoded data removed]",
      "text/plain": [
       "<Figure size 432x288 with 1 Axes>"
      ]
     },
     "metadata": {
      "tags": []
     },
     "output_type": "display_data"
    }
   ],
   "source": [
    "plt.imshow(X_test[fails[350]]);"
   ]
  },
  {
   "cell_type": "markdown",
   "metadata": {
    "colab": {
     "base_uri": "https://localhost:8080/",
     "height": 129
    },
    "colab_type": "code",
    "id": "JkAUXeSHarL8",
    "outputId": "4ee5cf64-0d89-4988-eade-95533d6fb610"
   },
   "source": [
    "En la imagen se observan orejas puntiagudas que han podido conllevar a error y una posición típica de perro."
   ]
  },
  {
   "cell_type": "markdown",
   "metadata": {
    "colab_type": "text",
    "id": "Oi6h1hQDF5Y_"
   },
   "source": [
    "<img src=\"img/question.png\" height=\"80\" width=\"80\" style=\"float: right;\"/>\n",
    "\n",
    "***\n",
    "\n",
    "<font color=#ad3e26>\n",
    "Write a small report summarizing the network choices you have tried, what worked and what didn't. What have you learned from this experience?</font>\n",
    "\n",
    "***"
   ]
  },
  {
   "cell_type": "markdown",
   "metadata": {
    "colab_type": "text",
    "id": "zQDdfTqcjt1k"
   },
   "source": [
    "Debido a que requerimos resolver un problema de clasificación binaria, nuestra red propuesta terminará con una capa densa con una sola neurona y una activación sigmoidea. Esta última neurona codificará la probabilidad de que la red esté mirando una clase u otra.  \n",
    "**Los resultados varían cada vez que se ejecuta al comenzar cada vez en un punto diferente.**\n",
    "  \n",
    "En model_conv_0 observamos que cumplimos el objetivo del ejercicio, que es obtener un modelo cuyo accuracy en test supere 0.70, pero nuestro modelo está sobreentrenado, por lo que si incluyesemos nuevos datos, no sabríamos si podría predecir correctamente. Por ello, vamos a tratar de reducir el overfitting reduciendo el número de epochs y vamos a regulizar con una capa dropout, tratando de entrenar menos el modelo y no sufrir overfitting.\n",
    "\n",
    "En model_conv_1 seguimos teniendo overfitting, aunque menos acusado. Vamos a incluir una capa de maxpolling para ver si conseguimos mejorar el accuracy en test.\n",
    "\n",
    "\n",
    "En el model_conv_2, conseguimos reducir dráticamente el overfitting que teniamos en el primer modelo. Ya tendríamos un modelo que se ajusta a los objetivos marcados en el ejercicio consiguendo un accuracy en test mayor de 0.70. Vamos a probar reduciendo el batch_size para ver si podemos mejorarlo, aumentando también las epochs, controlando que no haya overfitting. \n",
    "\n",
    "En el model_conv_2_1 hemos conseguido mejorar ligeramente el accuracy en test. A continuación, realizaremos otro modelo aumentando el batch_size, por si obtuvieramos un mejor accuracy en test.\n",
    "\n",
    "En el model_conv_2_2 no conseguimos mejorar el accuracy, por lo que **nuestro mejor modelo es el model_conv_2_1**.\n",
    "\n",
    "En la segunda parte del ejercicio (PRO), trato de mejorar el accuracy en test con un set de validación, que sacaremos (15%) del conjunto de train. Como hemos reducido el tamaño de nuestro conjunto de train, comenzamos sin la capa dropout, además, usamos EarlyStopping para aumentar el número de epochs y que sea el propio modelo el que elija cuando parar (al ver que no mejora el accuracy y no disminuye el error), después de probar varios modelos vemos que no conseguimos mejorar el accuracy en test, incluso creando un modelo con más capas ocultas, por lo que no ha servido de nada.\n",
    "\n",
    "He intentado realizar un conjunto de validación con GridSearch y KerasClassifier, pero no he sido capaz.\n",
    "\n",
    "He podido comprobar la dificultad para mejorar un modelo de redes neuronales, es necesario un estudio profundo del modelo, así como de sus parámetros, y mucha experiencia para saber cómo mejorar un modelo de una manera más eficiente.\n",
    "\n",
    "\n",
    "\n"
   ]
  }
 ],
 "metadata": {
  "accelerator": "GPU",
  "anaconda-cloud": {},
  "colab": {
   "collapsed_sections": [],
   "name": "Práctica_Redes_Neuronales_Luis_Blanco.ipynb",
   "provenance": []
  },
  "kernelspec": {
   "display_name": "Python 3",
   "language": "python",
   "name": "python3"
  },
  "language_info": {
   "codemirror_mode": {
    "name": "ipython",
    "version": 3
   },
   "file_extension": ".py",
   "mimetype": "text/x-python",
   "name": "python",
   "nbconvert_exporter": "python",
   "pygments_lexer": "ipython3",
   "version": "3.7.4"
  }
 },
 "nbformat": 4,
 "nbformat_minor": 1
}
