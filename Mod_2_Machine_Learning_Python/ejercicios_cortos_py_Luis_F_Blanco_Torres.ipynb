{
 "cells": [
  {
   "cell_type": "markdown",
   "metadata": {},
   "source": [
    "# 15 Ejercicios cortos"
   ]
  },
  {
   "cell_type": "markdown",
   "metadata": {},
   "source": [
    "Este es un popurrí de ejercicios cortos sobre diseño de funciones y clases para coger algo de soltura.\n",
    "\n",
    "Cada ejercicio es independiente y no tiene relación con los anteriores (como norma general). Siéntete libre de importar las bibliotecas que quieras.\n",
    "\n",
    "En cada ejercicio deberás escribir la función/clase requerida, y probar a llamarla (o a crear una instancia) con valores de prueba."
   ]
  },
  {
   "cell_type": "markdown",
   "metadata": {},
   "source": [
    "#### 1. Escribe una función `hipotenusa` que tome como argumentos posicionales los dos catetos de un triángulo rectángulo y devuelva la hipotenusa de dicho triángulo."
   ]
  },
  {
   "cell_type": "code",
   "execution_count": 1,
   "metadata": {},
   "outputs": [],
   "source": [
    "def hipotenusa(a,b):\n",
    "    return round((a**2+b**2)**0.5,2) #redondeo a 2 decimales"
   ]
  },
  {
   "cell_type": "code",
   "execution_count": 2,
   "metadata": {},
   "outputs": [
    {
     "data": {
      "text/plain": [
       "2.83"
      ]
     },
     "execution_count": 2,
     "metadata": {},
     "output_type": "execute_result"
    }
   ],
   "source": [
    "hipotenusa(2,2)"
   ]
  },
  {
   "cell_type": "markdown",
   "metadata": {},
   "source": [
    "#### 2. Define una clase que tenga al menos dos métodos: `setString`, que fija un string pasado como argumento como *instance variable*; y `getString`, que devuelve dicho string:"
   ]
  },
  {
   "cell_type": "code",
   "execution_count": 3,
   "metadata": {},
   "outputs": [],
   "source": [
    "class avion(object):\n",
    "    def __init__ (self, setString):\n",
    "        self.uso= setString\n",
    "    \n",
    "    def getString(self):\n",
    "        return ('El avión es de tipo: %s' %self.uso)\n"
   ]
  },
  {
   "cell_type": "code",
   "execution_count": 4,
   "metadata": {},
   "outputs": [
    {
     "data": {
      "text/plain": [
       "'El avión es de tipo: militar'"
      ]
     },
     "execution_count": 4,
     "metadata": {},
     "output_type": "execute_result"
    }
   ],
   "source": [
    "eurofighter=avion('militar')\n",
    "eurofighter.getString()"
   ]
  },
  {
   "cell_type": "code",
   "execution_count": 5,
   "metadata": {},
   "outputs": [
    {
     "data": {
      "text/plain": [
       "'El avión es de tipo: carga y pasajeros'"
      ]
     },
     "execution_count": 5,
     "metadata": {},
     "output_type": "execute_result"
    }
   ],
   "source": [
    "boeing_747=avion('carga y pasajeros')\n",
    "boeing_747.getString()"
   ]
  },
  {
   "cell_type": "markdown",
   "metadata": {},
   "source": [
    "#### 3. Escribe una función llamada `wordcount` que tome como argumento un solo string con varias palabras (separadas por espacios en blanco) y devuelva el número de palabras del string pasado:"
   ]
  },
  {
   "cell_type": "code",
   "execution_count": 6,
   "metadata": {},
   "outputs": [],
   "source": [
    "def wordcount(a):\n",
    "    return len(a.split())"
   ]
  },
  {
   "cell_type": "code",
   "execution_count": 7,
   "metadata": {},
   "outputs": [
    {
     "data": {
      "text/plain": [
       "3"
      ]
     },
     "execution_count": 7,
     "metadata": {},
     "output_type": "execute_result"
    }
   ],
   "source": [
    "palabra='aguacate salchichon salchicha'\n",
    "wordcount(palabra)"
   ]
  },
  {
   "cell_type": "markdown",
   "metadata": {},
   "source": [
    "#### 4. Escribe una función llamada `divisibles_por_7` que tome como argumentos un número arbitrario de números enteros y devuelva una lista con solo aquellos que sean divisibles por 7 (sin dar decimales):"
   ]
  },
  {
   "cell_type": "code",
   "execution_count": 8,
   "metadata": {},
   "outputs": [
    {
     "data": {
      "text/plain": [
       "[7, 14, 21, 7000, 7]"
      ]
     },
     "execution_count": 8,
     "metadata": {},
     "output_type": "execute_result"
    }
   ],
   "source": [
    "def divisibles_por_7(*args):\n",
    "    return [i for i in args if i%7==0]\n",
    "\n",
    "divisibles_por_7(1,7,5,8,9,14,21,20,7000,7)"
   ]
  },
  {
   "cell_type": "markdown",
   "metadata": {},
   "source": [
    "#### 5. Escribe una función `factorial` que devuelva el factorial de un número entero."
   ]
  },
  {
   "cell_type": "code",
   "execution_count": 9,
   "metadata": {},
   "outputs": [],
   "source": [
    "def factorial(x):\n",
    "    try:\n",
    "        if x>=0:\n",
    "            fac=1\n",
    "            for i in range(1,x+1):\n",
    "                fac=fac*i\n",
    "        return print(str(x)+'! = %s'%fac)\n",
    "    except:\n",
    "        return print('No existe el factorial para %s. ¡Prueba con un número positivo!'%x)"
   ]
  },
  {
   "cell_type": "code",
   "execution_count": 10,
   "metadata": {},
   "outputs": [
    {
     "name": "stdout",
     "output_type": "stream",
     "text": [
      "0! = 1\n"
     ]
    }
   ],
   "source": [
    "factorial(0)"
   ]
  },
  {
   "cell_type": "markdown",
   "metadata": {},
   "source": [
    "####  6. Escribe una función `manhattan` que compute la distancia de Manhattan entre dos puntos bidimensionales (donde cada uno de estos puntos tiene coordenadas de la forma `(x,y)`):"
   ]
  },
  {
   "cell_type": "code",
   "execution_count": 11,
   "metadata": {},
   "outputs": [],
   "source": [
    "def manhattan(a,b):\n",
    "    return (abs(a[0]-b[0]) + abs(a[1]-b[1]))"
   ]
  },
  {
   "cell_type": "code",
   "execution_count": 12,
   "metadata": {},
   "outputs": [
    {
     "data": {
      "text/plain": [
       "8"
      ]
     },
     "execution_count": 12,
     "metadata": {},
     "output_type": "execute_result"
    }
   ],
   "source": [
    "a=[-10,5]\n",
    "b=[-3,4]\n",
    "manhattan(a,b)"
   ]
  },
  {
   "cell_type": "markdown",
   "metadata": {},
   "source": [
    "#### 7. Define una función `overlapping` que tome como argumento dos colecciones. Si ambas colecciones tienen al menos un elemento en común, debe devolver `True`. Si no es así, debe devolver `False`:"
   ]
  },
  {
   "cell_type": "code",
   "execution_count": 13,
   "metadata": {},
   "outputs": [],
   "source": [
    "def overlapping(a,b):\n",
    "    if len([j for i in a for j in b if i==j]) !=0:\n",
    "        return True\n",
    "    else:\n",
    "        return False"
   ]
  },
  {
   "cell_type": "code",
   "execution_count": 14,
   "metadata": {},
   "outputs": [
    {
     "data": {
      "text/plain": [
       "True"
      ]
     },
     "execution_count": 14,
     "metadata": {},
     "output_type": "execute_result"
    }
   ],
   "source": [
    "coleccion_1=[0,'marsia',2]\n",
    "coleccion_2=[1,25,2,'maria']\n",
    "overlapping(coleccion_1,coleccion_2)"
   ]
  },
  {
   "cell_type": "markdown",
   "metadata": {},
   "source": [
    "#### 8. Define una función `filtrar_palabras_largas` que tome como argumento una lista de palabras (strings), y una longitud máxima `n`. Esta función debe devolver una lista solo con las palabras que son más cortas que `n`:"
   ]
  },
  {
   "cell_type": "code",
   "execution_count": 15,
   "metadata": {},
   "outputs": [],
   "source": [
    "def filtrar_palabras_largas(s,n):\n",
    "        return [i for i in s if len(i)<n]"
   ]
  },
  {
   "cell_type": "code",
   "execution_count": 16,
   "metadata": {},
   "outputs": [
    {
     "data": {
      "text/plain": [
       "['sandia', 'agua', 'a', '1234']"
      ]
     },
     "execution_count": 16,
     "metadata": {},
     "output_type": "execute_result"
    }
   ],
   "source": [
    "lista=[\"aguacate\",\"salchichon\",\"sandia\",\"mermelada\",\"agua\",\"a\",\"1234\",\"12345678\"]\n",
    "filtrar_palabras_largas(lista,8)"
   ]
  },
  {
   "cell_type": "markdown",
   "metadata": {},
   "source": [
    "#### 9. Escribe una función `desv_tipica` que tome como argumento una distribución (lista) de números y devuelva la desviación típica. *Nota: aquí no vale utilizar Numpy ni pandas*:"
   ]
  },
  {
   "cell_type": "code",
   "execution_count": 17,
   "metadata": {},
   "outputs": [],
   "source": [
    "def desv_tipica(x):\n",
    "    '''\n",
    "    Calculo la media artimétrica de la distribución.\n",
    "    Creo una lista con los cuadrados de las distancia a la media,\n",
    "    los sumo y los divido por el total de números con lo que obtengo\n",
    "    la varianza. Por último, hago la raíz cuadrada (elevo a 0.5) y \n",
    "    obtengo la desviación típica\n",
    "    '''\n",
    "    media=sum(x)/len(x)\n",
    "    return (sum([(i-media)**2 for i in x])/len(x))**0.5"
   ]
  },
  {
   "cell_type": "code",
   "execution_count": 18,
   "metadata": {},
   "outputs": [
    {
     "data": {
      "text/plain": [
       "1.8583146486355138"
      ]
     },
     "execution_count": 18,
     "metadata": {},
     "output_type": "execute_result"
    }
   ],
   "source": [
    "lista = [7,9,11,6,5,6.3,10,7,8]\n",
    "desv_tipica(lista)"
   ]
  },
  {
   "cell_type": "code",
   "execution_count": 19,
   "metadata": {},
   "outputs": [],
   "source": [
    "def desv_tipica_2(x):\n",
    "    '''\n",
    "    Calculamos la media y hacemos el for para sacar la lista de las varianzas\n",
    "    '''\n",
    "    media = sum(x)/len(x)\n",
    "    varianzas=[]\n",
    "    for i in x:\n",
    "        varianzas.append((i-media)**2/len(x))\n",
    "    return sum(varianzas)**0.5"
   ]
  },
  {
   "cell_type": "code",
   "execution_count": 20,
   "metadata": {},
   "outputs": [
    {
     "data": {
      "text/plain": [
       "1.858314648635514"
      ]
     },
     "execution_count": 20,
     "metadata": {},
     "output_type": "execute_result"
    }
   ],
   "source": [
    "lista = [7,9,11,6,5,6.3,10,7,8]\n",
    "desv_tipica_2(lista)"
   ]
  },
  {
   "cell_type": "code",
   "execution_count": 21,
   "metadata": {},
   "outputs": [
    {
     "data": {
      "text/plain": [
       "False"
      ]
     },
     "execution_count": 21,
     "metadata": {},
     "output_type": "execute_result"
    }
   ],
   "source": [
    "def verdad(lista):\n",
    "    if desv_tipica(lista)==desv_tipica_2(lista):\n",
    "        return True\n",
    "    else:\n",
    "        return False\n",
    "verdad(lista)"
   ]
  },
  {
   "cell_type": "markdown",
   "metadata": {},
   "source": [
    "#### 10. Escribe una función `suma_hasta_el_primo` que tome como argumento una lista de números y:\n",
    "+ Vaya recorriendo la lista de izquierda a derecha.\n",
    "+ Si un número no es primo, lo sumará a una `suma_acumulada`.\n",
    "+ Si un número es primo, se interrumpe la ejecución y se devuelve la `suma_acumulada` (sin sumar el número primo) hasta el momento.\n",
    "\n",
    "*Pista:* igual te resulta más sencillo escribir dos funciones: una que chequee si un número es primo o no, y luego ya `suma_hasta_el_primo`, y que utilice internamente esa función de chequear primos."
   ]
  },
  {
   "cell_type": "code",
   "execution_count": 22,
   "metadata": {},
   "outputs": [],
   "source": [
    "def suma_hasta_el_primo(x):\n",
    "    '''\n",
    "    Primero creo una función que identifica si un número es primo o no.\n",
    "    \n",
    "    Creo la variable de suma_acumulada con valor 0\n",
    "    Itero sobre los números y si no es primo lo sumo,\n",
    "    si es primo, rompo la iteración y devuelvo la suma_acumulada\n",
    "    '''\n",
    "    def primo(x):\n",
    "        if x<=1:\n",
    "            return False\n",
    "        if x==2:\n",
    "            return True\n",
    "        for i in range(2,x):\n",
    "            if x%i==0:\n",
    "                return False\n",
    "        return True\n",
    "    suma_acumulada=0\n",
    "    for i in x:\n",
    "        if primo(i)==False:\n",
    "            suma_acumulada+=i\n",
    "        else:\n",
    "            break\n",
    "    return suma_acumulada"
   ]
  },
  {
   "cell_type": "code",
   "execution_count": 23,
   "metadata": {},
   "outputs": [
    {
     "data": {
      "text/plain": [
       "249"
      ]
     },
     "execution_count": 23,
     "metadata": {},
     "output_type": "execute_result"
    }
   ],
   "source": [
    "a=[4,6,8,25,45,0,1,-9,9,50,44,66,11,44,1,2]\n",
    "suma_hasta_el_primo(a)"
   ]
  },
  {
   "cell_type": "markdown",
   "metadata": {},
   "source": [
    "####  11. Escribe una función `juego_de_numero` que:\n",
    "+ Tome como argumento un número (entero).\n",
    "+ Si el número es par, divídelo por 2.\n",
    "+ Si es impar, multiplícalo por 3 y súmale 1.\n",
    "+ Continúa haciéndolo hasta que tu resultado sea 1.\n",
    "+ Devuelve el número de \"números visitados\", incluyendo el inicial y el 1.\n",
    "\n",
    "Por ejemplo: si llamamos a `juego_de_numero(3)`, la secuencia es 3-10-5-16-8-4-2-1."
   ]
  },
  {
   "cell_type": "code",
   "execution_count": 24,
   "metadata": {},
   "outputs": [],
   "source": [
    "def juego_de_numero(x):\n",
    "    num_visit=[x]\n",
    "    while x!=1:\n",
    "        if x%2==0:\n",
    "            x=int(x/2)\n",
    "            num_visit.append(x)\n",
    "        else:\n",
    "            x=x*3+1\n",
    "            num_visit.append(x)\n",
    "    return num_visit"
   ]
  },
  {
   "cell_type": "code",
   "execution_count": 25,
   "metadata": {},
   "outputs": [
    {
     "data": {
      "text/plain": [
       "[3, 10, 5, 16, 8, 4, 2, 1]"
      ]
     },
     "execution_count": 25,
     "metadata": {},
     "output_type": "execute_result"
    }
   ],
   "source": [
    "juego_de_numero(3)"
   ]
  },
  {
   "cell_type": "markdown",
   "metadata": {},
   "source": [
    "#### 12. Si probamos `juego_de_numero` con todos los números del 1 al 100, ¿cuál es el que da más \"números visitados\"?"
   ]
  },
  {
   "cell_type": "markdown",
   "metadata": {},
   "source": [
    "#### 13. Consigue en una sola línea de código averiguar cuántos elementos distintos hay en la siguiente lista de 300 elementos:"
   ]
  },
  {
   "cell_type": "code",
   "execution_count": 26,
   "metadata": {},
   "outputs": [
    {
     "data": {
      "text/plain": [
       "300"
      ]
     },
     "execution_count": 26,
     "metadata": {},
     "output_type": "execute_result"
    }
   ],
   "source": [
    "la_lista = ['da', 'e', 'e', 'eccebd', 'fdfdce', 'ad', 'dadcd', 'baadede', 'ebb', 'f', 'acbdf', 'eeccb', 'fe', \n",
    "            'fcffbcc', 'dffadd', 'cbdeca', 'ff', 'aa', 'cbfe', 'aedaaf', 'd', 'efbfd', 'efaaee', 'dae', \n",
    "            'befdeb', 'daaecd', 'b', 'dddd', 'cae', 'ac', 'fee', 'ada', 'dbae', 'adfedd', 'e', 'ddaefca', \n",
    "            'bf', 'ddeceee', 'aae', 'bedbe', 'caafddf', 'ba', 'dcdf', 'edefcbd', 'cfdcb', 'dcbf', \n",
    "            'cfccefe', 'fd', 'fdae', 'eb', 'add', 'afaa', 'cdedabf', 'fdbebe', 'dfeae', 'debcca', \n",
    "            'eae', 'bfeddec', 'ccbbbb', 'af', 'c', 'ddcea', 'dabddf', 'efcaec', 'cec', 'bdfce', \n",
    "            'bacccdd', 'af', 'dd', 'c', 'acfdea', 'bacfc', 'bedaf', 'dfc', 'cefdbc', 'ebefc', 'cee', \n",
    "            'decacef', 'cfccddb', 'c', 'ebfb', 'acfb', 'c', 'aeede', 'fed', 'fabc', 'fcfb', 'ad', 'bc', \n",
    "            'aaadcd', 'cf', 'a', 'bc', 'ecaabcc', 'eeebce', 'eba', 'dfcaf', 'f', 'bcd', 'cc', 'daecffd', \n",
    "            'f', 'def', 'ebc', 'bcbcd', 'a', 'dbae', 'a', 'dbfdd', 'bdbbff', 'bacacdc', 'd', 'acfaab', 'f', \n",
    "            'dccfeba', 'dccf', 'defcce', 'cbbfbce', 'abddf', 'aaed', 'abfc', 'acab', 'bdceae', 'fc', 'cfdb', \n",
    "            'adbdb', 'e', 'cdbabf', 'fbaae', 'eaabda', 'bcdfea', 'bdcfaeb', 'afaccb', 'aa', 'fbdd', 'bae', \n",
    "            'b', 'ccdefc', 'c', 'fcffaa', 'aadeeb', 'ea', 'fcdfbf', 'fa', 'eccf', 'dcbcee', 'cbbd', 'fedcd', \n",
    "            'eeeec', 'aaafcbb', 'fafa', 'beaab', 'ecdf', 'cceaaf', 'dafdcf', 'cbfe', 'ff', 'd', 'e', 'ebcdb', \n",
    "            'ecb', 'f', 'bafb', 'dacdbf', 'ccd', 'abcc', 'ed', 'ddcdeb', 'bcb', 'cefbec', 'e', 'cddeb', \n",
    "            'eacccea', 'f', 'faeaaef', 'ddd', 'dfb', 'bda', 'acdf', 'fcffa', 'a', 'fc', 'baffac', 'efadfca', \n",
    "            'e', 'fb', 'bedfbd', 'eb', 'ceaece', 'fdcbfea', 'fda', 'fbbebf', 'cecbffa', 'beabecc', 'eddfc', \n",
    "            'bab', 'abfe', 'ab', 'bdada', 'ccdf', 'bfeaeaa', 'ac', 'eb', 'fbbbf', 'ddab', 'baddadd', 'bcbebec', \n",
    "            'afbaca', 'aa', 'db', 'aafcff', 'eabcadb', 'fe', 'adc', 'eabacbd', 'ffccdd', 'dbfdcc', 'cff', 'fbb', \n",
    "            'fadd', 'cbcb', 'bfeacde', 'feed', 'fbae', 'debb', 'dffe', 'de', 'eaeefc', 'ccedfb', 'eefb', \n",
    "            'fdddfd', 'fdfee', 'cbecfd', 'f', 'e', 'e', 'bcfafe', 'fdfaef', 'ddbad', 'cbee', 'a', 'dec', 'fd', \n",
    "            'd', 'dee', 'daadcd', 'fbaaab', 'b', 'f', 'cabffd', 'edfd', 'fafccbc', 'cbdbad', 'ceaadae', \n",
    "            'eafdfd', 'abebfc', 'b', 'bdbeffe', 'aabcabd', 'fcbaab', 'dae', 'd', 'fdccbd', 'eaedfd', 'dbbc', \n",
    "            'fb', 'bcddb', 'abddac', 'da', 'abedf', 'fa', 'ccbaa', 'efae', 'abd', 'aebe', 'cdcd', 'd', 'abcc', \n",
    "            'edccba', 'dedd', 'a', 'b', 'a', 'd', 'fbbdefd', 'ccfdcae', 'aaabd', 'cdbffb', 'fcdfcef', 'cfbae', \n",
    "            'a', 'ebe', 'c', 'b', 'afdcacb', 'ad', 'ffaeb', 'a', 'dfffdea', 'bfa']\n",
    "\n",
    "# En una sola línea, ¿eh?:\n",
    "total=len(la_lista)\n",
    "total"
   ]
  },
  {
   "cell_type": "code",
   "execution_count": 27,
   "metadata": {},
   "outputs": [
    {
     "data": {
      "text/plain": [
       "241"
      ]
     },
     "execution_count": 27,
     "metadata": {},
     "output_type": "execute_result"
    }
   ],
   "source": [
    "distin=len(set(la_lista))\n",
    "distin"
   ]
  },
  {
   "cell_type": "markdown",
   "metadata": {},
   "source": [
    "#### 14. Escribe una función `word_frequency` en la que, dada una colección (lista) de palabras (que pueden repetirse), devuelva un conjunto de pares (`palabra`, `número de veces que aparece dicha palabra en la colección`):"
   ]
  },
  {
   "cell_type": "code",
   "execution_count": 28,
   "metadata": {},
   "outputs": [],
   "source": [
    "def word_frequency(x):\n",
    "    '''\n",
    "    cont= número de veces que aparece cada palabra\n",
    "    union= con la función zip emparejamos en tuplas la x con el número de veces que se repite\n",
    "    lo hacemos diccionario para que quede bonito, si no hacemos dict\n",
    "    bastaría con el union (siempre hacer list en zip para que muestre resultado)'''\n",
    "    cont= [x.count(i) for i in x]\n",
    "    union=list(zip(x,cont))\n",
    "    diccionario=dict(union)\n",
    "    return diccionario"
   ]
  },
  {
   "cell_type": "code",
   "execution_count": 29,
   "metadata": {},
   "outputs": [],
   "source": [
    "ey=['a','a','b','a','c','c']"
   ]
  },
  {
   "cell_type": "code",
   "execution_count": 30,
   "metadata": {},
   "outputs": [
    {
     "data": {
      "text/plain": [
       "{'a': 3, 'b': 1, 'c': 2}"
      ]
     },
     "execution_count": 30,
     "metadata": {},
     "output_type": "execute_result"
    }
   ],
   "source": [
    "word_frequency(ey)"
   ]
  },
  {
   "cell_type": "markdown",
   "metadata": {},
   "source": [
    "#### 15. Crea una clase llamada `CarritoDeLaCompra` que satisfaga las siguientes condiciones:\n",
    "+ Un carrito, nada más creado (es decir, al crear una instancia), está vacío.\n",
    "+ El carrito tiene un método llamado `anadir_producto`, que toma como argumentos un string que es el nombre de un artículo (por ejemplo: `\"plátanos\"`) y la cantidad. Este método añade dicho producto y cantidad al carrito.\n",
    "+ Asimismo, tiene otro método llamado `quitar_producto`, que toma los mismos argumentos (producto y cantidad); pero los quita del carrito en vez de añadirlos. Si se \"pide\" quitar mayor cantidad que la que hay en el carrito, o de un producto que no está en el carrito, no se hace la operación, y se imprime un string de error.\n",
    "+ En cualquier momento debe poder utilizarse el método `ver_carrito`, y debe devolver los productos presentes en el carrito, así como su cantidad. Solo debe devolver cada producto una vez, es decir: si hicimos `anadir_producto(\"tomates\", 2)` y luego `anadir_producto(\"tomates\", 3)`, `ver_carrito` solo debe devolver algo similar a `[(\"tomates\", 5)]`.\n",
    "\n",
    "Una vez definida la clase, crea una instancia de ella y prueba a ir añadiendo, quitando y mirando el carrito."
   ]
  },
  {
   "cell_type": "code",
   "execution_count": 31,
   "metadata": {},
   "outputs": [],
   "source": [
    "class CarritoDeLaCompra(object):\n",
    "    def __init__(self):\n",
    "        self.carrito={}\n",
    "        \n",
    "    def anadir_producto(self, producto, cantidad):\n",
    "        producto=producto.lower() #evitamos duplicidad por mayúsculas\n",
    "        if producto in self.carrito:\n",
    "            self.carrito[producto]+= cantidad\n",
    "        else:\n",
    "            self.carrito.update({producto:cantidad})\n",
    "    \n",
    "    def quitar_producto(self, producto, cantidad):\n",
    "        producto=producto.lower()\n",
    "        if producto in self.carrito:\n",
    "            if cantidad<=self.carrito[producto]:\n",
    "                self.carrito[producto]-= cantidad\n",
    "            else:\n",
    "                print('No puedes quitar más elementos de los que tienes')\n",
    "        else:\n",
    "            print('No tienes ese producto en el carrito')\n",
    "    def ver_carrito(self):\n",
    "        print('Tienes en el carrito lo siguiente: %s' %self.carrito)"
   ]
  },
  {
   "cell_type": "code",
   "execution_count": 32,
   "metadata": {},
   "outputs": [],
   "source": [
    "compra_lunes=CarritoDeLaCompra()"
   ]
  },
  {
   "cell_type": "code",
   "execution_count": 33,
   "metadata": {},
   "outputs": [
    {
     "name": "stdout",
     "output_type": "stream",
     "text": [
      "Tienes en el carrito lo siguiente: {'manzanas': 2, 'aguacates': 4, 'salchichon': 2, 'berenjena': 2}\n"
     ]
    }
   ],
   "source": [
    "compra_lunes.anadir_producto(\"Manzanas\",6)\n",
    "compra_lunes.anadir_producto(\"aguacates\",4)\n",
    "compra_lunes.anadir_producto(\"salchichon\",2)\n",
    "compra_lunes.anadir_producto(\"berenjena\",2)\n",
    "compra_lunes.quitar_producto(\"Manzanas\",4)\n",
    "compra_lunes.ver_carrito()"
   ]
  },
  {
   "cell_type": "code",
   "execution_count": 34,
   "metadata": {},
   "outputs": [
    {
     "name": "stdout",
     "output_type": "stream",
     "text": [
      "Tienes en el carrito lo siguiente: {'manzanas': 2, 'aguacates': 4, 'salchichon': 2, 'berenjena': 5, 'pizza': 3}\n"
     ]
    }
   ],
   "source": [
    "compra_lunes.anadir_producto(\"Berenjena\",3)\n",
    "compra_lunes.anadir_producto(\"Pizza\",3)\n",
    "compra_lunes.ver_carrito()"
   ]
  },
  {
   "cell_type": "code",
   "execution_count": 35,
   "metadata": {},
   "outputs": [
    {
     "name": "stdout",
     "output_type": "stream",
     "text": [
      "No puedes quitar más elementos de los que tienes\n"
     ]
    }
   ],
   "source": [
    "compra_lunes.quitar_producto(\"Manzanas\",4)"
   ]
  },
  {
   "cell_type": "code",
   "execution_count": 36,
   "metadata": {},
   "outputs": [
    {
     "name": "stdout",
     "output_type": "stream",
     "text": [
      "No tienes ese producto en el carrito\n"
     ]
    }
   ],
   "source": [
    "compra_lunes.quitar_producto(\"pomelos\",4)"
   ]
  }
 ],
 "metadata": {
  "kernelspec": {
   "display_name": "Python 3",
   "language": "python",
   "name": "python3"
  },
  "language_info": {
   "codemirror_mode": {
    "name": "ipython",
    "version": 3
   },
   "file_extension": ".py",
   "mimetype": "text/x-python",
   "name": "python",
   "nbconvert_exporter": "python",
   "pygments_lexer": "ipython3",
   "version": "3.7.4"
  }
 },
 "nbformat": 4,
 "nbformat_minor": 1
}
