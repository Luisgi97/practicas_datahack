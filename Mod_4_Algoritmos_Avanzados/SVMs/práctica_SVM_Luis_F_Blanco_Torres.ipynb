{
 "cells": [
  {
   "cell_type": "markdown",
   "metadata": {},
   "source": [
    "# Lab assignment: unemployment rates"
   ]
  },
  {
   "cell_type": "markdown",
   "metadata": {},
   "source": [
    "In this assignment we will estimate unemployment rates in Spain, using *pandas* for reading information, *scikit-learn* for training estimators, and *geopandas* and *folium* for visualizing results."
   ]
  },
  {
   "cell_type": "markdown",
   "metadata": {},
   "source": [
    "## 0. Guidelines"
   ]
  },
  {
   "cell_type": "markdown",
   "metadata": {},
   "source": [
    "Throughout this notebook you will find empty cells that you will need to fill with your own code. Follow the instructions in the notebook and pay special attention to the following symbols.\n",
    "\n",
    "<table align=\"center\">\n",
    " <tr><td width=\"80\"><img src=\"img/question.png\" style=\"width:auto;height:auto\"></td><td style=\"text-align:left\">You will need to solve a question by writing your own code or answer in the cell immediately below or in a different file, as instructed.</td></tr>\n",
    " <tr><td width=\"80\"><img src=\"img/exclamation.png\" style=\"width:auto;height:auto\"></td><td style=\"text-align:left\">This is a hint or useful observation that can help you solve a question. You should pay attention to these hints to better understand questions.</td></tr>\n",
    " <tr><td width=\"80\"><img src=\"img/pro.png\" style=\"width:auto;height:auto\"></td><td style=\"text-align:left\">This is an advanced and voluntary exercise that can help you gain a deeper knowledge into the topic. Good luck!</td></tr>\n",
    "</table>\n",
    "\n",
    "During the assignment you will make use of several Python packages that might not be installed in your machine. It is strongly recommended that you use the environment file *environment.yml* and follow the instructions of the following <a href=\"https://github.com/jorloplaz/teaching_material/tree/master/SVM\">link</a>.\n",
    "\n",
    "If you need any help on the usage of a Python function you can place the writing cursor over its name and press Caps+Shift to produce a pop-out with related documentation. This will only work inside code cells.\n",
    "\n",
    "Make sure the following cell executes correctly, as it imports all you will need:"
   ]
  },
  {
   "cell_type": "code",
   "execution_count": 1,
   "metadata": {
    "ExecuteTime": {
     "end_time": "2018-09-12T12:09:02.355927Z",
     "start_time": "2018-09-12T12:08:58.297175Z"
    }
   },
   "outputs": [],
   "source": [
    "import pandas as pd\n",
    "import numpy as np\n",
    "import branca.colormap as cm\n",
    "import seaborn as sns\n",
    "#import holoviews as hv; hv.extension('bokeh')\n",
    "import utils\n",
    "from sklearn.model_selection import train_test_split, GridSearchCV\n",
    "from sklearn.pipeline import Pipeline\n",
    "from sklearn.preprocessing import StandardScaler\n",
    "from sklearn.svm import LinearSVR, SVR\n",
    "from sklearn.metrics import r2_score\n",
    "from sklearn.dummy import DummyRegressor\n",
    "from sklearn.exceptions import ConvergenceWarning\n",
    "from math import ceil\n",
    "import warnings\n",
    "warnings.simplefilter(action='ignore', category=FutureWarning)\n",
    "warnings.simplefilter(action='ignore', category=DeprecationWarning)\n",
    "warnings.simplefilter(action='ignore', category=ConvergenceWarning)\n",
    "from IPython.display import IFrame\n",
    "import matplotlib.pyplot as plt\n",
    "%matplotlib inline\n",
    "\n",
    "from sklearn.metrics import mean_absolute_error as MAE\n",
    "import statistics as stats\n",
    "import glob"
   ]
  },
  {
   "cell_type": "markdown",
   "metadata": {},
   "source": [
    "## 1. Load and understand data"
   ]
  },
  {
   "cell_type": "markdown",
   "metadata": {},
   "source": [
    "To begin with, let us read some **numerical characteristics of Spanish municipalities**: "
   ]
  },
  {
   "cell_type": "code",
   "execution_count": 2,
   "metadata": {
    "ExecuteTime": {
     "end_time": "2018-09-12T12:09:06.154479Z",
     "start_time": "2018-09-12T12:09:05.940490Z"
    }
   },
   "outputs": [
    {
     "name": "stdout",
     "output_type": "stream",
     "text": [
      "Characteristics of 8112 municipalities\n"
     ]
    },
    {
     "data": {
      "text/html": [
       "<div>\n",
       "<style scoped>\n",
       "    .dataframe tbody tr th:only-of-type {\n",
       "        vertical-align: middle;\n",
       "    }\n",
       "\n",
       "    .dataframe tbody tr th {\n",
       "        vertical-align: top;\n",
       "    }\n",
       "\n",
       "    .dataframe thead th {\n",
       "        text-align: right;\n",
       "    }\n",
       "</style>\n",
       "<table border=\"1\" class=\"dataframe\">\n",
       "  <thead>\n",
       "    <tr style=\"text-align: right;\">\n",
       "      <th></th>\n",
       "      <th></th>\n",
       "      <th></th>\n",
       "      <th>lat</th>\n",
       "      <th>lon</th>\n",
       "      <th>alt</th>\n",
       "      <th>habitantes</th>\n",
       "    </tr>\n",
       "    <tr>\n",
       "      <th>com_aut</th>\n",
       "      <th>prov</th>\n",
       "      <th>mun</th>\n",
       "      <th></th>\n",
       "      <th></th>\n",
       "      <th></th>\n",
       "      <th></th>\n",
       "    </tr>\n",
       "  </thead>\n",
       "  <tbody>\n",
       "    <tr>\n",
       "      <th rowspan=\"5\" valign=\"top\">Valencia</th>\n",
       "      <th rowspan=\"5\" valign=\"top\">Valencia/València</th>\n",
       "      <th>Xeresa</th>\n",
       "      <td>39.00910</td>\n",
       "      <td>-0.217992</td>\n",
       "      <td>34.05847</td>\n",
       "      <td>2221</td>\n",
       "    </tr>\n",
       "    <tr>\n",
       "      <th>Xirivella</th>\n",
       "      <td>39.46669</td>\n",
       "      <td>-0.427794</td>\n",
       "      <td>35.01973</td>\n",
       "      <td>30691</td>\n",
       "    </tr>\n",
       "    <tr>\n",
       "      <th>Yátova</th>\n",
       "      <td>39.38500</td>\n",
       "      <td>-0.808174</td>\n",
       "      <td>441.81140</td>\n",
       "      <td>2199</td>\n",
       "    </tr>\n",
       "    <tr>\n",
       "      <th>Yesa, La</th>\n",
       "      <td>39.49916</td>\n",
       "      <td>-0.426125</td>\n",
       "      <td>52.28455</td>\n",
       "      <td>260</td>\n",
       "    </tr>\n",
       "    <tr>\n",
       "      <th>Zarra</th>\n",
       "      <td>39.09138</td>\n",
       "      <td>-1.075068</td>\n",
       "      <td>576.03660</td>\n",
       "      <td>551</td>\n",
       "    </tr>\n",
       "  </tbody>\n",
       "</table>\n",
       "</div>"
      ],
      "text/plain": [
       "                                           lat       lon        alt  \\\n",
       "com_aut  prov              mun                                        \n",
       "Valencia Valencia/València Xeresa     39.00910 -0.217992   34.05847   \n",
       "                           Xirivella  39.46669 -0.427794   35.01973   \n",
       "                           Yátova     39.38500 -0.808174  441.81140   \n",
       "                           Yesa, La   39.49916 -0.426125   52.28455   \n",
       "                           Zarra      39.09138 -1.075068  576.03660   \n",
       "\n",
       "                                      habitantes  \n",
       "com_aut  prov              mun                    \n",
       "Valencia Valencia/València Xeresa           2221  \n",
       "                           Xirivella       30691  \n",
       "                           Yátova           2199  \n",
       "                           Yesa, La          260  \n",
       "                           Zarra             551  "
      ]
     },
     "execution_count": 2,
     "metadata": {},
     "output_type": "execute_result"
    }
   ],
   "source": [
    "muns_population = utils.read_population('./data/municipios.csv')\n",
    "print(f'Characteristics of {len(muns_population)} municipalities')\n",
    "muns_population.tail()"
   ]
  },
  {
   "cell_type": "markdown",
   "metadata": {},
   "source": [
    "As you can see, **for each municipality we have its position (latitude and longitude in degrees), its altitude (in meters) and its population (number of inhabitants)**. The resulting dataframe is **indexed in a hierarchical way, first by autonomous community (*COM_FIELD*), then by province (*PROV_FIELD*), and finally by municipality name (*MUN_FIELD*), for a total of 8112 municipalities**."
   ]
  },
  {
   "cell_type": "markdown",
   "metadata": {},
   "source": [
    "Our goal is to **predict the yearly unemployment rate for each municipality in 2018**. Let us read the unemployment data belonging to that year:"
   ]
  },
  {
   "cell_type": "code",
   "execution_count": 3,
   "metadata": {
    "ExecuteTime": {
     "end_time": "2018-09-12T12:09:16.001302Z",
     "start_time": "2018-09-12T12:09:11.433327Z"
    }
   },
   "outputs": [
    {
     "name": "stdout",
     "output_type": "stream",
     "text": [
      "unempl_2018 = 97516 unemployment data from 8127 municipalities\n"
     ]
    },
    {
     "data": {
      "text/html": [
       "<div>\n",
       "<style scoped>\n",
       "    .dataframe tbody tr th:only-of-type {\n",
       "        vertical-align: middle;\n",
       "    }\n",
       "\n",
       "    .dataframe tbody tr th {\n",
       "        vertical-align: top;\n",
       "    }\n",
       "\n",
       "    .dataframe thead th {\n",
       "        text-align: right;\n",
       "    }\n",
       "</style>\n",
       "<table border=\"1\" class=\"dataframe\">\n",
       "  <thead>\n",
       "    <tr style=\"text-align: right;\">\n",
       "      <th></th>\n",
       "      <th></th>\n",
       "      <th></th>\n",
       "      <th>año</th>\n",
       "      <th>mes</th>\n",
       "      <th>parados</th>\n",
       "    </tr>\n",
       "    <tr>\n",
       "      <th>com_aut</th>\n",
       "      <th>prov</th>\n",
       "      <th>mun</th>\n",
       "      <th></th>\n",
       "      <th></th>\n",
       "      <th></th>\n",
       "    </tr>\n",
       "  </thead>\n",
       "  <tbody>\n",
       "    <tr>\n",
       "      <th rowspan=\"5\" valign=\"top\">Andalucía</th>\n",
       "      <th rowspan=\"5\" valign=\"top\">Almería</th>\n",
       "      <th>Abla</th>\n",
       "      <td>2018</td>\n",
       "      <td>1</td>\n",
       "      <td>77</td>\n",
       "    </tr>\n",
       "    <tr>\n",
       "      <th>Abrucena</th>\n",
       "      <td>2018</td>\n",
       "      <td>1</td>\n",
       "      <td>69</td>\n",
       "    </tr>\n",
       "    <tr>\n",
       "      <th>Adra</th>\n",
       "      <td>2018</td>\n",
       "      <td>1</td>\n",
       "      <td>2001</td>\n",
       "    </tr>\n",
       "    <tr>\n",
       "      <th>Albánchez</th>\n",
       "      <td>2018</td>\n",
       "      <td>1</td>\n",
       "      <td>31</td>\n",
       "    </tr>\n",
       "    <tr>\n",
       "      <th>Alboloduy</th>\n",
       "      <td>2018</td>\n",
       "      <td>1</td>\n",
       "      <td>33</td>\n",
       "    </tr>\n",
       "  </tbody>\n",
       "</table>\n",
       "</div>"
      ],
      "text/plain": [
       "                              año  mes  parados\n",
       "com_aut   prov    mun                          \n",
       "Andalucía Almería Abla       2018    1       77\n",
       "                  Abrucena   2018    1       69\n",
       "                  Adra       2018    1     2001\n",
       "                  Albánchez  2018    1       31\n",
       "                  Alboloduy  2018    1       33"
      ]
     },
     "execution_count": 3,
     "metadata": {},
     "output_type": "execute_result"
    }
   ],
   "source": [
    "unempl_2018 = utils.read_unemployment('./data/Paro_por_municipios_2018.csv')   # use specific load function from utils module\n",
    "num_muns = len(unempl_2018.index.unique())    # distinct municipalities\n",
    "print(f'unempl_2018 = {len(unempl_2018)} unemployment data from {num_muns} municipalities')\n",
    "unempl_2018.head()"
   ]
  },
  {
   "cell_type": "markdown",
   "metadata": {},
   "source": [
    "These data are indexed in the same way as *muns_population* above. However, we are interested in yearly unemployment, but **we have monthly information** (actually, 97516 observations from 8127 municipalities). For example, taking the municipality of Abla:"
   ]
  },
  {
   "cell_type": "code",
   "execution_count": 4,
   "metadata": {
    "ExecuteTime": {
     "end_time": "2018-09-12T12:09:20.070390Z",
     "start_time": "2018-09-12T12:09:19.971744Z"
    }
   },
   "outputs": [
    {
     "data": {
      "text/html": [
       "<div>\n",
       "<style scoped>\n",
       "    .dataframe tbody tr th:only-of-type {\n",
       "        vertical-align: middle;\n",
       "    }\n",
       "\n",
       "    .dataframe tbody tr th {\n",
       "        vertical-align: top;\n",
       "    }\n",
       "\n",
       "    .dataframe thead th {\n",
       "        text-align: right;\n",
       "    }\n",
       "</style>\n",
       "<table border=\"1\" class=\"dataframe\">\n",
       "  <thead>\n",
       "    <tr style=\"text-align: right;\">\n",
       "      <th></th>\n",
       "      <th></th>\n",
       "      <th></th>\n",
       "      <th>año</th>\n",
       "      <th>mes</th>\n",
       "      <th>parados</th>\n",
       "    </tr>\n",
       "    <tr>\n",
       "      <th>com_aut</th>\n",
       "      <th>prov</th>\n",
       "      <th>mun</th>\n",
       "      <th></th>\n",
       "      <th></th>\n",
       "      <th></th>\n",
       "    </tr>\n",
       "  </thead>\n",
       "  <tbody>\n",
       "    <tr>\n",
       "      <th rowspan=\"12\" valign=\"top\">Andalucía</th>\n",
       "      <th rowspan=\"12\" valign=\"top\">Almería</th>\n",
       "      <th>Abla</th>\n",
       "      <td>2018</td>\n",
       "      <td>1</td>\n",
       "      <td>77</td>\n",
       "    </tr>\n",
       "    <tr>\n",
       "      <th>Abla</th>\n",
       "      <td>2018</td>\n",
       "      <td>2</td>\n",
       "      <td>75</td>\n",
       "    </tr>\n",
       "    <tr>\n",
       "      <th>Abla</th>\n",
       "      <td>2018</td>\n",
       "      <td>3</td>\n",
       "      <td>69</td>\n",
       "    </tr>\n",
       "    <tr>\n",
       "      <th>Abla</th>\n",
       "      <td>2018</td>\n",
       "      <td>4</td>\n",
       "      <td>71</td>\n",
       "    </tr>\n",
       "    <tr>\n",
       "      <th>Abla</th>\n",
       "      <td>2018</td>\n",
       "      <td>5</td>\n",
       "      <td>75</td>\n",
       "    </tr>\n",
       "    <tr>\n",
       "      <th>Abla</th>\n",
       "      <td>2018</td>\n",
       "      <td>6</td>\n",
       "      <td>70</td>\n",
       "    </tr>\n",
       "    <tr>\n",
       "      <th>Abla</th>\n",
       "      <td>2018</td>\n",
       "      <td>7</td>\n",
       "      <td>63</td>\n",
       "    </tr>\n",
       "    <tr>\n",
       "      <th>Abla</th>\n",
       "      <td>2018</td>\n",
       "      <td>8</td>\n",
       "      <td>73</td>\n",
       "    </tr>\n",
       "    <tr>\n",
       "      <th>Abla</th>\n",
       "      <td>2018</td>\n",
       "      <td>9</td>\n",
       "      <td>70</td>\n",
       "    </tr>\n",
       "    <tr>\n",
       "      <th>Abla</th>\n",
       "      <td>2018</td>\n",
       "      <td>10</td>\n",
       "      <td>65</td>\n",
       "    </tr>\n",
       "    <tr>\n",
       "      <th>Abla</th>\n",
       "      <td>2018</td>\n",
       "      <td>11</td>\n",
       "      <td>73</td>\n",
       "    </tr>\n",
       "    <tr>\n",
       "      <th>Abla</th>\n",
       "      <td>2018</td>\n",
       "      <td>12</td>\n",
       "      <td>74</td>\n",
       "    </tr>\n",
       "  </tbody>\n",
       "</table>\n",
       "</div>"
      ],
      "text/plain": [
       "                         año  mes  parados\n",
       "com_aut   prov    mun                     \n",
       "Andalucía Almería Abla  2018    1       77\n",
       "                  Abla  2018    2       75\n",
       "                  Abla  2018    3       69\n",
       "                  Abla  2018    4       71\n",
       "                  Abla  2018    5       75\n",
       "                  Abla  2018    6       70\n",
       "                  Abla  2018    7       63\n",
       "                  Abla  2018    8       73\n",
       "                  Abla  2018    9       70\n",
       "                  Abla  2018   10       65\n",
       "                  Abla  2018   11       73\n",
       "                  Abla  2018   12       74"
      ]
     },
     "execution_count": 4,
     "metadata": {},
     "output_type": "execute_result"
    }
   ],
   "source": [
    "unempl_2018.xs(key='Abla', level=utils.MUN_FIELD, drop_level=False)      # all records whose mun is Abla"
   ]
  },
  {
   "cell_type": "markdown",
   "metadata": {},
   "source": [
    "Using grouping, it is fairly easy to obtain the **yearly means** for each municipality:"
   ]
  },
  {
   "cell_type": "code",
   "execution_count": 5,
   "metadata": {
    "ExecuteTime": {
     "end_time": "2018-09-12T12:09:57.736618Z",
     "start_time": "2018-09-12T12:09:57.657314Z"
    }
   },
   "outputs": [
    {
     "data": {
      "text/html": [
       "<div>\n",
       "<style scoped>\n",
       "    .dataframe tbody tr th:only-of-type {\n",
       "        vertical-align: middle;\n",
       "    }\n",
       "\n",
       "    .dataframe tbody tr th {\n",
       "        vertical-align: top;\n",
       "    }\n",
       "\n",
       "    .dataframe thead th {\n",
       "        text-align: right;\n",
       "    }\n",
       "</style>\n",
       "<table border=\"1\" class=\"dataframe\">\n",
       "  <thead>\n",
       "    <tr style=\"text-align: right;\">\n",
       "      <th></th>\n",
       "      <th></th>\n",
       "      <th></th>\n",
       "      <th>parados</th>\n",
       "    </tr>\n",
       "    <tr>\n",
       "      <th>com_aut</th>\n",
       "      <th>prov</th>\n",
       "      <th>mun</th>\n",
       "      <th></th>\n",
       "    </tr>\n",
       "  </thead>\n",
       "  <tbody>\n",
       "    <tr>\n",
       "      <th rowspan=\"5\" valign=\"top\">Andalucía</th>\n",
       "      <th rowspan=\"5\" valign=\"top\">Almería</th>\n",
       "      <th>Abla</th>\n",
       "      <td>71.250000</td>\n",
       "    </tr>\n",
       "    <tr>\n",
       "      <th>Abrucena</th>\n",
       "      <td>69.166667</td>\n",
       "    </tr>\n",
       "    <tr>\n",
       "      <th>Adra</th>\n",
       "      <td>2419.583333</td>\n",
       "    </tr>\n",
       "    <tr>\n",
       "      <th>Alboloduy</th>\n",
       "      <td>30.750000</td>\n",
       "    </tr>\n",
       "    <tr>\n",
       "      <th>Albox</th>\n",
       "      <td>794.583333</td>\n",
       "    </tr>\n",
       "  </tbody>\n",
       "</table>\n",
       "</div>"
      ],
      "text/plain": [
       "                                 parados\n",
       "com_aut   prov    mun                   \n",
       "Andalucía Almería Abla         71.250000\n",
       "                  Abrucena     69.166667\n",
       "                  Adra       2419.583333\n",
       "                  Alboloduy    30.750000\n",
       "                  Albox       794.583333"
      ]
     },
     "execution_count": 5,
     "metadata": {},
     "output_type": "execute_result"
    }
   ],
   "source": [
    "unempl_2018_means = (unempl_2018\n",
    "                         .groupby(unempl_2018.index.names)   # by the whole hierarchy\n",
    "                         [[utils.UNEMPL_FIELD]]    # just unemployment column\n",
    "                         .mean())   # take mean\n",
    "assert(len(unempl_2018_means) == num_muns)       # there should be just 1 row for each municipality\n",
    "unempl_2018_means.head()"
   ]
  },
  {
   "cell_type": "markdown",
   "metadata": {},
   "source": [
    "Now, in order to obtain our target values, we just need to transform these raw figures to unemployment rates, that is, we have to **divide unemployment by each municipality's population**:"
   ]
  },
  {
   "cell_type": "markdown",
   "metadata": {},
   "source": [
    "<table align=\"left\">\n",
    " <tr><td width=\"80\"><img src=\"img/question.png\" style=\"width:auto;height:auto\"></td><td style=\"text-align:left\">\n",
    "     Create a <i>Y</i> vector (i.e., a Pandas <i>Series</i>) with the mean unemployment rates.\n",
    " </td></tr>\n",
    "</table>"
   ]
  },
  {
   "cell_type": "markdown",
   "metadata": {},
   "source": [
    "<table align=\"left\">\n",
    "<tr><td width=\"80\"><img src=\"img/exclamation.png\" style=\"width:auto;height:auto\"></td><td style=\"text-align:left\">\n",
    "    You should join the frames <i>unempl_2018_means</i> and <i>muns_population</i>. Then divide the mean unemployed people by the inhabitants.\n",
    "    <br>\n",
    "    Be careful while joining! There are some municipalities present in <i>unempl_2018_means</i> but missing in <i>muns_population</i> (8127 vs. 8112), which can lead to <i>nan</i> values when dividing.\n",
    "</td></tr>\n",
    "</table>"
   ]
  },
  {
   "cell_type": "code",
   "execution_count": 6,
   "metadata": {
    "ExecuteTime": {
     "end_time": "2018-09-12T12:10:15.146704Z",
     "start_time": "2018-09-12T12:10:14.823197Z"
    }
   },
   "outputs": [
    {
     "data": {
      "text/plain": [
       "com_aut    prov               mun      \n",
       "Andalucía  Almería            Abla         0.047374\n",
       "                              Abrucena     0.051578\n",
       "                              Adra         0.099273\n",
       "                              Alboloduy    0.045623\n",
       "                              Albox        0.071085\n",
       "                                             ...   \n",
       "Valencia   Valencia/València  Xàtiva       0.081808\n",
       "                              Yesa, La     0.023077\n",
       "                              Yátova       0.059573\n",
       "                              Zarra        0.029643\n",
       "                              Ènova, l'    0.047397\n",
       "Length: 8111, dtype: float64"
      ]
     },
     "execution_count": 6,
     "metadata": {},
     "output_type": "execute_result"
    }
   ],
   "source": [
    "join=unempl_2018_means.merge(muns_population,on=[\"com_aut\",\"prov\",\"mun\"])\n",
    "Y= join.parados/join.habitantes\n",
    "Y"
   ]
  },
  {
   "cell_type": "markdown",
   "metadata": {},
   "source": [
    "Make sure you did things correctly:"
   ]
  },
  {
   "cell_type": "code",
   "execution_count": 7,
   "metadata": {
    "ExecuteTime": {
     "end_time": "2018-09-12T12:12:23.269517Z",
     "start_time": "2018-09-12T12:12:23.241336Z"
    },
    "run_control": {
     "marked": true
    }
   },
   "outputs": [],
   "source": [
    "assert(len(Y) <= min(len(unempl_2018_means), len(muns_population)))  # join can't be larger than any of the joined frames\n",
    "assert(isinstance(Y, pd.Series))     # a series"
   ]
  },
  {
   "cell_type": "markdown",
   "metadata": {},
   "source": [
    "<table align=\"left\">\n",
    " <tr><td width=\"80\"><img src=\"img/pro.png\" style=\"width:auto;height:auto\"></td><td style=\"text-align:left\">\n",
    "Can you list the following?\n",
    "<ul>\n",
    "    <li>Municipalities with known unemployment but unknown population.</li>\n",
    "    <li>Municipalities with known population but unknown unemployment.</li>\n",
    "    <li>The reason why len(unempl_2018) != num_muns*12.</li>\n",
    " </td></tr>\n",
    "</table>"
   ]
  },
  {
   "cell_type": "markdown",
   "metadata": {
    "ExecuteTime": {
     "end_time": "2018-09-12T12:10:31.276505Z",
     "start_time": "2018-09-12T12:10:31.069431Z"
    }
   },
   "source": [
    "<font color='brown'>Estos son los municipios de los que conocemos su tasa de paro, pero no el número de habitantes:</font>"
   ]
  },
  {
   "cell_type": "code",
   "execution_count": 8,
   "metadata": {},
   "outputs": [
    {
     "name": "stdout",
     "output_type": "stream",
     "text": [
      "El número de municipios donde conocemos su tasa de paro, pero no su número de habitantes es: 16\n"
     ]
    },
    {
     "data": {
      "text/html": [
       "<div>\n",
       "<style scoped>\n",
       "    .dataframe tbody tr th:only-of-type {\n",
       "        vertical-align: middle;\n",
       "    }\n",
       "\n",
       "    .dataframe tbody tr th {\n",
       "        vertical-align: top;\n",
       "    }\n",
       "\n",
       "    .dataframe thead th {\n",
       "        text-align: right;\n",
       "    }\n",
       "</style>\n",
       "<table border=\"1\" class=\"dataframe\">\n",
       "  <thead>\n",
       "    <tr style=\"text-align: right;\">\n",
       "      <th></th>\n",
       "      <th></th>\n",
       "      <th></th>\n",
       "      <th>parados</th>\n",
       "      <th>lat</th>\n",
       "      <th>lon</th>\n",
       "      <th>alt</th>\n",
       "      <th>habitantes</th>\n",
       "    </tr>\n",
       "    <tr>\n",
       "      <th>com_aut</th>\n",
       "      <th>prov</th>\n",
       "      <th>mun</th>\n",
       "      <th></th>\n",
       "      <th></th>\n",
       "      <th></th>\n",
       "      <th></th>\n",
       "      <th></th>\n",
       "    </tr>\n",
       "  </thead>\n",
       "  <tbody>\n",
       "    <tr>\n",
       "      <th rowspan=\"8\" valign=\"top\">Andalucía</th>\n",
       "      <th>Almería</th>\n",
       "      <th>Balanegra</th>\n",
       "      <td>198.166667</td>\n",
       "      <td>NaN</td>\n",
       "      <td>NaN</td>\n",
       "      <td>NaN</td>\n",
       "      <td>NaN</td>\n",
       "    </tr>\n",
       "    <tr>\n",
       "      <th rowspan=\"4\" valign=\"top\">Granada</th>\n",
       "      <th>Dehesas Viejas</th>\n",
       "      <td>53.583333</td>\n",
       "      <td>NaN</td>\n",
       "      <td>NaN</td>\n",
       "      <td>NaN</td>\n",
       "      <td>NaN</td>\n",
       "    </tr>\n",
       "    <tr>\n",
       "      <th>Domingo Pérez de Granada</th>\n",
       "      <td>54.750000</td>\n",
       "      <td>NaN</td>\n",
       "      <td>NaN</td>\n",
       "      <td>NaN</td>\n",
       "      <td>NaN</td>\n",
       "    </tr>\n",
       "    <tr>\n",
       "      <th>Játar</th>\n",
       "      <td>22.416667</td>\n",
       "      <td>NaN</td>\n",
       "      <td>NaN</td>\n",
       "      <td>NaN</td>\n",
       "      <td>NaN</td>\n",
       "    </tr>\n",
       "    <tr>\n",
       "      <th>Valderrubio</th>\n",
       "      <td>133.833333</td>\n",
       "      <td>NaN</td>\n",
       "      <td>NaN</td>\n",
       "      <td>NaN</td>\n",
       "      <td>NaN</td>\n",
       "    </tr>\n",
       "    <tr>\n",
       "      <th rowspan=\"3\" valign=\"top\">Málaga</th>\n",
       "      <th>Montecorto</th>\n",
       "      <td>53.333333</td>\n",
       "      <td>NaN</td>\n",
       "      <td>NaN</td>\n",
       "      <td>NaN</td>\n",
       "      <td>NaN</td>\n",
       "    </tr>\n",
       "    <tr>\n",
       "      <th>Serrato</th>\n",
       "      <td>44.166667</td>\n",
       "      <td>NaN</td>\n",
       "      <td>NaN</td>\n",
       "      <td>NaN</td>\n",
       "      <td>NaN</td>\n",
       "    </tr>\n",
       "    <tr>\n",
       "      <th>Villanueva de la Concepción</th>\n",
       "      <td>213.166667</td>\n",
       "      <td>NaN</td>\n",
       "      <td>NaN</td>\n",
       "      <td>NaN</td>\n",
       "      <td>NaN</td>\n",
       "    </tr>\n",
       "    <tr>\n",
       "      <th>Catalunya</th>\n",
       "      <th>Tarragona</th>\n",
       "      <th>Canonja, La</th>\n",
       "      <td>306.666667</td>\n",
       "      <td>NaN</td>\n",
       "      <td>NaN</td>\n",
       "      <td>NaN</td>\n",
       "      <td>NaN</td>\n",
       "    </tr>\n",
       "    <tr>\n",
       "      <th rowspan=\"5\" valign=\"top\">Extremadura</th>\n",
       "      <th>Badajoz</th>\n",
       "      <th>Guadiana del Caudillo</th>\n",
       "      <td>216.500000</td>\n",
       "      <td>NaN</td>\n",
       "      <td>NaN</td>\n",
       "      <td>NaN</td>\n",
       "      <td>NaN</td>\n",
       "    </tr>\n",
       "    <tr>\n",
       "      <th rowspan=\"4\" valign=\"top\">Cáceres</th>\n",
       "      <th>Alagón del Río</th>\n",
       "      <td>79.833333</td>\n",
       "      <td>NaN</td>\n",
       "      <td>NaN</td>\n",
       "      <td>NaN</td>\n",
       "      <td>NaN</td>\n",
       "    </tr>\n",
       "    <tr>\n",
       "      <th>Pueblonuevo de Miramontes</th>\n",
       "      <td>24.750000</td>\n",
       "      <td>NaN</td>\n",
       "      <td>NaN</td>\n",
       "      <td>NaN</td>\n",
       "      <td>NaN</td>\n",
       "    </tr>\n",
       "    <tr>\n",
       "      <th>Tiétar</th>\n",
       "      <td>49.833333</td>\n",
       "      <td>NaN</td>\n",
       "      <td>NaN</td>\n",
       "      <td>NaN</td>\n",
       "      <td>NaN</td>\n",
       "    </tr>\n",
       "    <tr>\n",
       "      <th>Vegaviana</th>\n",
       "      <td>93.000000</td>\n",
       "      <td>NaN</td>\n",
       "      <td>NaN</td>\n",
       "      <td>NaN</td>\n",
       "      <td>NaN</td>\n",
       "    </tr>\n",
       "    <tr>\n",
       "      <th>Galicia</th>\n",
       "      <th>A Coruña</th>\n",
       "      <th>Oza-Cesuras</th>\n",
       "      <td>0.000000</td>\n",
       "      <td>NaN</td>\n",
       "      <td>NaN</td>\n",
       "      <td>NaN</td>\n",
       "      <td>NaN</td>\n",
       "    </tr>\n",
       "    <tr>\n",
       "      <th>Navarra</th>\n",
       "      <th>Navarra</th>\n",
       "      <th>Noáin (Valle de Elorz)/Noain (Elortzibar)</th>\n",
       "      <td>445.916667</td>\n",
       "      <td>NaN</td>\n",
       "      <td>NaN</td>\n",
       "      <td>NaN</td>\n",
       "      <td>NaN</td>\n",
       "    </tr>\n",
       "  </tbody>\n",
       "</table>\n",
       "</div>"
      ],
      "text/plain": [
       "                                                                    parados  \\\n",
       "com_aut     prov      mun                                                     \n",
       "Andalucía   Almería   Balanegra                                  198.166667   \n",
       "            Granada   Dehesas Viejas                              53.583333   \n",
       "                      Domingo Pérez de Granada                    54.750000   \n",
       "                      Játar                                       22.416667   \n",
       "                      Valderrubio                                133.833333   \n",
       "            Málaga    Montecorto                                  53.333333   \n",
       "                      Serrato                                     44.166667   \n",
       "                      Villanueva de la Concepción                213.166667   \n",
       "Catalunya   Tarragona Canonja, La                                306.666667   \n",
       "Extremadura Badajoz   Guadiana del Caudillo                      216.500000   \n",
       "            Cáceres   Alagón del Río                              79.833333   \n",
       "                      Pueblonuevo de Miramontes                   24.750000   \n",
       "                      Tiétar                                      49.833333   \n",
       "                      Vegaviana                                   93.000000   \n",
       "Galicia     A Coruña  Oza-Cesuras                                  0.000000   \n",
       "Navarra     Navarra   Noáin (Valle de Elorz)/Noain (Elortzibar)  445.916667   \n",
       "\n",
       "                                                                 lat  lon  \\\n",
       "com_aut     prov      mun                                                   \n",
       "Andalucía   Almería   Balanegra                                  NaN  NaN   \n",
       "            Granada   Dehesas Viejas                             NaN  NaN   \n",
       "                      Domingo Pérez de Granada                   NaN  NaN   \n",
       "                      Játar                                      NaN  NaN   \n",
       "                      Valderrubio                                NaN  NaN   \n",
       "            Málaga    Montecorto                                 NaN  NaN   \n",
       "                      Serrato                                    NaN  NaN   \n",
       "                      Villanueva de la Concepción                NaN  NaN   \n",
       "Catalunya   Tarragona Canonja, La                                NaN  NaN   \n",
       "Extremadura Badajoz   Guadiana del Caudillo                      NaN  NaN   \n",
       "            Cáceres   Alagón del Río                             NaN  NaN   \n",
       "                      Pueblonuevo de Miramontes                  NaN  NaN   \n",
       "                      Tiétar                                     NaN  NaN   \n",
       "                      Vegaviana                                  NaN  NaN   \n",
       "Galicia     A Coruña  Oza-Cesuras                                NaN  NaN   \n",
       "Navarra     Navarra   Noáin (Valle de Elorz)/Noain (Elortzibar)  NaN  NaN   \n",
       "\n",
       "                                                                 alt  \\\n",
       "com_aut     prov      mun                                              \n",
       "Andalucía   Almería   Balanegra                                  NaN   \n",
       "            Granada   Dehesas Viejas                             NaN   \n",
       "                      Domingo Pérez de Granada                   NaN   \n",
       "                      Játar                                      NaN   \n",
       "                      Valderrubio                                NaN   \n",
       "            Málaga    Montecorto                                 NaN   \n",
       "                      Serrato                                    NaN   \n",
       "                      Villanueva de la Concepción                NaN   \n",
       "Catalunya   Tarragona Canonja, La                                NaN   \n",
       "Extremadura Badajoz   Guadiana del Caudillo                      NaN   \n",
       "            Cáceres   Alagón del Río                             NaN   \n",
       "                      Pueblonuevo de Miramontes                  NaN   \n",
       "                      Tiétar                                     NaN   \n",
       "                      Vegaviana                                  NaN   \n",
       "Galicia     A Coruña  Oza-Cesuras                                NaN   \n",
       "Navarra     Navarra   Noáin (Valle de Elorz)/Noain (Elortzibar)  NaN   \n",
       "\n",
       "                                                                 habitantes  \n",
       "com_aut     prov      mun                                                    \n",
       "Andalucía   Almería   Balanegra                                         NaN  \n",
       "            Granada   Dehesas Viejas                                    NaN  \n",
       "                      Domingo Pérez de Granada                          NaN  \n",
       "                      Játar                                             NaN  \n",
       "                      Valderrubio                                       NaN  \n",
       "            Málaga    Montecorto                                        NaN  \n",
       "                      Serrato                                           NaN  \n",
       "                      Villanueva de la Concepción                       NaN  \n",
       "Catalunya   Tarragona Canonja, La                                       NaN  \n",
       "Extremadura Badajoz   Guadiana del Caudillo                             NaN  \n",
       "            Cáceres   Alagón del Río                                    NaN  \n",
       "                      Pueblonuevo de Miramontes                         NaN  \n",
       "                      Tiétar                                            NaN  \n",
       "                      Vegaviana                                         NaN  \n",
       "Galicia     A Coruña  Oza-Cesuras                                       NaN  \n",
       "Navarra     Navarra   Noáin (Valle de Elorz)/Noain (Elortzibar)         NaN  "
      ]
     },
     "execution_count": 8,
     "metadata": {},
     "output_type": "execute_result"
    }
   ],
   "source": [
    "desempleados_poblacion= unempl_2018_means.merge(muns_population,how=\"left\", on=[\"com_aut\",\"prov\",\"mun\"])\n",
    "desempleados_poblacion_nulos=desempleados_poblacion[pd.isnull(desempleados_poblacion).any(axis=1)]\n",
    "print(\"El número de municipios donde conocemos su tasa de paro, \"\n",
    "      \"pero no su número de habitantes es:\",desempleados_poblacion_nulos.shape[0])\n",
    "desempleados_poblacion_nulos"
   ]
  },
  {
   "cell_type": "markdown",
   "metadata": {},
   "source": [
    "<font color='brown'>Municipios donde conocemos la población pero no el desempleo:</font>"
   ]
  },
  {
   "cell_type": "code",
   "execution_count": 9,
   "metadata": {},
   "outputs": [
    {
     "name": "stdout",
     "output_type": "stream",
     "text": [
      "El número de municipios donde conocemos su número de habitantes, pero no su tasa de paro es: 1\n"
     ]
    },
    {
     "data": {
      "text/html": [
       "<div>\n",
       "<style scoped>\n",
       "    .dataframe tbody tr th:only-of-type {\n",
       "        vertical-align: middle;\n",
       "    }\n",
       "\n",
       "    .dataframe tbody tr th {\n",
       "        vertical-align: top;\n",
       "    }\n",
       "\n",
       "    .dataframe thead th {\n",
       "        text-align: right;\n",
       "    }\n",
       "</style>\n",
       "<table border=\"1\" class=\"dataframe\">\n",
       "  <thead>\n",
       "    <tr style=\"text-align: right;\">\n",
       "      <th></th>\n",
       "      <th></th>\n",
       "      <th></th>\n",
       "      <th>parados</th>\n",
       "      <th>lat</th>\n",
       "      <th>lon</th>\n",
       "      <th>alt</th>\n",
       "      <th>habitantes</th>\n",
       "    </tr>\n",
       "    <tr>\n",
       "      <th>com_aut</th>\n",
       "      <th>prov</th>\n",
       "      <th>mun</th>\n",
       "      <th></th>\n",
       "      <th></th>\n",
       "      <th></th>\n",
       "      <th></th>\n",
       "      <th></th>\n",
       "    </tr>\n",
       "  </thead>\n",
       "  <tbody>\n",
       "    <tr>\n",
       "      <th>Navarra</th>\n",
       "      <th>Navarra</th>\n",
       "      <th>Noáin/Noain</th>\n",
       "      <td>NaN</td>\n",
       "      <td>42.7599</td>\n",
       "      <td>-1.633801</td>\n",
       "      <td>459.8526</td>\n",
       "      <td>6806</td>\n",
       "    </tr>\n",
       "  </tbody>\n",
       "</table>\n",
       "</div>"
      ],
      "text/plain": [
       "                             parados      lat       lon       alt  habitantes\n",
       "com_aut prov    mun                                                          \n",
       "Navarra Navarra Noáin/Noain      NaN  42.7599 -1.633801  459.8526        6806"
      ]
     },
     "execution_count": 9,
     "metadata": {},
     "output_type": "execute_result"
    }
   ],
   "source": [
    "poblacion_desempleados= unempl_2018_means.merge(muns_population,how=\"right\", on=[\"com_aut\",\"prov\",\"mun\"])\n",
    "poblacion_desempleados_nulos=poblacion_desempleados[pd.isnull(poblacion_desempleados).any(axis=1)]\n",
    "print(\"El número de municipios donde conocemos su número de habitantes, \"\n",
    "      \"pero no su tasa de paro es:\",poblacion_desempleados_nulos.shape[0])\n",
    "poblacion_desempleados_nulos"
   ]
  },
  {
   "cell_type": "markdown",
   "metadata": {},
   "source": [
    "<font color='brown'>A continuación, vamos a comprobar por qué len(unempl_2018) != num_muns*12.</font>"
   ]
  },
  {
   "cell_type": "code",
   "execution_count": 10,
   "metadata": {},
   "outputs": [
    {
     "name": "stdout",
     "output_type": "stream",
     "text": [
      "El número de municipios por 12 meses de cada municipio: 97524\n",
      "El número de registros del dataset unempl_2018 es: 97516\n",
      "Nos encontramos con una diferencia de: 8 registros\n"
     ]
    }
   ],
   "source": [
    "print(\"El número de municipios por 12 meses de cada municipio:\",num_muns*12)\n",
    "print(\"El número de registros del dataset unempl_2018 es:\",len(unempl_2018))\n",
    "print(\"Nos encontramos con una diferencia de:\",(num_muns*12)-len(unempl_2018),\"registros\")"
   ]
  },
  {
   "cell_type": "markdown",
   "metadata": {},
   "source": [
    "<font color='brown'>Vamos a comprobar que todos los municipios tengan 12 registros, es decir, uno por cada mes:</font>"
   ]
  },
  {
   "cell_type": "code",
   "execution_count": 11,
   "metadata": {},
   "outputs": [
    {
     "name": "stderr",
     "output_type": "stream",
     "text": [
      "C:\\Users\\Luis\\Anaconda3\\envs\\datahack_algs_avanzados_svm\\lib\\site-packages\\IPython\\core\\async_helpers.py:68: PerformanceWarning: indexing past lexsort depth may impact performance.\n",
      "  coro.send(None)\n"
     ]
    },
    {
     "data": {
      "text/plain": [
       "[('Extremadura', 'Cáceres', 'Pueblonuevo de Miramontes')]"
      ]
     },
     "execution_count": 11,
     "metadata": {},
     "output_type": "execute_result"
    }
   ],
   "source": [
    "indices_unempl_2018=unempl_2018.index.unique()\n",
    "municipios_con_meses_nan=[i for i in indices_unempl_2018 if unempl_2018.xs(key=(i)).count()[\"mes\"]<12]\n",
    "municipios_con_meses_nan"
   ]
  },
  {
   "cell_type": "code",
   "execution_count": 12,
   "metadata": {},
   "outputs": [
    {
     "name": "stderr",
     "output_type": "stream",
     "text": [
      "C:\\Users\\Luis\\Anaconda3\\envs\\datahack_algs_avanzados_svm\\lib\\site-packages\\IPython\\core\\interactiveshell.py:2886: PerformanceWarning: indexing past lexsort depth may impact performance.\n",
      "  return runner(coro)\n"
     ]
    },
    {
     "data": {
      "text/plain": [
       "4"
      ]
     },
     "execution_count": 12,
     "metadata": {},
     "output_type": "execute_result"
    }
   ],
   "source": [
    "unempl_2018.xs(key=municipios_con_meses_nan[0]).count()[\"mes\"]"
   ]
  },
  {
   "cell_type": "markdown",
   "metadata": {},
   "source": [
    "<font color='brown'>Observamos que para el municipio Pueblo de Miramontes de Cáceres, Extremadura, sólo tenemos 4 registros, y deberíamos tener 12 registros, uno por cada mes. Aquí tenemos los 8 registros que faltan en el dataframe \"unempl_2018\".</font>"
   ]
  },
  {
   "cell_type": "markdown",
   "metadata": {},
   "source": [
    "## 2. Build and test a dummy baseline model"
   ]
  },
  {
   "cell_type": "markdown",
   "metadata": {},
   "source": [
    "In order to build models, we need to **split the data into training and set sets**. Let us fix the random seed and the ratio of data for training and test:"
   ]
  },
  {
   "cell_type": "code",
   "execution_count": 13,
   "metadata": {
    "ExecuteTime": {
     "end_time": "2018-09-12T12:15:37.298593Z",
     "start_time": "2018-09-12T12:15:37.294765Z"
    }
   },
   "outputs": [],
   "source": [
    "RANDOM_STATE = 42   # fix seed\n",
    "TEST_PERC = 0.3     # 30% for test, 70% for training"
   ]
  },
  {
   "cell_type": "markdown",
   "metadata": {},
   "source": [
    "<table align=\"left\">\n",
    " <tr><td width=\"80\"><img src=\"img/question.png\" style=\"width:auto;height:auto\"></td><td style=\"text-align:left\">\n",
    "     Split <i>Y</i> into training and test sets, so that you obtain variables <i>Y_train</i> and <i>Y_test</i>. Use both constants <i>RANDOM_STATE</i> and <i>TEST_PERC</i>.\n",
    " </td></tr>\n",
    "</table>"
   ]
  },
  {
   "cell_type": "code",
   "execution_count": 14,
   "metadata": {
    "ExecuteTime": {
     "end_time": "2018-09-12T12:15:49.887448Z",
     "start_time": "2018-09-12T12:15:49.871868Z"
    },
    "scrolled": false
   },
   "outputs": [
    {
     "name": "stdout",
     "output_type": "stream",
     "text": [
      "Nuestro Y_train es:\n",
      "com_aut             prov              mun                 \n",
      "Castilla La Mancha  Guadalajara       Rueda de la Sierra      0.006173\n",
      "Castilla León       Salamanca         Galindo y Perahuy       0.048592\n",
      "Aragón              Teruel            Gea de Albarracín       0.029412\n",
      "Castilla León       Salamanca         Santiz                  0.044300\n",
      "Andalucía           Cádiz             Villamartín             0.130529\n",
      "                                                                ...   \n",
      "Catalunya           Barcelona         Vallcebre               0.021149\n",
      "                    Girona            Rupià                   0.029835\n",
      "Aragón              Huesca            Foradada del Toscar     0.009218\n",
      "Valencia            Alicante/Alacant  Benilloba               0.071514\n",
      "Navarra             Navarra           Salinas de Oro/Jaitz    0.042754\n",
      "Length: 5677, dtype: float64\n",
      "\n",
      "\n",
      "Nuestro Y_test es:\n",
      "com_aut             prov               mun                    \n",
      "Castilla La Mancha  Cuenca             Valle de Altomira, El      0.021480\n",
      "Andalucía           Huelva             San Silvestre de Guzmán    0.042950\n",
      "Valencia            Valencia/València  Puçol                      0.056692\n",
      "Catalunya           Barcelona          Orpí                       0.030303\n",
      "                    Girona             Pau                        0.034025\n",
      "                                                                    ...   \n",
      "Navarra             Navarra            Irurtzun                   0.052959\n",
      "Andalucía           Huelva             Villalba del Alcor         0.087132\n",
      "Castilla La Mancha  Ciudad Real        Villarta de San Juan       0.087132\n",
      "Castilla León       Salamanca          Valdelageve                0.075521\n",
      "Aragón              Huesca             Arén                       0.018490\n",
      "Length: 2434, dtype: float64\n"
     ]
    }
   ],
   "source": [
    "Y_train,Y_test=train_test_split(Y,test_size=TEST_PERC,random_state=RANDOM_STATE)\n",
    "print(\"Nuestro Y_train es:\")\n",
    "print(Y_train)\n",
    "print(\"\\n\")\n",
    "print(\"Nuestro Y_test es:\")\n",
    "print(Y_test)"
   ]
  },
  {
   "cell_type": "markdown",
   "metadata": {},
   "source": [
    "Let us verify that data have been split correctly:"
   ]
  },
  {
   "cell_type": "code",
   "execution_count": 15,
   "metadata": {
    "ExecuteTime": {
     "end_time": "2018-09-12T12:16:49.893023Z",
     "start_time": "2018-09-12T12:16:49.888441Z"
    }
   },
   "outputs": [],
   "source": [
    "assert(len(Y_test) == ceil(TEST_PERC*len(Y)) and type(Y_test) == type(Y))  # test set size is 30% of total size\n",
    "assert(len(Y_train) == len(Y) - len(Y_test) and type(Y_train) == type(Y))  # when not in test, should be in train\n",
    "assert(Y_train.index.intersection(Y_test.index).empty)   # there's no municipality present both in train and test"
   ]
  },
  {
   "cell_type": "markdown",
   "metadata": {},
   "source": [
    "Our goal thus is to predict as good as possible the values of *Y_test*. Because these data are relative to physical places, we can plot them in a map as follows. First, we create a color range to cover the different rates we have:"
   ]
  },
  {
   "cell_type": "code",
   "execution_count": 16,
   "metadata": {
    "ExecuteTime": {
     "end_time": "2018-09-12T12:17:15.355394Z",
     "start_time": "2018-09-12T12:17:15.323209Z"
    },
    "code_folding": []
   },
   "outputs": [
    {
     "data": {
      "text/html": [
       "<svg height=\"50\" width=\"500\"><line x1=\"0\" y1=\"0\" x2=\"0\" y2=\"20\" style=\"stroke:#008000;stroke-width:3;\" /><line x1=\"1\" y1=\"0\" x2=\"1\" y2=\"20\" style=\"stroke:#028100;stroke-width:3;\" /><line x1=\"2\" y1=\"0\" x2=\"2\" y2=\"20\" style=\"stroke:#048200;stroke-width:3;\" /><line x1=\"3\" y1=\"0\" x2=\"3\" y2=\"20\" style=\"stroke:#068300;stroke-width:3;\" /><line x1=\"4\" y1=\"0\" x2=\"4\" y2=\"20\" style=\"stroke:#088400;stroke-width:3;\" /><line x1=\"5\" y1=\"0\" x2=\"5\" y2=\"20\" style=\"stroke:#0a8500;stroke-width:3;\" /><line x1=\"6\" y1=\"0\" x2=\"6\" y2=\"20\" style=\"stroke:#0c8600;stroke-width:3;\" /><line x1=\"7\" y1=\"0\" x2=\"7\" y2=\"20\" style=\"stroke:#0e8700;stroke-width:3;\" /><line x1=\"8\" y1=\"0\" x2=\"8\" y2=\"20\" style=\"stroke:#108800;stroke-width:3;\" /><line x1=\"9\" y1=\"0\" x2=\"9\" y2=\"20\" style=\"stroke:#128900;stroke-width:3;\" /><line x1=\"10\" y1=\"0\" x2=\"10\" y2=\"20\" style=\"stroke:#148a00;stroke-width:3;\" /><line x1=\"11\" y1=\"0\" x2=\"11\" y2=\"20\" style=\"stroke:#168b00;stroke-width:3;\" /><line x1=\"12\" y1=\"0\" x2=\"12\" y2=\"20\" style=\"stroke:#188c00;stroke-width:3;\" /><line x1=\"13\" y1=\"0\" x2=\"13\" y2=\"20\" style=\"stroke:#1a8d00;stroke-width:3;\" /><line x1=\"14\" y1=\"0\" x2=\"14\" y2=\"20\" style=\"stroke:#1c8e00;stroke-width:3;\" /><line x1=\"15\" y1=\"0\" x2=\"15\" y2=\"20\" style=\"stroke:#1e8f00;stroke-width:3;\" /><line x1=\"16\" y1=\"0\" x2=\"16\" y2=\"20\" style=\"stroke:#209000;stroke-width:3;\" /><line x1=\"17\" y1=\"0\" x2=\"17\" y2=\"20\" style=\"stroke:#229100;stroke-width:3;\" /><line x1=\"18\" y1=\"0\" x2=\"18\" y2=\"20\" style=\"stroke:#249200;stroke-width:3;\" /><line x1=\"19\" y1=\"0\" x2=\"19\" y2=\"20\" style=\"stroke:#269300;stroke-width:3;\" /><line x1=\"20\" y1=\"0\" x2=\"20\" y2=\"20\" style=\"stroke:#299400;stroke-width:3;\" /><line x1=\"21\" y1=\"0\" x2=\"21\" y2=\"20\" style=\"stroke:#2b9500;stroke-width:3;\" /><line x1=\"22\" y1=\"0\" x2=\"22\" y2=\"20\" style=\"stroke:#2d9600;stroke-width:3;\" /><line x1=\"23\" y1=\"0\" x2=\"23\" y2=\"20\" style=\"stroke:#2f9800;stroke-width:3;\" /><line x1=\"24\" y1=\"0\" x2=\"24\" y2=\"20\" style=\"stroke:#319900;stroke-width:3;\" /><line x1=\"25\" y1=\"0\" x2=\"25\" y2=\"20\" style=\"stroke:#339a00;stroke-width:3;\" /><line x1=\"26\" y1=\"0\" x2=\"26\" y2=\"20\" style=\"stroke:#359b00;stroke-width:3;\" /><line x1=\"27\" y1=\"0\" x2=\"27\" y2=\"20\" style=\"stroke:#379c00;stroke-width:3;\" /><line x1=\"28\" y1=\"0\" x2=\"28\" y2=\"20\" style=\"stroke:#399d00;stroke-width:3;\" /><line x1=\"29\" y1=\"0\" x2=\"29\" y2=\"20\" style=\"stroke:#3b9e00;stroke-width:3;\" /><line x1=\"30\" y1=\"0\" x2=\"30\" y2=\"20\" style=\"stroke:#3d9f00;stroke-width:3;\" /><line x1=\"31\" y1=\"0\" x2=\"31\" y2=\"20\" style=\"stroke:#3fa000;stroke-width:3;\" /><line x1=\"32\" y1=\"0\" x2=\"32\" y2=\"20\" style=\"stroke:#41a100;stroke-width:3;\" /><line x1=\"33\" y1=\"0\" x2=\"33\" y2=\"20\" style=\"stroke:#43a200;stroke-width:3;\" /><line x1=\"34\" y1=\"0\" x2=\"34\" y2=\"20\" style=\"stroke:#45a300;stroke-width:3;\" /><line x1=\"35\" y1=\"0\" x2=\"35\" y2=\"20\" style=\"stroke:#47a400;stroke-width:3;\" /><line x1=\"36\" y1=\"0\" x2=\"36\" y2=\"20\" style=\"stroke:#49a500;stroke-width:3;\" /><line x1=\"37\" y1=\"0\" x2=\"37\" y2=\"20\" style=\"stroke:#4ba600;stroke-width:3;\" /><line x1=\"38\" y1=\"0\" x2=\"38\" y2=\"20\" style=\"stroke:#4da700;stroke-width:3;\" /><line x1=\"39\" y1=\"0\" x2=\"39\" y2=\"20\" style=\"stroke:#50a800;stroke-width:3;\" /><line x1=\"40\" y1=\"0\" x2=\"40\" y2=\"20\" style=\"stroke:#52a900;stroke-width:3;\" /><line x1=\"41\" y1=\"0\" x2=\"41\" y2=\"20\" style=\"stroke:#54aa00;stroke-width:3;\" /><line x1=\"42\" y1=\"0\" x2=\"42\" y2=\"20\" style=\"stroke:#56ab00;stroke-width:3;\" /><line x1=\"43\" y1=\"0\" x2=\"43\" y2=\"20\" style=\"stroke:#58ac00;stroke-width:3;\" /><line x1=\"44\" y1=\"0\" x2=\"44\" y2=\"20\" style=\"stroke:#5aad00;stroke-width:3;\" /><line x1=\"45\" y1=\"0\" x2=\"45\" y2=\"20\" style=\"stroke:#5cae00;stroke-width:3;\" /><line x1=\"46\" y1=\"0\" x2=\"46\" y2=\"20\" style=\"stroke:#5eaf00;stroke-width:3;\" /><line x1=\"47\" y1=\"0\" x2=\"47\" y2=\"20\" style=\"stroke:#60b000;stroke-width:3;\" /><line x1=\"48\" y1=\"0\" x2=\"48\" y2=\"20\" style=\"stroke:#62b100;stroke-width:3;\" /><line x1=\"49\" y1=\"0\" x2=\"49\" y2=\"20\" style=\"stroke:#64b200;stroke-width:3;\" /><line x1=\"50\" y1=\"0\" x2=\"50\" y2=\"20\" style=\"stroke:#66b300;stroke-width:3;\" /><line x1=\"51\" y1=\"0\" x2=\"51\" y2=\"20\" style=\"stroke:#68b400;stroke-width:3;\" /><line x1=\"52\" y1=\"0\" x2=\"52\" y2=\"20\" style=\"stroke:#6ab500;stroke-width:3;\" /><line x1=\"53\" y1=\"0\" x2=\"53\" y2=\"20\" style=\"stroke:#6cb600;stroke-width:3;\" /><line x1=\"54\" y1=\"0\" x2=\"54\" y2=\"20\" style=\"stroke:#6eb700;stroke-width:3;\" /><line x1=\"55\" y1=\"0\" x2=\"55\" y2=\"20\" style=\"stroke:#70b800;stroke-width:3;\" /><line x1=\"56\" y1=\"0\" x2=\"56\" y2=\"20\" style=\"stroke:#72b900;stroke-width:3;\" /><line x1=\"57\" y1=\"0\" x2=\"57\" y2=\"20\" style=\"stroke:#74ba00;stroke-width:3;\" /><line x1=\"58\" y1=\"0\" x2=\"58\" y2=\"20\" style=\"stroke:#77bb00;stroke-width:3;\" /><line x1=\"59\" y1=\"0\" x2=\"59\" y2=\"20\" style=\"stroke:#79bc00;stroke-width:3;\" /><line x1=\"60\" y1=\"0\" x2=\"60\" y2=\"20\" style=\"stroke:#7bbd00;stroke-width:3;\" /><line x1=\"61\" y1=\"0\" x2=\"61\" y2=\"20\" style=\"stroke:#7dbe00;stroke-width:3;\" /><line x1=\"62\" y1=\"0\" x2=\"62\" y2=\"20\" style=\"stroke:#7fbf00;stroke-width:3;\" /><line x1=\"63\" y1=\"0\" x2=\"63\" y2=\"20\" style=\"stroke:#81c000;stroke-width:3;\" /><line x1=\"64\" y1=\"0\" x2=\"64\" y2=\"20\" style=\"stroke:#83c100;stroke-width:3;\" /><line x1=\"65\" y1=\"0\" x2=\"65\" y2=\"20\" style=\"stroke:#85c200;stroke-width:3;\" /><line x1=\"66\" y1=\"0\" x2=\"66\" y2=\"20\" style=\"stroke:#87c300;stroke-width:3;\" /><line x1=\"67\" y1=\"0\" x2=\"67\" y2=\"20\" style=\"stroke:#89c400;stroke-width:3;\" /><line x1=\"68\" y1=\"0\" x2=\"68\" y2=\"20\" style=\"stroke:#8bc500;stroke-width:3;\" /><line x1=\"69\" y1=\"0\" x2=\"69\" y2=\"20\" style=\"stroke:#8dc700;stroke-width:3;\" /><line x1=\"70\" y1=\"0\" x2=\"70\" y2=\"20\" style=\"stroke:#8fc800;stroke-width:3;\" /><line x1=\"71\" y1=\"0\" x2=\"71\" y2=\"20\" style=\"stroke:#91c900;stroke-width:3;\" /><line x1=\"72\" y1=\"0\" x2=\"72\" y2=\"20\" style=\"stroke:#93ca00;stroke-width:3;\" /><line x1=\"73\" y1=\"0\" x2=\"73\" y2=\"20\" style=\"stroke:#95cb00;stroke-width:3;\" /><line x1=\"74\" y1=\"0\" x2=\"74\" y2=\"20\" style=\"stroke:#97cc00;stroke-width:3;\" /><line x1=\"75\" y1=\"0\" x2=\"75\" y2=\"20\" style=\"stroke:#99cd00;stroke-width:3;\" /><line x1=\"76\" y1=\"0\" x2=\"76\" y2=\"20\" style=\"stroke:#9bce00;stroke-width:3;\" /><line x1=\"77\" y1=\"0\" x2=\"77\" y2=\"20\" style=\"stroke:#9ecf00;stroke-width:3;\" /><line x1=\"78\" y1=\"0\" x2=\"78\" y2=\"20\" style=\"stroke:#a0d000;stroke-width:3;\" /><line x1=\"79\" y1=\"0\" x2=\"79\" y2=\"20\" style=\"stroke:#a2d100;stroke-width:3;\" /><line x1=\"80\" y1=\"0\" x2=\"80\" y2=\"20\" style=\"stroke:#a4d200;stroke-width:3;\" /><line x1=\"81\" y1=\"0\" x2=\"81\" y2=\"20\" style=\"stroke:#a6d300;stroke-width:3;\" /><line x1=\"82\" y1=\"0\" x2=\"82\" y2=\"20\" style=\"stroke:#a8d400;stroke-width:3;\" /><line x1=\"83\" y1=\"0\" x2=\"83\" y2=\"20\" style=\"stroke:#aad500;stroke-width:3;\" /><line x1=\"84\" y1=\"0\" x2=\"84\" y2=\"20\" style=\"stroke:#acd600;stroke-width:3;\" /><line x1=\"85\" y1=\"0\" x2=\"85\" y2=\"20\" style=\"stroke:#aed700;stroke-width:3;\" /><line x1=\"86\" y1=\"0\" x2=\"86\" y2=\"20\" style=\"stroke:#b0d800;stroke-width:3;\" /><line x1=\"87\" y1=\"0\" x2=\"87\" y2=\"20\" style=\"stroke:#b2d900;stroke-width:3;\" /><line x1=\"88\" y1=\"0\" x2=\"88\" y2=\"20\" style=\"stroke:#b4da00;stroke-width:3;\" /><line x1=\"89\" y1=\"0\" x2=\"89\" y2=\"20\" style=\"stroke:#b6db00;stroke-width:3;\" /><line x1=\"90\" y1=\"0\" x2=\"90\" y2=\"20\" style=\"stroke:#b8dc00;stroke-width:3;\" /><line x1=\"91\" y1=\"0\" x2=\"91\" y2=\"20\" style=\"stroke:#badd00;stroke-width:3;\" /><line x1=\"92\" y1=\"0\" x2=\"92\" y2=\"20\" style=\"stroke:#bcde00;stroke-width:3;\" /><line x1=\"93\" y1=\"0\" x2=\"93\" y2=\"20\" style=\"stroke:#bedf00;stroke-width:3;\" /><line x1=\"94\" y1=\"0\" x2=\"94\" y2=\"20\" style=\"stroke:#c0e000;stroke-width:3;\" /><line x1=\"95\" y1=\"0\" x2=\"95\" y2=\"20\" style=\"stroke:#c2e100;stroke-width:3;\" /><line x1=\"96\" y1=\"0\" x2=\"96\" y2=\"20\" style=\"stroke:#c5e200;stroke-width:3;\" /><line x1=\"97\" y1=\"0\" x2=\"97\" y2=\"20\" style=\"stroke:#c7e300;stroke-width:3;\" /><line x1=\"98\" y1=\"0\" x2=\"98\" y2=\"20\" style=\"stroke:#c9e400;stroke-width:3;\" /><line x1=\"99\" y1=\"0\" x2=\"99\" y2=\"20\" style=\"stroke:#cbe500;stroke-width:3;\" /><line x1=\"100\" y1=\"0\" x2=\"100\" y2=\"20\" style=\"stroke:#cde600;stroke-width:3;\" /><line x1=\"101\" y1=\"0\" x2=\"101\" y2=\"20\" style=\"stroke:#cfe700;stroke-width:3;\" /><line x1=\"102\" y1=\"0\" x2=\"102\" y2=\"20\" style=\"stroke:#d1e800;stroke-width:3;\" /><line x1=\"103\" y1=\"0\" x2=\"103\" y2=\"20\" style=\"stroke:#d3e900;stroke-width:3;\" /><line x1=\"104\" y1=\"0\" x2=\"104\" y2=\"20\" style=\"stroke:#d5ea00;stroke-width:3;\" /><line x1=\"105\" y1=\"0\" x2=\"105\" y2=\"20\" style=\"stroke:#d7eb00;stroke-width:3;\" /><line x1=\"106\" y1=\"0\" x2=\"106\" y2=\"20\" style=\"stroke:#d9ec00;stroke-width:3;\" /><line x1=\"107\" y1=\"0\" x2=\"107\" y2=\"20\" style=\"stroke:#dbed00;stroke-width:3;\" /><line x1=\"108\" y1=\"0\" x2=\"108\" y2=\"20\" style=\"stroke:#ddee00;stroke-width:3;\" /><line x1=\"109\" y1=\"0\" x2=\"109\" y2=\"20\" style=\"stroke:#dfef00;stroke-width:3;\" /><line x1=\"110\" y1=\"0\" x2=\"110\" y2=\"20\" style=\"stroke:#e1f000;stroke-width:3;\" /><line x1=\"111\" y1=\"0\" x2=\"111\" y2=\"20\" style=\"stroke:#e3f100;stroke-width:3;\" /><line x1=\"112\" y1=\"0\" x2=\"112\" y2=\"20\" style=\"stroke:#e5f200;stroke-width:3;\" /><line x1=\"113\" y1=\"0\" x2=\"113\" y2=\"20\" style=\"stroke:#e7f300;stroke-width:3;\" /><line x1=\"114\" y1=\"0\" x2=\"114\" y2=\"20\" style=\"stroke:#e9f500;stroke-width:3;\" /><line x1=\"115\" y1=\"0\" x2=\"115\" y2=\"20\" style=\"stroke:#ebf600;stroke-width:3;\" /><line x1=\"116\" y1=\"0\" x2=\"116\" y2=\"20\" style=\"stroke:#eef700;stroke-width:3;\" /><line x1=\"117\" y1=\"0\" x2=\"117\" y2=\"20\" style=\"stroke:#f0f800;stroke-width:3;\" /><line x1=\"118\" y1=\"0\" x2=\"118\" y2=\"20\" style=\"stroke:#f2f900;stroke-width:3;\" /><line x1=\"119\" y1=\"0\" x2=\"119\" y2=\"20\" style=\"stroke:#f4fa00;stroke-width:3;\" /><line x1=\"120\" y1=\"0\" x2=\"120\" y2=\"20\" style=\"stroke:#f6fb00;stroke-width:3;\" /><line x1=\"121\" y1=\"0\" x2=\"121\" y2=\"20\" style=\"stroke:#f8fc00;stroke-width:3;\" /><line x1=\"122\" y1=\"0\" x2=\"122\" y2=\"20\" style=\"stroke:#fafd00;stroke-width:3;\" /><line x1=\"123\" y1=\"0\" x2=\"123\" y2=\"20\" style=\"stroke:#fcfe00;stroke-width:3;\" /><line x1=\"124\" y1=\"0\" x2=\"124\" y2=\"20\" style=\"stroke:#feff00;stroke-width:3;\" /><line x1=\"125\" y1=\"0\" x2=\"125\" y2=\"20\" style=\"stroke:#ffff00;stroke-width:3;\" /><line x1=\"126\" y1=\"0\" x2=\"126\" y2=\"20\" style=\"stroke:#ffff00;stroke-width:3;\" /><line x1=\"127\" y1=\"0\" x2=\"127\" y2=\"20\" style=\"stroke:#fffe00;stroke-width:3;\" /><line x1=\"128\" y1=\"0\" x2=\"128\" y2=\"20\" style=\"stroke:#fffd00;stroke-width:3;\" /><line x1=\"129\" y1=\"0\" x2=\"129\" y2=\"20\" style=\"stroke:#fffc00;stroke-width:3;\" /><line x1=\"130\" y1=\"0\" x2=\"130\" y2=\"20\" style=\"stroke:#fffc00;stroke-width:3;\" /><line x1=\"131\" y1=\"0\" x2=\"131\" y2=\"20\" style=\"stroke:#fffb00;stroke-width:3;\" /><line x1=\"132\" y1=\"0\" x2=\"132\" y2=\"20\" style=\"stroke:#fffa00;stroke-width:3;\" /><line x1=\"133\" y1=\"0\" x2=\"133\" y2=\"20\" style=\"stroke:#fffa00;stroke-width:3;\" /><line x1=\"134\" y1=\"0\" x2=\"134\" y2=\"20\" style=\"stroke:#fff900;stroke-width:3;\" /><line x1=\"135\" y1=\"0\" x2=\"135\" y2=\"20\" style=\"stroke:#fff800;stroke-width:3;\" /><line x1=\"136\" y1=\"0\" x2=\"136\" y2=\"20\" style=\"stroke:#fff700;stroke-width:3;\" /><line x1=\"137\" y1=\"0\" x2=\"137\" y2=\"20\" style=\"stroke:#fff700;stroke-width:3;\" /><line x1=\"138\" y1=\"0\" x2=\"138\" y2=\"20\" style=\"stroke:#fff600;stroke-width:3;\" /><line x1=\"139\" y1=\"0\" x2=\"139\" y2=\"20\" style=\"stroke:#fff500;stroke-width:3;\" /><line x1=\"140\" y1=\"0\" x2=\"140\" y2=\"20\" style=\"stroke:#fff400;stroke-width:3;\" /><line x1=\"141\" y1=\"0\" x2=\"141\" y2=\"20\" style=\"stroke:#fff400;stroke-width:3;\" /><line x1=\"142\" y1=\"0\" x2=\"142\" y2=\"20\" style=\"stroke:#fff300;stroke-width:3;\" /><line x1=\"143\" y1=\"0\" x2=\"143\" y2=\"20\" style=\"stroke:#fff200;stroke-width:3;\" /><line x1=\"144\" y1=\"0\" x2=\"144\" y2=\"20\" style=\"stroke:#fff200;stroke-width:3;\" /><line x1=\"145\" y1=\"0\" x2=\"145\" y2=\"20\" style=\"stroke:#fff100;stroke-width:3;\" /><line x1=\"146\" y1=\"0\" x2=\"146\" y2=\"20\" style=\"stroke:#fff000;stroke-width:3;\" /><line x1=\"147\" y1=\"0\" x2=\"147\" y2=\"20\" style=\"stroke:#ffef00;stroke-width:3;\" /><line x1=\"148\" y1=\"0\" x2=\"148\" y2=\"20\" style=\"stroke:#ffef00;stroke-width:3;\" /><line x1=\"149\" y1=\"0\" x2=\"149\" y2=\"20\" style=\"stroke:#ffee00;stroke-width:3;\" /><line x1=\"150\" y1=\"0\" x2=\"150\" y2=\"20\" style=\"stroke:#ffed00;stroke-width:3;\" /><line x1=\"151\" y1=\"0\" x2=\"151\" y2=\"20\" style=\"stroke:#ffec00;stroke-width:3;\" /><line x1=\"152\" y1=\"0\" x2=\"152\" y2=\"20\" style=\"stroke:#ffec00;stroke-width:3;\" /><line x1=\"153\" y1=\"0\" x2=\"153\" y2=\"20\" style=\"stroke:#ffeb00;stroke-width:3;\" /><line x1=\"154\" y1=\"0\" x2=\"154\" y2=\"20\" style=\"stroke:#ffea00;stroke-width:3;\" /><line x1=\"155\" y1=\"0\" x2=\"155\" y2=\"20\" style=\"stroke:#ffea00;stroke-width:3;\" /><line x1=\"156\" y1=\"0\" x2=\"156\" y2=\"20\" style=\"stroke:#ffe900;stroke-width:3;\" /><line x1=\"157\" y1=\"0\" x2=\"157\" y2=\"20\" style=\"stroke:#ffe800;stroke-width:3;\" /><line x1=\"158\" y1=\"0\" x2=\"158\" y2=\"20\" style=\"stroke:#ffe700;stroke-width:3;\" /><line x1=\"159\" y1=\"0\" x2=\"159\" y2=\"20\" style=\"stroke:#ffe700;stroke-width:3;\" /><line x1=\"160\" y1=\"0\" x2=\"160\" y2=\"20\" style=\"stroke:#ffe600;stroke-width:3;\" /><line x1=\"161\" y1=\"0\" x2=\"161\" y2=\"20\" style=\"stroke:#ffe500;stroke-width:3;\" /><line x1=\"162\" y1=\"0\" x2=\"162\" y2=\"20\" style=\"stroke:#ffe500;stroke-width:3;\" /><line x1=\"163\" y1=\"0\" x2=\"163\" y2=\"20\" style=\"stroke:#ffe400;stroke-width:3;\" /><line x1=\"164\" y1=\"0\" x2=\"164\" y2=\"20\" style=\"stroke:#ffe300;stroke-width:3;\" /><line x1=\"165\" y1=\"0\" x2=\"165\" y2=\"20\" style=\"stroke:#ffe200;stroke-width:3;\" /><line x1=\"166\" y1=\"0\" x2=\"166\" y2=\"20\" style=\"stroke:#ffe200;stroke-width:3;\" /><line x1=\"167\" y1=\"0\" x2=\"167\" y2=\"20\" style=\"stroke:#ffe100;stroke-width:3;\" /><line x1=\"168\" y1=\"0\" x2=\"168\" y2=\"20\" style=\"stroke:#ffe000;stroke-width:3;\" /><line x1=\"169\" y1=\"0\" x2=\"169\" y2=\"20\" style=\"stroke:#ffdf00;stroke-width:3;\" /><line x1=\"170\" y1=\"0\" x2=\"170\" y2=\"20\" style=\"stroke:#ffdf00;stroke-width:3;\" /><line x1=\"171\" y1=\"0\" x2=\"171\" y2=\"20\" style=\"stroke:#ffde00;stroke-width:3;\" /><line x1=\"172\" y1=\"0\" x2=\"172\" y2=\"20\" style=\"stroke:#ffdd00;stroke-width:3;\" /><line x1=\"173\" y1=\"0\" x2=\"173\" y2=\"20\" style=\"stroke:#ffdd00;stroke-width:3;\" /><line x1=\"174\" y1=\"0\" x2=\"174\" y2=\"20\" style=\"stroke:#ffdc00;stroke-width:3;\" /><line x1=\"175\" y1=\"0\" x2=\"175\" y2=\"20\" style=\"stroke:#ffdb00;stroke-width:3;\" /><line x1=\"176\" y1=\"0\" x2=\"176\" y2=\"20\" style=\"stroke:#ffda00;stroke-width:3;\" /><line x1=\"177\" y1=\"0\" x2=\"177\" y2=\"20\" style=\"stroke:#ffda00;stroke-width:3;\" /><line x1=\"178\" y1=\"0\" x2=\"178\" y2=\"20\" style=\"stroke:#ffd900;stroke-width:3;\" /><line x1=\"179\" y1=\"0\" x2=\"179\" y2=\"20\" style=\"stroke:#ffd800;stroke-width:3;\" /><line x1=\"180\" y1=\"0\" x2=\"180\" y2=\"20\" style=\"stroke:#ffd700;stroke-width:3;\" /><line x1=\"181\" y1=\"0\" x2=\"181\" y2=\"20\" style=\"stroke:#ffd700;stroke-width:3;\" /><line x1=\"182\" y1=\"0\" x2=\"182\" y2=\"20\" style=\"stroke:#ffd600;stroke-width:3;\" /><line x1=\"183\" y1=\"0\" x2=\"183\" y2=\"20\" style=\"stroke:#ffd500;stroke-width:3;\" /><line x1=\"184\" y1=\"0\" x2=\"184\" y2=\"20\" style=\"stroke:#ffd500;stroke-width:3;\" /><line x1=\"185\" y1=\"0\" x2=\"185\" y2=\"20\" style=\"stroke:#ffd400;stroke-width:3;\" /><line x1=\"186\" y1=\"0\" x2=\"186\" y2=\"20\" style=\"stroke:#ffd300;stroke-width:3;\" /><line x1=\"187\" y1=\"0\" x2=\"187\" y2=\"20\" style=\"stroke:#ffd200;stroke-width:3;\" /><line x1=\"188\" y1=\"0\" x2=\"188\" y2=\"20\" style=\"stroke:#ffd200;stroke-width:3;\" /><line x1=\"189\" y1=\"0\" x2=\"189\" y2=\"20\" style=\"stroke:#ffd100;stroke-width:3;\" /><line x1=\"190\" y1=\"0\" x2=\"190\" y2=\"20\" style=\"stroke:#ffd000;stroke-width:3;\" /><line x1=\"191\" y1=\"0\" x2=\"191\" y2=\"20\" style=\"stroke:#ffd000;stroke-width:3;\" /><line x1=\"192\" y1=\"0\" x2=\"192\" y2=\"20\" style=\"stroke:#ffcf00;stroke-width:3;\" /><line x1=\"193\" y1=\"0\" x2=\"193\" y2=\"20\" style=\"stroke:#ffce00;stroke-width:3;\" /><line x1=\"194\" y1=\"0\" x2=\"194\" y2=\"20\" style=\"stroke:#ffcd00;stroke-width:3;\" /><line x1=\"195\" y1=\"0\" x2=\"195\" y2=\"20\" style=\"stroke:#ffcd00;stroke-width:3;\" /><line x1=\"196\" y1=\"0\" x2=\"196\" y2=\"20\" style=\"stroke:#ffcc00;stroke-width:3;\" /><line x1=\"197\" y1=\"0\" x2=\"197\" y2=\"20\" style=\"stroke:#ffcb00;stroke-width:3;\" /><line x1=\"198\" y1=\"0\" x2=\"198\" y2=\"20\" style=\"stroke:#ffca00;stroke-width:3;\" /><line x1=\"199\" y1=\"0\" x2=\"199\" y2=\"20\" style=\"stroke:#ffca00;stroke-width:3;\" /><line x1=\"200\" y1=\"0\" x2=\"200\" y2=\"20\" style=\"stroke:#ffc900;stroke-width:3;\" /><line x1=\"201\" y1=\"0\" x2=\"201\" y2=\"20\" style=\"stroke:#ffc800;stroke-width:3;\" /><line x1=\"202\" y1=\"0\" x2=\"202\" y2=\"20\" style=\"stroke:#ffc800;stroke-width:3;\" /><line x1=\"203\" y1=\"0\" x2=\"203\" y2=\"20\" style=\"stroke:#ffc700;stroke-width:3;\" /><line x1=\"204\" y1=\"0\" x2=\"204\" y2=\"20\" style=\"stroke:#ffc600;stroke-width:3;\" /><line x1=\"205\" y1=\"0\" x2=\"205\" y2=\"20\" style=\"stroke:#ffc500;stroke-width:3;\" /><line x1=\"206\" y1=\"0\" x2=\"206\" y2=\"20\" style=\"stroke:#ffc500;stroke-width:3;\" /><line x1=\"207\" y1=\"0\" x2=\"207\" y2=\"20\" style=\"stroke:#ffc400;stroke-width:3;\" /><line x1=\"208\" y1=\"0\" x2=\"208\" y2=\"20\" style=\"stroke:#ffc300;stroke-width:3;\" /><line x1=\"209\" y1=\"0\" x2=\"209\" y2=\"20\" style=\"stroke:#ffc200;stroke-width:3;\" /><line x1=\"210\" y1=\"0\" x2=\"210\" y2=\"20\" style=\"stroke:#ffc200;stroke-width:3;\" /><line x1=\"211\" y1=\"0\" x2=\"211\" y2=\"20\" style=\"stroke:#ffc100;stroke-width:3;\" /><line x1=\"212\" y1=\"0\" x2=\"212\" y2=\"20\" style=\"stroke:#ffc000;stroke-width:3;\" /><line x1=\"213\" y1=\"0\" x2=\"213\" y2=\"20\" style=\"stroke:#ffc000;stroke-width:3;\" /><line x1=\"214\" y1=\"0\" x2=\"214\" y2=\"20\" style=\"stroke:#ffbf00;stroke-width:3;\" /><line x1=\"215\" y1=\"0\" x2=\"215\" y2=\"20\" style=\"stroke:#ffbe00;stroke-width:3;\" /><line x1=\"216\" y1=\"0\" x2=\"216\" y2=\"20\" style=\"stroke:#ffbd00;stroke-width:3;\" /><line x1=\"217\" y1=\"0\" x2=\"217\" y2=\"20\" style=\"stroke:#ffbd00;stroke-width:3;\" /><line x1=\"218\" y1=\"0\" x2=\"218\" y2=\"20\" style=\"stroke:#ffbc00;stroke-width:3;\" /><line x1=\"219\" y1=\"0\" x2=\"219\" y2=\"20\" style=\"stroke:#ffbb00;stroke-width:3;\" /><line x1=\"220\" y1=\"0\" x2=\"220\" y2=\"20\" style=\"stroke:#ffbb00;stroke-width:3;\" /><line x1=\"221\" y1=\"0\" x2=\"221\" y2=\"20\" style=\"stroke:#ffba00;stroke-width:3;\" /><line x1=\"222\" y1=\"0\" x2=\"222\" y2=\"20\" style=\"stroke:#ffb900;stroke-width:3;\" /><line x1=\"223\" y1=\"0\" x2=\"223\" y2=\"20\" style=\"stroke:#ffb800;stroke-width:3;\" /><line x1=\"224\" y1=\"0\" x2=\"224\" y2=\"20\" style=\"stroke:#ffb800;stroke-width:3;\" /><line x1=\"225\" y1=\"0\" x2=\"225\" y2=\"20\" style=\"stroke:#ffb700;stroke-width:3;\" /><line x1=\"226\" y1=\"0\" x2=\"226\" y2=\"20\" style=\"stroke:#ffb600;stroke-width:3;\" /><line x1=\"227\" y1=\"0\" x2=\"227\" y2=\"20\" style=\"stroke:#ffb500;stroke-width:3;\" /><line x1=\"228\" y1=\"0\" x2=\"228\" y2=\"20\" style=\"stroke:#ffb500;stroke-width:3;\" /><line x1=\"229\" y1=\"0\" x2=\"229\" y2=\"20\" style=\"stroke:#ffb400;stroke-width:3;\" /><line x1=\"230\" y1=\"0\" x2=\"230\" y2=\"20\" style=\"stroke:#ffb300;stroke-width:3;\" /><line x1=\"231\" y1=\"0\" x2=\"231\" y2=\"20\" style=\"stroke:#ffb300;stroke-width:3;\" /><line x1=\"232\" y1=\"0\" x2=\"232\" y2=\"20\" style=\"stroke:#ffb200;stroke-width:3;\" /><line x1=\"233\" y1=\"0\" x2=\"233\" y2=\"20\" style=\"stroke:#ffb100;stroke-width:3;\" /><line x1=\"234\" y1=\"0\" x2=\"234\" y2=\"20\" style=\"stroke:#ffb000;stroke-width:3;\" /><line x1=\"235\" y1=\"0\" x2=\"235\" y2=\"20\" style=\"stroke:#ffb000;stroke-width:3;\" /><line x1=\"236\" y1=\"0\" x2=\"236\" y2=\"20\" style=\"stroke:#ffaf00;stroke-width:3;\" /><line x1=\"237\" y1=\"0\" x2=\"237\" y2=\"20\" style=\"stroke:#ffae00;stroke-width:3;\" /><line x1=\"238\" y1=\"0\" x2=\"238\" y2=\"20\" style=\"stroke:#ffad00;stroke-width:3;\" /><line x1=\"239\" y1=\"0\" x2=\"239\" y2=\"20\" style=\"stroke:#ffad00;stroke-width:3;\" /><line x1=\"240\" y1=\"0\" x2=\"240\" y2=\"20\" style=\"stroke:#ffac00;stroke-width:3;\" /><line x1=\"241\" y1=\"0\" x2=\"241\" y2=\"20\" style=\"stroke:#ffab00;stroke-width:3;\" /><line x1=\"242\" y1=\"0\" x2=\"242\" y2=\"20\" style=\"stroke:#ffab00;stroke-width:3;\" /><line x1=\"243\" y1=\"0\" x2=\"243\" y2=\"20\" style=\"stroke:#ffaa00;stroke-width:3;\" /><line x1=\"244\" y1=\"0\" x2=\"244\" y2=\"20\" style=\"stroke:#ffa900;stroke-width:3;\" /><line x1=\"245\" y1=\"0\" x2=\"245\" y2=\"20\" style=\"stroke:#ffa800;stroke-width:3;\" /><line x1=\"246\" y1=\"0\" x2=\"246\" y2=\"20\" style=\"stroke:#ffa800;stroke-width:3;\" /><line x1=\"247\" y1=\"0\" x2=\"247\" y2=\"20\" style=\"stroke:#ffa700;stroke-width:3;\" /><line x1=\"248\" y1=\"0\" x2=\"248\" y2=\"20\" style=\"stroke:#ffa600;stroke-width:3;\" /><line x1=\"249\" y1=\"0\" x2=\"249\" y2=\"20\" style=\"stroke:#ffa600;stroke-width:3;\" /><line x1=\"250\" y1=\"0\" x2=\"250\" y2=\"20\" style=\"stroke:#ffa400;stroke-width:3;\" /><line x1=\"251\" y1=\"0\" x2=\"251\" y2=\"20\" style=\"stroke:#ffa300;stroke-width:3;\" /><line x1=\"252\" y1=\"0\" x2=\"252\" y2=\"20\" style=\"stroke:#ffa200;stroke-width:3;\" /><line x1=\"253\" y1=\"0\" x2=\"253\" y2=\"20\" style=\"stroke:#ffa000;stroke-width:3;\" /><line x1=\"254\" y1=\"0\" x2=\"254\" y2=\"20\" style=\"stroke:#ff9f00;stroke-width:3;\" /><line x1=\"255\" y1=\"0\" x2=\"255\" y2=\"20\" style=\"stroke:#ff9e00;stroke-width:3;\" /><line x1=\"256\" y1=\"0\" x2=\"256\" y2=\"20\" style=\"stroke:#ff9d00;stroke-width:3;\" /><line x1=\"257\" y1=\"0\" x2=\"257\" y2=\"20\" style=\"stroke:#ff9b00;stroke-width:3;\" /><line x1=\"258\" y1=\"0\" x2=\"258\" y2=\"20\" style=\"stroke:#ff9a00;stroke-width:3;\" /><line x1=\"259\" y1=\"0\" x2=\"259\" y2=\"20\" style=\"stroke:#ff9900;stroke-width:3;\" /><line x1=\"260\" y1=\"0\" x2=\"260\" y2=\"20\" style=\"stroke:#ff9700;stroke-width:3;\" /><line x1=\"261\" y1=\"0\" x2=\"261\" y2=\"20\" style=\"stroke:#ff9600;stroke-width:3;\" /><line x1=\"262\" y1=\"0\" x2=\"262\" y2=\"20\" style=\"stroke:#ff9500;stroke-width:3;\" /><line x1=\"263\" y1=\"0\" x2=\"263\" y2=\"20\" style=\"stroke:#ff9300;stroke-width:3;\" /><line x1=\"264\" y1=\"0\" x2=\"264\" y2=\"20\" style=\"stroke:#ff9200;stroke-width:3;\" /><line x1=\"265\" y1=\"0\" x2=\"265\" y2=\"20\" style=\"stroke:#ff9100;stroke-width:3;\" /><line x1=\"266\" y1=\"0\" x2=\"266\" y2=\"20\" style=\"stroke:#ff8f00;stroke-width:3;\" /><line x1=\"267\" y1=\"0\" x2=\"267\" y2=\"20\" style=\"stroke:#ff8e00;stroke-width:3;\" /><line x1=\"268\" y1=\"0\" x2=\"268\" y2=\"20\" style=\"stroke:#ff8d00;stroke-width:3;\" /><line x1=\"269\" y1=\"0\" x2=\"269\" y2=\"20\" style=\"stroke:#ff8b00;stroke-width:3;\" /><line x1=\"270\" y1=\"0\" x2=\"270\" y2=\"20\" style=\"stroke:#ff8a00;stroke-width:3;\" /><line x1=\"271\" y1=\"0\" x2=\"271\" y2=\"20\" style=\"stroke:#ff8900;stroke-width:3;\" /><line x1=\"272\" y1=\"0\" x2=\"272\" y2=\"20\" style=\"stroke:#ff8700;stroke-width:3;\" /><line x1=\"273\" y1=\"0\" x2=\"273\" y2=\"20\" style=\"stroke:#ff8600;stroke-width:3;\" /><line x1=\"274\" y1=\"0\" x2=\"274\" y2=\"20\" style=\"stroke:#ff8500;stroke-width:3;\" /><line x1=\"275\" y1=\"0\" x2=\"275\" y2=\"20\" style=\"stroke:#ff8300;stroke-width:3;\" /><line x1=\"276\" y1=\"0\" x2=\"276\" y2=\"20\" style=\"stroke:#ff8200;stroke-width:3;\" /><line x1=\"277\" y1=\"0\" x2=\"277\" y2=\"20\" style=\"stroke:#ff8100;stroke-width:3;\" /><line x1=\"278\" y1=\"0\" x2=\"278\" y2=\"20\" style=\"stroke:#ff7f00;stroke-width:3;\" /><line x1=\"279\" y1=\"0\" x2=\"279\" y2=\"20\" style=\"stroke:#ff7e00;stroke-width:3;\" /><line x1=\"280\" y1=\"0\" x2=\"280\" y2=\"20\" style=\"stroke:#ff7d00;stroke-width:3;\" /><line x1=\"281\" y1=\"0\" x2=\"281\" y2=\"20\" style=\"stroke:#ff7b00;stroke-width:3;\" /><line x1=\"282\" y1=\"0\" x2=\"282\" y2=\"20\" style=\"stroke:#ff7a00;stroke-width:3;\" /><line x1=\"283\" y1=\"0\" x2=\"283\" y2=\"20\" style=\"stroke:#ff7900;stroke-width:3;\" /><line x1=\"284\" y1=\"0\" x2=\"284\" y2=\"20\" style=\"stroke:#ff7700;stroke-width:3;\" /><line x1=\"285\" y1=\"0\" x2=\"285\" y2=\"20\" style=\"stroke:#ff7600;stroke-width:3;\" /><line x1=\"286\" y1=\"0\" x2=\"286\" y2=\"20\" style=\"stroke:#ff7500;stroke-width:3;\" /><line x1=\"287\" y1=\"0\" x2=\"287\" y2=\"20\" style=\"stroke:#ff7300;stroke-width:3;\" /><line x1=\"288\" y1=\"0\" x2=\"288\" y2=\"20\" style=\"stroke:#ff7200;stroke-width:3;\" /><line x1=\"289\" y1=\"0\" x2=\"289\" y2=\"20\" style=\"stroke:#ff7100;stroke-width:3;\" /><line x1=\"290\" y1=\"0\" x2=\"290\" y2=\"20\" style=\"stroke:#ff6f00;stroke-width:3;\" /><line x1=\"291\" y1=\"0\" x2=\"291\" y2=\"20\" style=\"stroke:#ff6e00;stroke-width:3;\" /><line x1=\"292\" y1=\"0\" x2=\"292\" y2=\"20\" style=\"stroke:#ff6d00;stroke-width:3;\" /><line x1=\"293\" y1=\"0\" x2=\"293\" y2=\"20\" style=\"stroke:#ff6b00;stroke-width:3;\" /><line x1=\"294\" y1=\"0\" x2=\"294\" y2=\"20\" style=\"stroke:#ff6a00;stroke-width:3;\" /><line x1=\"295\" y1=\"0\" x2=\"295\" y2=\"20\" style=\"stroke:#ff6900;stroke-width:3;\" /><line x1=\"296\" y1=\"0\" x2=\"296\" y2=\"20\" style=\"stroke:#ff6700;stroke-width:3;\" /><line x1=\"297\" y1=\"0\" x2=\"297\" y2=\"20\" style=\"stroke:#ff6600;stroke-width:3;\" /><line x1=\"298\" y1=\"0\" x2=\"298\" y2=\"20\" style=\"stroke:#ff6500;stroke-width:3;\" /><line x1=\"299\" y1=\"0\" x2=\"299\" y2=\"20\" style=\"stroke:#ff6300;stroke-width:3;\" /><line x1=\"300\" y1=\"0\" x2=\"300\" y2=\"20\" style=\"stroke:#ff6200;stroke-width:3;\" /><line x1=\"301\" y1=\"0\" x2=\"301\" y2=\"20\" style=\"stroke:#ff6100;stroke-width:3;\" /><line x1=\"302\" y1=\"0\" x2=\"302\" y2=\"20\" style=\"stroke:#ff5f00;stroke-width:3;\" /><line x1=\"303\" y1=\"0\" x2=\"303\" y2=\"20\" style=\"stroke:#ff5e00;stroke-width:3;\" /><line x1=\"304\" y1=\"0\" x2=\"304\" y2=\"20\" style=\"stroke:#ff5d00;stroke-width:3;\" /><line x1=\"305\" y1=\"0\" x2=\"305\" y2=\"20\" style=\"stroke:#ff5b00;stroke-width:3;\" /><line x1=\"306\" y1=\"0\" x2=\"306\" y2=\"20\" style=\"stroke:#ff5a00;stroke-width:3;\" /><line x1=\"307\" y1=\"0\" x2=\"307\" y2=\"20\" style=\"stroke:#ff5900;stroke-width:3;\" /><line x1=\"308\" y1=\"0\" x2=\"308\" y2=\"20\" style=\"stroke:#ff5700;stroke-width:3;\" /><line x1=\"309\" y1=\"0\" x2=\"309\" y2=\"20\" style=\"stroke:#ff5600;stroke-width:3;\" /><line x1=\"310\" y1=\"0\" x2=\"310\" y2=\"20\" style=\"stroke:#ff5500;stroke-width:3;\" /><line x1=\"311\" y1=\"0\" x2=\"311\" y2=\"20\" style=\"stroke:#ff5300;stroke-width:3;\" /><line x1=\"312\" y1=\"0\" x2=\"312\" y2=\"20\" style=\"stroke:#ff5200;stroke-width:3;\" /><line x1=\"313\" y1=\"0\" x2=\"313\" y2=\"20\" style=\"stroke:#ff5100;stroke-width:3;\" /><line x1=\"314\" y1=\"0\" x2=\"314\" y2=\"20\" style=\"stroke:#ff5000;stroke-width:3;\" /><line x1=\"315\" y1=\"0\" x2=\"315\" y2=\"20\" style=\"stroke:#ff4e00;stroke-width:3;\" /><line x1=\"316\" y1=\"0\" x2=\"316\" y2=\"20\" style=\"stroke:#ff4d00;stroke-width:3;\" /><line x1=\"317\" y1=\"0\" x2=\"317\" y2=\"20\" style=\"stroke:#ff4c00;stroke-width:3;\" /><line x1=\"318\" y1=\"0\" x2=\"318\" y2=\"20\" style=\"stroke:#ff4a00;stroke-width:3;\" /><line x1=\"319\" y1=\"0\" x2=\"319\" y2=\"20\" style=\"stroke:#ff4900;stroke-width:3;\" /><line x1=\"320\" y1=\"0\" x2=\"320\" y2=\"20\" style=\"stroke:#ff4800;stroke-width:3;\" /><line x1=\"321\" y1=\"0\" x2=\"321\" y2=\"20\" style=\"stroke:#ff4600;stroke-width:3;\" /><line x1=\"322\" y1=\"0\" x2=\"322\" y2=\"20\" style=\"stroke:#ff4500;stroke-width:3;\" /><line x1=\"323\" y1=\"0\" x2=\"323\" y2=\"20\" style=\"stroke:#ff4400;stroke-width:3;\" /><line x1=\"324\" y1=\"0\" x2=\"324\" y2=\"20\" style=\"stroke:#ff4200;stroke-width:3;\" /><line x1=\"325\" y1=\"0\" x2=\"325\" y2=\"20\" style=\"stroke:#ff4100;stroke-width:3;\" /><line x1=\"326\" y1=\"0\" x2=\"326\" y2=\"20\" style=\"stroke:#ff4000;stroke-width:3;\" /><line x1=\"327\" y1=\"0\" x2=\"327\" y2=\"20\" style=\"stroke:#ff3e00;stroke-width:3;\" /><line x1=\"328\" y1=\"0\" x2=\"328\" y2=\"20\" style=\"stroke:#ff3d00;stroke-width:3;\" /><line x1=\"329\" y1=\"0\" x2=\"329\" y2=\"20\" style=\"stroke:#ff3c00;stroke-width:3;\" /><line x1=\"330\" y1=\"0\" x2=\"330\" y2=\"20\" style=\"stroke:#ff3a00;stroke-width:3;\" /><line x1=\"331\" y1=\"0\" x2=\"331\" y2=\"20\" style=\"stroke:#ff3900;stroke-width:3;\" /><line x1=\"332\" y1=\"0\" x2=\"332\" y2=\"20\" style=\"stroke:#ff3800;stroke-width:3;\" /><line x1=\"333\" y1=\"0\" x2=\"333\" y2=\"20\" style=\"stroke:#ff3600;stroke-width:3;\" /><line x1=\"334\" y1=\"0\" x2=\"334\" y2=\"20\" style=\"stroke:#ff3500;stroke-width:3;\" /><line x1=\"335\" y1=\"0\" x2=\"335\" y2=\"20\" style=\"stroke:#ff3400;stroke-width:3;\" /><line x1=\"336\" y1=\"0\" x2=\"336\" y2=\"20\" style=\"stroke:#ff3200;stroke-width:3;\" /><line x1=\"337\" y1=\"0\" x2=\"337\" y2=\"20\" style=\"stroke:#ff3100;stroke-width:3;\" /><line x1=\"338\" y1=\"0\" x2=\"338\" y2=\"20\" style=\"stroke:#ff3000;stroke-width:3;\" /><line x1=\"339\" y1=\"0\" x2=\"339\" y2=\"20\" style=\"stroke:#ff2e00;stroke-width:3;\" /><line x1=\"340\" y1=\"0\" x2=\"340\" y2=\"20\" style=\"stroke:#ff2d00;stroke-width:3;\" /><line x1=\"341\" y1=\"0\" x2=\"341\" y2=\"20\" style=\"stroke:#ff2c00;stroke-width:3;\" /><line x1=\"342\" y1=\"0\" x2=\"342\" y2=\"20\" style=\"stroke:#ff2a00;stroke-width:3;\" /><line x1=\"343\" y1=\"0\" x2=\"343\" y2=\"20\" style=\"stroke:#ff2900;stroke-width:3;\" /><line x1=\"344\" y1=\"0\" x2=\"344\" y2=\"20\" style=\"stroke:#ff2800;stroke-width:3;\" /><line x1=\"345\" y1=\"0\" x2=\"345\" y2=\"20\" style=\"stroke:#ff2600;stroke-width:3;\" /><line x1=\"346\" y1=\"0\" x2=\"346\" y2=\"20\" style=\"stroke:#ff2500;stroke-width:3;\" /><line x1=\"347\" y1=\"0\" x2=\"347\" y2=\"20\" style=\"stroke:#ff2400;stroke-width:3;\" /><line x1=\"348\" y1=\"0\" x2=\"348\" y2=\"20\" style=\"stroke:#ff2200;stroke-width:3;\" /><line x1=\"349\" y1=\"0\" x2=\"349\" y2=\"20\" style=\"stroke:#ff2100;stroke-width:3;\" /><line x1=\"350\" y1=\"0\" x2=\"350\" y2=\"20\" style=\"stroke:#ff2000;stroke-width:3;\" /><line x1=\"351\" y1=\"0\" x2=\"351\" y2=\"20\" style=\"stroke:#ff1e00;stroke-width:3;\" /><line x1=\"352\" y1=\"0\" x2=\"352\" y2=\"20\" style=\"stroke:#ff1d00;stroke-width:3;\" /><line x1=\"353\" y1=\"0\" x2=\"353\" y2=\"20\" style=\"stroke:#ff1c00;stroke-width:3;\" /><line x1=\"354\" y1=\"0\" x2=\"354\" y2=\"20\" style=\"stroke:#ff1a00;stroke-width:3;\" /><line x1=\"355\" y1=\"0\" x2=\"355\" y2=\"20\" style=\"stroke:#ff1900;stroke-width:3;\" /><line x1=\"356\" y1=\"0\" x2=\"356\" y2=\"20\" style=\"stroke:#ff1800;stroke-width:3;\" /><line x1=\"357\" y1=\"0\" x2=\"357\" y2=\"20\" style=\"stroke:#ff1600;stroke-width:3;\" /><line x1=\"358\" y1=\"0\" x2=\"358\" y2=\"20\" style=\"stroke:#ff1500;stroke-width:3;\" /><line x1=\"359\" y1=\"0\" x2=\"359\" y2=\"20\" style=\"stroke:#ff1400;stroke-width:3;\" /><line x1=\"360\" y1=\"0\" x2=\"360\" y2=\"20\" style=\"stroke:#ff1200;stroke-width:3;\" /><line x1=\"361\" y1=\"0\" x2=\"361\" y2=\"20\" style=\"stroke:#ff1100;stroke-width:3;\" /><line x1=\"362\" y1=\"0\" x2=\"362\" y2=\"20\" style=\"stroke:#ff1000;stroke-width:3;\" /><line x1=\"363\" y1=\"0\" x2=\"363\" y2=\"20\" style=\"stroke:#ff0e00;stroke-width:3;\" /><line x1=\"364\" y1=\"0\" x2=\"364\" y2=\"20\" style=\"stroke:#ff0d00;stroke-width:3;\" /><line x1=\"365\" y1=\"0\" x2=\"365\" y2=\"20\" style=\"stroke:#ff0c00;stroke-width:3;\" /><line x1=\"366\" y1=\"0\" x2=\"366\" y2=\"20\" style=\"stroke:#ff0a00;stroke-width:3;\" /><line x1=\"367\" y1=\"0\" x2=\"367\" y2=\"20\" style=\"stroke:#ff0900;stroke-width:3;\" /><line x1=\"368\" y1=\"0\" x2=\"368\" y2=\"20\" style=\"stroke:#ff0800;stroke-width:3;\" /><line x1=\"369\" y1=\"0\" x2=\"369\" y2=\"20\" style=\"stroke:#ff0600;stroke-width:3;\" /><line x1=\"370\" y1=\"0\" x2=\"370\" y2=\"20\" style=\"stroke:#ff0500;stroke-width:3;\" /><line x1=\"371\" y1=\"0\" x2=\"371\" y2=\"20\" style=\"stroke:#ff0400;stroke-width:3;\" /><line x1=\"372\" y1=\"0\" x2=\"372\" y2=\"20\" style=\"stroke:#ff0200;stroke-width:3;\" /><line x1=\"373\" y1=\"0\" x2=\"373\" y2=\"20\" style=\"stroke:#ff0100;stroke-width:3;\" /><line x1=\"374\" y1=\"0\" x2=\"374\" y2=\"20\" style=\"stroke:#ff0000;stroke-width:3;\" /><line x1=\"375\" y1=\"0\" x2=\"375\" y2=\"20\" style=\"stroke:#fe0000;stroke-width:3;\" /><line x1=\"376\" y1=\"0\" x2=\"376\" y2=\"20\" style=\"stroke:#fc0000;stroke-width:3;\" /><line x1=\"377\" y1=\"0\" x2=\"377\" y2=\"20\" style=\"stroke:#fa0000;stroke-width:3;\" /><line x1=\"378\" y1=\"0\" x2=\"378\" y2=\"20\" style=\"stroke:#f80000;stroke-width:3;\" /><line x1=\"379\" y1=\"0\" x2=\"379\" y2=\"20\" style=\"stroke:#f60000;stroke-width:3;\" /><line x1=\"380\" y1=\"0\" x2=\"380\" y2=\"20\" style=\"stroke:#f40000;stroke-width:3;\" /><line x1=\"381\" y1=\"0\" x2=\"381\" y2=\"20\" style=\"stroke:#f20000;stroke-width:3;\" /><line x1=\"382\" y1=\"0\" x2=\"382\" y2=\"20\" style=\"stroke:#f00000;stroke-width:3;\" /><line x1=\"383\" y1=\"0\" x2=\"383\" y2=\"20\" style=\"stroke:#ee0000;stroke-width:3;\" /><line x1=\"384\" y1=\"0\" x2=\"384\" y2=\"20\" style=\"stroke:#eb0000;stroke-width:3;\" /><line x1=\"385\" y1=\"0\" x2=\"385\" y2=\"20\" style=\"stroke:#e90000;stroke-width:3;\" /><line x1=\"386\" y1=\"0\" x2=\"386\" y2=\"20\" style=\"stroke:#e70000;stroke-width:3;\" /><line x1=\"387\" y1=\"0\" x2=\"387\" y2=\"20\" style=\"stroke:#e50000;stroke-width:3;\" /><line x1=\"388\" y1=\"0\" x2=\"388\" y2=\"20\" style=\"stroke:#e30000;stroke-width:3;\" /><line x1=\"389\" y1=\"0\" x2=\"389\" y2=\"20\" style=\"stroke:#e10000;stroke-width:3;\" /><line x1=\"390\" y1=\"0\" x2=\"390\" y2=\"20\" style=\"stroke:#df0000;stroke-width:3;\" /><line x1=\"391\" y1=\"0\" x2=\"391\" y2=\"20\" style=\"stroke:#dd0000;stroke-width:3;\" /><line x1=\"392\" y1=\"0\" x2=\"392\" y2=\"20\" style=\"stroke:#db0000;stroke-width:3;\" /><line x1=\"393\" y1=\"0\" x2=\"393\" y2=\"20\" style=\"stroke:#d90000;stroke-width:3;\" /><line x1=\"394\" y1=\"0\" x2=\"394\" y2=\"20\" style=\"stroke:#d70000;stroke-width:3;\" /><line x1=\"395\" y1=\"0\" x2=\"395\" y2=\"20\" style=\"stroke:#d50000;stroke-width:3;\" /><line x1=\"396\" y1=\"0\" x2=\"396\" y2=\"20\" style=\"stroke:#d30000;stroke-width:3;\" /><line x1=\"397\" y1=\"0\" x2=\"397\" y2=\"20\" style=\"stroke:#d10000;stroke-width:3;\" /><line x1=\"398\" y1=\"0\" x2=\"398\" y2=\"20\" style=\"stroke:#cf0000;stroke-width:3;\" /><line x1=\"399\" y1=\"0\" x2=\"399\" y2=\"20\" style=\"stroke:#cd0000;stroke-width:3;\" /><line x1=\"400\" y1=\"0\" x2=\"400\" y2=\"20\" style=\"stroke:#cb0000;stroke-width:3;\" /><line x1=\"401\" y1=\"0\" x2=\"401\" y2=\"20\" style=\"stroke:#c90000;stroke-width:3;\" /><line x1=\"402\" y1=\"0\" x2=\"402\" y2=\"20\" style=\"stroke:#c70000;stroke-width:3;\" /><line x1=\"403\" y1=\"0\" x2=\"403\" y2=\"20\" style=\"stroke:#c50000;stroke-width:3;\" /><line x1=\"404\" y1=\"0\" x2=\"404\" y2=\"20\" style=\"stroke:#c20000;stroke-width:3;\" /><line x1=\"405\" y1=\"0\" x2=\"405\" y2=\"20\" style=\"stroke:#c00000;stroke-width:3;\" /><line x1=\"406\" y1=\"0\" x2=\"406\" y2=\"20\" style=\"stroke:#be0000;stroke-width:3;\" /><line x1=\"407\" y1=\"0\" x2=\"407\" y2=\"20\" style=\"stroke:#bc0000;stroke-width:3;\" /><line x1=\"408\" y1=\"0\" x2=\"408\" y2=\"20\" style=\"stroke:#ba0000;stroke-width:3;\" /><line x1=\"409\" y1=\"0\" x2=\"409\" y2=\"20\" style=\"stroke:#b80000;stroke-width:3;\" /><line x1=\"410\" y1=\"0\" x2=\"410\" y2=\"20\" style=\"stroke:#b60000;stroke-width:3;\" /><line x1=\"411\" y1=\"0\" x2=\"411\" y2=\"20\" style=\"stroke:#b40000;stroke-width:3;\" /><line x1=\"412\" y1=\"0\" x2=\"412\" y2=\"20\" style=\"stroke:#b20000;stroke-width:3;\" /><line x1=\"413\" y1=\"0\" x2=\"413\" y2=\"20\" style=\"stroke:#b00000;stroke-width:3;\" /><line x1=\"414\" y1=\"0\" x2=\"414\" y2=\"20\" style=\"stroke:#ae0000;stroke-width:3;\" /><line x1=\"415\" y1=\"0\" x2=\"415\" y2=\"20\" style=\"stroke:#ac0000;stroke-width:3;\" /><line x1=\"416\" y1=\"0\" x2=\"416\" y2=\"20\" style=\"stroke:#aa0000;stroke-width:3;\" /><line x1=\"417\" y1=\"0\" x2=\"417\" y2=\"20\" style=\"stroke:#a80000;stroke-width:3;\" /><line x1=\"418\" y1=\"0\" x2=\"418\" y2=\"20\" style=\"stroke:#a60000;stroke-width:3;\" /><line x1=\"419\" y1=\"0\" x2=\"419\" y2=\"20\" style=\"stroke:#a40000;stroke-width:3;\" /><line x1=\"420\" y1=\"0\" x2=\"420\" y2=\"20\" style=\"stroke:#a20000;stroke-width:3;\" /><line x1=\"421\" y1=\"0\" x2=\"421\" y2=\"20\" style=\"stroke:#a00000;stroke-width:3;\" /><line x1=\"422\" y1=\"0\" x2=\"422\" y2=\"20\" style=\"stroke:#9e0000;stroke-width:3;\" /><line x1=\"423\" y1=\"0\" x2=\"423\" y2=\"20\" style=\"stroke:#9b0000;stroke-width:3;\" /><line x1=\"424\" y1=\"0\" x2=\"424\" y2=\"20\" style=\"stroke:#990000;stroke-width:3;\" /><line x1=\"425\" y1=\"0\" x2=\"425\" y2=\"20\" style=\"stroke:#970000;stroke-width:3;\" /><line x1=\"426\" y1=\"0\" x2=\"426\" y2=\"20\" style=\"stroke:#950000;stroke-width:3;\" /><line x1=\"427\" y1=\"0\" x2=\"427\" y2=\"20\" style=\"stroke:#930000;stroke-width:3;\" /><line x1=\"428\" y1=\"0\" x2=\"428\" y2=\"20\" style=\"stroke:#910000;stroke-width:3;\" /><line x1=\"429\" y1=\"0\" x2=\"429\" y2=\"20\" style=\"stroke:#8f0000;stroke-width:3;\" /><line x1=\"430\" y1=\"0\" x2=\"430\" y2=\"20\" style=\"stroke:#8d0000;stroke-width:3;\" /><line x1=\"431\" y1=\"0\" x2=\"431\" y2=\"20\" style=\"stroke:#8b0000;stroke-width:3;\" /><line x1=\"432\" y1=\"0\" x2=\"432\" y2=\"20\" style=\"stroke:#890000;stroke-width:3;\" /><line x1=\"433\" y1=\"0\" x2=\"433\" y2=\"20\" style=\"stroke:#870000;stroke-width:3;\" /><line x1=\"434\" y1=\"0\" x2=\"434\" y2=\"20\" style=\"stroke:#850000;stroke-width:3;\" /><line x1=\"435\" y1=\"0\" x2=\"435\" y2=\"20\" style=\"stroke:#830000;stroke-width:3;\" /><line x1=\"436\" y1=\"0\" x2=\"436\" y2=\"20\" style=\"stroke:#810000;stroke-width:3;\" /><line x1=\"437\" y1=\"0\" x2=\"437\" y2=\"20\" style=\"stroke:#7f0000;stroke-width:3;\" /><line x1=\"438\" y1=\"0\" x2=\"438\" y2=\"20\" style=\"stroke:#7d0000;stroke-width:3;\" /><line x1=\"439\" y1=\"0\" x2=\"439\" y2=\"20\" style=\"stroke:#7b0000;stroke-width:3;\" /><line x1=\"440\" y1=\"0\" x2=\"440\" y2=\"20\" style=\"stroke:#790000;stroke-width:3;\" /><line x1=\"441\" y1=\"0\" x2=\"441\" y2=\"20\" style=\"stroke:#770000;stroke-width:3;\" /><line x1=\"442\" y1=\"0\" x2=\"442\" y2=\"20\" style=\"stroke:#740000;stroke-width:3;\" /><line x1=\"443\" y1=\"0\" x2=\"443\" y2=\"20\" style=\"stroke:#720000;stroke-width:3;\" /><line x1=\"444\" y1=\"0\" x2=\"444\" y2=\"20\" style=\"stroke:#700000;stroke-width:3;\" /><line x1=\"445\" y1=\"0\" x2=\"445\" y2=\"20\" style=\"stroke:#6e0000;stroke-width:3;\" /><line x1=\"446\" y1=\"0\" x2=\"446\" y2=\"20\" style=\"stroke:#6c0000;stroke-width:3;\" /><line x1=\"447\" y1=\"0\" x2=\"447\" y2=\"20\" style=\"stroke:#6a0000;stroke-width:3;\" /><line x1=\"448\" y1=\"0\" x2=\"448\" y2=\"20\" style=\"stroke:#680000;stroke-width:3;\" /><line x1=\"449\" y1=\"0\" x2=\"449\" y2=\"20\" style=\"stroke:#660000;stroke-width:3;\" /><line x1=\"450\" y1=\"0\" x2=\"450\" y2=\"20\" style=\"stroke:#640000;stroke-width:3;\" /><line x1=\"451\" y1=\"0\" x2=\"451\" y2=\"20\" style=\"stroke:#620000;stroke-width:3;\" /><line x1=\"452\" y1=\"0\" x2=\"452\" y2=\"20\" style=\"stroke:#600000;stroke-width:3;\" /><line x1=\"453\" y1=\"0\" x2=\"453\" y2=\"20\" style=\"stroke:#5e0000;stroke-width:3;\" /><line x1=\"454\" y1=\"0\" x2=\"454\" y2=\"20\" style=\"stroke:#5c0000;stroke-width:3;\" /><line x1=\"455\" y1=\"0\" x2=\"455\" y2=\"20\" style=\"stroke:#5a0000;stroke-width:3;\" /><line x1=\"456\" y1=\"0\" x2=\"456\" y2=\"20\" style=\"stroke:#580000;stroke-width:3;\" /><line x1=\"457\" y1=\"0\" x2=\"457\" y2=\"20\" style=\"stroke:#560000;stroke-width:3;\" /><line x1=\"458\" y1=\"0\" x2=\"458\" y2=\"20\" style=\"stroke:#540000;stroke-width:3;\" /><line x1=\"459\" y1=\"0\" x2=\"459\" y2=\"20\" style=\"stroke:#520000;stroke-width:3;\" /><line x1=\"460\" y1=\"0\" x2=\"460\" y2=\"20\" style=\"stroke:#500000;stroke-width:3;\" /><line x1=\"461\" y1=\"0\" x2=\"461\" y2=\"20\" style=\"stroke:#4d0000;stroke-width:3;\" /><line x1=\"462\" y1=\"0\" x2=\"462\" y2=\"20\" style=\"stroke:#4b0000;stroke-width:3;\" /><line x1=\"463\" y1=\"0\" x2=\"463\" y2=\"20\" style=\"stroke:#490000;stroke-width:3;\" /><line x1=\"464\" y1=\"0\" x2=\"464\" y2=\"20\" style=\"stroke:#470000;stroke-width:3;\" /><line x1=\"465\" y1=\"0\" x2=\"465\" y2=\"20\" style=\"stroke:#450000;stroke-width:3;\" /><line x1=\"466\" y1=\"0\" x2=\"466\" y2=\"20\" style=\"stroke:#430000;stroke-width:3;\" /><line x1=\"467\" y1=\"0\" x2=\"467\" y2=\"20\" style=\"stroke:#410000;stroke-width:3;\" /><line x1=\"468\" y1=\"0\" x2=\"468\" y2=\"20\" style=\"stroke:#3f0000;stroke-width:3;\" /><line x1=\"469\" y1=\"0\" x2=\"469\" y2=\"20\" style=\"stroke:#3d0000;stroke-width:3;\" /><line x1=\"470\" y1=\"0\" x2=\"470\" y2=\"20\" style=\"stroke:#3b0000;stroke-width:3;\" /><line x1=\"471\" y1=\"0\" x2=\"471\" y2=\"20\" style=\"stroke:#390000;stroke-width:3;\" /><line x1=\"472\" y1=\"0\" x2=\"472\" y2=\"20\" style=\"stroke:#370000;stroke-width:3;\" /><line x1=\"473\" y1=\"0\" x2=\"473\" y2=\"20\" style=\"stroke:#350000;stroke-width:3;\" /><line x1=\"474\" y1=\"0\" x2=\"474\" y2=\"20\" style=\"stroke:#330000;stroke-width:3;\" /><line x1=\"475\" y1=\"0\" x2=\"475\" y2=\"20\" style=\"stroke:#310000;stroke-width:3;\" /><line x1=\"476\" y1=\"0\" x2=\"476\" y2=\"20\" style=\"stroke:#2f0000;stroke-width:3;\" /><line x1=\"477\" y1=\"0\" x2=\"477\" y2=\"20\" style=\"stroke:#2d0000;stroke-width:3;\" /><line x1=\"478\" y1=\"0\" x2=\"478\" y2=\"20\" style=\"stroke:#2b0000;stroke-width:3;\" /><line x1=\"479\" y1=\"0\" x2=\"479\" y2=\"20\" style=\"stroke:#290000;stroke-width:3;\" /><line x1=\"480\" y1=\"0\" x2=\"480\" y2=\"20\" style=\"stroke:#260000;stroke-width:3;\" /><line x1=\"481\" y1=\"0\" x2=\"481\" y2=\"20\" style=\"stroke:#240000;stroke-width:3;\" /><line x1=\"482\" y1=\"0\" x2=\"482\" y2=\"20\" style=\"stroke:#220000;stroke-width:3;\" /><line x1=\"483\" y1=\"0\" x2=\"483\" y2=\"20\" style=\"stroke:#200000;stroke-width:3;\" /><line x1=\"484\" y1=\"0\" x2=\"484\" y2=\"20\" style=\"stroke:#1e0000;stroke-width:3;\" /><line x1=\"485\" y1=\"0\" x2=\"485\" y2=\"20\" style=\"stroke:#1c0000;stroke-width:3;\" /><line x1=\"486\" y1=\"0\" x2=\"486\" y2=\"20\" style=\"stroke:#1a0000;stroke-width:3;\" /><line x1=\"487\" y1=\"0\" x2=\"487\" y2=\"20\" style=\"stroke:#180000;stroke-width:3;\" /><line x1=\"488\" y1=\"0\" x2=\"488\" y2=\"20\" style=\"stroke:#160000;stroke-width:3;\" /><line x1=\"489\" y1=\"0\" x2=\"489\" y2=\"20\" style=\"stroke:#140000;stroke-width:3;\" /><line x1=\"490\" y1=\"0\" x2=\"490\" y2=\"20\" style=\"stroke:#120000;stroke-width:3;\" /><line x1=\"491\" y1=\"0\" x2=\"491\" y2=\"20\" style=\"stroke:#100000;stroke-width:3;\" /><line x1=\"492\" y1=\"0\" x2=\"492\" y2=\"20\" style=\"stroke:#0e0000;stroke-width:3;\" /><line x1=\"493\" y1=\"0\" x2=\"493\" y2=\"20\" style=\"stroke:#0c0000;stroke-width:3;\" /><line x1=\"494\" y1=\"0\" x2=\"494\" y2=\"20\" style=\"stroke:#0a0000;stroke-width:3;\" /><line x1=\"495\" y1=\"0\" x2=\"495\" y2=\"20\" style=\"stroke:#080000;stroke-width:3;\" /><line x1=\"496\" y1=\"0\" x2=\"496\" y2=\"20\" style=\"stroke:#060000;stroke-width:3;\" /><line x1=\"497\" y1=\"0\" x2=\"497\" y2=\"20\" style=\"stroke:#040000;stroke-width:3;\" /><line x1=\"498\" y1=\"0\" x2=\"498\" y2=\"20\" style=\"stroke:#020000;stroke-width:3;\" /><line x1=\"499\" y1=\"0\" x2=\"499\" y2=\"20\" style=\"stroke:#000000;stroke-width:3;\" /><text x=\"0\" y=\"35\">0.0</text><text x=\"500\" y=\"35\" style=\"text-anchor:end;\">0.23</text></svg>"
      ],
      "text/plain": [
       "<branca.colormap.LinearColormap at 0xd78a2c8>"
      ]
     },
     "execution_count": 16,
     "metadata": {},
     "output_type": "execute_result"
    }
   ],
   "source": [
    "color_range = cm.LinearColormap(colors=['green', 'yellow', 'orange', 'red', 'black'], \n",
    "                                vmin=round(Y.min(), 2), vmax=round(Y.max(), 2), caption='Unemployment rate')\n",
    "color_range"
   ]
  },
  {
   "cell_type": "markdown",
   "metadata": {},
   "source": [
    "And read the communities and provinces polygons:"
   ]
  },
  {
   "cell_type": "code",
   "execution_count": 17,
   "metadata": {},
   "outputs": [
    {
     "data": {
      "image/png": "[encoded data removed]",
      "text/plain": [
       "<matplotlib.figure.Figure at 0xcf45088>"
      ]
     },
     "metadata": {
      "needs_background": "light"
     },
     "output_type": "display_data"
    }
   ],
   "source": [
    "coms = utils.read_communities('./data/ComunidadesAutonomas_ETRS89_30N/')      # read communities\n",
    "provs = utils.read_provinces('./data/Provincias_ETRS89_30N/')     # read provinces\n",
    "_, ax = plt.subplots(1, 1, figsize=(12, 10))\n",
    "ax = coms.plot(ax=ax)\n",
    "ax.axis('off')\n",
    "provs.plot(ax=ax, edgecolor='black');"
   ]
  },
  {
   "cell_type": "markdown",
   "metadata": {},
   "source": [
    "The following code uses these polygons and the color range to generate the map corresponding to the true values of Y_test, saving this map as an HTML document:"
   ]
  },
  {
   "cell_type": "code",
   "execution_count": 18,
   "metadata": {
    "ExecuteTime": {
     "end_time": "2018-09-12T12:19:57.631915Z",
     "start_time": "2018-09-12T12:19:46.777743Z"
    },
    "run_control": {
     "marked": true
    }
   },
   "outputs": [],
   "source": [
    "filename = './true_vals.html'\n",
    "_ = utils.generate_map(data=pd.concat([muns_population.loc[Y_test.index], Y_test], axis=1),  # map needs X and Y together...\n",
    "                       lat_col=utils.LAT_FIELD, long_col=utils.LON_FIELD,   # columns with latitude and longitude\n",
    "                       unemploy_col=Y_test.name if Y_test.name is not None else 0,   # column with unemployment ('0' if unnamed)\n",
    "                       cmap=color_range, coms=coms, provs=provs, \n",
    "                       filename=filename)    # colors, communities, provinces and where to store the map"
   ]
  },
  {
   "cell_type": "markdown",
   "metadata": {},
   "source": [
    "You can open the generated HTML in another tab, but embedding it directly in the notebook is as simple as:"
   ]
  },
  {
   "cell_type": "code",
   "execution_count": 19,
   "metadata": {},
   "outputs": [
    {
     "data": {
      "text/html": [
       "\n",
       "        <iframe\n",
       "            width=\"100%\"\n",
       "            height=\"550px\"\n",
       "            src=\"./true_vals.html\"\n",
       "            frameborder=\"0\"\n",
       "            allowfullscreen\n",
       "        ></iframe>\n",
       "        "
      ],
      "text/plain": [
       "<IPython.lib.display.IFrame at 0xfd631c8>"
      ]
     },
     "execution_count": 19,
     "metadata": {},
     "output_type": "execute_result"
    }
   ],
   "source": [
    "IFrame(filename, width='100%', height='550px')"
   ]
  },
  {
   "cell_type": "markdown",
   "metadata": {},
   "source": [
    "<font color='brown'>Se observa la tendencia de mayor tasa de paro hacia el sur y una ligera tendencia de mayor tasa de paro hacia el este y el oeste de la meseta.</font>"
   ]
  },
  {
   "cell_type": "code",
   "execution_count": 20,
   "metadata": {},
   "outputs": [],
   "source": [
    "filename = './true_vals_train.html'\n",
    "_ = utils.generate_map(data=pd.concat([muns_population.loc[Y_train.index], Y_train], axis=1),  # map needs X and Y together...\n",
    "                       lat_col=utils.LAT_FIELD, long_col=utils.LON_FIELD,   # columns with latitude and longitude\n",
    "                       unemploy_col=Y_train.name if Y_train.name is not None else 0,   # column with unemployment ('0' if unnamed)\n",
    "                       cmap=color_range, coms=coms, provs=provs, \n",
    "                       filename=filename)    # colors, communities, provinces and where to store the map"
   ]
  },
  {
   "cell_type": "code",
   "execution_count": 21,
   "metadata": {},
   "outputs": [
    {
     "data": {
      "text/html": [
       "\n",
       "        <iframe\n",
       "            width=\"100%\"\n",
       "            height=\"550px\"\n",
       "            src=\"./true_vals_train.html\"\n",
       "            frameborder=\"0\"\n",
       "            allowfullscreen\n",
       "        ></iframe>\n",
       "        "
      ],
      "text/plain": [
       "<IPython.lib.display.IFrame at 0x15000508>"
      ]
     },
     "execution_count": 21,
     "metadata": {},
     "output_type": "execute_result"
    }
   ],
   "source": [
    "IFrame(filename, width='100%', height='550px')"
   ]
  },
  {
   "cell_type": "markdown",
   "metadata": {},
   "source": [
    "<font color='brown'>En el conjunto de train se observan las mismas tendencias que en el conjunto de test, aunque como es lógico, con más registros.</font>"
   ]
  },
  {
   "cell_type": "markdown",
   "metadata": {},
   "source": [
    "Ideally, **we should obtain a similar map when predicting with a model**. We already have Y, but we need patterns X to train such a model. Which features should we use? Before thinking about it, let us build a dummy model that does not even need features. An obvious option that comes to mind is to **predict always the mean unemployment rate**, irrespective of the municipality:"
   ]
  },
  {
   "cell_type": "markdown",
   "metadata": {},
   "source": [
    "<table align=\"left\">\n",
    " <tr><td width=\"80\"><img src=\"img/question.png\" style=\"width:auto;height:auto\"></td><td style=\"text-align:left\">\n",
    "     Build this dummy model that always predicts the mean, call it <i>dummy</i>, fit it on train and measure its score on both the train and test sets. What do you observe? Why is that?\n",
    " </td></tr>\n",
    "</table>"
   ]
  },
  {
   "cell_type": "markdown",
   "metadata": {},
   "source": [
    "<table align=\"left\">\n",
    "<tr><td width=\"80\"><img src=\"img/exclamation.png\" style=\"width:auto;height:auto\"></td><td style=\"text-align:left\">\n",
    "     Use a <a href=\"https://scikit-learn.org/stable/modules/generated/sklearn.dummy.DummyRegressor.html\">DummyRegressor</a>, and recall that the default metric for regressors in scikit-learn is the <a href=\"https://scikit-learn.org/stable/modules/model_evaluation.html#r2-score-the-coefficient-of-determination\">R² score</a>.\n",
    " </td></tr>\n",
    "</table>"
   ]
  },
  {
   "cell_type": "code",
   "execution_count": 22,
   "metadata": {},
   "outputs": [],
   "source": [
    "dummy= DummyRegressor(strategy='mean')"
   ]
  },
  {
   "cell_type": "markdown",
   "metadata": {},
   "source": [
    "<font color='brown'>Nuestro modelo dummy no va a usar features para calcular su predicción, ya que realizará la media del target. Aún así, es necesario que se le aporten las features, por lo que crearemos una matriz de ceros con el mismo número de registros de train que llamaremos X_train_zeros, y otra con el mismo número de registros de test que llamaremos X_test_zeros:</font>"
   ]
  },
  {
   "cell_type": "code",
   "execution_count": 23,
   "metadata": {},
   "outputs": [
    {
     "data": {
      "text/plain": [
       "DummyRegressor(constant=None, quantile=None, strategy='mean')"
      ]
     },
     "execution_count": 23,
     "metadata": {},
     "output_type": "execute_result"
    }
   ],
   "source": [
    "X_train_zeros=[[0]]*len(Y_train)\n",
    "dummy.fit(X_train_zeros,Y_train)"
   ]
  },
  {
   "cell_type": "code",
   "execution_count": 24,
   "metadata": {},
   "outputs": [
    {
     "name": "stdout",
     "output_type": "stream",
     "text": [
      "El score (R^2) de nuestro modelo dummy en train es: 0.0\n"
     ]
    }
   ],
   "source": [
    "print(\"El score (R^2) de nuestro modelo dummy en train es:\",dummy.score(X_train_zeros, Y_train))"
   ]
  },
  {
   "cell_type": "code",
   "execution_count": 25,
   "metadata": {},
   "outputs": [
    {
     "name": "stdout",
     "output_type": "stream",
     "text": [
      "El score (R^2) de nuestro modelo dummy en test es: -0.0009118628050082123\n"
     ]
    }
   ],
   "source": [
    "X_test_zeros=[[0]]*len(Y_test)\n",
    "print(\"El score (R^2) de nuestro modelo dummy en test es:\",dummy.score(X_test_zeros, Y_test))"
   ]
  },
  {
   "cell_type": "markdown",
   "metadata": {},
   "source": [
    "<font color='brown'>Observamos que nuestro modelo ofrece un **R^2 en train de 0.0** y un **R^2 en test de -0.0009118628050082123**. Esto es debido a que el coeficiente de determinación (R^2) es la suma de errores al cuadrado partido la suma de la variación de la media al cuadrado.\n",
    "Esto significa que nuestro modelo en train comete un error máximo, no captura la varianza de los datos en el ajuste lineal, ya que sólo predice la media. Un modelo constante que siempre predice el valor esperado de y, sin tener en cuenta las características de entrada, obtiene una puntuación R^2 de 0.0, llegando incluso a ser negativo, como en nuestro caso de test porque el modelo puede ser arbitrariamente peor.  \n",
    "  \n",
    "Vamos a comprobar visualmente como predice el modelo dummy calculando el error absoluto entre las Y predichas y las Y reales. También calcularemos el MAE (error absoluto medio) de nuestro modelo:</font>"
   ]
  },
  {
   "cell_type": "code",
   "execution_count": 26,
   "metadata": {},
   "outputs": [
    {
     "data": {
      "text/plain": [
       "array([0.04729104, 0.04729104, 0.04729104, ..., 0.04729104, 0.04729104,\n",
       "       0.04729104])"
      ]
     },
     "execution_count": 26,
     "metadata": {},
     "output_type": "execute_result"
    }
   ],
   "source": [
    "dummy_preds=dummy.predict(X_test_zeros)\n",
    "dummy_preds"
   ]
  },
  {
   "cell_type": "code",
   "execution_count": 27,
   "metadata": {},
   "outputs": [
    {
     "data": {
      "image/png": "[encoded data removed]",
      "text/plain": [
       "<matplotlib.figure.Figure at 0x1b2a72c8>"
      ]
     },
     "metadata": {
      "needs_background": "light"
     },
     "output_type": "display_data"
    }
   ],
   "source": [
    "error_dummy=abs(Y_test-dummy_preds)\n",
    "plt.scatter(x=Y_test,y=error_dummy);"
   ]
  },
  {
   "cell_type": "code",
   "execution_count": 28,
   "metadata": {},
   "outputs": [
    {
     "name": "stdout",
     "output_type": "stream",
     "text": [
      "El MAE del modelo dummy es: 0.02295565938940183\n"
     ]
    }
   ],
   "source": [
    "MAE_dummy=MAE(y_true=Y_test,y_pred=dummy_preds)\n",
    "print(\"El MAE del modelo dummy es:\",MAE_dummy)"
   ]
  },
  {
   "cell_type": "markdown",
   "metadata": {},
   "source": [
    "<font color='brown'>En el gráfico podemos ver el error de las predicciones del modelo dummy con respecto al valor real (Y_test). Como es lógico, cuanto más se aleja el valor real de la media (error cero), mayor es el error.  \n",
    "El **MAE del modelo dummy es 0.02295565938940183**, es decir, la media del valor absoluto de la diferencias entre los valores reales del target y los valores predichos por nuestro modelo.\n",
    "    \n",
    "Vamos a comprobar si existe algún municipio cuyo valor sea la media o un valor cercano:</font>"
   ]
  },
  {
   "cell_type": "code",
   "execution_count": 29,
   "metadata": {},
   "outputs": [
    {
     "name": "stdout",
     "output_type": "stream",
     "text": [
      "El modelo dummy ha acertado la tasa de paro en: 0 municipios\n"
     ]
    }
   ],
   "source": [
    "aciertos_dummy=error_dummy==0\n",
    "print(\"El modelo dummy ha acertado la tasa de paro en:\",error_dummy[aciertos_dummy].shape[0],\"municipios\")"
   ]
  },
  {
   "cell_type": "code",
   "execution_count": 30,
   "metadata": {},
   "outputs": [
    {
     "name": "stdout",
     "output_type": "stream",
     "text": [
      "El modelo dummy ha acertado la tasa de paro con un margen de error de 0.001 en: 79 municipios\n"
     ]
    }
   ],
   "source": [
    "casi_aciertos_dummy=error_dummy<0.001\n",
    "print(\"El modelo dummy ha acertado la tasa de paro con un margen de error de 0.001 en:\",\n",
    "      error_dummy[casi_aciertos_dummy].shape[0],\"municipios\")"
   ]
  },
  {
   "cell_type": "markdown",
   "metadata": {},
   "source": [
    "<font color='brown'>No exite ningún municipio cuyo valor sea la media. Sin embargo, existen 79 municipios con valores muy cercanos a la media.</font>"
   ]
  },
  {
   "cell_type": "markdown",
   "metadata": {},
   "source": [
    "We verify that this dummy always predicts the mean (taken on the train set) for whichever test pattern (here represented as *None*):"
   ]
  },
  {
   "cell_type": "code",
   "execution_count": 31,
   "metadata": {},
   "outputs": [],
   "source": [
    "assert(dummy.predict([None]) == Y_train.mean())   # always predicts mean"
   ]
  },
  {
   "cell_type": "markdown",
   "metadata": {},
   "source": [
    "Think of what the resulting map will look like, and confirm it:"
   ]
  },
  {
   "cell_type": "markdown",
   "metadata": {},
   "source": [
    "<table align=\"left\">\n",
    " <tr><td width=\"80\"><img src=\"img/question.png\" style=\"width:auto;height:auto\"></td><td style=\"text-align:left\">\n",
    "     Create the map with the predictions of the dummy model (store them in <i>dummy_preds.html</i>). What color is it? Why is it that color?\n",
    " </td></tr>\n",
    "</table>"
   ]
  },
  {
   "cell_type": "markdown",
   "metadata": {},
   "source": [
    "<table align=\"left\">\n",
    "<tr><td width=\"80\"><img src=\"img/exclamation.png\" style=\"width:auto;height:auto\"></td><td style=\"text-align:left\">\n",
    "    You have to call <i>predict</i> for the whole test set, which gives you a numpy array. Transform this array into a <i>Series</i> that can be concatenated with <i>muns_population</i> so that you can call <i>generate_map</i>. Do not read communities nor provinces again, cause they have been already loaded in memory.\n",
    " </td></tr>\n",
    "</table>"
   ]
  },
  {
   "cell_type": "code",
   "execution_count": 32,
   "metadata": {},
   "outputs": [
    {
     "data": {
      "text/plain": [
       "com_aut             prov               mun                    \n",
       "Castilla La Mancha  Cuenca             Valle de Altomira, El      0.047291\n",
       "Andalucía           Huelva             San Silvestre de Guzmán    0.047291\n",
       "Valencia            Valencia/València  Puçol                      0.047291\n",
       "Catalunya           Barcelona          Orpí                       0.047291\n",
       "                    Girona             Pau                        0.047291\n",
       "                                                                    ...   \n",
       "Navarra             Navarra            Irurtzun                   0.047291\n",
       "Andalucía           Huelva             Villalba del Alcor         0.047291\n",
       "Castilla La Mancha  Ciudad Real        Villarta de San Juan       0.047291\n",
       "Castilla León       Salamanca          Valdelageve                0.047291\n",
       "Aragón              Huesca             Arén                       0.047291\n",
       "Length: 2434, dtype: float64"
      ]
     },
     "execution_count": 32,
     "metadata": {},
     "output_type": "execute_result"
    }
   ],
   "source": [
    "dummy_preds=pd.Series(data=dummy_preds, index=Y_test.index)\n",
    "dummy_preds"
   ]
  },
  {
   "cell_type": "code",
   "execution_count": 33,
   "metadata": {},
   "outputs": [],
   "source": [
    "filename = './dummy_preds.html'\n",
    "_ = utils.generate_map(data=pd.concat([muns_population.loc[dummy_preds.index], dummy_preds], axis=1),\n",
    "                       lat_col=utils.LAT_FIELD, long_col=utils.LON_FIELD,\n",
    "                       unemploy_col=dummy_preds.name if dummy_preds.name is not None else 0,\n",
    "                       cmap=color_range, coms=coms, provs=provs,\n",
    "                       filename=filename)"
   ]
  },
  {
   "cell_type": "markdown",
   "metadata": {},
   "source": [
    "<font color='brown'>Vamos a mantener los valores de la leyenda iguales para todos los modelos para poder ver más fácilmente las diferencias entre los distintos modelos.</font>"
   ]
  },
  {
   "cell_type": "code",
   "execution_count": 34,
   "metadata": {},
   "outputs": [
    {
     "data": {
      "text/html": [
       "\n",
       "        <iframe\n",
       "            width=\"100%\"\n",
       "            height=\"550px\"\n",
       "            src=\"./dummy_preds.html\"\n",
       "            frameborder=\"0\"\n",
       "            allowfullscreen\n",
       "        ></iframe>\n",
       "        "
      ],
      "text/plain": [
       "<IPython.lib.display.IFrame at 0x1b340708>"
      ]
     },
     "execution_count": 34,
     "metadata": {},
     "output_type": "execute_result"
    }
   ],
   "source": [
    "IFrame(filename, width='100%', height='550px')"
   ]
  },
  {
   "cell_type": "markdown",
   "metadata": {},
   "source": [
    "<font color='brown'>Todos puntos tienen el mismo color verde, debido a que este modelo simplemente predice el valor medio del ratio de empleo (Y_train) de España, que es 0.047291.</font>"
   ]
  },
  {
   "cell_type": "markdown",
   "metadata": {},
   "source": [
    "## 3. Build and test SVM models\n",
    "\n",
    "### 3.1 Using general features"
   ]
  },
  {
   "cell_type": "markdown",
   "metadata": {},
   "source": [
    "Time to create some actual features X for non-dummy models. Our first choice is to use the numerical features in *muns_population*. That is, **we will use the longitude, latitude, altitude and number of inhabitants as features**:"
   ]
  },
  {
   "cell_type": "markdown",
   "metadata": {},
   "source": [
    "<table align=\"left\">\n",
    " <tr><td width=\"80\"><img src=\"img/question.png\" style=\"width:auto;height:auto\"></td><td style=\"text-align:left\">\n",
    "     Create an <i>X</i> matrix (as a Pandas <i>DataFrame</i>) with the features for each municipality present in <i>muns_population</i>, and split it in <i>X_train</i> and <i>X_test</i>, as you did for <i>Y</i>.\n",
    " </td></tr>\n",
    "</table>"
   ]
  },
  {
   "cell_type": "markdown",
   "metadata": {},
   "source": [
    "<table align=\"left\">\n",
    "<tr><td width=\"80\"><img src=\"img/exclamation.png\" style=\"width:auto;height:auto\"></td><td style=\"text-align:left\">\n",
    "    Try not to call <i>train_test_split</i> again! <i>Y_train</i> and <i>Y_test</i> already have the split municipalities, so it is completely unnecessary to split them in the same way.\n",
    "</td></tr>\n",
    "</table>"
   ]
  },
  {
   "cell_type": "code",
   "execution_count": 35,
   "metadata": {
    "ExecuteTime": {
     "end_time": "2018-09-12T12:13:52.374409Z",
     "start_time": "2018-09-12T12:13:52.296586Z"
    }
   },
   "outputs": [
    {
     "data": {
      "text/html": [
       "<div>\n",
       "<style scoped>\n",
       "    .dataframe tbody tr th:only-of-type {\n",
       "        vertical-align: middle;\n",
       "    }\n",
       "\n",
       "    .dataframe tbody tr th {\n",
       "        vertical-align: top;\n",
       "    }\n",
       "\n",
       "    .dataframe thead th {\n",
       "        text-align: right;\n",
       "    }\n",
       "</style>\n",
       "<table border=\"1\" class=\"dataframe\">\n",
       "  <thead>\n",
       "    <tr style=\"text-align: right;\">\n",
       "      <th></th>\n",
       "      <th></th>\n",
       "      <th></th>\n",
       "      <th>lat</th>\n",
       "      <th>lon</th>\n",
       "      <th>alt</th>\n",
       "      <th>habitantes</th>\n",
       "    </tr>\n",
       "    <tr>\n",
       "      <th>com_aut</th>\n",
       "      <th>prov</th>\n",
       "      <th>mun</th>\n",
       "      <th></th>\n",
       "      <th></th>\n",
       "      <th></th>\n",
       "      <th></th>\n",
       "    </tr>\n",
       "  </thead>\n",
       "  <tbody>\n",
       "    <tr>\n",
       "      <th rowspan=\"5\" valign=\"top\">Andalucía</th>\n",
       "      <th rowspan=\"5\" valign=\"top\">Almería</th>\n",
       "      <th>Abla</th>\n",
       "      <td>37.14114</td>\n",
       "      <td>-2.780104</td>\n",
       "      <td>871.16840</td>\n",
       "      <td>1504</td>\n",
       "    </tr>\n",
       "    <tr>\n",
       "      <th>Abrucena</th>\n",
       "      <td>37.13305</td>\n",
       "      <td>-2.797098</td>\n",
       "      <td>976.93870</td>\n",
       "      <td>1341</td>\n",
       "    </tr>\n",
       "    <tr>\n",
       "      <th>Adra</th>\n",
       "      <td>36.74807</td>\n",
       "      <td>-3.022522</td>\n",
       "      <td>10.97898</td>\n",
       "      <td>24373</td>\n",
       "    </tr>\n",
       "    <tr>\n",
       "      <th>Alboloduy</th>\n",
       "      <td>37.03319</td>\n",
       "      <td>-2.621750</td>\n",
       "      <td>388.43460</td>\n",
       "      <td>674</td>\n",
       "    </tr>\n",
       "    <tr>\n",
       "      <th>Albox</th>\n",
       "      <td>37.38979</td>\n",
       "      <td>-2.147483</td>\n",
       "      <td>426.42680</td>\n",
       "      <td>11178</td>\n",
       "    </tr>\n",
       "    <tr>\n",
       "      <th>...</th>\n",
       "      <th>...</th>\n",
       "      <th>...</th>\n",
       "      <td>...</td>\n",
       "      <td>...</td>\n",
       "      <td>...</td>\n",
       "      <td>...</td>\n",
       "    </tr>\n",
       "    <tr>\n",
       "      <th rowspan=\"5\" valign=\"top\">Valencia</th>\n",
       "      <th rowspan=\"5\" valign=\"top\">Valencia/València</th>\n",
       "      <th>Xàtiva</th>\n",
       "      <td>38.98887</td>\n",
       "      <td>-0.515614</td>\n",
       "      <td>118.28640</td>\n",
       "      <td>29386</td>\n",
       "    </tr>\n",
       "    <tr>\n",
       "      <th>Yesa, La</th>\n",
       "      <td>39.49916</td>\n",
       "      <td>-0.426125</td>\n",
       "      <td>52.28455</td>\n",
       "      <td>260</td>\n",
       "    </tr>\n",
       "    <tr>\n",
       "      <th>Yátova</th>\n",
       "      <td>39.38500</td>\n",
       "      <td>-0.808174</td>\n",
       "      <td>441.81140</td>\n",
       "      <td>2199</td>\n",
       "    </tr>\n",
       "    <tr>\n",
       "      <th>Zarra</th>\n",
       "      <td>39.09138</td>\n",
       "      <td>-1.075068</td>\n",
       "      <td>576.03660</td>\n",
       "      <td>551</td>\n",
       "    </tr>\n",
       "    <tr>\n",
       "      <th>Ènova, l'</th>\n",
       "      <td>39.04391</td>\n",
       "      <td>-0.480266</td>\n",
       "      <td>57.11230</td>\n",
       "      <td>1018</td>\n",
       "    </tr>\n",
       "  </tbody>\n",
       "</table>\n",
       "<p>8111 rows × 4 columns</p>\n",
       "</div>"
      ],
      "text/plain": [
       "                                            lat       lon        alt  \\\n",
       "com_aut   prov              mun                                        \n",
       "Andalucía Almería           Abla       37.14114 -2.780104  871.16840   \n",
       "                            Abrucena   37.13305 -2.797098  976.93870   \n",
       "                            Adra       36.74807 -3.022522   10.97898   \n",
       "                            Alboloduy  37.03319 -2.621750  388.43460   \n",
       "                            Albox      37.38979 -2.147483  426.42680   \n",
       "...                                         ...       ...        ...   \n",
       "Valencia  Valencia/València Xàtiva     38.98887 -0.515614  118.28640   \n",
       "                            Yesa, La   39.49916 -0.426125   52.28455   \n",
       "                            Yátova     39.38500 -0.808174  441.81140   \n",
       "                            Zarra      39.09138 -1.075068  576.03660   \n",
       "                            Ènova, l'  39.04391 -0.480266   57.11230   \n",
       "\n",
       "                                       habitantes  \n",
       "com_aut   prov              mun                    \n",
       "Andalucía Almería           Abla             1504  \n",
       "                            Abrucena         1341  \n",
       "                            Adra            24373  \n",
       "                            Alboloduy         674  \n",
       "                            Albox           11178  \n",
       "...                                           ...  \n",
       "Valencia  Valencia/València Xàtiva          29386  \n",
       "                            Yesa, La          260  \n",
       "                            Yátova           2199  \n",
       "                            Zarra             551  \n",
       "                            Ènova, l'        1018  \n",
       "\n",
       "[8111 rows x 4 columns]"
      ]
     },
     "execution_count": 35,
     "metadata": {},
     "output_type": "execute_result"
    }
   ],
   "source": [
    "X=join.drop(labels=([\"parados\"]),axis=1)\n",
    "X"
   ]
  },
  {
   "cell_type": "code",
   "execution_count": 36,
   "metadata": {},
   "outputs": [
    {
     "data": {
      "text/html": [
       "<div>\n",
       "<style scoped>\n",
       "    .dataframe tbody tr th:only-of-type {\n",
       "        vertical-align: middle;\n",
       "    }\n",
       "\n",
       "    .dataframe tbody tr th {\n",
       "        vertical-align: top;\n",
       "    }\n",
       "\n",
       "    .dataframe thead th {\n",
       "        text-align: right;\n",
       "    }\n",
       "</style>\n",
       "<table border=\"1\" class=\"dataframe\">\n",
       "  <thead>\n",
       "    <tr style=\"text-align: right;\">\n",
       "      <th></th>\n",
       "      <th></th>\n",
       "      <th></th>\n",
       "      <th>lat</th>\n",
       "      <th>lon</th>\n",
       "      <th>alt</th>\n",
       "      <th>habitantes</th>\n",
       "    </tr>\n",
       "    <tr>\n",
       "      <th>com_aut</th>\n",
       "      <th>prov</th>\n",
       "      <th>mun</th>\n",
       "      <th></th>\n",
       "      <th></th>\n",
       "      <th></th>\n",
       "      <th></th>\n",
       "    </tr>\n",
       "  </thead>\n",
       "  <tbody>\n",
       "    <tr>\n",
       "      <th>Castilla La Mancha</th>\n",
       "      <th>Guadalajara</th>\n",
       "      <th>Rueda de la Sierra</th>\n",
       "      <td>40.91821</td>\n",
       "      <td>-1.854492</td>\n",
       "      <td>1149.89400</td>\n",
       "      <td>54</td>\n",
       "    </tr>\n",
       "    <tr>\n",
       "      <th>Castilla León</th>\n",
       "      <th>Salamanca</th>\n",
       "      <th>Galindo y Perahuy</th>\n",
       "      <td>40.94322</td>\n",
       "      <td>-5.871698</td>\n",
       "      <td>798.03190</td>\n",
       "      <td>710</td>\n",
       "    </tr>\n",
       "    <tr>\n",
       "      <th>Aragón</th>\n",
       "      <th>Teruel</th>\n",
       "      <th>Gea de Albarracín</th>\n",
       "      <td>40.41083</td>\n",
       "      <td>-1.348030</td>\n",
       "      <td>1039.18100</td>\n",
       "      <td>442</td>\n",
       "    </tr>\n",
       "    <tr>\n",
       "      <th>Castilla León</th>\n",
       "      <th>Salamanca</th>\n",
       "      <th>Santiz</th>\n",
       "      <td>41.20575</td>\n",
       "      <td>-5.895741</td>\n",
       "      <td>892.00000</td>\n",
       "      <td>269</td>\n",
       "    </tr>\n",
       "    <tr>\n",
       "      <th>Andalucía</th>\n",
       "      <th>Cádiz</th>\n",
       "      <th>Villamartín</th>\n",
       "      <td>36.86132</td>\n",
       "      <td>-5.641834</td>\n",
       "      <td>167.80910</td>\n",
       "      <td>12526</td>\n",
       "    </tr>\n",
       "    <tr>\n",
       "      <th>...</th>\n",
       "      <th>...</th>\n",
       "      <th>...</th>\n",
       "      <td>...</td>\n",
       "      <td>...</td>\n",
       "      <td>...</td>\n",
       "      <td>...</td>\n",
       "    </tr>\n",
       "    <tr>\n",
       "      <th rowspan=\"2\" valign=\"top\">Catalunya</th>\n",
       "      <th>Barcelona</th>\n",
       "      <th>Vallcebre</th>\n",
       "      <td>42.20394</td>\n",
       "      <td>1.818234</td>\n",
       "      <td>1127.91900</td>\n",
       "      <td>264</td>\n",
       "    </tr>\n",
       "    <tr>\n",
       "      <th>Girona</th>\n",
       "      <th>Rupià</th>\n",
       "      <td>42.01961</td>\n",
       "      <td>3.010659</td>\n",
       "      <td>63.82626</td>\n",
       "      <td>243</td>\n",
       "    </tr>\n",
       "    <tr>\n",
       "      <th>Aragón</th>\n",
       "      <th>Huesca</th>\n",
       "      <th>Foradada del Toscar</th>\n",
       "      <td>42.41026</td>\n",
       "      <td>0.350782</td>\n",
       "      <td>984.64460</td>\n",
       "      <td>226</td>\n",
       "    </tr>\n",
       "    <tr>\n",
       "      <th>Valencia</th>\n",
       "      <th>Alicante/Alacant</th>\n",
       "      <th>Benilloba</th>\n",
       "      <td>38.70023</td>\n",
       "      <td>-0.390427</td>\n",
       "      <td>535.06920</td>\n",
       "      <td>839</td>\n",
       "    </tr>\n",
       "    <tr>\n",
       "      <th>Navarra</th>\n",
       "      <th>Navarra</th>\n",
       "      <th>Salinas de Oro/Jaitz</th>\n",
       "      <td>42.77519</td>\n",
       "      <td>-1.889980</td>\n",
       "      <td>682.40230</td>\n",
       "      <td>115</td>\n",
       "    </tr>\n",
       "  </tbody>\n",
       "</table>\n",
       "<p>5677 rows × 4 columns</p>\n",
       "</div>"
      ],
      "text/plain": [
       "                                                               lat       lon  \\\n",
       "com_aut            prov             mun                                        \n",
       "Castilla La Mancha Guadalajara      Rueda de la Sierra    40.91821 -1.854492   \n",
       "Castilla León      Salamanca        Galindo y Perahuy     40.94322 -5.871698   \n",
       "Aragón             Teruel           Gea de Albarracín     40.41083 -1.348030   \n",
       "Castilla León      Salamanca        Santiz                41.20575 -5.895741   \n",
       "Andalucía          Cádiz            Villamartín           36.86132 -5.641834   \n",
       "...                                                            ...       ...   \n",
       "Catalunya          Barcelona        Vallcebre             42.20394  1.818234   \n",
       "                   Girona           Rupià                 42.01961  3.010659   \n",
       "Aragón             Huesca           Foradada del Toscar   42.41026  0.350782   \n",
       "Valencia           Alicante/Alacant Benilloba             38.70023 -0.390427   \n",
       "Navarra            Navarra          Salinas de Oro/Jaitz  42.77519 -1.889980   \n",
       "\n",
       "                                                                 alt  \\\n",
       "com_aut            prov             mun                                \n",
       "Castilla La Mancha Guadalajara      Rueda de la Sierra    1149.89400   \n",
       "Castilla León      Salamanca        Galindo y Perahuy      798.03190   \n",
       "Aragón             Teruel           Gea de Albarracín     1039.18100   \n",
       "Castilla León      Salamanca        Santiz                 892.00000   \n",
       "Andalucía          Cádiz            Villamartín            167.80910   \n",
       "...                                                              ...   \n",
       "Catalunya          Barcelona        Vallcebre             1127.91900   \n",
       "                   Girona           Rupià                   63.82626   \n",
       "Aragón             Huesca           Foradada del Toscar    984.64460   \n",
       "Valencia           Alicante/Alacant Benilloba              535.06920   \n",
       "Navarra            Navarra          Salinas de Oro/Jaitz   682.40230   \n",
       "\n",
       "                                                          habitantes  \n",
       "com_aut            prov             mun                               \n",
       "Castilla La Mancha Guadalajara      Rueda de la Sierra            54  \n",
       "Castilla León      Salamanca        Galindo y Perahuy            710  \n",
       "Aragón             Teruel           Gea de Albarracín            442  \n",
       "Castilla León      Salamanca        Santiz                       269  \n",
       "Andalucía          Cádiz            Villamartín                12526  \n",
       "...                                                              ...  \n",
       "Catalunya          Barcelona        Vallcebre                    264  \n",
       "                   Girona           Rupià                        243  \n",
       "Aragón             Huesca           Foradada del Toscar          226  \n",
       "Valencia           Alicante/Alacant Benilloba                    839  \n",
       "Navarra            Navarra          Salinas de Oro/Jaitz         115  \n",
       "\n",
       "[5677 rows x 4 columns]"
      ]
     },
     "execution_count": 36,
     "metadata": {},
     "output_type": "execute_result"
    }
   ],
   "source": [
    "X_train=X.loc[Y_train.index]\n",
    "X_train"
   ]
  },
  {
   "cell_type": "code",
   "execution_count": 37,
   "metadata": {},
   "outputs": [
    {
     "data": {
      "text/html": [
       "<div>\n",
       "<style scoped>\n",
       "    .dataframe tbody tr th:only-of-type {\n",
       "        vertical-align: middle;\n",
       "    }\n",
       "\n",
       "    .dataframe tbody tr th {\n",
       "        vertical-align: top;\n",
       "    }\n",
       "\n",
       "    .dataframe thead th {\n",
       "        text-align: right;\n",
       "    }\n",
       "</style>\n",
       "<table border=\"1\" class=\"dataframe\">\n",
       "  <thead>\n",
       "    <tr style=\"text-align: right;\">\n",
       "      <th></th>\n",
       "      <th></th>\n",
       "      <th></th>\n",
       "      <th>lat</th>\n",
       "      <th>lon</th>\n",
       "      <th>alt</th>\n",
       "      <th>habitantes</th>\n",
       "    </tr>\n",
       "    <tr>\n",
       "      <th>com_aut</th>\n",
       "      <th>prov</th>\n",
       "      <th>mun</th>\n",
       "      <th></th>\n",
       "      <th></th>\n",
       "      <th></th>\n",
       "      <th></th>\n",
       "    </tr>\n",
       "  </thead>\n",
       "  <tbody>\n",
       "    <tr>\n",
       "      <th>Castilla La Mancha</th>\n",
       "      <th>Cuenca</th>\n",
       "      <th>Valle de Altomira, El</th>\n",
       "      <td>40.25583</td>\n",
       "      <td>-2.757778</td>\n",
       "      <td>806.52720</td>\n",
       "      <td>322</td>\n",
       "    </tr>\n",
       "    <tr>\n",
       "      <th>Andalucía</th>\n",
       "      <th>Huelva</th>\n",
       "      <th>San Silvestre de Guzmán</th>\n",
       "      <td>37.38840</td>\n",
       "      <td>-7.350305</td>\n",
       "      <td>152.81380</td>\n",
       "      <td>747</td>\n",
       "    </tr>\n",
       "    <tr>\n",
       "      <th>Valencia</th>\n",
       "      <th>Valencia/València</th>\n",
       "      <th>Puçol</th>\n",
       "      <td>39.61639</td>\n",
       "      <td>-0.300809</td>\n",
       "      <td>12.53519</td>\n",
       "      <td>19018</td>\n",
       "    </tr>\n",
       "    <tr>\n",
       "      <th rowspan=\"2\" valign=\"top\">Catalunya</th>\n",
       "      <th>Barcelona</th>\n",
       "      <th>Orpí</th>\n",
       "      <td>41.51867</td>\n",
       "      <td>1.575293</td>\n",
       "      <td>482.55300</td>\n",
       "      <td>187</td>\n",
       "    </tr>\n",
       "    <tr>\n",
       "      <th>Girona</th>\n",
       "      <th>Pau</th>\n",
       "      <td>42.31460</td>\n",
       "      <td>3.114368</td>\n",
       "      <td>27.27005</td>\n",
       "      <td>578</td>\n",
       "    </tr>\n",
       "    <tr>\n",
       "      <th>...</th>\n",
       "      <th>...</th>\n",
       "      <th>...</th>\n",
       "      <td>...</td>\n",
       "      <td>...</td>\n",
       "      <td>...</td>\n",
       "      <td>...</td>\n",
       "    </tr>\n",
       "    <tr>\n",
       "      <th>Navarra</th>\n",
       "      <th>Navarra</th>\n",
       "      <th>Irurtzun</th>\n",
       "      <td>42.91966</td>\n",
       "      <td>-1.828200</td>\n",
       "      <td>472.67370</td>\n",
       "      <td>2225</td>\n",
       "    </tr>\n",
       "    <tr>\n",
       "      <th>Andalucía</th>\n",
       "      <th>Huelva</th>\n",
       "      <th>Villalba del Alcor</th>\n",
       "      <td>37.39729</td>\n",
       "      <td>-6.476595</td>\n",
       "      <td>161.80710</td>\n",
       "      <td>3510</td>\n",
       "    </tr>\n",
       "    <tr>\n",
       "      <th>Castilla La Mancha</th>\n",
       "      <th>Ciudad Real</th>\n",
       "      <th>Villarta de San Juan</th>\n",
       "      <td>39.24044</td>\n",
       "      <td>-3.422227</td>\n",
       "      <td>626.96720</td>\n",
       "      <td>3115</td>\n",
       "    </tr>\n",
       "    <tr>\n",
       "      <th>Castilla León</th>\n",
       "      <th>Salamanca</th>\n",
       "      <th>Valdelageve</th>\n",
       "      <td>40.36914</td>\n",
       "      <td>-5.989517</td>\n",
       "      <td>657.52030</td>\n",
       "      <td>96</td>\n",
       "    </tr>\n",
       "    <tr>\n",
       "      <th>Aragón</th>\n",
       "      <th>Huesca</th>\n",
       "      <th>Arén</th>\n",
       "      <td>42.25887</td>\n",
       "      <td>0.720924</td>\n",
       "      <td>754.09660</td>\n",
       "      <td>320</td>\n",
       "    </tr>\n",
       "  </tbody>\n",
       "</table>\n",
       "<p>2434 rows × 4 columns</p>\n",
       "</div>"
      ],
      "text/plain": [
       "                                                                   lat  \\\n",
       "com_aut            prov              mun                                 \n",
       "Castilla La Mancha Cuenca            Valle de Altomira, El    40.25583   \n",
       "Andalucía          Huelva            San Silvestre de Guzmán  37.38840   \n",
       "Valencia           Valencia/València Puçol                    39.61639   \n",
       "Catalunya          Barcelona         Orpí                     41.51867   \n",
       "                   Girona            Pau                      42.31460   \n",
       "...                                                                ...   \n",
       "Navarra            Navarra           Irurtzun                 42.91966   \n",
       "Andalucía          Huelva            Villalba del Alcor       37.39729   \n",
       "Castilla La Mancha Ciudad Real       Villarta de San Juan     39.24044   \n",
       "Castilla León      Salamanca         Valdelageve              40.36914   \n",
       "Aragón             Huesca            Arén                     42.25887   \n",
       "\n",
       "                                                                   lon  \\\n",
       "com_aut            prov              mun                                 \n",
       "Castilla La Mancha Cuenca            Valle de Altomira, El   -2.757778   \n",
       "Andalucía          Huelva            San Silvestre de Guzmán -7.350305   \n",
       "Valencia           Valencia/València Puçol                   -0.300809   \n",
       "Catalunya          Barcelona         Orpí                     1.575293   \n",
       "                   Girona            Pau                      3.114368   \n",
       "...                                                                ...   \n",
       "Navarra            Navarra           Irurtzun                -1.828200   \n",
       "Andalucía          Huelva            Villalba del Alcor      -6.476595   \n",
       "Castilla La Mancha Ciudad Real       Villarta de San Juan    -3.422227   \n",
       "Castilla León      Salamanca         Valdelageve             -5.989517   \n",
       "Aragón             Huesca            Arén                     0.720924   \n",
       "\n",
       "                                                                    alt  \\\n",
       "com_aut            prov              mun                                  \n",
       "Castilla La Mancha Cuenca            Valle de Altomira, El    806.52720   \n",
       "Andalucía          Huelva            San Silvestre de Guzmán  152.81380   \n",
       "Valencia           Valencia/València Puçol                     12.53519   \n",
       "Catalunya          Barcelona         Orpí                     482.55300   \n",
       "                   Girona            Pau                       27.27005   \n",
       "...                                                                 ...   \n",
       "Navarra            Navarra           Irurtzun                 472.67370   \n",
       "Andalucía          Huelva            Villalba del Alcor       161.80710   \n",
       "Castilla La Mancha Ciudad Real       Villarta de San Juan     626.96720   \n",
       "Castilla León      Salamanca         Valdelageve              657.52030   \n",
       "Aragón             Huesca            Arén                     754.09660   \n",
       "\n",
       "                                                              habitantes  \n",
       "com_aut            prov              mun                                  \n",
       "Castilla La Mancha Cuenca            Valle de Altomira, El           322  \n",
       "Andalucía          Huelva            San Silvestre de Guzmán         747  \n",
       "Valencia           Valencia/València Puçol                         19018  \n",
       "Catalunya          Barcelona         Orpí                            187  \n",
       "                   Girona            Pau                             578  \n",
       "...                                                                  ...  \n",
       "Navarra            Navarra           Irurtzun                       2225  \n",
       "Andalucía          Huelva            Villalba del Alcor             3510  \n",
       "Castilla La Mancha Ciudad Real       Villarta de San Juan           3115  \n",
       "Castilla León      Salamanca         Valdelageve                      96  \n",
       "Aragón             Huesca            Arén                            320  \n",
       "\n",
       "[2434 rows x 4 columns]"
      ]
     },
     "execution_count": 37,
     "metadata": {},
     "output_type": "execute_result"
    }
   ],
   "source": [
    "X_test=X.loc[Y_test.index]\n",
    "X_test"
   ]
  },
  {
   "cell_type": "markdown",
   "metadata": {},
   "source": [
    "You should have obtained X_train and X_test in the same order as Y_train and Y_test:"
   ]
  },
  {
   "cell_type": "code",
   "execution_count": 38,
   "metadata": {
    "ExecuteTime": {
     "end_time": "2018-09-12T12:15:11.126993Z",
     "start_time": "2018-09-12T12:15:11.118865Z"
    }
   },
   "outputs": [],
   "source": [
    "assert(isinstance(X_train, pd.DataFrame) and isinstance(X_test, pd.DataFrame)) \n",
    "assert(all(X_train.columns == muns_population.columns) and all(X_test.columns == muns_population.columns))\n",
    "assert(all(X_train.index == Y_train.index) and all(X_test.index == Y_test.index))"
   ]
  },
  {
   "cell_type": "markdown",
   "metadata": {},
   "source": [
    "So that we can **build our first non-dummy model**:"
   ]
  },
  {
   "cell_type": "markdown",
   "metadata": {},
   "source": [
    "<table align=\"left\">\n",
    " <tr><td width=\"80\"><img src=\"img/question.png\" style=\"width:auto;height:auto\"></td><td style=\"text-align:left\">\n",
    "     Train a <b>linear SVR</b> with the dataset created above, using cross-validation to find the most suitable values for its hyperparameters.\n",
    " </td></tr>\n",
    "</table>"
   ]
  },
  {
   "cell_type": "markdown",
   "metadata": {},
   "source": [
    "<table align=\"left\">\n",
    "<tr><td width=\"80\"><img src=\"img/exclamation.png\" style=\"width:auto;height:auto\"></td><td style=\"text-align:left\">\n",
    "    Make sure you normalize inputs before feeding them to the SVM. Use a <i>Pipeline</i> with a <i>StandardScaler</i>.\n",
    "</td></tr>\n",
    "</table>"
   ]
  },
  {
   "cell_type": "code",
   "execution_count": 39,
   "metadata": {
    "ExecuteTime": {
     "end_time": "2018-09-12T12:24:31.488094Z",
     "start_time": "2018-09-12T12:24:26.202396Z"
    },
    "scrolled": true
   },
   "outputs": [],
   "source": [
    "Cs= np.logspace(-3, 4, 8)\n",
    "epsilons= np.logspace(-4, 4, 9)"
   ]
  },
  {
   "cell_type": "code",
   "execution_count": 40,
   "metadata": {},
   "outputs": [],
   "source": [
    "#Pipeline con tratamiento de datos y modelo:\n",
    "modelo=Pipeline(steps=[(\"scaler\",StandardScaler()), (\"linear_svr\", LinearSVR())])\n",
    "\n",
    "#Grid de parámetros:\n",
    "grid_linear_svr= {\"linear_svr__C\": Cs,\n",
    "                  \"linear_svr__epsilon\": epsilons,\n",
    "                  \"linear_svr__loss\": [\"epsilon_insensitive\",\"square_epsilon_insensitive\"],\n",
    "                  \"linear_svr__fit_intercept\": [True,False],\n",
    "                  \"linear_svr__dual\": [False,True],\n",
    "                  \"linear_svr__random_state\": [RANDOM_STATE]}\n",
    "\n",
    "#Grid seach:\n",
    "gs_linear_svr=GridSearchCV(modelo,\n",
    "                           grid_linear_svr,\n",
    "                           cv=5,\n",
    "                           scoring=\"r2\",\n",
    "                           verbose=1,\n",
    "                           n_jobs=-1)"
   ]
  },
  {
   "cell_type": "code",
   "execution_count": 41,
   "metadata": {},
   "outputs": [
    {
     "name": "stdout",
     "output_type": "stream",
     "text": [
      "Fitting 5 folds for each of 576 candidates, totalling 2880 fits\n"
     ]
    },
    {
     "name": "stderr",
     "output_type": "stream",
     "text": [
      "[Parallel(n_jobs=-1)]: Using backend LokyBackend with 4 concurrent workers.\n",
      "[Parallel(n_jobs=-1)]: Done  59 tasks      | elapsed:    4.3s\n",
      "[Parallel(n_jobs=-1)]: Done 1232 tasks      | elapsed:   14.5s\n",
      "[Parallel(n_jobs=-1)]: Done 2320 tasks      | elapsed:   36.9s\n",
      "[Parallel(n_jobs=-1)]: Done 2880 out of 2880 | elapsed:   50.9s finished\n"
     ]
    },
    {
     "data": {
      "text/plain": [
       "GridSearchCV(cv=5, error_score=nan,\n",
       "             estimator=Pipeline(memory=None,\n",
       "                                steps=[('scaler',\n",
       "                                        StandardScaler(copy=True,\n",
       "                                                       with_mean=True,\n",
       "                                                       with_std=True)),\n",
       "                                       ('linear_svr',\n",
       "                                        LinearSVR(C=1.0, dual=True, epsilon=0.0,\n",
       "                                                  fit_intercept=True,\n",
       "                                                  intercept_scaling=1.0,\n",
       "                                                  loss='epsilon_insensitive',\n",
       "                                                  max_iter=1000,\n",
       "                                                  random_state=None, tol=0.0001,\n",
       "                                                  verbose=0))],\n",
       "                                verbose=False),\n",
       "             iid='deprecated', n_jo...\n",
       "                         'linear_svr__dual': [False, True],\n",
       "                         'linear_svr__epsilon': array([1.e-04, 1.e-03, 1.e-02, 1.e-01, 1.e+00, 1.e+01, 1.e+02, 1.e+03,\n",
       "       1.e+04]),\n",
       "                         'linear_svr__fit_intercept': [True, False],\n",
       "                         'linear_svr__loss': ['epsilon_insensitive',\n",
       "                                              'square_epsilon_insensitive'],\n",
       "                         'linear_svr__random_state': [42]},\n",
       "             pre_dispatch='2*n_jobs', refit=True, return_train_score=False,\n",
       "             scoring='r2', verbose=1)"
      ]
     },
     "execution_count": 41,
     "metadata": {},
     "output_type": "execute_result"
    }
   ],
   "source": [
    "gs_linear_svr.fit(X_train,Y_train)"
   ]
  },
  {
   "cell_type": "code",
   "execution_count": 42,
   "metadata": {},
   "outputs": [
    {
     "name": "stdout",
     "output_type": "stream",
     "text": [
      "Best C = 0.1\n",
      "Best Epsilon = 0.01\n",
      "Best R^2 on train = 0.3457740813594671\n",
      "Best model = Pipeline(memory=None,\n",
      "         steps=[('scaler',\n",
      "                 StandardScaler(copy=True, with_mean=True, with_std=True)),\n",
      "                ('linear_svr',\n",
      "                 LinearSVR(C=0.1, dual=True, epsilon=0.01, fit_intercept=True,\n",
      "                           intercept_scaling=1.0, loss='epsilon_insensitive',\n",
      "                           max_iter=1000, random_state=42, tol=0.0001,\n",
      "                           verbose=0))],\n",
      "         verbose=False)\n"
     ]
    }
   ],
   "source": [
    "best_acc_linear_svr=gs_linear_svr.best_score_\n",
    "best_C_linear_svr=gs_linear_svr.best_params_[\"linear_svr__C\"]\n",
    "best_epsilon_linear_svr=gs_linear_svr.best_params_[\"linear_svr__epsilon\"]\n",
    "best_model_linear_svr=gs_linear_svr.best_estimator_\n",
    "\n",
    "print(\"Best C =\", str(best_C_linear_svr))\n",
    "print(\"Best Epsilon =\", str(best_epsilon_linear_svr))\n",
    "print(\"Best R^2 on train =\", str(best_acc_linear_svr))\n",
    "print(\"Best model =\", str(best_model_linear_svr))"
   ]
  },
  {
   "cell_type": "markdown",
   "metadata": {},
   "source": [
    "<font color='brown'>Los mejores hiperparámetros de nuestro modelo son:  \n",
    "- C = 0.1\n",
    "- epsilon = 0.01\n",
    "- dual = True\n",
    "- fit_intercet = True,\n",
    "- intercept_scaling = 1.0\n",
    "- loss = 'epsilon_insensitive'\n",
    "- max_iter = 1000\n",
    "- tol = 0.0001\n",
    "\n",
    "El mejor R^2 en train = 0.3457740813594671</font>"
   ]
  },
  {
   "cell_type": "markdown",
   "metadata": {},
   "source": [
    "And **compare its performance with the dummy's one**:"
   ]
  },
  {
   "cell_type": "markdown",
   "metadata": {},
   "source": [
    "<table align=\"left\">\n",
    " <tr><td width=\"80\"><img src=\"img/question.png\" style=\"width:auto;height:auto\"></td><td style=\"text-align:left\">\n",
    "Generate predictions for the test set with the best linear SVR you obtained and measure scores. Do you observe overfitting? \n",
    "     <br>\n",
    "     Plot these predictions in a map as we did above. How good/bad is it performing, visually speaking? Explain the result you observe.\n",
    " </td></tr>\n",
    "</table>"
   ]
  },
  {
   "cell_type": "markdown",
   "metadata": {},
   "source": [
    "<table align=\"left\">\n",
    "<tr><td width=\"80\"><img src=\"img/exclamation.png\" style=\"width:auto;height:auto\"></td><td style=\"text-align:left\">\n",
    "    Do not read polygons again! They are stored in <i>coms</i> and <i>provs</i>, so you can pass them to <i>generate_map</i> as before. It is just <i>Y</i> that changes from its true value to its model-estimated value.\n",
    "</td></tr>\n",
    "</table>"
   ]
  },
  {
   "cell_type": "code",
   "execution_count": 43,
   "metadata": {
    "ExecuteTime": {
     "end_time": "2018-09-12T12:25:06.570971Z",
     "start_time": "2018-09-12T12:24:57.531800Z"
    }
   },
   "outputs": [],
   "source": [
    "linear_svr_preds=best_model_linear_svr.predict(X_test)"
   ]
  },
  {
   "cell_type": "code",
   "execution_count": 44,
   "metadata": {},
   "outputs": [
    {
     "data": {
      "text/plain": [
       "com_aut    prov                    mun                       \n",
       "Madrid     Madrid                  Madrid                        0.419422\n",
       "Catalunya  Barcelona               Barcelona                     0.231085\n",
       "Canarias   Santa Cruz de Tenerife  Santa Cruz de Tenerife        0.190934\n",
       "                                   San Sebastián de la Gomera    0.171809\n",
       "                                   Candelaria                    0.170129\n",
       "                                                                   ...   \n",
       "Catalunya  Girona                  Pardines                      0.006844\n",
       "La Rioja   La Rioja                Pedroso                       0.006598\n",
       "Catalunya  Girona                  Setcases                      0.005348\n",
       "           Barcelona               Castellar del Riu             0.001283\n",
       "           Girona                  Meranges                     -0.001820\n",
       "Length: 2434, dtype: float64"
      ]
     },
     "execution_count": 44,
     "metadata": {},
     "output_type": "execute_result"
    }
   ],
   "source": [
    "linear_svr_preds=pd.Series(data=linear_svr_preds, index=X_test.index)\n",
    "linear_svr_preds.sort_values(0,ascending=False)"
   ]
  },
  {
   "cell_type": "code",
   "execution_count": 45,
   "metadata": {},
   "outputs": [
    {
     "name": "stdout",
     "output_type": "stream",
     "text": [
      "Best model score (R^2) = 0.275305855362456\n"
     ]
    }
   ],
   "source": [
    "best_model_score_linear_svr=best_model_linear_svr.score(X_test,Y_test)\n",
    "print(\"Best model score (R^2) =\", str(best_model_score_linear_svr))"
   ]
  },
  {
   "cell_type": "code",
   "execution_count": 46,
   "metadata": {},
   "outputs": [
    {
     "data": {
      "text/plain": [
       "25.59634116907379"
      ]
     },
     "execution_count": 46,
     "metadata": {},
     "output_type": "execute_result"
    }
   ],
   "source": [
    "((best_acc_linear_svr/best_model_score_linear_svr)-1)*100"
   ]
  },
  {
   "cell_type": "markdown",
   "metadata": {},
   "source": [
    "<font color='brown'>Observamos que el R^2 en train (0.3458) es mayor que el obtenido en test (0.2753), en un 25.60%, por lo que podemos decir que **el modelo está sobreajustado**. El modelo lineal tiene un mejor R^2 que el dummy, pero su predicción es mala.  \n",
    "Vamos a comprobar visualmente como predice el modelo linear_svr calculando el error absoluto entre las Y reales y las Y predichas. También calcularemos el MAE (error absoluto medio) de nuestro modelo:</font>"
   ]
  },
  {
   "cell_type": "code",
   "execution_count": 47,
   "metadata": {},
   "outputs": [
    {
     "data": {
      "image/png": "[encoded data removed]",
      "text/plain": [
       "<matplotlib.figure.Figure at 0x11d980c8>"
      ]
     },
     "metadata": {
      "needs_background": "light"
     },
     "output_type": "display_data"
    }
   ],
   "source": [
    "error_linear_svr=abs(Y_test-linear_svr_preds)\n",
    "plt.scatter(x=Y_test,y=error_linear_svr);"
   ]
  },
  {
   "cell_type": "code",
   "execution_count": 48,
   "metadata": {},
   "outputs": [
    {
     "name": "stdout",
     "output_type": "stream",
     "text": [
      "El MAE del modelo linear_svr es: 0.01780876717822207\n"
     ]
    }
   ],
   "source": [
    "MAE_linear_svr=MAE(y_true=Y_test,y_pred=linear_svr_preds)\n",
    "print(\"El MAE del modelo linear_svr es:\",MAE_linear_svr)"
   ]
  },
  {
   "cell_type": "code",
   "execution_count": 49,
   "metadata": {},
   "outputs": [
    {
     "data": {
      "text/plain": [
       "-22.421016638519998"
      ]
     },
     "execution_count": 49,
     "metadata": {},
     "output_type": "execute_result"
    }
   ],
   "source": [
    "((MAE_linear_svr/MAE_dummy)-1)*100"
   ]
  },
  {
   "cell_type": "markdown",
   "metadata": {},
   "source": [
    "<font color='brown'>En el gráfico podemos ver el error de las predicciones del modelo linear_svr con respecto al valor real (Y_test). El MAE del modelo linear_svr es 0.01780876717822207, un 22.42% menor que el del modelo dummy, por lo que **el modelo linear_svr predice mejor que el dummy**.\n",
    "    \n",
    "Vamos a comprobar si existe algún municipio cuyo valor sea la media o un valor cercano:  \n",
    "Vamos a comprobar el nivel de acierto o casi acierto del modelo teniendo en cuenta el mismo margen de error que en el modelo dummy:</font>"
   ]
  },
  {
   "cell_type": "code",
   "execution_count": 50,
   "metadata": {},
   "outputs": [
    {
     "name": "stdout",
     "output_type": "stream",
     "text": [
      "El modelo linear_svr ha acertado la tasa de paro en: 0 municipios\n"
     ]
    }
   ],
   "source": [
    "aciertos_linear_svr=error_linear_svr==0\n",
    "print(\"El modelo linear_svr ha acertado la tasa de paro en:\",error_linear_svr[aciertos_linear_svr].shape[0],\"municipios\")"
   ]
  },
  {
   "cell_type": "code",
   "execution_count": 51,
   "metadata": {},
   "outputs": [
    {
     "name": "stdout",
     "output_type": "stream",
     "text": [
      "El modelo linear_svr ha acertado la tasa de paro con un margen de error de 0.001 en: 83 municipios\n"
     ]
    }
   ],
   "source": [
    "casi_aciertos_linear_svr=error_linear_svr<0.001\n",
    "print(\"El modelo linear_svr ha acertado la tasa de paro con un margen de error de 0.001 en:\",\n",
    "      error_linear_svr[casi_aciertos_linear_svr].shape[0],\"municipios\")"
   ]
  },
  {
   "cell_type": "markdown",
   "metadata": {},
   "source": [
    "<font color='brown'>Al igual que el modelo dummy, no ha acertado ninguna tasa de paro, sin embargo, con el mismo margen de error usado en el modelo dummy, el modelo linear_svr ha estado cerca de predecir correctamente la tasa de paro en 83 municipios, frente a los 79 del modelo dummy.</font>"
   ]
  },
  {
   "cell_type": "code",
   "execution_count": 52,
   "metadata": {},
   "outputs": [],
   "source": [
    "filename = './linear_svr_preds.html'\n",
    "_ = utils.generate_map(data=pd.concat([muns_population.loc[linear_svr_preds.index], linear_svr_preds], axis=1),\n",
    "                       lat_col=utils.LAT_FIELD, long_col=utils.LON_FIELD,\n",
    "                       unemploy_col=linear_svr_preds.name if linear_svr_preds.name is not None else 0,\n",
    "                       cmap=color_range, coms=coms, provs=provs,\n",
    "                       filename=filename)"
   ]
  },
  {
   "cell_type": "code",
   "execution_count": 53,
   "metadata": {},
   "outputs": [
    {
     "data": {
      "text/html": [
       "\n",
       "        <iframe\n",
       "            width=\"100%\"\n",
       "            height=\"550px\"\n",
       "            src=\"./linear_svr_preds.html\"\n",
       "            frameborder=\"0\"\n",
       "            allowfullscreen\n",
       "        ></iframe>\n",
       "        "
      ],
      "text/plain": [
       "<IPython.lib.display.IFrame at 0x1b2ea748>"
      ]
     },
     "execution_count": 53,
     "metadata": {},
     "output_type": "execute_result"
    }
   ],
   "source": [
    "IFrame(filename, width='100%', height='550px')"
   ]
  },
  {
   "cell_type": "markdown",
   "metadata": {},
   "source": [
    "<font color='brown'>Visualmente, vemos que **el modelo no predice correctamente**, ya que, aunque es cierto que en el mapa con los valores reales se observa una mayor tasa de paro hacía al sur del país, es decir, cuando la feature latitud disminuye, en este caso ese descenso es mucho mayor. También se puede ver que en el centro de la meseta la tasa de paro es menor, siendo cada vez más alta según vamos al este y al oeste, al igual que con latitud, aumentando en exceso.  **Los casos más claros son las Islas Canarias**, que se encuentran más al sur y más al oeste del país, viendo como su tasa de paro es la más alta de todas la predicciones **y Madrid y Barcelona**, cuyas tasas de paro superan el límite de la leyenda que se había ajustado a los valores reales, llegando Madrid a tener una tasa de paro de más del 40%.</font>"
   ]
  },
  {
   "cell_type": "markdown",
   "metadata": {},
   "source": [
    "Let us try to **interpret what the resulting SVM is doing**:"
   ]
  },
  {
   "cell_type": "markdown",
   "metadata": {},
   "source": [
    "<table align=\"left\">\n",
    " <tr><td width=\"80\"><img src=\"img/question.png\" style=\"width:auto;height:auto\"></td><td style=\"text-align:left\">\n",
    "Explain what the model obtained is doing. What is the intercept and why is it that? What is the importance of each feature? Which features have a positive (i.e., making unemployment bigger) or a negative (making it smaller) effect on unemployment? Does this agree with your intuition about the problem?\n",
    " </td></tr>\n",
    "</table>"
   ]
  },
  {
   "cell_type": "markdown",
   "metadata": {},
   "source": [
    "<table align=\"left\">\n",
    "<tr><td width=\"80\"><img src=\"img/exclamation.png\" style=\"width:auto;height:auto\"></td><td style=\"text-align:left\">\n",
    "    The intercept (<i>b</i> in our formulas) is stored in the <i>intercept_</i> attribute of the model, whereas the weight vector (<i>w</i> in our formulas) is kept in the <i>coef_</i> attribute.\n",
    "</td></tr>\n",
    "</table>"
   ]
  },
  {
   "cell_type": "markdown",
   "metadata": {
    "ExecuteTime": {
     "end_time": "2018-09-12T12:37:19.395340Z",
     "start_time": "2018-09-12T12:37:19.212672Z"
    }
   },
   "source": [
    "<font color='brown'>El modelo trata de determinar el hiperplano que mejor se ajuste a nuestro datos, reduciendo el error para las features dadas. Este plano sigue la siguiente función para cada feature:\n",
    "$y=wx+b+\\epsilon$, siendo w los coeficientes que indican la importancia de cada feature, b el intersecto y $\\epsilon$ el error propio del modelo al ser insensitive loss.<font>"
   ]
  },
  {
   "cell_type": "code",
   "execution_count": 54,
   "metadata": {},
   "outputs": [],
   "source": [
    "mejor_modelo= gs_linear_svr.best_estimator_.named_steps[\"linear_svr\"]\n",
    "intercept= mejor_modelo.intercept_\n",
    "coeficiente= mejor_modelo.coef_\n",
    "features=X_train.columns.tolist()\n",
    "tabla_coef=pd.DataFrame(coeficiente).T\n",
    "tabla_coef.columns=[features]"
   ]
  },
  {
   "cell_type": "code",
   "execution_count": 55,
   "metadata": {},
   "outputs": [
    {
     "name": "stdout",
     "output_type": "stream",
     "text": [
      "El intercepto es: [0.04561323]\n",
      "Los coeficientes son:\n"
     ]
    },
    {
     "data": {
      "text/html": [
       "<div>\n",
       "<style scoped>\n",
       "    .dataframe tbody tr th:only-of-type {\n",
       "        vertical-align: middle;\n",
       "    }\n",
       "\n",
       "    .dataframe tbody tr th {\n",
       "        vertical-align: top;\n",
       "    }\n",
       "\n",
       "    .dataframe thead tr th {\n",
       "        text-align: left;\n",
       "    }\n",
       "</style>\n",
       "<table border=\"1\" class=\"dataframe\">\n",
       "  <thead>\n",
       "    <tr>\n",
       "      <th></th>\n",
       "      <th>lat</th>\n",
       "      <th>lon</th>\n",
       "      <th>alt</th>\n",
       "      <th>habitantes</th>\n",
       "    </tr>\n",
       "  </thead>\n",
       "  <tbody>\n",
       "    <tr>\n",
       "      <th>0</th>\n",
       "      <td>-0.013106</td>\n",
       "      <td>-0.006682</td>\n",
       "      <td>-0.009403</td>\n",
       "      <td>0.002813</td>\n",
       "    </tr>\n",
       "  </tbody>\n",
       "</table>\n",
       "</div>"
      ],
      "text/plain": [
       "        lat       lon       alt habitantes\n",
       "0 -0.013106 -0.006682 -0.009403   0.002813"
      ]
     },
     "execution_count": 55,
     "metadata": {},
     "output_type": "execute_result"
    }
   ],
   "source": [
    "print(\"El intercepto es:\",intercept)\n",
    "print(\"Los coeficientes son:\")\n",
    "tabla_coef"
   ]
  },
  {
   "cell_type": "code",
   "execution_count": 56,
   "metadata": {},
   "outputs": [
    {
     "name": "stdout",
     "output_type": "stream",
     "text": [
      "La media de Y_train es: 0.04729103643639436\n",
      "El epsilon-insensitive es:  0.01\n"
     ]
    }
   ],
   "source": [
    "print(\"La media de Y_train es:\",stats.mean(Y_train))\n",
    "print(\"El epsilon-insensitive es: \", best_epsilon_linear_svr)"
   ]
  },
  {
   "cell_type": "markdown",
   "metadata": {},
   "source": [
    "<font color='brown'>Para calcular el intersecto, las features no intervienen en la función, es decir todos los coeficientes son 0, por lo que $y=b+\\epsilon$. Al usar la minimización del error cuadrático, que trata de minimizar la desviación de la media, si las features no tienen relevancia, es decir, $w=0$, \"y\" es la media de las predicciones, por eso \"b\" es la media de las predicciones del ratio de paro, aproximadamente, ya que también hay que tener en cuenta $\\epsilon$, que es el error propio del modelo al ser loss-insensitive.\n",
    "\n",
    "Observamos que la feature que más esfecto tiene en el resultado es \"latitud\", con una \"w\" negativa, es decir, cuando la latitud aumenta el ratio de paro baja. Según el mapa \"true_vals\", era de esperar que la latitud tuviera una \"w\" negativa, ya que se observaba un mayor ratio de paro hacia el sur del país.\n",
    "\n",
    "La \"longitud\" y la \"altitud\" también tienen un coeficiente negativo, pero menor a la \"latitud\", con lo que su efecto también es menor en la predicción.\n",
    "\n",
    "Los \"habitantes\" es la única feature con una \"w\" positiva, es decir, según aumenta el ratio de paro también aumenta, siendo, sin embargo la que menos efecto tiene sobre la predicción.</font>"
   ]
  },
  {
   "cell_type": "markdown",
   "metadata": {},
   "source": [
    "Fine, but this is for a linear SVM. Let us **check if we can do better with a non-linear SVM**:"
   ]
  },
  {
   "cell_type": "markdown",
   "metadata": {},
   "source": [
    "<table align=\"left\">\n",
    " <tr><td width=\"80\"><img src=\"img/question.png\" style=\"width:auto;height:auto\"></td><td style=\"text-align:left\">\n",
    "     Train a <b>non-linear SVR with the RBF kernel</b>, tuning its hyperparameters with cross-validation.\n",
    " </td></tr>\n",
    "</table>"
   ]
  },
  {
   "cell_type": "code",
   "execution_count": 57,
   "metadata": {
    "ExecuteTime": {
     "end_time": "2018-09-13T13:07:53.789622Z",
     "start_time": "2018-09-13T12:59:05.098282Z"
    }
   },
   "outputs": [],
   "source": [
    "gammas= np.logspace(-5, 4, 10)\n",
    "Cs_2= np.logspace(-3, 0, 4)\n",
    "epsilons_2= np.logspace(-3, 0, 4)"
   ]
  },
  {
   "cell_type": "code",
   "execution_count": 58,
   "metadata": {},
   "outputs": [],
   "source": [
    "#Pipeline con tratamiento de datos y modelo:\n",
    "modelo2=Pipeline(steps=[(\"scaler\",StandardScaler()), (\"rbf_svr\", SVR(kernel=\"rbf\"))])\n",
    "\n",
    "#Grid de parámetros:\n",
    "grid_rbf_svr= {\"rbf_svr__C\": Cs_2,\n",
    "               \"rbf_svr__gamma\": gammas,\n",
    "               \"rbf_svr__epsilon\": epsilons_2}\n",
    "\n",
    "#Grid seach:\n",
    "gs_rbf_svr=GridSearchCV(modelo2,\n",
    "                        grid_rbf_svr,\n",
    "                        cv=5,\n",
    "                        scoring=\"r2\",\n",
    "                        verbose=1,\n",
    "                        n_jobs=-1)"
   ]
  },
  {
   "cell_type": "code",
   "execution_count": 59,
   "metadata": {},
   "outputs": [
    {
     "name": "stdout",
     "output_type": "stream",
     "text": [
      "Fitting 5 folds for each of 160 candidates, totalling 800 fits\n"
     ]
    },
    {
     "name": "stderr",
     "output_type": "stream",
     "text": [
      "[Parallel(n_jobs=-1)]: Using backend LokyBackend with 4 concurrent workers.\n",
      "[Parallel(n_jobs=-1)]: Done  42 tasks      | elapsed:   27.4s\n",
      "[Parallel(n_jobs=-1)]: Done 308 tasks      | elapsed:  1.8min\n",
      "[Parallel(n_jobs=-1)]: Done 604 tasks      | elapsed:  3.0min\n",
      "[Parallel(n_jobs=-1)]: Done 800 out of 800 | elapsed:  4.5min finished\n"
     ]
    },
    {
     "data": {
      "text/plain": [
       "GridSearchCV(cv=5, error_score=nan,\n",
       "             estimator=Pipeline(memory=None,\n",
       "                                steps=[('scaler',\n",
       "                                        StandardScaler(copy=True,\n",
       "                                                       with_mean=True,\n",
       "                                                       with_std=True)),\n",
       "                                       ('rbf_svr',\n",
       "                                        SVR(C=1.0, cache_size=200, coef0=0.0,\n",
       "                                            degree=3, epsilon=0.1,\n",
       "                                            gamma='scale', kernel='rbf',\n",
       "                                            max_iter=-1, shrinking=True,\n",
       "                                            tol=0.001, verbose=False))],\n",
       "                                verbose=False),\n",
       "             iid='deprecated', n_jobs=-1,\n",
       "             param_grid={'rbf_svr__C': array([0.001, 0.01 , 0.1  , 1.   ]),\n",
       "                         'rbf_svr__epsilon': array([0.001, 0.01 , 0.1  , 1.   ]),\n",
       "                         'rbf_svr__gamma': array([1.e-05, 1.e-04, 1.e-03, 1.e-02, 1.e-01, 1.e+00, 1.e+01, 1.e+02,\n",
       "       1.e+03, 1.e+04])},\n",
       "             pre_dispatch='2*n_jobs', refit=True, return_train_score=False,\n",
       "             scoring='r2', verbose=1)"
      ]
     },
     "execution_count": 59,
     "metadata": {},
     "output_type": "execute_result"
    }
   ],
   "source": [
    "gs_rbf_svr.fit(X_train,Y_train)"
   ]
  },
  {
   "cell_type": "code",
   "execution_count": 60,
   "metadata": {},
   "outputs": [],
   "source": [
    "best_acc_rbf_svr=gs_rbf_svr.best_score_\n",
    "best_C_rbf_svr=gs_rbf_svr.best_params_[\"rbf_svr__C\"]\n",
    "best_epsilon_rbf_svr=gs_rbf_svr.best_params_[\"rbf_svr__epsilon\"]\n",
    "best_gamma_rbf_svr=gs_rbf_svr.best_params_[\"rbf_svr__gamma\"]\n",
    "best_model_rbf_svr=gs_rbf_svr.best_estimator_"
   ]
  },
  {
   "cell_type": "code",
   "execution_count": 61,
   "metadata": {},
   "outputs": [
    {
     "name": "stdout",
     "output_type": "stream",
     "text": [
      "Best C = 0.1\n",
      "Best Epsilon = 0.01\n",
      "Best Gamma = 1.0\n",
      "Best R^2 on train = 0.568955340506234\n",
      "Best model = Pipeline(memory=None,\n",
      "         steps=[('scaler',\n",
      "                 StandardScaler(copy=True, with_mean=True, with_std=True)),\n",
      "                ('rbf_svr',\n",
      "                 SVR(C=0.1, cache_size=200, coef0=0.0, degree=3, epsilon=0.01,\n",
      "                     gamma=1.0, kernel='rbf', max_iter=-1, shrinking=True,\n",
      "                     tol=0.001, verbose=False))],\n",
      "         verbose=False)\n"
     ]
    }
   ],
   "source": [
    "print(\"Best C =\", str(best_C_rbf_svr))\n",
    "print(\"Best Epsilon =\", str(best_epsilon_rbf_svr))\n",
    "print(\"Best Gamma =\", str(best_gamma_rbf_svr))\n",
    "print(\"Best R^2 on train =\", str(best_acc_rbf_svr))\n",
    "print(\"Best model =\", str(best_model_rbf_svr))"
   ]
  },
  {
   "cell_type": "markdown",
   "metadata": {},
   "source": [
    "<font color='brown'>Los mejores hiperparámetros de nuestro modelo son:  \n",
    "- C = 0.1\n",
    "- epsilon = 0.01\n",
    "- gamma = 1.0\n",
    "- degree = 3\n",
    "- max_iter = -1\n",
    "- shrinking = True\n",
    "- tol = 0.001\n",
    "\n",
    "El mejor R^2 en train = 0.568955340506234</font>"
   ]
  },
  {
   "cell_type": "markdown",
   "metadata": {},
   "source": [
    "Non-linearity should not give us a worse model, but does it yield a better one?"
   ]
  },
  {
   "cell_type": "markdown",
   "metadata": {},
   "source": [
    "<table align=\"left\">\n",
    " <tr><td width=\"80\"><img src=\"img/question.png\" style=\"width:auto;height:auto\"></td><td style=\"text-align:left\">\n",
    "Measure scores and create the map with the non-linear SVR predictions. Did things improve?\n",
    " </td></tr>\n",
    "</table>"
   ]
  },
  {
   "cell_type": "code",
   "execution_count": 62,
   "metadata": {
    "ExecuteTime": {
     "end_time": "2018-09-14T12:55:20.661313Z",
     "start_time": "2018-09-14T12:55:12.282677Z"
    },
    "run_control": {
     "marked": true
    }
   },
   "outputs": [],
   "source": [
    "rbf_svr_preds=best_model_rbf_svr.predict(X_test)"
   ]
  },
  {
   "cell_type": "code",
   "execution_count": 63,
   "metadata": {},
   "outputs": [
    {
     "data": {
      "text/plain": [
       "com_aut        prov                    mun                      \n",
       "Andalucía      Cádiz                   Puerto de Santa María, El    0.126324\n",
       "                                       San Roque                    0.120729\n",
       "                                       Rota                         0.119943\n",
       "                                       Arcos de la Frontera         0.119339\n",
       "Canarias       Santa Cruz de Tenerife  Güímar                       0.111859\n",
       "                                                                      ...   \n",
       "Aragón         Zaragoza                Aldehuela de Liestos         0.010156\n",
       "                                       Berdejo                      0.009887\n",
       "                                       Sisamón                      0.009724\n",
       "Castilla León  Soria                   Reznos                       0.009703\n",
       "                                       Carabantes                   0.009334\n",
       "Length: 2434, dtype: float64"
      ]
     },
     "execution_count": 63,
     "metadata": {},
     "output_type": "execute_result"
    }
   ],
   "source": [
    "rbf_svr_preds=pd.Series(data=rbf_svr_preds, index=X_test.index)\n",
    "rbf_svr_preds.sort_values(0,ascending=False)"
   ]
  },
  {
   "cell_type": "code",
   "execution_count": 64,
   "metadata": {},
   "outputs": [
    {
     "name": "stdout",
     "output_type": "stream",
     "text": [
      "Best model score (R^2) = 0.5825184011562825\n"
     ]
    }
   ],
   "source": [
    "best_model_score_rbf_svr=best_model_rbf_svr.score(X_test,Y_test)\n",
    "print(\"Best model score (R^2) =\", str(best_model_score_rbf_svr))"
   ]
  },
  {
   "cell_type": "code",
   "execution_count": 65,
   "metadata": {},
   "outputs": [
    {
     "data": {
      "text/plain": [
       "-2.3283488767266824"
      ]
     },
     "execution_count": 65,
     "metadata": {},
     "output_type": "execute_result"
    }
   ],
   "source": [
    "((best_acc_rbf_svr/best_model_score_rbf_svr)-1)*100"
   ]
  },
  {
   "cell_type": "markdown",
   "metadata": {},
   "source": [
    "<font color='brown'>Observamos que el R^2 en train (0.5690) es menor que el obtenido en test (0.5825), pero en sólo un 2.33%, por lo que **no podemos decir que el modelo esté sobreajustado**. **El R^2 obtenido en este modelo rbf_svr mejora los resultados del modelo linear_svr**, aunque sus predicciones no son muy exactas.  \n",
    "Vamos a comprobar visualmente como predice el modelo rbf_svr calculando el error absoluto entre las Y reales y las Y predichas. También calcularemos el MAE (error absoluto medio) de este modelo:</font>"
   ]
  },
  {
   "cell_type": "code",
   "execution_count": 66,
   "metadata": {},
   "outputs": [
    {
     "data": {
      "image/png": "[encoded data removed]",
      "text/plain": [
       "<matplotlib.figure.Figure at 0x15845548>"
      ]
     },
     "metadata": {
      "needs_background": "light"
     },
     "output_type": "display_data"
    }
   ],
   "source": [
    "error_rbf_svr=abs(Y_test-rbf_svr_preds)\n",
    "plt.scatter(x=Y_test,y=error_rbf_svr);"
   ]
  },
  {
   "cell_type": "code",
   "execution_count": 67,
   "metadata": {},
   "outputs": [
    {
     "name": "stdout",
     "output_type": "stream",
     "text": [
      "El MAE del modelo rbf_svr es: 0.013816646888683668\n"
     ]
    }
   ],
   "source": [
    "MAE_rbf_svr=MAE(y_true=Y_test,y_pred=rbf_svr_preds)\n",
    "print(\"El MAE del modelo rbf_svr es:\",MAE_rbf_svr)"
   ]
  },
  {
   "cell_type": "code",
   "execution_count": 68,
   "metadata": {},
   "outputs": [
    {
     "data": {
      "text/plain": [
       "-22.41660104591784"
      ]
     },
     "execution_count": 68,
     "metadata": {},
     "output_type": "execute_result"
    }
   ],
   "source": [
    "((MAE_rbf_svr/MAE_linear_svr)-1)*100"
   ]
  },
  {
   "cell_type": "markdown",
   "metadata": {},
   "source": [
    "<font color='brown'>En el gráfico podemos ver el error de las predicciones del modelo linear_svr con respecto al valor real (Y_test). El MAE del modelo linear_svr es 0.013816646888683668, un 22.42% menor que el del modelo liner_svr, por lo que **el modelo rbf_svr predice mejor que el linear_svr**.\n",
    "    \n",
    "Vamos a comprobar si existe algún municipio cuyo valor sea la media o un valor cercano:  \n",
    "Vamos a comprobar el nivel de acierto o casi acierto del modelo teniendo en cuenta el mismo margen de error que en los modelos anteriores:</font>"
   ]
  },
  {
   "cell_type": "code",
   "execution_count": 69,
   "metadata": {},
   "outputs": [
    {
     "name": "stdout",
     "output_type": "stream",
     "text": [
      "El modelo rbf_svr ha acertado la tasa de paro en: 0 municipios\n"
     ]
    }
   ],
   "source": [
    "aciertos_rbf_svr=error_rbf_svr==0\n",
    "print(\"El modelo rbf_svr ha acertado la tasa de paro en:\",error_rbf_svr[aciertos_rbf_svr].shape[0],\"municipios\")"
   ]
  },
  {
   "cell_type": "code",
   "execution_count": 70,
   "metadata": {},
   "outputs": [
    {
     "name": "stdout",
     "output_type": "stream",
     "text": [
      "El modelo rbf_svr ha acertado la tasa de paro con un margen de error de 0.001 en: 137 municipios\n"
     ]
    }
   ],
   "source": [
    "casi_aciertos_rbf_svr=error_rbf_svr<0.001\n",
    "print(\"El modelo rbf_svr ha acertado la tasa de paro con un margen de error de 0.001 en:\",\n",
    "      error_rbf_svr[casi_aciertos_rbf_svr].shape[0],\"municipios\")"
   ]
  },
  {
   "cell_type": "markdown",
   "metadata": {},
   "source": [
    "<font color='brown'>Al igual que en los modelos anteriores, no ha acertado ninguna tasa de paro, sin embargo, para el mismo margen de error usado en los anteriores modelos, el modelo rbf_svr ha estado cerca de predecir correctamente la tasa de paro en 137 municipios, frente a los 83 del modelo linear_svr.</font>"
   ]
  },
  {
   "cell_type": "code",
   "execution_count": 71,
   "metadata": {},
   "outputs": [],
   "source": [
    "filename = './rbf_svr_preds.html'\n",
    "_ = utils.generate_map(data=pd.concat([muns_population.loc[rbf_svr_preds.index], rbf_svr_preds], axis=1),\n",
    "                       lat_col=utils.LAT_FIELD, long_col=utils.LON_FIELD,\n",
    "                       unemploy_col=rbf_svr_preds.name if rbf_svr_preds.name is not None else 0,\n",
    "                       cmap=color_range, coms=coms, provs=provs,\n",
    "                       filename=filename)"
   ]
  },
  {
   "cell_type": "code",
   "execution_count": 72,
   "metadata": {},
   "outputs": [
    {
     "data": {
      "text/html": [
       "\n",
       "        <iframe\n",
       "            width=\"100%\"\n",
       "            height=\"550px\"\n",
       "            src=\"./rbf_svr_preds.html\"\n",
       "            frameborder=\"0\"\n",
       "            allowfullscreen\n",
       "        ></iframe>\n",
       "        "
      ],
      "text/plain": [
       "<IPython.lib.display.IFrame at 0x14ffea08>"
      ]
     },
     "execution_count": 72,
     "metadata": {},
     "output_type": "execute_result"
    }
   ],
   "source": [
    "IFrame(filename, width='100%', height='550px')"
   ]
  },
  {
   "cell_type": "markdown",
   "metadata": {},
   "source": [
    "<font color='brown'>Visualmente, vemos que **el modelo mejora con respecto al linear_svr**, se sigue observando una mayor tasa de paro hacía al sur del país y también el aumento de tasa de paro al este y oeste de la meseta, sin embargo, en este caso es menos excesivo, viéndose resultados de paro no tan bajos como anteriormente. Ahora las Islas Canarias, tienen un mayor parecido al valor real.</font>"
   ]
  },
  {
   "cell_type": "markdown",
   "metadata": {
    "ExecuteTime": {
     "end_time": "2018-09-13T13:07:53.801570Z",
     "start_time": "2018-09-13T13:07:53.792843Z"
    }
   },
   "source": [
    "<table align=\"left\">\n",
    " <tr><td width=\"80\"><img src=\"img/pro.png\" style=\"width:auto;height:auto\"></td><td style=\"text-align:left\">\n",
    "Try to explain the behaviour of the non-linear model obtained.\n",
    "</table>"
   ]
  },
  {
   "cell_type": "markdown",
   "metadata": {},
   "source": [
    "<table align=\"left\">\n",
    "<tr><td width=\"80\"><img src=\"img/exclamation.png\" style=\"width:auto;height:auto\"></td><td style=\"text-align:left\">\n",
    "It is much more difficult to interpret a non-linear SVM than a linear one. You can examine the support vectors, available in the attributes <i>support_</i>, <i>support_vectors_</i> and <i>dual_coef_</i>, to see which municipalities are considered as the most and least representative of each class. Another idea is to check and detect trends in municipalities unemployment being underestimated, being overestimated or being accurately predicted.\n",
    "</td></tr>\n",
    "</table>"
   ]
  },
  {
   "cell_type": "markdown",
   "metadata": {},
   "source": [
    "<font color='brown'>NaN</font>"
   ]
  },
  {
   "cell_type": "markdown",
   "metadata": {},
   "source": [
    "### 3.2. Using previous years (2006-2017)\n",
    "\n",
    "So far we have predicted unemployment rates based solely on municipality fixed characteristics (namely coordinates, altitude and population). Fortunately, we also have the unemployment figures for years 2006-2017, so that **we can use unemployment in previous years to try to predict what will happen next**, in a time series fashion:"
   ]
  },
  {
   "cell_type": "code",
   "execution_count": 73,
   "metadata": {
    "ExecuteTime": {
     "end_time": "2018-09-17T10:25:27.391285Z",
     "start_time": "2018-09-17T10:25:27.384726Z"
    }
   },
   "outputs": [
    {
     "data": {
      "text/plain": [
       "[2006, 2007, 2008, 2009, 2010, 2011, 2012, 2013, 2014, 2015, 2016, 2017]"
      ]
     },
     "execution_count": 73,
     "metadata": {},
     "output_type": "execute_result"
    }
   ],
   "source": [
    "prev_years = list(range(2006, 2018))    # does not include 2018\n",
    "prev_years"
   ]
  },
  {
   "cell_type": "markdown",
   "metadata": {},
   "source": [
    "<table align=\"left\">\n",
    " <tr><td width=\"80\"><img src=\"img/question.png\" style=\"width:auto;height:auto\"></td><td style=\"text-align:left\">\n",
    "     Read the unemployment data from the <i>./data</i> folder for years 2006-2017 (both 2006 and 2017 included). You should concatenate the data for all years in a single dataframe called <i>unempl_2006_2017</i>.\n",
    " </td></tr>\n",
    "</table>"
   ]
  },
  {
   "cell_type": "markdown",
   "metadata": {},
   "source": [
    "<table align=\"left\">\n",
    "<tr><td width=\"80\"><img src=\"img/exclamation.png\" style=\"width:auto;height:auto\"></td><td style=\"text-align:left\">\n",
    "    The function <i>read_unemployment</i> from the <i>utils</i> module will help you to load the unemployment figures for a single year, as was done above for year 2018. Each year has a separate CSV file, so you should call <i>read_unemployment</i> once for each file. Then use pandas <a href=\"http://pandas.pydata.org/pandas-docs/stable/generated/pandas.concat.html\">concat</a> method to store everything in a single dataframe.\n",
    "</td></tr>\n",
    "</table>"
   ]
  },
  {
   "cell_type": "code",
   "execution_count": 74,
   "metadata": {
    "ExecuteTime": {
     "end_time": "2018-09-17T10:27:04.390337Z",
     "start_time": "2018-09-17T10:26:19.408844Z"
    }
   },
   "outputs": [
    {
     "data": {
      "text/plain": [
       "['./data\\\\Paro_por_municipios_2006.csv',\n",
       " './data\\\\Paro_por_municipios_2007.csv',\n",
       " './data\\\\Paro_por_municipios_2008.csv',\n",
       " './data\\\\Paro_por_municipios_2009.csv',\n",
       " './data\\\\Paro_por_municipios_2010.csv',\n",
       " './data\\\\Paro_por_municipios_2011.csv',\n",
       " './data\\\\Paro_por_municipios_2012.csv',\n",
       " './data\\\\Paro_por_municipios_2013.csv',\n",
       " './data\\\\Paro_por_municipios_2014.csv',\n",
       " './data\\\\Paro_por_municipios_2015.csv',\n",
       " './data\\\\Paro_por_municipios_2016.csv',\n",
       " './data\\\\Paro_por_municipios_2017.csv']"
      ]
     },
     "execution_count": 74,
     "metadata": {},
     "output_type": "execute_result"
    }
   ],
   "source": [
    "csv_files = glob.glob('./data/Paro_por_municipios_*.csv')\n",
    "csv_files.pop()\n",
    "csv_files"
   ]
  },
  {
   "cell_type": "code",
   "execution_count": 75,
   "metadata": {},
   "outputs": [
    {
     "name": "stdout",
     "output_type": "stream",
     "text": [
      "unempl_2006 = 97404 unemployment data from 8117 municipalities\n",
      "unempl_2007 = 97404 unemployment data from 8117 municipalities\n",
      "unempl_2008 = 97404 unemployment data from 8117 municipalities\n",
      "unempl_2009 = 97404 unemployment data from 8117 municipalities\n",
      "unempl_2010 = 97404 unemployment data from 8117 municipalities\n",
      "unempl_2011 = 97404 unemployment data from 8117 municipalities\n",
      "unempl_2012 = 97404 unemployment data from 8117 municipalities\n",
      "unempl_2013 = 97404 unemployment data from 8117 municipalities\n",
      "unempl_2014 = 97404 unemployment data from 8117 municipalities\n",
      "unempl_2015 = 97404 unemployment data from 8117 municipalities\n",
      "unempl_2016 = 97512 unemployment data from 8126 municipalities\n",
      "unempl_2017 = 97512 unemployment data from 8126 municipalities\n"
     ]
    }
   ],
   "source": [
    "unempl_2006 = utils.read_unemployment('./data/Paro_por_municipios_2006.csv')\n",
    "num_muns = len(unempl_2006.index.unique())\n",
    "print(f'unempl_2006 = {len(unempl_2006)} unemployment data from {num_muns} municipalities')\n",
    "\n",
    "unempl_2007 = utils.read_unemployment('./data/Paro_por_municipios_2007.csv')\n",
    "num_muns = len(unempl_2007.index.unique())\n",
    "print(f'unempl_2007 = {len(unempl_2007)} unemployment data from {num_muns} municipalities')\n",
    "\n",
    "unempl_2008 = utils.read_unemployment('./data/Paro_por_municipios_2008.csv')\n",
    "num_muns = len(unempl_2008.index.unique())\n",
    "print(f'unempl_2008 = {len(unempl_2008)} unemployment data from {num_muns} municipalities')\n",
    "\n",
    "unempl_2009 = utils.read_unemployment('./data/Paro_por_municipios_2009.csv')\n",
    "num_muns = len(unempl_2009.index.unique())\n",
    "print(f'unempl_2009 = {len(unempl_2009)} unemployment data from {num_muns} municipalities')\n",
    "\n",
    "unempl_2010 = utils.read_unemployment('./data/Paro_por_municipios_2010.csv')\n",
    "num_muns = len(unempl_2010.index.unique())\n",
    "print(f'unempl_2010 = {len(unempl_2010)} unemployment data from {num_muns} municipalities')\n",
    "\n",
    "unempl_2011 = utils.read_unemployment('./data/Paro_por_municipios_2011.csv')\n",
    "num_muns = len(unempl_2011.index.unique())\n",
    "print(f'unempl_2011 = {len(unempl_2011)} unemployment data from {num_muns} municipalities')\n",
    "\n",
    "unempl_2012 = utils.read_unemployment('./data/Paro_por_municipios_2012.csv')\n",
    "num_muns = len(unempl_2012.index.unique())\n",
    "print(f'unempl_2012 = {len(unempl_2012)} unemployment data from {num_muns} municipalities')\n",
    "\n",
    "unempl_2013 = utils.read_unemployment('./data/Paro_por_municipios_2013.csv')\n",
    "num_muns = len(unempl_2013.index.unique())\n",
    "print(f'unempl_2013 = {len(unempl_2013)} unemployment data from {num_muns} municipalities')\n",
    "\n",
    "unempl_2014 = utils.read_unemployment('./data/Paro_por_municipios_2014.csv')\n",
    "num_muns = len(unempl_2014.index.unique())\n",
    "print(f'unempl_2014 = {len(unempl_2014)} unemployment data from {num_muns} municipalities')\n",
    "\n",
    "unempl_2015 = utils.read_unemployment('./data/Paro_por_municipios_2015.csv')\n",
    "num_muns = len(unempl_2015.index.unique())\n",
    "print(f'unempl_2015 = {len(unempl_2015)} unemployment data from {num_muns} municipalities')\n",
    "\n",
    "unempl_2016 = utils.read_unemployment('./data/Paro_por_municipios_2016.csv')\n",
    "num_muns = len(unempl_2016.index.unique())\n",
    "print(f'unempl_2016 = {len(unempl_2016)} unemployment data from {num_muns} municipalities')\n",
    "\n",
    "unempl_2017 = utils.read_unemployment('./data/Paro_por_municipios_2017.csv')\n",
    "num_muns = len(unempl_2017.index.unique())\n",
    "print(f'unempl_2017 = {len(unempl_2017)} unemployment data from {num_muns} municipalities')"
   ]
  },
  {
   "cell_type": "code",
   "execution_count": 76,
   "metadata": {},
   "outputs": [
    {
     "name": "stdout",
     "output_type": "stream",
     "text": [
      "unempl_2017 = 97512 unemployment data from 8126 municipalities\n"
     ]
    }
   ],
   "source": [
    "for i in csv_files:\n",
    "    utils.read_unemployment('./data/Paro_por_municipios_2017.csv')\n",
    "num_muns = len(unempl_2017.index.unique())\n",
    "print(f'unempl_2017 = {len(unempl_2017)} unemployment data from {num_muns} municipalities')\n",
    "    "
   ]
  },
  {
   "cell_type": "code",
   "execution_count": 77,
   "metadata": {},
   "outputs": [
    {
     "data": {
      "text/html": [
       "<div>\n",
       "<style scoped>\n",
       "    .dataframe tbody tr th:only-of-type {\n",
       "        vertical-align: middle;\n",
       "    }\n",
       "\n",
       "    .dataframe tbody tr th {\n",
       "        vertical-align: top;\n",
       "    }\n",
       "\n",
       "    .dataframe thead th {\n",
       "        text-align: right;\n",
       "    }\n",
       "</style>\n",
       "<table border=\"1\" class=\"dataframe\">\n",
       "  <thead>\n",
       "    <tr style=\"text-align: right;\">\n",
       "      <th></th>\n",
       "      <th></th>\n",
       "      <th></th>\n",
       "      <th>año</th>\n",
       "      <th>mes</th>\n",
       "      <th>parados</th>\n",
       "    </tr>\n",
       "    <tr>\n",
       "      <th>com_aut</th>\n",
       "      <th>prov</th>\n",
       "      <th>mun</th>\n",
       "      <th></th>\n",
       "      <th></th>\n",
       "      <th></th>\n",
       "    </tr>\n",
       "  </thead>\n",
       "  <tbody>\n",
       "    <tr>\n",
       "      <th rowspan=\"5\" valign=\"top\">Andalucía</th>\n",
       "      <th rowspan=\"5\" valign=\"top\">Almería</th>\n",
       "      <th>Abla</th>\n",
       "      <td>2006</td>\n",
       "      <td>1</td>\n",
       "      <td>56</td>\n",
       "    </tr>\n",
       "    <tr>\n",
       "      <th>Abrucena</th>\n",
       "      <td>2006</td>\n",
       "      <td>1</td>\n",
       "      <td>50</td>\n",
       "    </tr>\n",
       "    <tr>\n",
       "      <th>Adra</th>\n",
       "      <td>2006</td>\n",
       "      <td>1</td>\n",
       "      <td>775</td>\n",
       "    </tr>\n",
       "    <tr>\n",
       "      <th>Albánchez</th>\n",
       "      <td>2006</td>\n",
       "      <td>1</td>\n",
       "      <td>14</td>\n",
       "    </tr>\n",
       "    <tr>\n",
       "      <th>Alboloduy</th>\n",
       "      <td>2006</td>\n",
       "      <td>1</td>\n",
       "      <td>24</td>\n",
       "    </tr>\n",
       "    <tr>\n",
       "      <th>...</th>\n",
       "      <th>...</th>\n",
       "      <th>...</th>\n",
       "      <td>...</td>\n",
       "      <td>...</td>\n",
       "      <td>...</td>\n",
       "    </tr>\n",
       "    <tr>\n",
       "      <th rowspan=\"3\" valign=\"top\">La Rioja</th>\n",
       "      <th rowspan=\"3\" valign=\"top\">La Rioja</th>\n",
       "      <th>Zarratón</th>\n",
       "      <td>2017</td>\n",
       "      <td>12</td>\n",
       "      <td>10</td>\n",
       "    </tr>\n",
       "    <tr>\n",
       "      <th>Zarzosa</th>\n",
       "      <td>2017</td>\n",
       "      <td>12</td>\n",
       "      <td>0</td>\n",
       "    </tr>\n",
       "    <tr>\n",
       "      <th>Zorraquín</th>\n",
       "      <td>2017</td>\n",
       "      <td>12</td>\n",
       "      <td>2</td>\n",
       "    </tr>\n",
       "    <tr>\n",
       "      <th>Ceuta</th>\n",
       "      <th>Ceuta</th>\n",
       "      <th>Ceuta</th>\n",
       "      <td>2017</td>\n",
       "      <td>12</td>\n",
       "      <td>11843</td>\n",
       "    </tr>\n",
       "    <tr>\n",
       "      <th>Melilla</th>\n",
       "      <th>Melilla</th>\n",
       "      <th>Melilla</th>\n",
       "      <td>2017</td>\n",
       "      <td>12</td>\n",
       "      <td>9397</td>\n",
       "    </tr>\n",
       "  </tbody>\n",
       "</table>\n",
       "<p>1169064 rows × 3 columns</p>\n",
       "</div>"
      ],
      "text/plain": [
       "                               año  mes  parados\n",
       "com_aut   prov     mun                          \n",
       "Andalucía Almería  Abla       2006    1       56\n",
       "                   Abrucena   2006    1       50\n",
       "                   Adra       2006    1      775\n",
       "                   Albánchez  2006    1       14\n",
       "                   Alboloduy  2006    1       24\n",
       "...                            ...  ...      ...\n",
       "La Rioja  La Rioja Zarratón   2017   12       10\n",
       "                   Zarzosa    2017   12        0\n",
       "                   Zorraquín  2017   12        2\n",
       "Ceuta     Ceuta    Ceuta      2017   12    11843\n",
       "Melilla   Melilla  Melilla    2017   12     9397\n",
       "\n",
       "[1169064 rows x 3 columns]"
      ]
     },
     "execution_count": 77,
     "metadata": {},
     "output_type": "execute_result"
    }
   ],
   "source": [
    "unempl_2006_2017=pd.concat([unempl_2006,unempl_2007,unempl_2008,unempl_2009,unempl_2010,unempl_2011,\n",
    "           unempl_2012,unempl_2013,unempl_2014,unempl_2015,unempl_2016,unempl_2017])\n",
    "\n",
    "unempl_2006_2017"
   ]
  },
  {
   "cell_type": "markdown",
   "metadata": {},
   "source": [
    "**For each municipality, we expect to have 144 observations** (12 years, 12 months each). For example, again taking Abla in Almería the last 15 are:"
   ]
  },
  {
   "cell_type": "code",
   "execution_count": 78,
   "metadata": {
    "ExecuteTime": {
     "end_time": "2018-09-17T11:16:52.299666Z",
     "start_time": "2018-09-17T11:16:52.261507Z"
    }
   },
   "outputs": [
    {
     "name": "stdout",
     "output_type": "stream",
     "text": [
      "144\n"
     ]
    },
    {
     "data": {
      "text/html": [
       "<div>\n",
       "<style scoped>\n",
       "    .dataframe tbody tr th:only-of-type {\n",
       "        vertical-align: middle;\n",
       "    }\n",
       "\n",
       "    .dataframe tbody tr th {\n",
       "        vertical-align: top;\n",
       "    }\n",
       "\n",
       "    .dataframe thead th {\n",
       "        text-align: right;\n",
       "    }\n",
       "</style>\n",
       "<table border=\"1\" class=\"dataframe\">\n",
       "  <thead>\n",
       "    <tr style=\"text-align: right;\">\n",
       "      <th></th>\n",
       "      <th></th>\n",
       "      <th></th>\n",
       "      <th>año</th>\n",
       "      <th>mes</th>\n",
       "      <th>parados</th>\n",
       "    </tr>\n",
       "    <tr>\n",
       "      <th>com_aut</th>\n",
       "      <th>prov</th>\n",
       "      <th>mun</th>\n",
       "      <th></th>\n",
       "      <th></th>\n",
       "      <th></th>\n",
       "    </tr>\n",
       "  </thead>\n",
       "  <tbody>\n",
       "    <tr>\n",
       "      <th rowspan=\"15\" valign=\"top\">Andalucía</th>\n",
       "      <th rowspan=\"15\" valign=\"top\">Almería</th>\n",
       "      <th>Abla</th>\n",
       "      <td>2016</td>\n",
       "      <td>10</td>\n",
       "      <td>95</td>\n",
       "    </tr>\n",
       "    <tr>\n",
       "      <th>Abla</th>\n",
       "      <td>2016</td>\n",
       "      <td>11</td>\n",
       "      <td>102</td>\n",
       "    </tr>\n",
       "    <tr>\n",
       "      <th>Abla</th>\n",
       "      <td>2016</td>\n",
       "      <td>12</td>\n",
       "      <td>83</td>\n",
       "    </tr>\n",
       "    <tr>\n",
       "      <th>Abla</th>\n",
       "      <td>2017</td>\n",
       "      <td>1</td>\n",
       "      <td>77</td>\n",
       "    </tr>\n",
       "    <tr>\n",
       "      <th>Abla</th>\n",
       "      <td>2017</td>\n",
       "      <td>2</td>\n",
       "      <td>79</td>\n",
       "    </tr>\n",
       "    <tr>\n",
       "      <th>Abla</th>\n",
       "      <td>2017</td>\n",
       "      <td>3</td>\n",
       "      <td>87</td>\n",
       "    </tr>\n",
       "    <tr>\n",
       "      <th>Abla</th>\n",
       "      <td>2017</td>\n",
       "      <td>4</td>\n",
       "      <td>90</td>\n",
       "    </tr>\n",
       "    <tr>\n",
       "      <th>Abla</th>\n",
       "      <td>2017</td>\n",
       "      <td>5</td>\n",
       "      <td>85</td>\n",
       "    </tr>\n",
       "    <tr>\n",
       "      <th>Abla</th>\n",
       "      <td>2017</td>\n",
       "      <td>6</td>\n",
       "      <td>83</td>\n",
       "    </tr>\n",
       "    <tr>\n",
       "      <th>Abla</th>\n",
       "      <td>2017</td>\n",
       "      <td>7</td>\n",
       "      <td>81</td>\n",
       "    </tr>\n",
       "    <tr>\n",
       "      <th>Abla</th>\n",
       "      <td>2017</td>\n",
       "      <td>8</td>\n",
       "      <td>88</td>\n",
       "    </tr>\n",
       "    <tr>\n",
       "      <th>Abla</th>\n",
       "      <td>2017</td>\n",
       "      <td>9</td>\n",
       "      <td>82</td>\n",
       "    </tr>\n",
       "    <tr>\n",
       "      <th>Abla</th>\n",
       "      <td>2017</td>\n",
       "      <td>10</td>\n",
       "      <td>88</td>\n",
       "    </tr>\n",
       "    <tr>\n",
       "      <th>Abla</th>\n",
       "      <td>2017</td>\n",
       "      <td>11</td>\n",
       "      <td>81</td>\n",
       "    </tr>\n",
       "    <tr>\n",
       "      <th>Abla</th>\n",
       "      <td>2017</td>\n",
       "      <td>12</td>\n",
       "      <td>83</td>\n",
       "    </tr>\n",
       "  </tbody>\n",
       "</table>\n",
       "</div>"
      ],
      "text/plain": [
       "                         año  mes  parados\n",
       "com_aut   prov    mun                     \n",
       "Andalucía Almería Abla  2016   10       95\n",
       "                  Abla  2016   11      102\n",
       "                  Abla  2016   12       83\n",
       "                  Abla  2017    1       77\n",
       "                  Abla  2017    2       79\n",
       "                  Abla  2017    3       87\n",
       "                  Abla  2017    4       90\n",
       "                  Abla  2017    5       85\n",
       "                  Abla  2017    6       83\n",
       "                  Abla  2017    7       81\n",
       "                  Abla  2017    8       88\n",
       "                  Abla  2017    9       82\n",
       "                  Abla  2017   10       88\n",
       "                  Abla  2017   11       81\n",
       "                  Abla  2017   12       83"
      ]
     },
     "execution_count": 78,
     "metadata": {},
     "output_type": "execute_result"
    }
   ],
   "source": [
    "sub = unempl_2006_2017.xs(key='Abla', level=utils.MUN_FIELD, drop_level=False)\n",
    "print(len(sub))\n",
    "sub.tail(15)      # all records whose mun is Abla, keeping index intact"
   ]
  },
  {
   "cell_type": "markdown",
   "metadata": {},
   "source": [
    "**Again we can take yearly means** for each year:"
   ]
  },
  {
   "cell_type": "markdown",
   "metadata": {},
   "source": [
    "<table align=\"left\">\n",
    " <tr><td width=\"80\"><img src=\"img/question.png\" style=\"width:auto;height:auto\"></td><td style=\"text-align:left\">\n",
    "Calculate unemployment yearly means for each year 2006-2017 and each municipality, in a similar way that was done previously for year 2018.\n",
    " </td></tr>\n",
    "</table>"
   ]
  },
  {
   "cell_type": "markdown",
   "metadata": {},
   "source": [
    "<table align=\"left\">\n",
    " <tr><td width=\"80\"><img src=\"img/exclamation.png\" style=\"width:auto;height:auto\"></td><td style=\"text-align:left\">\n",
    "Since there are several years now, you should also group by year besides grouping by community, province and municipality.\n",
    " </td></tr>\n",
    "</table>"
   ]
  },
  {
   "cell_type": "code",
   "execution_count": 79,
   "metadata": {
    "ExecuteTime": {
     "end_time": "2018-09-17T10:30:33.228825Z",
     "start_time": "2018-09-17T10:30:32.314209Z"
    }
   },
   "outputs": [
    {
     "data": {
      "text/html": [
       "<div>\n",
       "<style scoped>\n",
       "    .dataframe tbody tr th:only-of-type {\n",
       "        vertical-align: middle;\n",
       "    }\n",
       "\n",
       "    .dataframe tbody tr th {\n",
       "        vertical-align: top;\n",
       "    }\n",
       "\n",
       "    .dataframe thead th {\n",
       "        text-align: right;\n",
       "    }\n",
       "</style>\n",
       "<table border=\"1\" class=\"dataframe\">\n",
       "  <thead>\n",
       "    <tr style=\"text-align: right;\">\n",
       "      <th></th>\n",
       "      <th></th>\n",
       "      <th>año</th>\n",
       "      <th>2006</th>\n",
       "      <th>2007</th>\n",
       "      <th>2008</th>\n",
       "      <th>2009</th>\n",
       "      <th>2010</th>\n",
       "      <th>2011</th>\n",
       "      <th>2012</th>\n",
       "      <th>2013</th>\n",
       "      <th>2014</th>\n",
       "      <th>2015</th>\n",
       "      <th>2016</th>\n",
       "      <th>2017</th>\n",
       "    </tr>\n",
       "    <tr>\n",
       "      <th>com_aut</th>\n",
       "      <th>prov</th>\n",
       "      <th>mun</th>\n",
       "      <th></th>\n",
       "      <th></th>\n",
       "      <th></th>\n",
       "      <th></th>\n",
       "      <th></th>\n",
       "      <th></th>\n",
       "      <th></th>\n",
       "      <th></th>\n",
       "      <th></th>\n",
       "      <th></th>\n",
       "      <th></th>\n",
       "      <th></th>\n",
       "    </tr>\n",
       "  </thead>\n",
       "  <tbody>\n",
       "    <tr>\n",
       "      <th rowspan=\"5\" valign=\"top\">Andalucía</th>\n",
       "      <th rowspan=\"5\" valign=\"top\">Almería</th>\n",
       "      <th>Abla</th>\n",
       "      <td>63.166667</td>\n",
       "      <td>48.583333</td>\n",
       "      <td>64.416667</td>\n",
       "      <td>73.000000</td>\n",
       "      <td>94.250000</td>\n",
       "      <td>99.666667</td>\n",
       "      <td>113.583333</td>\n",
       "      <td>125.083333</td>\n",
       "      <td>126.583333</td>\n",
       "      <td>106.333333</td>\n",
       "      <td>95.416667</td>\n",
       "      <td>83.666667</td>\n",
       "    </tr>\n",
       "    <tr>\n",
       "      <th>Abrucena</th>\n",
       "      <td>44.833333</td>\n",
       "      <td>38.500000</td>\n",
       "      <td>52.833333</td>\n",
       "      <td>56.583333</td>\n",
       "      <td>77.916667</td>\n",
       "      <td>73.166667</td>\n",
       "      <td>84.833333</td>\n",
       "      <td>72.916667</td>\n",
       "      <td>77.333333</td>\n",
       "      <td>81.500000</td>\n",
       "      <td>79.500000</td>\n",
       "      <td>74.666667</td>\n",
       "    </tr>\n",
       "    <tr>\n",
       "      <th>Adra</th>\n",
       "      <td>1085.083333</td>\n",
       "      <td>1158.500000</td>\n",
       "      <td>1708.583333</td>\n",
       "      <td>2476.083333</td>\n",
       "      <td>2951.333333</td>\n",
       "      <td>3036.583333</td>\n",
       "      <td>3132.333333</td>\n",
       "      <td>2993.833333</td>\n",
       "      <td>3033.916667</td>\n",
       "      <td>3065.916667</td>\n",
       "      <td>2703.000000</td>\n",
       "      <td>2433.750000</td>\n",
       "    </tr>\n",
       "    <tr>\n",
       "      <th>Alboloduy</th>\n",
       "      <td>23.833333</td>\n",
       "      <td>25.666667</td>\n",
       "      <td>25.666667</td>\n",
       "      <td>31.166667</td>\n",
       "      <td>36.833333</td>\n",
       "      <td>40.833333</td>\n",
       "      <td>53.666667</td>\n",
       "      <td>53.250000</td>\n",
       "      <td>55.416667</td>\n",
       "      <td>47.333333</td>\n",
       "      <td>46.166667</td>\n",
       "      <td>35.416667</td>\n",
       "    </tr>\n",
       "    <tr>\n",
       "      <th>Albox</th>\n",
       "      <td>340.000000</td>\n",
       "      <td>360.500000</td>\n",
       "      <td>499.916667</td>\n",
       "      <td>767.416667</td>\n",
       "      <td>900.333333</td>\n",
       "      <td>938.000000</td>\n",
       "      <td>1002.500000</td>\n",
       "      <td>1055.416667</td>\n",
       "      <td>1022.416667</td>\n",
       "      <td>1013.833333</td>\n",
       "      <td>902.250000</td>\n",
       "      <td>808.916667</td>\n",
       "    </tr>\n",
       "    <tr>\n",
       "      <th>...</th>\n",
       "      <th>...</th>\n",
       "      <th>...</th>\n",
       "      <td>...</td>\n",
       "      <td>...</td>\n",
       "      <td>...</td>\n",
       "      <td>...</td>\n",
       "      <td>...</td>\n",
       "      <td>...</td>\n",
       "      <td>...</td>\n",
       "      <td>...</td>\n",
       "      <td>...</td>\n",
       "      <td>...</td>\n",
       "      <td>...</td>\n",
       "      <td>...</td>\n",
       "    </tr>\n",
       "    <tr>\n",
       "      <th rowspan=\"5\" valign=\"top\">Valencia</th>\n",
       "      <th rowspan=\"5\" valign=\"top\">Valencia/València</th>\n",
       "      <th>Xàtiva</th>\n",
       "      <td>1339.333333</td>\n",
       "      <td>1265.666667</td>\n",
       "      <td>1675.500000</td>\n",
       "      <td>2575.916667</td>\n",
       "      <td>2943.333333</td>\n",
       "      <td>3150.416667</td>\n",
       "      <td>3489.666667</td>\n",
       "      <td>3611.916667</td>\n",
       "      <td>3449.000000</td>\n",
       "      <td>3164.833333</td>\n",
       "      <td>2903.166667</td>\n",
       "      <td>2652.250000</td>\n",
       "    </tr>\n",
       "    <tr>\n",
       "      <th>Yesa, La</th>\n",
       "      <td>5.583333</td>\n",
       "      <td>3.916667</td>\n",
       "      <td>3.916667</td>\n",
       "      <td>7.583333</td>\n",
       "      <td>15.666667</td>\n",
       "      <td>9.416667</td>\n",
       "      <td>17.666667</td>\n",
       "      <td>13.916667</td>\n",
       "      <td>13.750000</td>\n",
       "      <td>13.666667</td>\n",
       "      <td>10.916667</td>\n",
       "      <td>12.083333</td>\n",
       "    </tr>\n",
       "    <tr>\n",
       "      <th>Yátova</th>\n",
       "      <td>58.166667</td>\n",
       "      <td>59.500000</td>\n",
       "      <td>81.500000</td>\n",
       "      <td>161.250000</td>\n",
       "      <td>187.166667</td>\n",
       "      <td>188.166667</td>\n",
       "      <td>213.250000</td>\n",
       "      <td>228.833333</td>\n",
       "      <td>217.250000</td>\n",
       "      <td>202.166667</td>\n",
       "      <td>173.250000</td>\n",
       "      <td>145.916667</td>\n",
       "    </tr>\n",
       "    <tr>\n",
       "      <th>Zarra</th>\n",
       "      <td>13.500000</td>\n",
       "      <td>12.916667</td>\n",
       "      <td>16.833333</td>\n",
       "      <td>20.416667</td>\n",
       "      <td>20.500000</td>\n",
       "      <td>26.500000</td>\n",
       "      <td>28.333333</td>\n",
       "      <td>30.916667</td>\n",
       "      <td>25.083333</td>\n",
       "      <td>20.750000</td>\n",
       "      <td>21.333333</td>\n",
       "      <td>22.750000</td>\n",
       "    </tr>\n",
       "    <tr>\n",
       "      <th>Ènova, l'</th>\n",
       "      <td>41.583333</td>\n",
       "      <td>34.416667</td>\n",
       "      <td>48.583333</td>\n",
       "      <td>78.250000</td>\n",
       "      <td>89.500000</td>\n",
       "      <td>83.583333</td>\n",
       "      <td>92.833333</td>\n",
       "      <td>93.916667</td>\n",
       "      <td>90.583333</td>\n",
       "      <td>86.666667</td>\n",
       "      <td>66.416667</td>\n",
       "      <td>57.083333</td>\n",
       "    </tr>\n",
       "  </tbody>\n",
       "</table>\n",
       "<p>8126 rows × 12 columns</p>\n",
       "</div>"
      ],
      "text/plain": [
       "año                                           2006         2007         2008  \\\n",
       "com_aut   prov              mun                                                \n",
       "Andalucía Almería           Abla         63.166667    48.583333    64.416667   \n",
       "                            Abrucena     44.833333    38.500000    52.833333   \n",
       "                            Adra       1085.083333  1158.500000  1708.583333   \n",
       "                            Alboloduy    23.833333    25.666667    25.666667   \n",
       "                            Albox       340.000000   360.500000   499.916667   \n",
       "...                                            ...          ...          ...   \n",
       "Valencia  Valencia/València Xàtiva     1339.333333  1265.666667  1675.500000   \n",
       "                            Yesa, La      5.583333     3.916667     3.916667   \n",
       "                            Yátova       58.166667    59.500000    81.500000   \n",
       "                            Zarra        13.500000    12.916667    16.833333   \n",
       "                            Ènova, l'    41.583333    34.416667    48.583333   \n",
       "\n",
       "año                                           2009         2010         2011  \\\n",
       "com_aut   prov              mun                                                \n",
       "Andalucía Almería           Abla         73.000000    94.250000    99.666667   \n",
       "                            Abrucena     56.583333    77.916667    73.166667   \n",
       "                            Adra       2476.083333  2951.333333  3036.583333   \n",
       "                            Alboloduy    31.166667    36.833333    40.833333   \n",
       "                            Albox       767.416667   900.333333   938.000000   \n",
       "...                                            ...          ...          ...   \n",
       "Valencia  Valencia/València Xàtiva     2575.916667  2943.333333  3150.416667   \n",
       "                            Yesa, La      7.583333    15.666667     9.416667   \n",
       "                            Yátova      161.250000   187.166667   188.166667   \n",
       "                            Zarra        20.416667    20.500000    26.500000   \n",
       "                            Ènova, l'    78.250000    89.500000    83.583333   \n",
       "\n",
       "año                                           2012         2013         2014  \\\n",
       "com_aut   prov              mun                                                \n",
       "Andalucía Almería           Abla        113.583333   125.083333   126.583333   \n",
       "                            Abrucena     84.833333    72.916667    77.333333   \n",
       "                            Adra       3132.333333  2993.833333  3033.916667   \n",
       "                            Alboloduy    53.666667    53.250000    55.416667   \n",
       "                            Albox      1002.500000  1055.416667  1022.416667   \n",
       "...                                            ...          ...          ...   \n",
       "Valencia  Valencia/València Xàtiva     3489.666667  3611.916667  3449.000000   \n",
       "                            Yesa, La     17.666667    13.916667    13.750000   \n",
       "                            Yátova      213.250000   228.833333   217.250000   \n",
       "                            Zarra        28.333333    30.916667    25.083333   \n",
       "                            Ènova, l'    92.833333    93.916667    90.583333   \n",
       "\n",
       "año                                           2015         2016         2017  \n",
       "com_aut   prov              mun                                               \n",
       "Andalucía Almería           Abla        106.333333    95.416667    83.666667  \n",
       "                            Abrucena     81.500000    79.500000    74.666667  \n",
       "                            Adra       3065.916667  2703.000000  2433.750000  \n",
       "                            Alboloduy    47.333333    46.166667    35.416667  \n",
       "                            Albox      1013.833333   902.250000   808.916667  \n",
       "...                                            ...          ...          ...  \n",
       "Valencia  Valencia/València Xàtiva     3164.833333  2903.166667  2652.250000  \n",
       "                            Yesa, La     13.666667    10.916667    12.083333  \n",
       "                            Yátova      202.166667   173.250000   145.916667  \n",
       "                            Zarra        20.750000    21.333333    22.750000  \n",
       "                            Ènova, l'    86.666667    66.416667    57.083333  \n",
       "\n",
       "[8126 rows x 12 columns]"
      ]
     },
     "execution_count": 79,
     "metadata": {},
     "output_type": "execute_result"
    }
   ],
   "source": [
    "unempl_2006_2017_means=unempl_2006_2017.pivot_table(values=\"parados\",\n",
    "                                                    index=unempl_2006_2017.index.names,\n",
    "                                                    columns=\"año\", aggfunc=\"mean\")\n",
    "\n",
    "unempl_2006_2017_means"
   ]
  },
  {
   "cell_type": "markdown",
   "metadata": {},
   "source": [
    "And **transform these raw means to rates**:"
   ]
  },
  {
   "cell_type": "markdown",
   "metadata": {},
   "source": [
    "<table align=\"left\">\n",
    " <tr><td width=\"80\"><img src=\"img/question.png\" style=\"width:auto;height:auto\"></td><td style=\"text-align:left\">\n",
    "     Create an <i>X2</i> matrix with the mean unemployment rates for the different years. This matrix should have one row for each municipality and one column for each year.\n",
    " </td></tr>\n",
    "</table>"
   ]
  },
  {
   "cell_type": "markdown",
   "metadata": {},
   "source": [
    "<table align=\"left\">\n",
    "<tr><td width=\"80\"><img src=\"img/exclamation.png\" style=\"width:auto;height:auto\"></td><td style=\"text-align:left\">\n",
    "You have to do two things: \n",
    "<ol>\n",
    "<li> Join with populations and divide.\n",
    "<li> Transpose from column to row format. \n",
    "</ol> \n",
    "1) is basically done as for 2018 (joining on just the first 3 levels, omitting the year), while 2) is easily tackled with the <a href=\"http://pandas.pydata.org/pandas-docs/stable/generated/pandas.DataFrame.pivot.html\">pivot</a> method.\n",
    "</td></tr>\n",
    "</table>"
   ]
  },
  {
   "cell_type": "code",
   "execution_count": 80,
   "metadata": {
    "ExecuteTime": {
     "end_time": "2018-09-17T10:31:09.758573Z",
     "start_time": "2018-09-17T10:31:06.826899Z"
    }
   },
   "outputs": [
    {
     "data": {
      "text/html": [
       "<div>\n",
       "<style scoped>\n",
       "    .dataframe tbody tr th:only-of-type {\n",
       "        vertical-align: middle;\n",
       "    }\n",
       "\n",
       "    .dataframe tbody tr th {\n",
       "        vertical-align: top;\n",
       "    }\n",
       "\n",
       "    .dataframe thead th {\n",
       "        text-align: right;\n",
       "    }\n",
       "</style>\n",
       "<table border=\"1\" class=\"dataframe\">\n",
       "  <thead>\n",
       "    <tr style=\"text-align: right;\">\n",
       "      <th></th>\n",
       "      <th></th>\n",
       "      <th></th>\n",
       "      <th>2006</th>\n",
       "      <th>2007</th>\n",
       "      <th>2008</th>\n",
       "      <th>2009</th>\n",
       "      <th>2010</th>\n",
       "      <th>2011</th>\n",
       "      <th>2012</th>\n",
       "      <th>2013</th>\n",
       "      <th>2014</th>\n",
       "      <th>2015</th>\n",
       "      <th>2016</th>\n",
       "      <th>2017</th>\n",
       "      <th>lat</th>\n",
       "      <th>lon</th>\n",
       "      <th>alt</th>\n",
       "      <th>habitantes</th>\n",
       "    </tr>\n",
       "    <tr>\n",
       "      <th>com_aut</th>\n",
       "      <th>prov</th>\n",
       "      <th>mun</th>\n",
       "      <th></th>\n",
       "      <th></th>\n",
       "      <th></th>\n",
       "      <th></th>\n",
       "      <th></th>\n",
       "      <th></th>\n",
       "      <th></th>\n",
       "      <th></th>\n",
       "      <th></th>\n",
       "      <th></th>\n",
       "      <th></th>\n",
       "      <th></th>\n",
       "      <th></th>\n",
       "      <th></th>\n",
       "      <th></th>\n",
       "      <th></th>\n",
       "    </tr>\n",
       "  </thead>\n",
       "  <tbody>\n",
       "    <tr>\n",
       "      <th rowspan=\"5\" valign=\"top\">Andalucía</th>\n",
       "      <th rowspan=\"5\" valign=\"top\">Almería</th>\n",
       "      <th>Abla</th>\n",
       "      <td>63.166667</td>\n",
       "      <td>48.583333</td>\n",
       "      <td>64.416667</td>\n",
       "      <td>73.000000</td>\n",
       "      <td>94.250000</td>\n",
       "      <td>99.666667</td>\n",
       "      <td>113.583333</td>\n",
       "      <td>125.083333</td>\n",
       "      <td>126.583333</td>\n",
       "      <td>106.333333</td>\n",
       "      <td>95.416667</td>\n",
       "      <td>83.666667</td>\n",
       "      <td>37.14114</td>\n",
       "      <td>-2.780104</td>\n",
       "      <td>871.16840</td>\n",
       "      <td>1504</td>\n",
       "    </tr>\n",
       "    <tr>\n",
       "      <th>Abrucena</th>\n",
       "      <td>44.833333</td>\n",
       "      <td>38.500000</td>\n",
       "      <td>52.833333</td>\n",
       "      <td>56.583333</td>\n",
       "      <td>77.916667</td>\n",
       "      <td>73.166667</td>\n",
       "      <td>84.833333</td>\n",
       "      <td>72.916667</td>\n",
       "      <td>77.333333</td>\n",
       "      <td>81.500000</td>\n",
       "      <td>79.500000</td>\n",
       "      <td>74.666667</td>\n",
       "      <td>37.13305</td>\n",
       "      <td>-2.797098</td>\n",
       "      <td>976.93870</td>\n",
       "      <td>1341</td>\n",
       "    </tr>\n",
       "    <tr>\n",
       "      <th>Adra</th>\n",
       "      <td>1085.083333</td>\n",
       "      <td>1158.500000</td>\n",
       "      <td>1708.583333</td>\n",
       "      <td>2476.083333</td>\n",
       "      <td>2951.333333</td>\n",
       "      <td>3036.583333</td>\n",
       "      <td>3132.333333</td>\n",
       "      <td>2993.833333</td>\n",
       "      <td>3033.916667</td>\n",
       "      <td>3065.916667</td>\n",
       "      <td>2703.000000</td>\n",
       "      <td>2433.750000</td>\n",
       "      <td>36.74807</td>\n",
       "      <td>-3.022522</td>\n",
       "      <td>10.97898</td>\n",
       "      <td>24373</td>\n",
       "    </tr>\n",
       "    <tr>\n",
       "      <th>Alboloduy</th>\n",
       "      <td>23.833333</td>\n",
       "      <td>25.666667</td>\n",
       "      <td>25.666667</td>\n",
       "      <td>31.166667</td>\n",
       "      <td>36.833333</td>\n",
       "      <td>40.833333</td>\n",
       "      <td>53.666667</td>\n",
       "      <td>53.250000</td>\n",
       "      <td>55.416667</td>\n",
       "      <td>47.333333</td>\n",
       "      <td>46.166667</td>\n",
       "      <td>35.416667</td>\n",
       "      <td>37.03319</td>\n",
       "      <td>-2.621750</td>\n",
       "      <td>388.43460</td>\n",
       "      <td>674</td>\n",
       "    </tr>\n",
       "    <tr>\n",
       "      <th>Albox</th>\n",
       "      <td>340.000000</td>\n",
       "      <td>360.500000</td>\n",
       "      <td>499.916667</td>\n",
       "      <td>767.416667</td>\n",
       "      <td>900.333333</td>\n",
       "      <td>938.000000</td>\n",
       "      <td>1002.500000</td>\n",
       "      <td>1055.416667</td>\n",
       "      <td>1022.416667</td>\n",
       "      <td>1013.833333</td>\n",
       "      <td>902.250000</td>\n",
       "      <td>808.916667</td>\n",
       "      <td>37.38979</td>\n",
       "      <td>-2.147483</td>\n",
       "      <td>426.42680</td>\n",
       "      <td>11178</td>\n",
       "    </tr>\n",
       "    <tr>\n",
       "      <th>...</th>\n",
       "      <th>...</th>\n",
       "      <th>...</th>\n",
       "      <td>...</td>\n",
       "      <td>...</td>\n",
       "      <td>...</td>\n",
       "      <td>...</td>\n",
       "      <td>...</td>\n",
       "      <td>...</td>\n",
       "      <td>...</td>\n",
       "      <td>...</td>\n",
       "      <td>...</td>\n",
       "      <td>...</td>\n",
       "      <td>...</td>\n",
       "      <td>...</td>\n",
       "      <td>...</td>\n",
       "      <td>...</td>\n",
       "      <td>...</td>\n",
       "      <td>...</td>\n",
       "    </tr>\n",
       "    <tr>\n",
       "      <th rowspan=\"5\" valign=\"top\">Valencia</th>\n",
       "      <th rowspan=\"5\" valign=\"top\">Valencia/València</th>\n",
       "      <th>Xàtiva</th>\n",
       "      <td>1339.333333</td>\n",
       "      <td>1265.666667</td>\n",
       "      <td>1675.500000</td>\n",
       "      <td>2575.916667</td>\n",
       "      <td>2943.333333</td>\n",
       "      <td>3150.416667</td>\n",
       "      <td>3489.666667</td>\n",
       "      <td>3611.916667</td>\n",
       "      <td>3449.000000</td>\n",
       "      <td>3164.833333</td>\n",
       "      <td>2903.166667</td>\n",
       "      <td>2652.250000</td>\n",
       "      <td>38.98887</td>\n",
       "      <td>-0.515614</td>\n",
       "      <td>118.28640</td>\n",
       "      <td>29386</td>\n",
       "    </tr>\n",
       "    <tr>\n",
       "      <th>Yesa, La</th>\n",
       "      <td>5.583333</td>\n",
       "      <td>3.916667</td>\n",
       "      <td>3.916667</td>\n",
       "      <td>7.583333</td>\n",
       "      <td>15.666667</td>\n",
       "      <td>9.416667</td>\n",
       "      <td>17.666667</td>\n",
       "      <td>13.916667</td>\n",
       "      <td>13.750000</td>\n",
       "      <td>13.666667</td>\n",
       "      <td>10.916667</td>\n",
       "      <td>12.083333</td>\n",
       "      <td>39.49916</td>\n",
       "      <td>-0.426125</td>\n",
       "      <td>52.28455</td>\n",
       "      <td>260</td>\n",
       "    </tr>\n",
       "    <tr>\n",
       "      <th>Yátova</th>\n",
       "      <td>58.166667</td>\n",
       "      <td>59.500000</td>\n",
       "      <td>81.500000</td>\n",
       "      <td>161.250000</td>\n",
       "      <td>187.166667</td>\n",
       "      <td>188.166667</td>\n",
       "      <td>213.250000</td>\n",
       "      <td>228.833333</td>\n",
       "      <td>217.250000</td>\n",
       "      <td>202.166667</td>\n",
       "      <td>173.250000</td>\n",
       "      <td>145.916667</td>\n",
       "      <td>39.38500</td>\n",
       "      <td>-0.808174</td>\n",
       "      <td>441.81140</td>\n",
       "      <td>2199</td>\n",
       "    </tr>\n",
       "    <tr>\n",
       "      <th>Zarra</th>\n",
       "      <td>13.500000</td>\n",
       "      <td>12.916667</td>\n",
       "      <td>16.833333</td>\n",
       "      <td>20.416667</td>\n",
       "      <td>20.500000</td>\n",
       "      <td>26.500000</td>\n",
       "      <td>28.333333</td>\n",
       "      <td>30.916667</td>\n",
       "      <td>25.083333</td>\n",
       "      <td>20.750000</td>\n",
       "      <td>21.333333</td>\n",
       "      <td>22.750000</td>\n",
       "      <td>39.09138</td>\n",
       "      <td>-1.075068</td>\n",
       "      <td>576.03660</td>\n",
       "      <td>551</td>\n",
       "    </tr>\n",
       "    <tr>\n",
       "      <th>Ènova, l'</th>\n",
       "      <td>41.583333</td>\n",
       "      <td>34.416667</td>\n",
       "      <td>48.583333</td>\n",
       "      <td>78.250000</td>\n",
       "      <td>89.500000</td>\n",
       "      <td>83.583333</td>\n",
       "      <td>92.833333</td>\n",
       "      <td>93.916667</td>\n",
       "      <td>90.583333</td>\n",
       "      <td>86.666667</td>\n",
       "      <td>66.416667</td>\n",
       "      <td>57.083333</td>\n",
       "      <td>39.04391</td>\n",
       "      <td>-0.480266</td>\n",
       "      <td>57.11230</td>\n",
       "      <td>1018</td>\n",
       "    </tr>\n",
       "  </tbody>\n",
       "</table>\n",
       "<p>8111 rows × 16 columns</p>\n",
       "</div>"
      ],
      "text/plain": [
       "                                              2006         2007         2008  \\\n",
       "com_aut   prov              mun                                                \n",
       "Andalucía Almería           Abla         63.166667    48.583333    64.416667   \n",
       "                            Abrucena     44.833333    38.500000    52.833333   \n",
       "                            Adra       1085.083333  1158.500000  1708.583333   \n",
       "                            Alboloduy    23.833333    25.666667    25.666667   \n",
       "                            Albox       340.000000   360.500000   499.916667   \n",
       "...                                            ...          ...          ...   \n",
       "Valencia  Valencia/València Xàtiva     1339.333333  1265.666667  1675.500000   \n",
       "                            Yesa, La      5.583333     3.916667     3.916667   \n",
       "                            Yátova       58.166667    59.500000    81.500000   \n",
       "                            Zarra        13.500000    12.916667    16.833333   \n",
       "                            Ènova, l'    41.583333    34.416667    48.583333   \n",
       "\n",
       "                                              2009         2010         2011  \\\n",
       "com_aut   prov              mun                                                \n",
       "Andalucía Almería           Abla         73.000000    94.250000    99.666667   \n",
       "                            Abrucena     56.583333    77.916667    73.166667   \n",
       "                            Adra       2476.083333  2951.333333  3036.583333   \n",
       "                            Alboloduy    31.166667    36.833333    40.833333   \n",
       "                            Albox       767.416667   900.333333   938.000000   \n",
       "...                                            ...          ...          ...   \n",
       "Valencia  Valencia/València Xàtiva     2575.916667  2943.333333  3150.416667   \n",
       "                            Yesa, La      7.583333    15.666667     9.416667   \n",
       "                            Yátova      161.250000   187.166667   188.166667   \n",
       "                            Zarra        20.416667    20.500000    26.500000   \n",
       "                            Ènova, l'    78.250000    89.500000    83.583333   \n",
       "\n",
       "                                              2012         2013         2014  \\\n",
       "com_aut   prov              mun                                                \n",
       "Andalucía Almería           Abla        113.583333   125.083333   126.583333   \n",
       "                            Abrucena     84.833333    72.916667    77.333333   \n",
       "                            Adra       3132.333333  2993.833333  3033.916667   \n",
       "                            Alboloduy    53.666667    53.250000    55.416667   \n",
       "                            Albox      1002.500000  1055.416667  1022.416667   \n",
       "...                                            ...          ...          ...   \n",
       "Valencia  Valencia/València Xàtiva     3489.666667  3611.916667  3449.000000   \n",
       "                            Yesa, La     17.666667    13.916667    13.750000   \n",
       "                            Yátova      213.250000   228.833333   217.250000   \n",
       "                            Zarra        28.333333    30.916667    25.083333   \n",
       "                            Ènova, l'    92.833333    93.916667    90.583333   \n",
       "\n",
       "                                              2015         2016         2017  \\\n",
       "com_aut   prov              mun                                                \n",
       "Andalucía Almería           Abla        106.333333    95.416667    83.666667   \n",
       "                            Abrucena     81.500000    79.500000    74.666667   \n",
       "                            Adra       3065.916667  2703.000000  2433.750000   \n",
       "                            Alboloduy    47.333333    46.166667    35.416667   \n",
       "                            Albox      1013.833333   902.250000   808.916667   \n",
       "...                                            ...          ...          ...   \n",
       "Valencia  Valencia/València Xàtiva     3164.833333  2903.166667  2652.250000   \n",
       "                            Yesa, La     13.666667    10.916667    12.083333   \n",
       "                            Yátova      202.166667   173.250000   145.916667   \n",
       "                            Zarra        20.750000    21.333333    22.750000   \n",
       "                            Ènova, l'    86.666667    66.416667    57.083333   \n",
       "\n",
       "                                            lat       lon        alt  \\\n",
       "com_aut   prov              mun                                        \n",
       "Andalucía Almería           Abla       37.14114 -2.780104  871.16840   \n",
       "                            Abrucena   37.13305 -2.797098  976.93870   \n",
       "                            Adra       36.74807 -3.022522   10.97898   \n",
       "                            Alboloduy  37.03319 -2.621750  388.43460   \n",
       "                            Albox      37.38979 -2.147483  426.42680   \n",
       "...                                         ...       ...        ...   \n",
       "Valencia  Valencia/València Xàtiva     38.98887 -0.515614  118.28640   \n",
       "                            Yesa, La   39.49916 -0.426125   52.28455   \n",
       "                            Yátova     39.38500 -0.808174  441.81140   \n",
       "                            Zarra      39.09138 -1.075068  576.03660   \n",
       "                            Ènova, l'  39.04391 -0.480266   57.11230   \n",
       "\n",
       "                                       habitantes  \n",
       "com_aut   prov              mun                    \n",
       "Andalucía Almería           Abla             1504  \n",
       "                            Abrucena         1341  \n",
       "                            Adra            24373  \n",
       "                            Alboloduy         674  \n",
       "                            Albox           11178  \n",
       "...                                           ...  \n",
       "Valencia  Valencia/València Xàtiva          29386  \n",
       "                            Yesa, La          260  \n",
       "                            Yátova           2199  \n",
       "                            Zarra             551  \n",
       "                            Ènova, l'        1018  \n",
       "\n",
       "[8111 rows x 16 columns]"
      ]
     },
     "execution_count": 80,
     "metadata": {},
     "output_type": "execute_result"
    }
   ],
   "source": [
    "unempl_2006_2017_index_mun= unempl_2006_2017_means.merge(muns_population, on=[\"com_aut\",\"prov\",\"mun\"])\n",
    "unempl_2006_2017_index_mun"
   ]
  },
  {
   "cell_type": "code",
   "execution_count": 81,
   "metadata": {},
   "outputs": [],
   "source": [
    "\"\"\"No ejecutar más de una vez este código, porque realizaría de nuevo la división cada vez que se ejecuta,\n",
    "haciéndose cada vez más pequeño el ratio de paro.\"\"\"\n",
    "for i in prev_years:\n",
    "    unempl_2006_2017_index_mun[i]=unempl_2006_2017_index_mun[i]/unempl_2006_2017_index_mun.habitantes"
   ]
  },
  {
   "cell_type": "code",
   "execution_count": 82,
   "metadata": {},
   "outputs": [
    {
     "data": {
      "text/html": [
       "<div>\n",
       "<style scoped>\n",
       "    .dataframe tbody tr th:only-of-type {\n",
       "        vertical-align: middle;\n",
       "    }\n",
       "\n",
       "    .dataframe tbody tr th {\n",
       "        vertical-align: top;\n",
       "    }\n",
       "\n",
       "    .dataframe thead th {\n",
       "        text-align: right;\n",
       "    }\n",
       "</style>\n",
       "<table border=\"1\" class=\"dataframe\">\n",
       "  <thead>\n",
       "    <tr style=\"text-align: right;\">\n",
       "      <th></th>\n",
       "      <th></th>\n",
       "      <th></th>\n",
       "      <th>2006</th>\n",
       "      <th>2007</th>\n",
       "      <th>2008</th>\n",
       "      <th>2009</th>\n",
       "      <th>2010</th>\n",
       "      <th>2011</th>\n",
       "      <th>2012</th>\n",
       "      <th>2013</th>\n",
       "      <th>2014</th>\n",
       "      <th>2015</th>\n",
       "      <th>2016</th>\n",
       "      <th>2017</th>\n",
       "      <th>lat</th>\n",
       "      <th>lon</th>\n",
       "      <th>alt</th>\n",
       "      <th>habitantes</th>\n",
       "    </tr>\n",
       "    <tr>\n",
       "      <th>com_aut</th>\n",
       "      <th>prov</th>\n",
       "      <th>mun</th>\n",
       "      <th></th>\n",
       "      <th></th>\n",
       "      <th></th>\n",
       "      <th></th>\n",
       "      <th></th>\n",
       "      <th></th>\n",
       "      <th></th>\n",
       "      <th></th>\n",
       "      <th></th>\n",
       "      <th></th>\n",
       "      <th></th>\n",
       "      <th></th>\n",
       "      <th></th>\n",
       "      <th></th>\n",
       "      <th></th>\n",
       "      <th></th>\n",
       "    </tr>\n",
       "  </thead>\n",
       "  <tbody>\n",
       "    <tr>\n",
       "      <th rowspan=\"5\" valign=\"top\">Andalucía</th>\n",
       "      <th rowspan=\"5\" valign=\"top\">Almería</th>\n",
       "      <th>Abla</th>\n",
       "      <td>0.041999</td>\n",
       "      <td>0.032303</td>\n",
       "      <td>0.042830</td>\n",
       "      <td>0.048537</td>\n",
       "      <td>0.062666</td>\n",
       "      <td>0.066268</td>\n",
       "      <td>0.075521</td>\n",
       "      <td>0.083167</td>\n",
       "      <td>0.084164</td>\n",
       "      <td>0.070700</td>\n",
       "      <td>0.063442</td>\n",
       "      <td>0.055629</td>\n",
       "      <td>37.14114</td>\n",
       "      <td>-2.780104</td>\n",
       "      <td>871.16840</td>\n",
       "      <td>1504</td>\n",
       "    </tr>\n",
       "    <tr>\n",
       "      <th>Abrucena</th>\n",
       "      <td>0.033433</td>\n",
       "      <td>0.028710</td>\n",
       "      <td>0.039398</td>\n",
       "      <td>0.042195</td>\n",
       "      <td>0.058103</td>\n",
       "      <td>0.054561</td>\n",
       "      <td>0.063261</td>\n",
       "      <td>0.054375</td>\n",
       "      <td>0.057668</td>\n",
       "      <td>0.060776</td>\n",
       "      <td>0.059284</td>\n",
       "      <td>0.055680</td>\n",
       "      <td>37.13305</td>\n",
       "      <td>-2.797098</td>\n",
       "      <td>976.93870</td>\n",
       "      <td>1341</td>\n",
       "    </tr>\n",
       "    <tr>\n",
       "      <th>Adra</th>\n",
       "      <td>0.044520</td>\n",
       "      <td>0.047532</td>\n",
       "      <td>0.070101</td>\n",
       "      <td>0.101591</td>\n",
       "      <td>0.121090</td>\n",
       "      <td>0.124588</td>\n",
       "      <td>0.128517</td>\n",
       "      <td>0.122834</td>\n",
       "      <td>0.124479</td>\n",
       "      <td>0.125792</td>\n",
       "      <td>0.110901</td>\n",
       "      <td>0.099854</td>\n",
       "      <td>36.74807</td>\n",
       "      <td>-3.022522</td>\n",
       "      <td>10.97898</td>\n",
       "      <td>24373</td>\n",
       "    </tr>\n",
       "    <tr>\n",
       "      <th>Alboloduy</th>\n",
       "      <td>0.035361</td>\n",
       "      <td>0.038081</td>\n",
       "      <td>0.038081</td>\n",
       "      <td>0.046241</td>\n",
       "      <td>0.054649</td>\n",
       "      <td>0.060584</td>\n",
       "      <td>0.079624</td>\n",
       "      <td>0.079006</td>\n",
       "      <td>0.082221</td>\n",
       "      <td>0.070227</td>\n",
       "      <td>0.068497</td>\n",
       "      <td>0.052547</td>\n",
       "      <td>37.03319</td>\n",
       "      <td>-2.621750</td>\n",
       "      <td>388.43460</td>\n",
       "      <td>674</td>\n",
       "    </tr>\n",
       "    <tr>\n",
       "      <th>Albox</th>\n",
       "      <td>0.030417</td>\n",
       "      <td>0.032251</td>\n",
       "      <td>0.044723</td>\n",
       "      <td>0.068654</td>\n",
       "      <td>0.080545</td>\n",
       "      <td>0.083915</td>\n",
       "      <td>0.089685</td>\n",
       "      <td>0.094419</td>\n",
       "      <td>0.091467</td>\n",
       "      <td>0.090699</td>\n",
       "      <td>0.080717</td>\n",
       "      <td>0.072367</td>\n",
       "      <td>37.38979</td>\n",
       "      <td>-2.147483</td>\n",
       "      <td>426.42680</td>\n",
       "      <td>11178</td>\n",
       "    </tr>\n",
       "    <tr>\n",
       "      <th>...</th>\n",
       "      <th>...</th>\n",
       "      <th>...</th>\n",
       "      <td>...</td>\n",
       "      <td>...</td>\n",
       "      <td>...</td>\n",
       "      <td>...</td>\n",
       "      <td>...</td>\n",
       "      <td>...</td>\n",
       "      <td>...</td>\n",
       "      <td>...</td>\n",
       "      <td>...</td>\n",
       "      <td>...</td>\n",
       "      <td>...</td>\n",
       "      <td>...</td>\n",
       "      <td>...</td>\n",
       "      <td>...</td>\n",
       "      <td>...</td>\n",
       "      <td>...</td>\n",
       "    </tr>\n",
       "    <tr>\n",
       "      <th rowspan=\"5\" valign=\"top\">Valencia</th>\n",
       "      <th rowspan=\"5\" valign=\"top\">Valencia/València</th>\n",
       "      <th>Xàtiva</th>\n",
       "      <td>0.045577</td>\n",
       "      <td>0.043070</td>\n",
       "      <td>0.057017</td>\n",
       "      <td>0.087658</td>\n",
       "      <td>0.100161</td>\n",
       "      <td>0.107208</td>\n",
       "      <td>0.118753</td>\n",
       "      <td>0.122913</td>\n",
       "      <td>0.117369</td>\n",
       "      <td>0.107699</td>\n",
       "      <td>0.098794</td>\n",
       "      <td>0.090256</td>\n",
       "      <td>38.98887</td>\n",
       "      <td>-0.515614</td>\n",
       "      <td>118.28640</td>\n",
       "      <td>29386</td>\n",
       "    </tr>\n",
       "    <tr>\n",
       "      <th>Yesa, La</th>\n",
       "      <td>0.021474</td>\n",
       "      <td>0.015064</td>\n",
       "      <td>0.015064</td>\n",
       "      <td>0.029167</td>\n",
       "      <td>0.060256</td>\n",
       "      <td>0.036218</td>\n",
       "      <td>0.067949</td>\n",
       "      <td>0.053526</td>\n",
       "      <td>0.052885</td>\n",
       "      <td>0.052564</td>\n",
       "      <td>0.041987</td>\n",
       "      <td>0.046474</td>\n",
       "      <td>39.49916</td>\n",
       "      <td>-0.426125</td>\n",
       "      <td>52.28455</td>\n",
       "      <td>260</td>\n",
       "    </tr>\n",
       "    <tr>\n",
       "      <th>Yátova</th>\n",
       "      <td>0.026451</td>\n",
       "      <td>0.027058</td>\n",
       "      <td>0.037062</td>\n",
       "      <td>0.073329</td>\n",
       "      <td>0.085114</td>\n",
       "      <td>0.085569</td>\n",
       "      <td>0.096976</td>\n",
       "      <td>0.104062</td>\n",
       "      <td>0.098795</td>\n",
       "      <td>0.091936</td>\n",
       "      <td>0.078786</td>\n",
       "      <td>0.066356</td>\n",
       "      <td>39.38500</td>\n",
       "      <td>-0.808174</td>\n",
       "      <td>441.81140</td>\n",
       "      <td>2199</td>\n",
       "    </tr>\n",
       "    <tr>\n",
       "      <th>Zarra</th>\n",
       "      <td>0.024501</td>\n",
       "      <td>0.023442</td>\n",
       "      <td>0.030551</td>\n",
       "      <td>0.037054</td>\n",
       "      <td>0.037205</td>\n",
       "      <td>0.048094</td>\n",
       "      <td>0.051422</td>\n",
       "      <td>0.056110</td>\n",
       "      <td>0.045523</td>\n",
       "      <td>0.037659</td>\n",
       "      <td>0.038717</td>\n",
       "      <td>0.041289</td>\n",
       "      <td>39.09138</td>\n",
       "      <td>-1.075068</td>\n",
       "      <td>576.03660</td>\n",
       "      <td>551</td>\n",
       "    </tr>\n",
       "    <tr>\n",
       "      <th>Ènova, l'</th>\n",
       "      <td>0.040848</td>\n",
       "      <td>0.033808</td>\n",
       "      <td>0.047724</td>\n",
       "      <td>0.076866</td>\n",
       "      <td>0.087917</td>\n",
       "      <td>0.082105</td>\n",
       "      <td>0.091192</td>\n",
       "      <td>0.092256</td>\n",
       "      <td>0.088982</td>\n",
       "      <td>0.085134</td>\n",
       "      <td>0.065242</td>\n",
       "      <td>0.056074</td>\n",
       "      <td>39.04391</td>\n",
       "      <td>-0.480266</td>\n",
       "      <td>57.11230</td>\n",
       "      <td>1018</td>\n",
       "    </tr>\n",
       "  </tbody>\n",
       "</table>\n",
       "<p>8111 rows × 16 columns</p>\n",
       "</div>"
      ],
      "text/plain": [
       "                                           2006      2007      2008      2009  \\\n",
       "com_aut   prov              mun                                                 \n",
       "Andalucía Almería           Abla       0.041999  0.032303  0.042830  0.048537   \n",
       "                            Abrucena   0.033433  0.028710  0.039398  0.042195   \n",
       "                            Adra       0.044520  0.047532  0.070101  0.101591   \n",
       "                            Alboloduy  0.035361  0.038081  0.038081  0.046241   \n",
       "                            Albox      0.030417  0.032251  0.044723  0.068654   \n",
       "...                                         ...       ...       ...       ...   \n",
       "Valencia  Valencia/València Xàtiva     0.045577  0.043070  0.057017  0.087658   \n",
       "                            Yesa, La   0.021474  0.015064  0.015064  0.029167   \n",
       "                            Yátova     0.026451  0.027058  0.037062  0.073329   \n",
       "                            Zarra      0.024501  0.023442  0.030551  0.037054   \n",
       "                            Ènova, l'  0.040848  0.033808  0.047724  0.076866   \n",
       "\n",
       "                                           2010      2011      2012      2013  \\\n",
       "com_aut   prov              mun                                                 \n",
       "Andalucía Almería           Abla       0.062666  0.066268  0.075521  0.083167   \n",
       "                            Abrucena   0.058103  0.054561  0.063261  0.054375   \n",
       "                            Adra       0.121090  0.124588  0.128517  0.122834   \n",
       "                            Alboloduy  0.054649  0.060584  0.079624  0.079006   \n",
       "                            Albox      0.080545  0.083915  0.089685  0.094419   \n",
       "...                                         ...       ...       ...       ...   \n",
       "Valencia  Valencia/València Xàtiva     0.100161  0.107208  0.118753  0.122913   \n",
       "                            Yesa, La   0.060256  0.036218  0.067949  0.053526   \n",
       "                            Yátova     0.085114  0.085569  0.096976  0.104062   \n",
       "                            Zarra      0.037205  0.048094  0.051422  0.056110   \n",
       "                            Ènova, l'  0.087917  0.082105  0.091192  0.092256   \n",
       "\n",
       "                                           2014      2015      2016      2017  \\\n",
       "com_aut   prov              mun                                                 \n",
       "Andalucía Almería           Abla       0.084164  0.070700  0.063442  0.055629   \n",
       "                            Abrucena   0.057668  0.060776  0.059284  0.055680   \n",
       "                            Adra       0.124479  0.125792  0.110901  0.099854   \n",
       "                            Alboloduy  0.082221  0.070227  0.068497  0.052547   \n",
       "                            Albox      0.091467  0.090699  0.080717  0.072367   \n",
       "...                                         ...       ...       ...       ...   \n",
       "Valencia  Valencia/València Xàtiva     0.117369  0.107699  0.098794  0.090256   \n",
       "                            Yesa, La   0.052885  0.052564  0.041987  0.046474   \n",
       "                            Yátova     0.098795  0.091936  0.078786  0.066356   \n",
       "                            Zarra      0.045523  0.037659  0.038717  0.041289   \n",
       "                            Ènova, l'  0.088982  0.085134  0.065242  0.056074   \n",
       "\n",
       "                                            lat       lon        alt  \\\n",
       "com_aut   prov              mun                                        \n",
       "Andalucía Almería           Abla       37.14114 -2.780104  871.16840   \n",
       "                            Abrucena   37.13305 -2.797098  976.93870   \n",
       "                            Adra       36.74807 -3.022522   10.97898   \n",
       "                            Alboloduy  37.03319 -2.621750  388.43460   \n",
       "                            Albox      37.38979 -2.147483  426.42680   \n",
       "...                                         ...       ...        ...   \n",
       "Valencia  Valencia/València Xàtiva     38.98887 -0.515614  118.28640   \n",
       "                            Yesa, La   39.49916 -0.426125   52.28455   \n",
       "                            Yátova     39.38500 -0.808174  441.81140   \n",
       "                            Zarra      39.09138 -1.075068  576.03660   \n",
       "                            Ènova, l'  39.04391 -0.480266   57.11230   \n",
       "\n",
       "                                       habitantes  \n",
       "com_aut   prov              mun                    \n",
       "Andalucía Almería           Abla             1504  \n",
       "                            Abrucena         1341  \n",
       "                            Adra            24373  \n",
       "                            Alboloduy         674  \n",
       "                            Albox           11178  \n",
       "...                                           ...  \n",
       "Valencia  Valencia/València Xàtiva          29386  \n",
       "                            Yesa, La          260  \n",
       "                            Yátova           2199  \n",
       "                            Zarra             551  \n",
       "                            Ènova, l'        1018  \n",
       "\n",
       "[8111 rows x 16 columns]"
      ]
     },
     "execution_count": 82,
     "metadata": {},
     "output_type": "execute_result"
    }
   ],
   "source": [
    "unempl_2006_2017_index_mun"
   ]
  },
  {
   "cell_type": "code",
   "execution_count": 83,
   "metadata": {},
   "outputs": [
    {
     "data": {
      "text/html": [
       "<div>\n",
       "<style scoped>\n",
       "    .dataframe tbody tr th:only-of-type {\n",
       "        vertical-align: middle;\n",
       "    }\n",
       "\n",
       "    .dataframe tbody tr th {\n",
       "        vertical-align: top;\n",
       "    }\n",
       "\n",
       "    .dataframe thead th {\n",
       "        text-align: right;\n",
       "    }\n",
       "</style>\n",
       "<table border=\"1\" class=\"dataframe\">\n",
       "  <thead>\n",
       "    <tr style=\"text-align: right;\">\n",
       "      <th></th>\n",
       "      <th></th>\n",
       "      <th></th>\n",
       "      <th>2006</th>\n",
       "      <th>2007</th>\n",
       "      <th>2008</th>\n",
       "      <th>2009</th>\n",
       "      <th>2010</th>\n",
       "      <th>2011</th>\n",
       "      <th>2012</th>\n",
       "      <th>2013</th>\n",
       "      <th>2014</th>\n",
       "      <th>2015</th>\n",
       "      <th>2016</th>\n",
       "      <th>2017</th>\n",
       "    </tr>\n",
       "    <tr>\n",
       "      <th>com_aut</th>\n",
       "      <th>prov</th>\n",
       "      <th>mun</th>\n",
       "      <th></th>\n",
       "      <th></th>\n",
       "      <th></th>\n",
       "      <th></th>\n",
       "      <th></th>\n",
       "      <th></th>\n",
       "      <th></th>\n",
       "      <th></th>\n",
       "      <th></th>\n",
       "      <th></th>\n",
       "      <th></th>\n",
       "      <th></th>\n",
       "    </tr>\n",
       "  </thead>\n",
       "  <tbody>\n",
       "    <tr>\n",
       "      <th rowspan=\"5\" valign=\"top\">Andalucía</th>\n",
       "      <th rowspan=\"5\" valign=\"top\">Almería</th>\n",
       "      <th>Abla</th>\n",
       "      <td>0.041999</td>\n",
       "      <td>0.032303</td>\n",
       "      <td>0.042830</td>\n",
       "      <td>0.048537</td>\n",
       "      <td>0.062666</td>\n",
       "      <td>0.066268</td>\n",
       "      <td>0.075521</td>\n",
       "      <td>0.083167</td>\n",
       "      <td>0.084164</td>\n",
       "      <td>0.070700</td>\n",
       "      <td>0.063442</td>\n",
       "      <td>0.055629</td>\n",
       "    </tr>\n",
       "    <tr>\n",
       "      <th>Abrucena</th>\n",
       "      <td>0.033433</td>\n",
       "      <td>0.028710</td>\n",
       "      <td>0.039398</td>\n",
       "      <td>0.042195</td>\n",
       "      <td>0.058103</td>\n",
       "      <td>0.054561</td>\n",
       "      <td>0.063261</td>\n",
       "      <td>0.054375</td>\n",
       "      <td>0.057668</td>\n",
       "      <td>0.060776</td>\n",
       "      <td>0.059284</td>\n",
       "      <td>0.055680</td>\n",
       "    </tr>\n",
       "    <tr>\n",
       "      <th>Adra</th>\n",
       "      <td>0.044520</td>\n",
       "      <td>0.047532</td>\n",
       "      <td>0.070101</td>\n",
       "      <td>0.101591</td>\n",
       "      <td>0.121090</td>\n",
       "      <td>0.124588</td>\n",
       "      <td>0.128517</td>\n",
       "      <td>0.122834</td>\n",
       "      <td>0.124479</td>\n",
       "      <td>0.125792</td>\n",
       "      <td>0.110901</td>\n",
       "      <td>0.099854</td>\n",
       "    </tr>\n",
       "    <tr>\n",
       "      <th>Alboloduy</th>\n",
       "      <td>0.035361</td>\n",
       "      <td>0.038081</td>\n",
       "      <td>0.038081</td>\n",
       "      <td>0.046241</td>\n",
       "      <td>0.054649</td>\n",
       "      <td>0.060584</td>\n",
       "      <td>0.079624</td>\n",
       "      <td>0.079006</td>\n",
       "      <td>0.082221</td>\n",
       "      <td>0.070227</td>\n",
       "      <td>0.068497</td>\n",
       "      <td>0.052547</td>\n",
       "    </tr>\n",
       "    <tr>\n",
       "      <th>Albox</th>\n",
       "      <td>0.030417</td>\n",
       "      <td>0.032251</td>\n",
       "      <td>0.044723</td>\n",
       "      <td>0.068654</td>\n",
       "      <td>0.080545</td>\n",
       "      <td>0.083915</td>\n",
       "      <td>0.089685</td>\n",
       "      <td>0.094419</td>\n",
       "      <td>0.091467</td>\n",
       "      <td>0.090699</td>\n",
       "      <td>0.080717</td>\n",
       "      <td>0.072367</td>\n",
       "    </tr>\n",
       "    <tr>\n",
       "      <th>...</th>\n",
       "      <th>...</th>\n",
       "      <th>...</th>\n",
       "      <td>...</td>\n",
       "      <td>...</td>\n",
       "      <td>...</td>\n",
       "      <td>...</td>\n",
       "      <td>...</td>\n",
       "      <td>...</td>\n",
       "      <td>...</td>\n",
       "      <td>...</td>\n",
       "      <td>...</td>\n",
       "      <td>...</td>\n",
       "      <td>...</td>\n",
       "      <td>...</td>\n",
       "    </tr>\n",
       "    <tr>\n",
       "      <th rowspan=\"5\" valign=\"top\">Valencia</th>\n",
       "      <th rowspan=\"5\" valign=\"top\">Valencia/València</th>\n",
       "      <th>Xàtiva</th>\n",
       "      <td>0.045577</td>\n",
       "      <td>0.043070</td>\n",
       "      <td>0.057017</td>\n",
       "      <td>0.087658</td>\n",
       "      <td>0.100161</td>\n",
       "      <td>0.107208</td>\n",
       "      <td>0.118753</td>\n",
       "      <td>0.122913</td>\n",
       "      <td>0.117369</td>\n",
       "      <td>0.107699</td>\n",
       "      <td>0.098794</td>\n",
       "      <td>0.090256</td>\n",
       "    </tr>\n",
       "    <tr>\n",
       "      <th>Yesa, La</th>\n",
       "      <td>0.021474</td>\n",
       "      <td>0.015064</td>\n",
       "      <td>0.015064</td>\n",
       "      <td>0.029167</td>\n",
       "      <td>0.060256</td>\n",
       "      <td>0.036218</td>\n",
       "      <td>0.067949</td>\n",
       "      <td>0.053526</td>\n",
       "      <td>0.052885</td>\n",
       "      <td>0.052564</td>\n",
       "      <td>0.041987</td>\n",
       "      <td>0.046474</td>\n",
       "    </tr>\n",
       "    <tr>\n",
       "      <th>Yátova</th>\n",
       "      <td>0.026451</td>\n",
       "      <td>0.027058</td>\n",
       "      <td>0.037062</td>\n",
       "      <td>0.073329</td>\n",
       "      <td>0.085114</td>\n",
       "      <td>0.085569</td>\n",
       "      <td>0.096976</td>\n",
       "      <td>0.104062</td>\n",
       "      <td>0.098795</td>\n",
       "      <td>0.091936</td>\n",
       "      <td>0.078786</td>\n",
       "      <td>0.066356</td>\n",
       "    </tr>\n",
       "    <tr>\n",
       "      <th>Zarra</th>\n",
       "      <td>0.024501</td>\n",
       "      <td>0.023442</td>\n",
       "      <td>0.030551</td>\n",
       "      <td>0.037054</td>\n",
       "      <td>0.037205</td>\n",
       "      <td>0.048094</td>\n",
       "      <td>0.051422</td>\n",
       "      <td>0.056110</td>\n",
       "      <td>0.045523</td>\n",
       "      <td>0.037659</td>\n",
       "      <td>0.038717</td>\n",
       "      <td>0.041289</td>\n",
       "    </tr>\n",
       "    <tr>\n",
       "      <th>Ènova, l'</th>\n",
       "      <td>0.040848</td>\n",
       "      <td>0.033808</td>\n",
       "      <td>0.047724</td>\n",
       "      <td>0.076866</td>\n",
       "      <td>0.087917</td>\n",
       "      <td>0.082105</td>\n",
       "      <td>0.091192</td>\n",
       "      <td>0.092256</td>\n",
       "      <td>0.088982</td>\n",
       "      <td>0.085134</td>\n",
       "      <td>0.065242</td>\n",
       "      <td>0.056074</td>\n",
       "    </tr>\n",
       "  </tbody>\n",
       "</table>\n",
       "<p>8111 rows × 12 columns</p>\n",
       "</div>"
      ],
      "text/plain": [
       "                                           2006      2007      2008      2009  \\\n",
       "com_aut   prov              mun                                                 \n",
       "Andalucía Almería           Abla       0.041999  0.032303  0.042830  0.048537   \n",
       "                            Abrucena   0.033433  0.028710  0.039398  0.042195   \n",
       "                            Adra       0.044520  0.047532  0.070101  0.101591   \n",
       "                            Alboloduy  0.035361  0.038081  0.038081  0.046241   \n",
       "                            Albox      0.030417  0.032251  0.044723  0.068654   \n",
       "...                                         ...       ...       ...       ...   \n",
       "Valencia  Valencia/València Xàtiva     0.045577  0.043070  0.057017  0.087658   \n",
       "                            Yesa, La   0.021474  0.015064  0.015064  0.029167   \n",
       "                            Yátova     0.026451  0.027058  0.037062  0.073329   \n",
       "                            Zarra      0.024501  0.023442  0.030551  0.037054   \n",
       "                            Ènova, l'  0.040848  0.033808  0.047724  0.076866   \n",
       "\n",
       "                                           2010      2011      2012      2013  \\\n",
       "com_aut   prov              mun                                                 \n",
       "Andalucía Almería           Abla       0.062666  0.066268  0.075521  0.083167   \n",
       "                            Abrucena   0.058103  0.054561  0.063261  0.054375   \n",
       "                            Adra       0.121090  0.124588  0.128517  0.122834   \n",
       "                            Alboloduy  0.054649  0.060584  0.079624  0.079006   \n",
       "                            Albox      0.080545  0.083915  0.089685  0.094419   \n",
       "...                                         ...       ...       ...       ...   \n",
       "Valencia  Valencia/València Xàtiva     0.100161  0.107208  0.118753  0.122913   \n",
       "                            Yesa, La   0.060256  0.036218  0.067949  0.053526   \n",
       "                            Yátova     0.085114  0.085569  0.096976  0.104062   \n",
       "                            Zarra      0.037205  0.048094  0.051422  0.056110   \n",
       "                            Ènova, l'  0.087917  0.082105  0.091192  0.092256   \n",
       "\n",
       "                                           2014      2015      2016      2017  \n",
       "com_aut   prov              mun                                                \n",
       "Andalucía Almería           Abla       0.084164  0.070700  0.063442  0.055629  \n",
       "                            Abrucena   0.057668  0.060776  0.059284  0.055680  \n",
       "                            Adra       0.124479  0.125792  0.110901  0.099854  \n",
       "                            Alboloduy  0.082221  0.070227  0.068497  0.052547  \n",
       "                            Albox      0.091467  0.090699  0.080717  0.072367  \n",
       "...                                         ...       ...       ...       ...  \n",
       "Valencia  Valencia/València Xàtiva     0.117369  0.107699  0.098794  0.090256  \n",
       "                            Yesa, La   0.052885  0.052564  0.041987  0.046474  \n",
       "                            Yátova     0.098795  0.091936  0.078786  0.066356  \n",
       "                            Zarra      0.045523  0.037659  0.038717  0.041289  \n",
       "                            Ènova, l'  0.088982  0.085134  0.065242  0.056074  \n",
       "\n",
       "[8111 rows x 12 columns]"
      ]
     },
     "execution_count": 83,
     "metadata": {},
     "output_type": "execute_result"
    }
   ],
   "source": [
    "X2=unempl_2006_2017_index_mun[prev_years]\n",
    "X2"
   ]
  },
  {
   "cell_type": "markdown",
   "metadata": {},
   "source": [
    "Verify that your matrix is correct:"
   ]
  },
  {
   "cell_type": "code",
   "execution_count": 84,
   "metadata": {
    "ExecuteTime": {
     "end_time": "2018-09-17T10:31:18.761794Z",
     "start_time": "2018-09-17T10:31:18.745324Z"
    }
   },
   "outputs": [],
   "source": [
    "assert(len(X2) == len(X) and (len(X2.columns) == len(prev_years)))   # same municipalities than before, 1 column for each year"
   ]
  },
  {
   "cell_type": "markdown",
   "metadata": {},
   "source": [
    "**Split these new patterns**:"
   ]
  },
  {
   "cell_type": "markdown",
   "metadata": {},
   "source": [
    "<table align=\"left\">\n",
    " <tr><td width=\"80\"><img src=\"img/question.png\" style=\"width:auto;height:auto\"></td><td style=\"text-align:left\">\n",
    "     Split <i>X2</i> into training and test sets, so that you obtain variables <i>X2_train</i> and <i>X2_test</i>.\n",
    " </td></tr>\n",
    "</table>"
   ]
  },
  {
   "cell_type": "markdown",
   "metadata": {},
   "source": [
    "<table align=\"left\">\n",
    " <tr><td width=\"80\"><img src=\"img/exclamation.png\" style=\"width:auto;height:auto\"></td><td style=\"text-align:left\">\n",
    "     Same as before, do not call <i>train_test_split</i> again. Features in <i>X</i> and <i>X2</i> are different, but municipalities in train and test do not change.\n",
    " </td></tr>\n",
    "</table>"
   ]
  },
  {
   "cell_type": "code",
   "execution_count": 85,
   "metadata": {
    "ExecuteTime": {
     "end_time": "2018-09-17T10:33:34.962541Z",
     "start_time": "2018-09-17T10:33:34.898556Z"
    },
    "scrolled": false
   },
   "outputs": [],
   "source": [
    "X2_train=X2.loc[Y_train.index]\n",
    "X2_test=X2.loc[Y_test.index]"
   ]
  },
  {
   "cell_type": "markdown",
   "metadata": {},
   "source": [
    "Training and test municipalities should be the same as before:"
   ]
  },
  {
   "cell_type": "code",
   "execution_count": 86,
   "metadata": {
    "ExecuteTime": {
     "end_time": "2018-09-17T10:33:37.990165Z",
     "start_time": "2018-09-17T10:33:37.977713Z"
    }
   },
   "outputs": [],
   "source": [
    "assert(all(X2_train.index == X_train.index) and all(X2_train.columns == X2.columns) and     # same index, same columns for training\n",
    "      all(X2_test.index == X_test.index) and all(X2_test.columns == X2_train.columns))     # and for testing"
   ]
  },
  {
   "cell_type": "markdown",
   "metadata": {},
   "source": [
    "**Train and predict with a linear SVR with the new dataset**:"
   ]
  },
  {
   "cell_type": "markdown",
   "metadata": {},
   "source": [
    "<table align=\"left\">\n",
    " <tr><td width=\"80\"><img src=\"img/question.png\" style=\"width:auto;height:auto\"></td><td style=\"text-align:left\">\n",
    "     Tune a <b>linear SVR</b>, measure its score on test, plot its predictions and compare with the ones you got for the baseline linear SVR. Are these predictions better? By how much?\n",
    " </td></tr>\n",
    "</table>"
   ]
  },
  {
   "cell_type": "code",
   "execution_count": 87,
   "metadata": {
    "ExecuteTime": {
     "end_time": "2018-09-17T10:34:18.132417Z",
     "start_time": "2018-09-17T10:33:46.410248Z"
    }
   },
   "outputs": [],
   "source": [
    "Cs_3= np.logspace(-3, 4, 8)\n",
    "epsilons_3= np.logspace(-4, 4, 9)"
   ]
  },
  {
   "cell_type": "code",
   "execution_count": 88,
   "metadata": {},
   "outputs": [],
   "source": [
    "#Pipeline con tratamiento de datos y modelo:\n",
    "modelo3=Pipeline(steps=[(\"scaler\",StandardScaler()), (\"linear_svr_year\", LinearSVR())])\n",
    "\n",
    "#Grid de parámetros:\n",
    "grid_linear_svr_year= {\"linear_svr_year__C\": Cs,\n",
    "                  \"linear_svr_year__epsilon\": epsilons,\n",
    "                  \"linear_svr_year__loss\": [\"epsilon_insensitive\",\"square_epsilon_insensitive\"],\n",
    "                  \"linear_svr_year__fit_intercept\": [True,False],\n",
    "                  \"linear_svr_year__dual\": [False,True],\n",
    "                  \"linear_svr_year__random_state\": [RANDOM_STATE]}\n",
    "\n",
    "#Grid seach:\n",
    "gs_linear_svr_year=GridSearchCV(modelo3,\n",
    "                                grid_linear_svr_year,\n",
    "                                cv=5,\n",
    "                                scoring=\"r2\",\n",
    "                                verbose=1,\n",
    "                                n_jobs=-1)"
   ]
  },
  {
   "cell_type": "code",
   "execution_count": 89,
   "metadata": {},
   "outputs": [
    {
     "name": "stdout",
     "output_type": "stream",
     "text": [
      "Fitting 5 folds for each of 576 candidates, totalling 2880 fits\n"
     ]
    },
    {
     "name": "stderr",
     "output_type": "stream",
     "text": [
      "[Parallel(n_jobs=-1)]: Using backend LokyBackend with 4 concurrent workers.\n",
      "[Parallel(n_jobs=-1)]: Done 200 tasks      | elapsed:    1.8s\n",
      "[Parallel(n_jobs=-1)]: Done 1180 tasks      | elapsed:   14.2s\n",
      "[Parallel(n_jobs=-1)]: Done 1900 tasks      | elapsed:   38.8s\n",
      "[Parallel(n_jobs=-1)]: Done 2880 out of 2880 | elapsed:  1.2min finished\n"
     ]
    },
    {
     "data": {
      "text/plain": [
       "GridSearchCV(cv=5, error_score=nan,\n",
       "             estimator=Pipeline(memory=None,\n",
       "                                steps=[('scaler',\n",
       "                                        StandardScaler(copy=True,\n",
       "                                                       with_mean=True,\n",
       "                                                       with_std=True)),\n",
       "                                       ('linear_svr_year',\n",
       "                                        LinearSVR(C=1.0, dual=True, epsilon=0.0,\n",
       "                                                  fit_intercept=True,\n",
       "                                                  intercept_scaling=1.0,\n",
       "                                                  loss='epsilon_insensitive',\n",
       "                                                  max_iter=1000,\n",
       "                                                  random_state=None, tol=0.0001,\n",
       "                                                  verbose=0))],\n",
       "                                verbose=False),\n",
       "             iid='deprecated'...\n",
       "                         'linear_svr_year__dual': [False, True],\n",
       "                         'linear_svr_year__epsilon': array([1.e-04, 1.e-03, 1.e-02, 1.e-01, 1.e+00, 1.e+01, 1.e+02, 1.e+03,\n",
       "       1.e+04]),\n",
       "                         'linear_svr_year__fit_intercept': [True, False],\n",
       "                         'linear_svr_year__loss': ['epsilon_insensitive',\n",
       "                                                   'square_epsilon_insensitive'],\n",
       "                         'linear_svr_year__random_state': [42]},\n",
       "             pre_dispatch='2*n_jobs', refit=True, return_train_score=False,\n",
       "             scoring='r2', verbose=1)"
      ]
     },
     "execution_count": 89,
     "metadata": {},
     "output_type": "execute_result"
    }
   ],
   "source": [
    "gs_linear_svr_year.fit(X2_train,Y_train)"
   ]
  },
  {
   "cell_type": "code",
   "execution_count": 90,
   "metadata": {},
   "outputs": [],
   "source": [
    "best_acc_linear_svr_year=gs_linear_svr_year.best_score_\n",
    "best_C_linear_svr_year=gs_linear_svr_year.best_params_[\"linear_svr_year__C\"]\n",
    "best_epsilon_linear_svr_year=gs_linear_svr_year.best_params_[\"linear_svr_year__epsilon\"]\n",
    "best_model_linear_svr_year=gs_linear_svr_year.best_estimator_"
   ]
  },
  {
   "cell_type": "code",
   "execution_count": 91,
   "metadata": {},
   "outputs": [
    {
     "name": "stdout",
     "output_type": "stream",
     "text": [
      "Best C = 0.001\n",
      "Best Epsilon = 0.001\n",
      "Best R^2 on train = 0.9341202272728971\n",
      "Best model = Pipeline(memory=None,\n",
      "         steps=[('scaler',\n",
      "                 StandardScaler(copy=True, with_mean=True, with_std=True)),\n",
      "                ('linear_svr_year',\n",
      "                 LinearSVR(C=0.001, dual=True, epsilon=0.001,\n",
      "                           fit_intercept=True, intercept_scaling=1.0,\n",
      "                           loss='epsilon_insensitive', max_iter=1000,\n",
      "                           random_state=42, tol=0.0001, verbose=0))],\n",
      "         verbose=False)\n"
     ]
    }
   ],
   "source": [
    "print(\"Best C =\", str(best_C_linear_svr_year))\n",
    "print(\"Best Epsilon =\", str(best_epsilon_linear_svr_year))\n",
    "print(\"Best R^2 on train =\", str(best_acc_linear_svr_year))\n",
    "print(\"Best model =\", str(best_model_linear_svr_year))"
   ]
  },
  {
   "cell_type": "markdown",
   "metadata": {},
   "source": [
    "<font color='brown'>Los mejores hiperparámetros de nuestro modelo son:  \n",
    "- C = 0.001\n",
    "- epsilon = 0.001\n",
    "- dual = True\n",
    "- fit_intercet = True,\n",
    "- intercept_scaling = 1.0\n",
    "- loss = 'epsilon_insensitive'\n",
    "- max_iter = 1000\n",
    "- tol = 0.0001\n",
    "\n",
    "El mejor R^2 en train = 0.9341202272728971</font>"
   ]
  },
  {
   "cell_type": "code",
   "execution_count": 92,
   "metadata": {},
   "outputs": [],
   "source": [
    "linear_svr_year_preds=best_model_linear_svr_year.predict(X2_test)"
   ]
  },
  {
   "cell_type": "code",
   "execution_count": 93,
   "metadata": {},
   "outputs": [
    {
     "data": {
      "text/plain": [
       "com_aut        prov      mun                      \n",
       "Castilla León  Burgos    Palacios de Riopisuerga      0.177513\n",
       "Extremadura    Cáceres   Saucedilla                   0.174692\n",
       "                         Huélaga                      0.161167\n",
       "Andalucía      Cádiz     Arcos de la Frontera         0.151228\n",
       "Extremadura    Badajoz   Quintana de la Serena        0.140141\n",
       "                                                        ...   \n",
       "Castilla León  Soria     Aldehuela de Periáñez       -0.000918\n",
       "La Rioja       La Rioja  Torrecilla sobre Alesanco   -0.000934\n",
       "Castilla León  Soria     Cirujales del Río           -0.000964\n",
       "La Rioja       La Rioja  Villarroya                  -0.001028\n",
       "Aragón         Zaragoza  Longás                      -0.001176\n",
       "Length: 2434, dtype: float64"
      ]
     },
     "execution_count": 93,
     "metadata": {},
     "output_type": "execute_result"
    }
   ],
   "source": [
    "linear_svr_year_preds=pd.Series(data=linear_svr_year_preds, index=X2_test.index)\n",
    "linear_svr_year_preds.sort_values(0,ascending=False)"
   ]
  },
  {
   "cell_type": "code",
   "execution_count": 94,
   "metadata": {},
   "outputs": [
    {
     "name": "stdout",
     "output_type": "stream",
     "text": [
      "Best model score (R^2) = 0.9415670887385296\n"
     ]
    }
   ],
   "source": [
    "best_model_score_linear_svr_year=best_model_linear_svr_year.score(X2_test,Y_test)\n",
    "print(\"Best model score (R^2) =\", str(best_model_score_linear_svr_year))"
   ]
  },
  {
   "cell_type": "code",
   "execution_count": 95,
   "metadata": {},
   "outputs": [
    {
     "data": {
      "text/plain": [
       "-0.7909007817604841"
      ]
     },
     "execution_count": 95,
     "metadata": {},
     "output_type": "execute_result"
    }
   ],
   "source": [
    "((best_acc_linear_svr_year/best_model_score_linear_svr_year)-1)*100"
   ]
  },
  {
   "cell_type": "markdown",
   "metadata": {},
   "source": [
    "<font color='brown'>Observamos que el R^2 en train (0.9341) es ligeramente menor que el obtenido en test (0.9416), 0.79%, por lo que el modelo no está sobreajustado ni subajustado. **Con las features de ratio de paro anual hemos mejorado ampliamente el R^2 del modelo rbf_svr con las features de latitud, longitud, altitud y habitantes**, el mejor con esas features. **Este modelo linear_svr predice de forma muy ajustada la tasa de paro de los municipios**.  \n",
    "Vamos a comprobar visualmente como predice el modelo linear_svr_year con las nuevas features, calculando el error absoluto entre las Y reales y las Y predichas por el modelo. También calcularemos el MAE (error absoluto medio) de este modelo:</font>"
   ]
  },
  {
   "cell_type": "code",
   "execution_count": 96,
   "metadata": {},
   "outputs": [
    {
     "data": {
      "image/png": "[encoded data removed]",
      "text/plain": [
       "<matplotlib.figure.Figure at 0x21fdc7c8>"
      ]
     },
     "metadata": {
      "needs_background": "light"
     },
     "output_type": "display_data"
    }
   ],
   "source": [
    "error_linear_svr_year=abs(Y_test-linear_svr_year_preds)\n",
    "plt.scatter(x=Y_test,y=error_linear_svr_year);"
   ]
  },
  {
   "cell_type": "code",
   "execution_count": 97,
   "metadata": {},
   "outputs": [
    {
     "name": "stdout",
     "output_type": "stream",
     "text": [
      "El MAE del modelo linear_svr_year es: 0.004756083553141547\n"
     ]
    }
   ],
   "source": [
    "MAE_linear_svr_year=MAE(y_true=Y_test,y_pred=linear_svr_year_preds)\n",
    "print(\"El MAE del modelo linear_svr_year es:\",MAE_linear_svr_year)"
   ]
  },
  {
   "cell_type": "code",
   "execution_count": 98,
   "metadata": {},
   "outputs": [
    {
     "data": {
      "text/plain": [
       "-65.57715058175981"
      ]
     },
     "execution_count": 98,
     "metadata": {},
     "output_type": "execute_result"
    }
   ],
   "source": [
    "((MAE_linear_svr_year/MAE_rbf_svr)-1)*100"
   ]
  },
  {
   "cell_type": "markdown",
   "metadata": {},
   "source": [
    "<font color='brown'>En el gráfico podemos ver el error de las predicciones del modelo linear_svr_year con respecto al valor real (Y_test). El MAE del modelo linear_svr_year es 0.004756083553141547, un 65.58% menor que el del modelo rbf_svr, que fue el mejor de los modelos con las features de latitud, longitud, altitud y habitantes, por lo que **el modelo linear_svr_year con las nuevas features predice mejor que el rbf_svr con las anteriores features**.\n",
    "    \n",
    "Vamos a comprobar si existe algún municipio cuyo valor sea la media o un valor cercano:  \n",
    "Vamos a comprobar el nivel de acierto o casi acierto del modelo teniendo en cuenta el mismo margen de error que en los modelos anteriores:</font>"
   ]
  },
  {
   "cell_type": "code",
   "execution_count": 99,
   "metadata": {},
   "outputs": [
    {
     "name": "stdout",
     "output_type": "stream",
     "text": [
      "El modelo linear_svr_year ha acertado la tasa de paro en: 0 municipios\n"
     ]
    }
   ],
   "source": [
    "aciertos_linear_svr_year=error_linear_svr_year==0\n",
    "print(\"El modelo linear_svr_year ha acertado la tasa de paro en:\",\n",
    "      error_linear_svr_year[aciertos_linear_svr_year].shape[0],\"municipios\")"
   ]
  },
  {
   "cell_type": "code",
   "execution_count": 100,
   "metadata": {},
   "outputs": [
    {
     "name": "stdout",
     "output_type": "stream",
     "text": [
      "El modelo linear_svr_year ha acertado la tasa de paro con un margen de error de 0.001 en: 451 municipios\n"
     ]
    }
   ],
   "source": [
    "casi_aciertos_linear_svr_year=error_linear_svr_year<0.001\n",
    "print(\"El modelo linear_svr_year ha acertado la tasa de paro con un margen de error de 0.001 en:\",\n",
    "      error_linear_svr_year[casi_aciertos_linear_svr_year].shape[0],\"municipios\")"
   ]
  },
  {
   "cell_type": "markdown",
   "metadata": {},
   "source": [
    "<font color='brown'>Al igual que en el resto de modelos, no ha acertado ninguna tasa de paro, si observamos, para el mismo margen de error usado en los anteriores modelos, el modelo linear_svr_year, con las nuevas features, ha estado cerca de predecir correctamente la tasa de paro en 451 municipios, frente a los 137 del modelo rbf_svr, que era el modelo con con las features anteriores que mayor acierto tuvo.</font>"
   ]
  },
  {
   "cell_type": "code",
   "execution_count": 101,
   "metadata": {},
   "outputs": [],
   "source": [
    "filename = './linear_svr_year_preds.html'\n",
    "_ = utils.generate_map(data=pd.concat([muns_population.loc[linear_svr_year_preds.index], linear_svr_year_preds], axis=1),\n",
    "                       lat_col=utils.LAT_FIELD, long_col=utils.LON_FIELD,\n",
    "                       unemploy_col=linear_svr_year_preds.name if linear_svr_year_preds.name is not None else 0,\n",
    "                       cmap=color_range, coms=coms, provs=provs,\n",
    "                       filename=filename)"
   ]
  },
  {
   "cell_type": "code",
   "execution_count": 102,
   "metadata": {},
   "outputs": [
    {
     "data": {
      "text/html": [
       "\n",
       "        <iframe\n",
       "            width=\"100%\"\n",
       "            height=\"550px\"\n",
       "            src=\"./linear_svr_year_preds.html\"\n",
       "            frameborder=\"0\"\n",
       "            allowfullscreen\n",
       "        ></iframe>\n",
       "        "
      ],
      "text/plain": [
       "<IPython.lib.display.IFrame at 0x2282d148>"
      ]
     },
     "execution_count": 102,
     "metadata": {},
     "output_type": "execute_result"
    }
   ],
   "source": [
    "IFrame(filename, width='100%', height='550px')"
   ]
  },
  {
   "cell_type": "markdown",
   "metadata": {},
   "source": [
    "<font color='brown'>**El parecido con el mapa de los valores reales es muy elevado, siendo difícil diferenciar ambos**. Se sigue observando una mayor tasa de paro hacía al sur del país, pero la predicción de la tasa de paro ya no es tan fuerte hacia el este y el oeste.</font>"
   ]
  },
  {
   "cell_type": "markdown",
   "metadata": {},
   "source": [
    "<table align=\"left\">\n",
    " <tr><td width=\"80\"><img src=\"img/question.png\" style=\"width:auto;height:auto\"></td><td style=\"text-align:left\">\n",
    "Explain what this new linear model is doing. Which do you think are the most relevant features now? Verify whether your intuition is correct or not.\n",
    " </td></tr>\n",
    "</table>"
   ]
  },
  {
   "cell_type": "markdown",
   "metadata": {},
   "source": [
    "<font color='brown'>El modelo, al igual que en el anterior modelo linear_svr, trata de determinar el hiperplano que mejor se ajuste a nuestras nuevas features, la tasa de paro anual desde 2006 hasta 2007.  \n",
    "Este plano sigue la siguiente función para cada feature:\n",
    "$y=wx+b+\\epsilon$, siendo w los coeficientes que indican la importancia de cada feature, en este caso tendremos una para cada año (2006 hasta 2017), b el intersecto y $\\epsilon$ el error propio del modelo al ser insensitive loss.<font>"
   ]
  },
  {
   "cell_type": "code",
   "execution_count": 103,
   "metadata": {
    "ExecuteTime": {
     "end_time": "2018-09-17T10:36:03.522004Z",
     "start_time": "2018-09-17T10:36:02.627258Z"
    }
   },
   "outputs": [],
   "source": [
    "mejor_modelo_linear_svr_year= gs_linear_svr_year.best_estimator_.named_steps[\"linear_svr_year\"]\n",
    "intercept_linear_svr_year= mejor_modelo_linear_svr_year.intercept_\n",
    "coeficiente_linear_svr_year= mejor_modelo_linear_svr_year.coef_\n",
    "features_linear_svr_year=X2_train.columns.tolist()\n",
    "tabla_coef_linear_svr_year=pd.DataFrame(coeficiente_linear_svr_year).T\n",
    "tabla_coef_linear_svr_year.columns=[features_linear_svr_year]"
   ]
  },
  {
   "cell_type": "code",
   "execution_count": 104,
   "metadata": {},
   "outputs": [
    {
     "name": "stdout",
     "output_type": "stream",
     "text": [
      "El intercepto es: [0.04720735]\n",
      "Los coeficientes son:\n"
     ]
    },
    {
     "data": {
      "text/html": [
       "<div>\n",
       "<style scoped>\n",
       "    .dataframe tbody tr th:only-of-type {\n",
       "        vertical-align: middle;\n",
       "    }\n",
       "\n",
       "    .dataframe tbody tr th {\n",
       "        vertical-align: top;\n",
       "    }\n",
       "\n",
       "    .dataframe thead tr th {\n",
       "        text-align: left;\n",
       "    }\n",
       "</style>\n",
       "<table border=\"1\" class=\"dataframe\">\n",
       "  <thead>\n",
       "    <tr>\n",
       "      <th></th>\n",
       "      <th>2006</th>\n",
       "      <th>2007</th>\n",
       "      <th>2008</th>\n",
       "      <th>2009</th>\n",
       "      <th>2010</th>\n",
       "      <th>2011</th>\n",
       "      <th>2012</th>\n",
       "      <th>2013</th>\n",
       "      <th>2014</th>\n",
       "      <th>2015</th>\n",
       "      <th>2016</th>\n",
       "      <th>2017</th>\n",
       "    </tr>\n",
       "  </thead>\n",
       "  <tbody>\n",
       "    <tr>\n",
       "      <th>0</th>\n",
       "      <td>-0.000903</td>\n",
       "      <td>0.000089</td>\n",
       "      <td>0.000672</td>\n",
       "      <td>-0.000487</td>\n",
       "      <td>0.000523</td>\n",
       "      <td>0.00057</td>\n",
       "      <td>0.000152</td>\n",
       "      <td>-0.00007</td>\n",
       "      <td>-0.000124</td>\n",
       "      <td>0.00191</td>\n",
       "      <td>-0.000533</td>\n",
       "      <td>0.026382</td>\n",
       "    </tr>\n",
       "  </tbody>\n",
       "</table>\n",
       "</div>"
      ],
      "text/plain": [
       "       2006      2007      2008      2009      2010     2011      2012  \\\n",
       "0 -0.000903  0.000089  0.000672 -0.000487  0.000523  0.00057  0.000152   \n",
       "\n",
       "      2013      2014     2015      2016      2017  \n",
       "0 -0.00007 -0.000124  0.00191 -0.000533  0.026382  "
      ]
     },
     "execution_count": 104,
     "metadata": {},
     "output_type": "execute_result"
    }
   ],
   "source": [
    "print(\"El intercepto es:\",intercept_linear_svr_year)\n",
    "print(\"Los coeficientes son:\")\n",
    "tabla_coef_linear_svr_year"
   ]
  },
  {
   "cell_type": "code",
   "execution_count": 105,
   "metadata": {},
   "outputs": [
    {
     "name": "stdout",
     "output_type": "stream",
     "text": [
      "La media de Y_train es: 0.04729103643639436\n",
      "El epsilon-insensitive es:  0.001\n"
     ]
    }
   ],
   "source": [
    "print(\"La media de Y_train es:\",stats.mean(Y_train))\n",
    "print(\"El epsilon-insensitive es: \", best_epsilon_linear_svr_year)"
   ]
  },
  {
   "cell_type": "markdown",
   "metadata": {},
   "source": [
    "<font color='brown'>Al igual que en el modelo linear_svr con las antiguas features, nuestro intersecto es muy cercano a la media de las predicciones, por el mismo motivo que comentamos anteriormente.\n",
    "\n",
    "Observamos que la feature que más esfecto tiene en el resultado es \"2017\", con una \"w\" positiva, es decir, provoca un descenso en el ratio de paro. Tiene sentido que sea la que tiene más importancia, ya que al ser la tasa de paro del año justo anterior, debería tener más influencia sobre la tasa de paro de 2018.  \n",
    "\n",
    "El resto de años con una \"w\" positiva, es decir, cuando aumentan hacen descender la tasa de paro predicha, son 2007, 2008, 2010, 2011, 2012 y 2015.\n",
    "    \n",
    "El resto de años tienen una \"w\" negativa, es decir, cuando estas se hacen cada vez más pequeñas, hacen aumentar la tasa de paro predicha. Teniendo en cuenta que durante 2008 se inició una crisis mundial, tiene sentido que durante el 2009 aumentara la tasa de paro, es decir, que provoque en nuestra predicción un aumento.  \n",
    "    \n",
    "Un caso curioso es el año 2006, dando el modelo la mayor influencia negativa, es decir, el menor \"w\", por lo que es la feature que más hace que la predicción aumente, sin embargo, este año se cerró como el que menos tasa de paro se registró en España desde 1979.</font>"
   ]
  },
  {
   "cell_type": "markdown",
   "metadata": {},
   "source": [
    "**See if a non-linear SVR can improve further**:"
   ]
  },
  {
   "cell_type": "markdown",
   "metadata": {},
   "source": [
    "<table align=\"left\">\n",
    " <tr><td width=\"80\"><img src=\"img/question.png\" style=\"width:auto;height:auto\"></td><td style=\"text-align:left\">\n",
    "     Tune a <b>non-linear SVR</b>, measure its score on test, plot its predictions and compare with the ones you got for the baseline non-linear SVR, and also with the ones you just obtained for the linear SVR. Is it worth now going from linear to non-linear?\n",
    " </td></tr>\n",
    "</table>"
   ]
  },
  {
   "cell_type": "code",
   "execution_count": 106,
   "metadata": {
    "ExecuteTime": {
     "end_time": "2018-09-17T10:45:16.305791Z",
     "start_time": "2018-09-17T10:37:47.730598Z"
    }
   },
   "outputs": [],
   "source": [
    "gammas_4= np.logspace(-5, 4, 10)\n",
    "Cs_4= np.logspace(-3, 0, 4)\n",
    "epsilons_4= np.logspace(-3, 0, 4)"
   ]
  },
  {
   "cell_type": "code",
   "execution_count": 107,
   "metadata": {},
   "outputs": [],
   "source": [
    "#Pipeline con tratamiento de datos y modelo:\n",
    "modelo4=Pipeline(steps=[(\"scaler\",StandardScaler()), (\"rbf_svr_year\", SVR(kernel=\"rbf\"))])\n",
    "\n",
    "#Grid de parámetros:\n",
    "grid_rbf_svr_year= {\"rbf_svr_year__C\": Cs_4,\n",
    "                    \"rbf_svr_year__gamma\": gammas_4,\n",
    "                    \"rbf_svr_year__epsilon\": epsilons_4}\n",
    "\n",
    "#Grid seach:\n",
    "gs_rbf_svr_year=GridSearchCV(modelo4,\n",
    "                             grid_rbf_svr_year,\n",
    "                             cv=5,\n",
    "                             scoring=\"r2\",\n",
    "                             verbose=1,\n",
    "                             n_jobs=-1)"
   ]
  },
  {
   "cell_type": "code",
   "execution_count": 108,
   "metadata": {},
   "outputs": [
    {
     "name": "stdout",
     "output_type": "stream",
     "text": [
      "Fitting 5 folds for each of 160 candidates, totalling 800 fits\n"
     ]
    },
    {
     "name": "stderr",
     "output_type": "stream",
     "text": [
      "[Parallel(n_jobs=-1)]: Using backend LokyBackend with 4 concurrent workers.\n",
      "[Parallel(n_jobs=-1)]: Done  42 tasks      | elapsed:   29.1s\n",
      "[Parallel(n_jobs=-1)]: Done 260 tasks      | elapsed:  1.7min\n",
      "[Parallel(n_jobs=-1)]: Done 624 tasks      | elapsed:  3.6min\n",
      "[Parallel(n_jobs=-1)]: Done 800 out of 800 | elapsed:  4.5min finished\n"
     ]
    },
    {
     "data": {
      "text/plain": [
       "GridSearchCV(cv=5, error_score=nan,\n",
       "             estimator=Pipeline(memory=None,\n",
       "                                steps=[('scaler',\n",
       "                                        StandardScaler(copy=True,\n",
       "                                                       with_mean=True,\n",
       "                                                       with_std=True)),\n",
       "                                       ('rbf_svr_year',\n",
       "                                        SVR(C=1.0, cache_size=200, coef0=0.0,\n",
       "                                            degree=3, epsilon=0.1,\n",
       "                                            gamma='scale', kernel='rbf',\n",
       "                                            max_iter=-1, shrinking=True,\n",
       "                                            tol=0.001, verbose=False))],\n",
       "                                verbose=False),\n",
       "             iid='deprecated', n_jobs=-1,\n",
       "             param_grid={'rbf_svr_year__C': array([0.001, 0.01 , 0.1  , 1.   ]),\n",
       "                         'rbf_svr_year__epsilon': array([0.001, 0.01 , 0.1  , 1.   ]),\n",
       "                         'rbf_svr_year__gamma': array([1.e-05, 1.e-04, 1.e-03, 1.e-02, 1.e-01, 1.e+00, 1.e+01, 1.e+02,\n",
       "       1.e+03, 1.e+04])},\n",
       "             pre_dispatch='2*n_jobs', refit=True, return_train_score=False,\n",
       "             scoring='r2', verbose=1)"
      ]
     },
     "execution_count": 108,
     "metadata": {},
     "output_type": "execute_result"
    }
   ],
   "source": [
    "gs_rbf_svr_year.fit(X2_train,Y_train)"
   ]
  },
  {
   "cell_type": "code",
   "execution_count": 109,
   "metadata": {},
   "outputs": [],
   "source": [
    "best_acc_rbf_svr_year=gs_rbf_svr_year.best_score_\n",
    "best_C_rbf_svr_year=gs_rbf_svr_year.best_params_[\"rbf_svr_year__C\"]\n",
    "best_epsilon_rbf_svr_year=gs_rbf_svr_year.best_params_[\"rbf_svr_year__epsilon\"]\n",
    "best_gamma_rbf_svr_year=gs_rbf_svr_year.best_params_[\"rbf_svr_year__gamma\"]\n",
    "best_model_rbf_svr_year=gs_rbf_svr_year.best_estimator_"
   ]
  },
  {
   "cell_type": "code",
   "execution_count": 110,
   "metadata": {},
   "outputs": [
    {
     "name": "stdout",
     "output_type": "stream",
     "text": [
      "Best C = 1.0\n",
      "Best Epsilon = 0.001\n",
      "Best Gamma = 0.001\n",
      "Best R^2 on train = 0.9351779036067682\n",
      "Best model = Pipeline(memory=None,\n",
      "         steps=[('scaler',\n",
      "                 StandardScaler(copy=True, with_mean=True, with_std=True)),\n",
      "                ('rbf_svr_year',\n",
      "                 SVR(C=1.0, cache_size=200, coef0=0.0, degree=3, epsilon=0.001,\n",
      "                     gamma=0.001, kernel='rbf', max_iter=-1, shrinking=True,\n",
      "                     tol=0.001, verbose=False))],\n",
      "         verbose=False)\n"
     ]
    }
   ],
   "source": [
    "print(\"Best C =\", str(best_C_rbf_svr_year))\n",
    "print(\"Best Epsilon =\", str(best_epsilon_rbf_svr_year))\n",
    "print(\"Best Gamma =\", str(best_gamma_rbf_svr_year))\n",
    "print(\"Best R^2 on train =\", str(best_acc_rbf_svr_year))\n",
    "print(\"Best model =\", str(best_model_rbf_svr_year))"
   ]
  },
  {
   "cell_type": "markdown",
   "metadata": {},
   "source": [
    "<font color='brown'>Los mejores hiperparámetros de nuestro modelo son:  \n",
    "- C = 1.0\n",
    "- epsilon = 0.001\n",
    "- gamma = 0.001\n",
    "- degree = 3\n",
    "- max_iter = -1\n",
    "- shrinking = True\n",
    "- tol = 0.001\n",
    "\n",
    "El mejor R^2 en train = 0.9351779036067682</font>"
   ]
  },
  {
   "cell_type": "code",
   "execution_count": 111,
   "metadata": {},
   "outputs": [],
   "source": [
    "rbf_svr_year_preds=best_model_rbf_svr_year.predict(X2_test)"
   ]
  },
  {
   "cell_type": "code",
   "execution_count": 112,
   "metadata": {},
   "outputs": [
    {
     "data": {
      "text/plain": [
       "com_aut             prov      mun                    \n",
       "Extremadura         Cáceres   Saucedilla                 0.177562\n",
       "Castilla León       Burgos    Palacios de Riopisuerga    0.173517\n",
       "Extremadura         Cáceres   Huélaga                    0.157211\n",
       "Andalucía           Cádiz     Arcos de la Frontera       0.151709\n",
       "Castilla La Mancha  Toledo    Velada                     0.141742\n",
       "                                                           ...   \n",
       "Castilla León       Soria     Tajahuerce                 0.000632\n",
       "                              Escobosa de Almazán        0.000298\n",
       "Castilla La Mancha  Cuenca    Vindel                     0.000260\n",
       "Castilla León       Burgos    Sequera de Haza, La        0.000205\n",
       "La Rioja            La Rioja  Villarroya                -0.000293\n",
       "Length: 2434, dtype: float64"
      ]
     },
     "execution_count": 112,
     "metadata": {},
     "output_type": "execute_result"
    }
   ],
   "source": [
    "rbf_svr_year_preds=pd.Series(data=rbf_svr_year_preds, index=X2_test.index)\n",
    "rbf_svr_year_preds.sort_values(0,ascending=False)"
   ]
  },
  {
   "cell_type": "code",
   "execution_count": 113,
   "metadata": {},
   "outputs": [
    {
     "name": "stdout",
     "output_type": "stream",
     "text": [
      "Best model score (R^2) = 0.9424182774111306\n"
     ]
    }
   ],
   "source": [
    "best_model_score_rbf_svr_year=best_model_rbf_svr_year.score(X2_test,Y_test)\n",
    "print(\"Best model score (R^2) =\", str(best_model_score_rbf_svr_year))"
   ]
  },
  {
   "cell_type": "code",
   "execution_count": 114,
   "metadata": {},
   "outputs": [
    {
     "data": {
      "text/plain": [
       "-0.7682760381358511"
      ]
     },
     "execution_count": 114,
     "metadata": {},
     "output_type": "execute_result"
    }
   ],
   "source": [
    "((best_acc_rbf_svr_year/best_model_score_rbf_svr_year)-1)*100"
   ]
  },
  {
   "cell_type": "markdown",
   "metadata": {},
   "source": [
    "<font color='brown'>Observamos que el score en train (0.9352) es ligeramente menor que el obtenido en test (0.9424), 0.77%, por lo que el modelo **no está sobreajustado ni subajustado**. **Este modelo con las features de paro anual es el que mejor realiza la predicción de entre todos los estudiados hasta el momento**.  \n",
    "Vamos a comprobar visualmente como predice el modelo linear_svr_year con las nuevas features, calculando el error absoluto entre las Y reales y las Y predichas por este modelo. También calcularemos el MAE (error absoluto medio) de este modelo:</font>"
   ]
  },
  {
   "cell_type": "code",
   "execution_count": 115,
   "metadata": {},
   "outputs": [
    {
     "data": {
      "image/png": "[encoded data removed]",
      "text/plain": [
       "<matplotlib.figure.Figure at 0x27669048>"
      ]
     },
     "metadata": {
      "needs_background": "light"
     },
     "output_type": "display_data"
    }
   ],
   "source": [
    "error_rbf_svr_year=abs(Y_test-rbf_svr_year_preds)\n",
    "plt.scatter(x=Y_test,y=error_rbf_svr_year);"
   ]
  },
  {
   "cell_type": "code",
   "execution_count": 116,
   "metadata": {},
   "outputs": [
    {
     "name": "stdout",
     "output_type": "stream",
     "text": [
      "El MAE del modelo rbf_svr_year es: 0.0047192586128071935\n"
     ]
    }
   ],
   "source": [
    "MAE_rbf_svr_year=MAE(y_true=Y_test,y_pred=rbf_svr_year_preds)\n",
    "print(\"El MAE del modelo rbf_svr_year es:\",MAE_rbf_svr_year)"
   ]
  },
  {
   "cell_type": "code",
   "execution_count": 117,
   "metadata": {},
   "outputs": [
    {
     "data": {
      "text/plain": [
       "-0.7742702566700954"
      ]
     },
     "execution_count": 117,
     "metadata": {},
     "output_type": "execute_result"
    }
   ],
   "source": [
    "((MAE_rbf_svr_year/MAE_linear_svr_year)-1)*100"
   ]
  },
  {
   "cell_type": "markdown",
   "metadata": {},
   "source": [
    "<font color='brown'>En el gráfico podemos ver el error absoluto de las predicciones del modelo rbf_svr_year con respecto al valor real (Y_test). El MAE del modelo rbf_svr_year es 0.0047192586128071935, un 0.77% menor que el del modelo linear_svr_year, que era el mejor de los modelos hasta ahora, por lo que **el modelo rbf_svr_year con las features de tasa de paro anual, predice mejor que el resto de modelos, aunque sólo levemente con respecto el modelo linear_svr_year que también utiliza las features de tasa de paro anual**.\n",
    "    \n",
    "Vamos a comprobar si existe algún municipio cuyo valor sea la media o un valor cercano:  \n",
    "Vamos a comprobar el nivel de acierto o casi acierto del modelo teniendo en cuenta el mismo margen de error que en los modelos anteriores:</font>"
   ]
  },
  {
   "cell_type": "code",
   "execution_count": 118,
   "metadata": {},
   "outputs": [
    {
     "name": "stdout",
     "output_type": "stream",
     "text": [
      "El modelo linear_svr_year ha acertado la tasa de paro en: 0 municipios\n"
     ]
    }
   ],
   "source": [
    "aciertos_rbf_svr_year=error_rbf_svr_year==0\n",
    "print(\"El modelo linear_svr_year ha acertado la tasa de paro en:\",\n",
    "      error_rbf_svr_year[aciertos_rbf_svr_year].shape[0],\"municipios\")"
   ]
  },
  {
   "cell_type": "code",
   "execution_count": 119,
   "metadata": {},
   "outputs": [
    {
     "name": "stdout",
     "output_type": "stream",
     "text": [
      "El modelo rbf_svr ha acertado la tasa de paro con un margen de error de 0.001 en: 454 municipios\n"
     ]
    }
   ],
   "source": [
    "casi_aciertos_rbf_svr_year=error_rbf_svr_year<0.001\n",
    "print(\"El modelo rbf_svr ha acertado la tasa de paro con un margen de error de 0.001 en:\",\n",
    "      error_rbf_svr_year[casi_aciertos_rbf_svr_year].shape[0],\"municipios\")"
   ]
  },
  {
   "cell_type": "markdown",
   "metadata": {},
   "source": [
    "<font color='brown'>Al igual que en el resto de modelos, no ha acertado ninguna tasa de paro, sin embargo, para el mismo margen de error usado en los anteriores modelos, el modelo rbf_svr_year, con las features de ratio anual, ha estado cerca de predecir correctamente la tasa de paro en 454 municipios, frente a los 451 del modelo linear_svr_year, que era el modelo con más aciertos hasta el momento.</font>"
   ]
  },
  {
   "cell_type": "code",
   "execution_count": 120,
   "metadata": {},
   "outputs": [],
   "source": [
    "filename = './rbf_svr_year_preds.html'\n",
    "_ = utils.generate_map(data=pd.concat([muns_population.loc[rbf_svr_year_preds.index], rbf_svr_year_preds], axis=1),\n",
    "                       lat_col=utils.LAT_FIELD, long_col=utils.LON_FIELD,\n",
    "                       unemploy_col=rbf_svr_year_preds.name if rbf_svr_year_preds.name is not None else 0,\n",
    "                       cmap=color_range, coms=coms, provs=provs,\n",
    "                       filename=filename)"
   ]
  },
  {
   "cell_type": "code",
   "execution_count": 121,
   "metadata": {},
   "outputs": [
    {
     "data": {
      "text/html": [
       "\n",
       "        <iframe\n",
       "            width=\"100%\"\n",
       "            height=\"550px\"\n",
       "            src=\"./rbf_svr_year_preds.html\"\n",
       "            frameborder=\"0\"\n",
       "            allowfullscreen\n",
       "        ></iframe>\n",
       "        "
      ],
      "text/plain": [
       "<IPython.lib.display.IFrame at 0x2761a248>"
      ]
     },
     "execution_count": 121,
     "metadata": {},
     "output_type": "execute_result"
    }
   ],
   "source": [
    "IFrame(filename, width='100%', height='550px')"
   ]
  },
  {
   "cell_type": "markdown",
   "metadata": {},
   "source": [
    "<font color='brown'>**Al igual que con el modelo anterior (linear_svr_year), son imperceptibles las diferencias con el mapa de los valores reales**.</font>"
   ]
  },
  {
   "cell_type": "markdown",
   "metadata": {},
   "source": [
    "<table align=\"left\">\n",
    " <tr><td width=\"80\"><img src=\"img/pro.png\" style=\"width:auto;height:auto\"></td><td style=\"text-align:left\">\n",
    "Try to explain the behavior of the new non-linear model obtained.\n",
    "</table>"
   ]
  },
  {
   "cell_type": "markdown",
   "metadata": {},
   "source": [
    "<font color='brown'>NaN</font>"
   ]
  },
  {
   "cell_type": "markdown",
   "metadata": {
    "ExecuteTime": {
     "end_time": "2018-09-17T11:15:20.900078Z",
     "start_time": "2018-09-17T11:15:20.891429Z"
    }
   },
   "source": [
    "## 4. Summary"
   ]
  },
  {
   "cell_type": "markdown",
   "metadata": {},
   "source": [
    "<table align=\"left\">\n",
    " <tr><td width=\"80\"><img src=\"img/question.png\" style=\"width:auto;height:auto\"></td><td style=\"text-align:left\">\n",
    "Summarise the results obtained. There should be 5 models to compare:\n",
    "<ol>\n",
    "    <li> Dummy baseline.</li>\n",
    "    <li> Municipality characteristics (linear and non-linear).</li>\n",
    "    <li> Unemployment history 2006-2017 (linear and non-linear).</li>\n",
    "</ol>\n",
    "Which model would you choose if you had to go into production? Why?\n",
    " </td></tr>\n",
    "</table>"
   ]
  },
  {
   "cell_type": "code",
   "execution_count": 122,
   "metadata": {},
   "outputs": [],
   "source": [
    "features_summary=[\"Zero\",\"Geográficas\",\"Geográficas\",\"Tasa anual\",\"Tasa anual\"]\n",
    "\n",
    "modelos=[\"dummy\",\"linear_svr\",\"rbf_svr\",\"linear_svr_year\",\"rbf_svr_year\"]\n",
    "\n",
    "R2_train=[dummy.score(X_train_zeros, Y_train),\n",
    "          best_acc_linear_svr,\n",
    "          best_acc_rbf_svr,\n",
    "          best_acc_linear_svr_year,\n",
    "          best_acc_rbf_svr_year]\n",
    "\n",
    "R2_score=[dummy.score(X_test_zeros, Y_test),\n",
    "          best_model_score_linear_svr,\n",
    "          best_model_score_rbf_svr,\n",
    "          best_model_score_linear_svr_year,\n",
    "          best_model_score_rbf_svr_year]\n",
    "\n",
    "MAE_=[MAE_dummy,\n",
    "      MAE_linear_svr,\n",
    "      MAE_rbf_svr,\n",
    "      MAE_linear_svr_year,\n",
    "      MAE_rbf_svr_year]\n",
    "\n",
    "Casi_Aciertos=[error_dummy[casi_aciertos_dummy].shape[0],\n",
    "               error_linear_svr[casi_aciertos_linear_svr].shape[0],\n",
    "               error_rbf_svr[casi_aciertos_rbf_svr].shape[0],\n",
    "               error_linear_svr_year[casi_aciertos_linear_svr_year].shape[0],\n",
    "               error_rbf_svr_year[casi_aciertos_rbf_svr_year].shape[0]]\n",
    "\n",
    "Sumatorio_mean_fit_time=[0,\n",
    "                         sum(gs_linear_svr.cv_results_[\"mean_fit_time\"]),\n",
    "                         sum(gs_rbf_svr.cv_results_[\"mean_fit_time\"]),\n",
    "                         sum(gs_linear_svr_year.cv_results_[\"mean_fit_time\"]),\n",
    "                         sum(gs_rbf_svr_year.cv_results_[\"mean_fit_time\"])]"
   ]
  },
  {
   "cell_type": "code",
   "execution_count": 123,
   "metadata": {},
   "outputs": [
    {
     "data": {
      "text/html": [
       "<div>\n",
       "<style scoped>\n",
       "    .dataframe tbody tr th:only-of-type {\n",
       "        vertical-align: middle;\n",
       "    }\n",
       "\n",
       "    .dataframe tbody tr th {\n",
       "        vertical-align: top;\n",
       "    }\n",
       "\n",
       "    .dataframe thead th {\n",
       "        text-align: right;\n",
       "    }\n",
       "</style>\n",
       "<table border=\"1\" class=\"dataframe\">\n",
       "  <thead>\n",
       "    <tr style=\"text-align: right;\">\n",
       "      <th></th>\n",
       "      <th>Features</th>\n",
       "      <th>Modelo</th>\n",
       "      <th>R^2_train</th>\n",
       "      <th>R^2_score</th>\n",
       "      <th>MAE</th>\n",
       "      <th>Casi Aciertos</th>\n",
       "      <th>Sumatorio_mean_fit_time</th>\n",
       "    </tr>\n",
       "  </thead>\n",
       "  <tbody>\n",
       "    <tr>\n",
       "      <th>4</th>\n",
       "      <td>Tasa anual</td>\n",
       "      <td>rbf_svr_year</td>\n",
       "      <td>0.935178</td>\n",
       "      <td>0.942418</td>\n",
       "      <td>0.004719</td>\n",
       "      <td>454</td>\n",
       "      <td>186.525666</td>\n",
       "    </tr>\n",
       "    <tr>\n",
       "      <th>3</th>\n",
       "      <td>Tasa anual</td>\n",
       "      <td>linear_svr_year</td>\n",
       "      <td>0.934120</td>\n",
       "      <td>0.941567</td>\n",
       "      <td>0.004756</td>\n",
       "      <td>451</td>\n",
       "      <td>50.823909</td>\n",
       "    </tr>\n",
       "    <tr>\n",
       "      <th>2</th>\n",
       "      <td>Geográficas</td>\n",
       "      <td>rbf_svr</td>\n",
       "      <td>0.568955</td>\n",
       "      <td>0.582518</td>\n",
       "      <td>0.013817</td>\n",
       "      <td>137</td>\n",
       "      <td>189.106016</td>\n",
       "    </tr>\n",
       "    <tr>\n",
       "      <th>1</th>\n",
       "      <td>Geográficas</td>\n",
       "      <td>linear_svr</td>\n",
       "      <td>0.345774</td>\n",
       "      <td>0.275306</td>\n",
       "      <td>0.017809</td>\n",
       "      <td>83</td>\n",
       "      <td>30.245530</td>\n",
       "    </tr>\n",
       "    <tr>\n",
       "      <th>0</th>\n",
       "      <td>Zero</td>\n",
       "      <td>dummy</td>\n",
       "      <td>0.000000</td>\n",
       "      <td>-0.000912</td>\n",
       "      <td>0.022956</td>\n",
       "      <td>79</td>\n",
       "      <td>0.000000</td>\n",
       "    </tr>\n",
       "  </tbody>\n",
       "</table>\n",
       "</div>"
      ],
      "text/plain": [
       "      Features           Modelo  R^2_train  R^2_score       MAE  \\\n",
       "4   Tasa anual     rbf_svr_year   0.935178   0.942418  0.004719   \n",
       "3   Tasa anual  linear_svr_year   0.934120   0.941567  0.004756   \n",
       "2  Geográficas          rbf_svr   0.568955   0.582518  0.013817   \n",
       "1  Geográficas       linear_svr   0.345774   0.275306  0.017809   \n",
       "0         Zero            dummy   0.000000  -0.000912  0.022956   \n",
       "\n",
       "   Casi Aciertos  Sumatorio_mean_fit_time  \n",
       "4            454               186.525666  \n",
       "3            451                50.823909  \n",
       "2            137               189.106016  \n",
       "1             83                30.245530  \n",
       "0             79                 0.000000  "
      ]
     },
     "execution_count": 123,
     "metadata": {},
     "output_type": "execute_result"
    }
   ],
   "source": [
    "Summary=pd.DataFrame({\"Features\":features_summary,\n",
    "                      \"Modelo\":modelos,\n",
    "                      \"R^2_train\":R2_train,\n",
    "                      \"R^2_score\":R2_score,\n",
    "                      \"MAE\":MAE_,\n",
    "                      \"Casi Aciertos\":Casi_Aciertos,\n",
    "                      \"Sumatorio_mean_fit_time\":Sumatorio_mean_fit_time})\n",
    "\n",
    "Summary.sort_values(by='R^2_score', ascending=False)"
   ]
  },
  {
   "cell_type": "markdown",
   "metadata": {},
   "source": [
    "<font color='brown'>Como vemos en el dataframe \"Summary\", **las features que mejor han conseguido entrenar nuestros modelos han sido las tasas anuales de paro**, si nos atenemos sólo al tipo de modelo **el mejor modelo ha sido el no lineal (rbf)**.  \n",
    "    De entre todos los modelos, **el que mejor scoring ha obtenido ha sido rbf_svr_year**, tanto en train, como en test, MAE y en el número de aciertos. Sin embargo, **a la hora de llevar a producción elegiría el modelo linear_svr_year**, que también entrena con las features de ratio de paro anuales, ya que es un modelo con unos **scoring casi idénticos al no lineal**, sin embargo es **mucho más simple**, **tarda menos en entrenar** y es un **modelo más fácil de entender** en caso de tener que llevarlo a cliente.</font>"
   ]
  },
  {
   "cell_type": "markdown",
   "metadata": {},
   "source": []
  },
  {
   "cell_type": "markdown",
   "metadata": {},
   "source": [
    "## 5. Bonus round"
   ]
  },
  {
   "cell_type": "markdown",
   "metadata": {},
   "source": [
    "<table align=\"left\">\n",
    " <tr><td width=\"80\"><img src=\"img/pro.png\" style=\"width:auto;height:auto\"></td><td style=\"text-align:left\">\n",
    "Explore further how we can generate even better predictions. The following are possible lines:\n",
    "<ul>\n",
    "    <li>Combining variables from municipalities and past unemployment rates (i.e., merging <i>X</i> and <i>X2</i>).</li>\n",
    "<li>Using the original monthly data instead of yearly means.</li>\n",
    "<li>Downloading and using additional data (economical, meteorological...) from other sources.</li>\n",
    "</ul>\n",
    "Feel free to edit this notebook from now on explaining your approach.\n",
    " </td></tr>\n",
    "</table>"
   ]
  },
  {
   "cell_type": "markdown",
   "metadata": {},
   "source": [
    "<table align=\"left\">\n",
    " <tr><td width=\"80\"><img src=\"img/pro.png\" style=\"width:auto;height:auto\"></td><td style=\"text-align:left\">\n",
    "Imagine that instead of predicting the mean unemployment rate for 2018 you were asked to predict monthly unemployment rates for 2018. In other words, you would like to predict for January 2018, then for February 2018, and so on till December 2018.\n",
    "\n",
    "Explain how you would tackle this problem with the data available. Extra points if you implement your proposal and show how it works in practice. Feel free to edit this notebook from now on explaining your approach.\n",
    " </td></tr>\n",
    "</table>"
   ]
  }
 ],
 "metadata": {
  "anaconda-cloud": {},
  "hide_input": false,
  "kernelspec": {
   "display_name": "Python 3",
   "language": "python",
   "name": "python3"
  },
  "language_info": {
   "codemirror_mode": {
    "name": "ipython",
    "version": 3
   },
   "file_extension": ".py",
   "mimetype": "text/x-python",
   "name": "python",
   "nbconvert_exporter": "python",
   "pygments_lexer": "ipython3",
   "version": "3.6.10"
  },
  "toc": {
   "base_numbering": 1,
   "nav_menu": {},
   "number_sections": true,
   "sideBar": true,
   "skip_h1_title": false,
   "title_cell": "Table of Contents",
   "title_sidebar": "Contents",
   "toc_cell": false,
   "toc_position": {},
   "toc_section_display": true,
   "toc_window_display": false
  }
 },
 "nbformat": 4,
 "nbformat_minor": 1
}
