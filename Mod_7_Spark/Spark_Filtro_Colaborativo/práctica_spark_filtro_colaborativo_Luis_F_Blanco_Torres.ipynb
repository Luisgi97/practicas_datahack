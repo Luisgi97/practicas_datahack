{
 "cells": [
  {
   "cell_type": "markdown",
   "metadata": {
    "colab_type": "text",
    "id": "cimB1bwDRH9D"
   },
   "source": [
    "<center><img src='https://www.datahack.es/wp-content/uploads/2020/02/logo-home.png' width=\"500\"></center>"
   ]
  },
  {
   "cell_type": "markdown",
   "metadata": {
    "colab_type": "text",
    "id": "HpWaxZlpRH9G"
   },
   "source": [
    "# Ejercicio de algoritmo de filtro colaborativo 3 PUNTOS <font color=\"Grey\"> Luis Blanco\n",
    "\n",
    "\n",
    "El objetivo de este ejercicio es generar un algoritmo de filtro colaborativo con los datos del dataset beer_review. La información se corresponde con la reviews de la web https://www.beeradvocate.com/"
   ]
  },
  {
   "cell_type": "markdown",
   "metadata": {
    "colab_type": "text",
    "id": "resTFpAbRH9H"
   },
   "source": [
    "<center><img src='https://www.pngitem.com/pimgs/m/39-394080_beer-advocate-hd-png-download.png' width=600 ></center>"
   ]
  },
  {
   "cell_type": "markdown",
   "metadata": {
    "colab_type": "text",
    "id": "VoDsTbAnRH9I"
   },
   "source": [
    "## Información\n",
    "\n",
    "Este dataset consiste en revisiones de cerveza de Beeradvocate. Los datos abarcan un período de más de 10 años, que incluye todas ~ 1.5 millones de revisiones hasta noviembre de 2011. Cada revisión incluye calificaciones en términos de cinco \"aspectos\": apariencia, aroma, paladar, sabor e impresión general. Las revisiones incluyen información del producto y del usuario, seguida de cada una de estas cinco clasificaciones, y una revisión en formato texto. \n",
    "\n",
    "Para nuestro ejercicio vamos a usar una versión reducida de este dataset, que contiene las reviews de aquellos usuarios que han valorado al menos 50 cervezas."
   ]
  },
  {
   "cell_type": "markdown",
   "metadata": {
    "colab_type": "text",
    "id": "ztyeY-kYRH9J"
   },
   "source": [
    "## Pasos a seguir\n",
    "\n",
    "1. Descarga la información de beeradvocate en una carpeta que se llame `datos_ejercicios/beeradvocate`.\n",
    "\n",
    "2. Lee el fichero `beer_reviews_50.csv` y crea dos datasets:\n",
    "    - uno con las reviews de los usuarios.\n",
    "    - otro con la información de la cerveza (brewery, beer_name, beerid...)\n",
    "    \n",
    "\n",
    "3. Aplica el algoritmo ALS, fijando manualmente los parámetros.\n",
    "\n",
    "4. Realiza una tunning de los hiperparámetros y mide las mejoras, en caso de hacerlas. \n",
    "\n",
    "5. Crea una función que dado un usuario nos devuelva el top 10 de recomendaciones. Se valora la creatividad.\n",
    "\n",
    "6. Descarga el ipynb, conviertelo a html y esos serán tus documentos de evaluación."
   ]
  },
  {
   "cell_type": "markdown",
   "metadata": {
    "colab_type": "text",
    "id": "LiKjKiqnTJVC"
   },
   "source": [
    "# <font color=\"grey\">0. Instalaciones y librerías:"
   ]
  },
  {
   "cell_type": "code",
   "execution_count": 0,
   "metadata": {
    "colab": {
     "base_uri": "https://localhost:8080/",
     "height": 34
    },
    "colab_type": "code",
    "executionInfo": {
     "elapsed": 2062,
     "status": "ok",
     "timestamp": 1587350154369,
     "user": {
      "displayName": "Luis Blanco",
      "photoUrl": "https://lh3.googleusercontent.com/a-/AOh14Gg1BCQJfHT2P42mM1KkjEShxXP7ik2JKApJloXCcg=s64",
      "userId": "08327929932520946832"
     },
     "user_tz": -120
    },
    "id": "-N71CocRRH9L",
    "outputId": "fca597b8-9a62-4a2a-d119-f0404a9d7190"
   },
   "outputs": [
    {
     "name": "stdout",
     "output_type": "stream",
     "text": [
      "Drive already mounted at /content/drive; to attempt to forcibly remount, call drive.mount(\"/content/drive\", force_remount=True).\n"
     ]
    }
   ],
   "source": [
    "from google.colab import drive\n",
    "drive.mount('/content/drive')"
   ]
  },
  {
   "cell_type": "markdown",
   "metadata": {
    "colab_type": "text",
    "id": "mynqGhxITP_0"
   },
   "source": [
    "<font color=\"grey\"> Instalación de Spark, Findspark y Pyspark."
   ]
  },
  {
   "cell_type": "code",
   "execution_count": 0,
   "metadata": {
    "colab": {
     "base_uri": "https://localhost:8080/",
     "height": 51
    },
    "colab_type": "code",
    "executionInfo": {
     "elapsed": 18841,
     "status": "ok",
     "timestamp": 1587350171159,
     "user": {
      "displayName": "Luis Blanco",
      "photoUrl": "https://lh3.googleusercontent.com/a-/AOh14Gg1BCQJfHT2P42mM1KkjEShxXP7ik2JKApJloXCcg=s64",
      "userId": "08327929932520946832"
     },
     "user_tz": -120
    },
    "id": "aD--38PlTNKZ",
    "outputId": "4b47a20a-7e25-48ec-d28d-80319fb0dd0e"
   },
   "outputs": [
    {
     "name": "stdout",
     "output_type": "stream",
     "text": [
      "Requirement already satisfied: pyspark in /usr/local/lib/python3.6/dist-packages (2.4.5)\n",
      "Requirement already satisfied: py4j==0.10.7 in /usr/local/lib/python3.6/dist-packages (from pyspark) (0.10.7)\n"
     ]
    }
   ],
   "source": [
    "#!apt-get install openjdk-8-jdk-headless -qq > /dev/null\n",
    "!wget -q http://apache.osuosl.org/spark/spark-2.4.5/spark-2.4.5-bin-hadoop2.7.tgz\n",
    "!tar xf spark-2.4.5-bin-hadoop2.7.tgz\n",
    "!pip install -q findspark\n",
    "!pip install pyspark"
   ]
  },
  {
   "cell_type": "markdown",
   "metadata": {
    "colab_type": "text",
    "id": "siqDz_JPVHNC"
   },
   "source": [
    "<font color=\"Grey\">Creación de la Sesión Spark \"ejercicio_filtro_colaborativo\"."
   ]
  },
  {
   "cell_type": "code",
   "execution_count": 0,
   "metadata": {
    "colab": {},
    "colab_type": "code",
    "id": "Uj4b0ybOVXZb"
   },
   "outputs": [],
   "source": [
    "# Set up required environment variables\n",
    "import os\n",
    "os.environ[\"JAVA_HOME\"] = \"/usr/lib/jvm/java-8-openjdk-amd64\"\n",
    "os.environ[\"SPARK_HOME\"] = \"/content/spark-2.4.5-bin-hadoop2.7\"\n",
    "from pyspark import SparkContext\n",
    "from pyspark.sql import SparkSession\n",
    "spark = SparkSession.builder.appName(\"ejercicio_filtro_colaborativo\").master(\"local[*]\").getOrCreate()"
   ]
  },
  {
   "cell_type": "markdown",
   "metadata": {
    "colab_type": "text",
    "id": "ED5r09pvVZnS"
   },
   "source": [
    "<font color=\"Grey\">Instalación y carga de librerías:"
   ]
  },
  {
   "cell_type": "code",
   "execution_count": 0,
   "metadata": {
    "colab": {},
    "colab_type": "code",
    "id": "z6dxAK6NVBhW"
   },
   "outputs": [],
   "source": [
    "#Carga de datos de la web, no lo usamos en esta práctica (ejemplo):\n",
    "#!pip install wget \n",
    "#import wget\n",
    "\n",
    "#Tratamiento de datos:\n",
    "import pandas as pd\n",
    "import numpy as np\n",
    "import pyspark.sql.functions as F\n",
    "import pyspark.sql.types as T\n",
    "import re\n",
    "from pyspark.ml.feature import StringIndexer, IndexToString\n",
    "\n",
    "#Dibujo de tablas y gráficos:\n",
    "pd.set_option('display.max_rows', 50) #max 50 rows out\n",
    "\n",
    "#Modelo de Filtro Colaborativo:\n",
    "from pyspark.ml.recommendation import ALS\n",
    "\n",
    "#Evaluadores y métricas:\n",
    "from pyspark.ml.evaluation import RegressionEvaluator\n",
    "\n",
    "#Mejora de Entrenamiento y Modelos:\n",
    "from pyspark.ml.tuning import CrossValidator, ParamGridBuilder\n",
    "\n",
    "#Variable con el valor de la semilla cuando sea necesaria:\n",
    "random_state=23 "
   ]
  },
  {
   "cell_type": "markdown",
   "metadata": {
    "colab_type": "text",
    "id": "zNilyN-7U-dl"
   },
   "source": [
    "# <font color=\"grey\">1. Descarga la información de beeradvocate en una carpeta que se llame `datos_ejercicios/beeradvocate`."
   ]
  },
  {
   "cell_type": "markdown",
   "metadata": {
    "colab_type": "text",
    "id": "lqaA0PmqVm_M"
   },
   "source": [
    "<font color=\"grey\">Nosotros ya tenemos los datos de beer_reviews_50.csv descargados y subidos a drive para poder usarlo en Google Colab.  \n",
    "Un ejemplo de descarga sería el siguiente:"
   ]
  },
  {
   "cell_type": "code",
   "execution_count": 0,
   "metadata": {
    "colab": {},
    "colab_type": "code",
    "id": "IVeeAit6Tjmf"
   },
   "outputs": [],
   "source": [
    "#url= \"path\"\n",
    "#wget.download(url, \"/content/drive/My Drive/Colab Notebooks/Práctica Spark/datos_ejercicios/beeradvocate\")"
   ]
  },
  {
   "cell_type": "markdown",
   "metadata": {
    "colab_type": "text",
    "id": "1QZ3Jq2KUJwc"
   },
   "source": [
    "# <font color=\"grey\">2. Lee el fichero beer_reviews_50.csv y crea dos datasets:\n",
    "\n",
    "- <font color=\"grey\">uno con las reviews de los usuarios.</font>\n",
    "\n",
    "- <font color=\"grey\">otro con la información de la cerveza (brewery, beer_name, beerid...)"
   ]
  },
  {
   "cell_type": "code",
   "execution_count": 0,
   "metadata": {
    "colab": {},
    "colab_type": "code",
    "id": "r_ABww0TUNr7"
   },
   "outputs": [],
   "source": [
    "df = spark.read.csv(\"/content/drive/My Drive/Colab Notebooks/Práctica Spark/datos_ejercicios/beeradvocate/beer_reviews_50.csv\",\n",
    "                    header=True, inferSchema = True).cache()"
   ]
  },
  {
   "cell_type": "code",
   "execution_count": 0,
   "metadata": {
    "colab": {
     "base_uri": "https://localhost:8080/",
     "height": 643
    },
    "colab_type": "code",
    "executionInfo": {
     "elapsed": 39059,
     "status": "ok",
     "timestamp": 1587350191599,
     "user": {
      "displayName": "Luis Blanco",
      "photoUrl": "https://lh3.googleusercontent.com/a-/AOh14Gg1BCQJfHT2P42mM1KkjEShxXP7ik2JKApJloXCcg=s64",
      "userId": "08327929932520946832"
     },
     "user_tz": -120
    },
    "id": "FD5rWa_gUsMW",
    "outputId": "a55b9d57-a279-430e-ec3e-9861ce060bec"
   },
   "outputs": [
    {
     "data": {
      "text/html": [
       "<div>\n",
       "<style scoped>\n",
       "    .dataframe tbody tr th:only-of-type {\n",
       "        vertical-align: middle;\n",
       "    }\n",
       "\n",
       "    .dataframe tbody tr th {\n",
       "        vertical-align: top;\n",
       "    }\n",
       "\n",
       "    .dataframe thead th {\n",
       "        text-align: right;\n",
       "    }\n",
       "</style>\n",
       "<table border=\"1\" class=\"dataframe\">\n",
       "  <thead>\n",
       "    <tr style=\"text-align: right;\">\n",
       "      <th></th>\n",
       "      <th>brewery_id</th>\n",
       "      <th>brewery_name</th>\n",
       "      <th>review_time</th>\n",
       "      <th>review_overall</th>\n",
       "      <th>review_aroma</th>\n",
       "      <th>review_appearance</th>\n",
       "      <th>review_profilename</th>\n",
       "      <th>beer_style</th>\n",
       "      <th>review_palate</th>\n",
       "      <th>review_taste</th>\n",
       "      <th>beer_name</th>\n",
       "      <th>beer_abv</th>\n",
       "      <th>beer_beerid</th>\n",
       "    </tr>\n",
       "  </thead>\n",
       "  <tbody>\n",
       "    <tr>\n",
       "      <th>0</th>\n",
       "      <td>10325</td>\n",
       "      <td>Vecchio Birraio</td>\n",
       "      <td>1234817823</td>\n",
       "      <td>1.5</td>\n",
       "      <td>2.0</td>\n",
       "      <td>2.5</td>\n",
       "      <td>stcules</td>\n",
       "      <td>Hefeweizen</td>\n",
       "      <td>1.5</td>\n",
       "      <td>1.5</td>\n",
       "      <td>Sausa Weizen</td>\n",
       "      <td>5.0</td>\n",
       "      <td>47986.0</td>\n",
       "    </tr>\n",
       "    <tr>\n",
       "      <th>1</th>\n",
       "      <td>10325</td>\n",
       "      <td>Vecchio Birraio</td>\n",
       "      <td>1235915097</td>\n",
       "      <td>3.0</td>\n",
       "      <td>2.5</td>\n",
       "      <td>3.0</td>\n",
       "      <td>stcules</td>\n",
       "      <td>English Strong Ale</td>\n",
       "      <td>3.0</td>\n",
       "      <td>3.0</td>\n",
       "      <td>Red Moon</td>\n",
       "      <td>6.2</td>\n",
       "      <td>48213.0</td>\n",
       "    </tr>\n",
       "    <tr>\n",
       "      <th>2</th>\n",
       "      <td>10325</td>\n",
       "      <td>Vecchio Birraio</td>\n",
       "      <td>1235916604</td>\n",
       "      <td>3.0</td>\n",
       "      <td>2.5</td>\n",
       "      <td>3.0</td>\n",
       "      <td>stcules</td>\n",
       "      <td>Foreign / Export Stout</td>\n",
       "      <td>3.0</td>\n",
       "      <td>3.0</td>\n",
       "      <td>Black Horse Black Beer</td>\n",
       "      <td>6.5</td>\n",
       "      <td>48215.0</td>\n",
       "    </tr>\n",
       "    <tr>\n",
       "      <th>3</th>\n",
       "      <td>10325</td>\n",
       "      <td>Vecchio Birraio</td>\n",
       "      <td>1234725145</td>\n",
       "      <td>3.0</td>\n",
       "      <td>3.0</td>\n",
       "      <td>3.5</td>\n",
       "      <td>stcules</td>\n",
       "      <td>German Pilsener</td>\n",
       "      <td>2.5</td>\n",
       "      <td>3.0</td>\n",
       "      <td>Sausa Pils</td>\n",
       "      <td>5.0</td>\n",
       "      <td>47969.0</td>\n",
       "    </tr>\n",
       "    <tr>\n",
       "      <th>4</th>\n",
       "      <td>1075</td>\n",
       "      <td>Caldera Brewing Company</td>\n",
       "      <td>1293735206</td>\n",
       "      <td>4.0</td>\n",
       "      <td>4.5</td>\n",
       "      <td>4.0</td>\n",
       "      <td>johnmichaelsen</td>\n",
       "      <td>American Double / Imperial IPA</td>\n",
       "      <td>4.0</td>\n",
       "      <td>4.5</td>\n",
       "      <td>Cauldron DIPA</td>\n",
       "      <td>7.7</td>\n",
       "      <td>64883.0</td>\n",
       "    </tr>\n",
       "    <tr>\n",
       "      <th>...</th>\n",
       "      <td>...</td>\n",
       "      <td>...</td>\n",
       "      <td>...</td>\n",
       "      <td>...</td>\n",
       "      <td>...</td>\n",
       "      <td>...</td>\n",
       "      <td>...</td>\n",
       "      <td>...</td>\n",
       "      <td>...</td>\n",
       "      <td>...</td>\n",
       "      <td>...</td>\n",
       "      <td>...</td>\n",
       "      <td>...</td>\n",
       "    </tr>\n",
       "    <tr>\n",
       "      <th>256591</th>\n",
       "      <td>870</td>\n",
       "      <td>Moylan's Brewery</td>\n",
       "      <td>1231487618</td>\n",
       "      <td>4.5</td>\n",
       "      <td>4.0</td>\n",
       "      <td>3.5</td>\n",
       "      <td>Jmoore50</td>\n",
       "      <td>American IPA</td>\n",
       "      <td>4.0</td>\n",
       "      <td>4.5</td>\n",
       "      <td>India Pale Ale</td>\n",
       "      <td>6.5</td>\n",
       "      <td>3064.0</td>\n",
       "    </tr>\n",
       "    <tr>\n",
       "      <th>256592</th>\n",
       "      <td>870</td>\n",
       "      <td>Moylan's Brewery</td>\n",
       "      <td>1231184213</td>\n",
       "      <td>4.0</td>\n",
       "      <td>3.5</td>\n",
       "      <td>4.0</td>\n",
       "      <td>kmeves</td>\n",
       "      <td>American IPA</td>\n",
       "      <td>3.0</td>\n",
       "      <td>3.5</td>\n",
       "      <td>India Pale Ale</td>\n",
       "      <td>6.5</td>\n",
       "      <td>3064.0</td>\n",
       "    </tr>\n",
       "    <tr>\n",
       "      <th>256593</th>\n",
       "      <td>870</td>\n",
       "      <td>Moylan's Brewery</td>\n",
       "      <td>1230947306</td>\n",
       "      <td>4.0</td>\n",
       "      <td>4.5</td>\n",
       "      <td>4.5</td>\n",
       "      <td>tavernjef</td>\n",
       "      <td>American IPA</td>\n",
       "      <td>4.5</td>\n",
       "      <td>4.0</td>\n",
       "      <td>India Pale Ale</td>\n",
       "      <td>6.5</td>\n",
       "      <td>3064.0</td>\n",
       "    </tr>\n",
       "    <tr>\n",
       "      <th>256594</th>\n",
       "      <td>870</td>\n",
       "      <td>Moylan's Brewery</td>\n",
       "      <td>1230365245</td>\n",
       "      <td>3.5</td>\n",
       "      <td>4.0</td>\n",
       "      <td>3.5</td>\n",
       "      <td>biboergosum</td>\n",
       "      <td>American IPA</td>\n",
       "      <td>4.0</td>\n",
       "      <td>4.0</td>\n",
       "      <td>India Pale Ale</td>\n",
       "      <td>6.5</td>\n",
       "      <td>3064.0</td>\n",
       "    </tr>\n",
       "    <tr>\n",
       "      <th>256595</th>\n",
       "      <td>870</td>\n",
       "      <td>Moylan's Brewery</td>\n",
       "      <td>1230009386</td>\n",
       "      <td>4.0</td>\n",
       "      <td>4.0</td>\n",
       "      <td>4.0</td>\n",
       "      <td>BDTyre</td>\n",
       "      <td>American IPA</td>\n",
       "      <td>4.0</td>\n",
       "      <td>4.0</td>\n",
       "      <td>India Pale Ale</td>\n",
       "      <td>6.5</td>\n",
       "      <td>3064.0</td>\n",
       "    </tr>\n",
       "  </tbody>\n",
       "</table>\n",
       "<p>256596 rows × 13 columns</p>\n",
       "</div>"
      ],
      "text/plain": [
       "        brewery_id             brewery_name  ...  beer_abv  beer_beerid\n",
       "0            10325          Vecchio Birraio  ...       5.0      47986.0\n",
       "1            10325          Vecchio Birraio  ...       6.2      48213.0\n",
       "2            10325          Vecchio Birraio  ...       6.5      48215.0\n",
       "3            10325          Vecchio Birraio  ...       5.0      47969.0\n",
       "4             1075  Caldera Brewing Company  ...       7.7      64883.0\n",
       "...            ...                      ...  ...       ...          ...\n",
       "256591         870         Moylan's Brewery  ...       6.5       3064.0\n",
       "256592         870         Moylan's Brewery  ...       6.5       3064.0\n",
       "256593         870         Moylan's Brewery  ...       6.5       3064.0\n",
       "256594         870         Moylan's Brewery  ...       6.5       3064.0\n",
       "256595         870         Moylan's Brewery  ...       6.5       3064.0\n",
       "\n",
       "[256596 rows x 13 columns]"
      ]
     },
     "execution_count": 7,
     "metadata": {
      "tags": []
     },
     "output_type": "execute_result"
    }
   ],
   "source": [
    "df.toPandas()"
   ]
  },
  {
   "cell_type": "code",
   "execution_count": 0,
   "metadata": {
    "colab": {
     "base_uri": "https://localhost:8080/",
     "height": 272
    },
    "colab_type": "code",
    "executionInfo": {
     "elapsed": 39046,
     "status": "ok",
     "timestamp": 1587350191602,
     "user": {
      "displayName": "Luis Blanco",
      "photoUrl": "https://lh3.googleusercontent.com/a-/AOh14Gg1BCQJfHT2P42mM1KkjEShxXP7ik2JKApJloXCcg=s64",
      "userId": "08327929932520946832"
     },
     "user_tz": -120
    },
    "id": "Nbr224hBVsHP",
    "outputId": "ca17a528-9953-41b0-99f2-a765e03e1aa5"
   },
   "outputs": [
    {
     "name": "stdout",
     "output_type": "stream",
     "text": [
      "root\n",
      " |-- brewery_id: integer (nullable = true)\n",
      " |-- brewery_name: string (nullable = true)\n",
      " |-- review_time: integer (nullable = true)\n",
      " |-- review_overall: double (nullable = true)\n",
      " |-- review_aroma: double (nullable = true)\n",
      " |-- review_appearance: double (nullable = true)\n",
      " |-- review_profilename: string (nullable = true)\n",
      " |-- beer_style: string (nullable = true)\n",
      " |-- review_palate: double (nullable = true)\n",
      " |-- review_taste: double (nullable = true)\n",
      " |-- beer_name: string (nullable = true)\n",
      " |-- beer_abv: double (nullable = true)\n",
      " |-- beer_beerid: double (nullable = true)\n",
      "\n"
     ]
    }
   ],
   "source": [
    "df.printSchema()"
   ]
  },
  {
   "cell_type": "markdown",
   "metadata": {
    "colab_type": "text",
    "id": "Cf47_pOp6bFd"
   },
   "source": [
    "<font color=\"Grey\">Se ha inferido correctamente el esquema."
   ]
  },
  {
   "cell_type": "code",
   "execution_count": 0,
   "metadata": {
    "colab": {
     "base_uri": "https://localhost:8080/",
     "height": 452
    },
    "colab_type": "code",
    "executionInfo": {
     "elapsed": 39027,
     "status": "ok",
     "timestamp": 1587350191603,
     "user": {
      "displayName": "Luis Blanco",
      "photoUrl": "https://lh3.googleusercontent.com/a-/AOh14Gg1BCQJfHT2P42mM1KkjEShxXP7ik2JKApJloXCcg=s64",
      "userId": "08327929932520946832"
     },
     "user_tz": -120
    },
    "id": "BVrGRyE_og2D",
    "outputId": "34ca0218-39f9-419a-9c6c-1d66a290c111"
   },
   "outputs": [
    {
     "data": {
      "text/html": [
       "<div>\n",
       "<style scoped>\n",
       "    .dataframe tbody tr th:only-of-type {\n",
       "        vertical-align: middle;\n",
       "    }\n",
       "\n",
       "    .dataframe tbody tr th {\n",
       "        vertical-align: top;\n",
       "    }\n",
       "\n",
       "    .dataframe thead th {\n",
       "        text-align: right;\n",
       "    }\n",
       "</style>\n",
       "<table border=\"1\" class=\"dataframe\">\n",
       "  <thead>\n",
       "    <tr style=\"text-align: right;\">\n",
       "      <th></th>\n",
       "      <th>0</th>\n",
       "      <th>1</th>\n",
       "      <th>2</th>\n",
       "      <th>3</th>\n",
       "      <th>4</th>\n",
       "    </tr>\n",
       "  </thead>\n",
       "  <tbody>\n",
       "    <tr>\n",
       "      <th>brewery_id</th>\n",
       "      <td>10325</td>\n",
       "      <td>10325</td>\n",
       "      <td>10325</td>\n",
       "      <td>10325</td>\n",
       "      <td>1075</td>\n",
       "    </tr>\n",
       "    <tr>\n",
       "      <th>brewery_name</th>\n",
       "      <td>Vecchio Birraio</td>\n",
       "      <td>Vecchio Birraio</td>\n",
       "      <td>Vecchio Birraio</td>\n",
       "      <td>Vecchio Birraio</td>\n",
       "      <td>Caldera Brewing Company</td>\n",
       "    </tr>\n",
       "    <tr>\n",
       "      <th>review_time</th>\n",
       "      <td>1234817823</td>\n",
       "      <td>1235915097</td>\n",
       "      <td>1235916604</td>\n",
       "      <td>1234725145</td>\n",
       "      <td>1293735206</td>\n",
       "    </tr>\n",
       "    <tr>\n",
       "      <th>review_overall</th>\n",
       "      <td>1.5</td>\n",
       "      <td>3</td>\n",
       "      <td>3</td>\n",
       "      <td>3</td>\n",
       "      <td>4</td>\n",
       "    </tr>\n",
       "    <tr>\n",
       "      <th>review_aroma</th>\n",
       "      <td>2</td>\n",
       "      <td>2.5</td>\n",
       "      <td>2.5</td>\n",
       "      <td>3</td>\n",
       "      <td>4.5</td>\n",
       "    </tr>\n",
       "    <tr>\n",
       "      <th>review_appearance</th>\n",
       "      <td>2.5</td>\n",
       "      <td>3</td>\n",
       "      <td>3</td>\n",
       "      <td>3.5</td>\n",
       "      <td>4</td>\n",
       "    </tr>\n",
       "    <tr>\n",
       "      <th>review_profilename</th>\n",
       "      <td>stcules</td>\n",
       "      <td>stcules</td>\n",
       "      <td>stcules</td>\n",
       "      <td>stcules</td>\n",
       "      <td>johnmichaelsen</td>\n",
       "    </tr>\n",
       "    <tr>\n",
       "      <th>beer_style</th>\n",
       "      <td>Hefeweizen</td>\n",
       "      <td>English Strong Ale</td>\n",
       "      <td>Foreign / Export Stout</td>\n",
       "      <td>German Pilsener</td>\n",
       "      <td>American Double / Imperial IPA</td>\n",
       "    </tr>\n",
       "    <tr>\n",
       "      <th>review_palate</th>\n",
       "      <td>1.5</td>\n",
       "      <td>3</td>\n",
       "      <td>3</td>\n",
       "      <td>2.5</td>\n",
       "      <td>4</td>\n",
       "    </tr>\n",
       "    <tr>\n",
       "      <th>review_taste</th>\n",
       "      <td>1.5</td>\n",
       "      <td>3</td>\n",
       "      <td>3</td>\n",
       "      <td>3</td>\n",
       "      <td>4.5</td>\n",
       "    </tr>\n",
       "    <tr>\n",
       "      <th>beer_name</th>\n",
       "      <td>Sausa Weizen</td>\n",
       "      <td>Red Moon</td>\n",
       "      <td>Black Horse Black Beer</td>\n",
       "      <td>Sausa Pils</td>\n",
       "      <td>Cauldron DIPA</td>\n",
       "    </tr>\n",
       "    <tr>\n",
       "      <th>beer_abv</th>\n",
       "      <td>5</td>\n",
       "      <td>6.2</td>\n",
       "      <td>6.5</td>\n",
       "      <td>5</td>\n",
       "      <td>7.7</td>\n",
       "    </tr>\n",
       "    <tr>\n",
       "      <th>beer_beerid</th>\n",
       "      <td>47986</td>\n",
       "      <td>48213</td>\n",
       "      <td>48215</td>\n",
       "      <td>47969</td>\n",
       "      <td>64883</td>\n",
       "    </tr>\n",
       "  </tbody>\n",
       "</table>\n",
       "</div>"
      ],
      "text/plain": [
       "                                  0  ...                               4\n",
       "brewery_id                    10325  ...                            1075\n",
       "brewery_name        Vecchio Birraio  ...         Caldera Brewing Company\n",
       "review_time              1234817823  ...                      1293735206\n",
       "review_overall                  1.5  ...                               4\n",
       "review_aroma                      2  ...                             4.5\n",
       "review_appearance               2.5  ...                               4\n",
       "review_profilename          stcules  ...                  johnmichaelsen\n",
       "beer_style               Hefeweizen  ...  American Double / Imperial IPA\n",
       "review_palate                   1.5  ...                               4\n",
       "review_taste                    1.5  ...                             4.5\n",
       "beer_name              Sausa Weizen  ...                   Cauldron DIPA\n",
       "beer_abv                          5  ...                             7.7\n",
       "beer_beerid                   47986  ...                           64883\n",
       "\n",
       "[13 rows x 5 columns]"
      ]
     },
     "execution_count": 9,
     "metadata": {
      "tags": []
     },
     "output_type": "execute_result"
    }
   ],
   "source": [
    "#Trasponemos los datos para ver más claramente los datos de cada columna (ahora filas)\n",
    "pd.DataFrame(df.take(5),columns=df.columns).transpose()"
   ]
  },
  {
   "cell_type": "markdown",
   "metadata": {
    "colab_type": "text",
    "id": "oi6UgrsAooDE"
   },
   "source": [
    "<font color=\"Grey\"> **VARIABLES**  \n",
    "<font color=\"Grey\">- brewery_id: identificador de la cervecera.  \n",
    "<font color=\"Grey\">- brewery_name: nombre de la cervecera.  \n",
    "<font color=\"Grey\">- review_time: hora a la que se hizo la review.   \n",
    "<font color=\"Grey\">- review_overall: calificación impresión general.  \n",
    "<font color=\"Grey\">- review_aroma: calificación olor.  \n",
    "<font color=\"Grey\">- review_appearance: calificación apariencia.  \n",
    "<font color=\"Grey\">- review_profilename: nick usuario que ha hecho la reseña.  \n",
    "<font color=\"Grey\">- beer_style: estilo de cerveza.\n",
    "<font color=\"Grey\">- review_palate: calificación al paladar.\n",
    "<font color=\"Grey\">- review_taste: calificación sabor.  \n",
    "<font color=\"Grey\">- beer_name: nombre de la cerveza.  \n",
    "<font color=\"Grey\">- beer_abv: volumen de alcohol de la cerveza.  \n",
    "<font color=\"Grey\">- beer_beerid: identificador de la cereza."
   ]
  },
  {
   "cell_type": "markdown",
   "metadata": {
    "colab_type": "text",
    "id": "vZb7LAALt0xw"
   },
   "source": [
    "<font color=\"Grey\">Vamos a analizar el dataframe, en busca de duplicados y nulos. Convertiremos el dataframe a Pandas:"
   ]
  },
  {
   "cell_type": "code",
   "execution_count": 0,
   "metadata": {
    "colab": {},
    "colab_type": "code",
    "id": "QMTMKmdkuGKn"
   },
   "outputs": [],
   "source": [
    "df_pandas=df.toPandas()"
   ]
  },
  {
   "cell_type": "code",
   "execution_count": 0,
   "metadata": {
    "colab": {
     "base_uri": "https://localhost:8080/",
     "height": 34
    },
    "colab_type": "code",
    "executionInfo": {
     "elapsed": 42988,
     "status": "ok",
     "timestamp": 1587350195641,
     "user": {
      "displayName": "Luis Blanco",
      "photoUrl": "https://lh3.googleusercontent.com/a-/AOh14Gg1BCQJfHT2P42mM1KkjEShxXP7ik2JKApJloXCcg=s64",
      "userId": "08327929932520946832"
     },
     "user_tz": -120
    },
    "id": "Bkr7WmMpogu9",
    "outputId": "d3eadb92-4fbc-4177-be22-78bf97cab2fc"
   },
   "outputs": [
    {
     "data": {
      "text/plain": [
       "0"
      ]
     },
     "execution_count": 11,
     "metadata": {
      "tags": []
     },
     "output_type": "execute_result"
    }
   ],
   "source": [
    "df_pandas.duplicated().sum()"
   ]
  },
  {
   "cell_type": "code",
   "execution_count": 0,
   "metadata": {
    "colab": {
     "base_uri": "https://localhost:8080/",
     "height": 255
    },
    "colab_type": "code",
    "executionInfo": {
     "elapsed": 46978,
     "status": "ok",
     "timestamp": 1587350199649,
     "user": {
      "displayName": "Luis Blanco",
      "photoUrl": "https://lh3.googleusercontent.com/a-/AOh14Gg1BCQJfHT2P42mM1KkjEShxXP7ik2JKApJloXCcg=s64",
      "userId": "08327929932520946832"
     },
     "user_tz": -120
    },
    "id": "BMaXSgWHogyD",
    "outputId": "386da9c2-de15-4639-ca84-86be2b91afdc"
   },
   "outputs": [
    {
     "data": {
      "text/plain": [
       "brewery_id                0\n",
       "brewery_name              0\n",
       "review_time               0\n",
       "review_overall            0\n",
       "review_aroma              0\n",
       "review_appearance         0\n",
       "review_profilename        0\n",
       "beer_style                0\n",
       "review_palate             0\n",
       "review_taste              0\n",
       "beer_name                 0\n",
       "beer_abv              10594\n",
       "beer_beerid               0\n",
       "dtype: int64"
      ]
     },
     "execution_count": 12,
     "metadata": {
      "tags": []
     },
     "output_type": "execute_result"
    }
   ],
   "source": [
    "df.toPandas().isnull().sum()"
   ]
  },
  {
   "cell_type": "markdown",
   "metadata": {
    "colab_type": "text",
    "id": "eHZVfBlowKIE"
   },
   "source": [
    "<font color=\"Grey\">Nos encontramos que no existen duplicados, sin embargo, tenemos nulos en \"beer_abv\", variable que representa el grado de alcohol de la cerveza. Vamos a analizar los resultados por si podemos averiguar por qué:"
   ]
  },
  {
   "cell_type": "code",
   "execution_count": 0,
   "metadata": {
    "colab": {
     "base_uri": "https://localhost:8080/",
     "height": 881
    },
    "colab_type": "code",
    "executionInfo": {
     "elapsed": 46963,
     "status": "ok",
     "timestamp": 1587350199650,
     "user": {
      "displayName": "Luis Blanco",
      "photoUrl": "https://lh3.googleusercontent.com/a-/AOh14Gg1BCQJfHT2P42mM1KkjEShxXP7ik2JKApJloXCcg=s64",
      "userId": "08327929932520946832"
     },
     "user_tz": -120
    },
    "id": "lXOKj3YQogrt",
    "outputId": "86ced2d4-2bb8-45dd-be44-456e0bd9c922"
   },
   "outputs": [
    {
     "data": {
      "text/html": [
       "<div>\n",
       "<style scoped>\n",
       "    .dataframe tbody tr th:only-of-type {\n",
       "        vertical-align: middle;\n",
       "    }\n",
       "\n",
       "    .dataframe tbody tr th {\n",
       "        vertical-align: top;\n",
       "    }\n",
       "\n",
       "    .dataframe thead th {\n",
       "        text-align: right;\n",
       "    }\n",
       "</style>\n",
       "<table border=\"1\" class=\"dataframe\">\n",
       "  <thead>\n",
       "    <tr style=\"text-align: right;\">\n",
       "      <th></th>\n",
       "      <th>brewery_id</th>\n",
       "      <th>brewery_name</th>\n",
       "      <th>review_time</th>\n",
       "      <th>review_overall</th>\n",
       "      <th>review_aroma</th>\n",
       "      <th>review_appearance</th>\n",
       "      <th>review_profilename</th>\n",
       "      <th>beer_style</th>\n",
       "      <th>review_palate</th>\n",
       "      <th>review_taste</th>\n",
       "      <th>beer_name</th>\n",
       "      <th>beer_abv</th>\n",
       "      <th>beer_beerid</th>\n",
       "    </tr>\n",
       "  </thead>\n",
       "  <tbody>\n",
       "    <tr>\n",
       "      <th>222</th>\n",
       "      <td>1075</td>\n",
       "      <td>Caldera Brewing Company</td>\n",
       "      <td>1103668195</td>\n",
       "      <td>3.0</td>\n",
       "      <td>3.0</td>\n",
       "      <td>3.0</td>\n",
       "      <td>RedDiamond</td>\n",
       "      <td>American Stout</td>\n",
       "      <td>4.0</td>\n",
       "      <td>3.0</td>\n",
       "      <td>Cauldron Espresso Stout</td>\n",
       "      <td>NaN</td>\n",
       "      <td>21241.0</td>\n",
       "    </tr>\n",
       "    <tr>\n",
       "      <th>452</th>\n",
       "      <td>850</td>\n",
       "      <td>Moon River Brewing Company</td>\n",
       "      <td>1100038819</td>\n",
       "      <td>4.0</td>\n",
       "      <td>3.5</td>\n",
       "      <td>4.0</td>\n",
       "      <td>aracauna</td>\n",
       "      <td>Scotch Ale / Wee Heavy</td>\n",
       "      <td>3.5</td>\n",
       "      <td>3.5</td>\n",
       "      <td>The Highland Stagger</td>\n",
       "      <td>NaN</td>\n",
       "      <td>20689.0</td>\n",
       "    </tr>\n",
       "    <tr>\n",
       "      <th>537</th>\n",
       "      <td>1075</td>\n",
       "      <td>Caldera Brewing Company</td>\n",
       "      <td>1260673921</td>\n",
       "      <td>4.0</td>\n",
       "      <td>4.0</td>\n",
       "      <td>4.0</td>\n",
       "      <td>plaid75</td>\n",
       "      <td>American IPA</td>\n",
       "      <td>4.0</td>\n",
       "      <td>4.0</td>\n",
       "      <td>Alpha Beta</td>\n",
       "      <td>NaN</td>\n",
       "      <td>54723.0</td>\n",
       "    </tr>\n",
       "    <tr>\n",
       "      <th>687</th>\n",
       "      <td>2724</td>\n",
       "      <td>Pacific Coast Brewing Company</td>\n",
       "      <td>1293559076</td>\n",
       "      <td>1.0</td>\n",
       "      <td>1.5</td>\n",
       "      <td>3.0</td>\n",
       "      <td>womencantsail</td>\n",
       "      <td>American Strong Ale</td>\n",
       "      <td>2.5</td>\n",
       "      <td>1.5</td>\n",
       "      <td>Megalodon</td>\n",
       "      <td>NaN</td>\n",
       "      <td>64803.0</td>\n",
       "    </tr>\n",
       "    <tr>\n",
       "      <th>700</th>\n",
       "      <td>2724</td>\n",
       "      <td>Pacific Coast Brewing Company</td>\n",
       "      <td>1205614154</td>\n",
       "      <td>1.5</td>\n",
       "      <td>2.0</td>\n",
       "      <td>1.5</td>\n",
       "      <td>JDV</td>\n",
       "      <td>Belgian Strong Pale Ale</td>\n",
       "      <td>1.0</td>\n",
       "      <td>3.0</td>\n",
       "      <td>Holiday Trappist Style Ale</td>\n",
       "      <td>NaN</td>\n",
       "      <td>41584.0</td>\n",
       "    </tr>\n",
       "    <tr>\n",
       "      <th>...</th>\n",
       "      <td>...</td>\n",
       "      <td>...</td>\n",
       "      <td>...</td>\n",
       "      <td>...</td>\n",
       "      <td>...</td>\n",
       "      <td>...</td>\n",
       "      <td>...</td>\n",
       "      <td>...</td>\n",
       "      <td>...</td>\n",
       "      <td>...</td>\n",
       "      <td>...</td>\n",
       "      <td>...</td>\n",
       "      <td>...</td>\n",
       "    </tr>\n",
       "    <tr>\n",
       "      <th>256255</th>\n",
       "      <td>870</td>\n",
       "      <td>Moylan's Brewery</td>\n",
       "      <td>1308147368</td>\n",
       "      <td>4.5</td>\n",
       "      <td>4.5</td>\n",
       "      <td>4.0</td>\n",
       "      <td>johnmichaelsen</td>\n",
       "      <td>American Barleywine</td>\n",
       "      <td>4.0</td>\n",
       "      <td>4.5</td>\n",
       "      <td>Old Blarney Barleywine - Heaven Hills Barrel Aged</td>\n",
       "      <td>NaN</td>\n",
       "      <td>69050.0</td>\n",
       "    </tr>\n",
       "    <tr>\n",
       "      <th>256256</th>\n",
       "      <td>870</td>\n",
       "      <td>Moylan's Brewery</td>\n",
       "      <td>1305392761</td>\n",
       "      <td>4.5</td>\n",
       "      <td>4.5</td>\n",
       "      <td>4.0</td>\n",
       "      <td>kaseydad</td>\n",
       "      <td>American Barleywine</td>\n",
       "      <td>5.0</td>\n",
       "      <td>5.0</td>\n",
       "      <td>Old Blarney Barleywine - Heaven Hills Barrel Aged</td>\n",
       "      <td>NaN</td>\n",
       "      <td>69050.0</td>\n",
       "    </tr>\n",
       "    <tr>\n",
       "      <th>256272</th>\n",
       "      <td>870</td>\n",
       "      <td>Moylan's Brewery</td>\n",
       "      <td>1223743206</td>\n",
       "      <td>4.0</td>\n",
       "      <td>3.5</td>\n",
       "      <td>4.5</td>\n",
       "      <td>MisterClean</td>\n",
       "      <td>American Double / Imperial IPA</td>\n",
       "      <td>3.5</td>\n",
       "      <td>3.5</td>\n",
       "      <td>Uberhoppy IPA</td>\n",
       "      <td>NaN</td>\n",
       "      <td>45313.0</td>\n",
       "    </tr>\n",
       "    <tr>\n",
       "      <th>256508</th>\n",
       "      <td>22512</td>\n",
       "      <td>Trapp Family Lodge Brewery</td>\n",
       "      <td>1306798968</td>\n",
       "      <td>4.5</td>\n",
       "      <td>3.5</td>\n",
       "      <td>4.0</td>\n",
       "      <td>rtepiak</td>\n",
       "      <td>Maibock / Helles Bock</td>\n",
       "      <td>4.0</td>\n",
       "      <td>4.0</td>\n",
       "      <td>Trapp Maibock</td>\n",
       "      <td>NaN</td>\n",
       "      <td>69483.0</td>\n",
       "    </tr>\n",
       "    <tr>\n",
       "      <th>256580</th>\n",
       "      <td>22512</td>\n",
       "      <td>Trapp Family Lodge Brewery</td>\n",
       "      <td>1306514752</td>\n",
       "      <td>4.5</td>\n",
       "      <td>4.0</td>\n",
       "      <td>4.5</td>\n",
       "      <td>yourefragile</td>\n",
       "      <td>Maibock / Helles Bock</td>\n",
       "      <td>4.0</td>\n",
       "      <td>4.0</td>\n",
       "      <td>Trapp Maibock</td>\n",
       "      <td>NaN</td>\n",
       "      <td>69483.0</td>\n",
       "    </tr>\n",
       "  </tbody>\n",
       "</table>\n",
       "<p>10594 rows × 13 columns</p>\n",
       "</div>"
      ],
      "text/plain": [
       "        brewery_id                   brewery_name  ...  beer_abv  beer_beerid\n",
       "222           1075        Caldera Brewing Company  ...       NaN      21241.0\n",
       "452            850     Moon River Brewing Company  ...       NaN      20689.0\n",
       "537           1075        Caldera Brewing Company  ...       NaN      54723.0\n",
       "687           2724  Pacific Coast Brewing Company  ...       NaN      64803.0\n",
       "700           2724  Pacific Coast Brewing Company  ...       NaN      41584.0\n",
       "...            ...                            ...  ...       ...          ...\n",
       "256255         870               Moylan's Brewery  ...       NaN      69050.0\n",
       "256256         870               Moylan's Brewery  ...       NaN      69050.0\n",
       "256272         870               Moylan's Brewery  ...       NaN      45313.0\n",
       "256508       22512     Trapp Family Lodge Brewery  ...       NaN      69483.0\n",
       "256580       22512     Trapp Family Lodge Brewery  ...       NaN      69483.0\n",
       "\n",
       "[10594 rows x 13 columns]"
      ]
     },
     "execution_count": 13,
     "metadata": {
      "tags": []
     },
     "output_type": "execute_result"
    }
   ],
   "source": [
    "#row con nulos\n",
    "nan_rows = df_pandas[df_pandas.isnull().any(1)]\n",
    "nan_rows"
   ]
  },
  {
   "cell_type": "code",
   "execution_count": 0,
   "metadata": {
    "colab": {
     "base_uri": "https://localhost:8080/",
     "height": 170
    },
    "colab_type": "code",
    "executionInfo": {
     "elapsed": 51656,
     "status": "ok",
     "timestamp": 1587350204358,
     "user": {
      "displayName": "Luis Blanco",
      "photoUrl": "https://lh3.googleusercontent.com/a-/AOh14Gg1BCQJfHT2P42mM1KkjEShxXP7ik2JKApJloXCcg=s64",
      "userId": "08327929932520946832"
     },
     "user_tz": -120
    },
    "id": "1eRMPO96rPjB",
    "outputId": "2fdaf142-1a0f-4171-a7f0-c59718b85aab"
   },
   "outputs": [
    {
     "data": {
      "text/plain": [
       "count    246002.000000\n",
       "mean          7.135336\n",
       "std           2.274293\n",
       "min           0.010000\n",
       "25%           5.400000\n",
       "50%           6.600000\n",
       "75%           9.000000\n",
       "max          43.000000\n",
       "Name: beer_abv, dtype: float64"
      ]
     },
     "execution_count": 14,
     "metadata": {
      "tags": []
     },
     "output_type": "execute_result"
    }
   ],
   "source": [
    "df.toPandas()[\"beer_abv\"].describe()"
   ]
  },
  {
   "cell_type": "markdown",
   "metadata": {
    "colab_type": "text",
    "id": "gsObqtVGssUw"
   },
   "source": [
    "<font color=\"Grey\">Hemos buscado en la web https://www.beeradvocate.com/ las cervezas que aparecen entre los nulos:\n",
    "\n",
    "- <font color=\"Grey\">https://www.beeradvocate.com/beer/profile/870/69050/ La cerveza está retirada.</font>\n",
    "\n",
    "- <font color=\"Grey\">https://www.beeradvocate.com/beer/profile/22564/302781/ La cerveza se vende en rotación, es decir, no está disponible siempre.\n",
    "\n",
    "<font color=\"Grey\">Hemos comprobado más cervezas entre los nulos y en todas coincide que se han retirado, son estacionales o están en rotación, por lo que, para no generar recomendaciones de productos que ya no se comercializan o que no esten disponibles en ese momento, vamos a proceder a eliminarlos de nuestro dataset."
   ]
  },
  {
   "cell_type": "code",
   "execution_count": 0,
   "metadata": {
    "colab": {},
    "colab_type": "code",
    "id": "bZ-xDvqkvMW_"
   },
   "outputs": [],
   "source": [
    "df_pandas.dropna(inplace=True)"
   ]
  },
  {
   "cell_type": "code",
   "execution_count": 0,
   "metadata": {
    "colab": {
     "base_uri": "https://localhost:8080/",
     "height": 643
    },
    "colab_type": "code",
    "executionInfo": {
     "elapsed": 51620,
     "status": "ok",
     "timestamp": 1587350204360,
     "user": {
      "displayName": "Luis Blanco",
      "photoUrl": "https://lh3.googleusercontent.com/a-/AOh14Gg1BCQJfHT2P42mM1KkjEShxXP7ik2JKApJloXCcg=s64",
      "userId": "08327929932520946832"
     },
     "user_tz": -120
    },
    "id": "BPGfsU-Kogor",
    "outputId": "0492eb63-d59f-4008-e33b-bca1b83748b5"
   },
   "outputs": [
    {
     "data": {
      "text/html": [
       "<div>\n",
       "<style scoped>\n",
       "    .dataframe tbody tr th:only-of-type {\n",
       "        vertical-align: middle;\n",
       "    }\n",
       "\n",
       "    .dataframe tbody tr th {\n",
       "        vertical-align: top;\n",
       "    }\n",
       "\n",
       "    .dataframe thead th {\n",
       "        text-align: right;\n",
       "    }\n",
       "</style>\n",
       "<table border=\"1\" class=\"dataframe\">\n",
       "  <thead>\n",
       "    <tr style=\"text-align: right;\">\n",
       "      <th></th>\n",
       "      <th>brewery_id</th>\n",
       "      <th>brewery_name</th>\n",
       "      <th>review_time</th>\n",
       "      <th>review_overall</th>\n",
       "      <th>review_aroma</th>\n",
       "      <th>review_appearance</th>\n",
       "      <th>review_profilename</th>\n",
       "      <th>beer_style</th>\n",
       "      <th>review_palate</th>\n",
       "      <th>review_taste</th>\n",
       "      <th>beer_name</th>\n",
       "      <th>beer_abv</th>\n",
       "      <th>beer_beerid</th>\n",
       "    </tr>\n",
       "  </thead>\n",
       "  <tbody>\n",
       "    <tr>\n",
       "      <th>0</th>\n",
       "      <td>10325</td>\n",
       "      <td>Vecchio Birraio</td>\n",
       "      <td>1234817823</td>\n",
       "      <td>1.5</td>\n",
       "      <td>2.0</td>\n",
       "      <td>2.5</td>\n",
       "      <td>stcules</td>\n",
       "      <td>Hefeweizen</td>\n",
       "      <td>1.5</td>\n",
       "      <td>1.5</td>\n",
       "      <td>Sausa Weizen</td>\n",
       "      <td>5.0</td>\n",
       "      <td>47986.0</td>\n",
       "    </tr>\n",
       "    <tr>\n",
       "      <th>1</th>\n",
       "      <td>10325</td>\n",
       "      <td>Vecchio Birraio</td>\n",
       "      <td>1235915097</td>\n",
       "      <td>3.0</td>\n",
       "      <td>2.5</td>\n",
       "      <td>3.0</td>\n",
       "      <td>stcules</td>\n",
       "      <td>English Strong Ale</td>\n",
       "      <td>3.0</td>\n",
       "      <td>3.0</td>\n",
       "      <td>Red Moon</td>\n",
       "      <td>6.2</td>\n",
       "      <td>48213.0</td>\n",
       "    </tr>\n",
       "    <tr>\n",
       "      <th>2</th>\n",
       "      <td>10325</td>\n",
       "      <td>Vecchio Birraio</td>\n",
       "      <td>1235916604</td>\n",
       "      <td>3.0</td>\n",
       "      <td>2.5</td>\n",
       "      <td>3.0</td>\n",
       "      <td>stcules</td>\n",
       "      <td>Foreign / Export Stout</td>\n",
       "      <td>3.0</td>\n",
       "      <td>3.0</td>\n",
       "      <td>Black Horse Black Beer</td>\n",
       "      <td>6.5</td>\n",
       "      <td>48215.0</td>\n",
       "    </tr>\n",
       "    <tr>\n",
       "      <th>3</th>\n",
       "      <td>10325</td>\n",
       "      <td>Vecchio Birraio</td>\n",
       "      <td>1234725145</td>\n",
       "      <td>3.0</td>\n",
       "      <td>3.0</td>\n",
       "      <td>3.5</td>\n",
       "      <td>stcules</td>\n",
       "      <td>German Pilsener</td>\n",
       "      <td>2.5</td>\n",
       "      <td>3.0</td>\n",
       "      <td>Sausa Pils</td>\n",
       "      <td>5.0</td>\n",
       "      <td>47969.0</td>\n",
       "    </tr>\n",
       "    <tr>\n",
       "      <th>4</th>\n",
       "      <td>1075</td>\n",
       "      <td>Caldera Brewing Company</td>\n",
       "      <td>1293735206</td>\n",
       "      <td>4.0</td>\n",
       "      <td>4.5</td>\n",
       "      <td>4.0</td>\n",
       "      <td>johnmichaelsen</td>\n",
       "      <td>American Double / Imperial IPA</td>\n",
       "      <td>4.0</td>\n",
       "      <td>4.5</td>\n",
       "      <td>Cauldron DIPA</td>\n",
       "      <td>7.7</td>\n",
       "      <td>64883.0</td>\n",
       "    </tr>\n",
       "    <tr>\n",
       "      <th>...</th>\n",
       "      <td>...</td>\n",
       "      <td>...</td>\n",
       "      <td>...</td>\n",
       "      <td>...</td>\n",
       "      <td>...</td>\n",
       "      <td>...</td>\n",
       "      <td>...</td>\n",
       "      <td>...</td>\n",
       "      <td>...</td>\n",
       "      <td>...</td>\n",
       "      <td>...</td>\n",
       "      <td>...</td>\n",
       "      <td>...</td>\n",
       "    </tr>\n",
       "    <tr>\n",
       "      <th>256591</th>\n",
       "      <td>870</td>\n",
       "      <td>Moylan's Brewery</td>\n",
       "      <td>1231487618</td>\n",
       "      <td>4.5</td>\n",
       "      <td>4.0</td>\n",
       "      <td>3.5</td>\n",
       "      <td>Jmoore50</td>\n",
       "      <td>American IPA</td>\n",
       "      <td>4.0</td>\n",
       "      <td>4.5</td>\n",
       "      <td>India Pale Ale</td>\n",
       "      <td>6.5</td>\n",
       "      <td>3064.0</td>\n",
       "    </tr>\n",
       "    <tr>\n",
       "      <th>256592</th>\n",
       "      <td>870</td>\n",
       "      <td>Moylan's Brewery</td>\n",
       "      <td>1231184213</td>\n",
       "      <td>4.0</td>\n",
       "      <td>3.5</td>\n",
       "      <td>4.0</td>\n",
       "      <td>kmeves</td>\n",
       "      <td>American IPA</td>\n",
       "      <td>3.0</td>\n",
       "      <td>3.5</td>\n",
       "      <td>India Pale Ale</td>\n",
       "      <td>6.5</td>\n",
       "      <td>3064.0</td>\n",
       "    </tr>\n",
       "    <tr>\n",
       "      <th>256593</th>\n",
       "      <td>870</td>\n",
       "      <td>Moylan's Brewery</td>\n",
       "      <td>1230947306</td>\n",
       "      <td>4.0</td>\n",
       "      <td>4.5</td>\n",
       "      <td>4.5</td>\n",
       "      <td>tavernjef</td>\n",
       "      <td>American IPA</td>\n",
       "      <td>4.5</td>\n",
       "      <td>4.0</td>\n",
       "      <td>India Pale Ale</td>\n",
       "      <td>6.5</td>\n",
       "      <td>3064.0</td>\n",
       "    </tr>\n",
       "    <tr>\n",
       "      <th>256594</th>\n",
       "      <td>870</td>\n",
       "      <td>Moylan's Brewery</td>\n",
       "      <td>1230365245</td>\n",
       "      <td>3.5</td>\n",
       "      <td>4.0</td>\n",
       "      <td>3.5</td>\n",
       "      <td>biboergosum</td>\n",
       "      <td>American IPA</td>\n",
       "      <td>4.0</td>\n",
       "      <td>4.0</td>\n",
       "      <td>India Pale Ale</td>\n",
       "      <td>6.5</td>\n",
       "      <td>3064.0</td>\n",
       "    </tr>\n",
       "    <tr>\n",
       "      <th>256595</th>\n",
       "      <td>870</td>\n",
       "      <td>Moylan's Brewery</td>\n",
       "      <td>1230009386</td>\n",
       "      <td>4.0</td>\n",
       "      <td>4.0</td>\n",
       "      <td>4.0</td>\n",
       "      <td>BDTyre</td>\n",
       "      <td>American IPA</td>\n",
       "      <td>4.0</td>\n",
       "      <td>4.0</td>\n",
       "      <td>India Pale Ale</td>\n",
       "      <td>6.5</td>\n",
       "      <td>3064.0</td>\n",
       "    </tr>\n",
       "  </tbody>\n",
       "</table>\n",
       "<p>246002 rows × 13 columns</p>\n",
       "</div>"
      ],
      "text/plain": [
       "        brewery_id             brewery_name  ...  beer_abv  beer_beerid\n",
       "0            10325          Vecchio Birraio  ...       5.0      47986.0\n",
       "1            10325          Vecchio Birraio  ...       6.2      48213.0\n",
       "2            10325          Vecchio Birraio  ...       6.5      48215.0\n",
       "3            10325          Vecchio Birraio  ...       5.0      47969.0\n",
       "4             1075  Caldera Brewing Company  ...       7.7      64883.0\n",
       "...            ...                      ...  ...       ...          ...\n",
       "256591         870         Moylan's Brewery  ...       6.5       3064.0\n",
       "256592         870         Moylan's Brewery  ...       6.5       3064.0\n",
       "256593         870         Moylan's Brewery  ...       6.5       3064.0\n",
       "256594         870         Moylan's Brewery  ...       6.5       3064.0\n",
       "256595         870         Moylan's Brewery  ...       6.5       3064.0\n",
       "\n",
       "[246002 rows x 13 columns]"
      ]
     },
     "execution_count": 16,
     "metadata": {
      "tags": []
     },
     "output_type": "execute_result"
    }
   ],
   "source": [
    "df_pandas"
   ]
  },
  {
   "cell_type": "code",
   "execution_count": 0,
   "metadata": {
    "colab": {
     "base_uri": "https://localhost:8080/",
     "height": 357
    },
    "colab_type": "code",
    "executionInfo": {
     "elapsed": 51606,
     "status": "ok",
     "timestamp": 1587350204361,
     "user": {
      "displayName": "Luis Blanco",
      "photoUrl": "https://lh3.googleusercontent.com/a-/AOh14Gg1BCQJfHT2P42mM1KkjEShxXP7ik2JKApJloXCcg=s64",
      "userId": "08327929932520946832"
     },
     "user_tz": -120
    },
    "id": "WxM5i5PWoGBJ",
    "outputId": "5fadba1b-ceff-44be-9933-0e1c0c49aaa8"
   },
   "outputs": [
    {
     "name": "stdout",
     "output_type": "stream",
     "text": [
      "<class 'pandas.core.frame.DataFrame'>\n",
      "Int64Index: 246002 entries, 0 to 256595\n",
      "Data columns (total 13 columns):\n",
      " #   Column              Non-Null Count   Dtype  \n",
      "---  ------              --------------   -----  \n",
      " 0   brewery_id          246002 non-null  int32  \n",
      " 1   brewery_name        246002 non-null  object \n",
      " 2   review_time         246002 non-null  int32  \n",
      " 3   review_overall      246002 non-null  float64\n",
      " 4   review_aroma        246002 non-null  float64\n",
      " 5   review_appearance   246002 non-null  float64\n",
      " 6   review_profilename  246002 non-null  object \n",
      " 7   beer_style          246002 non-null  object \n",
      " 8   review_palate       246002 non-null  float64\n",
      " 9   review_taste        246002 non-null  float64\n",
      " 10  beer_name           246002 non-null  object \n",
      " 11  beer_abv            246002 non-null  float64\n",
      " 12  beer_beerid         246002 non-null  float64\n",
      "dtypes: float64(7), int32(2), object(4)\n",
      "memory usage: 24.4+ MB\n"
     ]
    }
   ],
   "source": [
    "df_pandas.info()"
   ]
  },
  {
   "cell_type": "code",
   "execution_count": 0,
   "metadata": {
    "colab": {},
    "colab_type": "code",
    "id": "spx5eZzjFN36"
   },
   "outputs": [],
   "source": [
    "df_clean=spark.createDataFrame(df_pandas).cache()"
   ]
  },
  {
   "cell_type": "markdown",
   "metadata": {
    "colab_type": "text",
    "id": "IpEkQxnh-9Bz"
   },
   "source": [
    "<font color=\"Grey\">Creamos el dataframe reviews, que contiene las reviews de los usuarios:"
   ]
  },
  {
   "cell_type": "code",
   "execution_count": 0,
   "metadata": {
    "colab": {},
    "colab_type": "code",
    "id": "vUM3Scj1DD5_"
   },
   "outputs": [],
   "source": [
    "columnas=df_clean.columns"
   ]
  },
  {
   "cell_type": "code",
   "execution_count": 0,
   "metadata": {
    "colab": {},
    "colab_type": "code",
    "id": "mK_F-bxjieLr"
   },
   "outputs": [],
   "source": [
    "list_reviews=[i for i in columnas if re.match(r\"review\",i)] #creamos una lista con las columnas que contienen \"review\" mediante regex.\n",
    "list_reviews+=[\"beer_beerid\"] #incluimos el id de la cerveza"
   ]
  },
  {
   "cell_type": "code",
   "execution_count": 0,
   "metadata": {
    "colab": {
     "base_uri": "https://localhost:8080/",
     "height": 459
    },
    "colab_type": "code",
    "executionInfo": {
     "elapsed": 72784,
     "status": "ok",
     "timestamp": 1587350225711,
     "user": {
      "displayName": "Luis Blanco",
      "photoUrl": "https://lh3.googleusercontent.com/a-/AOh14Gg1BCQJfHT2P42mM1KkjEShxXP7ik2JKApJloXCcg=s64",
      "userId": "08327929932520946832"
     },
     "user_tz": -120
    },
    "id": "1fhK_mO1Uv6m",
    "outputId": "a4c7420f-9c34-4cd2-fc36-b5b54ff03825"
   },
   "outputs": [
    {
     "name": "stdout",
     "output_type": "stream",
     "text": [
      "+-----------+--------------+------------+-----------------+------------------+-------------+------------+-----------+\n",
      "|review_time|review_overall|review_aroma|review_appearance|review_profilename|review_palate|review_taste|beer_beerid|\n",
      "+-----------+--------------+------------+-----------------+------------------+-------------+------------+-----------+\n",
      "| 1234817823|           1.5|         2.0|              2.5|           stcules|          1.5|         1.5|    47986.0|\n",
      "| 1235915097|           3.0|         2.5|              3.0|           stcules|          3.0|         3.0|    48213.0|\n",
      "| 1235916604|           3.0|         2.5|              3.0|           stcules|          3.0|         3.0|    48215.0|\n",
      "| 1234725145|           3.0|         3.0|              3.5|           stcules|          2.5|         3.0|    47969.0|\n",
      "| 1293735206|           4.0|         4.5|              4.0|    johnmichaelsen|          4.0|         4.5|    64883.0|\n",
      "| 1325524659|           3.0|         3.5|              3.5|           oline73|          3.0|         3.5|    52159.0|\n",
      "| 1318991115|           3.5|         3.5|              3.5|         Reidrover|          4.0|         4.0|    52159.0|\n",
      "| 1306276018|           3.0|         2.5|              3.5|      alpinebryant|          2.0|         3.5|    52159.0|\n",
      "| 1290454503|           4.0|         3.0|              3.5|     LordAdmNelson|          3.5|         4.0|    52159.0|\n",
      "| 1285632924|           4.5|         3.5|              5.0|      augustgarage|          4.0|         4.0|    52159.0|\n",
      "| 1275779250|           4.0|         4.5|              3.0|       Halcyondays|          2.5|         3.0|    52159.0|\n",
      "| 1316025612|           3.0|         3.0|              2.5|  Beerandraiderfan|          3.0|         3.0|    10789.0|\n",
      "| 1103502339|           2.0|         1.5|              2.5|        RedDiamond|          2.5|         2.0|    10789.0|\n",
      "| 1062311123|           4.0|         3.0|              4.0|        beerguy101|          4.0|         4.0|    12386.0|\n",
      "| 1010861086|           2.5|         3.0|              3.0|            jdhilt|          2.0|         2.0|      436.0|\n",
      "| 1325478004|           4.5|         4.5|              3.0|       UCLABrewN84|          4.0|         4.5|    58046.0|\n",
      "| 1325360812|           4.0|         4.0|              4.0|        zaphodchak|          3.0|         4.0|    58046.0|\n",
      "| 1322506304|           4.0|         4.5|              4.0|           Tilley4|          3.5|         4.0|    58046.0|\n",
      "| 1319847514|           4.5|         4.5|              4.0|    titosupertramp|          4.0|         4.5|    58046.0|\n",
      "| 1318802642|           5.0|         5.0|              3.5|       optimator13|          3.5|         5.0|    58046.0|\n",
      "+-----------+--------------+------------+-----------------+------------------+-------------+------------+-----------+\n",
      "only showing top 20 rows\n",
      "\n"
     ]
    }
   ],
   "source": [
    "reviews=df_clean.select(list_reviews).cache()\n",
    "reviews.show()"
   ]
  },
  {
   "cell_type": "markdown",
   "metadata": {
    "colab_type": "text",
    "id": "goBRgUzn_vSh"
   },
   "source": [
    "<font color=\"Grey\">Creamos el dataframe beer_info, que contiene toda la información referente a la cerveza y los identificadores."
   ]
  },
  {
   "cell_type": "code",
   "execution_count": 0,
   "metadata": {
    "colab": {
     "base_uri": "https://localhost:8080/",
     "height": 136
    },
    "colab_type": "code",
    "executionInfo": {
     "elapsed": 72771,
     "status": "ok",
     "timestamp": 1587350225712,
     "user": {
      "displayName": "Luis Blanco",
      "photoUrl": "https://lh3.googleusercontent.com/a-/AOh14Gg1BCQJfHT2P42mM1KkjEShxXP7ik2JKApJloXCcg=s64",
      "userId": "08327929932520946832"
     },
     "user_tz": -120
    },
    "id": "FjgDewwdB131",
    "outputId": "6e897930-136a-4b1a-9e3f-626314dccbe6"
   },
   "outputs": [
    {
     "data": {
      "text/plain": [
       "['review_time',\n",
       " 'review_overall',\n",
       " 'review_aroma',\n",
       " 'review_appearance',\n",
       " 'review_profilename',\n",
       " 'review_palate',\n",
       " 'review_taste']"
      ]
     },
     "execution_count": 22,
     "metadata": {
      "tags": []
     },
     "output_type": "execute_result"
    }
   ],
   "source": [
    "#Creamos una lista con las columnas que contienen \"review\" mediante regex, que eliminaremos\n",
    "list_drop=[i for i in columnas if re.match(r\"review\",i)]\n",
    "list_drop"
   ]
  },
  {
   "cell_type": "code",
   "execution_count": 0,
   "metadata": {
    "colab": {},
    "colab_type": "code",
    "id": "cuVHBc3zUvpk"
   },
   "outputs": [],
   "source": [
    "beer_info=df_clean\n",
    "for i in list_drop:\n",
    "  beer_info=beer_info.drop(i)"
   ]
  },
  {
   "cell_type": "code",
   "execution_count": 0,
   "metadata": {
    "colab": {
     "base_uri": "https://localhost:8080/",
     "height": 419
    },
    "colab_type": "code",
    "executionInfo": {
     "elapsed": 76656,
     "status": "ok",
     "timestamp": 1587350229624,
     "user": {
      "displayName": "Luis Blanco",
      "photoUrl": "https://lh3.googleusercontent.com/a-/AOh14Gg1BCQJfHT2P42mM1KkjEShxXP7ik2JKApJloXCcg=s64",
      "userId": "08327929932520946832"
     },
     "user_tz": -120
    },
    "id": "In4azuJyFTog",
    "outputId": "f618ba5b-b9b0-48a5-ba2d-9092f98e9837"
   },
   "outputs": [
    {
     "data": {
      "text/html": [
       "<div>\n",
       "<style scoped>\n",
       "    .dataframe tbody tr th:only-of-type {\n",
       "        vertical-align: middle;\n",
       "    }\n",
       "\n",
       "    .dataframe tbody tr th {\n",
       "        vertical-align: top;\n",
       "    }\n",
       "\n",
       "    .dataframe thead th {\n",
       "        text-align: right;\n",
       "    }\n",
       "</style>\n",
       "<table border=\"1\" class=\"dataframe\">\n",
       "  <thead>\n",
       "    <tr style=\"text-align: right;\">\n",
       "      <th></th>\n",
       "      <th>brewery_id</th>\n",
       "      <th>brewery_name</th>\n",
       "      <th>beer_style</th>\n",
       "      <th>beer_name</th>\n",
       "      <th>beer_abv</th>\n",
       "      <th>beer_beerid</th>\n",
       "    </tr>\n",
       "  </thead>\n",
       "  <tbody>\n",
       "    <tr>\n",
       "      <th>0</th>\n",
       "      <td>10325</td>\n",
       "      <td>Vecchio Birraio</td>\n",
       "      <td>Hefeweizen</td>\n",
       "      <td>Sausa Weizen</td>\n",
       "      <td>5.0</td>\n",
       "      <td>47986.0</td>\n",
       "    </tr>\n",
       "    <tr>\n",
       "      <th>1</th>\n",
       "      <td>10325</td>\n",
       "      <td>Vecchio Birraio</td>\n",
       "      <td>English Strong Ale</td>\n",
       "      <td>Red Moon</td>\n",
       "      <td>6.2</td>\n",
       "      <td>48213.0</td>\n",
       "    </tr>\n",
       "    <tr>\n",
       "      <th>2</th>\n",
       "      <td>10325</td>\n",
       "      <td>Vecchio Birraio</td>\n",
       "      <td>Foreign / Export Stout</td>\n",
       "      <td>Black Horse Black Beer</td>\n",
       "      <td>6.5</td>\n",
       "      <td>48215.0</td>\n",
       "    </tr>\n",
       "    <tr>\n",
       "      <th>3</th>\n",
       "      <td>10325</td>\n",
       "      <td>Vecchio Birraio</td>\n",
       "      <td>German Pilsener</td>\n",
       "      <td>Sausa Pils</td>\n",
       "      <td>5.0</td>\n",
       "      <td>47969.0</td>\n",
       "    </tr>\n",
       "    <tr>\n",
       "      <th>4</th>\n",
       "      <td>1075</td>\n",
       "      <td>Caldera Brewing Company</td>\n",
       "      <td>American Double / Imperial IPA</td>\n",
       "      <td>Cauldron DIPA</td>\n",
       "      <td>7.7</td>\n",
       "      <td>64883.0</td>\n",
       "    </tr>\n",
       "    <tr>\n",
       "      <th>...</th>\n",
       "      <td>...</td>\n",
       "      <td>...</td>\n",
       "      <td>...</td>\n",
       "      <td>...</td>\n",
       "      <td>...</td>\n",
       "      <td>...</td>\n",
       "    </tr>\n",
       "    <tr>\n",
       "      <th>245997</th>\n",
       "      <td>870</td>\n",
       "      <td>Moylan's Brewery</td>\n",
       "      <td>American IPA</td>\n",
       "      <td>India Pale Ale</td>\n",
       "      <td>6.5</td>\n",
       "      <td>3064.0</td>\n",
       "    </tr>\n",
       "    <tr>\n",
       "      <th>245998</th>\n",
       "      <td>870</td>\n",
       "      <td>Moylan's Brewery</td>\n",
       "      <td>American IPA</td>\n",
       "      <td>India Pale Ale</td>\n",
       "      <td>6.5</td>\n",
       "      <td>3064.0</td>\n",
       "    </tr>\n",
       "    <tr>\n",
       "      <th>245999</th>\n",
       "      <td>870</td>\n",
       "      <td>Moylan's Brewery</td>\n",
       "      <td>American IPA</td>\n",
       "      <td>India Pale Ale</td>\n",
       "      <td>6.5</td>\n",
       "      <td>3064.0</td>\n",
       "    </tr>\n",
       "    <tr>\n",
       "      <th>246000</th>\n",
       "      <td>870</td>\n",
       "      <td>Moylan's Brewery</td>\n",
       "      <td>American IPA</td>\n",
       "      <td>India Pale Ale</td>\n",
       "      <td>6.5</td>\n",
       "      <td>3064.0</td>\n",
       "    </tr>\n",
       "    <tr>\n",
       "      <th>246001</th>\n",
       "      <td>870</td>\n",
       "      <td>Moylan's Brewery</td>\n",
       "      <td>American IPA</td>\n",
       "      <td>India Pale Ale</td>\n",
       "      <td>6.5</td>\n",
       "      <td>3064.0</td>\n",
       "    </tr>\n",
       "  </tbody>\n",
       "</table>\n",
       "<p>246002 rows × 6 columns</p>\n",
       "</div>"
      ],
      "text/plain": [
       "        brewery_id             brewery_name  ... beer_abv beer_beerid\n",
       "0            10325          Vecchio Birraio  ...      5.0     47986.0\n",
       "1            10325          Vecchio Birraio  ...      6.2     48213.0\n",
       "2            10325          Vecchio Birraio  ...      6.5     48215.0\n",
       "3            10325          Vecchio Birraio  ...      5.0     47969.0\n",
       "4             1075  Caldera Brewing Company  ...      7.7     64883.0\n",
       "...            ...                      ...  ...      ...         ...\n",
       "245997         870         Moylan's Brewery  ...      6.5      3064.0\n",
       "245998         870         Moylan's Brewery  ...      6.5      3064.0\n",
       "245999         870         Moylan's Brewery  ...      6.5      3064.0\n",
       "246000         870         Moylan's Brewery  ...      6.5      3064.0\n",
       "246001         870         Moylan's Brewery  ...      6.5      3064.0\n",
       "\n",
       "[246002 rows x 6 columns]"
      ]
     },
     "execution_count": 24,
     "metadata": {
      "tags": []
     },
     "output_type": "execute_result"
    }
   ],
   "source": [
    "beer_info.toPandas()"
   ]
  },
  {
   "cell_type": "markdown",
   "metadata": {
    "colab_type": "text",
    "id": "06L1Q90zMnOn"
   },
   "source": [
    "<font color=\"Grey\">Vamos a eliminar los duplicados, así tendremos sólo una fila de información por cerveza."
   ]
  },
  {
   "cell_type": "code",
   "execution_count": 0,
   "metadata": {
    "colab": {},
    "colab_type": "code",
    "id": "aDSU8z4FCut8"
   },
   "outputs": [],
   "source": [
    "beer_info=beer_info.distinct()"
   ]
  },
  {
   "cell_type": "code",
   "execution_count": 0,
   "metadata": {
    "colab": {
     "base_uri": "https://localhost:8080/",
     "height": 419
    },
    "colab_type": "code",
    "executionInfo": {
     "elapsed": 85314,
     "status": "ok",
     "timestamp": 1587350238312,
     "user": {
      "displayName": "Luis Blanco",
      "photoUrl": "https://lh3.googleusercontent.com/a-/AOh14Gg1BCQJfHT2P42mM1KkjEShxXP7ik2JKApJloXCcg=s64",
      "userId": "08327929932520946832"
     },
     "user_tz": -120
    },
    "id": "bTM9I1MkFNl3",
    "outputId": "0d27ad4a-810f-44af-cc06-a9ee13251515"
   },
   "outputs": [
    {
     "data": {
      "text/html": [
       "<div>\n",
       "<style scoped>\n",
       "    .dataframe tbody tr th:only-of-type {\n",
       "        vertical-align: middle;\n",
       "    }\n",
       "\n",
       "    .dataframe tbody tr th {\n",
       "        vertical-align: top;\n",
       "    }\n",
       "\n",
       "    .dataframe thead th {\n",
       "        text-align: right;\n",
       "    }\n",
       "</style>\n",
       "<table border=\"1\" class=\"dataframe\">\n",
       "  <thead>\n",
       "    <tr style=\"text-align: right;\">\n",
       "      <th></th>\n",
       "      <th>brewery_id</th>\n",
       "      <th>brewery_name</th>\n",
       "      <th>beer_style</th>\n",
       "      <th>beer_name</th>\n",
       "      <th>beer_abv</th>\n",
       "      <th>beer_beerid</th>\n",
       "    </tr>\n",
       "  </thead>\n",
       "  <tbody>\n",
       "    <tr>\n",
       "      <th>0</th>\n",
       "      <td>5</td>\n",
       "      <td>Yakima Brewing Co. / Bert Grant's Ales</td>\n",
       "      <td>Scottish Ale</td>\n",
       "      <td>Bert Grant's Scottish Ale</td>\n",
       "      <td>4.7</td>\n",
       "      <td>11.0</td>\n",
       "    </tr>\n",
       "    <tr>\n",
       "      <th>1</th>\n",
       "      <td>5</td>\n",
       "      <td>Yakima Brewing Co. / Bert Grant's Ales</td>\n",
       "      <td>Russian Imperial Stout</td>\n",
       "      <td>Bert Grant's Imperial Stout</td>\n",
       "      <td>6.0</td>\n",
       "      <td>12.0</td>\n",
       "    </tr>\n",
       "    <tr>\n",
       "      <th>2</th>\n",
       "      <td>5</td>\n",
       "      <td>Yakima Brewing Co. / Bert Grant's Ales</td>\n",
       "      <td>English India Pale Ale (IPA)</td>\n",
       "      <td>Bert Grant's IPA</td>\n",
       "      <td>4.2</td>\n",
       "      <td>13.0</td>\n",
       "    </tr>\n",
       "    <tr>\n",
       "      <th>3</th>\n",
       "      <td>22</td>\n",
       "      <td>Unibroue</td>\n",
       "      <td>Belgian Strong Dark Ale</td>\n",
       "      <td>Trois Pistoles</td>\n",
       "      <td>9.0</td>\n",
       "      <td>30.0</td>\n",
       "    </tr>\n",
       "    <tr>\n",
       "      <th>4</th>\n",
       "      <td>22</td>\n",
       "      <td>Unibroue</td>\n",
       "      <td>Witbier</td>\n",
       "      <td>Blanche De Chambly</td>\n",
       "      <td>5.0</td>\n",
       "      <td>31.0</td>\n",
       "    </tr>\n",
       "    <tr>\n",
       "      <th>...</th>\n",
       "      <td>...</td>\n",
       "      <td>...</td>\n",
       "      <td>...</td>\n",
       "      <td>...</td>\n",
       "      <td>...</td>\n",
       "      <td>...</td>\n",
       "    </tr>\n",
       "    <tr>\n",
       "      <th>10262</th>\n",
       "      <td>19145</td>\n",
       "      <td>Brasserie Larché</td>\n",
       "      <td>American Amber / Red Ale</td>\n",
       "      <td>Ambrée De Bourgogne</td>\n",
       "      <td>6.5</td>\n",
       "      <td>77302.0</td>\n",
       "    </tr>\n",
       "    <tr>\n",
       "      <th>10263</th>\n",
       "      <td>24411</td>\n",
       "      <td>The Bier Brewery</td>\n",
       "      <td>English Stout</td>\n",
       "      <td>Fuggit Stout</td>\n",
       "      <td>5.8</td>\n",
       "      <td>77303.0</td>\n",
       "    </tr>\n",
       "    <tr>\n",
       "      <th>10264</th>\n",
       "      <td>26936</td>\n",
       "      <td>Fountain Square Brewing Co.</td>\n",
       "      <td>American IPA</td>\n",
       "      <td>Batch 13</td>\n",
       "      <td>6.6</td>\n",
       "      <td>77305.0</td>\n",
       "    </tr>\n",
       "    <tr>\n",
       "      <th>10265</th>\n",
       "      <td>26936</td>\n",
       "      <td>Fountain Square Brewing Co.</td>\n",
       "      <td>Oatmeal Stout</td>\n",
       "      <td>White Out</td>\n",
       "      <td>5.5</td>\n",
       "      <td>77307.0</td>\n",
       "    </tr>\n",
       "    <tr>\n",
       "      <th>10266</th>\n",
       "      <td>16993</td>\n",
       "      <td>Brasseurs De Montréal</td>\n",
       "      <td>American Stout</td>\n",
       "      <td>La Stout - Vanille Et Café</td>\n",
       "      <td>6.6</td>\n",
       "      <td>77310.0</td>\n",
       "    </tr>\n",
       "  </tbody>\n",
       "</table>\n",
       "<p>10267 rows × 6 columns</p>\n",
       "</div>"
      ],
      "text/plain": [
       "       brewery_id  ... beer_beerid\n",
       "0               5  ...        11.0\n",
       "1               5  ...        12.0\n",
       "2               5  ...        13.0\n",
       "3              22  ...        30.0\n",
       "4              22  ...        31.0\n",
       "...           ...  ...         ...\n",
       "10262       19145  ...     77302.0\n",
       "10263       24411  ...     77303.0\n",
       "10264       26936  ...     77305.0\n",
       "10265       26936  ...     77307.0\n",
       "10266       16993  ...     77310.0\n",
       "\n",
       "[10267 rows x 6 columns]"
      ]
     },
     "execution_count": 26,
     "metadata": {
      "tags": []
     },
     "output_type": "execute_result"
    }
   ],
   "source": [
    "beer_info.orderBy(\"beer_beerid\").toPandas()"
   ]
  },
  {
   "cell_type": "code",
   "execution_count": 0,
   "metadata": {
    "colab": {
     "base_uri": "https://localhost:8080/",
     "height": 34
    },
    "colab_type": "code",
    "executionInfo": {
     "elapsed": 85296,
     "status": "ok",
     "timestamp": 1587350238313,
     "user": {
      "displayName": "Luis Blanco",
      "photoUrl": "https://lh3.googleusercontent.com/a-/AOh14Gg1BCQJfHT2P42mM1KkjEShxXP7ik2JKApJloXCcg=s64",
      "userId": "08327929932520946832"
     },
     "user_tz": -120
    },
    "id": "9VP9QgfKErcd",
    "outputId": "a40a38d8-e0ea-4985-c628-f75ea6e48a37"
   },
   "outputs": [
    {
     "data": {
      "text/plain": [
       "DataFrame[brewery_id: bigint, brewery_name: string, beer_style: string, beer_name: string, beer_abv: double, beer_beerid: double]"
      ]
     },
     "execution_count": 27,
     "metadata": {
      "tags": []
     },
     "output_type": "execute_result"
    }
   ],
   "source": [
    "#Incluimos el dataframe en cache\n",
    "beer_info.cache()"
   ]
  },
  {
   "cell_type": "markdown",
   "metadata": {
    "colab_type": "text",
    "id": "GGv5_qMJj62B"
   },
   "source": [
    "# <font color=\"Grey\">3. Aplica el algoritmo ALS, fijando manualmente los parámetros."
   ]
  },
  {
   "cell_type": "markdown",
   "metadata": {
    "colab_type": "text",
    "id": "1-OAa4pPg3xR"
   },
   "source": [
    "<font color=\"Grey\">En primer lugar, vamos a realizar un conteo para ver el tamaño de nuestra matriz:"
   ]
  },
  {
   "cell_type": "code",
   "execution_count": 0,
   "metadata": {
    "colab": {},
    "colab_type": "code",
    "id": "6Aks3vTRg-P3"
   },
   "outputs": [],
   "source": [
    "conteos = (\n",
    "    reviews\n",
    "    .select(\n",
    "        F.count(\"*\").alias(\"count\"),\n",
    "        F.countDistinct('review_profilename').alias('userId'),\n",
    "        F.countDistinct('beer_beerid').alias('beer_beerid')\n",
    "    )\n",
    ").first()"
   ]
  },
  {
   "cell_type": "code",
   "execution_count": 0,
   "metadata": {
    "colab": {
     "base_uri": "https://localhost:8080/",
     "height": 34
    },
    "colab_type": "code",
    "executionInfo": {
     "elapsed": 88506,
     "status": "ok",
     "timestamp": 1587350241549,
     "user": {
      "displayName": "Luis Blanco",
      "photoUrl": "https://lh3.googleusercontent.com/a-/AOh14Gg1BCQJfHT2P42mM1KkjEShxXP7ik2JKApJloXCcg=s64",
      "userId": "08327929932520946832"
     },
     "user_tz": -120
    },
    "id": "a0CkJ7rG_mlL",
    "outputId": "50880277-a0ef-45a0-b8d0-68c2419b6f43"
   },
   "outputs": [
    {
     "data": {
      "text/plain": [
       "Row(count=246002, userId=1831, beer_beerid=10267)"
      ]
     },
     "execution_count": 29,
     "metadata": {
      "tags": []
     },
     "output_type": "execute_result"
    }
   ],
   "source": [
    "conteos"
   ]
  },
  {
   "cell_type": "markdown",
   "metadata": {
    "colab_type": "text",
    "id": "mCABjZI7hSwi"
   },
   "source": [
    "<font color=\"Grey\">Esto significa que nuestra matriz es:\n",
    "\n",
    "* $n= 1831$\n",
    "* $p= 10267$\n",
    "\n",
    "Así que la matriz $M$ tiene un tamaño de $1831\\cdot10267=18798877$ ."
   ]
  },
  {
   "cell_type": "code",
   "execution_count": 0,
   "metadata": {
    "colab": {
     "base_uri": "https://localhost:8080/",
     "height": 419
    },
    "colab_type": "code",
    "executionInfo": {
     "elapsed": 90546,
     "status": "ok",
     "timestamp": 1587350243601,
     "user": {
      "displayName": "Luis Blanco",
      "photoUrl": "https://lh3.googleusercontent.com/a-/AOh14Gg1BCQJfHT2P42mM1KkjEShxXP7ik2JKApJloXCcg=s64",
      "userId": "08327929932520946832"
     },
     "user_tz": -120
    },
    "id": "xRle2xBzPuBa",
    "outputId": "b51c8a16-7ee3-45b9-8e0b-057768bf5774"
   },
   "outputs": [
    {
     "data": {
      "text/html": [
       "<div>\n",
       "<style scoped>\n",
       "    .dataframe tbody tr th:only-of-type {\n",
       "        vertical-align: middle;\n",
       "    }\n",
       "\n",
       "    .dataframe tbody tr th {\n",
       "        vertical-align: top;\n",
       "    }\n",
       "\n",
       "    .dataframe thead th {\n",
       "        text-align: right;\n",
       "    }\n",
       "</style>\n",
       "<table border=\"1\" class=\"dataframe\">\n",
       "  <thead>\n",
       "    <tr style=\"text-align: right;\">\n",
       "      <th></th>\n",
       "      <th>review_time</th>\n",
       "      <th>review_overall</th>\n",
       "      <th>review_aroma</th>\n",
       "      <th>review_appearance</th>\n",
       "      <th>review_profilename</th>\n",
       "      <th>review_palate</th>\n",
       "      <th>review_taste</th>\n",
       "      <th>beer_beerid</th>\n",
       "    </tr>\n",
       "  </thead>\n",
       "  <tbody>\n",
       "    <tr>\n",
       "      <th>0</th>\n",
       "      <td>1234817823</td>\n",
       "      <td>1.5</td>\n",
       "      <td>2.0</td>\n",
       "      <td>2.5</td>\n",
       "      <td>stcules</td>\n",
       "      <td>1.5</td>\n",
       "      <td>1.5</td>\n",
       "      <td>47986.0</td>\n",
       "    </tr>\n",
       "    <tr>\n",
       "      <th>1</th>\n",
       "      <td>1235915097</td>\n",
       "      <td>3.0</td>\n",
       "      <td>2.5</td>\n",
       "      <td>3.0</td>\n",
       "      <td>stcules</td>\n",
       "      <td>3.0</td>\n",
       "      <td>3.0</td>\n",
       "      <td>48213.0</td>\n",
       "    </tr>\n",
       "    <tr>\n",
       "      <th>2</th>\n",
       "      <td>1235916604</td>\n",
       "      <td>3.0</td>\n",
       "      <td>2.5</td>\n",
       "      <td>3.0</td>\n",
       "      <td>stcules</td>\n",
       "      <td>3.0</td>\n",
       "      <td>3.0</td>\n",
       "      <td>48215.0</td>\n",
       "    </tr>\n",
       "    <tr>\n",
       "      <th>3</th>\n",
       "      <td>1234725145</td>\n",
       "      <td>3.0</td>\n",
       "      <td>3.0</td>\n",
       "      <td>3.5</td>\n",
       "      <td>stcules</td>\n",
       "      <td>2.5</td>\n",
       "      <td>3.0</td>\n",
       "      <td>47969.0</td>\n",
       "    </tr>\n",
       "    <tr>\n",
       "      <th>4</th>\n",
       "      <td>1293735206</td>\n",
       "      <td>4.0</td>\n",
       "      <td>4.5</td>\n",
       "      <td>4.0</td>\n",
       "      <td>johnmichaelsen</td>\n",
       "      <td>4.0</td>\n",
       "      <td>4.5</td>\n",
       "      <td>64883.0</td>\n",
       "    </tr>\n",
       "    <tr>\n",
       "      <th>...</th>\n",
       "      <td>...</td>\n",
       "      <td>...</td>\n",
       "      <td>...</td>\n",
       "      <td>...</td>\n",
       "      <td>...</td>\n",
       "      <td>...</td>\n",
       "      <td>...</td>\n",
       "      <td>...</td>\n",
       "    </tr>\n",
       "    <tr>\n",
       "      <th>245997</th>\n",
       "      <td>1231487618</td>\n",
       "      <td>4.5</td>\n",
       "      <td>4.0</td>\n",
       "      <td>3.5</td>\n",
       "      <td>Jmoore50</td>\n",
       "      <td>4.0</td>\n",
       "      <td>4.5</td>\n",
       "      <td>3064.0</td>\n",
       "    </tr>\n",
       "    <tr>\n",
       "      <th>245998</th>\n",
       "      <td>1231184213</td>\n",
       "      <td>4.0</td>\n",
       "      <td>3.5</td>\n",
       "      <td>4.0</td>\n",
       "      <td>kmeves</td>\n",
       "      <td>3.0</td>\n",
       "      <td>3.5</td>\n",
       "      <td>3064.0</td>\n",
       "    </tr>\n",
       "    <tr>\n",
       "      <th>245999</th>\n",
       "      <td>1230947306</td>\n",
       "      <td>4.0</td>\n",
       "      <td>4.5</td>\n",
       "      <td>4.5</td>\n",
       "      <td>tavernjef</td>\n",
       "      <td>4.5</td>\n",
       "      <td>4.0</td>\n",
       "      <td>3064.0</td>\n",
       "    </tr>\n",
       "    <tr>\n",
       "      <th>246000</th>\n",
       "      <td>1230365245</td>\n",
       "      <td>3.5</td>\n",
       "      <td>4.0</td>\n",
       "      <td>3.5</td>\n",
       "      <td>biboergosum</td>\n",
       "      <td>4.0</td>\n",
       "      <td>4.0</td>\n",
       "      <td>3064.0</td>\n",
       "    </tr>\n",
       "    <tr>\n",
       "      <th>246001</th>\n",
       "      <td>1230009386</td>\n",
       "      <td>4.0</td>\n",
       "      <td>4.0</td>\n",
       "      <td>4.0</td>\n",
       "      <td>BDTyre</td>\n",
       "      <td>4.0</td>\n",
       "      <td>4.0</td>\n",
       "      <td>3064.0</td>\n",
       "    </tr>\n",
       "  </tbody>\n",
       "</table>\n",
       "<p>246002 rows × 8 columns</p>\n",
       "</div>"
      ],
      "text/plain": [
       "        review_time  review_overall  ...  review_taste  beer_beerid\n",
       "0        1234817823             1.5  ...           1.5      47986.0\n",
       "1        1235915097             3.0  ...           3.0      48213.0\n",
       "2        1235916604             3.0  ...           3.0      48215.0\n",
       "3        1234725145             3.0  ...           3.0      47969.0\n",
       "4        1293735206             4.0  ...           4.5      64883.0\n",
       "...             ...             ...  ...           ...          ...\n",
       "245997   1231487618             4.5  ...           4.5       3064.0\n",
       "245998   1231184213             4.0  ...           3.5       3064.0\n",
       "245999   1230947306             4.0  ...           4.0       3064.0\n",
       "246000   1230365245             3.5  ...           4.0       3064.0\n",
       "246001   1230009386             4.0  ...           4.0       3064.0\n",
       "\n",
       "[246002 rows x 8 columns]"
      ]
     },
     "execution_count": 30,
     "metadata": {
      "tags": []
     },
     "output_type": "execute_result"
    }
   ],
   "source": [
    "reviews.toPandas()"
   ]
  },
  {
   "cell_type": "markdown",
   "metadata": {
    "colab_type": "text",
    "id": "DPdelT7XZfki"
   },
   "source": [
    "<font color=\"Grey\">El modelo ALS necesita que le incluyamos una única columna de rating, por lo que vamos a crear una función que nos permita generar una review global para cada cerveza (\"rating\"), utilizando los pesos según nos marca la web https://www.beeradvocate.com/community/threads/how-to-review-a-beer.241156/\n",
    "\n",
    "- <font color=\"Grey\">Appearance (Look) = 6%</font>\n",
    "- <font color=\"Grey\">Smell (Aroma) = 24%</font>\n",
    "- <font color=\"Grey\">Taste = 40%</font>\n",
    "- <font color=\"Grey\">Palate (Mouthfeel) = 10%</font>\n",
    "- <font color=\"Grey\">Overall = 20%"
   ]
  },
  {
   "cell_type": "code",
   "execution_count": 0,
   "metadata": {
    "colab": {},
    "colab_type": "code",
    "id": "2EbwzXVdbZch"
   },
   "outputs": [],
   "source": [
    "def rating (a,s,t,p,o):\n",
    "  \"\"\"\n",
    "  Función para calcular el rating global\n",
    "  de las cervezas, dadas sus 5 características:\n",
    "    - a= Appearance (Look) = 6%\n",
    "    - s= Smell (Aroma) = 24%\n",
    "    - t= Taste = 40%\n",
    "    - p= Palate (Mouthfeel) = 10%\n",
    "    - o= Overall = 20%\n",
    "  \"\"\"\n",
    "  return round((a*0.06)+(s*0.24)+(t*0.4)+(p*0.1)+(o*0.2),1)\n"
   ]
  },
  {
   "cell_type": "code",
   "execution_count": 0,
   "metadata": {
    "colab": {},
    "colab_type": "code",
    "id": "kTHgAqYcZeaY"
   },
   "outputs": [],
   "source": [
    "rating_udf=F.udf(rating, T.DoubleType())"
   ]
  },
  {
   "cell_type": "code",
   "execution_count": 0,
   "metadata": {
    "colab": {},
    "colab_type": "code",
    "id": "A-by7zpXcj91"
   },
   "outputs": [],
   "source": [
    "reviews=reviews.withColumn(\"rating\", rating_udf(\"review_appearance\",\"review_aroma\",\n",
    "                                           \"review_taste\",\"review_palate\",\n",
    "                                           \"review_overall\"))"
   ]
  },
  {
   "cell_type": "code",
   "execution_count": 0,
   "metadata": {
    "colab": {
     "base_uri": "https://localhost:8080/",
     "height": 459
    },
    "colab_type": "code",
    "executionInfo": {
     "elapsed": 90419,
     "status": "ok",
     "timestamp": 1587350243604,
     "user": {
      "displayName": "Luis Blanco",
      "photoUrl": "https://lh3.googleusercontent.com/a-/AOh14Gg1BCQJfHT2P42mM1KkjEShxXP7ik2JKApJloXCcg=s64",
      "userId": "08327929932520946832"
     },
     "user_tz": -120
    },
    "id": "1W1n2Am1en1a",
    "outputId": "8a01d9d5-6324-4c58-8706-b81cb63b5507"
   },
   "outputs": [
    {
     "name": "stdout",
     "output_type": "stream",
     "text": [
      "+-----------+--------------+------------+-----------------+------------------+-------------+------------+-----------+------+\n",
      "|review_time|review_overall|review_aroma|review_appearance|review_profilename|review_palate|review_taste|beer_beerid|rating|\n",
      "+-----------+--------------+------------+-----------------+------------------+-------------+------------+-----------+------+\n",
      "| 1234817823|           1.5|         2.0|              2.5|           stcules|          1.5|         1.5|    47986.0|   1.7|\n",
      "| 1235915097|           3.0|         2.5|              3.0|           stcules|          3.0|         3.0|    48213.0|   2.9|\n",
      "| 1235916604|           3.0|         2.5|              3.0|           stcules|          3.0|         3.0|    48215.0|   2.9|\n",
      "| 1234725145|           3.0|         3.0|              3.5|           stcules|          2.5|         3.0|    47969.0|   3.0|\n",
      "| 1293735206|           4.0|         4.5|              4.0|    johnmichaelsen|          4.0|         4.5|    64883.0|   4.3|\n",
      "| 1325524659|           3.0|         3.5|              3.5|           oline73|          3.0|         3.5|    52159.0|   3.4|\n",
      "| 1318991115|           3.5|         3.5|              3.5|         Reidrover|          4.0|         4.0|    52159.0|   3.8|\n",
      "| 1306276018|           3.0|         2.5|              3.5|      alpinebryant|          2.0|         3.5|    52159.0|   3.0|\n",
      "| 1290454503|           4.0|         3.0|              3.5|     LordAdmNelson|          3.5|         4.0|    52159.0|   3.7|\n",
      "| 1285632924|           4.5|         3.5|              5.0|      augustgarage|          4.0|         4.0|    52159.0|   4.0|\n",
      "| 1275779250|           4.0|         4.5|              3.0|       Halcyondays|          2.5|         3.0|    52159.0|   3.5|\n",
      "| 1316025612|           3.0|         3.0|              2.5|  Beerandraiderfan|          3.0|         3.0|    10789.0|   3.0|\n",
      "| 1103502339|           2.0|         1.5|              2.5|        RedDiamond|          2.5|         2.0|    10789.0|   2.0|\n",
      "| 1062311123|           4.0|         3.0|              4.0|        beerguy101|          4.0|         4.0|    12386.0|   3.8|\n",
      "| 1010861086|           2.5|         3.0|              3.0|            jdhilt|          2.0|         2.0|      436.0|   2.4|\n",
      "| 1325478004|           4.5|         4.5|              3.0|       UCLABrewN84|          4.0|         4.5|    58046.0|   4.4|\n",
      "| 1325360812|           4.0|         4.0|              4.0|        zaphodchak|          3.0|         4.0|    58046.0|   3.9|\n",
      "| 1322506304|           4.0|         4.5|              4.0|           Tilley4|          3.5|         4.0|    58046.0|   4.1|\n",
      "| 1319847514|           4.5|         4.5|              4.0|    titosupertramp|          4.0|         4.5|    58046.0|   4.4|\n",
      "| 1318802642|           5.0|         5.0|              3.5|       optimator13|          3.5|         5.0|    58046.0|   4.8|\n",
      "+-----------+--------------+------------+-----------------+------------------+-------------+------------+-----------+------+\n",
      "only showing top 20 rows\n",
      "\n"
     ]
    }
   ],
   "source": [
    "reviews.show()"
   ]
  },
  {
   "cell_type": "markdown",
   "metadata": {
    "colab_type": "text",
    "id": "Z5BMxDx3gYH0"
   },
   "source": [
    "<font color=\"Grey\">El modelo ALS también necesita que los datos que se introduzcan sean numéricos. En nuestro dataframe, el id del usuario es su nick, es decir, es de tipo string, por lo que vamos a pasarlo a numérico mediante StringIndexer:"
   ]
  },
  {
   "cell_type": "code",
   "execution_count": 0,
   "metadata": {
    "colab": {
     "base_uri": "https://localhost:8080/",
     "height": 459
    },
    "colab_type": "code",
    "executionInfo": {
     "elapsed": 92572,
     "status": "ok",
     "timestamp": 1587350245773,
     "user": {
      "displayName": "Luis Blanco",
      "photoUrl": "https://lh3.googleusercontent.com/a-/AOh14Gg1BCQJfHT2P42mM1KkjEShxXP7ik2JKApJloXCcg=s64",
      "userId": "08327929932520946832"
     },
     "user_tz": -120
    },
    "id": "64lsb57SgXzt",
    "outputId": "df097391-27dd-4ea7-a858-4b552c675cda"
   },
   "outputs": [
    {
     "name": "stdout",
     "output_type": "stream",
     "text": [
      "+-----------+--------------+------------+-----------------+------------------+-------------+------------+-----------+------+-------+\n",
      "|review_time|review_overall|review_aroma|review_appearance|review_profilename|review_palate|review_taste|beer_beerid|rating|user_id|\n",
      "+-----------+--------------+------------+-----------------+------------------+-------------+------------+-----------+------+-------+\n",
      "| 1234817823|           1.5|         2.0|              2.5|           stcules|          1.5|         1.5|    47986.0|   1.7|  102.0|\n",
      "| 1235915097|           3.0|         2.5|              3.0|           stcules|          3.0|         3.0|    48213.0|   2.9|  102.0|\n",
      "| 1235916604|           3.0|         2.5|              3.0|           stcules|          3.0|         3.0|    48215.0|   2.9|  102.0|\n",
      "| 1234725145|           3.0|         3.0|              3.5|           stcules|          2.5|         3.0|    47969.0|   3.0|  102.0|\n",
      "| 1293735206|           4.0|         4.5|              4.0|    johnmichaelsen|          4.0|         4.5|    64883.0|   4.3|   42.0|\n",
      "| 1325524659|           3.0|         3.5|              3.5|           oline73|          3.0|         3.5|    52159.0|   3.4|  405.0|\n",
      "| 1318991115|           3.5|         3.5|              3.5|         Reidrover|          4.0|         4.0|    52159.0|   3.8|  207.0|\n",
      "| 1306276018|           3.0|         2.5|              3.5|      alpinebryant|          2.0|         3.5|    52159.0|   3.0|  525.0|\n",
      "| 1290454503|           4.0|         3.0|              3.5|     LordAdmNelson|          3.5|         4.0|    52159.0|   3.7|  660.0|\n",
      "| 1285632924|           4.5|         3.5|              5.0|      augustgarage|          4.0|         4.0|    52159.0|   4.0|  379.0|\n",
      "| 1275779250|           4.0|         4.5|              3.0|       Halcyondays|          2.5|         3.0|    52159.0|   3.5|    7.0|\n",
      "| 1316025612|           3.0|         3.0|              2.5|  Beerandraiderfan|          3.0|         3.0|    10789.0|   3.0|   47.0|\n",
      "| 1103502339|           2.0|         1.5|              2.5|        RedDiamond|          2.5|         2.0|    10789.0|   2.0|  153.0|\n",
      "| 1062311123|           4.0|         3.0|              4.0|        beerguy101|          4.0|         4.0|    12386.0|   3.8|  174.0|\n",
      "| 1010861086|           2.5|         3.0|              3.0|            jdhilt|          2.0|         2.0|      436.0|   2.4|   21.0|\n",
      "| 1325478004|           4.5|         4.5|              3.0|       UCLABrewN84|          4.0|         4.5|    58046.0|   4.4|  284.0|\n",
      "| 1325360812|           4.0|         4.0|              4.0|        zaphodchak|          3.0|         4.0|    58046.0|   3.9| 1083.0|\n",
      "| 1322506304|           4.0|         4.5|              4.0|           Tilley4|          3.5|         4.0|    58046.0|   4.1|  258.0|\n",
      "| 1319847514|           4.5|         4.5|              4.0|    titosupertramp|          4.0|         4.5|    58046.0|   4.4| 1262.0|\n",
      "| 1318802642|           5.0|         5.0|              3.5|       optimator13|          3.5|         5.0|    58046.0|   4.8|  461.0|\n",
      "+-----------+--------------+------------+-----------------+------------------+-------------+------------+-----------+------+-------+\n",
      "only showing top 20 rows\n",
      "\n"
     ]
    }
   ],
   "source": [
    "indexer= StringIndexer(inputCol=\"review_profilename\", outputCol=\"user_id\")\n",
    "reviews = indexer.fit(reviews).transform(reviews)\n",
    "reviews.show()"
   ]
  },
  {
   "cell_type": "code",
   "execution_count": 0,
   "metadata": {
    "colab": {
     "base_uri": "https://localhost:8080/",
     "height": 221
    },
    "colab_type": "code",
    "executionInfo": {
     "elapsed": 92531,
     "status": "ok",
     "timestamp": 1587350245775,
     "user": {
      "displayName": "Luis Blanco",
      "photoUrl": "https://lh3.googleusercontent.com/a-/AOh14Gg1BCQJfHT2P42mM1KkjEShxXP7ik2JKApJloXCcg=s64",
      "userId": "08327929932520946832"
     },
     "user_tz": -120
    },
    "id": "-N51eLH2jhre",
    "outputId": "c9582465-c66b-4740-d2e0-c152073abbe2"
   },
   "outputs": [
    {
     "name": "stdout",
     "output_type": "stream",
     "text": [
      "root\n",
      " |-- review_time: long (nullable = true)\n",
      " |-- review_overall: double (nullable = true)\n",
      " |-- review_aroma: double (nullable = true)\n",
      " |-- review_appearance: double (nullable = true)\n",
      " |-- review_profilename: string (nullable = true)\n",
      " |-- review_palate: double (nullable = true)\n",
      " |-- review_taste: double (nullable = true)\n",
      " |-- beer_beerid: double (nullable = true)\n",
      " |-- rating: double (nullable = true)\n",
      " |-- user_id: double (nullable = false)\n",
      "\n"
     ]
    }
   ],
   "source": [
    "reviews.printSchema()"
   ]
  },
  {
   "cell_type": "markdown",
   "metadata": {
    "colab_type": "text",
    "id": "jFCwKw7ICQTo"
   },
   "source": [
    "<font color=\"Grey\">Vamos a usar los hiperparámetros por defecto, excepto \"coldStartStrategy\", que por defecto Spark asigna NaN cuando un usuario y / o factor de elemento no está presente en el modelo. Esto puede ser útil en un sistema de producción, ya que indica un nuevo usuario o elemento, por lo que el sistema puede tomar una decisión sobre alguna alternativa para usar como predicción.  \n",
    "Sin embargo, esto no es deseable durante la validación cruzada, ya que cualquier NaN predicho dará como resultado NaN resultados para la métrica de evaluación (por ejemplo, cuando se usa RegressionEvaluator). Esto hace que la selección del modelo sea imposible, por lo que usaremos \"drop\", con el fin de eliminar cualquier fila en las predicciones que contienen valores NaN."
   ]
  },
  {
   "cell_type": "code",
   "execution_count": 0,
   "metadata": {
    "colab": {},
    "colab_type": "code",
    "id": "yaPlBYE8lVdJ"
   },
   "outputs": [],
   "source": [
    "als = ALS(\n",
    "    userCol=\"user_id\", \n",
    "    itemCol=\"beer_beerid\", \n",
    "    ratingCol=(\"rating\"),\n",
    "    coldStartStrategy=\"drop\",\n",
    "    seed=random_state\n",
    ")"
   ]
  },
  {
   "cell_type": "code",
   "execution_count": 0,
   "metadata": {
    "colab": {},
    "colab_type": "code",
    "id": "EO8COx3ylVRh"
   },
   "outputs": [],
   "source": [
    "modelo = als.fit(reviews)"
   ]
  },
  {
   "cell_type": "code",
   "execution_count": 0,
   "metadata": {
    "colab": {
     "base_uri": "https://localhost:8080/",
     "height": 34
    },
    "colab_type": "code",
    "executionInfo": {
     "elapsed": 104361,
     "status": "ok",
     "timestamp": 1587350257672,
     "user": {
      "displayName": "Luis Blanco",
      "photoUrl": "https://lh3.googleusercontent.com/a-/AOh14Gg1BCQJfHT2P42mM1KkjEShxXP7ik2JKApJloXCcg=s64",
      "userId": "08327929932520946832"
     },
     "user_tz": -120
    },
    "id": "UIjthBGlgE4C",
    "outputId": "b3c5b7c8-6374-4392-8176-eb7eeab85682"
   },
   "outputs": [
    {
     "data": {
      "text/plain": [
       "ALS_d272e362fc1f"
      ]
     },
     "execution_count": 39,
     "metadata": {
      "tags": []
     },
     "output_type": "execute_result"
    }
   ],
   "source": [
    "modelo"
   ]
  },
  {
   "cell_type": "code",
   "execution_count": 0,
   "metadata": {
    "colab": {},
    "colab_type": "code",
    "id": "06brha2OjwuT"
   },
   "outputs": [],
   "source": [
    "predictions = modelo.transform(reviews)"
   ]
  },
  {
   "cell_type": "code",
   "execution_count": 0,
   "metadata": {
    "colab": {
     "base_uri": "https://localhost:8080/",
     "height": 459
    },
    "colab_type": "code",
    "executionInfo": {
     "elapsed": 114695,
     "status": "ok",
     "timestamp": 1587350268036,
     "user": {
      "displayName": "Luis Blanco",
      "photoUrl": "https://lh3.googleusercontent.com/a-/AOh14Gg1BCQJfHT2P42mM1KkjEShxXP7ik2JKApJloXCcg=s64",
      "userId": "08327929932520946832"
     },
     "user_tz": -120
    },
    "id": "xGNPyE08j3Mc",
    "outputId": "64d0ec7c-bdfd-456a-f46b-b7bed68e2e0c"
   },
   "outputs": [
    {
     "name": "stdout",
     "output_type": "stream",
     "text": [
      "+-----------+--------------+------------+-----------------+------------------+-------------+------------+-----------+------+-------+----------+\n",
      "|review_time|review_overall|review_aroma|review_appearance|review_profilename|review_palate|review_taste|beer_beerid|rating|user_id|prediction|\n",
      "+-----------+--------------+------------+-----------------+------------------+-------------+------------+-----------+------+-------+----------+\n",
      "| 1001337433|           3.0|         3.0|              3.0|              John|          3.0|         3.0|      833.0|   3.0|  471.0| 3.5172522|\n",
      "| 1246901622|           4.0|         3.0|              3.0|  superdedooperboy|          3.0|         3.5|      833.0|   3.4|  496.0| 3.4462495|\n",
      "| 1038108814|           4.5|         4.0|              3.5|             hyuga|          3.5|         3.5|      833.0|   3.8| 1591.0| 3.6479034|\n",
      "| 1044768828|           3.5|         3.5|              3.0|          deckjohn|          4.0|         3.5|      833.0|   3.5| 1829.0| 3.1500084|\n",
      "| 1247196692|           3.5|         3.0|              3.0|          david131|          3.5|         4.0|      833.0|   3.6|  243.0| 3.3101368|\n",
      "| 1250536457|           4.0|         4.5|              4.0|           dacrza1|          4.5|         4.0|      833.0|   4.2| 1025.0| 3.2935014|\n",
      "| 1219109909|           3.5|         3.0|              3.5|       JohnnyDuvel|          2.5|         3.0|      833.0|   3.1| 1127.0| 3.3688588|\n",
      "| 1059898813|           4.0|         2.5|              3.0|         Rumrunner|          4.5|         3.5|      833.0|   3.4| 1699.0| 3.2532768|\n",
      "| 1274677401|           3.5|         2.5|              4.5|         AgentZero|          3.0|         2.5|      833.0|   2.9|   85.0| 3.0023026|\n",
      "| 1276046376|           3.5|         3.0|              3.5|            stakem|          3.5|         4.0|      833.0|   3.6|  137.0| 3.2935717|\n",
      "| 1087257228|           3.0|         3.5|              3.0|         granger10|          3.5|         3.0|      833.0|   3.2|  251.0| 3.2765162|\n",
      "| 1295857376|           3.0|         3.0|              3.5|          JizackFH|          3.5|         3.5|      833.0|   3.3|  580.0|  3.348735|\n",
      "| 1177558096|           4.5|         3.5|              3.5|       BretSikkink|          3.5|         4.0|      833.0|   3.9|   65.0| 3.3647847|\n",
      "| 1225585165|           4.0|         4.0|              4.0|        clayrock81|          4.0|         4.0|      833.0|   4.0|  133.0| 3.3023715|\n",
      "| 1316307414|           3.5|         3.0|              4.0|            vfgccp|          3.0|         3.5|      833.0|   3.4|  472.0| 3.3080595|\n",
      "| 1184682755|           3.0|         3.0|              3.5|               BBM|          3.0|         3.0|      833.0|   3.0|  918.0| 3.3442323|\n",
      "| 1222896018|           3.0|         3.0|              3.0|       marlinsfan4|          3.0|         2.5|      833.0|   2.8|  321.0| 3.4301047|\n",
      "| 1178240954|           3.5|         3.5|              3.5|           shirfan|          4.0|         3.5|      833.0|   3.6|  673.0| 3.3363416|\n",
      "| 1182134363|           4.0|         4.0|              3.5|       supercolter|          3.5|         3.5|      833.0|   3.7|  974.0|  3.426174|\n",
      "| 1244936273|           3.5|         4.0|              4.0|        smibroncos|          3.0|         3.5|      833.0|   3.6| 1533.0|  3.425013|\n",
      "+-----------+--------------+------------+-----------------+------------------+-------------+------------+-----------+------+-------+----------+\n",
      "only showing top 20 rows\n",
      "\n"
     ]
    }
   ],
   "source": [
    "predictions.show()"
   ]
  },
  {
   "cell_type": "code",
   "execution_count": 0,
   "metadata": {
    "colab": {},
    "colab_type": "code",
    "id": "GiRcSC9Wj7Gf"
   },
   "outputs": [],
   "source": [
    "evaluator = RegressionEvaluator(\n",
    "    metricName=\"rmse\", \n",
    "    labelCol=\"rating\",\n",
    "    predictionCol=\"prediction\"\n",
    ")"
   ]
  },
  {
   "cell_type": "code",
   "execution_count": 0,
   "metadata": {
    "colab": {
     "base_uri": "https://localhost:8080/",
     "height": 34
    },
    "colab_type": "code",
    "executionInfo": {
     "elapsed": 129441,
     "status": "ok",
     "timestamp": 1587350282801,
     "user": {
      "displayName": "Luis Blanco",
      "photoUrl": "https://lh3.googleusercontent.com/a-/AOh14Gg1BCQJfHT2P42mM1KkjEShxXP7ik2JKApJloXCcg=s64",
      "userId": "08327929932520946832"
     },
     "user_tz": -120
    },
    "id": "mRPioELrkmr8",
    "outputId": "8ffd0afa-88b7-4f6c-df4b-3982450f553f"
   },
   "outputs": [
    {
     "name": "stdout",
     "output_type": "stream",
     "text": [
      "Root-mean-square error = 0.412278511639312\n"
     ]
    }
   ],
   "source": [
    "rmse = evaluator.evaluate(predictions)\n",
    "print(\"Root-mean-square error = \" + str(rmse))"
   ]
  },
  {
   "cell_type": "markdown",
   "metadata": {
    "colab_type": "text",
    "id": "RNh5FEQiActA"
   },
   "source": [
    "# <font color=\"Grey\">4. Realiza una tunning de los hiperparámetros y mide las mejoras, en caso de hacerlas."
   ]
  },
  {
   "cell_type": "markdown",
   "metadata": {
    "colab_type": "text",
    "id": "VfHG1oY2BMBN"
   },
   "source": [
    "<font color=\"Grey\">Para realizar el tunning de hiperparámetros y decidir cuáles son los mejores, primero divideramos el dataset en train y test, 75% y 25% respectivamente."
   ]
  },
  {
   "cell_type": "code",
   "execution_count": 0,
   "metadata": {
    "colab": {},
    "colab_type": "code",
    "id": "ppYdarC-ks6V"
   },
   "outputs": [],
   "source": [
    "(train, test) = reviews.randomSplit([0.75, 0.25],seed=random_state)"
   ]
  },
  {
   "cell_type": "code",
   "execution_count": 0,
   "metadata": {
    "colab": {
     "base_uri": "https://localhost:8080/",
     "height": 68
    },
    "colab_type": "code",
    "executionInfo": {
     "elapsed": 136405,
     "status": "ok",
     "timestamp": 1587350289883,
     "user": {
      "displayName": "Luis Blanco",
      "photoUrl": "https://lh3.googleusercontent.com/a-/AOh14Gg1BCQJfHT2P42mM1KkjEShxXP7ik2JKApJloXCcg=s64",
      "userId": "08327929932520946832"
     },
     "user_tz": -120
    },
    "id": "2gVsAjdzEAUr",
    "outputId": "15040d7a-3347-4792-ba78-a8e7f56ee3e1"
   },
   "outputs": [
    {
     "name": "stdout",
     "output_type": "stream",
     "text": [
      "Los registros en train son: 184609\n",
      "Los registros en test son: 61393\n",
      "Comprobamos que la suma de train y test sea igual que el de reviews: True\n"
     ]
    }
   ],
   "source": [
    "print(\"Los registros en train son:\", train.count())\n",
    "print(\"Los registros en test son:\", test.count())\n",
    "print(\"Comprobamos que la suma de train y test sea igual que el de reviews:\",train.count()+test.count()==reviews.count())"
   ]
  },
  {
   "cell_type": "markdown",
   "metadata": {
    "colab_type": "text",
    "id": "8WTy6e6cHONx"
   },
   "source": [
    "<font color=\"Grey\">Modelo estandar al que añadiremos grid de hiperparámetros:"
   ]
  },
  {
   "cell_type": "code",
   "execution_count": 0,
   "metadata": {
    "colab": {},
    "colab_type": "code",
    "id": "3FJoN1sTD9i0"
   },
   "outputs": [],
   "source": [
    "als = ALS(\n",
    "    userCol=\"user_id\", \n",
    "    itemCol=\"beer_beerid\", \n",
    "    ratingCol=(\"rating\"),\n",
    "    coldStartStrategy=\"drop\",\n",
    "    seed=random_state,\n",
    ")"
   ]
  },
  {
   "cell_type": "markdown",
   "metadata": {
    "colab_type": "text",
    "id": "rC7wKIefHK_C"
   },
   "source": [
    "<font color=\"Grey\">Selección de hiperparámetros:"
   ]
  },
  {
   "cell_type": "code",
   "execution_count": 0,
   "metadata": {
    "colab": {},
    "colab_type": "code",
    "id": "JYLXE6nPHV7D"
   },
   "outputs": [],
   "source": [
    "paramGrid = (\n",
    "    ParamGridBuilder()\n",
    "    .addGrid(als.rank, [10, 100])\n",
    "    .addGrid(als.regParam, [0.01, 0.1, 0.05])\n",
    "    .addGrid(als.maxIter, [5, 10])\n",
    "    .addGrid(als.numUserBlocks, [1, 30])\n",
    "    .build()\n",
    ")"
   ]
  },
  {
   "cell_type": "markdown",
   "metadata": {
    "colab_type": "text",
    "id": "nDoQE8QSHd27"
   },
   "source": [
    "<font color=\"Grey\">Creación de Validación Cruzada (nºfolds 2):"
   ]
  },
  {
   "cell_type": "code",
   "execution_count": 0,
   "metadata": {
    "colab": {},
    "colab_type": "code",
    "id": "yq1AAAD9HeFP"
   },
   "outputs": [],
   "source": [
    "crossval = CrossValidator(\n",
    "    estimator=als,\n",
    "    estimatorParamMaps=paramGrid,\n",
    "    evaluator=evaluator,\n",
    "    numFolds=2,\n",
    "    seed=random_state\n",
    ") "
   ]
  },
  {
   "cell_type": "code",
   "execution_count": 0,
   "metadata": {
    "colab": {},
    "colab_type": "code",
    "id": "ICDZGTifHqb6"
   },
   "outputs": [],
   "source": [
    "#20 minutos de ejecución aprox.\n",
    "modelo_cv = crossval.fit(train)"
   ]
  },
  {
   "cell_type": "markdown",
   "metadata": {
    "colab_type": "text",
    "id": "8vE8FC2SJJXo"
   },
   "source": [
    "<font color=\"Grey\">Suma del RMSE de los folds:"
   ]
  },
  {
   "cell_type": "code",
   "execution_count": 0,
   "metadata": {
    "colab": {
     "base_uri": "https://localhost:8080/",
     "height": 425
    },
    "colab_type": "code",
    "executionInfo": {
     "elapsed": 1271662,
     "status": "ok",
     "timestamp": 1587351425230,
     "user": {
      "displayName": "Luis Blanco",
      "photoUrl": "https://lh3.googleusercontent.com/a-/AOh14Gg1BCQJfHT2P42mM1KkjEShxXP7ik2JKApJloXCcg=s64",
      "userId": "08327929932520946832"
     },
     "user_tz": -120
    },
    "id": "o9jWjZFVJBRG",
    "outputId": "b798d443-8db7-48b1-bcc0-7e8a9db272d6"
   },
   "outputs": [
    {
     "data": {
      "text/plain": [
       "[0.5541425922055149,\n",
       " 0.5514018634171872,\n",
       " 0.5640152792046816,\n",
       " 0.5621802671175605,\n",
       " 0.448341986578751,\n",
       " 0.4506836532746823,\n",
       " 0.44682558715623766,\n",
       " 0.44813711893378605,\n",
       " 0.45618144600291843,\n",
       " 0.4551262379749046,\n",
       " 0.4579157454650933,\n",
       " 0.4578042303848058,\n",
       " 0.9421813673086284,\n",
       " 0.9208121454503528,\n",
       " 0.8482836355323307,\n",
       " 0.8262057493476811,\n",
       " 0.46295868923149863,\n",
       " 0.46398321849466684,\n",
       " 0.45314047218708736,\n",
       " 0.4534901260682064,\n",
       " 0.46587925252613205,\n",
       " 0.4640637370506003,\n",
       " 0.4566801022826252,\n",
       " 0.45598907191117166]"
      ]
     },
     "execution_count": 50,
     "metadata": {
      "tags": []
     },
     "output_type": "execute_result"
    }
   ],
   "source": [
    "modelo_cv.avgMetrics"
   ]
  },
  {
   "cell_type": "markdown",
   "metadata": {
    "colab_type": "text",
    "id": "EXIZ8EeUMuf9"
   },
   "source": [
    "<font color=\"grey\">Vamos a realizar un dataframe, con los diferentes hiperparámetros y su métrica (media):"
   ]
  },
  {
   "cell_type": "code",
   "execution_count": 0,
   "metadata": {
    "colab": {},
    "colab_type": "code",
    "id": "V9h9LJlvMn_u"
   },
   "outputs": [],
   "source": [
    "mallado = pd.DataFrame(paramGrid)"
   ]
  },
  {
   "cell_type": "code",
   "execution_count": 0,
   "metadata": {
    "colab": {
     "base_uri": "https://localhost:8080/",
     "height": 793
    },
    "colab_type": "code",
    "executionInfo": {
     "elapsed": 1271637,
     "status": "ok",
     "timestamp": 1587351425232,
     "user": {
      "displayName": "Luis Blanco",
      "photoUrl": "https://lh3.googleusercontent.com/a-/AOh14Gg1BCQJfHT2P42mM1KkjEShxXP7ik2JKApJloXCcg=s64",
      "userId": "08327929932520946832"
     },
     "user_tz": -120
    },
    "id": "fS8SbwNbNW8b",
    "outputId": "360161b5-1692-4d25-aef4-608a459c1999"
   },
   "outputs": [
    {
     "data": {
      "text/html": [
       "<div>\n",
       "<style scoped>\n",
       "    .dataframe tbody tr th:only-of-type {\n",
       "        vertical-align: middle;\n",
       "    }\n",
       "\n",
       "    .dataframe tbody tr th {\n",
       "        vertical-align: top;\n",
       "    }\n",
       "\n",
       "    .dataframe thead th {\n",
       "        text-align: right;\n",
       "    }\n",
       "</style>\n",
       "<table border=\"1\" class=\"dataframe\">\n",
       "  <thead>\n",
       "    <tr style=\"text-align: right;\">\n",
       "      <th></th>\n",
       "      <th>ALS_07e02b7ead7e__rank</th>\n",
       "      <th>ALS_07e02b7ead7e__regParam</th>\n",
       "      <th>ALS_07e02b7ead7e__maxIter</th>\n",
       "      <th>ALS_07e02b7ead7e__numUserBlocks</th>\n",
       "    </tr>\n",
       "  </thead>\n",
       "  <tbody>\n",
       "    <tr>\n",
       "      <th>0</th>\n",
       "      <td>10</td>\n",
       "      <td>0.01</td>\n",
       "      <td>5</td>\n",
       "      <td>1</td>\n",
       "    </tr>\n",
       "    <tr>\n",
       "      <th>1</th>\n",
       "      <td>10</td>\n",
       "      <td>0.01</td>\n",
       "      <td>5</td>\n",
       "      <td>30</td>\n",
       "    </tr>\n",
       "    <tr>\n",
       "      <th>2</th>\n",
       "      <td>10</td>\n",
       "      <td>0.01</td>\n",
       "      <td>10</td>\n",
       "      <td>1</td>\n",
       "    </tr>\n",
       "    <tr>\n",
       "      <th>3</th>\n",
       "      <td>10</td>\n",
       "      <td>0.01</td>\n",
       "      <td>10</td>\n",
       "      <td>30</td>\n",
       "    </tr>\n",
       "    <tr>\n",
       "      <th>4</th>\n",
       "      <td>10</td>\n",
       "      <td>0.10</td>\n",
       "      <td>5</td>\n",
       "      <td>1</td>\n",
       "    </tr>\n",
       "    <tr>\n",
       "      <th>5</th>\n",
       "      <td>10</td>\n",
       "      <td>0.10</td>\n",
       "      <td>5</td>\n",
       "      <td>30</td>\n",
       "    </tr>\n",
       "    <tr>\n",
       "      <th>6</th>\n",
       "      <td>10</td>\n",
       "      <td>0.10</td>\n",
       "      <td>10</td>\n",
       "      <td>1</td>\n",
       "    </tr>\n",
       "    <tr>\n",
       "      <th>7</th>\n",
       "      <td>10</td>\n",
       "      <td>0.10</td>\n",
       "      <td>10</td>\n",
       "      <td>30</td>\n",
       "    </tr>\n",
       "    <tr>\n",
       "      <th>8</th>\n",
       "      <td>10</td>\n",
       "      <td>0.05</td>\n",
       "      <td>5</td>\n",
       "      <td>1</td>\n",
       "    </tr>\n",
       "    <tr>\n",
       "      <th>9</th>\n",
       "      <td>10</td>\n",
       "      <td>0.05</td>\n",
       "      <td>5</td>\n",
       "      <td>30</td>\n",
       "    </tr>\n",
       "    <tr>\n",
       "      <th>10</th>\n",
       "      <td>10</td>\n",
       "      <td>0.05</td>\n",
       "      <td>10</td>\n",
       "      <td>1</td>\n",
       "    </tr>\n",
       "    <tr>\n",
       "      <th>11</th>\n",
       "      <td>10</td>\n",
       "      <td>0.05</td>\n",
       "      <td>10</td>\n",
       "      <td>30</td>\n",
       "    </tr>\n",
       "    <tr>\n",
       "      <th>12</th>\n",
       "      <td>100</td>\n",
       "      <td>0.01</td>\n",
       "      <td>5</td>\n",
       "      <td>1</td>\n",
       "    </tr>\n",
       "    <tr>\n",
       "      <th>13</th>\n",
       "      <td>100</td>\n",
       "      <td>0.01</td>\n",
       "      <td>5</td>\n",
       "      <td>30</td>\n",
       "    </tr>\n",
       "    <tr>\n",
       "      <th>14</th>\n",
       "      <td>100</td>\n",
       "      <td>0.01</td>\n",
       "      <td>10</td>\n",
       "      <td>1</td>\n",
       "    </tr>\n",
       "    <tr>\n",
       "      <th>15</th>\n",
       "      <td>100</td>\n",
       "      <td>0.01</td>\n",
       "      <td>10</td>\n",
       "      <td>30</td>\n",
       "    </tr>\n",
       "    <tr>\n",
       "      <th>16</th>\n",
       "      <td>100</td>\n",
       "      <td>0.10</td>\n",
       "      <td>5</td>\n",
       "      <td>1</td>\n",
       "    </tr>\n",
       "    <tr>\n",
       "      <th>17</th>\n",
       "      <td>100</td>\n",
       "      <td>0.10</td>\n",
       "      <td>5</td>\n",
       "      <td>30</td>\n",
       "    </tr>\n",
       "    <tr>\n",
       "      <th>18</th>\n",
       "      <td>100</td>\n",
       "      <td>0.10</td>\n",
       "      <td>10</td>\n",
       "      <td>1</td>\n",
       "    </tr>\n",
       "    <tr>\n",
       "      <th>19</th>\n",
       "      <td>100</td>\n",
       "      <td>0.10</td>\n",
       "      <td>10</td>\n",
       "      <td>30</td>\n",
       "    </tr>\n",
       "    <tr>\n",
       "      <th>20</th>\n",
       "      <td>100</td>\n",
       "      <td>0.05</td>\n",
       "      <td>5</td>\n",
       "      <td>1</td>\n",
       "    </tr>\n",
       "    <tr>\n",
       "      <th>21</th>\n",
       "      <td>100</td>\n",
       "      <td>0.05</td>\n",
       "      <td>5</td>\n",
       "      <td>30</td>\n",
       "    </tr>\n",
       "    <tr>\n",
       "      <th>22</th>\n",
       "      <td>100</td>\n",
       "      <td>0.05</td>\n",
       "      <td>10</td>\n",
       "      <td>1</td>\n",
       "    </tr>\n",
       "    <tr>\n",
       "      <th>23</th>\n",
       "      <td>100</td>\n",
       "      <td>0.05</td>\n",
       "      <td>10</td>\n",
       "      <td>30</td>\n",
       "    </tr>\n",
       "  </tbody>\n",
       "</table>\n",
       "</div>"
      ],
      "text/plain": [
       "    ALS_07e02b7ead7e__rank  ...  ALS_07e02b7ead7e__numUserBlocks\n",
       "0                       10  ...                                1\n",
       "1                       10  ...                               30\n",
       "2                       10  ...                                1\n",
       "3                       10  ...                               30\n",
       "4                       10  ...                                1\n",
       "5                       10  ...                               30\n",
       "6                       10  ...                                1\n",
       "7                       10  ...                               30\n",
       "8                       10  ...                                1\n",
       "9                       10  ...                               30\n",
       "10                      10  ...                                1\n",
       "11                      10  ...                               30\n",
       "12                     100  ...                                1\n",
       "13                     100  ...                               30\n",
       "14                     100  ...                                1\n",
       "15                     100  ...                               30\n",
       "16                     100  ...                                1\n",
       "17                     100  ...                               30\n",
       "18                     100  ...                                1\n",
       "19                     100  ...                               30\n",
       "20                     100  ...                                1\n",
       "21                     100  ...                               30\n",
       "22                     100  ...                                1\n",
       "23                     100  ...                               30\n",
       "\n",
       "[24 rows x 4 columns]"
      ]
     },
     "execution_count": 52,
     "metadata": {
      "tags": []
     },
     "output_type": "execute_result"
    }
   ],
   "source": [
    "mallado"
   ]
  },
  {
   "cell_type": "code",
   "execution_count": 0,
   "metadata": {
    "colab": {},
    "colab_type": "code",
    "id": "uTD89EArNEq5"
   },
   "outputs": [],
   "source": [
    "mallado.columns=[i.name for i in mallado.columns]"
   ]
  },
  {
   "cell_type": "code",
   "execution_count": 0,
   "metadata": {
    "colab": {},
    "colab_type": "code",
    "id": "pIk7Wj8GNeOL"
   },
   "outputs": [],
   "source": [
    "mallado['avgMetrics'] = modelo_cv.avgMetrics"
   ]
  },
  {
   "cell_type": "code",
   "execution_count": 0,
   "metadata": {
    "colab": {
     "base_uri": "https://localhost:8080/",
     "height": 793
    },
    "colab_type": "code",
    "executionInfo": {
     "elapsed": 1271605,
     "status": "ok",
     "timestamp": 1587351425234,
     "user": {
      "displayName": "Luis Blanco",
      "photoUrl": "https://lh3.googleusercontent.com/a-/AOh14Gg1BCQJfHT2P42mM1KkjEShxXP7ik2JKApJloXCcg=s64",
      "userId": "08327929932520946832"
     },
     "user_tz": -120
    },
    "id": "C_ipE_cKNJ2d",
    "outputId": "b75ca53b-d238-4833-87e8-9d846958a314"
   },
   "outputs": [
    {
     "data": {
      "text/html": [
       "<div>\n",
       "<style scoped>\n",
       "    .dataframe tbody tr th:only-of-type {\n",
       "        vertical-align: middle;\n",
       "    }\n",
       "\n",
       "    .dataframe tbody tr th {\n",
       "        vertical-align: top;\n",
       "    }\n",
       "\n",
       "    .dataframe thead th {\n",
       "        text-align: right;\n",
       "    }\n",
       "</style>\n",
       "<table border=\"1\" class=\"dataframe\">\n",
       "  <thead>\n",
       "    <tr style=\"text-align: right;\">\n",
       "      <th></th>\n",
       "      <th>rank</th>\n",
       "      <th>regParam</th>\n",
       "      <th>maxIter</th>\n",
       "      <th>numUserBlocks</th>\n",
       "      <th>avgMetrics</th>\n",
       "    </tr>\n",
       "  </thead>\n",
       "  <tbody>\n",
       "    <tr>\n",
       "      <th>6</th>\n",
       "      <td>10</td>\n",
       "      <td>0.10</td>\n",
       "      <td>10</td>\n",
       "      <td>1</td>\n",
       "      <td>0.446826</td>\n",
       "    </tr>\n",
       "    <tr>\n",
       "      <th>7</th>\n",
       "      <td>10</td>\n",
       "      <td>0.10</td>\n",
       "      <td>10</td>\n",
       "      <td>30</td>\n",
       "      <td>0.448137</td>\n",
       "    </tr>\n",
       "    <tr>\n",
       "      <th>4</th>\n",
       "      <td>10</td>\n",
       "      <td>0.10</td>\n",
       "      <td>5</td>\n",
       "      <td>1</td>\n",
       "      <td>0.448342</td>\n",
       "    </tr>\n",
       "    <tr>\n",
       "      <th>5</th>\n",
       "      <td>10</td>\n",
       "      <td>0.10</td>\n",
       "      <td>5</td>\n",
       "      <td>30</td>\n",
       "      <td>0.450684</td>\n",
       "    </tr>\n",
       "    <tr>\n",
       "      <th>18</th>\n",
       "      <td>100</td>\n",
       "      <td>0.10</td>\n",
       "      <td>10</td>\n",
       "      <td>1</td>\n",
       "      <td>0.453140</td>\n",
       "    </tr>\n",
       "    <tr>\n",
       "      <th>19</th>\n",
       "      <td>100</td>\n",
       "      <td>0.10</td>\n",
       "      <td>10</td>\n",
       "      <td>30</td>\n",
       "      <td>0.453490</td>\n",
       "    </tr>\n",
       "    <tr>\n",
       "      <th>9</th>\n",
       "      <td>10</td>\n",
       "      <td>0.05</td>\n",
       "      <td>5</td>\n",
       "      <td>30</td>\n",
       "      <td>0.455126</td>\n",
       "    </tr>\n",
       "    <tr>\n",
       "      <th>23</th>\n",
       "      <td>100</td>\n",
       "      <td>0.05</td>\n",
       "      <td>10</td>\n",
       "      <td>30</td>\n",
       "      <td>0.455989</td>\n",
       "    </tr>\n",
       "    <tr>\n",
       "      <th>8</th>\n",
       "      <td>10</td>\n",
       "      <td>0.05</td>\n",
       "      <td>5</td>\n",
       "      <td>1</td>\n",
       "      <td>0.456181</td>\n",
       "    </tr>\n",
       "    <tr>\n",
       "      <th>22</th>\n",
       "      <td>100</td>\n",
       "      <td>0.05</td>\n",
       "      <td>10</td>\n",
       "      <td>1</td>\n",
       "      <td>0.456680</td>\n",
       "    </tr>\n",
       "    <tr>\n",
       "      <th>11</th>\n",
       "      <td>10</td>\n",
       "      <td>0.05</td>\n",
       "      <td>10</td>\n",
       "      <td>30</td>\n",
       "      <td>0.457804</td>\n",
       "    </tr>\n",
       "    <tr>\n",
       "      <th>10</th>\n",
       "      <td>10</td>\n",
       "      <td>0.05</td>\n",
       "      <td>10</td>\n",
       "      <td>1</td>\n",
       "      <td>0.457916</td>\n",
       "    </tr>\n",
       "    <tr>\n",
       "      <th>16</th>\n",
       "      <td>100</td>\n",
       "      <td>0.10</td>\n",
       "      <td>5</td>\n",
       "      <td>1</td>\n",
       "      <td>0.462959</td>\n",
       "    </tr>\n",
       "    <tr>\n",
       "      <th>17</th>\n",
       "      <td>100</td>\n",
       "      <td>0.10</td>\n",
       "      <td>5</td>\n",
       "      <td>30</td>\n",
       "      <td>0.463983</td>\n",
       "    </tr>\n",
       "    <tr>\n",
       "      <th>21</th>\n",
       "      <td>100</td>\n",
       "      <td>0.05</td>\n",
       "      <td>5</td>\n",
       "      <td>30</td>\n",
       "      <td>0.464064</td>\n",
       "    </tr>\n",
       "    <tr>\n",
       "      <th>20</th>\n",
       "      <td>100</td>\n",
       "      <td>0.05</td>\n",
       "      <td>5</td>\n",
       "      <td>1</td>\n",
       "      <td>0.465879</td>\n",
       "    </tr>\n",
       "    <tr>\n",
       "      <th>1</th>\n",
       "      <td>10</td>\n",
       "      <td>0.01</td>\n",
       "      <td>5</td>\n",
       "      <td>30</td>\n",
       "      <td>0.551402</td>\n",
       "    </tr>\n",
       "    <tr>\n",
       "      <th>0</th>\n",
       "      <td>10</td>\n",
       "      <td>0.01</td>\n",
       "      <td>5</td>\n",
       "      <td>1</td>\n",
       "      <td>0.554143</td>\n",
       "    </tr>\n",
       "    <tr>\n",
       "      <th>3</th>\n",
       "      <td>10</td>\n",
       "      <td>0.01</td>\n",
       "      <td>10</td>\n",
       "      <td>30</td>\n",
       "      <td>0.562180</td>\n",
       "    </tr>\n",
       "    <tr>\n",
       "      <th>2</th>\n",
       "      <td>10</td>\n",
       "      <td>0.01</td>\n",
       "      <td>10</td>\n",
       "      <td>1</td>\n",
       "      <td>0.564015</td>\n",
       "    </tr>\n",
       "    <tr>\n",
       "      <th>15</th>\n",
       "      <td>100</td>\n",
       "      <td>0.01</td>\n",
       "      <td>10</td>\n",
       "      <td>30</td>\n",
       "      <td>0.826206</td>\n",
       "    </tr>\n",
       "    <tr>\n",
       "      <th>14</th>\n",
       "      <td>100</td>\n",
       "      <td>0.01</td>\n",
       "      <td>10</td>\n",
       "      <td>1</td>\n",
       "      <td>0.848284</td>\n",
       "    </tr>\n",
       "    <tr>\n",
       "      <th>13</th>\n",
       "      <td>100</td>\n",
       "      <td>0.01</td>\n",
       "      <td>5</td>\n",
       "      <td>30</td>\n",
       "      <td>0.920812</td>\n",
       "    </tr>\n",
       "    <tr>\n",
       "      <th>12</th>\n",
       "      <td>100</td>\n",
       "      <td>0.01</td>\n",
       "      <td>5</td>\n",
       "      <td>1</td>\n",
       "      <td>0.942181</td>\n",
       "    </tr>\n",
       "  </tbody>\n",
       "</table>\n",
       "</div>"
      ],
      "text/plain": [
       "    rank  regParam  maxIter  numUserBlocks  avgMetrics\n",
       "6     10      0.10       10              1    0.446826\n",
       "7     10      0.10       10             30    0.448137\n",
       "4     10      0.10        5              1    0.448342\n",
       "5     10      0.10        5             30    0.450684\n",
       "18   100      0.10       10              1    0.453140\n",
       "19   100      0.10       10             30    0.453490\n",
       "9     10      0.05        5             30    0.455126\n",
       "23   100      0.05       10             30    0.455989\n",
       "8     10      0.05        5              1    0.456181\n",
       "22   100      0.05       10              1    0.456680\n",
       "11    10      0.05       10             30    0.457804\n",
       "10    10      0.05       10              1    0.457916\n",
       "16   100      0.10        5              1    0.462959\n",
       "17   100      0.10        5             30    0.463983\n",
       "21   100      0.05        5             30    0.464064\n",
       "20   100      0.05        5              1    0.465879\n",
       "1     10      0.01        5             30    0.551402\n",
       "0     10      0.01        5              1    0.554143\n",
       "3     10      0.01       10             30    0.562180\n",
       "2     10      0.01       10              1    0.564015\n",
       "15   100      0.01       10             30    0.826206\n",
       "14   100      0.01       10              1    0.848284\n",
       "13   100      0.01        5             30    0.920812\n",
       "12   100      0.01        5              1    0.942181"
      ]
     },
     "execution_count": 55,
     "metadata": {
      "tags": []
     },
     "output_type": "execute_result"
    }
   ],
   "source": [
    "mallado.sort_values('avgMetrics', inplace=True)\n",
    "mallado"
   ]
  },
  {
   "cell_type": "code",
   "execution_count": 0,
   "metadata": {
    "colab": {},
    "colab_type": "code",
    "id": "44yuXFuZON8V"
   },
   "outputs": [],
   "source": [
    "best_modelo= modelo_cv.bestModel"
   ]
  },
  {
   "cell_type": "markdown",
   "metadata": {
    "colab_type": "text",
    "id": "pcYlOKGzbNJM"
   },
   "source": [
    "<font color=\"Grey\">Terminamos entrenando el modelo con los mejores hiperparámetros que hemos conseguido con toda nuestra data:"
   ]
  },
  {
   "cell_type": "code",
   "execution_count": 0,
   "metadata": {
    "colab": {},
    "colab_type": "code",
    "id": "busdmVELPcUV"
   },
   "outputs": [],
   "source": [
    "modelo_definitivo = ALS(\n",
    "    regParam=mallado.iloc[0]['regParam'],\n",
    "    maxIter=mallado.iloc[0]['maxIter'],\n",
    "    rank=mallado.iloc[0]['rank'],\n",
    "    numUserBlocks=mallado.iloc[0]['numUserBlocks'],  \n",
    "    userCol=\"user_id\", \n",
    "    itemCol=\"beer_beerid\", \n",
    "    ratingCol=(\"rating\"),\n",
    "    coldStartStrategy=\"drop\",\n",
    "    seed=random_state,\n",
    ").fit(reviews)"
   ]
  },
  {
   "cell_type": "code",
   "execution_count": 0,
   "metadata": {
    "colab": {
     "base_uri": "https://localhost:8080/",
     "height": 34
    },
    "colab_type": "code",
    "executionInfo": {
     "elapsed": 1300010,
     "status": "ok",
     "timestamp": 1587351453723,
     "user": {
      "displayName": "Luis Blanco",
      "photoUrl": "https://lh3.googleusercontent.com/a-/AOh14Gg1BCQJfHT2P42mM1KkjEShxXP7ik2JKApJloXCcg=s64",
      "userId": "08327929932520946832"
     },
     "user_tz": -120
    },
    "id": "jsjkxMPGa9iQ",
    "outputId": "b7b3cd97-f402-4f6e-cbdb-f3d2f2b4d1f3"
   },
   "outputs": [
    {
     "name": "stdout",
     "output_type": "stream",
     "text": [
      "Root-mean-square error CV = 0.40892149965416014\n"
     ]
    }
   ],
   "source": [
    "rmse_cv = evaluator.evaluate(modelo_definitivo.transform(reviews))\n",
    "print(\"Root-mean-square error CV = \" + str(rmse_cv))"
   ]
  },
  {
   "cell_type": "code",
   "execution_count": 0,
   "metadata": {
    "colab": {
     "base_uri": "https://localhost:8080/",
     "height": 68
    },
    "colab_type": "code",
    "executionInfo": {
     "elapsed": 1300000,
     "status": "ok",
     "timestamp": 1587351453726,
     "user": {
      "displayName": "Luis Blanco",
      "photoUrl": "https://lh3.googleusercontent.com/a-/AOh14Gg1BCQJfHT2P42mM1KkjEShxXP7ik2JKApJloXCcg=s64",
      "userId": "08327929932520946832"
     },
     "user_tz": -120
    },
    "id": "qMl2kmJ0eadX",
    "outputId": "c1cc748e-0d98-4db1-dab6-83c4c3ae2f23"
   },
   "outputs": [
    {
     "name": "stdout",
     "output_type": "stream",
     "text": [
      "El RMSE sin tunear hiperparámetros es: 0.4123\n",
      "El RMSE con el mejor modelo después de tunear los hiperparámetros es: 0.4089\n",
      "Al tunear hiperparámetros hemos reducido el error (RMSE) en un: -0.0081 %\n"
     ]
    }
   ],
   "source": [
    "print(\"El RMSE sin tunear hiperparámetros es:\",round(rmse,4))\n",
    "print(\"El RMSE con el mejor modelo después de tunear los hiperparámetros es:\", round(rmse_cv,4))\n",
    "print(\"Al tunear hiperparámetros hemos reducido el error (RMSE) en un:\",round((rmse_cv/rmse)-1,4),\"%\")"
   ]
  },
  {
   "cell_type": "markdown",
   "metadata": {
    "colab_type": "text",
    "id": "h8iC0Jh6fRlU"
   },
   "source": [
    "# <font color=\"Grey\">5. Crea una función que dado un usuario nos devuelva el top 10 de recomendaciones. Se valora la creatividad."
   ]
  },
  {
   "cell_type": "code",
   "execution_count": 0,
   "metadata": {
    "colab": {},
    "colab_type": "code",
    "id": "Z4bZsLvXe8qy"
   },
   "outputs": [],
   "source": [
    "userRecs = modelo_definitivo.recommendForAllUsers(10)"
   ]
  },
  {
   "cell_type": "code",
   "execution_count": 0,
   "metadata": {
    "colab": {
     "base_uri": "https://localhost:8080/",
     "height": 136
    },
    "colab_type": "code",
    "executionInfo": {
     "elapsed": 1299977,
     "status": "ok",
     "timestamp": 1587351453728,
     "user": {
      "displayName": "Luis Blanco",
      "photoUrl": "https://lh3.googleusercontent.com/a-/AOh14Gg1BCQJfHT2P42mM1KkjEShxXP7ik2JKApJloXCcg=s64",
      "userId": "08327929932520946832"
     },
     "user_tz": -120
    },
    "id": "eCY3Abrwgmhv",
    "outputId": "9f2b0a50-2f71-4604-a05c-20557baa996f"
   },
   "outputs": [
    {
     "name": "stdout",
     "output_type": "stream",
     "text": [
      "root\n",
      " |-- user_id: integer (nullable = false)\n",
      " |-- recommendations: array (nullable = true)\n",
      " |    |-- element: struct (containsNull = true)\n",
      " |    |    |-- beer_beerid: integer (nullable = true)\n",
      " |    |    |-- rating: float (nullable = true)\n",
      "\n"
     ]
    }
   ],
   "source": [
    "userRecs.printSchema()"
   ]
  },
  {
   "cell_type": "code",
   "execution_count": 0,
   "metadata": {
    "colab": {
     "base_uri": "https://localhost:8080/",
     "height": 479
    },
    "colab_type": "code",
    "executionInfo": {
     "elapsed": 1303357,
     "status": "ok",
     "timestamp": 1587351457121,
     "user": {
      "displayName": "Luis Blanco",
      "photoUrl": "https://lh3.googleusercontent.com/a-/AOh14Gg1BCQJfHT2P42mM1KkjEShxXP7ik2JKApJloXCcg=s64",
      "userId": "08327929932520946832"
     },
     "user_tz": -120
    },
    "id": "j2sCQ-qogojl",
    "outputId": "07838db7-a888-49de-d215-8764e36a59ff"
   },
   "outputs": [
    {
     "name": "stdout",
     "output_type": "stream",
     "text": [
      "+-------+-----------------------------------------------------------------------------------------------------------------------------------------------------------------------------------------------------+\n",
      "|user_id|recommendations                                                                                                                                                                                      |\n",
      "+-------+-----------------------------------------------------------------------------------------------------------------------------------------------------------------------------------------------------+\n",
      "|148    |[[16312, 4.9125543], [59584, 4.8295097], [70054, 4.7879667], [68665, 4.7127376], [58921, 4.6750283], [38766, 4.661421], [63352, 4.655837], [53717, 4.644256], [28217, 4.625271], [65686, 4.6204743]] |\n",
      "|463    |[[16312, 5.006316], [59584, 4.8360705], [70054, 4.8358335], [68665, 4.809285], [38766, 4.7681723], [58921, 4.721408], [53717, 4.6982946], [64487, 4.694891], [15549, 4.674944], [8990, 4.6716404]]   |\n",
      "|471    |[[16312, 5.235976], [59584, 5.0850334], [70054, 5.0753984], [68665, 5.058917], [38766, 4.996309], [58921, 4.9486384], [53717, 4.93987], [15549, 4.9118233], [8990, 4.904543], [64487, 4.8956027]]    |\n",
      "|496    |[[16312, 5.1557174], [70054, 4.9797993], [68665, 4.9651256], [59584, 4.9152365], [38766, 4.8784537], [58921, 4.8311334], [53717, 4.820118], [64487, 4.797656], [8990, 4.7912655], [15549, 4.787401]] |\n",
      "|833    |[[16312, 5.0567064], [70054, 4.919709], [59584, 4.913751], [68665, 4.851485], [38766, 4.7971954], [58921, 4.7943583], [53717, 4.7770114], [65686, 4.749294], [64487, 4.743656], [8990, 4.726064]]    |\n",
      "|1088   |[[16312, 5.0287313], [70054, 4.8733916], [68665, 4.847393], [59584, 4.8441625], [38766, 4.7667522], [58921, 4.7365513], [53717, 4.725345], [64487, 4.6982355], [8990, 4.6878204], [15549, 4.677617]] |\n",
      "|1238   |[[16312, 4.6516047], [59584, 4.59533], [70054, 4.5708933], [68665, 4.4814067], [58921, 4.452877], [53717, 4.432725], [38766, 4.4319134], [63352, 4.4276133], [65686, 4.415223], [64487, 4.397143]]   |\n",
      "|1342   |[[16312, 5.055838], [70054, 4.8992777], [59584, 4.8810434], [68665, 4.843725], [38766, 4.785019], [58921, 4.7730007], [53717, 4.7570667], [65686, 4.724825], [64487, 4.7244325], [8990, 4.711]]      |\n",
      "|1580   |[[16312, 5.004424], [70054, 4.8667555], [59584, 4.866372], [68665, 4.77341], [58921, 4.7492676], [38766, 4.736722], [53717, 4.7306614], [65686, 4.7184534], [28217, 4.701588], [64487, 4.6882195]]   |\n",
      "|1591   |[[16312, 5.4542804], [70054, 5.2742405], [59584, 5.251152], [68665, 5.225738], [38766, 5.174453], [58921, 5.1422415], [53717, 5.1203575], [64487, 5.1042485], [65686, 5.0836487], [8990, 5.0807085]] |\n",
      "|1645   |[[16312, 4.9592357], [70054, 4.8058586], [59584, 4.773962], [68665, 4.763036], [38766, 4.697956], [58921, 4.674699], [53717, 4.6601954], [64487, 4.6332235], [8990, 4.621115], [65686, 4.62004]]     |\n",
      "|1829   |[[16312, 4.728526], [59584, 4.615637], [38766, 4.535929], [70054, 4.510658], [64487, 4.4903965], [58921, 4.4881516], [68665, 4.462715], [65686, 4.4586554], [53717, 4.4415503], [15549, 4.4405727]]  |\n",
      "|243    |[[16312, 4.953166], [70054, 4.7968283], [59584, 4.777979], [68665, 4.7522554], [38766, 4.6886325], [58921, 4.6706557], [53717, 4.652644], [64487, 4.62916], [65686, 4.6165285], [8990, 4.614565]]    |\n",
      "|392    |[[16312, 4.9771557], [59584, 4.867838], [70054, 4.8633776], [68665, 4.7976713], [58921, 4.7272654], [53717, 4.7130117], [38766, 4.7097526], [65686, 4.6815867], [64487, 4.664746], [63352, 4.663247]]|\n",
      "|540    |[[16312, 5.1554766], [70054, 4.979782], [68665, 4.9449844], [59584, 4.9273944], [38766, 4.8753047], [58921, 4.8368125], [53717, 4.8316555], [64487, 4.791672], [8990, 4.7891464], [15549, 4.778905]] |\n",
      "|623    |[[16312, 4.744175], [70054, 4.601207], [68665, 4.5680723], [59584, 4.5349035], [38766, 4.4914026], [58921, 4.4589267], [53717, 4.4515657], [64487, 4.4242587], [8990, 4.4152], [65686, 4.4036384]]   |\n",
      "|737    |[[16312, 5.277484], [59584, 5.1142635], [70054, 5.1054077], [68665, 5.039818], [38766, 4.9916077], [58921, 4.989227], [53717, 4.970791], [65686, 4.949878], [64487, 4.932417], [28217, 4.9173737]]   |\n",
      "|858    |[[16312, 5.0534353], [70054, 4.891713], [59584, 4.8558397], [68665, 4.8483214], [38766, 4.788663], [58921, 4.7606134], [53717, 4.7431326], [64487, 4.7229676], [8990, 4.706071], [65686, 4.7042675]] |\n",
      "|897    |[[16312, 4.950837], [59584, 4.818671], [70054, 4.8009677], [68665, 4.747131], [38766, 4.6954403], [58921, 4.6872554], [53717, 4.663652], [64487, 4.6416454], [65686, 4.6354666], [8990, 4.6249075]]  |\n",
      "|1025   |[[16312, 4.926281], [59584, 4.8391643], [70054, 4.799266], [68665, 4.7276525], [58921, 4.696641], [38766, 4.682779], [53717, 4.676285], [65686, 4.6634], [64487, 4.6422725], [28217, 4.638122]]      |\n",
      "+-------+-----------------------------------------------------------------------------------------------------------------------------------------------------------------------------------------------------+\n",
      "only showing top 20 rows\n",
      "\n"
     ]
    }
   ],
   "source": [
    "userRecs.show(truncate=False)"
   ]
  },
  {
   "cell_type": "markdown",
   "metadata": {
    "colab_type": "text",
    "id": "9KYg-JwGPBcm"
   },
   "source": [
    "<font color=\"Grey\">Vamos a crear una función que nos ofreza las 10 recomendaciones para un user id:"
   ]
  },
  {
   "cell_type": "code",
   "execution_count": 0,
   "metadata": {
    "colab": {},
    "colab_type": "code",
    "id": "3p1Kcola_19w"
   },
   "outputs": [],
   "source": [
    "def top10_recomendaciones (user_id):\n",
    "    top10=(userRecs\n",
    "    .filter(\"\"\" user_id = %s \"\"\" %user_id)\n",
    "    .withColumn(\"recommendations\",F.explode(\"recommendations\"))\n",
    "    .withColumn(\"beer_beerid\",F.col('recommendations')['beer_beerid'])\n",
    "    .withColumn(\"rating\",F.col('recommendations')['rating'])\n",
    "    .drop(\"recommendations\")\n",
    "    .join(beer_info, 'beer_beerid')\n",
    "    .orderBy(F.desc('rating'))\n",
    "    .select(\"beer_beerid\",\"user_id\",\"rating\",\"beer_name\",\"brewery_name\",\"beer_style\",\"beer_abv\")).toPandas()\n",
    "    return top10"
   ]
  },
  {
   "cell_type": "code",
   "execution_count": 0,
   "metadata": {
    "colab": {
     "base_uri": "https://localhost:8080/",
     "height": 427
    },
    "colab_type": "code",
    "executionInfo": {
     "elapsed": 1314020,
     "status": "ok",
     "timestamp": 1587351467807,
     "user": {
      "displayName": "Luis Blanco",
      "photoUrl": "https://lh3.googleusercontent.com/a-/AOh14Gg1BCQJfHT2P42mM1KkjEShxXP7ik2JKApJloXCcg=s64",
      "userId": "08327929932520946832"
     },
     "user_tz": -120
    },
    "id": "Bcb-hLVD_150",
    "outputId": "00a41ebc-27c4-4ec7-9b92-d710db746e46"
   },
   "outputs": [
    {
     "data": {
      "text/html": [
       "<div>\n",
       "<style scoped>\n",
       "    .dataframe tbody tr th:only-of-type {\n",
       "        vertical-align: middle;\n",
       "    }\n",
       "\n",
       "    .dataframe tbody tr th {\n",
       "        vertical-align: top;\n",
       "    }\n",
       "\n",
       "    .dataframe thead th {\n",
       "        text-align: right;\n",
       "    }\n",
       "</style>\n",
       "<table border=\"1\" class=\"dataframe\">\n",
       "  <thead>\n",
       "    <tr style=\"text-align: right;\">\n",
       "      <th></th>\n",
       "      <th>beer_beerid</th>\n",
       "      <th>user_id</th>\n",
       "      <th>rating</th>\n",
       "      <th>beer_name</th>\n",
       "      <th>brewery_name</th>\n",
       "      <th>beer_style</th>\n",
       "      <th>beer_abv</th>\n",
       "    </tr>\n",
       "  </thead>\n",
       "  <tbody>\n",
       "    <tr>\n",
       "      <th>0</th>\n",
       "      <td>16312</td>\n",
       "      <td>148</td>\n",
       "      <td>4.912554</td>\n",
       "      <td>Monster Mash</td>\n",
       "      <td>Rocky River Brewing</td>\n",
       "      <td>Fruit / Vegetable Beer</td>\n",
       "      <td>4.4</td>\n",
       "    </tr>\n",
       "    <tr>\n",
       "      <th>1</th>\n",
       "      <td>59584</td>\n",
       "      <td>148</td>\n",
       "      <td>4.829510</td>\n",
       "      <td>Double Kilt-Sickle Reserve</td>\n",
       "      <td>Moylan's Brewery</td>\n",
       "      <td>Scotch Ale / Wee Heavy</td>\n",
       "      <td>12.3</td>\n",
       "    </tr>\n",
       "    <tr>\n",
       "      <th>2</th>\n",
       "      <td>70054</td>\n",
       "      <td>148</td>\n",
       "      <td>4.787967</td>\n",
       "      <td>Alesmith Speedway Stout - Vanilla And Coconut</td>\n",
       "      <td>AleSmith Brewing Company</td>\n",
       "      <td>American Double / Imperial Stout</td>\n",
       "      <td>12.0</td>\n",
       "    </tr>\n",
       "    <tr>\n",
       "      <th>3</th>\n",
       "      <td>68665</td>\n",
       "      <td>148</td>\n",
       "      <td>4.712738</td>\n",
       "      <td>Lips Of Faith - Eric's Ale (Bourbon Barrel Aged)</td>\n",
       "      <td>New Belgium Brewing</td>\n",
       "      <td>American Wild Ale</td>\n",
       "      <td>9.0</td>\n",
       "    </tr>\n",
       "    <tr>\n",
       "      <th>4</th>\n",
       "      <td>58921</td>\n",
       "      <td>148</td>\n",
       "      <td>4.675028</td>\n",
       "      <td>Bourbon Barrel Barleywine</td>\n",
       "      <td>Great Basin Brewing Co.</td>\n",
       "      <td>American Barleywine</td>\n",
       "      <td>13.0</td>\n",
       "    </tr>\n",
       "    <tr>\n",
       "      <th>5</th>\n",
       "      <td>38766</td>\n",
       "      <td>148</td>\n",
       "      <td>4.661421</td>\n",
       "      <td>Oak Aged Los Diablos Del Paso</td>\n",
       "      <td>Cornelius Pass Roadhouse &amp; Imbrie Hall (McMena...</td>\n",
       "      <td>American IPA</td>\n",
       "      <td>8.0</td>\n",
       "    </tr>\n",
       "    <tr>\n",
       "      <th>6</th>\n",
       "      <td>63352</td>\n",
       "      <td>148</td>\n",
       "      <td>4.655837</td>\n",
       "      <td>La Vente D'Ange</td>\n",
       "      <td>Brasserie Des Vignes</td>\n",
       "      <td>Gueuze</td>\n",
       "      <td>6.0</td>\n",
       "    </tr>\n",
       "    <tr>\n",
       "      <th>7</th>\n",
       "      <td>53717</td>\n",
       "      <td>148</td>\n",
       "      <td>4.644256</td>\n",
       "      <td>Thanks Mr. Noonan IPA</td>\n",
       "      <td>John Harvard's Brewery &amp; Ale House</td>\n",
       "      <td>American IPA</td>\n",
       "      <td>6.1</td>\n",
       "    </tr>\n",
       "    <tr>\n",
       "      <th>8</th>\n",
       "      <td>28217</td>\n",
       "      <td>148</td>\n",
       "      <td>4.625271</td>\n",
       "      <td>Darken Boar Wheat Special</td>\n",
       "      <td>Hideji Beer</td>\n",
       "      <td>Dunkelweizen</td>\n",
       "      <td>4.5</td>\n",
       "    </tr>\n",
       "    <tr>\n",
       "      <th>9</th>\n",
       "      <td>65686</td>\n",
       "      <td>148</td>\n",
       "      <td>4.620474</td>\n",
       "      <td>Coffee Infused Imperial Stout Trooper</td>\n",
       "      <td>New England Brewing Co.</td>\n",
       "      <td>American Double / Imperial Stout</td>\n",
       "      <td>8.5</td>\n",
       "    </tr>\n",
       "  </tbody>\n",
       "</table>\n",
       "</div>"
      ],
      "text/plain": [
       "   beer_beerid  user_id  ...                        beer_style beer_abv\n",
       "0        16312      148  ...            Fruit / Vegetable Beer      4.4\n",
       "1        59584      148  ...            Scotch Ale / Wee Heavy     12.3\n",
       "2        70054      148  ...  American Double / Imperial Stout     12.0\n",
       "3        68665      148  ...                 American Wild Ale      9.0\n",
       "4        58921      148  ...               American Barleywine     13.0\n",
       "5        38766      148  ...                      American IPA      8.0\n",
       "6        63352      148  ...                            Gueuze      6.0\n",
       "7        53717      148  ...                      American IPA      6.1\n",
       "8        28217      148  ...                      Dunkelweizen      4.5\n",
       "9        65686      148  ...  American Double / Imperial Stout      8.5\n",
       "\n",
       "[10 rows x 7 columns]"
      ]
     },
     "execution_count": 68,
     "metadata": {
      "tags": []
     },
     "output_type": "execute_result"
    }
   ],
   "source": [
    "top10_recomendaciones(148)"
   ]
  }
 ],
 "metadata": {
  "colab": {
   "collapsed_sections": [],
   "name": "Ejercicio_filtro_colaborativo_Luis_Blanco.ipynb",
   "provenance": [
    {
     "file_id": "1hVayZ8MqmYd4LZAgIRtO3lUetVUrixU_",
     "timestamp": 1587313366752
    }
   ]
  },
  "kernelspec": {
   "display_name": "Python 3",
   "language": "python",
   "name": "python3"
  },
  "language_info": {
   "codemirror_mode": {
    "name": "ipython",
    "version": 3
   },
   "file_extension": ".py",
   "mimetype": "text/x-python",
   "name": "python",
   "nbconvert_exporter": "python",
   "pygments_lexer": "ipython3",
   "version": "3.7.4"
  }
 },
 "nbformat": 4,
 "nbformat_minor": 1
}
