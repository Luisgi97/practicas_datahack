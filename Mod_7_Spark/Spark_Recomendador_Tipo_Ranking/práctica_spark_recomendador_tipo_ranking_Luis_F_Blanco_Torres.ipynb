{
 "cells": [
  {
   "cell_type": "markdown",
   "metadata": {
    "id": "D5h3fy11Xr9j"
   },
   "source": [
    "<center><img src='https://www.datahack.es/wp-content/uploads/2020/02/logo-home.png' width=\"500\"></center>"
   ]
  },
  {
   "cell_type": "markdown",
   "metadata": {
    "id": "Ie9KqetVXr9l"
   },
   "source": [
    "# Ejercicio recomendador tipo ranking 1 PUNTO\n",
    "En este ejercicio os propongo generar un ranking similar al que hemos visto en el apartado de algoritmos tipo ranking. En este caso en concreto lo vamos a generar sobre los datos reales de IMDb.\n",
    "\n",
    "Estos datos se pueden descargar de :\n",
    "\n",
    "https://www.imdb.com/interfaces/\n",
    "\n",
    "Al ser una base de datos muy pesada, he descargado y filtrado los datos de las películas que tengan al menos 25.000 votos.\n",
    "\n",
    "**si para el ejercicio necesitas info extra no dudes en descargarla de la url anterior**"
   ]
  },
  {
   "cell_type": "markdown",
   "metadata": {
    "id": "z_CmK650Xr9m"
   },
   "source": [
    "<center><img src='https://static.amazon.jobs/teams/53/images/IMDb_Header_Page.jpg?1501027252' width=\"800\"></center>"
   ]
  },
  {
   "cell_type": "markdown",
   "metadata": {
    "id": "MZs0B4ENXr9n"
   },
   "source": [
    "## Información\n",
    "\n",
    "\n",
    "Se han creado dos ficheros csv:\n",
    "\n",
    "- **ratings_imdb.csv:** Este fichero contiene el identificador único de IMDb, el rating y el número de votos.\n",
    "\n",
    "- **titulos_imdb.csv:** Este fichero contiene junto con el  identificador único de IMDb, información que puede resultar de interés para realizar el ejercicio."
   ]
  },
  {
   "cell_type": "markdown",
   "metadata": {
    "id": "F2RumkaIXr9o"
   },
   "source": [
    "## Pasos a seguir\n",
    "\n",
    "1. Descarga la información de IMDb en una carpeta que se llame `datos_ejercicios/imdb` .\n",
    "\n",
    "2. Lee los ficheros csv.\n",
    "\n",
    "3. Crea la función que nos permite calcular la media de IMDb.\n",
    "\n",
    "4. Prepara los datos que quieras mostrar para cada uno de los títulos.\n",
    "\n",
    "5. Extrae el top 25 del ranking. Se valora la creatividad. \n",
    "\n",
    "6. Descarga el ipynb, conviertelo a html y esos serán tus documentos de evaluación."
   ]
  },
  {
   "cell_type": "markdown",
   "metadata": {
    "id": "LS631R7zYsOJ"
   },
   "source": [
    "##0. Instalaciones y librerías"
   ]
  },
  {
   "cell_type": "code",
   "execution_count": null,
   "metadata": {
    "colab": {
     "base_uri": "https://localhost:8080/",
     "height": 34
    },
    "id": "6FZmSrPfU7Ka",
    "outputId": "a78fdedf-959c-4857-ce74-8b3cef33eeb5"
   },
   "outputs": [
    {
     "name": "stdout",
     "output_type": "stream",
     "text": [
      "Mounted at /content/drive\n"
     ]
    }
   ],
   "source": [
    "from google.colab import drive\n",
    "drive.mount('/content/drive')"
   ]
  },
  {
   "cell_type": "markdown",
   "metadata": {
    "id": "L3YvHkbRZBFH"
   },
   "source": [
    "Instalación de Spark, Findspark y Pyspark."
   ]
  },
  {
   "cell_type": "code",
   "execution_count": null,
   "metadata": {
    "colab": {
     "base_uri": "https://localhost:8080/",
     "height": 238
    },
    "id": "e85HcExsV6f1",
    "outputId": "a5415981-4fb6-42c0-d57d-a2a80bc1b6a6"
   },
   "outputs": [
    {
     "name": "stdout",
     "output_type": "stream",
     "text": [
      "Collecting pyspark\n",
      "\u001b[?25l  Downloading https://files.pythonhosted.org/packages/f0/26/198fc8c0b98580f617cb03cb298c6056587b8f0447e20fa40c5b634ced77/pyspark-3.0.1.tar.gz (204.2MB)\n",
      "\u001b[K     |████████████████████████████████| 204.2MB 57kB/s \n",
      "\u001b[?25hCollecting py4j==0.10.9\n",
      "\u001b[?25l  Downloading https://files.pythonhosted.org/packages/9e/b6/6a4fb90cd235dc8e265a6a2067f2a2c99f0d91787f06aca4bcf7c23f3f80/py4j-0.10.9-py2.py3-none-any.whl (198kB)\n",
      "\u001b[K     |████████████████████████████████| 204kB 46.5MB/s \n",
      "\u001b[?25hBuilding wheels for collected packages: pyspark\n",
      "  Building wheel for pyspark (setup.py) ... \u001b[?25l\u001b[?25hdone\n",
      "  Created wheel for pyspark: filename=pyspark-3.0.1-py2.py3-none-any.whl size=204612243 sha256=200ebfe766caf415be9f92648a666492ff1a82e1b16736d2f57059bcf31ea09d\n",
      "  Stored in directory: /root/.cache/pip/wheels/5e/bd/07/031766ca628adec8435bb40f0bd83bb676ce65ff4007f8e73f\n",
      "Successfully built pyspark\n",
      "Installing collected packages: py4j, pyspark\n",
      "Successfully installed py4j-0.10.9 pyspark-3.0.1\n"
     ]
    }
   ],
   "source": [
    "!apt-get install openjdk-8-jdk-headless -qq > /dev/null\n",
    "!wget -q http://apache.osuosl.org/spark/spark-3.0.1/spark-3.0.1-bin-hadoop2.7.tgz\n",
    "!tar xf spark-3.0.1-bin-hadoop2.7.tgz\n",
    "!pip install -q findspark\n",
    "!pip install pyspark"
   ]
  },
  {
   "cell_type": "markdown",
   "metadata": {
    "id": "PK0UxR0aZDwf"
   },
   "source": [
    "Creación de la Sesión Spark \"ejercicio_recomendadores_tipo_ranking_rehecho\"."
   ]
  },
  {
   "cell_type": "code",
   "execution_count": null,
   "metadata": {
    "id": "PsL5DoKNV6ll"
   },
   "outputs": [],
   "source": [
    "# Set up required environment variables\n",
    "import os\n",
    "os.environ[\"JAVA_HOME\"] = \"/usr/lib/jvm/java-8-openjdk-amd64\"\n",
    "os.environ[\"SPARK_HOME\"] = \"/content/spark-3.0.1-bin-hadoop2.7\"\n",
    "from pyspark import SparkContext\n",
    "from pyspark.sql import SparkSession\n",
    "spark = SparkSession.builder.appName(\"ejercicio_recomendadores_tipo_ranking\").master(\"local[*]\").getOrCreate()"
   ]
  },
  {
   "cell_type": "markdown",
   "metadata": {
    "id": "5eRMztO1ZUJ4"
   },
   "source": [
    "Instalación y carga de librerías:"
   ]
  },
  {
   "cell_type": "code",
   "execution_count": null,
   "metadata": {
    "colab": {
     "base_uri": "https://localhost:8080/",
     "height": 170
    },
    "id": "8Mz11KaGV6i9",
    "outputId": "1b7b7e8f-38d1-49d5-dc89-635264cb1c16"
   },
   "outputs": [
    {
     "name": "stdout",
     "output_type": "stream",
     "text": [
      "Collecting wget\n",
      "  Downloading https://files.pythonhosted.org/packages/47/6a/62e288da7bcda82b935ff0c6cfe542970f04e29c756b0e147251b2fb251f/wget-3.2.zip\n",
      "Building wheels for collected packages: wget\n",
      "  Building wheel for wget (setup.py) ... \u001b[?25l\u001b[?25hdone\n",
      "  Created wheel for wget: filename=wget-3.2-cp36-none-any.whl size=9682 sha256=d77464495325e1772238e3d919a76a1ed459e0a1be58c239fc1b1176a1dcba5a\n",
      "  Stored in directory: /root/.cache/pip/wheels/40/15/30/7d8f7cea2902b4db79e3fea550d7d7b85ecb27ef992b618f3f\n",
      "Successfully built wget\n",
      "Installing collected packages: wget\n",
      "Successfully installed wget-3.2\n"
     ]
    }
   ],
   "source": [
    "#Carga de datos de la web:\n",
    "!pip install wget \n",
    "import wget\n",
    "\n",
    "#Tratamiento de datos:\n",
    "import pandas as pd\n",
    "import numpy as np\n",
    "import pyspark.sql.functions as F\n",
    "import pyspark.sql.types as T\n",
    "from pyspark.sql.window import Window\n",
    "spark.conf.set(\"spark.sql.execution.arrow.enabled\", \"true\")\n",
    "\n",
    "#Dibujo de tablas y gráficos:\n",
    "pd.set_option('display.max_rows', 50) #max 50 rows out"
   ]
  },
  {
   "cell_type": "markdown",
   "metadata": {
    "id": "fgT5cbaMcDOf"
   },
   "source": [
    "##1. Descarga la información de IMDb en una carpeta que se llame datos_ejercicios/imdb."
   ]
  },
  {
   "cell_type": "code",
   "execution_count": null,
   "metadata": {
    "id": "R0-OW836lRWD"
   },
   "outputs": [],
   "source": [
    "'''En lugar de descargar de la web, he copiado con el código los archivos que tenía en la otra ruta, en la nueva'''\n",
    "#!cp '/content/drive/My Drive/Colab Notebooks/Práctica Spark/datos_ejercicios/imdb/ratings_imdb.csv' '/content/drive/My Drive/Colab Notebooks/Ejercicios Estudiar para Test de Nivel Spark/Práctica de Máster Spark'\n",
    "#!cp '/content/drive/My Drive/Colab Notebooks/Práctica Spark/datos_ejercicios/imdb/titulos_imdb.csv' '/content/drive/My Drive/Colab Notebooks/Ejercicios Estudiar para Test de Nivel Spark/Práctica de Máster Spark'"
   ]
  },
  {
   "cell_type": "code",
   "execution_count": null,
   "metadata": {
    "colab": {
     "base_uri": "https://localhost:8080/",
     "height": 35
    },
    "id": "1O3iBKxQlRMg",
    "outputId": "0a3c7e4e-999d-44b7-cf79-251a2a075161"
   },
   "outputs": [
    {
     "data": {
      "application/vnd.google.colaboratory.intrinsic+json": {
       "type": "string"
      },
      "text/plain": [
       "'/content/drive/My Drive/Colab Notebooks/Ejercicios Estudiar para Test de Nivel Spark/Práctica de Máster Spark/title.crew.tsv.gz'"
      ]
     },
     "execution_count": 8,
     "metadata": {
      "tags": []
     },
     "output_type": "execute_result"
    }
   ],
   "source": [
    "'''La descarga de la web sería'''\n",
    "wget.download('https://datasets.imdbws.com/title.crew.tsv.gz', '/content/drive/My Drive/Colab Notebooks/Ejercicios Estudiar para Test de Nivel Spark/Práctica de Máster Spark')\n",
    "#wger.download('https://datasets.imdbws.com/name.basics.tsv.gz', '/content/drive/My Drive/Colab Notebooks/Ejercicios Estudiar para Test de Nivel Spark/Práctica de Máster Spark')"
   ]
  },
  {
   "cell_type": "code",
   "execution_count": null,
   "metadata": {
    "id": "uMVEwwV9mpSD"
   },
   "outputs": [],
   "source": [
    "id_directores=pd.read_csv(\"/content/drive/My Drive/Colab Notebooks/Ejercicios Estudiar para Test de Nivel Spark/Práctica de Máster Spark/title.crew.tsv.gz\",sep=\"\\t\",compression=\"gzip\")"
   ]
  },
  {
   "cell_type": "code",
   "execution_count": null,
   "metadata": {
    "colab": {
     "base_uri": "https://localhost:8080/",
     "height": 419
    },
    "id": "5dkHv9kuoW67",
    "outputId": "f5dddcbf-2dce-429b-e219-ed1295bbe5e6"
   },
   "outputs": [
    {
     "data": {
      "text/html": [
       "<div>\n",
       "<style scoped>\n",
       "    .dataframe tbody tr th:only-of-type {\n",
       "        vertical-align: middle;\n",
       "    }\n",
       "\n",
       "    .dataframe tbody tr th {\n",
       "        vertical-align: top;\n",
       "    }\n",
       "\n",
       "    .dataframe thead th {\n",
       "        text-align: right;\n",
       "    }\n",
       "</style>\n",
       "<table border=\"1\" class=\"dataframe\">\n",
       "  <thead>\n",
       "    <tr style=\"text-align: right;\">\n",
       "      <th></th>\n",
       "      <th>tconst</th>\n",
       "      <th>directors</th>\n",
       "      <th>writers</th>\n",
       "    </tr>\n",
       "  </thead>\n",
       "  <tbody>\n",
       "    <tr>\n",
       "      <th>0</th>\n",
       "      <td>tt0000001</td>\n",
       "      <td>nm0005690</td>\n",
       "      <td>\\N</td>\n",
       "    </tr>\n",
       "    <tr>\n",
       "      <th>1</th>\n",
       "      <td>tt0000002</td>\n",
       "      <td>nm0721526</td>\n",
       "      <td>\\N</td>\n",
       "    </tr>\n",
       "    <tr>\n",
       "      <th>2</th>\n",
       "      <td>tt0000003</td>\n",
       "      <td>nm0721526</td>\n",
       "      <td>\\N</td>\n",
       "    </tr>\n",
       "    <tr>\n",
       "      <th>3</th>\n",
       "      <td>tt0000004</td>\n",
       "      <td>nm0721526</td>\n",
       "      <td>\\N</td>\n",
       "    </tr>\n",
       "    <tr>\n",
       "      <th>4</th>\n",
       "      <td>tt0000005</td>\n",
       "      <td>nm0005690</td>\n",
       "      <td>\\N</td>\n",
       "    </tr>\n",
       "    <tr>\n",
       "      <th>...</th>\n",
       "      <td>...</td>\n",
       "      <td>...</td>\n",
       "      <td>...</td>\n",
       "    </tr>\n",
       "    <tr>\n",
       "      <th>7262550</th>\n",
       "      <td>tt9916848</td>\n",
       "      <td>nm5519454,nm5519375</td>\n",
       "      <td>nm6182221,nm1628284,nm2921377</td>\n",
       "    </tr>\n",
       "    <tr>\n",
       "      <th>7262551</th>\n",
       "      <td>tt9916850</td>\n",
       "      <td>nm5519454,nm5519375</td>\n",
       "      <td>nm6182221,nm1628284,nm2921377</td>\n",
       "    </tr>\n",
       "    <tr>\n",
       "      <th>7262552</th>\n",
       "      <td>tt9916852</td>\n",
       "      <td>nm5519454,nm5519375</td>\n",
       "      <td>nm6182221,nm1628284,nm2921377</td>\n",
       "    </tr>\n",
       "    <tr>\n",
       "      <th>7262553</th>\n",
       "      <td>tt9916856</td>\n",
       "      <td>nm10538645</td>\n",
       "      <td>nm6951431</td>\n",
       "    </tr>\n",
       "    <tr>\n",
       "      <th>7262554</th>\n",
       "      <td>tt9916880</td>\n",
       "      <td>nm0996406</td>\n",
       "      <td>nm1482639,nm2586970</td>\n",
       "    </tr>\n",
       "  </tbody>\n",
       "</table>\n",
       "<p>7262555 rows × 3 columns</p>\n",
       "</div>"
      ],
      "text/plain": [
       "            tconst            directors                        writers\n",
       "0        tt0000001            nm0005690                             \\N\n",
       "1        tt0000002            nm0721526                             \\N\n",
       "2        tt0000003            nm0721526                             \\N\n",
       "3        tt0000004            nm0721526                             \\N\n",
       "4        tt0000005            nm0005690                             \\N\n",
       "...            ...                  ...                            ...\n",
       "7262550  tt9916848  nm5519454,nm5519375  nm6182221,nm1628284,nm2921377\n",
       "7262551  tt9916850  nm5519454,nm5519375  nm6182221,nm1628284,nm2921377\n",
       "7262552  tt9916852  nm5519454,nm5519375  nm6182221,nm1628284,nm2921377\n",
       "7262553  tt9916856           nm10538645                      nm6951431\n",
       "7262554  tt9916880            nm0996406            nm1482639,nm2586970\n",
       "\n",
       "[7262555 rows x 3 columns]"
      ]
     },
     "execution_count": 23,
     "metadata": {
      "tags": []
     },
     "output_type": "execute_result"
    }
   ],
   "source": [
    "id_directores"
   ]
  },
  {
   "cell_type": "code",
   "execution_count": null,
   "metadata": {
    "id": "wMm1UI0Ym5U4"
   },
   "outputs": [],
   "source": [
    "id_directores_Spark= spark.read.csv(\n",
    "    \n",
    "    \"/content/drive/My Drive/Colab Notebooks/Ejercicios Estudiar para Test de Nivel Spark/Práctica de Máster Spark/title.crew.tsv.gz\",\n",
    "    quote='\"',header =True,inferSchema=True,sep='\\t')\n"
   ]
  },
  {
   "cell_type": "code",
   "execution_count": null,
   "metadata": {
    "colab": {
     "base_uri": "https://localhost:8080/",
     "height": 187
    },
    "id": "or5HE57UoF3o",
    "outputId": "c01cc7f7-4ad2-478b-e9ab-437f5289788c"
   },
   "outputs": [
    {
     "name": "stdout",
     "output_type": "stream",
     "text": [
      "+---------+---------+-------+\n",
      "|tconst   |directors|writers|\n",
      "+---------+---------+-------+\n",
      "|tt0000001|nm0005690|\\N     |\n",
      "|tt0000002|nm0721526|\\N     |\n",
      "|tt0000003|nm0721526|\\N     |\n",
      "|tt0000004|nm0721526|\\N     |\n",
      "|tt0000005|nm0005690|\\N     |\n",
      "+---------+---------+-------+\n",
      "\n"
     ]
    }
   ],
   "source": [
    "id_directores_Spark.limit(5).show(truncate=False)"
   ]
  },
  {
   "cell_type": "markdown",
   "metadata": {
    "id": "6NOBoAwqAFCh"
   },
   "source": [
    "##2. Lee los ficheros csv."
   ]
  },
  {
   "cell_type": "code",
   "execution_count": null,
   "metadata": {
    "id": "9Jwisgr0lR6q"
   },
   "outputs": [],
   "source": [
    "#Voy a leer los que nos dio el profesor que son los del ejercicio\n",
    "#Primero leo y retoco títulos\n",
    "titulos= spark.read.csv('/content/drive/My Drive/Colab Notebooks/Ejercicios Estudiar para Test de Nivel Spark/Práctica de Máster Spark/Ranking_IMDB/titulos_imdb.csv',\n",
    "                        inferSchema=True, header=True, sep=',', quote='\"').cache()"
   ]
  },
  {
   "cell_type": "code",
   "execution_count": null,
   "metadata": {
    "colab": {
     "base_uri": "https://localhost:8080/",
     "height": 187
    },
    "id": "1sz4KZdClRw8",
    "outputId": "827e99cf-2fd3-43ae-a4c5-34dc5e87c9c4"
   },
   "outputs": [
    {
     "name": "stdout",
     "output_type": "stream",
     "text": [
      "+---------+-----+--------------------+--------------------+---------+-----+---------------+--------------------+--------------------+\n",
      "| title_id| type|       primary_title|      original_title|premiered|ended|runtime_minutes|              titulo|              genres|\n",
      "+---------+-----+--------------------+--------------------+---------+-----+---------------+--------------------+--------------------+\n",
      "|tt0010323|movie|The Cabinet of Dr...|Das Cabinet des D...|     1920| null|             76|                null|Fantasy,Horror,My...|\n",
      "|tt0012349|movie|             The Kid|             The Kid|     1921| null|             68|            El chico| Comedy,Drama,Family|\n",
      "|tt0013442|movie|           Nosferatu|Nosferatu, eine S...|     1922| null|             94|           Nosferatu|      Fantasy,Horror|\n",
      "|tt0015324|movie|        Sherlock Jr.|        Sherlock Jr.|     1924| null|             45|                null|Action,Comedy,Rom...|\n",
      "|tt0015648|movie| Battleship Potemkin|Bronenosets Potemkin|     1925| null|             75|El acorazado Pote...|Drama,History,Thr...|\n",
      "+---------+-----+--------------------+--------------------+---------+-----+---------------+--------------------+--------------------+\n",
      "\n"
     ]
    }
   ],
   "source": [
    "titulos.limit(5).show()"
   ]
  },
  {
   "cell_type": "code",
   "execution_count": null,
   "metadata": {
    "colab": {
     "base_uri": "https://localhost:8080/",
     "height": 204
    },
    "id": "oHVbWJ2LsAyR",
    "outputId": "7997f275-40f3-4005-ab2a-62af21b315aa"
   },
   "outputs": [
    {
     "name": "stdout",
     "output_type": "stream",
     "text": [
      "root\n",
      " |-- title_id: string (nullable = true)\n",
      " |-- type: string (nullable = true)\n",
      " |-- primary_title: string (nullable = true)\n",
      " |-- original_title: string (nullable = true)\n",
      " |-- premiered: integer (nullable = true)\n",
      " |-- ended: string (nullable = true)\n",
      " |-- runtime_minutes: integer (nullable = true)\n",
      " |-- titulo: string (nullable = true)\n",
      " |-- genres: string (nullable = true)\n",
      "\n"
     ]
    }
   ],
   "source": [
    "titulos.printSchema()"
   ]
  },
  {
   "cell_type": "code",
   "execution_count": null,
   "metadata": {
    "colab": {
     "base_uri": "https://localhost:8080/",
     "height": 34
    },
    "id": "a3qe61DHyC7O",
    "outputId": "a9cccf4f-9a86-49e4-af4f-dfa53b17f25b"
   },
   "outputs": [
    {
     "data": {
      "text/plain": [
       "4974"
      ]
     },
     "execution_count": 535,
     "metadata": {
      "tags": []
     },
     "output_type": "execute_result"
    }
   ],
   "source": [
    "titulos.count()"
   ]
  },
  {
   "cell_type": "code",
   "execution_count": null,
   "metadata": {
    "colab": {
     "base_uri": "https://localhost:8080/",
     "height": 119
    },
    "id": "maNquvk4x3WM",
    "outputId": "bc4e8542-be81-4aae-d140-8d9c9c49d62f"
   },
   "outputs": [
    {
     "name": "stdout",
     "output_type": "stream",
     "text": [
      "+--------+----+-------------+--------------+---------+-----+---------------+------+------+\n",
      "|title_id|type|primary_title|original_title|premiered|ended|runtime_minutes|titulo|genres|\n",
      "+--------+----+-------------+--------------+---------+-----+---------------+------+------+\n",
      "|       0|   0|            0|             0|        0| 4974|              0|  1041|     0|\n",
      "+--------+----+-------------+--------------+---------+-----+---------------+------+------+\n",
      "\n"
     ]
    }
   ],
   "source": [
    "#Comprobamos que no tengamos más nulos\n",
    "from pyspark.sql.functions import isnull, when, count, col\n",
    "\n",
    "titulos.select([count(when(isnull(c), c)).alias(c) for c in titulos.columns]).show()"
   ]
  },
  {
   "cell_type": "code",
   "execution_count": null,
   "metadata": {
    "colab": {
     "base_uri": "https://localhost:8080/",
     "height": 187
    },
    "id": "TTKZoNOhsNJ7",
    "outputId": "eb856100-f897-4de2-b59c-2558958ff4e0"
   },
   "outputs": [
    {
     "name": "stdout",
     "output_type": "stream",
     "text": [
      "+---------+-----+---------------------------+-------------------------------------+---------+---------------+---------------------+----------------------+\n",
      "|title_id |type |primary_title              |original_title                       |premiered|runtime_minutes|titulo_espanol       |genres                |\n",
      "+---------+-----+---------------------------+-------------------------------------+---------+---------------+---------------------+----------------------+\n",
      "|tt0010323|movie|The Cabinet of Dr. Caligari|Das Cabinet des Dr. Caligari         |1920     |76             |¿?                   |Fantasy,Horror,Mystery|\n",
      "|tt0012349|movie|The Kid                    |The Kid                              |1921     |68             |El chico             |Comedy,Drama,Family   |\n",
      "|tt0013442|movie|Nosferatu                  |Nosferatu, eine Symphonie des Grauens|1922     |94             |Nosferatu            |Fantasy,Horror        |\n",
      "|tt0015324|movie|Sherlock Jr.               |Sherlock Jr.                         |1924     |45             |¿?                   |Action,Comedy,Romance |\n",
      "|tt0015648|movie|Battleship Potemkin        |Bronenosets Potemkin                 |1925     |75             |El acorazado Potemkin|Drama,History,Thriller|\n",
      "+---------+-----+---------------------------+-------------------------------------+---------+---------------+---------------------+----------------------+\n",
      "\n"
     ]
    }
   ],
   "source": [
    "#Todos son nulos en la columna 'ended' y en 'titulo' hay algunos.\n",
    "#Cambiamos el nombre de la columna titulo y rellenamos los nulos con ¿?. Nos cargamos la columna ended\n",
    "titulos= (\n",
    "    titulos\n",
    "    .fillna('¿?',subset='titulo')\n",
    "    .withColumnRenamed('titulo', 'titulo_espanol')\n",
    "    .drop('ended')\n",
    ")\n",
    "\n",
    "titulos.limit(5).show(truncate=False)"
   ]
  },
  {
   "cell_type": "code",
   "execution_count": null,
   "metadata": {
    "colab": {
     "base_uri": "https://localhost:8080/",
     "height": 34
    },
    "id": "B0EO-L1P_YfS",
    "outputId": "90af2aec-609b-40ee-f010-d237a0da776e"
   },
   "outputs": [
    {
     "data": {
      "text/plain": [
       "4974"
      ]
     },
     "execution_count": 13,
     "metadata": {
      "tags": []
     },
     "output_type": "execute_result"
    }
   ],
   "source": [
    "titulos.distinct().count()"
   ]
  },
  {
   "cell_type": "code",
   "execution_count": null,
   "metadata": {
    "colab": {
     "base_uri": "https://localhost:8080/",
     "height": 119
    },
    "id": "ff5cn9j3yjJE",
    "outputId": "09df3e60-9c9b-4298-ff7b-eba26d00d85d"
   },
   "outputs": [
    {
     "name": "stdout",
     "output_type": "stream",
     "text": [
      "+--------+-------------+--------------+---------+-----+---------------+------+------+\n",
      "|title_id|primary_title|original_title|premiered|ended|runtime_minutes|titulo|genres|\n",
      "+--------+-------------+--------------+---------+-----+---------------+------+------+\n",
      "|       0|            0|             0|        0| 4974|              0|  1041|     0|\n",
      "+--------+-------------+--------------+---------+-----+---------------+------+------+\n",
      "\n"
     ]
    }
   ],
   "source": [
    "#Volvemos a comprobar los nulos y si se ha eliminado la columna\n",
    "titulos.select([F.count(F.when(F.isnull(c), c)).alias(c) for c in titulos.columns]).show()"
   ]
  },
  {
   "cell_type": "code",
   "execution_count": null,
   "metadata": {
    "colab": {
     "base_uri": "https://localhost:8080/",
     "height": 51
    },
    "id": "X6Fwwm8Du6u4",
    "outputId": "6f27cdae-08a4-42b6-ec7d-77687812e744"
   },
   "outputs": [
    {
     "name": "stdout",
     "output_type": "stream",
     "text": [
      "Número de type=movie: 4974\n",
      "Número de datos totales: 4974\n"
     ]
    }
   ],
   "source": [
    "#Vemos si el type sólo es movie\n",
    "print('Número de type=movie:',titulos.filter(F.col('type') == 'movie').count())\n",
    "print('Número de datos totales:',titulos.count())"
   ]
  },
  {
   "cell_type": "code",
   "execution_count": null,
   "metadata": {
    "colab": {
     "base_uri": "https://localhost:8080/",
     "height": 479
    },
    "id": "llcVmiDQwgAm",
    "outputId": "70d47a6c-f1f8-4e19-ebea-f17d7f8c2520"
   },
   "outputs": [
    {
     "name": "stdout",
     "output_type": "stream",
     "text": [
      "+---------+------------------------------+-------------------------------------+---------+-----+---------------+---------------------------+-----------------------+\n",
      "|title_id |primary_title                 |original_title                       |premiered|ended|runtime_minutes|titulo                     |genres                 |\n",
      "+---------+------------------------------+-------------------------------------+---------+-----+---------------+---------------------------+-----------------------+\n",
      "|tt0010323|The Cabinet of Dr. Caligari   |Das Cabinet des Dr. Caligari         |1920     |null |76             |null                       |Fantasy,Horror,Mystery |\n",
      "|tt0012349|The Kid                       |The Kid                              |1921     |null |68             |El chico                   |Comedy,Drama,Family    |\n",
      "|tt0013442|Nosferatu                     |Nosferatu, eine Symphonie des Grauens|1922     |null |94             |Nosferatu                  |Fantasy,Horror         |\n",
      "|tt0015324|Sherlock Jr.                  |Sherlock Jr.                         |1924     |null |45             |null                       |Action,Comedy,Romance  |\n",
      "|tt0015648|Battleship Potemkin           |Bronenosets Potemkin                 |1925     |null |75             |El acorazado Potemkin      |Drama,History,Thriller |\n",
      "|tt0015864|The Gold Rush                 |The Gold Rush                        |1925     |null |95             |La quimera del oro         |Adventure,Comedy,Drama |\n",
      "|tt0017136|Metropolis                    |Metropolis                           |1927     |null |153            |Metrópolis                 |Drama,Sci-Fi           |\n",
      "|tt0017925|The General                   |The General                          |1926     |null |67             |El maquinista de La General|Action,Adventure,Comedy|\n",
      "|tt0018455|Sunrise                       |Sunrise: A Song of Two Humans        |1927     |null |94             |null                       |Drama,Romance          |\n",
      "|tt0019254|The Passion of Joan of Arc    |La passion de Jeanne d'Arc           |1928     |null |110            |null                       |Biography,Drama,History|\n",
      "|tt0020629|All Quiet on the Western Front|All Quiet on the Western Front       |1930     |null |136            |null                       |Drama,War              |\n",
      "|tt0021749|City Lights                   |City Lights                          |1931     |null |87             |Luces de la ciudad         |Comedy,Drama,Romance   |\n",
      "|tt0021814|Dracula                       |Dracula                              |1931     |null |75             |Drácula                    |Fantasy,Horror         |\n",
      "|tt0021884|Frankenstein                  |Frankenstein                         |1931     |null |70             |El doctor Frankenstein     |Drama,Horror,Sci-Fi    |\n",
      "|tt0022100|M                             |M - Eine Stadt sucht einen Mörder    |1931     |null |117            |M, el vampiro de Düsseldorf|Crime,Mystery,Thriller |\n",
      "|tt0022913|Freaks                        |Freaks                               |1932     |null |64             |La parada de los monstruos |Drama,Horror           |\n",
      "|tt0023969|Duck Soup                     |Duck Soup                            |1933     |null |69             |Sopa de ganso              |Comedy,Musical,War     |\n",
      "|tt0024184|The Invisible Man             |The Invisible Man                    |1933     |null |71             |El hombre invisible        |Horror,Sci-Fi          |\n",
      "|tt0024216|King Kong                     |King Kong                            |1933     |null |100            |King Kong                  |Adventure,Horror,Sci-Fi|\n",
      "|tt0025316|It Happened One Night         |It Happened One Night                |1934     |null |105            |Sucedió una noche          |Comedy,Romance         |\n",
      "+---------+------------------------------+-------------------------------------+---------+-----+---------------+---------------------------+-----------------------+\n",
      "only showing top 20 rows\n",
      "\n"
     ]
    }
   ],
   "source": [
    "#Son todos iguales, luego nos lo cargamos\n",
    "titulos= titulos.drop('type')\n",
    "\n",
    "titulos.show(truncate=False)"
   ]
  },
  {
   "cell_type": "code",
   "execution_count": null,
   "metadata": {
    "colab": {
     "base_uri": "https://localhost:8080/",
     "height": 136
    },
    "id": "14VAZ1RkWtpE",
    "outputId": "68be772c-5319-4463-a4ea-a523779f199f"
   },
   "outputs": [
    {
     "name": "stdout",
     "output_type": "stream",
     "text": [
      "+------------------------+\n",
      "|count(DISTINCT title_id)|\n",
      "+------------------------+\n",
      "|                    4937|\n",
      "+------------------------+\n",
      "\n",
      "None\n"
     ]
    }
   ],
   "source": [
    "#Vemos duplicados\n",
    "print(titulos.select(F.countDistinct('title_id')).show())"
   ]
  },
  {
   "cell_type": "code",
   "execution_count": null,
   "metadata": {
    "id": "7jqLG8W5ZKA_"
   },
   "outputs": [],
   "source": [
    "#Hay duplicados, los eliminaremos después de unir las tablas"
   ]
  },
  {
   "cell_type": "code",
   "execution_count": null,
   "metadata": {
    "id": "8dKNxizwxdcs"
   },
   "outputs": [],
   "source": [
    "#Leemos y retocamos el otro dataset\n",
    "ratings= spark.read.csv('/content/drive/My Drive/Colab Notebooks/Ejercicios Estudiar para Test de Nivel Spark/Práctica de Máster Spark/Ranking_IMDB/ratings_imdb.csv',\n",
    "                        inferSchema=True, quote='\"',sep=',',header=True).cache()"
   ]
  },
  {
   "cell_type": "code",
   "execution_count": null,
   "metadata": {
    "colab": {
     "base_uri": "https://localhost:8080/",
     "height": 459
    },
    "id": "Th1r-PY7zY0R",
    "outputId": "eca9bd9e-6c6a-4877-be98-dd586b6117f3"
   },
   "outputs": [
    {
     "name": "stdout",
     "output_type": "stream",
     "text": [
      "+---------+------+------+\n",
      "| title_id|rating| votes|\n",
      "+---------+------+------+\n",
      "|tt0010323|   8.1| 51891|\n",
      "|tt0012349|   8.3|102198|\n",
      "|tt0013442|   7.9| 83163|\n",
      "|tt0015324|   8.2| 35443|\n",
      "|tt0015648|   8.0| 49394|\n",
      "|tt0015864|   8.2| 92335|\n",
      "|tt0017136|   8.3|148997|\n",
      "|tt0017925|   8.1| 74070|\n",
      "|tt0018455|   8.1| 44438|\n",
      "|tt0019254|   8.2| 42456|\n",
      "|tt0020629|   8.0| 54473|\n",
      "|tt0021749|   8.5|153361|\n",
      "|tt0021814|   7.5| 42833|\n",
      "|tt0021884|   7.8| 60562|\n",
      "|tt0022100|   8.3|132541|\n",
      "|tt0022913|   7.9| 39519|\n",
      "|tt0023969|   7.8| 53199|\n",
      "|tt0024184|   7.7| 27265|\n",
      "|tt0024216|   7.9| 75249|\n",
      "|tt0025316|   8.1| 87032|\n",
      "+---------+------+------+\n",
      "only showing top 20 rows\n",
      "\n"
     ]
    }
   ],
   "source": [
    "ratings.show()"
   ]
  },
  {
   "cell_type": "code",
   "execution_count": null,
   "metadata": {
    "colab": {
     "base_uri": "https://localhost:8080/",
     "height": 102
    },
    "id": "_j4gOaTh5bzI",
    "outputId": "e63d50ee-8b2b-462f-b220-8b5bb86ffd1c"
   },
   "outputs": [
    {
     "name": "stdout",
     "output_type": "stream",
     "text": [
      "root\n",
      " |-- title_id: string (nullable = true)\n",
      " |-- rating: double (nullable = true)\n",
      " |-- votes: integer (nullable = true)\n",
      "\n"
     ]
    }
   ],
   "source": [
    "ratings.printSchema()"
   ]
  },
  {
   "cell_type": "code",
   "execution_count": null,
   "metadata": {
    "colab": {
     "base_uri": "https://localhost:8080/",
     "height": 119
    },
    "id": "LUY1Sqnr5b5u",
    "outputId": "4974bba0-e8a4-47be-92b2-62aca80b9af6"
   },
   "outputs": [
    {
     "name": "stdout",
     "output_type": "stream",
     "text": [
      "+--------+------+-----+\n",
      "|title_id|rating|votes|\n",
      "+--------+------+-----+\n",
      "|       0|     0|    0|\n",
      "+--------+------+-----+\n",
      "\n"
     ]
    }
   ],
   "source": [
    "#Vemos si hay nulos\n",
    "ratings.select([F.count(F.when(F.isnull(c), c)).alias(c) for c in ratings.columns]).show()"
   ]
  },
  {
   "cell_type": "code",
   "execution_count": null,
   "metadata": {
    "colab": {
     "base_uri": "https://localhost:8080/",
     "height": 51
    },
    "id": "EL1zEJI77lvp",
    "outputId": "3a26fece-4197-4e6f-b680-92c953d3ca65"
   },
   "outputs": [
    {
     "name": "stdout",
     "output_type": "stream",
     "text": [
      "Número de datos ratings:  4974\n",
      "Número de datos titulos: 4974\n"
     ]
    }
   ],
   "source": [
    "#Vemos que tenemos el mismo número de datos en ratings y en titulos\n",
    "print('Número de datos ratings: ',ratings.count())\n",
    "print('Número de datos titulos:',titulos.count())"
   ]
  },
  {
   "cell_type": "code",
   "execution_count": null,
   "metadata": {
    "colab": {
     "base_uri": "https://localhost:8080/",
     "height": 136
    },
    "id": "-E4ZD-nkZSwD",
    "outputId": "fc15cde5-dbe4-4698-a7a4-f617bb445814"
   },
   "outputs": [
    {
     "name": "stdout",
     "output_type": "stream",
     "text": [
      "+------------------------+\n",
      "|count(DISTINCT title_id)|\n",
      "+------------------------+\n",
      "|                    4937|\n",
      "+------------------------+\n",
      "\n",
      "None\n"
     ]
    }
   ],
   "source": [
    "#Vemos duplicados\n",
    "print(ratings.select(F.countDistinct('title_id')).show())\n"
   ]
  },
  {
   "cell_type": "code",
   "execution_count": null,
   "metadata": {
    "id": "j479KA7GZSqn"
   },
   "outputs": [],
   "source": [
    "#Tenemos duplicados, los eliminaremos despues de unir las tablas"
   ]
  },
  {
   "cell_type": "code",
   "execution_count": null,
   "metadata": {
    "colab": {
     "base_uri": "https://localhost:8080/",
     "height": 459
    },
    "id": "w9DDjElV5bwc",
    "outputId": "d175f44f-94f1-4798-e314-cfb844472ed1"
   },
   "outputs": [
    {
     "name": "stdout",
     "output_type": "stream",
     "text": [
      "+---------+--------------------+--------------------+---------+---------------+--------------------+--------------------+------+------+\n",
      "| title_id|       primary_title|      original_title|premiered|runtime_minutes|      titulo_espanol|              genres|rating| votes|\n",
      "+---------+--------------------+--------------------+---------+---------------+--------------------+--------------------+------+------+\n",
      "|tt0022100|                   M|M - Eine Stadt su...|     1931|            117|M, el vampiro de ...|Crime,Mystery,Thr...|   8.3|132541|\n",
      "|tt0093756|Police Academy 4:...|Police Academy 4:...|     1987|             88|Loca academia de ...|        Comedy,Crime|   5.0| 38032|\n",
      "|tt0094963|       The Dead Pool|       The Dead Pool|     1988|             91|      La lista negra|Action,Crime,Mystery|   6.3| 37906|\n",
      "|tt0110367|        Little Women|        Little Women|     1994|            115|          Mujercitas|Drama,Family,Romance|   7.3| 45270|\n",
      "|tt0227445|           The Score|           The Score|     2001|            124|The Score (Un gol...|Crime,Drama,Thriller|   6.8|115025|\n",
      "|tt0243736|40 Days and 40 Ni...|40 Days and 40 Ni...|     2002|             96| 40 días y 40 noches|      Comedy,Romance|   5.6| 68191|\n",
      "|tt0266697|   Kill Bill: Vol. 1|   Kill Bill: Vol. 1|     2003|            111|Kill Bill: Volumen 1|Action,Crime,Thri...|   8.1|935485|\n",
      "|tt0298228|         Whale Rider|         Whale Rider|     2002|            101|                  ¿?|        Drama,Family|   7.5| 38039|\n",
      "|tt0347048|             Head-On|      Gegen die Wand|     2004|            121|                  ¿?|       Drama,Romance|   7.9| 48105|\n",
      "|tt0360201|           Wimbledon|           Wimbledon|     2004|             98|Wimbledon (El amo...|Comedy,Romance,Sport|   6.3| 57389|\n",
      "|tt0385726|          Glory Road|          Glory Road|     2006|            118|                  ¿?|Biography,Drama,S...|   7.2| 40684|\n",
      "|tt0417741|Harry Potter and ...|Harry Potter and ...|     2009|            153|Harry Potter y el...|Action,Adventure,...|   7.6|432494|\n",
      "|tt0418455|       Adam's Apples|         Adams æbler|     2005|             94|                  ¿?|  Comedy,Crime,Drama|   7.8| 42735|\n",
      "|tt0476964|       The Brave One|       The Brave One|     2007|            122|La extraña que ha...|  Action,Crime,Drama|   6.7| 56442|\n",
      "|tt0780536|           In Bruges|           In Bruges|     2008|            107|                  ¿?|  Comedy,Crime,Drama|   7.9|370962|\n",
      "|tt0851578|             Paprika|            Papurika|     2006|             90|             Paprika|Animation,Drama,F...|   7.7| 63665|\n",
      "|tt1068680|             Yes Man|             Yes Man|     2008|            104|           Di que sí|      Comedy,Romance|   6.8|316746|\n",
      "|tt1231587|Hot Tub Time Machine|Hot Tub Time Machine|     2010|            101|   Jacuzzi al pasado|       Comedy,Sci-Fi|   6.4|156336|\n",
      "|tt1285241|               Don 2|               Don 2|     2011|            148|                  ¿?|Action,Crime,Thri...|   7.1| 47210|\n",
      "|tt1408101|Star Trek Into Da...|Star Trek Into Da...|     2013|            132|Star Trek: En la ...|Action,Adventure,...|   7.7|450556|\n",
      "+---------+--------------------+--------------------+---------+---------------+--------------------+--------------------+------+------+\n",
      "only showing top 20 rows\n",
      "\n"
     ]
    }
   ],
   "source": [
    "#Unimos los dos dataset por title_id\n",
    "\n",
    "peliculas= titulos.join(ratings, on='title_id').cache()\n",
    "\n",
    "peliculas.show()"
   ]
  },
  {
   "cell_type": "code",
   "execution_count": null,
   "metadata": {
    "colab": {
     "base_uri": "https://localhost:8080/",
     "height": 119
    },
    "id": "doAmOiet712U",
    "outputId": "16489b3f-cf04-4178-8b62-6c74157c8bef"
   },
   "outputs": [
    {
     "name": "stdout",
     "output_type": "stream",
     "text": [
      "+--------+-------------+--------------+---------+---------------+--------------+------+------+-----+\n",
      "|title_id|primary_title|original_title|premiered|runtime_minutes|titulo_espanol|genres|rating|votes|\n",
      "+--------+-------------+--------------+---------+---------------+--------------+------+------+-----+\n",
      "|       0|            0|             0|        0|              0|             0|     0|     0|    0|\n",
      "+--------+-------------+--------------+---------+---------------+--------------+------+------+-----+\n",
      "\n"
     ]
    }
   ],
   "source": [
    "#Comprobamos de nuevo que no haya nulos, pa porsi\n",
    "peliculas.select([count(when(isnull(c), c)).alias(c) for c in peliculas.columns]).show()"
   ]
  },
  {
   "cell_type": "code",
   "execution_count": null,
   "metadata": {
    "colab": {
     "base_uri": "https://localhost:8080/",
     "height": 187
    },
    "id": "Pq8x5O0y8HSO",
    "outputId": "a974d663-8776-4c2a-e52b-bbe3808230de"
   },
   "outputs": [
    {
     "name": "stdout",
     "output_type": "stream",
     "text": [
      "Total ids diferentes:\n",
      "+------------------------+\n",
      "|count(DISTINCT title_id)|\n",
      "+------------------------+\n",
      "|                    4937|\n",
      "+------------------------+\n",
      "\n",
      "None\n",
      "Total datos:\n",
      "5050\n"
     ]
    }
   ],
   "source": [
    "#Comprobamos duplicados\n",
    "print('Total ids diferentes:')\n",
    "print(peliculas.select(F.countDistinct('title_id')).show())\n",
    "print('Total datos:')\n",
    "print(peliculas.count())"
   ]
  },
  {
   "cell_type": "code",
   "execution_count": null,
   "metadata": {
    "colab": {
     "base_uri": "https://localhost:8080/",
     "height": 289
    },
    "id": "jzP3BIkm8aD4",
    "outputId": "98289264-cb6e-46f1-f73b-5c3c86c50c2c"
   },
   "outputs": [
    {
     "name": "stdout",
     "output_type": "stream",
     "text": [
      "Distintos\n",
      "+--------+-------------+--------------+---------+---------------+--------------+------+------+-----+\n",
      "|title_id|primary_title|original_title|premiered|runtime_minutes|titulo_espanol|genres|rating|votes|\n",
      "+--------+-------------+--------------+---------+---------------+--------------+------+------+-----+\n",
      "|    4937|         4824|          4835|       98|            147|          3876|   368|    75| 4833|\n",
      "+--------+-------------+--------------+---------+---------------+--------------+------+------+-----+\n",
      "\n",
      "None\n",
      "Totales\n",
      "+--------+-------------+--------------+---------+---------------+--------------+------+------+-----+\n",
      "|title_id|primary_title|original_title|premiered|runtime_minutes|titulo_espanol|genres|rating|votes|\n",
      "+--------+-------------+--------------+---------+---------------+--------------+------+------+-----+\n",
      "|    5050|         5050|          5050|     5050|           5050|          5050|  5050|  5050| 5050|\n",
      "+--------+-------------+--------------+---------+---------------+--------------+------+------+-----+\n",
      "\n",
      "None\n"
     ]
    }
   ],
   "source": [
    "#OJOOO!!! Algo pasa... ¿Tenemos duplicados?\n",
    "print('Distintos')\n",
    "print(peliculas.select([F.countDistinct(c).alias(c) for c in peliculas.columns]).show())\n",
    "print('Totales')\n",
    "print(peliculas.select([F.count(c).alias(c) for c in peliculas.columns]).show())"
   ]
  },
  {
   "cell_type": "code",
   "execution_count": null,
   "metadata": {
    "id": "XMshhf--XsD7"
   },
   "outputs": [],
   "source": [
    "peliculas= peliculas.drop_duplicates(['title_id'])"
   ]
  },
  {
   "cell_type": "code",
   "execution_count": null,
   "metadata": {
    "colab": {
     "base_uri": "https://localhost:8080/",
     "height": 34
    },
    "id": "THlqBXTqXsAX",
    "outputId": "3ad1a8bc-5f50-44b1-933b-f94c6f67e59b"
   },
   "outputs": [
    {
     "data": {
      "text/plain": [
       "4937"
      ]
     },
     "execution_count": 230,
     "metadata": {
      "tags": []
     },
     "output_type": "execute_result"
    }
   ],
   "source": [
    "peliculas.count()"
   ]
  },
  {
   "cell_type": "code",
   "execution_count": null,
   "metadata": {
    "colab": {
     "base_uri": "https://localhost:8080/",
     "height": 289
    },
    "id": "aJVo0veiGauB",
    "outputId": "4a28cfd7-edc9-4464-aa74-e0731316353c"
   },
   "outputs": [
    {
     "name": "stdout",
     "output_type": "stream",
     "text": [
      "Distintos\n",
      "+--------+-------------+--------------+---------+---------------+--------------+------+------+-----+\n",
      "|title_id|primary_title|original_title|premiered|runtime_minutes|titulo_espanol|genres|rating|votes|\n",
      "+--------+-------------+--------------+---------+---------------+--------------+------+------+-----+\n",
      "|    4937|         4937|          4937|     4937|           4937|          4937|  4937|  4937| 4937|\n",
      "+--------+-------------+--------------+---------+---------------+--------------+------+------+-----+\n",
      "\n",
      "None\n",
      "Totales\n",
      "+--------+-------------+--------------+---------+---------------+--------------+------+------+-----+\n",
      "|title_id|primary_title|original_title|premiered|runtime_minutes|titulo_espanol|genres|rating|votes|\n",
      "+--------+-------------+--------------+---------+---------------+--------------+------+------+-----+\n",
      "|    4937|         4937|          4937|     4937|           4937|          4937|  4937|  4937| 4937|\n",
      "+--------+-------------+--------------+---------+---------------+--------------+------+------+-----+\n",
      "\n",
      "None\n"
     ]
    }
   ],
   "source": [
    "print('Distintos')\n",
    "print(peliculas.select([F.countDistinct('title_id').alias(c) for c in peliculas.columns]).show())\n",
    "print('Totales')\n",
    "print(peliculas.select([F.count('title_id').alias(c) for c in peliculas.columns]).show())"
   ]
  },
  {
   "cell_type": "code",
   "execution_count": null,
   "metadata": {
    "id": "gopFb1jG6_3u"
   },
   "outputs": [],
   "source": [
    "#Ya tenemos nuestro dataset retocado y bonito"
   ]
  },
  {
   "cell_type": "markdown",
   "metadata": {
    "id": "n2KwZKvQHi0a"
   },
   "source": [
    "##3. Crea la función que nos permite calcular la media de IMDb."
   ]
  },
  {
   "cell_type": "markdown",
   "metadata": {
    "id": "ntrLbc-mIiJG"
   },
   "source": [
    "+ Info: https://help.imdb.com/article/imdb/track-movies-tv/weighted-average-ratings/GWT2DSBYVT2F25SK?ref_=helpsect_pro_2_8#  \n",
    "+ Info: https://help.imdb.com/article/imdb/track-movies-tv/ratings-faq/G67Y87TFYYP6TWAV?ref_=helpms_helpart_inline#  \n",
    "\n",
    "\n",
    "**Fórmula Weighted Rating de IMDb**\n",
    "\n",
    "The following formula is used to calculate the Top Rated 250 titles. This formula provides a true 'Bayesian estimate', which takes into account the number of votes each title has received, minimum votes required to be on the list, and the mean vote for all titles:\n",
    "\n",
    "**$$WR=\\frac{Rv+Cm}{v+m}$$**\n",
    "\n",
    "Where:\n",
    "\n",
    "**R** = average for the movie (mean) = (rating)\n",
    "\n",
    "**v** = number of votes for the movie = (votes)\n",
    "\n",
    "**m** = minimum votes required to be listed in the Top Rated list (currently 25,000)\n",
    "\n",
    "**C** = the mean vote across the whole report\n",
    "\n",
    "<font color=\"Grey\">Please be aware that the Top Rated Movies Chart only includes theatrical features: shorts, TV movies, miniseries and documentaries are not included in the Top Rated Movies Chart. The Top Rated TV Shows Chart includes TV Series, but not TV episodes or Movies.\n",
    "\n",
    "\n"
   ]
  },
  {
   "cell_type": "code",
   "execution_count": null,
   "metadata": {
    "id": "Kq9AG00h7LK0"
   },
   "outputs": [],
   "source": [
    "#m= número mínimo de votos, vamos a poner 250.000\n",
    "m=250000"
   ]
  },
  {
   "cell_type": "code",
   "execution_count": null,
   "metadata": {
    "colab": {
     "base_uri": "https://localhost:8080/",
     "height": 34
    },
    "id": "AUTEJ_4Y7LP2",
    "outputId": "1585a5a5-a8d4-4219-806a-96254af79d34"
   },
   "outputs": [
    {
     "data": {
      "text/plain": [
       "6.7602997771926265"
      ]
     },
     "execution_count": 621,
     "metadata": {
      "tags": []
     },
     "output_type": "execute_result"
    }
   ],
   "source": [
    "c=peliculas.agg(F.mean('rating')).collect()[0][0]\n",
    "c"
   ]
  },
  {
   "cell_type": "code",
   "execution_count": null,
   "metadata": {
    "id": "fzGAnLOF7LG-"
   },
   "outputs": [],
   "source": [
    "def WR(R,v, c=c,m=m):\n",
    "  return round((R*v+C*m)/(v+m),3)"
   ]
  },
  {
   "cell_type": "code",
   "execution_count": null,
   "metadata": {
    "id": "UNB3uiPtare7"
   },
   "outputs": [],
   "source": [
    "wr_udf=F.udf(WR, T.DoubleType())"
   ]
  },
  {
   "cell_type": "markdown",
   "metadata": {
    "id": "YsW4vGFZMWXG"
   },
   "source": [
    "##4. Prepara los datos que quieras mostrar para cada uno de los títulos."
   ]
  },
  {
   "cell_type": "code",
   "execution_count": null,
   "metadata": {
    "colab": {
     "base_uri": "https://localhost:8080/",
     "height": 479
    },
    "id": "bUKam-2-a33b",
    "outputId": "9fd361bf-1d7d-4f69-a8aa-9afe34606392"
   },
   "outputs": [
    {
     "name": "stdout",
     "output_type": "stream",
     "text": [
      "+---------+--------------------------------------------+--------------------------------------------+---------+---------------+-------------------------------------------------+--------------------------+------+------+\n",
      "|title_id |primary_title                               |original_title                              |premiered|runtime_minutes|titulo_espanol                                   |genres                    |rating|votes |\n",
      "+---------+--------------------------------------------+--------------------------------------------+---------+---------------+-------------------------------------------------+--------------------------+------+------+\n",
      "|tt0032553|The Great Dictator                          |The Great Dictator                          |1940     |125            |El gran dictador                                 |Comedy,Drama,War          |8.5   |187390|\n",
      "|tt0032599|His Girl Friday                             |His Girl Friday                             |1940     |92             |Luna nueva                                       |Comedy,Drama,Romance      |7.9   |49723 |\n",
      "|tt0066995|Diamonds Are Forever                        |Diamonds Are Forever                        |1971     |120            |Diamantes para la eternidad                      |Action,Adventure,Thriller |6.6   |88793 |\n",
      "|tt0089218|The Goonies                                 |The Goonies                                 |1985     |114            |Los Goonies                                      |Adventure,Comedy,Family   |7.8   |224926|\n",
      "|tt0113627|Leaving Las Vegas                           |Leaving Las Vegas                           |1995     |111            |¿?                                               |Drama,Romance             |7.5   |108836|\n",
      "|tt0119528|Liar Liar                                   |Liar Liar                                   |1997     |86             |Mentiroso compulsivo                             |Comedy,Fantasy            |6.9   |266074|\n",
      "|tt0121766|Star Wars: Episode III - Revenge of the Sith|Star Wars: Episode III - Revenge of the Sith|2005     |140            |Star Wars: Episodio III - La venganza de los Sith|Action,Adventure,Fantasy  |7.5   |658747|\n",
      "|tt0133240|Treasure Planet                             |Treasure Planet                             |2002     |95             |El planeta del tesoro                            |Adventure,Animation,Family|7.2   |93810 |\n",
      "|tt0204946|Bring It On                                 |Bring It On                                 |2000     |98             |A por todas                                      |Comedy,Romance,Sport      |6.0   |82764 |\n",
      "|tt0363988|Secret Window                               |Secret Window                               |2004     |96             |¿?                                               |Drama,Mystery,Thriller    |6.6   |173329|\n",
      "|tt0383028|Synecdoche, New York                        |Synecdoche, New York                        |2008     |124            |¿?                                               |Comedy,Drama              |7.6   |75047 |\n",
      "|tt0449010|Eragon                                      |Eragon                                      |2006     |104            |Eragon                                           |Action,Adventure,Family   |5.1   |118507|\n",
      "|tt0463854|28 Weeks Later                              |28 Weeks Later                              |2007     |100            |28 semanas después                               |Drama,Horror,Sci-Fi       |7.0   |246310|\n",
      "|tt0810922|Take Me Home Tonight                        |Take Me Home Tonight                        |2011     |97             |Llévame a casa nena                              |Comedy,Drama,Romance      |6.3   |49417 |\n",
      "|tt0844286|The Brothers Bloom                          |The Brothers Bloom                          |2008     |114            |Los hermanos Bloom                               |Action,Adventure,Comedy   |6.8   |47049 |\n",
      "|tt1031969|The Rocker                                  |The Rocker                                  |2008     |102            |¿?                                               |Comedy,Music              |6.2   |35746 |\n",
      "|tt1280558|A Wednesday                                 |A Wednesday                                 |2008     |104            |¿?                                               |Crime,Drama,Mystery       |8.1   |69788 |\n",
      "|tt1386588|The Other Guys                              |The Other Guys                              |2010     |107            |Los otros dos                                    |Action,Comedy,Crime       |6.6   |227120|\n",
      "|tt1499658|Horrible Bosses                             |Horrible Bosses                             |2011     |98             |Cómo acabar con tu jefe                          |Comedy,Crime              |6.9   |405165|\n",
      "|tt1529572|Trust                                       |Trust                                       |2010     |106            |Puedes confiar en mí                             |Crime,Drama,Thriller      |6.9   |39863 |\n",
      "+---------+--------------------------------------------+--------------------------------------------+---------+---------------+-------------------------------------------------+--------------------------+------+------+\n",
      "only showing top 20 rows\n",
      "\n"
     ]
    }
   ],
   "source": [
    "peliculas.show(truncate=False)"
   ]
  },
  {
   "cell_type": "code",
   "execution_count": null,
   "metadata": {
    "colab": {
     "base_uri": "https://localhost:8080/",
     "height": 105
    },
    "id": "2EnoO96U-O69",
    "outputId": "80c64199-565f-4a42-bf48-101d237be939"
   },
   "outputs": [
    {
     "name": "stderr",
     "output_type": "stream",
     "text": [
      "/usr/local/lib/python3.6/dist-packages/pyspark/sql/pandas/conversion.py:88: UserWarning: toPandas attempted Arrow optimization because 'spark.sql.execution.arrow.pyspark.enabled' is set to true; however, failed by the reason below:\n",
      "  PyArrow >= 0.15.1 must be installed; however, your version was 0.14.1.\n",
      "Attempting non-optimization as 'spark.sql.execution.arrow.pyspark.fallback.enabled' is set to true.\n",
      "  warnings.warn(msg)\n"
     ]
    }
   ],
   "source": [
    "#Esto sería con pandas!!!\n",
    "#Lo que voy a hacer no debe hacerse para datasets inmensos, porque meto en rom al pasar a pandas\n",
    "\n",
    "#peliculas_pandas= peliculas.toPandas()\n",
    "\n",
    "#Creo una variable que contiene una lista de tuplas con todas las pelis (primary_title) que (en titulo tienen) ¿?, y su indice\n",
    "\n",
    "#a=[(fila[1],indice_fila) for indice_fila, fila in peliculas_pandas.iterrows() if fila[5] == '¿?']\n",
    "\n",
    "#Hago un dataframe con la lista de tuplas\n",
    "\n",
    "#A=pd.DataFrame(a)\n",
    "\n",
    "#Itero sobre el dataframe peliculas_pandas, de manera que cambie el titulo_espanol que era ¿? por el primary_title\n",
    "\n",
    "'''for i in A[1]:\n",
    "      peliculas_pandas.titulo_espanol[i] = peliculas_pandas.primary_title[i]'''\n",
    "\n",
    "#Guardo el dataset\n",
    "\n",
    "#peliculas_pandas.to_csv('/content/drive/My Drive/Colab Notebooks/Ejercicios Estudiar para Test de Nivel Spark/Práctica de Máster Spark/peliculas_pandas.csv')\n",
    "\n",
    "#Y lo leo con Spark\n",
    "\n",
    "#peliculas_spark= spark.read.csv('/content/drive/My Drive/Colab Notebooks/Ejercicios Estudiar para Test de Nivel Spark/Práctica de Máster Spark/peliculas_pandas.csv',inferSchema=True, header=True, quote='\"',sep=',').cache()"
   ]
  },
  {
   "cell_type": "code",
   "execution_count": null,
   "metadata": {
    "id": "43SVhpazMs6U"
   },
   "outputs": [],
   "source": [
    "#Ahora voy a hacerlo con Spark, pero sobre el dataset ya tuneado, así me quito meter en memoria más columnas"
   ]
  },
  {
   "cell_type": "code",
   "execution_count": null,
   "metadata": {
    "id": "RgsA3aiha3-z"
   },
   "outputs": [],
   "source": [
    "#Tuneo\n",
    "peliculas_df= (\n",
    "    peliculas\n",
    "    .withColumnRenamed('primary_title', 'Título Inglés')\n",
    "    .withColumnRenamed('titulo_espanol', 'Título')\n",
    ").select('Título Inglés','Título','rating','votes')"
   ]
  },
  {
   "cell_type": "code",
   "execution_count": null,
   "metadata": {
    "colab": {
     "base_uri": "https://localhost:8080/",
     "height": 459
    },
    "id": "OYZmJii6a374",
    "outputId": "953dcbf3-9e12-4b01-cf97-aba7bb74f41d"
   },
   "outputs": [
    {
     "name": "stdout",
     "output_type": "stream",
     "text": [
      "+--------------------------------------------+-------------------------------------------------+------+------+\n",
      "|Título Inglés                               |Título                                           |rating|votes |\n",
      "+--------------------------------------------+-------------------------------------------------+------+------+\n",
      "|The Great Dictator                          |El gran dictador                                 |8.5   |187390|\n",
      "|His Girl Friday                             |Luna nueva                                       |7.9   |49723 |\n",
      "|Diamonds Are Forever                        |Diamantes para la eternidad                      |6.6   |88793 |\n",
      "|The Goonies                                 |Los Goonies                                      |7.8   |224926|\n",
      "|Leaving Las Vegas                           |¿?                                               |7.5   |108836|\n",
      "|Liar Liar                                   |Mentiroso compulsivo                             |6.9   |266074|\n",
      "|Star Wars: Episode III - Revenge of the Sith|Star Wars: Episodio III - La venganza de los Sith|7.5   |658747|\n",
      "|Treasure Planet                             |El planeta del tesoro                            |7.2   |93810 |\n",
      "|Bring It On                                 |A por todas                                      |6.0   |82764 |\n",
      "|Secret Window                               |¿?                                               |6.6   |173329|\n",
      "|Synecdoche, New York                        |¿?                                               |7.6   |75047 |\n",
      "|Eragon                                      |Eragon                                           |5.1   |118507|\n",
      "|28 Weeks Later                              |28 semanas después                               |7.0   |246310|\n",
      "|Take Me Home Tonight                        |Llévame a casa nena                              |6.3   |49417 |\n",
      "|The Brothers Bloom                          |Los hermanos Bloom                               |6.8   |47049 |\n",
      "|The Rocker                                  |¿?                                               |6.2   |35746 |\n",
      "|A Wednesday                                 |¿?                                               |8.1   |69788 |\n",
      "|The Other Guys                              |Los otros dos                                    |6.6   |227120|\n",
      "|Horrible Bosses                             |Cómo acabar con tu jefe                          |6.9   |405165|\n",
      "|Trust                                       |Puedes confiar en mí                             |6.9   |39863 |\n",
      "+--------------------------------------------+-------------------------------------------------+------+------+\n",
      "only showing top 20 rows\n",
      "\n"
     ]
    }
   ],
   "source": [
    "peliculas_df.show(truncate=False)"
   ]
  },
  {
   "cell_type": "code",
   "execution_count": null,
   "metadata": {
    "colab": {
     "base_uri": "https://localhost:8080/",
     "height": 187
    },
    "id": "P7AUtpneM3GO",
    "outputId": "a85a9177-38f1-49af-8065-2cde53733346"
   },
   "outputs": [
    {
     "name": "stdout",
     "output_type": "stream",
     "text": [
      "+--------------------+------+------+------+\n",
      "|       Título Inglés|Título|rating| votes|\n",
      "+--------------------+------+------+------+\n",
      "|   Leaving Las Vegas|    ¿?|   7.5|108836|\n",
      "|       Secret Window|    ¿?|   6.6|173329|\n",
      "|Synecdoche, New York|    ¿?|   7.6| 75047|\n",
      "|          The Rocker|    ¿?|   6.2| 35746|\n",
      "|         A Wednesday|    ¿?|   8.1| 69788|\n",
      "+--------------------+------+------+------+\n",
      "\n"
     ]
    }
   ],
   "source": [
    "#Filtro para quedarme con un dataeset sólo con los ¿?\n",
    "desconocido=peliculas_df.filter(F.col('Título')=='¿?')\n",
    "desconocido.limit(5).show()"
   ]
  },
  {
   "cell_type": "code",
   "execution_count": null,
   "metadata": {
    "colab": {
     "base_uri": "https://localhost:8080/",
     "height": 459
    },
    "id": "pMGroyi8M3CI",
    "outputId": "0785cbd1-8404-4514-ca85-202ee536caa5"
   },
   "outputs": [
    {
     "name": "stdout",
     "output_type": "stream",
     "text": [
      "+--------------------+--------------------+------+------+\n",
      "|       Título Inglés|              Título|rating| votes|\n",
      "+--------------------+--------------------+------+------+\n",
      "|   Leaving Las Vegas|   Leaving Las Vegas|   7.5|108836|\n",
      "|       Secret Window|       Secret Window|   6.6|173329|\n",
      "|Synecdoche, New York|Synecdoche, New York|   7.6| 75047|\n",
      "|          The Rocker|          The Rocker|   6.2| 35746|\n",
      "|         A Wednesday|         A Wednesday|   8.1| 69788|\n",
      "|   Our Idiot Brother|   Our Idiot Brother|   6.4| 81725|\n",
      "| The Meaning of Life| The Meaning of Life|   7.6|107459|\n",
      "|          Roger & Me|          Roger & Me|   7.4| 25002|\n",
      "|      The Full Monty|      The Full Monty|   7.2| 94406|\n",
      "|     Fahrenheit 9/11|     Fahrenheit 9/11|   7.5|123466|\n",
      "|     Hannibal Rising|     Hannibal Rising|   6.2| 99365|\n",
      "|         Bad Grandpa|         Bad Grandpa|   6.5| 86726|\n",
      "|        Come and See|        Come and See|   8.3| 46146|\n",
      "|            EuroTrip|            EuroTrip|   6.6|185660|\n",
      "|     Take This Waltz|     Take This Waltz|   6.5| 26210|\n",
      "|       Reality Bites|       Reality Bites|   6.6| 43257|\n",
      "|         Black Sheep|         Black Sheep|   6.3| 34732|\n",
      "|             Freeway|             Freeway|   6.8| 25137|\n",
      "|     Michael Collins|     Michael Collins|   7.2| 28107|\n",
      "|Spirit: Stallion ...|Spirit: Stallion ...|   7.1| 59722|\n",
      "+--------------------+--------------------+------+------+\n",
      "only showing top 20 rows\n",
      "\n"
     ]
    }
   ],
   "source": [
    "#Ahora lo que hago es darle a la columna Título, los valores de Títulos Inglés\n",
    "desconocido=desconocido.withColumn('Título', F.col('Título Inglés'))\n",
    "desconocido.show()"
   ]
  },
  {
   "cell_type": "code",
   "execution_count": null,
   "metadata": {
    "colab": {
     "base_uri": "https://localhost:8080/",
     "height": 187
    },
    "id": "Olr4k3wXRSz-",
    "outputId": "97354778-6908-4ce6-f4b5-045648a38d8b"
   },
   "outputs": [
    {
     "name": "stdout",
     "output_type": "stream",
     "text": [
      "+--------------------+--------------------+------+------+\n",
      "|       Título Inglés|              Título|rating| votes|\n",
      "+--------------------+--------------------+------+------+\n",
      "|  The Great Dictator|    El gran dictador|   8.5|187390|\n",
      "|     His Girl Friday|          Luna nueva|   7.9| 49723|\n",
      "|Diamonds Are Forever|Diamantes para la...|   6.6| 88793|\n",
      "|         The Goonies|         Los Goonies|   7.8|224926|\n",
      "|           Liar Liar|Mentiroso compulsivo|   6.9|266074|\n",
      "+--------------------+--------------------+------+------+\n",
      "\n"
     ]
    }
   ],
   "source": [
    "#Creo la tabla con las conocidas\n",
    "conocidas=peliculas_df.filter(F.col('Título')!='¿?')\n",
    "conocidas.limit(5).show()"
   ]
  },
  {
   "cell_type": "code",
   "execution_count": null,
   "metadata": {
    "colab": {
     "base_uri": "https://localhost:8080/",
     "height": 459
    },
    "id": "j6uOJHe_OFT9",
    "outputId": "3d81689d-9658-44c8-8d7a-e036bec72112"
   },
   "outputs": [
    {
     "name": "stdout",
     "output_type": "stream",
     "text": [
      "+--------------------+--------------------+------+------+\n",
      "|       Título Inglés|              Título|rating| votes|\n",
      "+--------------------+--------------------+------+------+\n",
      "|  The Great Dictator|    El gran dictador|   8.5|187390|\n",
      "|     His Girl Friday|          Luna nueva|   7.9| 49723|\n",
      "|Diamonds Are Forever|Diamantes para la...|   6.6| 88793|\n",
      "|         The Goonies|         Los Goonies|   7.8|224926|\n",
      "|           Liar Liar|Mentiroso compulsivo|   6.9|266074|\n",
      "|Star Wars: Episod...|Star Wars: Episod...|   7.5|658747|\n",
      "|     Treasure Planet|El planeta del te...|   7.2| 93810|\n",
      "|         Bring It On|         A por todas|   6.0| 82764|\n",
      "|              Eragon|              Eragon|   5.1|118507|\n",
      "|      28 Weeks Later|  28 semanas después|   7.0|246310|\n",
      "|Take Me Home Tonight| Llévame a casa nena|   6.3| 49417|\n",
      "|  The Brothers Bloom|  Los hermanos Bloom|   6.8| 47049|\n",
      "|      The Other Guys|       Los otros dos|   6.6|227120|\n",
      "|     Horrible Bosses|Cómo acabar con t...|   6.9|405165|\n",
      "|               Trust|Puedes confiar en mí|   6.9| 39863|\n",
      "|Kingsman: The Sec...|Kingsman: Servici...|   7.7|558626|\n",
      "|A Hologram for th...|    Esperando al rey|   6.1| 37416|\n",
      "|               Nerve|Nerve: Un juego s...|   6.5|106559|\n",
      "|         Son of Saul|     El hijo de Saúl|   7.5| 40631|\n",
      "|      Daddy's Home 2|Dos padres por de...|   6.0| 53335|\n",
      "+--------------------+--------------------+------+------+\n",
      "only showing top 20 rows\n",
      "\n"
     ]
    }
   ],
   "source": [
    "#Uno la tabla conocidas con la tabla desconocido\n",
    "peliculas_bonito= conocidas.union(desconocido)\n",
    "peliculas_bonito.show()"
   ]
  },
  {
   "cell_type": "code",
   "execution_count": null,
   "metadata": {
    "colab": {
     "base_uri": "https://localhost:8080/",
     "height": 119
    },
    "id": "3PgY6aAjSNof",
    "outputId": "8b1f91e8-7ea5-4396-d4d7-176ec893b15e"
   },
   "outputs": [
    {
     "name": "stdout",
     "output_type": "stream",
     "text": [
      "+-----------------+-----------------+------+------+\n",
      "|    Título Inglés|           Título|rating| votes|\n",
      "+-----------------+-----------------+------+------+\n",
      "|Leaving Las Vegas|Leaving Las Vegas|   7.5|108836|\n",
      "+-----------------+-----------------+------+------+\n",
      "\n"
     ]
    }
   ],
   "source": [
    "#Compruebo que esté ok!!\n",
    "peliculas_bonito.filter(F.col('Título')=='Leaving Las Vegas').show()"
   ]
  },
  {
   "cell_type": "code",
   "execution_count": null,
   "metadata": {
    "colab": {
     "base_uri": "https://localhost:8080/",
     "height": 34
    },
    "id": "xDagJn9pTlsS",
    "outputId": "1c35318d-35f4-49e8-a241-f80733dbf568"
   },
   "outputs": [
    {
     "name": "stdout",
     "output_type": "stream",
     "text": [
      "True\n"
     ]
    }
   ],
   "source": [
    "#Por último, voy a probar que peliculas_df y peliculas_bonito tengan el mismo número de valores\n",
    "if peliculas_df.count()==peliculas_bonito.count():\n",
    "  print (True)\n",
    "else:\n",
    "  print (False)"
   ]
  },
  {
   "cell_type": "code",
   "execution_count": null,
   "metadata": {
    "colab": {
     "base_uri": "https://localhost:8080/",
     "height": 459
    },
    "id": "n3xLgZfkUOGy",
    "outputId": "fa525d0d-bc3e-448c-d155-ab43a2528e19"
   },
   "outputs": [
    {
     "name": "stdout",
     "output_type": "stream",
     "text": [
      "+-------------------------------------------------+------+------+\n",
      "|Título                                           |rating|votes |\n",
      "+-------------------------------------------------+------+------+\n",
      "|El gran dictador                                 |8.5   |187390|\n",
      "|Luna nueva                                       |7.9   |49723 |\n",
      "|Diamantes para la eternidad                      |6.6   |88793 |\n",
      "|Los Goonies                                      |7.8   |224926|\n",
      "|Mentiroso compulsivo                             |6.9   |266074|\n",
      "|Star Wars: Episodio III - La venganza de los Sith|7.5   |658747|\n",
      "|El planeta del tesoro                            |7.2   |93810 |\n",
      "|A por todas                                      |6.0   |82764 |\n",
      "|Eragon                                           |5.1   |118507|\n",
      "|28 semanas después                               |7.0   |246310|\n",
      "|Llévame a casa nena                              |6.3   |49417 |\n",
      "|Los hermanos Bloom                               |6.8   |47049 |\n",
      "|Los otros dos                                    |6.6   |227120|\n",
      "|Cómo acabar con tu jefe                          |6.9   |405165|\n",
      "|Puedes confiar en mí                             |6.9   |39863 |\n",
      "|Kingsman: Servicio secreto                       |7.7   |558626|\n",
      "|Esperando al rey                                 |6.1   |37416 |\n",
      "|Nerve: Un juego sin reglas                       |6.5   |106559|\n",
      "|El hijo de Saúl                                  |7.5   |40631 |\n",
      "|Dos padres por desigual                          |6.0   |53335 |\n",
      "+-------------------------------------------------+------+------+\n",
      "only showing top 20 rows\n",
      "\n"
     ]
    }
   ],
   "source": [
    "#Ahora que tenemos todos los títulos en español, me quedo sólo con esa columna\n",
    "pelis_df=peliculas_bonito.select('Título','rating','votes')\n",
    "pelis_df.show()"
   ]
  },
  {
   "cell_type": "code",
   "execution_count": null,
   "metadata": {
    "id": "l82W8c6GWVHT"
   },
   "outputs": [],
   "source": [
    "#Filtramos por películas de más de 250.000 votos\n",
    "pelis_df=pelis_df.filter(F.col('votes')>250.000)\n"
   ]
  },
  {
   "cell_type": "code",
   "execution_count": null,
   "metadata": {
    "id": "n5zIbWp3L-QQ"
   },
   "outputs": [],
   "source": [
    "#Añadimos la columna que se genera con la udf que hemos creado y la dejo bonita\n",
    "peliculas_score=pelis_df.withColumn(\"Score IMDB\", wr_udf(\"rating\",\"votes\")).select('Título', 'Score IMDB')\n",
    "                 "
   ]
  },
  {
   "cell_type": "code",
   "execution_count": null,
   "metadata": {
    "colab": {
     "base_uri": "https://localhost:8080/",
     "height": 459
    },
    "id": "MP8JchLwUrfS",
    "outputId": "2a298143-6e92-41fb-a5df-63eaecb634c8"
   },
   "outputs": [
    {
     "name": "stdout",
     "output_type": "stream",
     "text": [
      "+--------------------+----------+\n",
      "|              Título|Score IMDB|\n",
      "+--------------------+----------+\n",
      "|    El gran dictador|     7.506|\n",
      "|          Luna nueva|     6.949|\n",
      "|Diamantes para la...|     6.718|\n",
      "|         Los Goonies|     7.253|\n",
      "|Mentiroso compulsivo|     6.832|\n",
      "|Star Wars: Episod...|     7.297|\n",
      "|El planeta del te...|      6.88|\n",
      "|         A por todas|     6.571|\n",
      "|              Eragon|     6.226|\n",
      "|  28 semanas después|     6.879|\n",
      "| Llévame a casa nena|     6.684|\n",
      "|  Los hermanos Bloom|     6.767|\n",
      "|       Los otros dos|     6.684|\n",
      "|Cómo acabar con t...|     6.847|\n",
      "|Puedes confiar en mí|      6.78|\n",
      "|Kingsman: Servici...|     7.409|\n",
      "|    Esperando al rey|     6.674|\n",
      "|Nerve: Un juego s...|     6.683|\n",
      "|     El hijo de Saúl|     6.864|\n",
      "|Dos padres por de...|     6.627|\n",
      "+--------------------+----------+\n",
      "only showing top 20 rows\n",
      "\n"
     ]
    }
   ],
   "source": [
    "peliculas_score.show()"
   ]
  },
  {
   "cell_type": "markdown",
   "metadata": {
    "id": "ApAC5jVvcfKc"
   },
   "source": [
    "##5. Extrae el top 25 del ranking. Se valora la creatividad."
   ]
  },
  {
   "cell_type": "code",
   "execution_count": null,
   "metadata": {
    "colab": {
     "base_uri": "https://localhost:8080/",
     "height": 912
    },
    "id": "JzGI-oF0VLxw",
    "outputId": "027f9aaf-61dd-441b-bd9f-1b90a12b12d1"
   },
   "outputs": [
    {
     "name": "stderr",
     "output_type": "stream",
     "text": [
      "/usr/local/lib/python3.6/dist-packages/pyspark/sql/pandas/conversion.py:88: UserWarning: toPandas attempted Arrow optimization because 'spark.sql.execution.arrow.pyspark.enabled' is set to true; however, failed by the reason below:\n",
      "  PyArrow >= 0.15.1 must be installed; however, your version was 0.14.1.\n",
      "Attempting non-optimization as 'spark.sql.execution.arrow.pyspark.fallback.enabled' is set to true.\n",
      "  warnings.warn(msg)\n"
     ]
    },
    {
     "data": {
      "text/html": [
       "<div>\n",
       "<style scoped>\n",
       "    .dataframe tbody tr th:only-of-type {\n",
       "        vertical-align: middle;\n",
       "    }\n",
       "\n",
       "    .dataframe tbody tr th {\n",
       "        vertical-align: top;\n",
       "    }\n",
       "\n",
       "    .dataframe thead th {\n",
       "        text-align: right;\n",
       "    }\n",
       "</style>\n",
       "<table border=\"1\" class=\"dataframe\">\n",
       "  <thead>\n",
       "    <tr style=\"text-align: right;\">\n",
       "      <th></th>\n",
       "      <th>Título</th>\n",
       "      <th>Score IMDB</th>\n",
       "    </tr>\n",
       "  </thead>\n",
       "  <tbody>\n",
       "    <tr>\n",
       "      <th>0</th>\n",
       "      <td>Cadena perpetua</td>\n",
       "      <td>9.037</td>\n",
       "    </tr>\n",
       "    <tr>\n",
       "      <th>1</th>\n",
       "      <td>El padrino</td>\n",
       "      <td>8.849</td>\n",
       "    </tr>\n",
       "    <tr>\n",
       "      <th>2</th>\n",
       "      <td>El caballero oscuro</td>\n",
       "      <td>8.766</td>\n",
       "    </tr>\n",
       "    <tr>\n",
       "      <th>3</th>\n",
       "      <td>Pulp Fiction</td>\n",
       "      <td>8.626</td>\n",
       "    </tr>\n",
       "    <tr>\n",
       "      <th>4</th>\n",
       "      <td>El señor de los anillos: El retorno del rey</td>\n",
       "      <td>8.601</td>\n",
       "    </tr>\n",
       "    <tr>\n",
       "      <th>5</th>\n",
       "      <td>El padrino: Parte II</td>\n",
       "      <td>8.565</td>\n",
       "    </tr>\n",
       "    <tr>\n",
       "      <th>6</th>\n",
       "      <td>Origen</td>\n",
       "      <td>8.563</td>\n",
       "    </tr>\n",
       "    <tr>\n",
       "      <th>7</th>\n",
       "      <td>El club de la lucha</td>\n",
       "      <td>8.543</td>\n",
       "    </tr>\n",
       "    <tr>\n",
       "      <th>8</th>\n",
       "      <td>Forrest Gump</td>\n",
       "      <td>8.534</td>\n",
       "    </tr>\n",
       "    <tr>\n",
       "      <th>9</th>\n",
       "      <td>El señor de los anillos: La comunidad del anillo</td>\n",
       "      <td>8.517</td>\n",
       "    </tr>\n",
       "    <tr>\n",
       "      <th>10</th>\n",
       "      <td>La lista de Schindler</td>\n",
       "      <td>8.511</td>\n",
       "    </tr>\n",
       "    <tr>\n",
       "      <th>11</th>\n",
       "      <td>Matrix</td>\n",
       "      <td>8.432</td>\n",
       "    </tr>\n",
       "    <tr>\n",
       "      <th>12</th>\n",
       "      <td>El señor de los anillos: Las dos torres</td>\n",
       "      <td>8.405</td>\n",
       "    </tr>\n",
       "    <tr>\n",
       "      <th>13</th>\n",
       "      <td>El imperio contraataca</td>\n",
       "      <td>8.336</td>\n",
       "    </tr>\n",
       "    <tr>\n",
       "      <th>14</th>\n",
       "      <td>Interstellar</td>\n",
       "      <td>8.313</td>\n",
       "    </tr>\n",
       "    <tr>\n",
       "      <th>15</th>\n",
       "      <td>Seven</td>\n",
       "      <td>8.309</td>\n",
       "    </tr>\n",
       "    <tr>\n",
       "      <th>16</th>\n",
       "      <td>Uno de los nuestros</td>\n",
       "      <td>8.292</td>\n",
       "    </tr>\n",
       "    <tr>\n",
       "      <th>17</th>\n",
       "      <td>12 hombres sin piedad</td>\n",
       "      <td>8.286</td>\n",
       "    </tr>\n",
       "    <tr>\n",
       "      <th>18</th>\n",
       "      <td>El silencio de los corderos</td>\n",
       "      <td>8.277</td>\n",
       "    </tr>\n",
       "    <tr>\n",
       "      <th>19</th>\n",
       "      <td>La guerra de las galaxias</td>\n",
       "      <td>8.272</td>\n",
       "    </tr>\n",
       "    <tr>\n",
       "      <th>20</th>\n",
       "      <td>Salvar al soldado Ryan</td>\n",
       "      <td>8.271</td>\n",
       "    </tr>\n",
       "    <tr>\n",
       "      <th>21</th>\n",
       "      <td>Alguien voló sobre el nido del cuco</td>\n",
       "      <td>8.261</td>\n",
       "    </tr>\n",
       "    <tr>\n",
       "      <th>22</th>\n",
       "      <td>La milla verde</td>\n",
       "      <td>8.247</td>\n",
       "    </tr>\n",
       "    <tr>\n",
       "      <th>23</th>\n",
       "      <td>El bueno, el feo y el malo</td>\n",
       "      <td>8.229</td>\n",
       "    </tr>\n",
       "    <tr>\n",
       "      <th>24</th>\n",
       "      <td>Gladiator (El gladiador)</td>\n",
       "      <td>8.210</td>\n",
       "    </tr>\n",
       "  </tbody>\n",
       "</table>\n",
       "</div>"
      ],
      "text/plain": [
       "                                              Título  Score IMDB\n",
       "0                                    Cadena perpetua       9.037\n",
       "1                                         El padrino       8.849\n",
       "2                                El caballero oscuro       8.766\n",
       "3                                       Pulp Fiction       8.626\n",
       "4        El señor de los anillos: El retorno del rey       8.601\n",
       "5                               El padrino: Parte II       8.565\n",
       "6                                             Origen       8.563\n",
       "7                                El club de la lucha       8.543\n",
       "8                                       Forrest Gump       8.534\n",
       "9   El señor de los anillos: La comunidad del anillo       8.517\n",
       "10                             La lista de Schindler       8.511\n",
       "11                                            Matrix       8.432\n",
       "12           El señor de los anillos: Las dos torres       8.405\n",
       "13                            El imperio contraataca       8.336\n",
       "14                                      Interstellar       8.313\n",
       "15                                             Seven       8.309\n",
       "16                               Uno de los nuestros       8.292\n",
       "17                             12 hombres sin piedad       8.286\n",
       "18                       El silencio de los corderos       8.277\n",
       "19                         La guerra de las galaxias       8.272\n",
       "20                            Salvar al soldado Ryan       8.271\n",
       "21               Alguien voló sobre el nido del cuco       8.261\n",
       "22                                    La milla verde       8.247\n",
       "23                        El bueno, el feo y el malo       8.229\n",
       "24                          Gladiator (El gladiador)       8.210"
      ]
     },
     "execution_count": 627,
     "metadata": {
      "tags": []
     },
     "output_type": "execute_result"
    }
   ],
   "source": [
    "#Ordenamos por las de mayor Score y filtramos las 25 primeras\n",
    "peliculas_score.orderBy(F.desc('Score IMDB')).limit(25).toPandas()"
   ]
  },
  {
   "cell_type": "code",
   "execution_count": null,
   "metadata": {
    "colab": {
     "base_uri": "https://localhost:8080/",
     "height": 105
    },
    "id": "5PPMmjV3WGNf",
    "outputId": "a8091614-270e-4eda-dc40-609488751ba9"
   },
   "outputs": [
    {
     "name": "stderr",
     "output_type": "stream",
     "text": [
      "/usr/local/lib/python3.6/dist-packages/pyspark/sql/pandas/conversion.py:88: UserWarning: toPandas attempted Arrow optimization because 'spark.sql.execution.arrow.pyspark.enabled' is set to true; however, failed by the reason below:\n",
      "  PyArrow >= 0.15.1 must be installed; however, your version was 0.14.1.\n",
      "Attempting non-optimization as 'spark.sql.execution.arrow.pyspark.fallback.enabled' is set to true.\n",
      "  warnings.warn(msg)\n"
     ]
    }
   ],
   "source": [
    "#Hacemos el Ranking\n",
    "pelis_rank= peliculas_score.withColumn('Rank', F.rank().over(Window.orderBy(F.desc('Score IMDB')))).select('Rank','Título','Score IMDB').limit(25).toPandas()"
   ]
  },
  {
   "cell_type": "code",
   "execution_count": null,
   "metadata": {
    "colab": {
     "base_uri": "https://localhost:8080/",
     "height": 824
    },
    "id": "XGzXA779YjdE",
    "outputId": "0e262025-6004-419b-c2b3-557f3b9371aa"
   },
   "outputs": [
    {
     "data": {
      "text/html": [
       "<div>\n",
       "<style scoped>\n",
       "    .dataframe tbody tr th:only-of-type {\n",
       "        vertical-align: middle;\n",
       "    }\n",
       "\n",
       "    .dataframe tbody tr th {\n",
       "        vertical-align: top;\n",
       "    }\n",
       "\n",
       "    .dataframe thead th {\n",
       "        text-align: right;\n",
       "    }\n",
       "</style>\n",
       "<table border=\"1\" class=\"dataframe\">\n",
       "  <thead>\n",
       "    <tr style=\"text-align: right;\">\n",
       "      <th></th>\n",
       "      <th>Rank</th>\n",
       "      <th>Título</th>\n",
       "      <th>Score IMDB</th>\n",
       "    </tr>\n",
       "  </thead>\n",
       "  <tbody>\n",
       "    <tr>\n",
       "      <th>0</th>\n",
       "      <td>1</td>\n",
       "      <td>Cadena perpetua</td>\n",
       "      <td>9.037</td>\n",
       "    </tr>\n",
       "    <tr>\n",
       "      <th>1</th>\n",
       "      <td>2</td>\n",
       "      <td>El padrino</td>\n",
       "      <td>8.849</td>\n",
       "    </tr>\n",
       "    <tr>\n",
       "      <th>2</th>\n",
       "      <td>3</td>\n",
       "      <td>El caballero oscuro</td>\n",
       "      <td>8.766</td>\n",
       "    </tr>\n",
       "    <tr>\n",
       "      <th>3</th>\n",
       "      <td>4</td>\n",
       "      <td>Pulp Fiction</td>\n",
       "      <td>8.626</td>\n",
       "    </tr>\n",
       "    <tr>\n",
       "      <th>4</th>\n",
       "      <td>5</td>\n",
       "      <td>El señor de los anillos: El retorno del rey</td>\n",
       "      <td>8.601</td>\n",
       "    </tr>\n",
       "    <tr>\n",
       "      <th>5</th>\n",
       "      <td>6</td>\n",
       "      <td>El padrino: Parte II</td>\n",
       "      <td>8.565</td>\n",
       "    </tr>\n",
       "    <tr>\n",
       "      <th>6</th>\n",
       "      <td>7</td>\n",
       "      <td>Origen</td>\n",
       "      <td>8.563</td>\n",
       "    </tr>\n",
       "    <tr>\n",
       "      <th>7</th>\n",
       "      <td>8</td>\n",
       "      <td>El club de la lucha</td>\n",
       "      <td>8.543</td>\n",
       "    </tr>\n",
       "    <tr>\n",
       "      <th>8</th>\n",
       "      <td>9</td>\n",
       "      <td>Forrest Gump</td>\n",
       "      <td>8.534</td>\n",
       "    </tr>\n",
       "    <tr>\n",
       "      <th>9</th>\n",
       "      <td>10</td>\n",
       "      <td>El señor de los anillos: La comunidad del anillo</td>\n",
       "      <td>8.517</td>\n",
       "    </tr>\n",
       "    <tr>\n",
       "      <th>10</th>\n",
       "      <td>11</td>\n",
       "      <td>La lista de Schindler</td>\n",
       "      <td>8.511</td>\n",
       "    </tr>\n",
       "    <tr>\n",
       "      <th>11</th>\n",
       "      <td>12</td>\n",
       "      <td>Matrix</td>\n",
       "      <td>8.432</td>\n",
       "    </tr>\n",
       "    <tr>\n",
       "      <th>12</th>\n",
       "      <td>13</td>\n",
       "      <td>El señor de los anillos: Las dos torres</td>\n",
       "      <td>8.405</td>\n",
       "    </tr>\n",
       "    <tr>\n",
       "      <th>13</th>\n",
       "      <td>14</td>\n",
       "      <td>El imperio contraataca</td>\n",
       "      <td>8.336</td>\n",
       "    </tr>\n",
       "    <tr>\n",
       "      <th>14</th>\n",
       "      <td>15</td>\n",
       "      <td>Interstellar</td>\n",
       "      <td>8.313</td>\n",
       "    </tr>\n",
       "    <tr>\n",
       "      <th>15</th>\n",
       "      <td>16</td>\n",
       "      <td>Seven</td>\n",
       "      <td>8.309</td>\n",
       "    </tr>\n",
       "    <tr>\n",
       "      <th>16</th>\n",
       "      <td>17</td>\n",
       "      <td>Uno de los nuestros</td>\n",
       "      <td>8.292</td>\n",
       "    </tr>\n",
       "    <tr>\n",
       "      <th>17</th>\n",
       "      <td>18</td>\n",
       "      <td>12 hombres sin piedad</td>\n",
       "      <td>8.286</td>\n",
       "    </tr>\n",
       "    <tr>\n",
       "      <th>18</th>\n",
       "      <td>19</td>\n",
       "      <td>El silencio de los corderos</td>\n",
       "      <td>8.277</td>\n",
       "    </tr>\n",
       "    <tr>\n",
       "      <th>19</th>\n",
       "      <td>20</td>\n",
       "      <td>La guerra de las galaxias</td>\n",
       "      <td>8.272</td>\n",
       "    </tr>\n",
       "    <tr>\n",
       "      <th>20</th>\n",
       "      <td>21</td>\n",
       "      <td>Salvar al soldado Ryan</td>\n",
       "      <td>8.271</td>\n",
       "    </tr>\n",
       "    <tr>\n",
       "      <th>21</th>\n",
       "      <td>22</td>\n",
       "      <td>Alguien voló sobre el nido del cuco</td>\n",
       "      <td>8.261</td>\n",
       "    </tr>\n",
       "    <tr>\n",
       "      <th>22</th>\n",
       "      <td>23</td>\n",
       "      <td>La milla verde</td>\n",
       "      <td>8.247</td>\n",
       "    </tr>\n",
       "    <tr>\n",
       "      <th>23</th>\n",
       "      <td>24</td>\n",
       "      <td>El bueno, el feo y el malo</td>\n",
       "      <td>8.229</td>\n",
       "    </tr>\n",
       "    <tr>\n",
       "      <th>24</th>\n",
       "      <td>25</td>\n",
       "      <td>Gladiator (El gladiador)</td>\n",
       "      <td>8.210</td>\n",
       "    </tr>\n",
       "  </tbody>\n",
       "</table>\n",
       "</div>"
      ],
      "text/plain": [
       "    Rank                                            Título  Score IMDB\n",
       "0      1                                   Cadena perpetua       9.037\n",
       "1      2                                        El padrino       8.849\n",
       "2      3                               El caballero oscuro       8.766\n",
       "3      4                                      Pulp Fiction       8.626\n",
       "4      5       El señor de los anillos: El retorno del rey       8.601\n",
       "5      6                              El padrino: Parte II       8.565\n",
       "6      7                                            Origen       8.563\n",
       "7      8                               El club de la lucha       8.543\n",
       "8      9                                      Forrest Gump       8.534\n",
       "9     10  El señor de los anillos: La comunidad del anillo       8.517\n",
       "10    11                             La lista de Schindler       8.511\n",
       "11    12                                            Matrix       8.432\n",
       "12    13           El señor de los anillos: Las dos torres       8.405\n",
       "13    14                            El imperio contraataca       8.336\n",
       "14    15                                      Interstellar       8.313\n",
       "15    16                                             Seven       8.309\n",
       "16    17                               Uno de los nuestros       8.292\n",
       "17    18                             12 hombres sin piedad       8.286\n",
       "18    19                       El silencio de los corderos       8.277\n",
       "19    20                         La guerra de las galaxias       8.272\n",
       "20    21                            Salvar al soldado Ryan       8.271\n",
       "21    22               Alguien voló sobre el nido del cuco       8.261\n",
       "22    23                                    La milla verde       8.247\n",
       "23    24                        El bueno, el feo y el malo       8.229\n",
       "24    25                          Gladiator (El gladiador)       8.210"
      ]
     },
     "execution_count": 633,
     "metadata": {
      "tags": []
     },
     "output_type": "execute_result"
    }
   ],
   "source": [
    "pelis_rank"
   ]
  }
 ],
 "metadata": {
  "colab": {
   "collapsed_sections": [],
   "name": "1. Rehecho Ejercicio_recomendadores_tipo_ranking_Damavisa.ipynb",
   "provenance": [],
   "toc_visible": true
  },
  "kernelspec": {
   "display_name": "Python 3",
   "language": "python",
   "name": "python3"
  },
  "language_info": {
   "codemirror_mode": {
    "name": "ipython",
    "version": 3
   },
   "file_extension": ".py",
   "mimetype": "text/x-python",
   "name": "python",
   "nbconvert_exporter": "python",
   "pygments_lexer": "ipython3",
   "version": "3.7.4"
  }
 },
 "nbformat": 4,
 "nbformat_minor": 1
}
