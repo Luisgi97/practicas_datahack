{
 "cells": [
  {
   "cell_type": "markdown",
   "metadata": {
    "colab_type": "text",
    "id": "_OIiSsp56WiX"
   },
   "source": [
    "<center><img src='https://www.datahack.es/wp-content/uploads/2020/02/logo-home.png' width=\"500\"></center>"
   ]
  },
  {
   "cell_type": "markdown",
   "metadata": {
    "colab_type": "text",
    "id": "GBCB_eIf6XCP"
   },
   "source": [
    "## Ejercicio de modelos de clasificación 4 PUNTOS <font color=\"Grey\"> Luis Blanco\n",
    "En este ejercicio vamos a trabajar con un dataset de datos de churn de una empresa de telecomunicaciones.\n",
    "\n"
   ]
  },
  {
   "cell_type": "markdown",
   "metadata": {
    "colab_type": "text",
    "id": "WqlMzQrk8Nld"
   },
   "source": [
    "\n",
    "\n",
    "<center><img src='https://camo.githubusercontent.com/ce0e68448300bcf34e8eb696c79f3269a3e7e264/68747470733a2f2f343667796e36317a34693074317531706e713262626b32652d7770656e67696e652e6e6574646e612d73736c2e636f6d2f77702d636f6e74656e742f75706c6f6164732f323031372f30372f637573746f6d65722d636875726e2d656469742e6a706567' width=600 ></center>"
   ]
  },
  {
   "cell_type": "markdown",
   "metadata": {
    "colab_type": "text",
    "id": "JJDL7IAr6XE-"
   },
   "source": [
    "## Dataset\n",
    "Toda la información necesaria sobre el dataset la puedes encontrar aquí:\n",
    "https://www.kaggle.com/blastchar/telco-customer-churn\n"
   ]
  },
  {
   "cell_type": "markdown",
   "metadata": {
    "colab_type": "text",
    "id": "zlMphsKL6XHE"
   },
   "source": [
    "## Pasos a seguir\n",
    "\n",
    "1. Descarga la información del churn en una carpeta que se llame `datos_ejercicios/clasificacion`.\n",
    "\n",
    "2. Lee el fichero csv .\n",
    "\n",
    "3. Realiza un análisis exploratorio de los datos que te ayude a entender el dataset. Si necesitas, puedes recurrir al uso de gráficos.\n",
    "\n",
    "4. Divide el modelo en train y test.\n",
    "\n",
    "5. Prueba las predicciones de los distintos modelos que ofrece Spark Mllib.\n",
    "\n",
    "6. ¿Se pueden mejorar los resultado haciendo tunning de los hiperparámetros? Demuestralo\n",
    "\n",
    "7. En base al tipo de problemática (modelo de churn) con qué modelo te quedarías. Justificalo\n",
    "\n",
    "8. Descarga el ipynb, conviertelo a html y esos serán tus documentos de evaluación."
   ]
  },
  {
   "cell_type": "markdown",
   "metadata": {
    "colab_type": "text",
    "id": "zNilyN-7U-dl"
   },
   "source": [
    "# <font color=\"grey\">0. Instalaciones y librerías:"
   ]
  },
  {
   "cell_type": "code",
   "execution_count": 1,
   "metadata": {
    "colab": {
     "base_uri": "https://localhost:8080/",
     "height": 122
    },
    "colab_type": "code",
    "executionInfo": {
     "elapsed": 24033,
     "status": "ok",
     "timestamp": 1587390496294,
     "user": {
      "displayName": "Luis Blanco",
      "photoUrl": "https://lh3.googleusercontent.com/a-/AOh14Gg1BCQJfHT2P42mM1KkjEShxXP7ik2JKApJloXCcg=s64",
      "userId": "08327929932520946832"
     },
     "user_tz": -120
    },
    "id": "fU6qbUkqUJ80",
    "outputId": "a7da8f98-a2a0-4718-ac20-b43609861900"
   },
   "outputs": [
    {
     "name": "stdout",
     "output_type": "stream",
     "text": [
      "Go to this URL in a browser: https://accounts.google.com/o/oauth2/auth?client_id=947318989803-6bn6qk8qdgf4n4g3pfee6491hc0brc4i.apps.googleusercontent.com&redirect_uri=urn%3aietf%3awg%3aoauth%3a2.0%3aoob&response_type=code&scope=email%20https%3a%2f%2fwww.googleapis.com%2fauth%2fdocs.test%20https%3a%2f%2fwww.googleapis.com%2fauth%2fdrive%20https%3a%2f%2fwww.googleapis.com%2fauth%2fdrive.photos.readonly%20https%3a%2f%2fwww.googleapis.com%2fauth%2fpeopleapi.readonly\n",
      "\n",
      "Enter your authorization code:\n",
      "··········\n",
      "Mounted at /content/drive\n"
     ]
    }
   ],
   "source": [
    "from google.colab import drive\n",
    "drive.mount('/content/drive')"
   ]
  },
  {
   "cell_type": "markdown",
   "metadata": {
    "colab_type": "text",
    "id": "zQ9HNX3JVDad"
   },
   "source": [
    "<font color=\"grey\"> Instalación de Spark, Findspark y Pyspark."
   ]
  },
  {
   "cell_type": "code",
   "execution_count": 2,
   "metadata": {
    "colab": {
     "base_uri": "https://localhost:8080/",
     "height": 258
    },
    "colab_type": "code",
    "executionInfo": {
     "elapsed": 87356,
     "status": "ok",
     "timestamp": 1587390559665,
     "user": {
      "displayName": "Luis Blanco",
      "photoUrl": "https://lh3.googleusercontent.com/a-/AOh14Gg1BCQJfHT2P42mM1KkjEShxXP7ik2JKApJloXCcg=s64",
      "userId": "08327929932520946832"
     },
     "user_tz": -120
    },
    "id": "RDz7zBz5VBpg",
    "outputId": "f34c47be-947b-4853-ce89-95662bfab13f"
   },
   "outputs": [
    {
     "name": "stdout",
     "output_type": "stream",
     "text": [
      "Collecting pyspark\n",
      "\u001b[?25l  Downloading https://files.pythonhosted.org/packages/9a/5a/271c416c1c2185b6cb0151b29a91fff6fcaed80173c8584ff6d20e46b465/pyspark-2.4.5.tar.gz (217.8MB)\n",
      "\u001b[K     |████████████████████████████████| 217.8MB 71kB/s \n",
      "\u001b[?25hCollecting py4j==0.10.7\n",
      "\u001b[?25l  Downloading https://files.pythonhosted.org/packages/e3/53/c737818eb9a7dc32a7cd4f1396e787bd94200c3997c72c1dbe028587bd76/py4j-0.10.7-py2.py3-none-any.whl (197kB)\n",
      "\u001b[K     |████████████████████████████████| 204kB 34.0MB/s \n",
      "\u001b[?25hBuilding wheels for collected packages: pyspark\n",
      "  Building wheel for pyspark (setup.py) ... \u001b[?25l\u001b[?25hdone\n",
      "  Created wheel for pyspark: filename=pyspark-2.4.5-py2.py3-none-any.whl size=218257927 sha256=c17c46128e200ec60f489d0fe6e87f62c6269ae019baa3dbb12dadbfbe44e08b\n",
      "  Stored in directory: /root/.cache/pip/wheels/bf/db/04/61d66a5939364e756eb1c1be4ec5bdce6e04047fc7929a3c3c\n",
      "Successfully built pyspark\n",
      "Installing collected packages: py4j, pyspark\n",
      "Successfully installed py4j-0.10.7 pyspark-2.4.5\n"
     ]
    }
   ],
   "source": [
    "!apt-get install openjdk-8-jdk-headless -qq > /dev/null\n",
    "!wget -q http://apache.osuosl.org/spark/spark-2.4.5/spark-2.4.5-bin-hadoop2.7.tgz\n",
    "!tar xf spark-2.4.5-bin-hadoop2.7.tgz\n",
    "!pip install -q findspark\n",
    "!pip install pyspark"
   ]
  },
  {
   "cell_type": "markdown",
   "metadata": {
    "colab_type": "text",
    "id": "siqDz_JPVHNC"
   },
   "source": [
    "<font color=\"Grey\">Creación de la Sesión Spark \"ejercicio_modelos_clasificacion\"."
   ]
  },
  {
   "cell_type": "code",
   "execution_count": 0,
   "metadata": {
    "colab": {},
    "colab_type": "code",
    "id": "Gz2yDlciVBmc"
   },
   "outputs": [],
   "source": [
    "# Set up required environment variables\n",
    "import os\n",
    "os.environ[\"JAVA_HOME\"] = \"/usr/lib/jvm/java-8-openjdk-amd64\"\n",
    "os.environ[\"SPARK_HOME\"] = \"/content/spark-2.4.5-bin-hadoop2.7\"\n",
    "from pyspark import SparkContext\n",
    "from pyspark.sql import SparkSession\n",
    "spark = SparkSession.builder.appName(\"ejercicio_modelos_clasificacion\").master(\"local[*]\").getOrCreate()"
   ]
  },
  {
   "cell_type": "markdown",
   "metadata": {
    "colab_type": "text",
    "id": "yewhg6reVTC7"
   },
   "source": [
    "<font color=\"Grey\">Instalación y carga de librerías:"
   ]
  },
  {
   "cell_type": "code",
   "execution_count": 4,
   "metadata": {
    "colab": {
     "base_uri": "https://localhost:8080/",
     "height": 71
    },
    "colab_type": "code",
    "executionInfo": {
     "elapsed": 94614,
     "status": "ok",
     "timestamp": 1587390566991,
     "user": {
      "displayName": "Luis Blanco",
      "photoUrl": "https://lh3.googleusercontent.com/a-/AOh14Gg1BCQJfHT2P42mM1KkjEShxXP7ik2JKApJloXCcg=s64",
      "userId": "08327929932520946832"
     },
     "user_tz": -120
    },
    "id": "z6dxAK6NVBhW",
    "outputId": "549931a8-890e-4110-d528-be00e4c54fdf"
   },
   "outputs": [
    {
     "name": "stderr",
     "output_type": "stream",
     "text": [
      "/usr/local/lib/python3.6/dist-packages/statsmodels/tools/_testing.py:19: FutureWarning: pandas.util.testing is deprecated. Use the functions in the public API at pandas.testing instead.\n",
      "  import pandas.util.testing as tm\n"
     ]
    }
   ],
   "source": [
    "#Carga de datos de la web, no lo usamos en esta práctica (ejemplo):\n",
    "#!pip install wget \n",
    "#import wget\n",
    "\n",
    "#Tratamiento de datos:\n",
    "import pandas as pd\n",
    "import numpy as np\n",
    "import pyspark.sql.functions as F\n",
    "from pyspark.sql.window import Window\n",
    "from pyspark.ml.feature import (OneHotEncoderEstimator, StringIndexer,\n",
    "                                VectorAssembler, VectorIndexer, IndexToString)\n",
    "from pyspark.ml.linalg import Vectors\n",
    "from pyspark.ml import Pipeline\n",
    "import itertools\n",
    "\n",
    "#Dibujo de tablas y gráficos:\n",
    "import seaborn as sns\n",
    "import matplotlib.pyplot as plt\n",
    "pd.set_option('display.max_rows', 50) #max 50 rows out\n",
    "\n",
    "#Modelos de Clasificación:\n",
    "from pyspark.ml.classification import (LogisticRegression, DecisionTreeClassifier\n",
    "                                       ,RandomForestClassifier, GBTClassifier,\n",
    "                                       MultilayerPerceptronClassifier, LinearSVC,\n",
    "                                       NaiveBayes,OneVsRest)\n",
    "\n",
    "#Evaluadores y métricas:\n",
    "from pyspark.ml.evaluation import BinaryClassificationEvaluator\n",
    "from sklearn.metrics import (confusion_matrix, precision_score,\n",
    "                             recall_score, accuracy_score,f1_score)\n",
    "\n",
    "#Mejora de Entrenamiento y Modelos:\n",
    "from sklearn.model_selection import StratifiedShuffleSplit\n",
    "from pyspark.ml.tuning import ParamGridBuilder, CrossValidator\n",
    "\n",
    "#Variable con el valor de la semilla para todos los random_state que se realicen:\n",
    "random_state=23 "
   ]
  },
  {
   "cell_type": "markdown",
   "metadata": {
    "colab_type": "text",
    "id": "8LRYmat6Vi6E"
   },
   "source": [
    "# <font color=\"grey\">1. Descarga la información del churn en una carpeta que se llame `datos_ejercicios/clasificacion`."
   ]
  },
  {
   "cell_type": "markdown",
   "metadata": {
    "colab_type": "text",
    "id": "lqaA0PmqVm_M"
   },
   "source": [
    "<font color=\"grey\">Nosotros ya tenemos los datos de Churn_telco descargados y subidos a drive para poder usarlo en Google Colab.  \n",
    "Un ejemplo de descarga sería el siguiente:"
   ]
  },
  {
   "cell_type": "code",
   "execution_count": 0,
   "metadata": {
    "colab": {},
    "colab_type": "code",
    "id": "0X4USQ5bVBah"
   },
   "outputs": [],
   "source": [
    "#url= \"https://www.kaggle.com/blastchar/telco-customer-churn/download\"\n",
    "#wget.download(url, \"/content/drive/My Drive/Colab Notebooks/Práctica Spark/datos_ejercicios/clasificacion\")"
   ]
  },
  {
   "cell_type": "markdown",
   "metadata": {
    "colab_type": "text",
    "id": "9KG6-6C-WRgS"
   },
   "source": [
    "# <font color=\"grey\">2. Lee el fichero csv."
   ]
  },
  {
   "cell_type": "code",
   "execution_count": 0,
   "metadata": {
    "colab": {},
    "colab_type": "code",
    "id": "cdlUMwK0WVtV"
   },
   "outputs": [],
   "source": [
    "df = spark.read.csv(\"/content/drive/My Drive/Colab Notebooks/Práctica Spark/datos_ejercicios/clasificacion/telco_churn.csv\",header=True, inferSchema = True).cache()"
   ]
  },
  {
   "cell_type": "code",
   "execution_count": 7,
   "metadata": {
    "colab": {
     "base_uri": "https://localhost:8080/",
     "height": 408
    },
    "colab_type": "code",
    "executionInfo": {
     "elapsed": 102129,
     "status": "ok",
     "timestamp": 1587390574591,
     "user": {
      "displayName": "Luis Blanco",
      "photoUrl": "https://lh3.googleusercontent.com/a-/AOh14Gg1BCQJfHT2P42mM1KkjEShxXP7ik2JKApJloXCcg=s64",
      "userId": "08327929932520946832"
     },
     "user_tz": -120
    },
    "id": "iqAGc3_RTBWz",
    "outputId": "ab7ae8ae-7d3e-402b-e6ac-4691505a1cac"
   },
   "outputs": [
    {
     "name": "stdout",
     "output_type": "stream",
     "text": [
      "root\n",
      " |-- customerID: string (nullable = true)\n",
      " |-- gender: string (nullable = true)\n",
      " |-- SeniorCitizen: integer (nullable = true)\n",
      " |-- Partner: string (nullable = true)\n",
      " |-- Dependents: string (nullable = true)\n",
      " |-- tenure: integer (nullable = true)\n",
      " |-- PhoneService: string (nullable = true)\n",
      " |-- MultipleLines: string (nullable = true)\n",
      " |-- InternetService: string (nullable = true)\n",
      " |-- OnlineSecurity: string (nullable = true)\n",
      " |-- OnlineBackup: string (nullable = true)\n",
      " |-- DeviceProtection: string (nullable = true)\n",
      " |-- TechSupport: string (nullable = true)\n",
      " |-- StreamingTV: string (nullable = true)\n",
      " |-- StreamingMovies: string (nullable = true)\n",
      " |-- Contract: string (nullable = true)\n",
      " |-- PaperlessBilling: string (nullable = true)\n",
      " |-- PaymentMethod: string (nullable = true)\n",
      " |-- MonthlyCharges: double (nullable = true)\n",
      " |-- TotalCharges: string (nullable = true)\n",
      " |-- Churn: string (nullable = true)\n",
      "\n"
     ]
    }
   ],
   "source": [
    "df.printSchema()"
   ]
  },
  {
   "cell_type": "markdown",
   "metadata": {
    "colab_type": "text",
    "id": "imuhl8L2FCe_"
   },
   "source": [
    "<font color=\"Grey\">Vemos que la feature \"TotalCharges\" no se ha tipificado correctamente, ya que indica que es string. Vamos a castearla como double."
   ]
  },
  {
   "cell_type": "code",
   "execution_count": 8,
   "metadata": {
    "colab": {
     "base_uri": "https://localhost:8080/",
     "height": 408
    },
    "colab_type": "code",
    "executionInfo": {
     "elapsed": 102272,
     "status": "ok",
     "timestamp": 1587390574772,
     "user": {
      "displayName": "Luis Blanco",
      "photoUrl": "https://lh3.googleusercontent.com/a-/AOh14Gg1BCQJfHT2P42mM1KkjEShxXP7ik2JKApJloXCcg=s64",
      "userId": "08327929932520946832"
     },
     "user_tz": -120
    },
    "id": "Y2TAtSmfFXT9",
    "outputId": "e8578734-4ce7-4792-964e-c5a5610b3a13"
   },
   "outputs": [
    {
     "name": "stdout",
     "output_type": "stream",
     "text": [
      "root\n",
      " |-- customerID: string (nullable = true)\n",
      " |-- gender: string (nullable = true)\n",
      " |-- SeniorCitizen: integer (nullable = true)\n",
      " |-- Partner: string (nullable = true)\n",
      " |-- Dependents: string (nullable = true)\n",
      " |-- tenure: integer (nullable = true)\n",
      " |-- PhoneService: string (nullable = true)\n",
      " |-- MultipleLines: string (nullable = true)\n",
      " |-- InternetService: string (nullable = true)\n",
      " |-- OnlineSecurity: string (nullable = true)\n",
      " |-- OnlineBackup: string (nullable = true)\n",
      " |-- DeviceProtection: string (nullable = true)\n",
      " |-- TechSupport: string (nullable = true)\n",
      " |-- StreamingTV: string (nullable = true)\n",
      " |-- StreamingMovies: string (nullable = true)\n",
      " |-- Contract: string (nullable = true)\n",
      " |-- PaperlessBilling: string (nullable = true)\n",
      " |-- PaymentMethod: string (nullable = true)\n",
      " |-- MonthlyCharges: double (nullable = true)\n",
      " |-- TotalCharges: double (nullable = true)\n",
      " |-- Churn: string (nullable = true)\n",
      "\n"
     ]
    }
   ],
   "source": [
    "df=df.withColumn(\"TotalCharges\", df[\"TotalCharges\"].cast(\"double\"))\n",
    "df.printSchema()"
   ]
  },
  {
   "cell_type": "markdown",
   "metadata": {
    "colab_type": "text",
    "id": "BAD8V94xoA07"
   },
   "source": [
    "# <font color=\"Grey\">3. Realiza un análisis exploratorio de los datos que te ayude a entender el dataset. Si necesitas, puedes recurrir al uso de gráficos."
   ]
  },
  {
   "cell_type": "code",
   "execution_count": 9,
   "metadata": {
    "colab": {
     "base_uri": "https://localhost:8080/",
     "height": 700
    },
    "colab_type": "code",
    "executionInfo": {
     "elapsed": 104046,
     "status": "ok",
     "timestamp": 1587390576582,
     "user": {
      "displayName": "Luis Blanco",
      "photoUrl": "https://lh3.googleusercontent.com/a-/AOh14Gg1BCQJfHT2P42mM1KkjEShxXP7ik2JKApJloXCcg=s64",
      "userId": "08327929932520946832"
     },
     "user_tz": -120
    },
    "id": "UQ_o4TAMn50X",
    "outputId": "5ca9c934-1940-4ec1-9d05-be8f220e0dec"
   },
   "outputs": [
    {
     "data": {
      "text/html": [
       "<div>\n",
       "<style scoped>\n",
       "    .dataframe tbody tr th:only-of-type {\n",
       "        vertical-align: middle;\n",
       "    }\n",
       "\n",
       "    .dataframe tbody tr th {\n",
       "        vertical-align: top;\n",
       "    }\n",
       "\n",
       "    .dataframe thead th {\n",
       "        text-align: right;\n",
       "    }\n",
       "</style>\n",
       "<table border=\"1\" class=\"dataframe\">\n",
       "  <thead>\n",
       "    <tr style=\"text-align: right;\">\n",
       "      <th></th>\n",
       "      <th>0</th>\n",
       "      <th>1</th>\n",
       "      <th>2</th>\n",
       "      <th>3</th>\n",
       "      <th>4</th>\n",
       "    </tr>\n",
       "  </thead>\n",
       "  <tbody>\n",
       "    <tr>\n",
       "      <th>customerID</th>\n",
       "      <td>7590-VHVEG</td>\n",
       "      <td>5575-GNVDE</td>\n",
       "      <td>3668-QPYBK</td>\n",
       "      <td>7795-CFOCW</td>\n",
       "      <td>9237-HQITU</td>\n",
       "    </tr>\n",
       "    <tr>\n",
       "      <th>gender</th>\n",
       "      <td>Female</td>\n",
       "      <td>Male</td>\n",
       "      <td>Male</td>\n",
       "      <td>Male</td>\n",
       "      <td>Female</td>\n",
       "    </tr>\n",
       "    <tr>\n",
       "      <th>SeniorCitizen</th>\n",
       "      <td>0</td>\n",
       "      <td>0</td>\n",
       "      <td>0</td>\n",
       "      <td>0</td>\n",
       "      <td>0</td>\n",
       "    </tr>\n",
       "    <tr>\n",
       "      <th>Partner</th>\n",
       "      <td>Yes</td>\n",
       "      <td>No</td>\n",
       "      <td>No</td>\n",
       "      <td>No</td>\n",
       "      <td>No</td>\n",
       "    </tr>\n",
       "    <tr>\n",
       "      <th>Dependents</th>\n",
       "      <td>No</td>\n",
       "      <td>No</td>\n",
       "      <td>No</td>\n",
       "      <td>No</td>\n",
       "      <td>No</td>\n",
       "    </tr>\n",
       "    <tr>\n",
       "      <th>tenure</th>\n",
       "      <td>1</td>\n",
       "      <td>34</td>\n",
       "      <td>2</td>\n",
       "      <td>45</td>\n",
       "      <td>2</td>\n",
       "    </tr>\n",
       "    <tr>\n",
       "      <th>PhoneService</th>\n",
       "      <td>No</td>\n",
       "      <td>Yes</td>\n",
       "      <td>Yes</td>\n",
       "      <td>No</td>\n",
       "      <td>Yes</td>\n",
       "    </tr>\n",
       "    <tr>\n",
       "      <th>MultipleLines</th>\n",
       "      <td>No phone service</td>\n",
       "      <td>No</td>\n",
       "      <td>No</td>\n",
       "      <td>No phone service</td>\n",
       "      <td>No</td>\n",
       "    </tr>\n",
       "    <tr>\n",
       "      <th>InternetService</th>\n",
       "      <td>DSL</td>\n",
       "      <td>DSL</td>\n",
       "      <td>DSL</td>\n",
       "      <td>DSL</td>\n",
       "      <td>Fiber optic</td>\n",
       "    </tr>\n",
       "    <tr>\n",
       "      <th>OnlineSecurity</th>\n",
       "      <td>No</td>\n",
       "      <td>Yes</td>\n",
       "      <td>Yes</td>\n",
       "      <td>Yes</td>\n",
       "      <td>No</td>\n",
       "    </tr>\n",
       "    <tr>\n",
       "      <th>OnlineBackup</th>\n",
       "      <td>Yes</td>\n",
       "      <td>No</td>\n",
       "      <td>Yes</td>\n",
       "      <td>No</td>\n",
       "      <td>No</td>\n",
       "    </tr>\n",
       "    <tr>\n",
       "      <th>DeviceProtection</th>\n",
       "      <td>No</td>\n",
       "      <td>Yes</td>\n",
       "      <td>No</td>\n",
       "      <td>Yes</td>\n",
       "      <td>No</td>\n",
       "    </tr>\n",
       "    <tr>\n",
       "      <th>TechSupport</th>\n",
       "      <td>No</td>\n",
       "      <td>No</td>\n",
       "      <td>No</td>\n",
       "      <td>Yes</td>\n",
       "      <td>No</td>\n",
       "    </tr>\n",
       "    <tr>\n",
       "      <th>StreamingTV</th>\n",
       "      <td>No</td>\n",
       "      <td>No</td>\n",
       "      <td>No</td>\n",
       "      <td>No</td>\n",
       "      <td>No</td>\n",
       "    </tr>\n",
       "    <tr>\n",
       "      <th>StreamingMovies</th>\n",
       "      <td>No</td>\n",
       "      <td>No</td>\n",
       "      <td>No</td>\n",
       "      <td>No</td>\n",
       "      <td>No</td>\n",
       "    </tr>\n",
       "    <tr>\n",
       "      <th>Contract</th>\n",
       "      <td>Month-to-month</td>\n",
       "      <td>One year</td>\n",
       "      <td>Month-to-month</td>\n",
       "      <td>One year</td>\n",
       "      <td>Month-to-month</td>\n",
       "    </tr>\n",
       "    <tr>\n",
       "      <th>PaperlessBilling</th>\n",
       "      <td>Yes</td>\n",
       "      <td>No</td>\n",
       "      <td>Yes</td>\n",
       "      <td>No</td>\n",
       "      <td>Yes</td>\n",
       "    </tr>\n",
       "    <tr>\n",
       "      <th>PaymentMethod</th>\n",
       "      <td>Electronic check</td>\n",
       "      <td>Mailed check</td>\n",
       "      <td>Mailed check</td>\n",
       "      <td>Bank transfer (automatic)</td>\n",
       "      <td>Electronic check</td>\n",
       "    </tr>\n",
       "    <tr>\n",
       "      <th>MonthlyCharges</th>\n",
       "      <td>29.85</td>\n",
       "      <td>56.95</td>\n",
       "      <td>53.85</td>\n",
       "      <td>42.3</td>\n",
       "      <td>70.7</td>\n",
       "    </tr>\n",
       "    <tr>\n",
       "      <th>TotalCharges</th>\n",
       "      <td>29.85</td>\n",
       "      <td>1889.5</td>\n",
       "      <td>108.15</td>\n",
       "      <td>1840.75</td>\n",
       "      <td>151.65</td>\n",
       "    </tr>\n",
       "    <tr>\n",
       "      <th>Churn</th>\n",
       "      <td>No</td>\n",
       "      <td>No</td>\n",
       "      <td>Yes</td>\n",
       "      <td>No</td>\n",
       "      <td>Yes</td>\n",
       "    </tr>\n",
       "  </tbody>\n",
       "</table>\n",
       "</div>"
      ],
      "text/plain": [
       "                                 0  ...                 4\n",
       "customerID              7590-VHVEG  ...        9237-HQITU\n",
       "gender                      Female  ...            Female\n",
       "SeniorCitizen                    0  ...                 0\n",
       "Partner                        Yes  ...                No\n",
       "Dependents                      No  ...                No\n",
       "tenure                           1  ...                 2\n",
       "PhoneService                    No  ...               Yes\n",
       "MultipleLines     No phone service  ...                No\n",
       "InternetService                DSL  ...       Fiber optic\n",
       "OnlineSecurity                  No  ...                No\n",
       "OnlineBackup                   Yes  ...                No\n",
       "DeviceProtection                No  ...                No\n",
       "TechSupport                     No  ...                No\n",
       "StreamingTV                     No  ...                No\n",
       "StreamingMovies                 No  ...                No\n",
       "Contract            Month-to-month  ...    Month-to-month\n",
       "PaperlessBilling               Yes  ...               Yes\n",
       "PaymentMethod     Electronic check  ...  Electronic check\n",
       "MonthlyCharges               29.85  ...              70.7\n",
       "TotalCharges                 29.85  ...            151.65\n",
       "Churn                           No  ...               Yes\n",
       "\n",
       "[21 rows x 5 columns]"
      ]
     },
     "execution_count": 9,
     "metadata": {
      "tags": []
     },
     "output_type": "execute_result"
    }
   ],
   "source": [
    "#Trasponemos los datos para ver más claramente los datos de cada columna (ahora filas)\n",
    "pd.DataFrame(df.take(5),columns=df.columns).transpose()"
   ]
  },
  {
   "cell_type": "markdown",
   "metadata": {
    "colab_type": "text",
    "id": "VWxuwwJgf0b4"
   },
   "source": [
    "<font color=\"Grey\"> **FEATURES**  \n",
    "<font color=\"Grey\">- customerID: identificador del cliente.  \n",
    "<font color=\"Grey\">- gender: sexo (male o female).   \n",
    "<font color=\"Grey\">- SeniorCitizen: jubilado/a o no (1, 0).  \n",
    "<font color=\"Grey\">- Partner: si tiene pareja (Yes, No).  \n",
    "<font color=\"Grey\">- Dependents: si el cliente tiene familiares (Yes, No).  \n",
    "<font color=\"Grey\">- tenure: número de meses que es cliente.  \n",
    "<font color=\"Grey\">- PhoneService: si el cliente tiene o no servicio telefónico (Yes, No).  \n",
    "<font color=\"Grey\">- MultipleLines: si el cliente tiene más de una línea o no (Yes, No, No phone service).  \n",
    "<font color=\"Grey\">- InternetService: tipo de servicio de internet contratado(DSL, Fiber optic, No).  \n",
    "<font color=\"Grey\">- OnlineSecurity: si el cliente tiene servicio de seguridad online (Yes, No, No internet service).  \n",
    "<font color=\"Grey\">- OnlineBackup: si el cilente tiene servicio de backup online (Yes, No, No internet service).  \n",
    "<font color=\"Grey\">- DeviceProtection: si el cliente tiene servicio de protección del dispositivo (Yes, No, No internet service).  \n",
    "<font color=\"Grey\">- TechSupport: si el cliente tiene soporto técnico (Yes, No, No internet service).  \n",
    "<font color=\"Grey\">- StreamingTV: si el cliente tiene contratado TV en streaming (Yes, No, No internet service).  \n",
    "<font color=\"Grey\">- StreamingMovies: si el cliente tiene contratado Películas en streaming (Yes, No, No internet service).  \n",
    "<font color=\"Grey\">- Contract: tipo de contrato (Month-to-month, One year, Two year).  \n",
    "<font color=\"Grey\">- PaperlessBilling: si el cliente tiene facturación electrónica (Yes, No).  \n",
    "<font color=\"Grey\">- PaymentMethod: método de pago (Electronic check, Mailed check, Bank transfer (automatic), Credit card (automatic)).  \n",
    "<font color=\"Grey\">- MonthlyCharges: importe mensual facturado.  \n",
    "<font color=\"Grey\">- TotalCharges: total facturado al cliente.  \n",
    "\n",
    "---\n",
    "<font color=\"Grey\"> **LABEL**  \n",
    "<font color=\"Grey\">- Churn: pérdida de cliente (Yes, No)."
   ]
  },
  {
   "cell_type": "code",
   "execution_count": 10,
   "metadata": {
    "colab": {
     "base_uri": "https://localhost:8080/",
     "height": 609
    },
    "colab_type": "code",
    "executionInfo": {
     "elapsed": 104949,
     "status": "ok",
     "timestamp": 1587390577533,
     "user": {
      "displayName": "Luis Blanco",
      "photoUrl": "https://lh3.googleusercontent.com/a-/AOh14Gg1BCQJfHT2P42mM1KkjEShxXP7ik2JKApJloXCcg=s64",
      "userId": "08327929932520946832"
     },
     "user_tz": -120
    },
    "id": "ykit5DVzeLGe",
    "outputId": "2c1abe93-8216-4014-adcf-3d2cb5ca1318"
   },
   "outputs": [
    {
     "data": {
      "text/html": [
       "<div>\n",
       "<style scoped>\n",
       "    .dataframe tbody tr th:only-of-type {\n",
       "        vertical-align: middle;\n",
       "    }\n",
       "\n",
       "    .dataframe tbody tr th {\n",
       "        vertical-align: top;\n",
       "    }\n",
       "\n",
       "    .dataframe thead th {\n",
       "        text-align: right;\n",
       "    }\n",
       "</style>\n",
       "<table border=\"1\" class=\"dataframe\">\n",
       "  <thead>\n",
       "    <tr style=\"text-align: right;\">\n",
       "      <th></th>\n",
       "      <th>customerID</th>\n",
       "      <th>gender</th>\n",
       "      <th>SeniorCitizen</th>\n",
       "      <th>Partner</th>\n",
       "      <th>Dependents</th>\n",
       "      <th>tenure</th>\n",
       "      <th>PhoneService</th>\n",
       "      <th>MultipleLines</th>\n",
       "      <th>InternetService</th>\n",
       "      <th>OnlineSecurity</th>\n",
       "      <th>OnlineBackup</th>\n",
       "      <th>DeviceProtection</th>\n",
       "      <th>TechSupport</th>\n",
       "      <th>StreamingTV</th>\n",
       "      <th>StreamingMovies</th>\n",
       "      <th>Contract</th>\n",
       "      <th>PaperlessBilling</th>\n",
       "      <th>PaymentMethod</th>\n",
       "      <th>MonthlyCharges</th>\n",
       "      <th>TotalCharges</th>\n",
       "      <th>Churn</th>\n",
       "    </tr>\n",
       "  </thead>\n",
       "  <tbody>\n",
       "    <tr>\n",
       "      <th>0</th>\n",
       "      <td>7590-VHVEG</td>\n",
       "      <td>Female</td>\n",
       "      <td>0</td>\n",
       "      <td>Yes</td>\n",
       "      <td>No</td>\n",
       "      <td>1</td>\n",
       "      <td>No</td>\n",
       "      <td>No phone service</td>\n",
       "      <td>DSL</td>\n",
       "      <td>No</td>\n",
       "      <td>Yes</td>\n",
       "      <td>No</td>\n",
       "      <td>No</td>\n",
       "      <td>No</td>\n",
       "      <td>No</td>\n",
       "      <td>Month-to-month</td>\n",
       "      <td>Yes</td>\n",
       "      <td>Electronic check</td>\n",
       "      <td>29.85</td>\n",
       "      <td>29.85</td>\n",
       "      <td>No</td>\n",
       "    </tr>\n",
       "    <tr>\n",
       "      <th>1</th>\n",
       "      <td>5575-GNVDE</td>\n",
       "      <td>Male</td>\n",
       "      <td>0</td>\n",
       "      <td>No</td>\n",
       "      <td>No</td>\n",
       "      <td>34</td>\n",
       "      <td>Yes</td>\n",
       "      <td>No</td>\n",
       "      <td>DSL</td>\n",
       "      <td>Yes</td>\n",
       "      <td>No</td>\n",
       "      <td>Yes</td>\n",
       "      <td>No</td>\n",
       "      <td>No</td>\n",
       "      <td>No</td>\n",
       "      <td>One year</td>\n",
       "      <td>No</td>\n",
       "      <td>Mailed check</td>\n",
       "      <td>56.95</td>\n",
       "      <td>1889.50</td>\n",
       "      <td>No</td>\n",
       "    </tr>\n",
       "    <tr>\n",
       "      <th>2</th>\n",
       "      <td>3668-QPYBK</td>\n",
       "      <td>Male</td>\n",
       "      <td>0</td>\n",
       "      <td>No</td>\n",
       "      <td>No</td>\n",
       "      <td>2</td>\n",
       "      <td>Yes</td>\n",
       "      <td>No</td>\n",
       "      <td>DSL</td>\n",
       "      <td>Yes</td>\n",
       "      <td>Yes</td>\n",
       "      <td>No</td>\n",
       "      <td>No</td>\n",
       "      <td>No</td>\n",
       "      <td>No</td>\n",
       "      <td>Month-to-month</td>\n",
       "      <td>Yes</td>\n",
       "      <td>Mailed check</td>\n",
       "      <td>53.85</td>\n",
       "      <td>108.15</td>\n",
       "      <td>Yes</td>\n",
       "    </tr>\n",
       "    <tr>\n",
       "      <th>3</th>\n",
       "      <td>7795-CFOCW</td>\n",
       "      <td>Male</td>\n",
       "      <td>0</td>\n",
       "      <td>No</td>\n",
       "      <td>No</td>\n",
       "      <td>45</td>\n",
       "      <td>No</td>\n",
       "      <td>No phone service</td>\n",
       "      <td>DSL</td>\n",
       "      <td>Yes</td>\n",
       "      <td>No</td>\n",
       "      <td>Yes</td>\n",
       "      <td>Yes</td>\n",
       "      <td>No</td>\n",
       "      <td>No</td>\n",
       "      <td>One year</td>\n",
       "      <td>No</td>\n",
       "      <td>Bank transfer (automatic)</td>\n",
       "      <td>42.30</td>\n",
       "      <td>1840.75</td>\n",
       "      <td>No</td>\n",
       "    </tr>\n",
       "    <tr>\n",
       "      <th>4</th>\n",
       "      <td>9237-HQITU</td>\n",
       "      <td>Female</td>\n",
       "      <td>0</td>\n",
       "      <td>No</td>\n",
       "      <td>No</td>\n",
       "      <td>2</td>\n",
       "      <td>Yes</td>\n",
       "      <td>No</td>\n",
       "      <td>Fiber optic</td>\n",
       "      <td>No</td>\n",
       "      <td>No</td>\n",
       "      <td>No</td>\n",
       "      <td>No</td>\n",
       "      <td>No</td>\n",
       "      <td>No</td>\n",
       "      <td>Month-to-month</td>\n",
       "      <td>Yes</td>\n",
       "      <td>Electronic check</td>\n",
       "      <td>70.70</td>\n",
       "      <td>151.65</td>\n",
       "      <td>Yes</td>\n",
       "    </tr>\n",
       "    <tr>\n",
       "      <th>...</th>\n",
       "      <td>...</td>\n",
       "      <td>...</td>\n",
       "      <td>...</td>\n",
       "      <td>...</td>\n",
       "      <td>...</td>\n",
       "      <td>...</td>\n",
       "      <td>...</td>\n",
       "      <td>...</td>\n",
       "      <td>...</td>\n",
       "      <td>...</td>\n",
       "      <td>...</td>\n",
       "      <td>...</td>\n",
       "      <td>...</td>\n",
       "      <td>...</td>\n",
       "      <td>...</td>\n",
       "      <td>...</td>\n",
       "      <td>...</td>\n",
       "      <td>...</td>\n",
       "      <td>...</td>\n",
       "      <td>...</td>\n",
       "      <td>...</td>\n",
       "    </tr>\n",
       "    <tr>\n",
       "      <th>7038</th>\n",
       "      <td>6840-RESVB</td>\n",
       "      <td>Male</td>\n",
       "      <td>0</td>\n",
       "      <td>Yes</td>\n",
       "      <td>Yes</td>\n",
       "      <td>24</td>\n",
       "      <td>Yes</td>\n",
       "      <td>Yes</td>\n",
       "      <td>DSL</td>\n",
       "      <td>Yes</td>\n",
       "      <td>No</td>\n",
       "      <td>Yes</td>\n",
       "      <td>Yes</td>\n",
       "      <td>Yes</td>\n",
       "      <td>Yes</td>\n",
       "      <td>One year</td>\n",
       "      <td>Yes</td>\n",
       "      <td>Mailed check</td>\n",
       "      <td>84.80</td>\n",
       "      <td>1990.50</td>\n",
       "      <td>No</td>\n",
       "    </tr>\n",
       "    <tr>\n",
       "      <th>7039</th>\n",
       "      <td>2234-XADUH</td>\n",
       "      <td>Female</td>\n",
       "      <td>0</td>\n",
       "      <td>Yes</td>\n",
       "      <td>Yes</td>\n",
       "      <td>72</td>\n",
       "      <td>Yes</td>\n",
       "      <td>Yes</td>\n",
       "      <td>Fiber optic</td>\n",
       "      <td>No</td>\n",
       "      <td>Yes</td>\n",
       "      <td>Yes</td>\n",
       "      <td>No</td>\n",
       "      <td>Yes</td>\n",
       "      <td>Yes</td>\n",
       "      <td>One year</td>\n",
       "      <td>Yes</td>\n",
       "      <td>Credit card (automatic)</td>\n",
       "      <td>103.20</td>\n",
       "      <td>7362.90</td>\n",
       "      <td>No</td>\n",
       "    </tr>\n",
       "    <tr>\n",
       "      <th>7040</th>\n",
       "      <td>4801-JZAZL</td>\n",
       "      <td>Female</td>\n",
       "      <td>0</td>\n",
       "      <td>Yes</td>\n",
       "      <td>Yes</td>\n",
       "      <td>11</td>\n",
       "      <td>No</td>\n",
       "      <td>No phone service</td>\n",
       "      <td>DSL</td>\n",
       "      <td>Yes</td>\n",
       "      <td>No</td>\n",
       "      <td>No</td>\n",
       "      <td>No</td>\n",
       "      <td>No</td>\n",
       "      <td>No</td>\n",
       "      <td>Month-to-month</td>\n",
       "      <td>Yes</td>\n",
       "      <td>Electronic check</td>\n",
       "      <td>29.60</td>\n",
       "      <td>346.45</td>\n",
       "      <td>No</td>\n",
       "    </tr>\n",
       "    <tr>\n",
       "      <th>7041</th>\n",
       "      <td>8361-LTMKD</td>\n",
       "      <td>Male</td>\n",
       "      <td>1</td>\n",
       "      <td>Yes</td>\n",
       "      <td>No</td>\n",
       "      <td>4</td>\n",
       "      <td>Yes</td>\n",
       "      <td>Yes</td>\n",
       "      <td>Fiber optic</td>\n",
       "      <td>No</td>\n",
       "      <td>No</td>\n",
       "      <td>No</td>\n",
       "      <td>No</td>\n",
       "      <td>No</td>\n",
       "      <td>No</td>\n",
       "      <td>Month-to-month</td>\n",
       "      <td>Yes</td>\n",
       "      <td>Mailed check</td>\n",
       "      <td>74.40</td>\n",
       "      <td>306.60</td>\n",
       "      <td>Yes</td>\n",
       "    </tr>\n",
       "    <tr>\n",
       "      <th>7042</th>\n",
       "      <td>3186-AJIEK</td>\n",
       "      <td>Male</td>\n",
       "      <td>0</td>\n",
       "      <td>No</td>\n",
       "      <td>No</td>\n",
       "      <td>66</td>\n",
       "      <td>Yes</td>\n",
       "      <td>No</td>\n",
       "      <td>Fiber optic</td>\n",
       "      <td>Yes</td>\n",
       "      <td>No</td>\n",
       "      <td>Yes</td>\n",
       "      <td>Yes</td>\n",
       "      <td>Yes</td>\n",
       "      <td>Yes</td>\n",
       "      <td>Two year</td>\n",
       "      <td>Yes</td>\n",
       "      <td>Bank transfer (automatic)</td>\n",
       "      <td>105.65</td>\n",
       "      <td>6844.50</td>\n",
       "      <td>No</td>\n",
       "    </tr>\n",
       "  </tbody>\n",
       "</table>\n",
       "<p>7043 rows × 21 columns</p>\n",
       "</div>"
      ],
      "text/plain": [
       "      customerID  gender  SeniorCitizen  ... MonthlyCharges TotalCharges  Churn\n",
       "0     7590-VHVEG  Female              0  ...          29.85        29.85     No\n",
       "1     5575-GNVDE    Male              0  ...          56.95      1889.50     No\n",
       "2     3668-QPYBK    Male              0  ...          53.85       108.15    Yes\n",
       "3     7795-CFOCW    Male              0  ...          42.30      1840.75     No\n",
       "4     9237-HQITU  Female              0  ...          70.70       151.65    Yes\n",
       "...          ...     ...            ...  ...            ...          ...    ...\n",
       "7038  6840-RESVB    Male              0  ...          84.80      1990.50     No\n",
       "7039  2234-XADUH  Female              0  ...         103.20      7362.90     No\n",
       "7040  4801-JZAZL  Female              0  ...          29.60       346.45     No\n",
       "7041  8361-LTMKD    Male              1  ...          74.40       306.60    Yes\n",
       "7042  3186-AJIEK    Male              0  ...         105.65      6844.50     No\n",
       "\n",
       "[7043 rows x 21 columns]"
      ]
     },
     "execution_count": 10,
     "metadata": {
      "tags": []
     },
     "output_type": "execute_result"
    }
   ],
   "source": [
    "df.toPandas()"
   ]
  },
  {
   "cell_type": "markdown",
   "metadata": {
    "colab_type": "text",
    "id": "VrxPhBKrpyxQ"
   },
   "source": [
    "<font color=\"Grey\">Vamos a ver cómo de balanceada está nuestra label \"Churn\":"
   ]
  },
  {
   "cell_type": "code",
   "execution_count": 11,
   "metadata": {
    "colab": {
     "base_uri": "https://localhost:8080/",
     "height": 111
    },
    "colab_type": "code",
    "executionInfo": {
     "elapsed": 107769,
     "status": "ok",
     "timestamp": 1587390580396,
     "user": {
      "displayName": "Luis Blanco",
      "photoUrl": "https://lh3.googleusercontent.com/a-/AOh14Gg1BCQJfHT2P42mM1KkjEShxXP7ik2JKApJloXCcg=s64",
      "userId": "08327929932520946832"
     },
     "user_tz": -120
    },
    "id": "uJuAwk5HfUSo",
    "outputId": "70d40667-4cbd-4a91-9adb-d4ce10fc13c7"
   },
   "outputs": [
    {
     "data": {
      "text/html": [
       "<div>\n",
       "<style scoped>\n",
       "    .dataframe tbody tr th:only-of-type {\n",
       "        vertical-align: middle;\n",
       "    }\n",
       "\n",
       "    .dataframe tbody tr th {\n",
       "        vertical-align: top;\n",
       "    }\n",
       "\n",
       "    .dataframe thead th {\n",
       "        text-align: right;\n",
       "    }\n",
       "</style>\n",
       "<table border=\"1\" class=\"dataframe\">\n",
       "  <thead>\n",
       "    <tr style=\"text-align: right;\">\n",
       "      <th></th>\n",
       "      <th>Churn</th>\n",
       "      <th>count</th>\n",
       "    </tr>\n",
       "  </thead>\n",
       "  <tbody>\n",
       "    <tr>\n",
       "      <th>0</th>\n",
       "      <td>No</td>\n",
       "      <td>5174</td>\n",
       "    </tr>\n",
       "    <tr>\n",
       "      <th>1</th>\n",
       "      <td>Yes</td>\n",
       "      <td>1869</td>\n",
       "    </tr>\n",
       "  </tbody>\n",
       "</table>\n",
       "</div>"
      ],
      "text/plain": [
       "  Churn  count\n",
       "0    No   5174\n",
       "1   Yes   1869"
      ]
     },
     "execution_count": 11,
     "metadata": {
      "tags": []
     },
     "output_type": "execute_result"
    }
   ],
   "source": [
    "df.groupBy(\"Churn\").count().toPandas()"
   ]
  },
  {
   "cell_type": "markdown",
   "metadata": {
    "colab_type": "text",
    "id": "1J5S35dSxrGp"
   },
   "source": [
    "<font color=\"Grey\">Nuestra label está muy desbalanceada, por lo que tenemos que tenerlo en cuenta a la hora de hacer nuestro modelo y ver sus resultados.  \n",
    "Vamos a ver si tenemos nulos o duplicados:"
   ]
  },
  {
   "cell_type": "code",
   "execution_count": 0,
   "metadata": {
    "colab": {},
    "colab_type": "code",
    "id": "E6X1tW2MdfbM"
   },
   "outputs": [],
   "source": [
    "df_pandas=df.toPandas()"
   ]
  },
  {
   "cell_type": "code",
   "execution_count": 13,
   "metadata": {
    "colab": {
     "base_uri": "https://localhost:8080/",
     "height": 391
    },
    "colab_type": "code",
    "executionInfo": {
     "elapsed": 108520,
     "status": "ok",
     "timestamp": 1587390581192,
     "user": {
      "displayName": "Luis Blanco",
      "photoUrl": "https://lh3.googleusercontent.com/a-/AOh14Gg1BCQJfHT2P42mM1KkjEShxXP7ik2JKApJloXCcg=s64",
      "userId": "08327929932520946832"
     },
     "user_tz": -120
    },
    "id": "MOqmJroWVUFg",
    "outputId": "2df471a6-83d7-44e3-f95d-129a72330380"
   },
   "outputs": [
    {
     "data": {
      "text/plain": [
       "customerID           0\n",
       "gender               0\n",
       "SeniorCitizen        0\n",
       "Partner              0\n",
       "Dependents           0\n",
       "tenure               0\n",
       "PhoneService         0\n",
       "MultipleLines        0\n",
       "InternetService      0\n",
       "OnlineSecurity       0\n",
       "OnlineBackup         0\n",
       "DeviceProtection     0\n",
       "TechSupport          0\n",
       "StreamingTV          0\n",
       "StreamingMovies      0\n",
       "Contract             0\n",
       "PaperlessBilling     0\n",
       "PaymentMethod        0\n",
       "MonthlyCharges       0\n",
       "TotalCharges        11\n",
       "Churn                0\n",
       "dtype: int64"
      ]
     },
     "execution_count": 13,
     "metadata": {
      "tags": []
     },
     "output_type": "execute_result"
    }
   ],
   "source": [
    "df_pandas.isnull().sum()"
   ]
  },
  {
   "cell_type": "code",
   "execution_count": 14,
   "metadata": {
    "colab": {
     "base_uri": "https://localhost:8080/",
     "height": 102
    },
    "colab_type": "code",
    "executionInfo": {
     "elapsed": 108481,
     "status": "ok",
     "timestamp": 1587390581194,
     "user": {
      "displayName": "Luis Blanco",
      "photoUrl": "https://lh3.googleusercontent.com/a-/AOh14Gg1BCQJfHT2P42mM1KkjEShxXP7ik2JKApJloXCcg=s64",
      "userId": "08327929932520946832"
     },
     "user_tz": -120
    },
    "id": "8bn3PzPPWGCN",
    "outputId": "1fac9fd5-813f-461b-80b6-b46b1dc5c9a6"
   },
   "outputs": [
    {
     "data": {
      "text/plain": [
       "count           7043\n",
       "unique          7043\n",
       "top       9710-ZUSHQ\n",
       "freq               1\n",
       "Name: customerID, dtype: object"
      ]
     },
     "execution_count": 14,
     "metadata": {
      "tags": []
     },
     "output_type": "execute_result"
    }
   ],
   "source": [
    "df_pandas[\"customerID\"].describe()"
   ]
  },
  {
   "cell_type": "markdown",
   "metadata": {
    "colab_type": "text",
    "id": "yn7YZTG-Xaj2"
   },
   "source": [
    "<font color=\"Grey\">Vemos que no tenemos duplicados, ya que \"customerID\" tiene todos sus registros como únicos. Por otro lado, la feature \"TotalCharges\" tiene 11 valores nulos, vamos a analizarlos."
   ]
  },
  {
   "cell_type": "code",
   "execution_count": 0,
   "metadata": {
    "colab": {},
    "colab_type": "code",
    "id": "gOuZ1eIiYBC9"
   },
   "outputs": [],
   "source": [
    "nan_rows = df_pandas[df_pandas.isnull().any(1)]"
   ]
  },
  {
   "cell_type": "code",
   "execution_count": 16,
   "metadata": {
    "colab": {
     "base_uri": "https://localhost:8080/",
     "height": 597
    },
    "colab_type": "code",
    "executionInfo": {
     "elapsed": 108431,
     "status": "ok",
     "timestamp": 1587390581195,
     "user": {
      "displayName": "Luis Blanco",
      "photoUrl": "https://lh3.googleusercontent.com/a-/AOh14Gg1BCQJfHT2P42mM1KkjEShxXP7ik2JKApJloXCcg=s64",
      "userId": "08327929932520946832"
     },
     "user_tz": -120
    },
    "id": "kaxDK9-QYMJn",
    "outputId": "d50fe088-9a5d-4eec-a80b-2006b871d9c7"
   },
   "outputs": [
    {
     "data": {
      "text/html": [
       "<div>\n",
       "<style scoped>\n",
       "    .dataframe tbody tr th:only-of-type {\n",
       "        vertical-align: middle;\n",
       "    }\n",
       "\n",
       "    .dataframe tbody tr th {\n",
       "        vertical-align: top;\n",
       "    }\n",
       "\n",
       "    .dataframe thead th {\n",
       "        text-align: right;\n",
       "    }\n",
       "</style>\n",
       "<table border=\"1\" class=\"dataframe\">\n",
       "  <thead>\n",
       "    <tr style=\"text-align: right;\">\n",
       "      <th></th>\n",
       "      <th>customerID</th>\n",
       "      <th>gender</th>\n",
       "      <th>SeniorCitizen</th>\n",
       "      <th>Partner</th>\n",
       "      <th>Dependents</th>\n",
       "      <th>tenure</th>\n",
       "      <th>PhoneService</th>\n",
       "      <th>MultipleLines</th>\n",
       "      <th>InternetService</th>\n",
       "      <th>OnlineSecurity</th>\n",
       "      <th>OnlineBackup</th>\n",
       "      <th>DeviceProtection</th>\n",
       "      <th>TechSupport</th>\n",
       "      <th>StreamingTV</th>\n",
       "      <th>StreamingMovies</th>\n",
       "      <th>Contract</th>\n",
       "      <th>PaperlessBilling</th>\n",
       "      <th>PaymentMethod</th>\n",
       "      <th>MonthlyCharges</th>\n",
       "      <th>TotalCharges</th>\n",
       "      <th>Churn</th>\n",
       "    </tr>\n",
       "  </thead>\n",
       "  <tbody>\n",
       "    <tr>\n",
       "      <th>488</th>\n",
       "      <td>4472-LVYGI</td>\n",
       "      <td>Female</td>\n",
       "      <td>0</td>\n",
       "      <td>Yes</td>\n",
       "      <td>Yes</td>\n",
       "      <td>0</td>\n",
       "      <td>No</td>\n",
       "      <td>No phone service</td>\n",
       "      <td>DSL</td>\n",
       "      <td>Yes</td>\n",
       "      <td>No</td>\n",
       "      <td>Yes</td>\n",
       "      <td>Yes</td>\n",
       "      <td>Yes</td>\n",
       "      <td>No</td>\n",
       "      <td>Two year</td>\n",
       "      <td>Yes</td>\n",
       "      <td>Bank transfer (automatic)</td>\n",
       "      <td>52.55</td>\n",
       "      <td>NaN</td>\n",
       "      <td>No</td>\n",
       "    </tr>\n",
       "    <tr>\n",
       "      <th>753</th>\n",
       "      <td>3115-CZMZD</td>\n",
       "      <td>Male</td>\n",
       "      <td>0</td>\n",
       "      <td>No</td>\n",
       "      <td>Yes</td>\n",
       "      <td>0</td>\n",
       "      <td>Yes</td>\n",
       "      <td>No</td>\n",
       "      <td>No</td>\n",
       "      <td>No internet service</td>\n",
       "      <td>No internet service</td>\n",
       "      <td>No internet service</td>\n",
       "      <td>No internet service</td>\n",
       "      <td>No internet service</td>\n",
       "      <td>No internet service</td>\n",
       "      <td>Two year</td>\n",
       "      <td>No</td>\n",
       "      <td>Mailed check</td>\n",
       "      <td>20.25</td>\n",
       "      <td>NaN</td>\n",
       "      <td>No</td>\n",
       "    </tr>\n",
       "    <tr>\n",
       "      <th>936</th>\n",
       "      <td>5709-LVOEQ</td>\n",
       "      <td>Female</td>\n",
       "      <td>0</td>\n",
       "      <td>Yes</td>\n",
       "      <td>Yes</td>\n",
       "      <td>0</td>\n",
       "      <td>Yes</td>\n",
       "      <td>No</td>\n",
       "      <td>DSL</td>\n",
       "      <td>Yes</td>\n",
       "      <td>Yes</td>\n",
       "      <td>Yes</td>\n",
       "      <td>No</td>\n",
       "      <td>Yes</td>\n",
       "      <td>Yes</td>\n",
       "      <td>Two year</td>\n",
       "      <td>No</td>\n",
       "      <td>Mailed check</td>\n",
       "      <td>80.85</td>\n",
       "      <td>NaN</td>\n",
       "      <td>No</td>\n",
       "    </tr>\n",
       "    <tr>\n",
       "      <th>1082</th>\n",
       "      <td>4367-NUYAO</td>\n",
       "      <td>Male</td>\n",
       "      <td>0</td>\n",
       "      <td>Yes</td>\n",
       "      <td>Yes</td>\n",
       "      <td>0</td>\n",
       "      <td>Yes</td>\n",
       "      <td>Yes</td>\n",
       "      <td>No</td>\n",
       "      <td>No internet service</td>\n",
       "      <td>No internet service</td>\n",
       "      <td>No internet service</td>\n",
       "      <td>No internet service</td>\n",
       "      <td>No internet service</td>\n",
       "      <td>No internet service</td>\n",
       "      <td>Two year</td>\n",
       "      <td>No</td>\n",
       "      <td>Mailed check</td>\n",
       "      <td>25.75</td>\n",
       "      <td>NaN</td>\n",
       "      <td>No</td>\n",
       "    </tr>\n",
       "    <tr>\n",
       "      <th>1340</th>\n",
       "      <td>1371-DWPAZ</td>\n",
       "      <td>Female</td>\n",
       "      <td>0</td>\n",
       "      <td>Yes</td>\n",
       "      <td>Yes</td>\n",
       "      <td>0</td>\n",
       "      <td>No</td>\n",
       "      <td>No phone service</td>\n",
       "      <td>DSL</td>\n",
       "      <td>Yes</td>\n",
       "      <td>Yes</td>\n",
       "      <td>Yes</td>\n",
       "      <td>Yes</td>\n",
       "      <td>Yes</td>\n",
       "      <td>No</td>\n",
       "      <td>Two year</td>\n",
       "      <td>No</td>\n",
       "      <td>Credit card (automatic)</td>\n",
       "      <td>56.05</td>\n",
       "      <td>NaN</td>\n",
       "      <td>No</td>\n",
       "    </tr>\n",
       "    <tr>\n",
       "      <th>3331</th>\n",
       "      <td>7644-OMVMY</td>\n",
       "      <td>Male</td>\n",
       "      <td>0</td>\n",
       "      <td>Yes</td>\n",
       "      <td>Yes</td>\n",
       "      <td>0</td>\n",
       "      <td>Yes</td>\n",
       "      <td>No</td>\n",
       "      <td>No</td>\n",
       "      <td>No internet service</td>\n",
       "      <td>No internet service</td>\n",
       "      <td>No internet service</td>\n",
       "      <td>No internet service</td>\n",
       "      <td>No internet service</td>\n",
       "      <td>No internet service</td>\n",
       "      <td>Two year</td>\n",
       "      <td>No</td>\n",
       "      <td>Mailed check</td>\n",
       "      <td>19.85</td>\n",
       "      <td>NaN</td>\n",
       "      <td>No</td>\n",
       "    </tr>\n",
       "    <tr>\n",
       "      <th>3826</th>\n",
       "      <td>3213-VVOLG</td>\n",
       "      <td>Male</td>\n",
       "      <td>0</td>\n",
       "      <td>Yes</td>\n",
       "      <td>Yes</td>\n",
       "      <td>0</td>\n",
       "      <td>Yes</td>\n",
       "      <td>Yes</td>\n",
       "      <td>No</td>\n",
       "      <td>No internet service</td>\n",
       "      <td>No internet service</td>\n",
       "      <td>No internet service</td>\n",
       "      <td>No internet service</td>\n",
       "      <td>No internet service</td>\n",
       "      <td>No internet service</td>\n",
       "      <td>Two year</td>\n",
       "      <td>No</td>\n",
       "      <td>Mailed check</td>\n",
       "      <td>25.35</td>\n",
       "      <td>NaN</td>\n",
       "      <td>No</td>\n",
       "    </tr>\n",
       "    <tr>\n",
       "      <th>4380</th>\n",
       "      <td>2520-SGTTA</td>\n",
       "      <td>Female</td>\n",
       "      <td>0</td>\n",
       "      <td>Yes</td>\n",
       "      <td>Yes</td>\n",
       "      <td>0</td>\n",
       "      <td>Yes</td>\n",
       "      <td>No</td>\n",
       "      <td>No</td>\n",
       "      <td>No internet service</td>\n",
       "      <td>No internet service</td>\n",
       "      <td>No internet service</td>\n",
       "      <td>No internet service</td>\n",
       "      <td>No internet service</td>\n",
       "      <td>No internet service</td>\n",
       "      <td>Two year</td>\n",
       "      <td>No</td>\n",
       "      <td>Mailed check</td>\n",
       "      <td>20.00</td>\n",
       "      <td>NaN</td>\n",
       "      <td>No</td>\n",
       "    </tr>\n",
       "    <tr>\n",
       "      <th>5218</th>\n",
       "      <td>2923-ARZLG</td>\n",
       "      <td>Male</td>\n",
       "      <td>0</td>\n",
       "      <td>Yes</td>\n",
       "      <td>Yes</td>\n",
       "      <td>0</td>\n",
       "      <td>Yes</td>\n",
       "      <td>No</td>\n",
       "      <td>No</td>\n",
       "      <td>No internet service</td>\n",
       "      <td>No internet service</td>\n",
       "      <td>No internet service</td>\n",
       "      <td>No internet service</td>\n",
       "      <td>No internet service</td>\n",
       "      <td>No internet service</td>\n",
       "      <td>One year</td>\n",
       "      <td>Yes</td>\n",
       "      <td>Mailed check</td>\n",
       "      <td>19.70</td>\n",
       "      <td>NaN</td>\n",
       "      <td>No</td>\n",
       "    </tr>\n",
       "    <tr>\n",
       "      <th>6670</th>\n",
       "      <td>4075-WKNIU</td>\n",
       "      <td>Female</td>\n",
       "      <td>0</td>\n",
       "      <td>Yes</td>\n",
       "      <td>Yes</td>\n",
       "      <td>0</td>\n",
       "      <td>Yes</td>\n",
       "      <td>Yes</td>\n",
       "      <td>DSL</td>\n",
       "      <td>No</td>\n",
       "      <td>Yes</td>\n",
       "      <td>Yes</td>\n",
       "      <td>Yes</td>\n",
       "      <td>Yes</td>\n",
       "      <td>No</td>\n",
       "      <td>Two year</td>\n",
       "      <td>No</td>\n",
       "      <td>Mailed check</td>\n",
       "      <td>73.35</td>\n",
       "      <td>NaN</td>\n",
       "      <td>No</td>\n",
       "    </tr>\n",
       "    <tr>\n",
       "      <th>6754</th>\n",
       "      <td>2775-SEFEE</td>\n",
       "      <td>Male</td>\n",
       "      <td>0</td>\n",
       "      <td>No</td>\n",
       "      <td>Yes</td>\n",
       "      <td>0</td>\n",
       "      <td>Yes</td>\n",
       "      <td>Yes</td>\n",
       "      <td>DSL</td>\n",
       "      <td>Yes</td>\n",
       "      <td>Yes</td>\n",
       "      <td>No</td>\n",
       "      <td>Yes</td>\n",
       "      <td>No</td>\n",
       "      <td>No</td>\n",
       "      <td>Two year</td>\n",
       "      <td>Yes</td>\n",
       "      <td>Bank transfer (automatic)</td>\n",
       "      <td>61.90</td>\n",
       "      <td>NaN</td>\n",
       "      <td>No</td>\n",
       "    </tr>\n",
       "  </tbody>\n",
       "</table>\n",
       "</div>"
      ],
      "text/plain": [
       "      customerID  gender  SeniorCitizen  ... MonthlyCharges TotalCharges  Churn\n",
       "488   4472-LVYGI  Female              0  ...          52.55          NaN     No\n",
       "753   3115-CZMZD    Male              0  ...          20.25          NaN     No\n",
       "936   5709-LVOEQ  Female              0  ...          80.85          NaN     No\n",
       "1082  4367-NUYAO    Male              0  ...          25.75          NaN     No\n",
       "1340  1371-DWPAZ  Female              0  ...          56.05          NaN     No\n",
       "3331  7644-OMVMY    Male              0  ...          19.85          NaN     No\n",
       "3826  3213-VVOLG    Male              0  ...          25.35          NaN     No\n",
       "4380  2520-SGTTA  Female              0  ...          20.00          NaN     No\n",
       "5218  2923-ARZLG    Male              0  ...          19.70          NaN     No\n",
       "6670  4075-WKNIU  Female              0  ...          73.35          NaN     No\n",
       "6754  2775-SEFEE    Male              0  ...          61.90          NaN     No\n",
       "\n",
       "[11 rows x 21 columns]"
      ]
     },
     "execution_count": 16,
     "metadata": {
      "tags": []
     },
     "output_type": "execute_result"
    }
   ],
   "source": [
    "nan_rows"
   ]
  },
  {
   "cell_type": "markdown",
   "metadata": {
    "colab_type": "text",
    "id": "n0quTn2DYjKU"
   },
   "source": [
    "<font color=\"Grey\">Vemos que todos los nulos corresponden con clientes nuevos, es decir, es imposible que hayan podido realizar algún pago. Vamos a comprobar si existe algún valor de \"tenure\" igual a 0 que no contenga valor nulo en \"TotalChargers\". Si no existe ningún valor más, damos por hecho que es debido exclusivamente a que se les ha facturado 0, por lo que cambiaremos los nulos por 0."
   ]
  },
  {
   "cell_type": "code",
   "execution_count": 17,
   "metadata": {
    "colab": {
     "base_uri": "https://localhost:8080/",
     "height": 391
    },
    "colab_type": "code",
    "executionInfo": {
     "elapsed": 108358,
     "status": "ok",
     "timestamp": 1587390581196,
     "user": {
      "displayName": "Luis Blanco",
      "photoUrl": "https://lh3.googleusercontent.com/a-/AOh14Gg1BCQJfHT2P42mM1KkjEShxXP7ik2JKApJloXCcg=s64",
      "userId": "08327929932520946832"
     },
     "user_tz": -120
    },
    "id": "5ypYLwWMYSkT",
    "outputId": "1c4a84b7-cc99-4998-d0ec-f0c2f84bd1d0"
   },
   "outputs": [
    {
     "data": {
      "text/plain": [
       "customerID          11\n",
       "gender              11\n",
       "SeniorCitizen       11\n",
       "Partner             11\n",
       "Dependents          11\n",
       "tenure              11\n",
       "PhoneService        11\n",
       "MultipleLines       11\n",
       "InternetService     11\n",
       "OnlineSecurity      11\n",
       "OnlineBackup        11\n",
       "DeviceProtection    11\n",
       "TechSupport         11\n",
       "StreamingTV         11\n",
       "StreamingMovies     11\n",
       "Contract            11\n",
       "PaperlessBilling    11\n",
       "PaymentMethod       11\n",
       "MonthlyCharges      11\n",
       "TotalCharges         0\n",
       "Churn               11\n",
       "dtype: int64"
      ]
     },
     "execution_count": 17,
     "metadata": {
      "tags": []
     },
     "output_type": "execute_result"
    }
   ],
   "source": [
    "df_pandas[df_pandas[\"tenure\"]==0].count()"
   ]
  },
  {
   "cell_type": "markdown",
   "metadata": {
    "colab_type": "text",
    "id": "DS6u2dc-fUAQ"
   },
   "source": [
    "<font color=\"Grey\">Vemos que todos los valores de \"tenure\"==0, son los nulos en TotalCharges, por lo que vamos a eliminarlos."
   ]
  },
  {
   "cell_type": "code",
   "execution_count": 0,
   "metadata": {
    "colab": {},
    "colab_type": "code",
    "id": "4QiDkDuMZMWT"
   },
   "outputs": [],
   "source": [
    "df_pandas[\"TotalCharges\"].fillna(0,inplace=True)"
   ]
  },
  {
   "cell_type": "code",
   "execution_count": 19,
   "metadata": {
    "colab": {
     "base_uri": "https://localhost:8080/",
     "height": 69
    },
    "colab_type": "code",
    "executionInfo": {
     "elapsed": 108313,
     "status": "ok",
     "timestamp": 1587390581197,
     "user": {
      "displayName": "Luis Blanco",
      "photoUrl": "https://lh3.googleusercontent.com/a-/AOh14Gg1BCQJfHT2P42mM1KkjEShxXP7ik2JKApJloXCcg=s64",
      "userId": "08327929932520946832"
     },
     "user_tz": -120
    },
    "id": "_vZXpmX0Z0s-",
    "outputId": "d12fffbf-92a4-4762-f553-78eca87ff997"
   },
   "outputs": [
    {
     "data": {
      "text/html": [
       "<div>\n",
       "<style scoped>\n",
       "    .dataframe tbody tr th:only-of-type {\n",
       "        vertical-align: middle;\n",
       "    }\n",
       "\n",
       "    .dataframe tbody tr th {\n",
       "        vertical-align: top;\n",
       "    }\n",
       "\n",
       "    .dataframe thead th {\n",
       "        text-align: right;\n",
       "    }\n",
       "</style>\n",
       "<table border=\"1\" class=\"dataframe\">\n",
       "  <thead>\n",
       "    <tr style=\"text-align: right;\">\n",
       "      <th></th>\n",
       "      <th>customerID</th>\n",
       "      <th>gender</th>\n",
       "      <th>SeniorCitizen</th>\n",
       "      <th>Partner</th>\n",
       "      <th>Dependents</th>\n",
       "      <th>tenure</th>\n",
       "      <th>PhoneService</th>\n",
       "      <th>MultipleLines</th>\n",
       "      <th>InternetService</th>\n",
       "      <th>OnlineSecurity</th>\n",
       "      <th>OnlineBackup</th>\n",
       "      <th>DeviceProtection</th>\n",
       "      <th>TechSupport</th>\n",
       "      <th>StreamingTV</th>\n",
       "      <th>StreamingMovies</th>\n",
       "      <th>Contract</th>\n",
       "      <th>PaperlessBilling</th>\n",
       "      <th>PaymentMethod</th>\n",
       "      <th>MonthlyCharges</th>\n",
       "      <th>TotalCharges</th>\n",
       "      <th>Churn</th>\n",
       "    </tr>\n",
       "  </thead>\n",
       "  <tbody>\n",
       "  </tbody>\n",
       "</table>\n",
       "</div>"
      ],
      "text/plain": [
       "Empty DataFrame\n",
       "Columns: [customerID, gender, SeniorCitizen, Partner, Dependents, tenure, PhoneService, MultipleLines, InternetService, OnlineSecurity, OnlineBackup, DeviceProtection, TechSupport, StreamingTV, StreamingMovies, Contract, PaperlessBilling, PaymentMethod, MonthlyCharges, TotalCharges, Churn]\n",
       "Index: []"
      ]
     },
     "execution_count": 19,
     "metadata": {
      "tags": []
     },
     "output_type": "execute_result"
    }
   ],
   "source": [
    "df_pandas[df_pandas.isnull().any(1)]"
   ]
  },
  {
   "cell_type": "code",
   "execution_count": 20,
   "metadata": {
    "colab": {
     "base_uri": "https://localhost:8080/",
     "height": 391
    },
    "colab_type": "code",
    "executionInfo": {
     "elapsed": 108282,
     "status": "ok",
     "timestamp": 1587390581198,
     "user": {
      "displayName": "Luis Blanco",
      "photoUrl": "https://lh3.googleusercontent.com/a-/AOh14Gg1BCQJfHT2P42mM1KkjEShxXP7ik2JKApJloXCcg=s64",
      "userId": "08327929932520946832"
     },
     "user_tz": -120
    },
    "id": "0T8kUrkkgF11",
    "outputId": "6362b3ba-18cf-4787-8bdc-616dfd680d69"
   },
   "outputs": [
    {
     "data": {
      "text/plain": [
       "customerID          11\n",
       "gender              11\n",
       "SeniorCitizen       11\n",
       "Partner             11\n",
       "Dependents          11\n",
       "tenure              11\n",
       "PhoneService        11\n",
       "MultipleLines       11\n",
       "InternetService     11\n",
       "OnlineSecurity      11\n",
       "OnlineBackup        11\n",
       "DeviceProtection    11\n",
       "TechSupport         11\n",
       "StreamingTV         11\n",
       "StreamingMovies     11\n",
       "Contract            11\n",
       "PaperlessBilling    11\n",
       "PaymentMethod       11\n",
       "MonthlyCharges      11\n",
       "TotalCharges        11\n",
       "Churn               11\n",
       "dtype: int64"
      ]
     },
     "execution_count": 20,
     "metadata": {
      "tags": []
     },
     "output_type": "execute_result"
    }
   ],
   "source": [
    "df_pandas[df_pandas[\"tenure\"]==0].count()"
   ]
  },
  {
   "cell_type": "code",
   "execution_count": 0,
   "metadata": {
    "colab": {},
    "colab_type": "code",
    "id": "If8c7tP8Z1YE"
   },
   "outputs": [],
   "source": [
    "df_clean=spark.createDataFrame(df_pandas).cache()"
   ]
  },
  {
   "cell_type": "code",
   "execution_count": 22,
   "metadata": {
    "colab": {
     "base_uri": "https://localhost:8080/",
     "height": 479
    },
    "colab_type": "code",
    "executionInfo": {
     "elapsed": 111148,
     "status": "ok",
     "timestamp": 1587390584106,
     "user": {
      "displayName": "Luis Blanco",
      "photoUrl": "https://lh3.googleusercontent.com/a-/AOh14Gg1BCQJfHT2P42mM1KkjEShxXP7ik2JKApJloXCcg=s64",
      "userId": "08327929932520946832"
     },
     "user_tz": -120
    },
    "id": "Ik5LKgvvcr6I",
    "outputId": "6f211aa0-7b2c-47d3-e34f-d96851a5d0ac"
   },
   "outputs": [
    {
     "name": "stdout",
     "output_type": "stream",
     "text": [
      "+----------+------+-------------+-------+----------+------+------------+----------------+---------------+-------------------+-------------------+-------------------+-------------------+-------------------+-------------------+--------------+----------------+--------------------+--------------+------------+-----+\n",
      "|customerID|gender|SeniorCitizen|Partner|Dependents|tenure|PhoneService|   MultipleLines|InternetService|     OnlineSecurity|       OnlineBackup|   DeviceProtection|        TechSupport|        StreamingTV|    StreamingMovies|      Contract|PaperlessBilling|       PaymentMethod|MonthlyCharges|TotalCharges|Churn|\n",
      "+----------+------+-------------+-------+----------+------+------------+----------------+---------------+-------------------+-------------------+-------------------+-------------------+-------------------+-------------------+--------------+----------------+--------------------+--------------+------------+-----+\n",
      "|7590-VHVEG|Female|            0|    Yes|        No|     1|          No|No phone service|            DSL|                 No|                Yes|                 No|                 No|                 No|                 No|Month-to-month|             Yes|    Electronic check|         29.85|       29.85|   No|\n",
      "|5575-GNVDE|  Male|            0|     No|        No|    34|         Yes|              No|            DSL|                Yes|                 No|                Yes|                 No|                 No|                 No|      One year|              No|        Mailed check|         56.95|      1889.5|   No|\n",
      "|3668-QPYBK|  Male|            0|     No|        No|     2|         Yes|              No|            DSL|                Yes|                Yes|                 No|                 No|                 No|                 No|Month-to-month|             Yes|        Mailed check|         53.85|      108.15|  Yes|\n",
      "|7795-CFOCW|  Male|            0|     No|        No|    45|          No|No phone service|            DSL|                Yes|                 No|                Yes|                Yes|                 No|                 No|      One year|              No|Bank transfer (au...|          42.3|     1840.75|   No|\n",
      "|9237-HQITU|Female|            0|     No|        No|     2|         Yes|              No|    Fiber optic|                 No|                 No|                 No|                 No|                 No|                 No|Month-to-month|             Yes|    Electronic check|          70.7|      151.65|  Yes|\n",
      "|9305-CDSKC|Female|            0|     No|        No|     8|         Yes|             Yes|    Fiber optic|                 No|                 No|                Yes|                 No|                Yes|                Yes|Month-to-month|             Yes|    Electronic check|         99.65|       820.5|  Yes|\n",
      "|1452-KIOVK|  Male|            0|     No|       Yes|    22|         Yes|             Yes|    Fiber optic|                 No|                Yes|                 No|                 No|                Yes|                 No|Month-to-month|             Yes|Credit card (auto...|          89.1|      1949.4|   No|\n",
      "|6713-OKOMC|Female|            0|     No|        No|    10|          No|No phone service|            DSL|                Yes|                 No|                 No|                 No|                 No|                 No|Month-to-month|              No|        Mailed check|         29.75|       301.9|   No|\n",
      "|7892-POOKP|Female|            0|    Yes|        No|    28|         Yes|             Yes|    Fiber optic|                 No|                 No|                Yes|                Yes|                Yes|                Yes|Month-to-month|             Yes|    Electronic check|         104.8|     3046.05|  Yes|\n",
      "|6388-TABGU|  Male|            0|     No|       Yes|    62|         Yes|              No|            DSL|                Yes|                Yes|                 No|                 No|                 No|                 No|      One year|              No|Bank transfer (au...|         56.15|     3487.95|   No|\n",
      "|9763-GRSKD|  Male|            0|    Yes|       Yes|    13|         Yes|              No|            DSL|                Yes|                 No|                 No|                 No|                 No|                 No|Month-to-month|             Yes|        Mailed check|         49.95|      587.45|   No|\n",
      "|7469-LKBCI|  Male|            0|     No|        No|    16|         Yes|              No|             No|No internet service|No internet service|No internet service|No internet service|No internet service|No internet service|      Two year|              No|Credit card (auto...|         18.95|       326.8|   No|\n",
      "|8091-TTVAX|  Male|            0|    Yes|        No|    58|         Yes|             Yes|    Fiber optic|                 No|                 No|                Yes|                 No|                Yes|                Yes|      One year|              No|Credit card (auto...|        100.35|      5681.1|   No|\n",
      "|0280-XJGEX|  Male|            0|     No|        No|    49|         Yes|             Yes|    Fiber optic|                 No|                Yes|                Yes|                 No|                Yes|                Yes|Month-to-month|             Yes|Bank transfer (au...|         103.7|      5036.3|  Yes|\n",
      "|5129-JLPIS|  Male|            0|     No|        No|    25|         Yes|              No|    Fiber optic|                Yes|                 No|                Yes|                Yes|                Yes|                Yes|Month-to-month|             Yes|    Electronic check|         105.5|     2686.05|   No|\n",
      "|3655-SNQYZ|Female|            0|    Yes|       Yes|    69|         Yes|             Yes|    Fiber optic|                Yes|                Yes|                Yes|                Yes|                Yes|                Yes|      Two year|              No|Credit card (auto...|        113.25|     7895.15|   No|\n",
      "|8191-XWSZG|Female|            0|     No|        No|    52|         Yes|              No|             No|No internet service|No internet service|No internet service|No internet service|No internet service|No internet service|      One year|              No|        Mailed check|         20.65|     1022.95|   No|\n",
      "|9959-WOFKT|  Male|            0|     No|       Yes|    71|         Yes|             Yes|    Fiber optic|                Yes|                 No|                Yes|                 No|                Yes|                Yes|      Two year|              No|Bank transfer (au...|         106.7|     7382.25|   No|\n",
      "|4190-MFLUW|Female|            0|    Yes|       Yes|    10|         Yes|              No|            DSL|                 No|                 No|                Yes|                Yes|                 No|                 No|Month-to-month|              No|Credit card (auto...|          55.2|      528.35|  Yes|\n",
      "|4183-MYFRB|Female|            0|     No|        No|    21|         Yes|              No|    Fiber optic|                 No|                Yes|                Yes|                 No|                 No|                Yes|Month-to-month|             Yes|    Electronic check|         90.05|      1862.9|   No|\n",
      "+----------+------+-------------+-------+----------+------+------------+----------------+---------------+-------------------+-------------------+-------------------+-------------------+-------------------+-------------------+--------------+----------------+--------------------+--------------+------------+-----+\n",
      "only showing top 20 rows\n",
      "\n"
     ]
    }
   ],
   "source": [
    "df_clean.show()"
   ]
  },
  {
   "cell_type": "markdown",
   "metadata": {
    "colab_type": "text",
    "id": "1zPBMxZ5fAeO"
   },
   "source": [
    "<font color=\"Grey\">Ya tenemos nuestro dataframe sin nulos y lo hemos incluido en cache.  \n",
    "Vamos a analizar los datos, para ello, debemos transformar nuestros registros categóricos en numéricos. Aunque no sería necesario en todos los modelos (lo modelos de árboles permiten usar registros categóricos), como vamos a probar varios de ellos, pasaremos todo a numérico.  \n",
    "Para ello, vamos a generar un pipeline con los procesos de transformación, que serán:  \n",
    "<font color=\"Grey\">- Indexar las features categóricas.  \n",
    "<font color=\"Grey\">- Codificar con One Hot Encoder.  \n",
    "<font color=\"Grey\">- Generar el vector feature y label."
   ]
  },
  {
   "cell_type": "code",
   "execution_count": 23,
   "metadata": {
    "colab": {
     "base_uri": "https://localhost:8080/",
     "height": 374
    },
    "colab_type": "code",
    "executionInfo": {
     "elapsed": 111113,
     "status": "ok",
     "timestamp": 1587390584107,
     "user": {
      "displayName": "Luis Blanco",
      "photoUrl": "https://lh3.googleusercontent.com/a-/AOh14Gg1BCQJfHT2P42mM1KkjEShxXP7ik2JKApJloXCcg=s64",
      "userId": "08327929932520946832"
     },
     "user_tz": -120
    },
    "id": "hY4RreE9gD-d",
    "outputId": "172662a0-8592-4ab0-b28c-ea92e0e77960"
   },
   "outputs": [
    {
     "data": {
      "text/plain": [
       "[('customerID', 'string'),\n",
       " ('gender', 'string'),\n",
       " ('SeniorCitizen', 'bigint'),\n",
       " ('Partner', 'string'),\n",
       " ('Dependents', 'string'),\n",
       " ('tenure', 'bigint'),\n",
       " ('PhoneService', 'string'),\n",
       " ('MultipleLines', 'string'),\n",
       " ('InternetService', 'string'),\n",
       " ('OnlineSecurity', 'string'),\n",
       " ('OnlineBackup', 'string'),\n",
       " ('DeviceProtection', 'string'),\n",
       " ('TechSupport', 'string'),\n",
       " ('StreamingTV', 'string'),\n",
       " ('StreamingMovies', 'string'),\n",
       " ('Contract', 'string'),\n",
       " ('PaperlessBilling', 'string'),\n",
       " ('PaymentMethod', 'string'),\n",
       " ('MonthlyCharges', 'double'),\n",
       " ('TotalCharges', 'double'),\n",
       " ('Churn', 'string')]"
      ]
     },
     "execution_count": 23,
     "metadata": {
      "tags": []
     },
     "output_type": "execute_result"
    }
   ],
   "source": [
    "df_clean.dtypes"
   ]
  },
  {
   "cell_type": "markdown",
   "metadata": {
    "colab_type": "text",
    "id": "fm0TjHFiNdqc"
   },
   "source": [
    "<font color=\"Grey\">Nuestras features categóricas son todas, excepto 'customerID', 'SeniorCitizen', 'tenure', 'MonthlyCharges' y 'TotalCharges'. 'Churn' es nuestra label, que trataremos a parte."
   ]
  },
  {
   "cell_type": "code",
   "execution_count": 0,
   "metadata": {
    "colab": {},
    "colab_type": "code",
    "id": "hkkYzU-ePYVN"
   },
   "outputs": [],
   "source": [
    "columnas=df_clean.columns"
   ]
  },
  {
   "cell_type": "code",
   "execution_count": 25,
   "metadata": {
    "colab": {
     "base_uri": "https://localhost:8080/",
     "height": 374
    },
    "colab_type": "code",
    "executionInfo": {
     "elapsed": 111067,
     "status": "ok",
     "timestamp": 1587390584110,
     "user": {
      "displayName": "Luis Blanco",
      "photoUrl": "https://lh3.googleusercontent.com/a-/AOh14Gg1BCQJfHT2P42mM1KkjEShxXP7ik2JKApJloXCcg=s64",
      "userId": "08327929932520946832"
     },
     "user_tz": -120
    },
    "id": "im4Hk2J4d0DJ",
    "outputId": "55a6732d-9cf8-43e0-a2d4-1fddfd76d4f5"
   },
   "outputs": [
    {
     "data": {
      "text/plain": [
       "['customerID',\n",
       " 'gender',\n",
       " 'SeniorCitizen',\n",
       " 'Partner',\n",
       " 'Dependents',\n",
       " 'tenure',\n",
       " 'PhoneService',\n",
       " 'MultipleLines',\n",
       " 'InternetService',\n",
       " 'OnlineSecurity',\n",
       " 'OnlineBackup',\n",
       " 'DeviceProtection',\n",
       " 'TechSupport',\n",
       " 'StreamingTV',\n",
       " 'StreamingMovies',\n",
       " 'Contract',\n",
       " 'PaperlessBilling',\n",
       " 'PaymentMethod',\n",
       " 'MonthlyCharges',\n",
       " 'TotalCharges',\n",
       " 'Churn']"
      ]
     },
     "execution_count": 25,
     "metadata": {
      "tags": []
     },
     "output_type": "execute_result"
    }
   ],
   "source": [
    "columnas"
   ]
  },
  {
   "cell_type": "code",
   "execution_count": 0,
   "metadata": {
    "colab": {},
    "colab_type": "code",
    "id": "Gjk01PYUQHxl"
   },
   "outputs": [],
   "source": [
    "categoricas=df_clean.columns\n",
    "categoricas.remove(\"customerID\") #Es el Id del cliente.\n",
    "categoricas.remove(\"SeniorCitizen\") #Ya está categorizada.\n",
    "categoricas.remove(\"tenure\") #Es numérica.\n",
    "categoricas.remove(\"MonthlyCharges\") #Es numérica.\n",
    "categoricas.remove(\"TotalCharges\") #Es numérica.\n",
    "categoricas.remove(\"Churn\") #Es nuestra label, la trataremos a parte."
   ]
  },
  {
   "cell_type": "code",
   "execution_count": 27,
   "metadata": {
    "colab": {
     "base_uri": "https://localhost:8080/",
     "height": 272
    },
    "colab_type": "code",
    "executionInfo": {
     "elapsed": 111023,
     "status": "ok",
     "timestamp": 1587390584111,
     "user": {
      "displayName": "Luis Blanco",
      "photoUrl": "https://lh3.googleusercontent.com/a-/AOh14Gg1BCQJfHT2P42mM1KkjEShxXP7ik2JKApJloXCcg=s64",
      "userId": "08327929932520946832"
     },
     "user_tz": -120
    },
    "id": "7GLuCEc4-moP",
    "outputId": "2c5b41e4-963e-44f6-bbbe-1928443f7c75"
   },
   "outputs": [
    {
     "data": {
      "text/plain": [
       "['gender',\n",
       " 'Partner',\n",
       " 'Dependents',\n",
       " 'PhoneService',\n",
       " 'MultipleLines',\n",
       " 'InternetService',\n",
       " 'OnlineSecurity',\n",
       " 'OnlineBackup',\n",
       " 'DeviceProtection',\n",
       " 'TechSupport',\n",
       " 'StreamingTV',\n",
       " 'StreamingMovies',\n",
       " 'Contract',\n",
       " 'PaperlessBilling',\n",
       " 'PaymentMethod']"
      ]
     },
     "execution_count": 27,
     "metadata": {
      "tags": []
     },
     "output_type": "execute_result"
    }
   ],
   "source": [
    "categoricas"
   ]
  },
  {
   "cell_type": "markdown",
   "metadata": {
    "colab_type": "text",
    "id": "I5j-8uRiR7Pz"
   },
   "source": [
    "<font color=\"Grey\">Vamos a crear una lista con las etapas de transformación de nuestros datos, que será lo que incluyamos en nuestro pipeline.  \n",
    "En primer lugar realizaremos la indexación con String Indexer y luego el codificado con One Hot Encoder."
   ]
  },
  {
   "cell_type": "code",
   "execution_count": 0,
   "metadata": {
    "colab": {},
    "colab_type": "code",
    "id": "2mjnYtTZ-mko"
   },
   "outputs": [],
   "source": [
    "stages=[]\n",
    "for i in categoricas:\n",
    "    categorical_stringIndexer = StringIndexer(inputCol = i, outputCol = i + \"Index\")\n",
    "    encoder = OneHotEncoderEstimator(inputCols=[categorical_stringIndexer.getOutputCol()], outputCols=[i + \"vector_class\"])\n",
    "    stages += [categorical_stringIndexer, encoder]"
   ]
  },
  {
   "cell_type": "code",
   "execution_count": 29,
   "metadata": {
    "colab": {
     "base_uri": "https://localhost:8080/",
     "height": 544
    },
    "colab_type": "code",
    "executionInfo": {
     "elapsed": 111208,
     "status": "ok",
     "timestamp": 1587390584342,
     "user": {
      "displayName": "Luis Blanco",
      "photoUrl": "https://lh3.googleusercontent.com/a-/AOh14Gg1BCQJfHT2P42mM1KkjEShxXP7ik2JKApJloXCcg=s64",
      "userId": "08327929932520946832"
     },
     "user_tz": -120
    },
    "id": "DPTAH4c7-miq",
    "outputId": "57938ef3-3c5d-4e16-9631-16e9e0313977"
   },
   "outputs": [
    {
     "name": "stdout",
     "output_type": "stream",
     "text": [
      "30\n"
     ]
    },
    {
     "data": {
      "text/plain": [
       "[StringIndexer_d45ece611f35,\n",
       " OneHotEncoderEstimator_5f87385bb9d8,\n",
       " StringIndexer_ef4d90a82e91,\n",
       " OneHotEncoderEstimator_c038d1e70a46,\n",
       " StringIndexer_119a4ea1f5c3,\n",
       " OneHotEncoderEstimator_293bcbb3c800,\n",
       " StringIndexer_c3c09565fb0d,\n",
       " OneHotEncoderEstimator_f270f4499b90,\n",
       " StringIndexer_823f35350adc,\n",
       " OneHotEncoderEstimator_cc64b92e52a2,\n",
       " StringIndexer_c2875884b685,\n",
       " OneHotEncoderEstimator_30b0f29c5bd2,\n",
       " StringIndexer_178d7200198c,\n",
       " OneHotEncoderEstimator_ee73bf0d7777,\n",
       " StringIndexer_4ea072773a89,\n",
       " OneHotEncoderEstimator_75261b14bc92,\n",
       " StringIndexer_ffbb220f6fe6,\n",
       " OneHotEncoderEstimator_7c8e9e13fb36,\n",
       " StringIndexer_6c3064e578b3,\n",
       " OneHotEncoderEstimator_acac6491dfed,\n",
       " StringIndexer_f316373259eb,\n",
       " OneHotEncoderEstimator_ce6b2636e0a0,\n",
       " StringIndexer_9b8325dc8a04,\n",
       " OneHotEncoderEstimator_a1d19e77aea1,\n",
       " StringIndexer_605a14f27fb4,\n",
       " OneHotEncoderEstimator_4de258a43547,\n",
       " StringIndexer_e774de868d2a,\n",
       " OneHotEncoderEstimator_55da2a136882,\n",
       " StringIndexer_698cbe7c68d3,\n",
       " OneHotEncoderEstimator_73d3b28fd892]"
      ]
     },
     "execution_count": 29,
     "metadata": {
      "tags": []
     },
     "output_type": "execute_result"
    }
   ],
   "source": [
    "print(len(stages))\n",
    "stages"
   ]
  },
  {
   "cell_type": "markdown",
   "metadata": {
    "colab_type": "text",
    "id": "8xwQp2l2VFV9"
   },
   "source": [
    "<font color=\"Grey\">Ahora vamos a juntar nuestras variables categóricas ya codificadas con las numéricas. Pero, primero vamos a definir las variables numéricas y comprobaremos su correlación por si podemos eliminar alguna de ellas:"
   ]
  },
  {
   "cell_type": "code",
   "execution_count": 0,
   "metadata": {
    "colab": {},
    "colab_type": "code",
    "id": "mKX99VQbPXlY"
   },
   "outputs": [],
   "source": [
    "valores_numericos= [i[0] for i in df_clean.dtypes if i[1] ==\"bigint\" or i[1] ==\"double\"]"
   ]
  },
  {
   "cell_type": "code",
   "execution_count": 31,
   "metadata": {
    "colab": {
     "base_uri": "https://localhost:8080/",
     "height": 34
    },
    "colab_type": "code",
    "executionInfo": {
     "elapsed": 111162,
     "status": "ok",
     "timestamp": 1587390584344,
     "user": {
      "displayName": "Luis Blanco",
      "photoUrl": "https://lh3.googleusercontent.com/a-/AOh14Gg1BCQJfHT2P42mM1KkjEShxXP7ik2JKApJloXCcg=s64",
      "userId": "08327929932520946832"
     },
     "user_tz": -120
    },
    "id": "NCGkCjtH-mcl",
    "outputId": "2ebc112d-b084-4e67-81b3-269e4d24def9"
   },
   "outputs": [
    {
     "data": {
      "text/plain": [
       "['SeniorCitizen', 'tenure', 'MonthlyCharges', 'TotalCharges']"
      ]
     },
     "execution_count": 31,
     "metadata": {
      "tags": []
     },
     "output_type": "execute_result"
    }
   ],
   "source": [
    "valores_numericos"
   ]
  },
  {
   "cell_type": "markdown",
   "metadata": {
    "colab_type": "text",
    "id": "1NH-77gjZQ2P"
   },
   "source": [
    "<font color=\"Grey\">Vemos que aparece la feature \"SeniorCitizen\", aunque es catégorica, vamos a dejarla, sin tenerla en cuenta en este análisis, ya que luego usaremos la variable valores_numéricos en el ensamblaje junto con el reto de categóricas. Si fuese necesario eliminar alguna variable numérica por correlación alta, la eliminaríamos de esta lista."
   ]
  },
  {
   "cell_type": "code",
   "execution_count": 32,
   "metadata": {
    "colab": {
     "base_uri": "https://localhost:8080/",
     "height": 204
    },
    "colab_type": "code",
    "executionInfo": {
     "elapsed": 111916,
     "status": "ok",
     "timestamp": 1587390585124,
     "user": {
      "displayName": "Luis Blanco",
      "photoUrl": "https://lh3.googleusercontent.com/a-/AOh14Gg1BCQJfHT2P42mM1KkjEShxXP7ik2JKApJloXCcg=s64",
      "userId": "08327929932520946832"
     },
     "user_tz": -120
    },
    "id": "u2Jj95DJhVau",
    "outputId": "5ad9dd09-f353-4378-b004-8883a5d5806c"
   },
   "outputs": [
    {
     "data": {
      "text/html": [
       "<div>\n",
       "<style scoped>\n",
       "    .dataframe tbody tr th:only-of-type {\n",
       "        vertical-align: middle;\n",
       "    }\n",
       "\n",
       "    .dataframe tbody tr th {\n",
       "        vertical-align: top;\n",
       "    }\n",
       "\n",
       "    .dataframe thead th {\n",
       "        text-align: right;\n",
       "    }\n",
       "</style>\n",
       "<table border=\"1\" class=\"dataframe\">\n",
       "  <thead>\n",
       "    <tr style=\"text-align: right;\">\n",
       "      <th></th>\n",
       "      <th>0</th>\n",
       "      <th>1</th>\n",
       "      <th>2</th>\n",
       "      <th>3</th>\n",
       "      <th>4</th>\n",
       "    </tr>\n",
       "  </thead>\n",
       "  <tbody>\n",
       "    <tr>\n",
       "      <th>summary</th>\n",
       "      <td>count</td>\n",
       "      <td>mean</td>\n",
       "      <td>stddev</td>\n",
       "      <td>min</td>\n",
       "      <td>max</td>\n",
       "    </tr>\n",
       "    <tr>\n",
       "      <th>SeniorCitizen</th>\n",
       "      <td>7043</td>\n",
       "      <td>0.1621468124378816</td>\n",
       "      <td>0.368611605610013</td>\n",
       "      <td>0</td>\n",
       "      <td>1</td>\n",
       "    </tr>\n",
       "    <tr>\n",
       "      <th>tenure</th>\n",
       "      <td>7043</td>\n",
       "      <td>32.37114865824223</td>\n",
       "      <td>24.559481023094474</td>\n",
       "      <td>0</td>\n",
       "      <td>72</td>\n",
       "    </tr>\n",
       "    <tr>\n",
       "      <th>MonthlyCharges</th>\n",
       "      <td>7043</td>\n",
       "      <td>64.76169246059925</td>\n",
       "      <td>30.09004709767848</td>\n",
       "      <td>18.25</td>\n",
       "      <td>118.75</td>\n",
       "    </tr>\n",
       "    <tr>\n",
       "      <th>TotalCharges</th>\n",
       "      <td>7043</td>\n",
       "      <td>2279.7343035638205</td>\n",
       "      <td>2266.7944696890213</td>\n",
       "      <td>0.0</td>\n",
       "      <td>8684.8</td>\n",
       "    </tr>\n",
       "  </tbody>\n",
       "</table>\n",
       "</div>"
      ],
      "text/plain": [
       "                    0                   1                   2      3       4\n",
       "summary         count                mean              stddev    min     max\n",
       "SeniorCitizen    7043  0.1621468124378816   0.368611605610013      0       1\n",
       "tenure           7043   32.37114865824223  24.559481023094474      0      72\n",
       "MonthlyCharges   7043   64.76169246059925   30.09004709767848  18.25  118.75\n",
       "TotalCharges     7043  2279.7343035638205  2266.7944696890213    0.0  8684.8"
      ]
     },
     "execution_count": 32,
     "metadata": {
      "tags": []
     },
     "output_type": "execute_result"
    }
   ],
   "source": [
    "df_clean.select(valores_numericos).describe().toPandas().transpose()"
   ]
  },
  {
   "cell_type": "code",
   "execution_count": 0,
   "metadata": {
    "colab": {},
    "colab_type": "code",
    "id": "wuAniIWkhfdN"
   },
   "outputs": [],
   "source": [
    "datos_numericos= df_clean.select(valores_numericos).toPandas()"
   ]
  },
  {
   "cell_type": "code",
   "execution_count": 34,
   "metadata": {
    "colab": {
     "base_uri": "https://localhost:8080/",
     "height": 747
    },
    "colab_type": "code",
    "executionInfo": {
     "elapsed": 119664,
     "status": "ok",
     "timestamp": 1587390592905,
     "user": {
      "displayName": "Luis Blanco",
      "photoUrl": "https://lh3.googleusercontent.com/a-/AOh14Gg1BCQJfHT2P42mM1KkjEShxXP7ik2JKApJloXCcg=s64",
      "userId": "08327929932520946832"
     },
     "user_tz": -120
    },
    "id": "wBiBosQ2j1C7",
    "outputId": "51353095-abbd-4d0c-f57b-f4f6d54be4dd"
   },
   "outputs": [
    {
     "data": {
      "image/png": "[encoded data removed]",
      "text/plain": [
       "<Figure size 720x720 with 20 Axes>"
      ]
     },
     "metadata": {
      "needs_background": "light",
      "tags": []
     },
     "output_type": "display_data"
    }
   ],
   "source": [
    "sns.pairplot(datos_numericos);"
   ]
  },
  {
   "cell_type": "code",
   "execution_count": 35,
   "metadata": {
    "colab": {
     "base_uri": "https://localhost:8080/",
     "height": 173
    },
    "colab_type": "code",
    "executionInfo": {
     "elapsed": 119632,
     "status": "ok",
     "timestamp": 1587390592907,
     "user": {
      "displayName": "Luis Blanco",
      "photoUrl": "https://lh3.googleusercontent.com/a-/AOh14Gg1BCQJfHT2P42mM1KkjEShxXP7ik2JKApJloXCcg=s64",
      "userId": "08327929932520946832"
     },
     "user_tz": -120
    },
    "id": "qYHrTk0vjqqs",
    "outputId": "7bd593d8-19a1-459b-bd5d-ed49ffb07833"
   },
   "outputs": [
    {
     "data": {
      "text/html": [
       "<div>\n",
       "<style scoped>\n",
       "    .dataframe tbody tr th:only-of-type {\n",
       "        vertical-align: middle;\n",
       "    }\n",
       "\n",
       "    .dataframe tbody tr th {\n",
       "        vertical-align: top;\n",
       "    }\n",
       "\n",
       "    .dataframe thead th {\n",
       "        text-align: right;\n",
       "    }\n",
       "</style>\n",
       "<table border=\"1\" class=\"dataframe\">\n",
       "  <thead>\n",
       "    <tr style=\"text-align: right;\">\n",
       "      <th></th>\n",
       "      <th>SeniorCitizen</th>\n",
       "      <th>tenure</th>\n",
       "      <th>MonthlyCharges</th>\n",
       "      <th>TotalCharges</th>\n",
       "    </tr>\n",
       "  </thead>\n",
       "  <tbody>\n",
       "    <tr>\n",
       "      <th>SeniorCitizen</th>\n",
       "      <td>1.000000</td>\n",
       "      <td>0.016567</td>\n",
       "      <td>0.220173</td>\n",
       "      <td>0.103006</td>\n",
       "    </tr>\n",
       "    <tr>\n",
       "      <th>tenure</th>\n",
       "      <td>0.016567</td>\n",
       "      <td>1.000000</td>\n",
       "      <td>0.247900</td>\n",
       "      <td>0.826178</td>\n",
       "    </tr>\n",
       "    <tr>\n",
       "      <th>MonthlyCharges</th>\n",
       "      <td>0.220173</td>\n",
       "      <td>0.247900</td>\n",
       "      <td>1.000000</td>\n",
       "      <td>0.651174</td>\n",
       "    </tr>\n",
       "    <tr>\n",
       "      <th>TotalCharges</th>\n",
       "      <td>0.103006</td>\n",
       "      <td>0.826178</td>\n",
       "      <td>0.651174</td>\n",
       "      <td>1.000000</td>\n",
       "    </tr>\n",
       "  </tbody>\n",
       "</table>\n",
       "</div>"
      ],
      "text/plain": [
       "                SeniorCitizen    tenure  MonthlyCharges  TotalCharges\n",
       "SeniorCitizen        1.000000  0.016567        0.220173      0.103006\n",
       "tenure               0.016567  1.000000        0.247900      0.826178\n",
       "MonthlyCharges       0.220173  0.247900        1.000000      0.651174\n",
       "TotalCharges         0.103006  0.826178        0.651174      1.000000"
      ]
     },
     "execution_count": 35,
     "metadata": {
      "tags": []
     },
     "output_type": "execute_result"
    }
   ],
   "source": [
    "matriz_corr= datos_numericos.corr()\n",
    "matriz_corr"
   ]
  },
  {
   "cell_type": "markdown",
   "metadata": {
    "colab_type": "text",
    "id": "HQ7HqKSdwyaz"
   },
   "source": [
    "<font color=\"Grey\">Vamos a crear un mapa de calor para verlo más claramente (realmente no sería necesario ya que tenemos pocas variables y se ve claro, pero queda muy bonito...)"
   ]
  },
  {
   "cell_type": "code",
   "execution_count": 36,
   "metadata": {
    "colab": {
     "base_uri": "https://localhost:8080/",
     "height": 596
    },
    "colab_type": "code",
    "executionInfo": {
     "elapsed": 119597,
     "status": "ok",
     "timestamp": 1587390592908,
     "user": {
      "displayName": "Luis Blanco",
      "photoUrl": "https://lh3.googleusercontent.com/a-/AOh14Gg1BCQJfHT2P42mM1KkjEShxXP7ik2JKApJloXCcg=s64",
      "userId": "08327929932520946832"
     },
     "user_tz": -120
    },
    "id": "T5EQvg31mNWi",
    "outputId": "fdb4155e-fb1a-4e6c-f4e0-88822b7eb132"
   },
   "outputs": [
    {
     "data": {
      "image/png": "[encoded data removed]",
      "text/plain": [
       "<Figure size 864x720 with 2 Axes>"
      ]
     },
     "metadata": {
      "needs_background": "light",
      "tags": []
     },
     "output_type": "display_data"
    }
   ],
   "source": [
    "plt.figure(figsize=(12,10))\n",
    "sns.heatmap(matriz_corr,\n",
    "            vmin=-1.0,\n",
    "            vmax=1.0,\n",
    "            annot=True,\n",
    "            cmap=\"RdBu_r\");"
   ]
  },
  {
   "cell_type": "markdown",
   "metadata": {
    "colab_type": "text",
    "id": "Nn3Br8eFowIo"
   },
   "source": [
    "<font color=\"Grey\">Vemos una alta correlación entre \"ternure\" y \"TotalCharges\", es normal, ya que cuanto más meses lleve el cliente, mayor será lo que se le ha facturado.  \n",
    "Por otro lado, tampoco es excesivamente alta, por lo que mantendremos todas nuestras columnas numéricas.  \n",
    "Vamos a realizar el ensamble de las features numéricas y \"SeniorCitizen\" con nuestras variables categóricas."
   ]
  },
  {
   "cell_type": "code",
   "execution_count": 0,
   "metadata": {
    "colab": {},
    "colab_type": "code",
    "id": "tG8Z6T7sY1Ji"
   },
   "outputs": [],
   "source": [
    "assemblerInputs= [i+\"vector_class\" for i in categoricas]+valores_numericos"
   ]
  },
  {
   "cell_type": "markdown",
   "metadata": {
    "colab_type": "text",
    "id": "qdSXb4_naRbE"
   },
   "source": [
    "<font color=\"Grey\">Ahora vamos a juntar todas las features en un único vector que llamaremos \"features\" y lo incluiremos como una etapa más que agregar a nuestro pipeline."
   ]
  },
  {
   "cell_type": "code",
   "execution_count": 0,
   "metadata": {
    "colab": {},
    "colab_type": "code",
    "id": "jDq6_P4WY1DY"
   },
   "outputs": [],
   "source": [
    "assembler= VectorAssembler(inputCols=assemblerInputs, outputCol=\"features\")\n",
    "stages += [assembler]"
   ]
  },
  {
   "cell_type": "markdown",
   "metadata": {
    "colab_type": "text",
    "id": "IfWTnRE3asdC"
   },
   "source": [
    "<font color=\"Grey\">Vamos a pasar un String Indexer por nuestra label, para convertirla en numérica y al igual que antes, lo incluimos como otra etapa de nuestro pipeline."
   ]
  },
  {
   "cell_type": "code",
   "execution_count": 0,
   "metadata": {
    "colab": {},
    "colab_type": "code",
    "id": "FoFYUY1AY1BV"
   },
   "outputs": [],
   "source": [
    "label_stringIdx= StringIndexer(inputCol=\"Churn\", outputCol=\"label\")\n",
    "stages += [label_stringIdx]"
   ]
  },
  {
   "cell_type": "code",
   "execution_count": 40,
   "metadata": {
    "colab": {
     "base_uri": "https://localhost:8080/",
     "height": 578
    },
    "colab_type": "code",
    "executionInfo": {
     "elapsed": 119546,
     "status": "ok",
     "timestamp": 1587390592912,
     "user": {
      "displayName": "Luis Blanco",
      "photoUrl": "https://lh3.googleusercontent.com/a-/AOh14Gg1BCQJfHT2P42mM1KkjEShxXP7ik2JKApJloXCcg=s64",
      "userId": "08327929932520946832"
     },
     "user_tz": -120
    },
    "id": "pXGI74HCY0-G",
    "outputId": "58009bdf-ad97-4c88-b647-826f4b1f7e00"
   },
   "outputs": [
    {
     "name": "stdout",
     "output_type": "stream",
     "text": [
      "32\n"
     ]
    },
    {
     "data": {
      "text/plain": [
       "[StringIndexer_d45ece611f35,\n",
       " OneHotEncoderEstimator_5f87385bb9d8,\n",
       " StringIndexer_ef4d90a82e91,\n",
       " OneHotEncoderEstimator_c038d1e70a46,\n",
       " StringIndexer_119a4ea1f5c3,\n",
       " OneHotEncoderEstimator_293bcbb3c800,\n",
       " StringIndexer_c3c09565fb0d,\n",
       " OneHotEncoderEstimator_f270f4499b90,\n",
       " StringIndexer_823f35350adc,\n",
       " OneHotEncoderEstimator_cc64b92e52a2,\n",
       " StringIndexer_c2875884b685,\n",
       " OneHotEncoderEstimator_30b0f29c5bd2,\n",
       " StringIndexer_178d7200198c,\n",
       " OneHotEncoderEstimator_ee73bf0d7777,\n",
       " StringIndexer_4ea072773a89,\n",
       " OneHotEncoderEstimator_75261b14bc92,\n",
       " StringIndexer_ffbb220f6fe6,\n",
       " OneHotEncoderEstimator_7c8e9e13fb36,\n",
       " StringIndexer_6c3064e578b3,\n",
       " OneHotEncoderEstimator_acac6491dfed,\n",
       " StringIndexer_f316373259eb,\n",
       " OneHotEncoderEstimator_ce6b2636e0a0,\n",
       " StringIndexer_9b8325dc8a04,\n",
       " OneHotEncoderEstimator_a1d19e77aea1,\n",
       " StringIndexer_605a14f27fb4,\n",
       " OneHotEncoderEstimator_4de258a43547,\n",
       " StringIndexer_e774de868d2a,\n",
       " OneHotEncoderEstimator_55da2a136882,\n",
       " StringIndexer_698cbe7c68d3,\n",
       " OneHotEncoderEstimator_73d3b28fd892,\n",
       " VectorAssembler_7e771ceea648,\n",
       " StringIndexer_8f94f27ecabf]"
      ]
     },
     "execution_count": 40,
     "metadata": {
      "tags": []
     },
     "output_type": "execute_result"
    }
   ],
   "source": [
    "print(len(stages))\n",
    "stages"
   ]
  },
  {
   "cell_type": "markdown",
   "metadata": {
    "colab_type": "text",
    "id": "sff-KEQ8bu0X"
   },
   "source": [
    "<font color=\"Grey\">Creamos nuestro pipeline, lo entrenamos y lo transformamos en dataframe."
   ]
  },
  {
   "cell_type": "code",
   "execution_count": 0,
   "metadata": {
    "colab": {},
    "colab_type": "code",
    "id": "uH6DSESMY06k"
   },
   "outputs": [],
   "source": [
    "pipeline= Pipeline(stages=stages)\n",
    "pipelineModel= pipeline.fit(df_clean)\n",
    "df_clean= pipelineModel.transform(df_clean)"
   ]
  },
  {
   "cell_type": "code",
   "execution_count": 42,
   "metadata": {
    "colab": {
     "base_uri": "https://localhost:8080/",
     "height": 1000
    },
    "colab_type": "code",
    "executionInfo": {
     "elapsed": 134631,
     "status": "ok",
     "timestamp": 1587390608036,
     "user": {
      "displayName": "Luis Blanco",
      "photoUrl": "https://lh3.googleusercontent.com/a-/AOh14Gg1BCQJfHT2P42mM1KkjEShxXP7ik2JKApJloXCcg=s64",
      "userId": "08327929932520946832"
     },
     "user_tz": -120
    },
    "id": "ZSuZoJoJYfEm",
    "outputId": "9f5d37f1-c764-4656-a096-457f16fd2512"
   },
   "outputs": [
    {
     "data": {
      "text/html": [
       "<div>\n",
       "<style scoped>\n",
       "    .dataframe tbody tr th:only-of-type {\n",
       "        vertical-align: middle;\n",
       "    }\n",
       "\n",
       "    .dataframe tbody tr th {\n",
       "        vertical-align: top;\n",
       "    }\n",
       "\n",
       "    .dataframe thead th {\n",
       "        text-align: right;\n",
       "    }\n",
       "</style>\n",
       "<table border=\"1\" class=\"dataframe\">\n",
       "  <thead>\n",
       "    <tr style=\"text-align: right;\">\n",
       "      <th></th>\n",
       "      <th>customerID</th>\n",
       "      <th>gender</th>\n",
       "      <th>SeniorCitizen</th>\n",
       "      <th>Partner</th>\n",
       "      <th>Dependents</th>\n",
       "      <th>tenure</th>\n",
       "      <th>PhoneService</th>\n",
       "      <th>MultipleLines</th>\n",
       "      <th>InternetService</th>\n",
       "      <th>OnlineSecurity</th>\n",
       "      <th>OnlineBackup</th>\n",
       "      <th>DeviceProtection</th>\n",
       "      <th>TechSupport</th>\n",
       "      <th>StreamingTV</th>\n",
       "      <th>StreamingMovies</th>\n",
       "      <th>Contract</th>\n",
       "      <th>PaperlessBilling</th>\n",
       "      <th>PaymentMethod</th>\n",
       "      <th>MonthlyCharges</th>\n",
       "      <th>TotalCharges</th>\n",
       "      <th>Churn</th>\n",
       "      <th>genderIndex</th>\n",
       "      <th>gendervector_class</th>\n",
       "      <th>PartnerIndex</th>\n",
       "      <th>Partnervector_class</th>\n",
       "      <th>DependentsIndex</th>\n",
       "      <th>Dependentsvector_class</th>\n",
       "      <th>PhoneServiceIndex</th>\n",
       "      <th>PhoneServicevector_class</th>\n",
       "      <th>MultipleLinesIndex</th>\n",
       "      <th>MultipleLinesvector_class</th>\n",
       "      <th>InternetServiceIndex</th>\n",
       "      <th>InternetServicevector_class</th>\n",
       "      <th>OnlineSecurityIndex</th>\n",
       "      <th>OnlineSecurityvector_class</th>\n",
       "      <th>OnlineBackupIndex</th>\n",
       "      <th>OnlineBackupvector_class</th>\n",
       "      <th>DeviceProtectionIndex</th>\n",
       "      <th>DeviceProtectionvector_class</th>\n",
       "      <th>TechSupportIndex</th>\n",
       "      <th>TechSupportvector_class</th>\n",
       "      <th>StreamingTVIndex</th>\n",
       "      <th>StreamingTVvector_class</th>\n",
       "      <th>StreamingMoviesIndex</th>\n",
       "      <th>StreamingMoviesvector_class</th>\n",
       "      <th>ContractIndex</th>\n",
       "      <th>Contractvector_class</th>\n",
       "      <th>PaperlessBillingIndex</th>\n",
       "      <th>PaperlessBillingvector_class</th>\n",
       "      <th>PaymentMethodIndex</th>\n",
       "      <th>PaymentMethodvector_class</th>\n",
       "      <th>features</th>\n",
       "      <th>label</th>\n",
       "    </tr>\n",
       "  </thead>\n",
       "  <tbody>\n",
       "    <tr>\n",
       "      <th>0</th>\n",
       "      <td>7590-VHVEG</td>\n",
       "      <td>Female</td>\n",
       "      <td>0</td>\n",
       "      <td>Yes</td>\n",
       "      <td>No</td>\n",
       "      <td>1</td>\n",
       "      <td>No</td>\n",
       "      <td>No phone service</td>\n",
       "      <td>DSL</td>\n",
       "      <td>No</td>\n",
       "      <td>Yes</td>\n",
       "      <td>No</td>\n",
       "      <td>No</td>\n",
       "      <td>No</td>\n",
       "      <td>No</td>\n",
       "      <td>Month-to-month</td>\n",
       "      <td>Yes</td>\n",
       "      <td>Electronic check</td>\n",
       "      <td>29.85</td>\n",
       "      <td>29.85</td>\n",
       "      <td>No</td>\n",
       "      <td>1.0</td>\n",
       "      <td>(0.0)</td>\n",
       "      <td>1.0</td>\n",
       "      <td>(0.0)</td>\n",
       "      <td>0.0</td>\n",
       "      <td>(1.0)</td>\n",
       "      <td>1.0</td>\n",
       "      <td>(0.0)</td>\n",
       "      <td>2.0</td>\n",
       "      <td>(0.0, 0.0)</td>\n",
       "      <td>1.0</td>\n",
       "      <td>(0.0, 1.0)</td>\n",
       "      <td>0.0</td>\n",
       "      <td>(1.0, 0.0)</td>\n",
       "      <td>1.0</td>\n",
       "      <td>(0.0, 1.0)</td>\n",
       "      <td>0.0</td>\n",
       "      <td>(1.0, 0.0)</td>\n",
       "      <td>0.0</td>\n",
       "      <td>(1.0, 0.0)</td>\n",
       "      <td>0.0</td>\n",
       "      <td>(1.0, 0.0)</td>\n",
       "      <td>0.0</td>\n",
       "      <td>(1.0, 0.0)</td>\n",
       "      <td>0.0</td>\n",
       "      <td>(1.0, 0.0)</td>\n",
       "      <td>0.0</td>\n",
       "      <td>(1.0)</td>\n",
       "      <td>0.0</td>\n",
       "      <td>(1.0, 0.0, 0.0)</td>\n",
       "      <td>(0.0, 0.0, 1.0, 0.0, 0.0, 0.0, 0.0, 1.0, 1.0, ...</td>\n",
       "      <td>0.0</td>\n",
       "    </tr>\n",
       "    <tr>\n",
       "      <th>1</th>\n",
       "      <td>5575-GNVDE</td>\n",
       "      <td>Male</td>\n",
       "      <td>0</td>\n",
       "      <td>No</td>\n",
       "      <td>No</td>\n",
       "      <td>34</td>\n",
       "      <td>Yes</td>\n",
       "      <td>No</td>\n",
       "      <td>DSL</td>\n",
       "      <td>Yes</td>\n",
       "      <td>No</td>\n",
       "      <td>Yes</td>\n",
       "      <td>No</td>\n",
       "      <td>No</td>\n",
       "      <td>No</td>\n",
       "      <td>One year</td>\n",
       "      <td>No</td>\n",
       "      <td>Mailed check</td>\n",
       "      <td>56.95</td>\n",
       "      <td>1889.50</td>\n",
       "      <td>No</td>\n",
       "      <td>0.0</td>\n",
       "      <td>(1.0)</td>\n",
       "      <td>0.0</td>\n",
       "      <td>(1.0)</td>\n",
       "      <td>0.0</td>\n",
       "      <td>(1.0)</td>\n",
       "      <td>0.0</td>\n",
       "      <td>(1.0)</td>\n",
       "      <td>0.0</td>\n",
       "      <td>(1.0, 0.0)</td>\n",
       "      <td>1.0</td>\n",
       "      <td>(0.0, 1.0)</td>\n",
       "      <td>1.0</td>\n",
       "      <td>(0.0, 1.0)</td>\n",
       "      <td>0.0</td>\n",
       "      <td>(1.0, 0.0)</td>\n",
       "      <td>1.0</td>\n",
       "      <td>(0.0, 1.0)</td>\n",
       "      <td>0.0</td>\n",
       "      <td>(1.0, 0.0)</td>\n",
       "      <td>0.0</td>\n",
       "      <td>(1.0, 0.0)</td>\n",
       "      <td>0.0</td>\n",
       "      <td>(1.0, 0.0)</td>\n",
       "      <td>2.0</td>\n",
       "      <td>(0.0, 0.0)</td>\n",
       "      <td>1.0</td>\n",
       "      <td>(0.0)</td>\n",
       "      <td>1.0</td>\n",
       "      <td>(0.0, 1.0, 0.0)</td>\n",
       "      <td>(1.0, 1.0, 1.0, 1.0, 1.0, 0.0, 0.0, 1.0, 0.0, ...</td>\n",
       "      <td>0.0</td>\n",
       "    </tr>\n",
       "    <tr>\n",
       "      <th>2</th>\n",
       "      <td>3668-QPYBK</td>\n",
       "      <td>Male</td>\n",
       "      <td>0</td>\n",
       "      <td>No</td>\n",
       "      <td>No</td>\n",
       "      <td>2</td>\n",
       "      <td>Yes</td>\n",
       "      <td>No</td>\n",
       "      <td>DSL</td>\n",
       "      <td>Yes</td>\n",
       "      <td>Yes</td>\n",
       "      <td>No</td>\n",
       "      <td>No</td>\n",
       "      <td>No</td>\n",
       "      <td>No</td>\n",
       "      <td>Month-to-month</td>\n",
       "      <td>Yes</td>\n",
       "      <td>Mailed check</td>\n",
       "      <td>53.85</td>\n",
       "      <td>108.15</td>\n",
       "      <td>Yes</td>\n",
       "      <td>0.0</td>\n",
       "      <td>(1.0)</td>\n",
       "      <td>0.0</td>\n",
       "      <td>(1.0)</td>\n",
       "      <td>0.0</td>\n",
       "      <td>(1.0)</td>\n",
       "      <td>0.0</td>\n",
       "      <td>(1.0)</td>\n",
       "      <td>0.0</td>\n",
       "      <td>(1.0, 0.0)</td>\n",
       "      <td>1.0</td>\n",
       "      <td>(0.0, 1.0)</td>\n",
       "      <td>1.0</td>\n",
       "      <td>(0.0, 1.0)</td>\n",
       "      <td>1.0</td>\n",
       "      <td>(0.0, 1.0)</td>\n",
       "      <td>0.0</td>\n",
       "      <td>(1.0, 0.0)</td>\n",
       "      <td>0.0</td>\n",
       "      <td>(1.0, 0.0)</td>\n",
       "      <td>0.0</td>\n",
       "      <td>(1.0, 0.0)</td>\n",
       "      <td>0.0</td>\n",
       "      <td>(1.0, 0.0)</td>\n",
       "      <td>0.0</td>\n",
       "      <td>(1.0, 0.0)</td>\n",
       "      <td>0.0</td>\n",
       "      <td>(1.0)</td>\n",
       "      <td>1.0</td>\n",
       "      <td>(0.0, 1.0, 0.0)</td>\n",
       "      <td>(1.0, 1.0, 1.0, 1.0, 1.0, 0.0, 0.0, 1.0, 0.0, ...</td>\n",
       "      <td>1.0</td>\n",
       "    </tr>\n",
       "    <tr>\n",
       "      <th>3</th>\n",
       "      <td>7795-CFOCW</td>\n",
       "      <td>Male</td>\n",
       "      <td>0</td>\n",
       "      <td>No</td>\n",
       "      <td>No</td>\n",
       "      <td>45</td>\n",
       "      <td>No</td>\n",
       "      <td>No phone service</td>\n",
       "      <td>DSL</td>\n",
       "      <td>Yes</td>\n",
       "      <td>No</td>\n",
       "      <td>Yes</td>\n",
       "      <td>Yes</td>\n",
       "      <td>No</td>\n",
       "      <td>No</td>\n",
       "      <td>One year</td>\n",
       "      <td>No</td>\n",
       "      <td>Bank transfer (automatic)</td>\n",
       "      <td>42.30</td>\n",
       "      <td>1840.75</td>\n",
       "      <td>No</td>\n",
       "      <td>0.0</td>\n",
       "      <td>(1.0)</td>\n",
       "      <td>0.0</td>\n",
       "      <td>(1.0)</td>\n",
       "      <td>0.0</td>\n",
       "      <td>(1.0)</td>\n",
       "      <td>1.0</td>\n",
       "      <td>(0.0)</td>\n",
       "      <td>2.0</td>\n",
       "      <td>(0.0, 0.0)</td>\n",
       "      <td>1.0</td>\n",
       "      <td>(0.0, 1.0)</td>\n",
       "      <td>1.0</td>\n",
       "      <td>(0.0, 1.0)</td>\n",
       "      <td>0.0</td>\n",
       "      <td>(1.0, 0.0)</td>\n",
       "      <td>1.0</td>\n",
       "      <td>(0.0, 1.0)</td>\n",
       "      <td>1.0</td>\n",
       "      <td>(0.0, 1.0)</td>\n",
       "      <td>0.0</td>\n",
       "      <td>(1.0, 0.0)</td>\n",
       "      <td>0.0</td>\n",
       "      <td>(1.0, 0.0)</td>\n",
       "      <td>2.0</td>\n",
       "      <td>(0.0, 0.0)</td>\n",
       "      <td>1.0</td>\n",
       "      <td>(0.0)</td>\n",
       "      <td>2.0</td>\n",
       "      <td>(0.0, 0.0, 1.0)</td>\n",
       "      <td>(1.0, 1.0, 1.0, 0.0, 0.0, 0.0, 0.0, 1.0, 0.0, ...</td>\n",
       "      <td>0.0</td>\n",
       "    </tr>\n",
       "    <tr>\n",
       "      <th>4</th>\n",
       "      <td>9237-HQITU</td>\n",
       "      <td>Female</td>\n",
       "      <td>0</td>\n",
       "      <td>No</td>\n",
       "      <td>No</td>\n",
       "      <td>2</td>\n",
       "      <td>Yes</td>\n",
       "      <td>No</td>\n",
       "      <td>Fiber optic</td>\n",
       "      <td>No</td>\n",
       "      <td>No</td>\n",
       "      <td>No</td>\n",
       "      <td>No</td>\n",
       "      <td>No</td>\n",
       "      <td>No</td>\n",
       "      <td>Month-to-month</td>\n",
       "      <td>Yes</td>\n",
       "      <td>Electronic check</td>\n",
       "      <td>70.70</td>\n",
       "      <td>151.65</td>\n",
       "      <td>Yes</td>\n",
       "      <td>1.0</td>\n",
       "      <td>(0.0)</td>\n",
       "      <td>0.0</td>\n",
       "      <td>(1.0)</td>\n",
       "      <td>0.0</td>\n",
       "      <td>(1.0)</td>\n",
       "      <td>0.0</td>\n",
       "      <td>(1.0)</td>\n",
       "      <td>0.0</td>\n",
       "      <td>(1.0, 0.0)</td>\n",
       "      <td>0.0</td>\n",
       "      <td>(1.0, 0.0)</td>\n",
       "      <td>0.0</td>\n",
       "      <td>(1.0, 0.0)</td>\n",
       "      <td>0.0</td>\n",
       "      <td>(1.0, 0.0)</td>\n",
       "      <td>0.0</td>\n",
       "      <td>(1.0, 0.0)</td>\n",
       "      <td>0.0</td>\n",
       "      <td>(1.0, 0.0)</td>\n",
       "      <td>0.0</td>\n",
       "      <td>(1.0, 0.0)</td>\n",
       "      <td>0.0</td>\n",
       "      <td>(1.0, 0.0)</td>\n",
       "      <td>0.0</td>\n",
       "      <td>(1.0, 0.0)</td>\n",
       "      <td>0.0</td>\n",
       "      <td>(1.0)</td>\n",
       "      <td>0.0</td>\n",
       "      <td>(1.0, 0.0, 0.0)</td>\n",
       "      <td>(0.0, 1.0, 1.0, 1.0, 1.0, 0.0, 1.0, 0.0, 1.0, ...</td>\n",
       "      <td>1.0</td>\n",
       "    </tr>\n",
       "    <tr>\n",
       "      <th>...</th>\n",
       "      <td>...</td>\n",
       "      <td>...</td>\n",
       "      <td>...</td>\n",
       "      <td>...</td>\n",
       "      <td>...</td>\n",
       "      <td>...</td>\n",
       "      <td>...</td>\n",
       "      <td>...</td>\n",
       "      <td>...</td>\n",
       "      <td>...</td>\n",
       "      <td>...</td>\n",
       "      <td>...</td>\n",
       "      <td>...</td>\n",
       "      <td>...</td>\n",
       "      <td>...</td>\n",
       "      <td>...</td>\n",
       "      <td>...</td>\n",
       "      <td>...</td>\n",
       "      <td>...</td>\n",
       "      <td>...</td>\n",
       "      <td>...</td>\n",
       "      <td>...</td>\n",
       "      <td>...</td>\n",
       "      <td>...</td>\n",
       "      <td>...</td>\n",
       "      <td>...</td>\n",
       "      <td>...</td>\n",
       "      <td>...</td>\n",
       "      <td>...</td>\n",
       "      <td>...</td>\n",
       "      <td>...</td>\n",
       "      <td>...</td>\n",
       "      <td>...</td>\n",
       "      <td>...</td>\n",
       "      <td>...</td>\n",
       "      <td>...</td>\n",
       "      <td>...</td>\n",
       "      <td>...</td>\n",
       "      <td>...</td>\n",
       "      <td>...</td>\n",
       "      <td>...</td>\n",
       "      <td>...</td>\n",
       "      <td>...</td>\n",
       "      <td>...</td>\n",
       "      <td>...</td>\n",
       "      <td>...</td>\n",
       "      <td>...</td>\n",
       "      <td>...</td>\n",
       "      <td>...</td>\n",
       "      <td>...</td>\n",
       "      <td>...</td>\n",
       "      <td>...</td>\n",
       "      <td>...</td>\n",
       "    </tr>\n",
       "    <tr>\n",
       "      <th>7038</th>\n",
       "      <td>6840-RESVB</td>\n",
       "      <td>Male</td>\n",
       "      <td>0</td>\n",
       "      <td>Yes</td>\n",
       "      <td>Yes</td>\n",
       "      <td>24</td>\n",
       "      <td>Yes</td>\n",
       "      <td>Yes</td>\n",
       "      <td>DSL</td>\n",
       "      <td>Yes</td>\n",
       "      <td>No</td>\n",
       "      <td>Yes</td>\n",
       "      <td>Yes</td>\n",
       "      <td>Yes</td>\n",
       "      <td>Yes</td>\n",
       "      <td>One year</td>\n",
       "      <td>Yes</td>\n",
       "      <td>Mailed check</td>\n",
       "      <td>84.80</td>\n",
       "      <td>1990.50</td>\n",
       "      <td>No</td>\n",
       "      <td>0.0</td>\n",
       "      <td>(1.0)</td>\n",
       "      <td>1.0</td>\n",
       "      <td>(0.0)</td>\n",
       "      <td>1.0</td>\n",
       "      <td>(0.0)</td>\n",
       "      <td>0.0</td>\n",
       "      <td>(1.0)</td>\n",
       "      <td>1.0</td>\n",
       "      <td>(0.0, 1.0)</td>\n",
       "      <td>1.0</td>\n",
       "      <td>(0.0, 1.0)</td>\n",
       "      <td>1.0</td>\n",
       "      <td>(0.0, 1.0)</td>\n",
       "      <td>0.0</td>\n",
       "      <td>(1.0, 0.0)</td>\n",
       "      <td>1.0</td>\n",
       "      <td>(0.0, 1.0)</td>\n",
       "      <td>1.0</td>\n",
       "      <td>(0.0, 1.0)</td>\n",
       "      <td>1.0</td>\n",
       "      <td>(0.0, 1.0)</td>\n",
       "      <td>1.0</td>\n",
       "      <td>(0.0, 1.0)</td>\n",
       "      <td>2.0</td>\n",
       "      <td>(0.0, 0.0)</td>\n",
       "      <td>0.0</td>\n",
       "      <td>(1.0)</td>\n",
       "      <td>1.0</td>\n",
       "      <td>(0.0, 1.0, 0.0)</td>\n",
       "      <td>(1.0, 0.0, 0.0, 1.0, 0.0, 1.0, 0.0, 1.0, 0.0, ...</td>\n",
       "      <td>0.0</td>\n",
       "    </tr>\n",
       "    <tr>\n",
       "      <th>7039</th>\n",
       "      <td>2234-XADUH</td>\n",
       "      <td>Female</td>\n",
       "      <td>0</td>\n",
       "      <td>Yes</td>\n",
       "      <td>Yes</td>\n",
       "      <td>72</td>\n",
       "      <td>Yes</td>\n",
       "      <td>Yes</td>\n",
       "      <td>Fiber optic</td>\n",
       "      <td>No</td>\n",
       "      <td>Yes</td>\n",
       "      <td>Yes</td>\n",
       "      <td>No</td>\n",
       "      <td>Yes</td>\n",
       "      <td>Yes</td>\n",
       "      <td>One year</td>\n",
       "      <td>Yes</td>\n",
       "      <td>Credit card (automatic)</td>\n",
       "      <td>103.20</td>\n",
       "      <td>7362.90</td>\n",
       "      <td>No</td>\n",
       "      <td>1.0</td>\n",
       "      <td>(0.0)</td>\n",
       "      <td>1.0</td>\n",
       "      <td>(0.0)</td>\n",
       "      <td>1.0</td>\n",
       "      <td>(0.0)</td>\n",
       "      <td>0.0</td>\n",
       "      <td>(1.0)</td>\n",
       "      <td>1.0</td>\n",
       "      <td>(0.0, 1.0)</td>\n",
       "      <td>0.0</td>\n",
       "      <td>(1.0, 0.0)</td>\n",
       "      <td>0.0</td>\n",
       "      <td>(1.0, 0.0)</td>\n",
       "      <td>1.0</td>\n",
       "      <td>(0.0, 1.0)</td>\n",
       "      <td>1.0</td>\n",
       "      <td>(0.0, 1.0)</td>\n",
       "      <td>0.0</td>\n",
       "      <td>(1.0, 0.0)</td>\n",
       "      <td>1.0</td>\n",
       "      <td>(0.0, 1.0)</td>\n",
       "      <td>1.0</td>\n",
       "      <td>(0.0, 1.0)</td>\n",
       "      <td>2.0</td>\n",
       "      <td>(0.0, 0.0)</td>\n",
       "      <td>0.0</td>\n",
       "      <td>(1.0)</td>\n",
       "      <td>3.0</td>\n",
       "      <td>(0.0, 0.0, 0.0)</td>\n",
       "      <td>(0.0, 0.0, 0.0, 1.0, 0.0, 1.0, 1.0, 0.0, 1.0, ...</td>\n",
       "      <td>0.0</td>\n",
       "    </tr>\n",
       "    <tr>\n",
       "      <th>7040</th>\n",
       "      <td>4801-JZAZL</td>\n",
       "      <td>Female</td>\n",
       "      <td>0</td>\n",
       "      <td>Yes</td>\n",
       "      <td>Yes</td>\n",
       "      <td>11</td>\n",
       "      <td>No</td>\n",
       "      <td>No phone service</td>\n",
       "      <td>DSL</td>\n",
       "      <td>Yes</td>\n",
       "      <td>No</td>\n",
       "      <td>No</td>\n",
       "      <td>No</td>\n",
       "      <td>No</td>\n",
       "      <td>No</td>\n",
       "      <td>Month-to-month</td>\n",
       "      <td>Yes</td>\n",
       "      <td>Electronic check</td>\n",
       "      <td>29.60</td>\n",
       "      <td>346.45</td>\n",
       "      <td>No</td>\n",
       "      <td>1.0</td>\n",
       "      <td>(0.0)</td>\n",
       "      <td>1.0</td>\n",
       "      <td>(0.0)</td>\n",
       "      <td>1.0</td>\n",
       "      <td>(0.0)</td>\n",
       "      <td>1.0</td>\n",
       "      <td>(0.0)</td>\n",
       "      <td>2.0</td>\n",
       "      <td>(0.0, 0.0)</td>\n",
       "      <td>1.0</td>\n",
       "      <td>(0.0, 1.0)</td>\n",
       "      <td>1.0</td>\n",
       "      <td>(0.0, 1.0)</td>\n",
       "      <td>0.0</td>\n",
       "      <td>(1.0, 0.0)</td>\n",
       "      <td>0.0</td>\n",
       "      <td>(1.0, 0.0)</td>\n",
       "      <td>0.0</td>\n",
       "      <td>(1.0, 0.0)</td>\n",
       "      <td>0.0</td>\n",
       "      <td>(1.0, 0.0)</td>\n",
       "      <td>0.0</td>\n",
       "      <td>(1.0, 0.0)</td>\n",
       "      <td>0.0</td>\n",
       "      <td>(1.0, 0.0)</td>\n",
       "      <td>0.0</td>\n",
       "      <td>(1.0)</td>\n",
       "      <td>0.0</td>\n",
       "      <td>(1.0, 0.0, 0.0)</td>\n",
       "      <td>(0.0, 0.0, 0.0, 0.0, 0.0, 0.0, 0.0, 1.0, 0.0, ...</td>\n",
       "      <td>0.0</td>\n",
       "    </tr>\n",
       "    <tr>\n",
       "      <th>7041</th>\n",
       "      <td>8361-LTMKD</td>\n",
       "      <td>Male</td>\n",
       "      <td>1</td>\n",
       "      <td>Yes</td>\n",
       "      <td>No</td>\n",
       "      <td>4</td>\n",
       "      <td>Yes</td>\n",
       "      <td>Yes</td>\n",
       "      <td>Fiber optic</td>\n",
       "      <td>No</td>\n",
       "      <td>No</td>\n",
       "      <td>No</td>\n",
       "      <td>No</td>\n",
       "      <td>No</td>\n",
       "      <td>No</td>\n",
       "      <td>Month-to-month</td>\n",
       "      <td>Yes</td>\n",
       "      <td>Mailed check</td>\n",
       "      <td>74.40</td>\n",
       "      <td>306.60</td>\n",
       "      <td>Yes</td>\n",
       "      <td>0.0</td>\n",
       "      <td>(1.0)</td>\n",
       "      <td>1.0</td>\n",
       "      <td>(0.0)</td>\n",
       "      <td>0.0</td>\n",
       "      <td>(1.0)</td>\n",
       "      <td>0.0</td>\n",
       "      <td>(1.0)</td>\n",
       "      <td>1.0</td>\n",
       "      <td>(0.0, 1.0)</td>\n",
       "      <td>0.0</td>\n",
       "      <td>(1.0, 0.0)</td>\n",
       "      <td>0.0</td>\n",
       "      <td>(1.0, 0.0)</td>\n",
       "      <td>0.0</td>\n",
       "      <td>(1.0, 0.0)</td>\n",
       "      <td>0.0</td>\n",
       "      <td>(1.0, 0.0)</td>\n",
       "      <td>0.0</td>\n",
       "      <td>(1.0, 0.0)</td>\n",
       "      <td>0.0</td>\n",
       "      <td>(1.0, 0.0)</td>\n",
       "      <td>0.0</td>\n",
       "      <td>(1.0, 0.0)</td>\n",
       "      <td>0.0</td>\n",
       "      <td>(1.0, 0.0)</td>\n",
       "      <td>0.0</td>\n",
       "      <td>(1.0)</td>\n",
       "      <td>1.0</td>\n",
       "      <td>(0.0, 1.0, 0.0)</td>\n",
       "      <td>(1.0, 0.0, 1.0, 1.0, 0.0, 1.0, 1.0, 0.0, 1.0, ...</td>\n",
       "      <td>1.0</td>\n",
       "    </tr>\n",
       "    <tr>\n",
       "      <th>7042</th>\n",
       "      <td>3186-AJIEK</td>\n",
       "      <td>Male</td>\n",
       "      <td>0</td>\n",
       "      <td>No</td>\n",
       "      <td>No</td>\n",
       "      <td>66</td>\n",
       "      <td>Yes</td>\n",
       "      <td>No</td>\n",
       "      <td>Fiber optic</td>\n",
       "      <td>Yes</td>\n",
       "      <td>No</td>\n",
       "      <td>Yes</td>\n",
       "      <td>Yes</td>\n",
       "      <td>Yes</td>\n",
       "      <td>Yes</td>\n",
       "      <td>Two year</td>\n",
       "      <td>Yes</td>\n",
       "      <td>Bank transfer (automatic)</td>\n",
       "      <td>105.65</td>\n",
       "      <td>6844.50</td>\n",
       "      <td>No</td>\n",
       "      <td>0.0</td>\n",
       "      <td>(1.0)</td>\n",
       "      <td>0.0</td>\n",
       "      <td>(1.0)</td>\n",
       "      <td>0.0</td>\n",
       "      <td>(1.0)</td>\n",
       "      <td>0.0</td>\n",
       "      <td>(1.0)</td>\n",
       "      <td>0.0</td>\n",
       "      <td>(1.0, 0.0)</td>\n",
       "      <td>0.0</td>\n",
       "      <td>(1.0, 0.0)</td>\n",
       "      <td>1.0</td>\n",
       "      <td>(0.0, 1.0)</td>\n",
       "      <td>0.0</td>\n",
       "      <td>(1.0, 0.0)</td>\n",
       "      <td>1.0</td>\n",
       "      <td>(0.0, 1.0)</td>\n",
       "      <td>1.0</td>\n",
       "      <td>(0.0, 1.0)</td>\n",
       "      <td>1.0</td>\n",
       "      <td>(0.0, 1.0)</td>\n",
       "      <td>1.0</td>\n",
       "      <td>(0.0, 1.0)</td>\n",
       "      <td>1.0</td>\n",
       "      <td>(0.0, 1.0)</td>\n",
       "      <td>0.0</td>\n",
       "      <td>(1.0)</td>\n",
       "      <td>2.0</td>\n",
       "      <td>(0.0, 0.0, 1.0)</td>\n",
       "      <td>(1.0, 1.0, 1.0, 1.0, 1.0, 0.0, 1.0, 0.0, 0.0, ...</td>\n",
       "      <td>0.0</td>\n",
       "    </tr>\n",
       "  </tbody>\n",
       "</table>\n",
       "<p>7043 rows × 53 columns</p>\n",
       "</div>"
      ],
      "text/plain": [
       "      customerID  ... label\n",
       "0     7590-VHVEG  ...   0.0\n",
       "1     5575-GNVDE  ...   0.0\n",
       "2     3668-QPYBK  ...   1.0\n",
       "3     7795-CFOCW  ...   0.0\n",
       "4     9237-HQITU  ...   1.0\n",
       "...          ...  ...   ...\n",
       "7038  6840-RESVB  ...   0.0\n",
       "7039  2234-XADUH  ...   0.0\n",
       "7040  4801-JZAZL  ...   0.0\n",
       "7041  8361-LTMKD  ...   1.0\n",
       "7042  3186-AJIEK  ...   0.0\n",
       "\n",
       "[7043 rows x 53 columns]"
      ]
     },
     "execution_count": 42,
     "metadata": {
      "tags": []
     },
     "output_type": "execute_result"
    }
   ],
   "source": [
    "#Prueba\n",
    "df_clean.toPandas()"
   ]
  },
  {
   "cell_type": "code",
   "execution_count": 43,
   "metadata": {
    "colab": {
     "base_uri": "https://localhost:8080/",
     "height": 479
    },
    "colab_type": "code",
    "executionInfo": {
     "elapsed": 135930,
     "status": "ok",
     "timestamp": 1587390609366,
     "user": {
      "displayName": "Luis Blanco",
      "photoUrl": "https://lh3.googleusercontent.com/a-/AOh14Gg1BCQJfHT2P42mM1KkjEShxXP7ik2JKApJloXCcg=s64",
      "userId": "08327929932520946832"
     },
     "user_tz": -120
    },
    "id": "AlssSy5MY04O",
    "outputId": "3479a895-1cf6-4c6d-95c0-21472162d77a"
   },
   "outputs": [
    {
     "name": "stdout",
     "output_type": "stream",
     "text": [
      "+-----+--------------------+----------+------+-------------+-------+----------+------+------------+----------------+---------------+-------------------+-------------------+-------------------+-------------------+-------------------+-------------------+--------------+----------------+--------------------+--------------+------------+-----+\n",
      "|label|            features|customerID|gender|SeniorCitizen|Partner|Dependents|tenure|PhoneService|   MultipleLines|InternetService|     OnlineSecurity|       OnlineBackup|   DeviceProtection|        TechSupport|        StreamingTV|    StreamingMovies|      Contract|PaperlessBilling|       PaymentMethod|MonthlyCharges|TotalCharges|Churn|\n",
      "+-----+--------------------+----------+------+-------------+-------+----------+------+------------+----------------+---------------+-------------------+-------------------+-------------------+-------------------+-------------------+-------------------+--------------+----------------+--------------------+--------------+------------+-----+\n",
      "|  0.0|(30,[2,7,8,11,12,...|7590-VHVEG|Female|            0|    Yes|        No|     1|          No|No phone service|            DSL|                 No|                Yes|                 No|                 No|                 No|                 No|Month-to-month|             Yes|    Electronic check|         29.85|       29.85|   No|\n",
      "|  0.0|(30,[0,1,2,3,4,7,...|5575-GNVDE|  Male|            0|     No|        No|    34|         Yes|              No|            DSL|                Yes|                 No|                Yes|                 No|                 No|                 No|      One year|              No|        Mailed check|         56.95|      1889.5|   No|\n",
      "|  1.0|(30,[0,1,2,3,4,7,...|3668-QPYBK|  Male|            0|     No|        No|     2|         Yes|              No|            DSL|                Yes|                Yes|                 No|                 No|                 No|                 No|Month-to-month|             Yes|        Mailed check|         53.85|      108.15|  Yes|\n",
      "|  0.0|(30,[0,1,2,7,9,10...|7795-CFOCW|  Male|            0|     No|        No|    45|          No|No phone service|            DSL|                Yes|                 No|                Yes|                Yes|                 No|                 No|      One year|              No|Bank transfer (au...|          42.3|     1840.75|   No|\n",
      "|  1.0|(30,[1,2,3,4,6,8,...|9237-HQITU|Female|            0|     No|        No|     2|         Yes|              No|    Fiber optic|                 No|                 No|                 No|                 No|                 No|                 No|Month-to-month|             Yes|    Electronic check|          70.7|      151.65|  Yes|\n",
      "|  1.0|(30,[1,2,3,5,6,8,...|9305-CDSKC|Female|            0|     No|        No|     8|         Yes|             Yes|    Fiber optic|                 No|                 No|                Yes|                 No|                Yes|                Yes|Month-to-month|             Yes|    Electronic check|         99.65|       820.5|  Yes|\n",
      "|  0.0|(30,[0,1,3,5,6,8,...|1452-KIOVK|  Male|            0|     No|       Yes|    22|         Yes|             Yes|    Fiber optic|                 No|                Yes|                 No|                 No|                Yes|                 No|Month-to-month|             Yes|Credit card (auto...|          89.1|      1949.4|   No|\n",
      "|  0.0|(30,[1,2,7,9,10,1...|6713-OKOMC|Female|            0|     No|        No|    10|          No|No phone service|            DSL|                Yes|                 No|                 No|                 No|                 No|                 No|Month-to-month|              No|        Mailed check|         29.75|       301.9|   No|\n",
      "|  1.0|(30,[2,3,5,6,8,10...|7892-POOKP|Female|            0|    Yes|        No|    28|         Yes|             Yes|    Fiber optic|                 No|                 No|                Yes|                Yes|                Yes|                Yes|Month-to-month|             Yes|    Electronic check|         104.8|     3046.05|  Yes|\n",
      "|  0.0|(30,[0,1,3,4,7,9,...|6388-TABGU|  Male|            0|     No|       Yes|    62|         Yes|              No|            DSL|                Yes|                Yes|                 No|                 No|                 No|                 No|      One year|              No|Bank transfer (au...|         56.15|     3487.95|   No|\n",
      "|  0.0|(30,[0,3,4,7,9,10...|9763-GRSKD|  Male|            0|    Yes|       Yes|    13|         Yes|              No|            DSL|                Yes|                 No|                 No|                 No|                 No|                 No|Month-to-month|             Yes|        Mailed check|         49.95|      587.45|   No|\n",
      "|  0.0|(30,[0,1,2,3,4,21...|7469-LKBCI|  Male|            0|     No|        No|    16|         Yes|              No|             No|No internet service|No internet service|No internet service|No internet service|No internet service|No internet service|      Two year|              No|Credit card (auto...|         18.95|       326.8|   No|\n",
      "|  0.0|(30,[0,2,3,5,6,8,...|8091-TTVAX|  Male|            0|    Yes|        No|    58|         Yes|             Yes|    Fiber optic|                 No|                 No|                Yes|                 No|                Yes|                Yes|      One year|              No|Credit card (auto...|        100.35|      5681.1|   No|\n",
      "|  1.0|(30,[0,1,2,3,5,6,...|0280-XJGEX|  Male|            0|     No|        No|    49|         Yes|             Yes|    Fiber optic|                 No|                Yes|                Yes|                 No|                Yes|                Yes|Month-to-month|             Yes|Bank transfer (au...|         103.7|      5036.3|  Yes|\n",
      "|  0.0|(30,[0,1,2,3,4,6,...|5129-JLPIS|  Male|            0|     No|        No|    25|         Yes|              No|    Fiber optic|                Yes|                 No|                Yes|                Yes|                Yes|                Yes|Month-to-month|             Yes|    Electronic check|         105.5|     2686.05|   No|\n",
      "|  0.0|(30,[3,5,6,9,11,1...|3655-SNQYZ|Female|            0|    Yes|       Yes|    69|         Yes|             Yes|    Fiber optic|                Yes|                Yes|                Yes|                Yes|                Yes|                Yes|      Two year|              No|Credit card (auto...|        113.25|     7895.15|   No|\n",
      "|  0.0|(30,[1,2,3,4,24,2...|8191-XWSZG|Female|            0|     No|        No|    52|         Yes|              No|             No|No internet service|No internet service|No internet service|No internet service|No internet service|No internet service|      One year|              No|        Mailed check|         20.65|     1022.95|   No|\n",
      "|  0.0|(30,[0,1,3,5,6,9,...|9959-WOFKT|  Male|            0|     No|       Yes|    71|         Yes|             Yes|    Fiber optic|                Yes|                 No|                Yes|                 No|                Yes|                Yes|      Two year|              No|Bank transfer (au...|         106.7|     7382.25|   No|\n",
      "|  1.0|(30,[3,4,7,8,10,1...|4190-MFLUW|Female|            0|    Yes|       Yes|    10|         Yes|              No|            DSL|                 No|                 No|                Yes|                Yes|                 No|                 No|Month-to-month|              No|Credit card (auto...|          55.2|      528.35|  Yes|\n",
      "|  0.0|(30,[1,2,3,4,6,8,...|4183-MYFRB|Female|            0|     No|        No|    21|         Yes|              No|    Fiber optic|                 No|                Yes|                Yes|                 No|                 No|                Yes|Month-to-month|             Yes|    Electronic check|         90.05|      1862.9|   No|\n",
      "+-----+--------------------+----------+------+-------------+-------+----------+------+------------+----------------+---------------+-------------------+-------------------+-------------------+-------------------+-------------------+-------------------+--------------+----------------+--------------------+--------------+------------+-----+\n",
      "only showing top 20 rows\n",
      "\n"
     ]
    }
   ],
   "source": [
    "selectedCols = ['label', 'features'] + columnas\n",
    "df= df_clean.select(selectedCols)\n",
    "df.show()"
   ]
  },
  {
   "cell_type": "markdown",
   "metadata": {
    "colab_type": "text",
    "id": "aEs3hEQr241Z"
   },
   "source": [
    "# <font color=\"Grey\">4. Divide el modelo en train y test."
   ]
  },
  {
   "cell_type": "markdown",
   "metadata": {
    "colab_type": "text",
    "id": "k2N9ty--3B8j"
   },
   "source": [
    "<font color=\"Grey\">Como tenemos muy desbalanceada la label, vamos a dividir nuestro dataframe en train y test manteniendo su porcentaje sobre el total.  \n",
    "Para ello, pasaremos nuestro dataframe a Pandas, usaremos la función StratifiedShuffleSplit"
   ]
  },
  {
   "cell_type": "code",
   "execution_count": 44,
   "metadata": {
    "colab": {
     "base_uri": "https://localhost:8080/",
     "height": 68
    },
    "colab_type": "code",
    "executionInfo": {
     "elapsed": 141990,
     "status": "ok",
     "timestamp": 1587390615455,
     "user": {
      "displayName": "Luis Blanco",
      "photoUrl": "https://lh3.googleusercontent.com/a-/AOh14Gg1BCQJfHT2P42mM1KkjEShxXP7ik2JKApJloXCcg=s64",
      "userId": "08327929932520946832"
     },
     "user_tz": -120
    },
    "id": "MI3YfhceDQS2",
    "outputId": "1fcb8004-733f-4b74-c3de-a39ccb8471ec"
   },
   "outputs": [
    {
     "name": "stdout",
     "output_type": "stream",
     "text": [
      "El conjunto de train tiene: 5282 registros\n",
      "El conjunto de test tiene: 1761 registros\n",
      "Total de registros: 7043\n"
     ]
    }
   ],
   "source": [
    "df=df.toPandas()\n",
    "sss = StratifiedShuffleSplit(n_splits=1, test_size=0.25, random_state=random_state)\n",
    "for train_index, test_index in sss.split(df, df[\"label\"]):\n",
    "    train = df.loc[train_index]\n",
    "    test = df.loc[test_index]\n",
    "\n",
    "df=spark.createDataFrame(df)\n",
    "train=spark.createDataFrame(train)\n",
    "test=spark.createDataFrame(test)\n",
    "print(\"El conjunto de train tiene:\",train.count(),\"registros\")\n",
    "print(\"El conjunto de test tiene:\",test.count(),\"registros\")\n",
    "print(\"Total de registros:\",train.count()+test.count())"
   ]
  },
  {
   "cell_type": "markdown",
   "metadata": {
    "colab_type": "text",
    "id": "nLlk8K7FnBus"
   },
   "source": [
    "<font color=\"Grey\">Vamos a comprobar que se han mantenido los porcentajes de nuestra label en el mismo rango que en nuestro dataframe original."
   ]
  },
  {
   "cell_type": "code",
   "execution_count": 45,
   "metadata": {
    "colab": {
     "base_uri": "https://localhost:8080/",
     "height": 111
    },
    "colab_type": "code",
    "executionInfo": {
     "elapsed": 143546,
     "status": "ok",
     "timestamp": 1587390617040,
     "user": {
      "displayName": "Luis Blanco",
      "photoUrl": "https://lh3.googleusercontent.com/a-/AOh14Gg1BCQJfHT2P42mM1KkjEShxXP7ik2JKApJloXCcg=s64",
      "userId": "08327929932520946832"
     },
     "user_tz": -120
    },
    "id": "-cg0UaaMjDJA",
    "outputId": "8a3a13d6-51c1-4932-bc12-f1656c91f737"
   },
   "outputs": [
    {
     "data": {
      "text/html": [
       "<div>\n",
       "<style scoped>\n",
       "    .dataframe tbody tr th:only-of-type {\n",
       "        vertical-align: middle;\n",
       "    }\n",
       "\n",
       "    .dataframe tbody tr th {\n",
       "        vertical-align: top;\n",
       "    }\n",
       "\n",
       "    .dataframe thead th {\n",
       "        text-align: right;\n",
       "    }\n",
       "</style>\n",
       "<table border=\"1\" class=\"dataframe\">\n",
       "  <thead>\n",
       "    <tr style=\"text-align: right;\">\n",
       "      <th></th>\n",
       "      <th>label</th>\n",
       "      <th>count</th>\n",
       "    </tr>\n",
       "  </thead>\n",
       "  <tbody>\n",
       "    <tr>\n",
       "      <th>0</th>\n",
       "      <td>0.0</td>\n",
       "      <td>5174</td>\n",
       "    </tr>\n",
       "    <tr>\n",
       "      <th>1</th>\n",
       "      <td>1.0</td>\n",
       "      <td>1869</td>\n",
       "    </tr>\n",
       "  </tbody>\n",
       "</table>\n",
       "</div>"
      ],
      "text/plain": [
       "   label  count\n",
       "0    0.0   5174\n",
       "1    1.0   1869"
      ]
     },
     "execution_count": 45,
     "metadata": {
      "tags": []
     },
     "output_type": "execute_result"
    }
   ],
   "source": [
    "df.groupBy(\"label\").count().toPandas()"
   ]
  },
  {
   "cell_type": "code",
   "execution_count": 46,
   "metadata": {
    "colab": {
     "base_uri": "https://localhost:8080/",
     "height": 34
    },
    "colab_type": "code",
    "executionInfo": {
     "elapsed": 143517,
     "status": "ok",
     "timestamp": 1587390617041,
     "user": {
      "displayName": "Luis Blanco",
      "photoUrl": "https://lh3.googleusercontent.com/a-/AOh14Gg1BCQJfHT2P42mM1KkjEShxXP7ik2JKApJloXCcg=s64",
      "userId": "08327929932520946832"
     },
     "user_tz": -120
    },
    "id": "G6ft6dVisFnZ",
    "outputId": "2ac8fcbe-f11f-4ba8-fa55-8f74d4a72211"
   },
   "outputs": [
    {
     "name": "stdout",
     "output_type": "stream",
     "text": [
      "El porcentaje de Yes en todo el dataframe es: 36.122922303826826%\n"
     ]
    }
   ],
   "source": [
    "print(\"El porcentaje de Yes en todo el dataframe es:\", str((1869/5174)*100)+\"%\")"
   ]
  },
  {
   "cell_type": "code",
   "execution_count": 47,
   "metadata": {
    "colab": {
     "base_uri": "https://localhost:8080/",
     "height": 111
    },
    "colab_type": "code",
    "executionInfo": {
     "elapsed": 144860,
     "status": "ok",
     "timestamp": 1587390618411,
     "user": {
      "displayName": "Luis Blanco",
      "photoUrl": "https://lh3.googleusercontent.com/a-/AOh14Gg1BCQJfHT2P42mM1KkjEShxXP7ik2JKApJloXCcg=s64",
      "userId": "08327929932520946832"
     },
     "user_tz": -120
    },
    "id": "D7SLvX_pjWiK",
    "outputId": "7f5ce392-21e6-4267-f0f6-5f6751a89982"
   },
   "outputs": [
    {
     "data": {
      "text/html": [
       "<div>\n",
       "<style scoped>\n",
       "    .dataframe tbody tr th:only-of-type {\n",
       "        vertical-align: middle;\n",
       "    }\n",
       "\n",
       "    .dataframe tbody tr th {\n",
       "        vertical-align: top;\n",
       "    }\n",
       "\n",
       "    .dataframe thead th {\n",
       "        text-align: right;\n",
       "    }\n",
       "</style>\n",
       "<table border=\"1\" class=\"dataframe\">\n",
       "  <thead>\n",
       "    <tr style=\"text-align: right;\">\n",
       "      <th></th>\n",
       "      <th>label</th>\n",
       "      <th>count</th>\n",
       "    </tr>\n",
       "  </thead>\n",
       "  <tbody>\n",
       "    <tr>\n",
       "      <th>0</th>\n",
       "      <td>0.0</td>\n",
       "      <td>3880</td>\n",
       "    </tr>\n",
       "    <tr>\n",
       "      <th>1</th>\n",
       "      <td>1.0</td>\n",
       "      <td>1402</td>\n",
       "    </tr>\n",
       "  </tbody>\n",
       "</table>\n",
       "</div>"
      ],
      "text/plain": [
       "   label  count\n",
       "0    0.0   3880\n",
       "1    1.0   1402"
      ]
     },
     "execution_count": 47,
     "metadata": {
      "tags": []
     },
     "output_type": "execute_result"
    }
   ],
   "source": [
    "train.groupBy(\"label\").count().toPandas()"
   ]
  },
  {
   "cell_type": "code",
   "execution_count": 48,
   "metadata": {
    "colab": {
     "base_uri": "https://localhost:8080/",
     "height": 34
    },
    "colab_type": "code",
    "executionInfo": {
     "elapsed": 144832,
     "status": "ok",
     "timestamp": 1587390618413,
     "user": {
      "displayName": "Luis Blanco",
      "photoUrl": "https://lh3.googleusercontent.com/a-/AOh14Gg1BCQJfHT2P42mM1KkjEShxXP7ik2JKApJloXCcg=s64",
      "userId": "08327929932520946832"
     },
     "user_tz": -120
    },
    "id": "FZyNYw0Fnzhs",
    "outputId": "b6d29911-ce28-495e-b6bd-4a7eed200dc9"
   },
   "outputs": [
    {
     "name": "stdout",
     "output_type": "stream",
     "text": [
      "El porcentaje de Yes en train es: 36.1340206185567%\n"
     ]
    }
   ],
   "source": [
    "print(\"El porcentaje de Yes en train es:\", str((1402/3880)*100)+\"%\")"
   ]
  },
  {
   "cell_type": "code",
   "execution_count": 49,
   "metadata": {
    "colab": {
     "base_uri": "https://localhost:8080/",
     "height": 111
    },
    "colab_type": "code",
    "executionInfo": {
     "elapsed": 145980,
     "status": "ok",
     "timestamp": 1587390619588,
     "user": {
      "displayName": "Luis Blanco",
      "photoUrl": "https://lh3.googleusercontent.com/a-/AOh14Gg1BCQJfHT2P42mM1KkjEShxXP7ik2JKApJloXCcg=s64",
      "userId": "08327929932520946832"
     },
     "user_tz": -120
    },
    "id": "NlyQrs0OnU9f",
    "outputId": "029e8f54-15a2-4c93-f73d-0182104c6081"
   },
   "outputs": [
    {
     "data": {
      "text/html": [
       "<div>\n",
       "<style scoped>\n",
       "    .dataframe tbody tr th:only-of-type {\n",
       "        vertical-align: middle;\n",
       "    }\n",
       "\n",
       "    .dataframe tbody tr th {\n",
       "        vertical-align: top;\n",
       "    }\n",
       "\n",
       "    .dataframe thead th {\n",
       "        text-align: right;\n",
       "    }\n",
       "</style>\n",
       "<table border=\"1\" class=\"dataframe\">\n",
       "  <thead>\n",
       "    <tr style=\"text-align: right;\">\n",
       "      <th></th>\n",
       "      <th>label</th>\n",
       "      <th>count</th>\n",
       "    </tr>\n",
       "  </thead>\n",
       "  <tbody>\n",
       "    <tr>\n",
       "      <th>0</th>\n",
       "      <td>0.0</td>\n",
       "      <td>1294</td>\n",
       "    </tr>\n",
       "    <tr>\n",
       "      <th>1</th>\n",
       "      <td>1.0</td>\n",
       "      <td>467</td>\n",
       "    </tr>\n",
       "  </tbody>\n",
       "</table>\n",
       "</div>"
      ],
      "text/plain": [
       "   label  count\n",
       "0    0.0   1294\n",
       "1    1.0    467"
      ]
     },
     "execution_count": 49,
     "metadata": {
      "tags": []
     },
     "output_type": "execute_result"
    }
   ],
   "source": [
    "test.groupBy(\"label\").count().toPandas()"
   ]
  },
  {
   "cell_type": "code",
   "execution_count": 50,
   "metadata": {
    "colab": {
     "base_uri": "https://localhost:8080/",
     "height": 34
    },
    "colab_type": "code",
    "executionInfo": {
     "elapsed": 145954,
     "status": "ok",
     "timestamp": 1587390619589,
     "user": {
      "displayName": "Luis Blanco",
      "photoUrl": "https://lh3.googleusercontent.com/a-/AOh14Gg1BCQJfHT2P42mM1KkjEShxXP7ik2JKApJloXCcg=s64",
      "userId": "08327929932520946832"
     },
     "user_tz": -120
    },
    "id": "wR8JHECZnxeP",
    "outputId": "b37aadcc-bcab-4cb1-cd1c-6e75067e9a77"
   },
   "outputs": [
    {
     "name": "stdout",
     "output_type": "stream",
     "text": [
      "El porcentaje de Yes en train es: 36.08964451313756%\n"
     ]
    }
   ],
   "source": [
    "print(\"El porcentaje de Yes en train es:\", str((467/1294)*100)+\"%\")"
   ]
  },
  {
   "cell_type": "markdown",
   "metadata": {
    "colab_type": "text",
    "id": "3vJuFNQLoBlN"
   },
   "source": [
    "<font color=\"Grey\">Comprobamos que sí se ha mantenido el mismo porcentaje de datos."
   ]
  },
  {
   "cell_type": "markdown",
   "metadata": {
    "colab_type": "text",
    "id": "vpmCyYBFoRD_"
   },
   "source": [
    "# <font color=\"grey\">5. Prueba las predicciones de los distintos modelos que ofrece Spark Mllib."
   ]
  },
  {
   "cell_type": "markdown",
   "metadata": {
    "colab_type": "text",
    "id": "msHZSz0loXEp"
   },
   "source": [
    "<font color=\"Grey\">Los modelos de clasificación que ofrece Spark MLlib son:  \n",
    "<font color=\"Grey\">a. Logistic regression  \n",
    "<font color=\"Grey\">b. Decision tree classifier  \n",
    "<font color=\"Grey\">c. Random forest classifier  \n",
    "<font color=\"Grey\">d. Gradient-boosted tree classifier  \n",
    "<font color=\"Grey\">e. Naive Bayes  \n",
    "<font color=\"Grey\">f. Linear Support Vector Machine  \n",
    "\n",
    "<font color=\"Grey\">No los vamos a usar:  \n",
    "<font color=\"Grey\">- One-vs-Rest classifier (a.k.a. One-vs-All)  \n",
    "<font color=\"Grey\">- Multilayer perceptron classifier"
   ]
  },
  {
   "cell_type": "markdown",
   "metadata": {
    "colab_type": "text",
    "id": "FrJ1ez69q1Tx"
   },
   "source": [
    "<font color=\"Grey\">Para analizar los resultados vamos a calcular el Área Bajo la Curva PR y la matriz de confusión y sus métricas.\n",
    "*El área bajo la curva ROC, al tener desbalanceada la label, no es representativo, por eso hemos optado por el área bajo la curva PR, que tienen en cuenta la precisión de las predicciones.\n",
    "\n",
    "<font color=\"Grey\">Vamos a sacar las métricas de: Precisión, Recall y Accuracy:\n",
    "\n",
    "<center><img src='https://www.juanbarrios.com/wp-content/uploads/2019/07/matriz4.jpg' title=\"Métricas Matriz de Confusión\" width=\"500\"></center>\n",
    "\n",
    "<font color=\"Grey\">**Accuracy**: proporción entre los positivos reales predichos por el algoritmo y todos los casos positivos.\n",
    "\n",
    "<font color=\"Grey\">**Precision**: proporción entre el número de predicciones correctas (tanto positivas como negativas) y el total de predicciones.\n",
    "\n",
    "<font color=\"Grey\">**Recall**: proporción de casos positivos que fueron correctamente identificadas por el algoritmo.\n",
    "\n",
    "<font color=\"Grey\">Al tener muy desbalanceada nuestra label, la mejor métrica para analizar nuestros modelos es el F1_score, ya que relaciona tanto el Recall como Precision:  \n",
    "\n",
    "<font color=\"Grey\">$$2*\\frac{Recall * Precision}{Recall + Precision}$$\n",
    "\n",
    "<center> <font color=\"Grey\">\n",
    "*Imagen e info: https://www.juanbarrios.com/matriz-de-confusion-y-sus-metricas/</center>\n",
    "\n",
    "<font color=\"Grey\">Por ello, vamos a definir la función para plotear la matriz de confusión (plot_confusion_matrix) y la función que nos muestre nuestra matriz de confusión para nuestro modelo (sacar_confusion_matrix). Para ello, será necesario que definamos las clases que incluiremos en nuestra función con los valores predichos de nuestra predicción."
   ]
  },
  {
   "cell_type": "code",
   "execution_count": 0,
   "metadata": {
    "colab": {},
    "colab_type": "code",
    "id": "Cu3gqk5b8z74"
   },
   "outputs": [],
   "source": [
    "#Función para plotear la función\n",
    "\n",
    "def plot_confusion_matrix(cm, classes,\n",
    "                          normalize=False,\n",
    "                          title='Confusion matrix',\n",
    "                          cmap=plt.cm.Blues):\n",
    "    \"\"\"\n",
    "    Esta función imprime y plotea nuestra matriz de confusión.\n",
    "    Si hemos normalizado nuestro dataframe, hay que incluir en\n",
    "    setting \"normalize=True\".\n",
    "    \"\"\"\n",
    "    if normalize:\n",
    "        cm = cm.astype('float') / cm.sum(axis=1)[:, np.newaxis]\n",
    "        print(\"Normalized confusion matrix\")\n",
    "    else:\n",
    "        print('Confusion matrix, without normalization')\n",
    "\n",
    "    print(cm)\n",
    "\n",
    "    plt.imshow(cm, interpolation='nearest', cmap=cmap)\n",
    "    plt.title(title)\n",
    "    plt.colorbar()\n",
    "    tick_marks = np.arange(len(classes))\n",
    "    plt.xticks(tick_marks, classes, rotation=45)\n",
    "    plt.yticks(tick_marks, classes)\n",
    "\n",
    "    fmt = '.2f' if normalize else 'd'\n",
    "    thresh = cm.max() / 2.\n",
    "    for i, j in itertools.product(range(cm.shape[0]), range(cm.shape[1])):\n",
    "        plt.text(j, i, format(cm[i, j], fmt),\n",
    "                 horizontalalignment=\"center\",\n",
    "                 color=\"white\" if cm[i, j] > thresh else \"black\")\n",
    "\n",
    "    plt.tight_layout()\n",
    "    plt.ylabel('True label')\n",
    "    plt.xlabel('Predicted label')"
   ]
  },
  {
   "cell_type": "code",
   "execution_count": 0,
   "metadata": {
    "colab": {},
    "colab_type": "code",
    "id": "OUADfI7t8z4F"
   },
   "outputs": [],
   "source": [
    "#Función para sacar la matriz de confusión de nuestro modelo\n",
    "def sacar_confusion_matrix(predictions):\n",
    "    \"\"\"\n",
    "    Función para dibujar la matriz de confusión e imprimir\n",
    "    \"Precision\", \"Recall\", \"F1\" y \"Accuracy Score\".\n",
    "    \"\"\"\n",
    "    y_true = predictions.select(\"label\")\n",
    "    y_true = y_true.toPandas()\n",
    "\n",
    "    y_pred = predictions.select(\"prediction\")\n",
    "    y_pred = y_pred.toPandas()\n",
    "\n",
    "    cnf_matrix = confusion_matrix(y_true, y_pred,labels=class_temp)\n",
    "    cnf_matrix\n",
    "    plt.figure()\n",
    "    plot_confusion_matrix(cnf_matrix, classes=class_temp,\n",
    "                          title='Confusion matrix, without normalization')\n",
    "    plt.show()\n",
    "\n",
    "    precision = precision_score(y_true, y_pred)\n",
    "    print('Precision: %.4f' % precision)\n",
    "\n",
    "    recall = recall_score(y_true, y_pred)\n",
    "    print('Recall: %.4f' % recall)  \n",
    "\n",
    "    F1 = f1_score(y_true, y_pred)\n",
    "    print('F1: %.4f' % F1)  \n",
    "\n",
    "    accuracy = accuracy_score(y_true, y_pred)\n",
    "    print('Accuracy score: {0:0.4f}'.format(accuracy))"
   ]
  },
  {
   "cell_type": "markdown",
   "metadata": {
    "colab_type": "text",
    "id": "zdpX1Fm6Ts5w"
   },
   "source": [
    "<font color=\"Grey\">Para evaluar nuestro modelo utilizaremos \"BinaryClassificationEvaluator\", usando como métrica \"areaUnderPR\" en lugar de \"areaUnderRoc\", ya que tenemos la label desbalanceada. De esta forma, el área calculada bajo la curva tendra como ejes:\n",
    "- <font color=\"Grey\">TPR: cuántos casos positivos se han clasificado correctamente de todos los casos positivos en los datos.</font>\n",
    "- <font color=\"Grey\">Precisión: cuántos positivos verdaderos de todos los que se han *predicho* como positivos.  \n",
    "\n",
    "<font color=\"Grey\">El uso de este evaluador, tendrá más sentido cuando realicemos Cross Validation, ya que será el evaluador que tendrá en cuenta para entrenar el modelo.\n",
    "\n",
    "<font color=\"Grey\">Aunque, como hemos dicho anteriormente, la métrica principal en la que nos fijaremos es F1 Score."
   ]
  },
  {
   "cell_type": "code",
   "execution_count": 0,
   "metadata": {
    "colab": {},
    "colab_type": "code",
    "id": "i8RrhGS5Ieko"
   },
   "outputs": [],
   "source": [
    "#Para todos nuestros modelos, el evaluator será:\n",
    "evaluator = BinaryClassificationEvaluator(metricName=\"areaUnderPR\")"
   ]
  },
  {
   "cell_type": "markdown",
   "metadata": {
    "colab_type": "text",
    "id": "VYvgYlbc801R"
   },
   "source": [
    "\n",
    "\n",
    "<font color=\"Grey\">En esta primera parte del ejercicio, probaremos los modelos con los hiperparámetros por defecto:"
   ]
  },
  {
   "cell_type": "code",
   "execution_count": 54,
   "metadata": {
    "colab": {
     "base_uri": "https://localhost:8080/",
     "height": 359
    },
    "colab_type": "code",
    "executionInfo": {
     "elapsed": 151572,
     "status": "ok",
     "timestamp": 1587390625269,
     "user": {
      "displayName": "Luis Blanco",
      "photoUrl": "https://lh3.googleusercontent.com/a-/AOh14Gg1BCQJfHT2P42mM1KkjEShxXP7ik2JKApJloXCcg=s64",
      "userId": "08327929932520946832"
     },
     "user_tz": -120
    },
    "id": "AXTFDlOE7PX9",
    "outputId": "dffbf946-d59c-4746-e19d-ae1e290f2168"
   },
   "outputs": [
    {
     "data": {
      "text/html": [
       "<div>\n",
       "<style scoped>\n",
       "    .dataframe tbody tr th:only-of-type {\n",
       "        vertical-align: middle;\n",
       "    }\n",
       "\n",
       "    .dataframe tbody tr th {\n",
       "        vertical-align: top;\n",
       "    }\n",
       "\n",
       "    .dataframe thead th {\n",
       "        text-align: right;\n",
       "    }\n",
       "</style>\n",
       "<table border=\"1\" class=\"dataframe\">\n",
       "  <thead>\n",
       "    <tr style=\"text-align: right;\">\n",
       "      <th></th>\n",
       "      <th>customerID</th>\n",
       "      <th>label</th>\n",
       "      <th>prediction</th>\n",
       "      <th>rawPrediction</th>\n",
       "      <th>probability</th>\n",
       "    </tr>\n",
       "  </thead>\n",
       "  <tbody>\n",
       "    <tr>\n",
       "      <th>0</th>\n",
       "      <td>6980-IMXXE</td>\n",
       "      <td>0.0</td>\n",
       "      <td>0.0</td>\n",
       "      <td>[6.819034409130658, -6.819034409130658]</td>\n",
       "      <td>[0.9989084172678218, 0.0010915827321783022]</td>\n",
       "    </tr>\n",
       "    <tr>\n",
       "      <th>1</th>\n",
       "      <td>8756-RDDLT</td>\n",
       "      <td>0.0</td>\n",
       "      <td>0.0</td>\n",
       "      <td>[2.958450174408604, -2.958450174408604]</td>\n",
       "      <td>[0.9506613511108949, 0.049338648889105115]</td>\n",
       "    </tr>\n",
       "    <tr>\n",
       "      <th>2</th>\n",
       "      <td>3190-ITQXP</td>\n",
       "      <td>0.0</td>\n",
       "      <td>0.0</td>\n",
       "      <td>[5.531882517622714, -5.531882517622714]</td>\n",
       "      <td>[0.9960570781070565, 0.003942921892943432]</td>\n",
       "    </tr>\n",
       "    <tr>\n",
       "      <th>3</th>\n",
       "      <td>4672-FOTSD</td>\n",
       "      <td>0.0</td>\n",
       "      <td>0.0</td>\n",
       "      <td>[1.2938909589084984, -1.2938909589084984]</td>\n",
       "      <td>[0.7848050461810017, 0.21519495381899834]</td>\n",
       "    </tr>\n",
       "    <tr>\n",
       "      <th>4</th>\n",
       "      <td>2958-NHPPS</td>\n",
       "      <td>0.0</td>\n",
       "      <td>0.0</td>\n",
       "      <td>[2.398603864169671, -2.398603864169671]</td>\n",
       "      <td>[0.9167207791954027, 0.08327922080459717]</td>\n",
       "    </tr>\n",
       "    <tr>\n",
       "      <th>5</th>\n",
       "      <td>3030-YDNRM</td>\n",
       "      <td>0.0</td>\n",
       "      <td>1.0</td>\n",
       "      <td>[-0.7665871110909197, 0.7665871110909197]</td>\n",
       "      <td>[0.31721784465256236, 0.6827821553474377]</td>\n",
       "    </tr>\n",
       "    <tr>\n",
       "      <th>6</th>\n",
       "      <td>8777-PVYGU</td>\n",
       "      <td>0.0</td>\n",
       "      <td>0.0</td>\n",
       "      <td>[3.1081114979602606, -3.1081114979602606]</td>\n",
       "      <td>[0.9572260991303827, 0.04277390086961742]</td>\n",
       "    </tr>\n",
       "    <tr>\n",
       "      <th>7</th>\n",
       "      <td>7622-FWGEW</td>\n",
       "      <td>0.0</td>\n",
       "      <td>0.0</td>\n",
       "      <td>[3.861865355268816, -3.861865355268816]</td>\n",
       "      <td>[0.9794043633729573, 0.020595636627042644]</td>\n",
       "    </tr>\n",
       "    <tr>\n",
       "      <th>8</th>\n",
       "      <td>8129-GMVGI</td>\n",
       "      <td>0.0</td>\n",
       "      <td>0.0</td>\n",
       "      <td>[6.061293288663659, -6.061293288663659]</td>\n",
       "      <td>[0.9976740389232005, 0.0023259610767994267]</td>\n",
       "    </tr>\n",
       "    <tr>\n",
       "      <th>9</th>\n",
       "      <td>7315-WYOAW</td>\n",
       "      <td>0.0</td>\n",
       "      <td>1.0</td>\n",
       "      <td>[-0.3271939225605076, 0.3271939225605076]</td>\n",
       "      <td>[0.41892354125395037, 0.5810764587460496]</td>\n",
       "    </tr>\n",
       "  </tbody>\n",
       "</table>\n",
       "</div>"
      ],
      "text/plain": [
       "   customerID  ...                                  probability\n",
       "0  6980-IMXXE  ...  [0.9989084172678218, 0.0010915827321783022]\n",
       "1  8756-RDDLT  ...   [0.9506613511108949, 0.049338648889105115]\n",
       "2  3190-ITQXP  ...   [0.9960570781070565, 0.003942921892943432]\n",
       "3  4672-FOTSD  ...    [0.7848050461810017, 0.21519495381899834]\n",
       "4  2958-NHPPS  ...    [0.9167207791954027, 0.08327922080459717]\n",
       "5  3030-YDNRM  ...    [0.31721784465256236, 0.6827821553474377]\n",
       "6  8777-PVYGU  ...    [0.9572260991303827, 0.04277390086961742]\n",
       "7  7622-FWGEW  ...   [0.9794043633729573, 0.020595636627042644]\n",
       "8  8129-GMVGI  ...  [0.9976740389232005, 0.0023259610767994267]\n",
       "9  7315-WYOAW  ...    [0.41892354125395037, 0.5810764587460496]\n",
       "\n",
       "[10 rows x 5 columns]"
      ]
     },
     "execution_count": 54,
     "metadata": {
      "tags": []
     },
     "output_type": "execute_result"
    }
   ],
   "source": [
    "#Logistic Regression:\n",
    "lr=LogisticRegression(featuresCol=\"features\", labelCol=\"label\")\n",
    "lr_model=lr.fit(train)\n",
    "lr_predictions=lr_model.transform(test)\n",
    "lr_predictions.select(\"customerID\",\"label\",\"prediction\",\"rawPrediction\",\"probability\").limit(10).toPandas()"
   ]
  },
  {
   "cell_type": "code",
   "execution_count": 55,
   "metadata": {
    "colab": {
     "base_uri": "https://localhost:8080/",
     "height": 34
    },
    "colab_type": "code",
    "executionInfo": {
     "elapsed": 152125,
     "status": "ok",
     "timestamp": 1587390625849,
     "user": {
      "displayName": "Luis Blanco",
      "photoUrl": "https://lh3.googleusercontent.com/a-/AOh14Gg1BCQJfHT2P42mM1KkjEShxXP7ik2JKApJloXCcg=s64",
      "userId": "08327929932520946832"
     },
     "user_tz": -120
    },
    "id": "hN5no6nt8XbQ",
    "outputId": "3a013c2e-ebbe-4608-8684-329d9c9f5ef0"
   },
   "outputs": [
    {
     "name": "stdout",
     "output_type": "stream",
     "text": [
      "Área bajo la curva ROC en Test: 0.6255244256370106\n"
     ]
    }
   ],
   "source": [
    "print(\"Área bajo la curva ROC en Test: \" + str(evaluator.evaluate(lr_predictions)))"
   ]
  },
  {
   "cell_type": "code",
   "execution_count": 56,
   "metadata": {
    "colab": {
     "base_uri": "https://localhost:8080/",
     "height": 430
    },
    "colab_type": "code",
    "executionInfo": {
     "elapsed": 154816,
     "status": "ok",
     "timestamp": 1587390628568,
     "user": {
      "displayName": "Luis Blanco",
      "photoUrl": "https://lh3.googleusercontent.com/a-/AOh14Gg1BCQJfHT2P42mM1KkjEShxXP7ik2JKApJloXCcg=s64",
      "userId": "08327929932520946832"
     },
     "user_tz": -120
    },
    "id": "3QKNnwnb8Y82",
    "outputId": "44378873-9a2a-4d92-b8b0-e265d40c85ba"
   },
   "outputs": [
    {
     "name": "stdout",
     "output_type": "stream",
     "text": [
      "Confusion matrix, without normalization\n",
      "[[1146  148]\n",
      " [ 211  256]]\n"
     ]
    },
    {
     "data": {
      "image/png": "[encoded data removed]",
      "text/plain": [
       "<Figure size 432x288 with 2 Axes>"
      ]
     },
     "metadata": {
      "needs_background": "light",
      "tags": []
     },
     "output_type": "display_data"
    },
    {
     "name": "stdout",
     "output_type": "stream",
     "text": [
      "Precision: 0.6337\n",
      "Recall: 0.5482\n",
      "F1: 0.5878\n",
      "Accuracy score: 0.7961\n"
     ]
    }
   ],
   "source": [
    "#Lista con las clases\n",
    "class_temp = lr_predictions.select(\"label\").groupBy(\"label\")\\\n",
    "                        .count().sort('count', ascending=False).toPandas()\n",
    "class_temp = class_temp[\"label\"].values.tolist()\n",
    "\n",
    "#Matriz de confusión:\n",
    "sacar_confusion_matrix(lr_predictions)"
   ]
  },
  {
   "cell_type": "markdown",
   "metadata": {
    "colab_type": "text",
    "id": "pk77iSsX9jNk"
   },
   "source": [
    "<font color=\"Grey\">Vemos que el modelo ha predicho correctamente 1.146 Verdaderos Negativos y 256 Verdaderos Positivos, sin embargo ha errado en 211 Falsos Negativos y 148 Falsos Positivos. El F1 Score es 0.5878."
   ]
  },
  {
   "cell_type": "code",
   "execution_count": 112,
   "metadata": {
    "colab": {
     "base_uri": "https://localhost:8080/",
     "height": 430
    },
    "colab_type": "code",
    "executionInfo": {
     "elapsed": 3672,
     "status": "ok",
     "timestamp": 1587401789319,
     "user": {
      "displayName": "Luis Blanco",
      "photoUrl": "https://lh3.googleusercontent.com/a-/AOh14Gg1BCQJfHT2P42mM1KkjEShxXP7ik2JKApJloXCcg=s64",
      "userId": "08327929932520946832"
     },
     "user_tz": -120
    },
    "id": "zk3M6qpKhAds",
    "outputId": "89b49ad0-c370-4b78-830a-7ae0309c23aa"
   },
   "outputs": [
    {
     "name": "stdout",
     "output_type": "stream",
     "text": [
      "Confusion matrix, without normalization\n",
      "[[3490  390]\n",
      " [ 615  787]]\n"
     ]
    },
    {
     "data": {
      "image/png": "[encoded data removed]",
      "text/plain": [
       "<Figure size 432x288 with 2 Axes>"
      ]
     },
     "metadata": {
      "needs_background": "light",
      "tags": []
     },
     "output_type": "display_data"
    },
    {
     "name": "stdout",
     "output_type": "stream",
     "text": [
      "Precision: 0.6686\n",
      "Recall: 0.5613\n",
      "F1: 0.6103\n",
      "Accuracy score: 0.8097\n"
     ]
    }
   ],
   "source": [
    "#Calculamos la matriz de las prediciones en Train para ver si hay overfitting:\n",
    "lr_predictions_train = lr_model.transform(train)\n",
    "\n",
    "#Lista con las clases\n",
    "class_temp = lr_predictions_train.select(\"label\").groupBy(\"label\")\\\n",
    "                        .count().sort('count', ascending=False).toPandas()\n",
    "class_temp = class_temp[\"label\"].values.tolist()\n",
    "\n",
    "#Matriz de confusión:\n",
    "sacar_confusion_matrix(lr_predictions_train)"
   ]
  },
  {
   "cell_type": "markdown",
   "metadata": {
    "colab_type": "text",
    "id": "f4MXTWJohcQH"
   },
   "source": [
    "<font color=\"Grey\">Estamos en los mismos valores en las métricas, no hay overfitting."
   ]
  },
  {
   "cell_type": "code",
   "execution_count": 57,
   "metadata": {
    "colab": {
     "base_uri": "https://localhost:8080/",
     "height": 289
    },
    "colab_type": "code",
    "executionInfo": {
     "elapsed": 158119,
     "status": "ok",
     "timestamp": 1587390631897,
     "user": {
      "displayName": "Luis Blanco",
      "photoUrl": "https://lh3.googleusercontent.com/a-/AOh14Gg1BCQJfHT2P42mM1KkjEShxXP7ik2JKApJloXCcg=s64",
      "userId": "08327929932520946832"
     },
     "user_tz": -120
    },
    "id": "WPgp47Uo7PVa",
    "outputId": "b4edbeb7-13b0-4c3f-bd4a-66351bd29532"
   },
   "outputs": [
    {
     "name": "stdout",
     "output_type": "stream",
     "text": [
      "+----------+-----+----------+--------------+--------------------+\n",
      "|customerID|label|prediction| rawPrediction|         probability|\n",
      "+----------+-----+----------+--------------+--------------------+\n",
      "|6980-IMXXE|  0.0|       0.0|[2231.0,164.0]|[0.93152400835073...|\n",
      "|8756-RDDLT|  0.0|       0.0|  [103.0,38.0]|[0.73049645390070...|\n",
      "|3190-ITQXP|  0.0|       0.0|[2231.0,164.0]|[0.93152400835073...|\n",
      "|4672-FOTSD|  0.0|       0.0|  [506.0,89.0]|[0.85042016806722...|\n",
      "|2958-NHPPS|  0.0|       0.0|  [506.0,89.0]|[0.85042016806722...|\n",
      "|3030-YDNRM|  0.0|       1.0| [199.0,375.0]|[0.34668989547038...|\n",
      "|8777-PVYGU|  0.0|       0.0|[2231.0,164.0]|[0.93152400835073...|\n",
      "|7622-FWGEW|  0.0|       0.0|[2231.0,164.0]|[0.93152400835073...|\n",
      "|8129-GMVGI|  0.0|       0.0|[2231.0,164.0]|[0.93152400835073...|\n",
      "|7315-WYOAW|  0.0|       1.0| [199.0,375.0]|[0.34668989547038...|\n",
      "+----------+-----+----------+--------------+--------------------+\n",
      "only showing top 10 rows\n",
      "\n"
     ]
    }
   ],
   "source": [
    "#Decision Tree Classifier:\n",
    "dt=DecisionTreeClassifier(featuresCol=\"features\",labelCol=\"label\",seed=random_state)\n",
    "dt_model=dt.fit(train)\n",
    "dt_predictions=dt_model.transform(test)\n",
    "dt_predictions.select(\"customerID\",\"label\",\"prediction\",\"rawPrediction\",\"probability\").show(10)"
   ]
  },
  {
   "cell_type": "code",
   "execution_count": 58,
   "metadata": {
    "colab": {
     "base_uri": "https://localhost:8080/",
     "height": 34
    },
    "colab_type": "code",
    "executionInfo": {
     "elapsed": 158238,
     "status": "ok",
     "timestamp": 1587390632081,
     "user": {
      "displayName": "Luis Blanco",
      "photoUrl": "https://lh3.googleusercontent.com/a-/AOh14Gg1BCQJfHT2P42mM1KkjEShxXP7ik2JKApJloXCcg=s64",
      "userId": "08327929932520946832"
     },
     "user_tz": -120
    },
    "id": "5K9v8qYWxCmK",
    "outputId": "f550f900-d447-45d4-e1f6-c2540451a1d5"
   },
   "outputs": [
    {
     "name": "stdout",
     "output_type": "stream",
     "text": [
      "Área bajo la curva ROC en Test: 0.4234356843430189\n"
     ]
    }
   ],
   "source": [
    "print(\"Área bajo la curva ROC en Test: \" + str(evaluator.evaluate(dt_predictions)))"
   ]
  },
  {
   "cell_type": "code",
   "execution_count": 59,
   "metadata": {
    "colab": {
     "base_uri": "https://localhost:8080/",
     "height": 430
    },
    "colab_type": "code",
    "executionInfo": {
     "elapsed": 160703,
     "status": "ok",
     "timestamp": 1587390634585,
     "user": {
      "displayName": "Luis Blanco",
      "photoUrl": "https://lh3.googleusercontent.com/a-/AOh14Gg1BCQJfHT2P42mM1KkjEShxXP7ik2JKApJloXCcg=s64",
      "userId": "08327929932520946832"
     },
     "user_tz": -120
    },
    "id": "S9bwLOA1-QoX",
    "outputId": "7a75ac9b-f5be-4665-9565-7e4831de0912"
   },
   "outputs": [
    {
     "name": "stdout",
     "output_type": "stream",
     "text": [
      "Confusion matrix, without normalization\n",
      "[[1085  209]\n",
      " [ 184  283]]\n"
     ]
    },
    {
     "data": {
      "image/png": "[encoded data removed]",
      "text/plain": [
       "<Figure size 432x288 with 2 Axes>"
      ]
     },
     "metadata": {
      "needs_background": "light",
      "tags": []
     },
     "output_type": "display_data"
    },
    {
     "name": "stdout",
     "output_type": "stream",
     "text": [
      "Precision: 0.5752\n",
      "Recall: 0.6060\n",
      "F1: 0.5902\n",
      "Accuracy score: 0.7768\n"
     ]
    }
   ],
   "source": [
    "#Lista con las clases\n",
    "class_temp = dt_predictions.select(\"label\").groupBy(\"label\")\\\n",
    "                        .count().sort('count', ascending=False).toPandas()\n",
    "class_temp = class_temp[\"label\"].values.tolist()\n",
    "\n",
    "#Matriz de confusión:\n",
    "sacar_confusion_matrix(dt_predictions)"
   ]
  },
  {
   "cell_type": "markdown",
   "metadata": {
    "colab_type": "text",
    "id": "lvcNk6Lc-LHZ"
   },
   "source": [
    "<font color=\"Grey\">Vemos que el modelo ha predicho correctamente 1.085 Verdaderos Positivos y 283 Verdaderos Negativos, sin embargo ha errado en 184 Falsos Positivos y 209 Falsos Negativos. El F1 Score es 0.5902."
   ]
  },
  {
   "cell_type": "code",
   "execution_count": 113,
   "metadata": {
    "colab": {
     "base_uri": "https://localhost:8080/",
     "height": 430
    },
    "colab_type": "code",
    "executionInfo": {
     "elapsed": 2436,
     "status": "ok",
     "timestamp": 1587401871666,
     "user": {
      "displayName": "Luis Blanco",
      "photoUrl": "https://lh3.googleusercontent.com/a-/AOh14Gg1BCQJfHT2P42mM1KkjEShxXP7ik2JKApJloXCcg=s64",
      "userId": "08327929932520946832"
     },
     "user_tz": -120
    },
    "id": "tYHCCzJuhgME",
    "outputId": "f7d15302-3876-471d-c874-875dc83dae7c"
   },
   "outputs": [
    {
     "name": "stdout",
     "output_type": "stream",
     "text": [
      "Confusion matrix, without normalization\n",
      "[[3344  536]\n",
      " [ 498  904]]\n"
     ]
    },
    {
     "data": {
      "image/png": "[encoded data removed]",
      "text/plain": [
       "<Figure size 432x288 with 2 Axes>"
      ]
     },
     "metadata": {
      "needs_background": "light",
      "tags": []
     },
     "output_type": "display_data"
    },
    {
     "name": "stdout",
     "output_type": "stream",
     "text": [
      "Precision: 0.6278\n",
      "Recall: 0.6448\n",
      "F1: 0.6362\n",
      "Accuracy score: 0.8042\n"
     ]
    }
   ],
   "source": [
    "#Calculamos la matriz de las prediciones en Train para ver si hay overfitting:\n",
    "dt_predictions_train = dt_model.transform(train)\n",
    "\n",
    "#Lista con las clases\n",
    "class_temp = dt_predictions_train.select(\"label\").groupBy(\"label\")\\\n",
    "                        .count().sort('count', ascending=False).toPandas()\n",
    "class_temp = class_temp[\"label\"].values.tolist()\n",
    "\n",
    "#Matriz de confusión:\n",
    "sacar_confusion_matrix(dt_predictions_train)"
   ]
  },
  {
   "cell_type": "markdown",
   "metadata": {
    "colab_type": "text",
    "id": "XiTkSG9rhpS6"
   },
   "source": [
    "<font color=\"Grey\">Estamos en los mismos valores en las métricas, no hay overfitting."
   ]
  },
  {
   "cell_type": "code",
   "execution_count": 60,
   "metadata": {
    "colab": {
     "base_uri": "https://localhost:8080/",
     "height": 289
    },
    "colab_type": "code",
    "executionInfo": {
     "elapsed": 163497,
     "status": "ok",
     "timestamp": 1587390637430,
     "user": {
      "displayName": "Luis Blanco",
      "photoUrl": "https://lh3.googleusercontent.com/a-/AOh14Gg1BCQJfHT2P42mM1KkjEShxXP7ik2JKApJloXCcg=s64",
      "userId": "08327929932520946832"
     },
     "user_tz": -120
    },
    "id": "aVz39oPgv-Gy",
    "outputId": "580970d9-6932-4a92-e5dd-ba591dae6335"
   },
   "outputs": [
    {
     "name": "stdout",
     "output_type": "stream",
     "text": [
      "+----------+-----+----------+--------------------+--------------------+\n",
      "|customerID|label|prediction|       rawPrediction|         probability|\n",
      "+----------+-----+----------+--------------------+--------------------+\n",
      "|6980-IMXXE|  0.0|       0.0|[18.8869540531172...|[0.94434770265586...|\n",
      "|8756-RDDLT|  0.0|       0.0|[16.0091081533903...|[0.80045540766951...|\n",
      "|3190-ITQXP|  0.0|       0.0|[18.8869540531172...|[0.94434770265586...|\n",
      "|4672-FOTSD|  0.0|       0.0|[16.3689383866154...|[0.81844691933077...|\n",
      "|2958-NHPPS|  0.0|       0.0|[16.5813084787783...|[0.82906542393891...|\n",
      "|3030-YDNRM|  0.0|       1.0|[7.26675817691146...|[0.36333790884557...|\n",
      "|8777-PVYGU|  0.0|       0.0|[17.8953000018703...|[0.89476500009351...|\n",
      "|7622-FWGEW|  0.0|       0.0|[18.5044857394624...|[0.92522428697312...|\n",
      "|8129-GMVGI|  0.0|       0.0|[18.8869540531172...|[0.94434770265586...|\n",
      "|7315-WYOAW|  0.0|       0.0|[11.4502364679294...|[0.57251182339647...|\n",
      "+----------+-----+----------+--------------------+--------------------+\n",
      "only showing top 10 rows\n",
      "\n"
     ]
    }
   ],
   "source": [
    "#Random Forest Classifier:\n",
    "rf = RandomForestClassifier(featuresCol=\"features\",labelCol=\"label\",seed=random_state)\n",
    "rf_model = rf.fit(train)\n",
    "rf_predictions = rf_model.transform(test)\n",
    "rf_predictions.select(\"customerID\",\"label\",\"prediction\",\"rawPrediction\",\"probability\").show(10)"
   ]
  },
  {
   "cell_type": "code",
   "execution_count": 61,
   "metadata": {
    "colab": {
     "base_uri": "https://localhost:8080/",
     "height": 34
    },
    "colab_type": "code",
    "executionInfo": {
     "elapsed": 164223,
     "status": "ok",
     "timestamp": 1587390638187,
     "user": {
      "displayName": "Luis Blanco",
      "photoUrl": "https://lh3.googleusercontent.com/a-/AOh14Gg1BCQJfHT2P42mM1KkjEShxXP7ik2JKApJloXCcg=s64",
      "userId": "08327929932520946832"
     },
     "user_tz": -120
    },
    "id": "5_KXBRRAv-Dj",
    "outputId": "f8d4c88f-8669-4393-f1a7-695c07b3f647"
   },
   "outputs": [
    {
     "name": "stdout",
     "output_type": "stream",
     "text": [
      "Área bajo la curva ROC en Test: 0.6097589810900638\n"
     ]
    }
   ],
   "source": [
    "print(\"Área bajo la curva ROC en Test: \" + str(evaluator.evaluate(rf_predictions)))"
   ]
  },
  {
   "cell_type": "code",
   "execution_count": 62,
   "metadata": {
    "colab": {
     "base_uri": "https://localhost:8080/",
     "height": 430
    },
    "colab_type": "code",
    "executionInfo": {
     "elapsed": 166395,
     "status": "ok",
     "timestamp": 1587390640390,
     "user": {
      "displayName": "Luis Blanco",
      "photoUrl": "https://lh3.googleusercontent.com/a-/AOh14Gg1BCQJfHT2P42mM1KkjEShxXP7ik2JKApJloXCcg=s64",
      "userId": "08327929932520946832"
     },
     "user_tz": -120
    },
    "id": "Sq15VUIiv9uy",
    "outputId": "1b3b6ae9-7127-410a-d726-ba526f023e54"
   },
   "outputs": [
    {
     "name": "stdout",
     "output_type": "stream",
     "text": [
      "Confusion matrix, without normalization\n",
      "[[1206   88]\n",
      " [ 291  176]]\n"
     ]
    },
    {
     "data": {
      "image/png": "[encoded data removed]",
      "text/plain": [
       "<Figure size 432x288 with 2 Axes>"
      ]
     },
     "metadata": {
      "needs_background": "light",
      "tags": []
     },
     "output_type": "display_data"
    },
    {
     "name": "stdout",
     "output_type": "stream",
     "text": [
      "Precision: 0.6667\n",
      "Recall: 0.3769\n",
      "F1: 0.4815\n",
      "Accuracy score: 0.7848\n"
     ]
    }
   ],
   "source": [
    "#Lista con las clases\n",
    "class_temp = rf_predictions.select(\"label\").groupBy(\"label\")\\\n",
    "                        .count().sort('count', ascending=False).toPandas()\n",
    "class_temp = class_temp[\"label\"].values.tolist()\n",
    "\n",
    "#Matriz de confusión:\n",
    "sacar_confusion_matrix(rf_predictions)"
   ]
  },
  {
   "cell_type": "markdown",
   "metadata": {
    "colab_type": "text",
    "id": "IN752YLS_88R"
   },
   "source": [
    "<font color=\"Grey\">Vemos que el modelo ha predicho correctamente 1.206 Verdaderos Negativos y 176 Verdaderos Positivos, sin embargo ha errado en 291 Falsos Negativos y 88 Falsos Positivos. El F1 Score es 0.4815."
   ]
  },
  {
   "cell_type": "code",
   "execution_count": 114,
   "metadata": {
    "colab": {
     "base_uri": "https://localhost:8080/",
     "height": 430
    },
    "colab_type": "code",
    "executionInfo": {
     "elapsed": 2393,
     "status": "ok",
     "timestamp": 1587401932755,
     "user": {
      "displayName": "Luis Blanco",
      "photoUrl": "https://lh3.googleusercontent.com/a-/AOh14Gg1BCQJfHT2P42mM1KkjEShxXP7ik2JKApJloXCcg=s64",
      "userId": "08327929932520946832"
     },
     "user_tz": -120
    },
    "id": "zzA3pBBrhr6Q",
    "outputId": "b644c4a8-942f-45a1-8a81-4ac96967e5fd"
   },
   "outputs": [
    {
     "name": "stdout",
     "output_type": "stream",
     "text": [
      "Confusion matrix, without normalization\n",
      "[[3631  249]\n",
      " [ 785  617]]\n"
     ]
    },
    {
     "data": {
      "image/png": "[encoded data removed]",
      "text/plain": [
       "<Figure size 432x288 with 2 Axes>"
      ]
     },
     "metadata": {
      "needs_background": "light",
      "tags": []
     },
     "output_type": "display_data"
    },
    {
     "name": "stdout",
     "output_type": "stream",
     "text": [
      "Precision: 0.7125\n",
      "Recall: 0.4401\n",
      "F1: 0.5441\n",
      "Accuracy score: 0.8042\n"
     ]
    }
   ],
   "source": [
    "#Calculamos la matriz de las prediciones en Train para ver si hay overfitting:\n",
    "rf_predictions_train = rf_model.transform(train)\n",
    "\n",
    "#Lista con las clases\n",
    "class_temp = rf_predictions_train.select(\"label\").groupBy(\"label\")\\\n",
    "                        .count().sort('count', ascending=False).toPandas()\n",
    "class_temp = class_temp[\"label\"].values.tolist()\n",
    "\n",
    "#Matriz de confusión:\n",
    "sacar_confusion_matrix(rf_predictions_train)"
   ]
  },
  {
   "cell_type": "markdown",
   "metadata": {
    "colab_type": "text",
    "id": "_cT7bCBxh72_"
   },
   "source": [
    "<font color=\"Grey\">Estamos en los mismos valores en las métricas, no hay overfitting."
   ]
  },
  {
   "cell_type": "code",
   "execution_count": 63,
   "metadata": {
    "colab": {
     "base_uri": "https://localhost:8080/",
     "height": 289
    },
    "colab_type": "code",
    "executionInfo": {
     "elapsed": 180325,
     "status": "ok",
     "timestamp": 1587390654351,
     "user": {
      "displayName": "Luis Blanco",
      "photoUrl": "https://lh3.googleusercontent.com/a-/AOh14Gg1BCQJfHT2P42mM1KkjEShxXP7ik2JKApJloXCcg=s64",
      "userId": "08327929932520946832"
     },
     "user_tz": -120
    },
    "id": "cJMleDSYv9tR",
    "outputId": "a7a4a03c-c84c-4b1a-aead-3ca2a110a445"
   },
   "outputs": [
    {
     "name": "stdout",
     "output_type": "stream",
     "text": [
      "+----------+-----+----------+--------------------+--------------------+\n",
      "|customerID|label|prediction|       rawPrediction|         probability|\n",
      "+----------+-----+----------+--------------------+--------------------+\n",
      "|6980-IMXXE|  0.0|       0.0|[1.50978385464000...|[0.95345034297905...|\n",
      "|8756-RDDLT|  0.0|       0.0|[0.62595473386875...|[0.77763022415469...|\n",
      "|3190-ITQXP|  0.0|       0.0|[1.50113920164482...|[0.95267695140090...|\n",
      "|4672-FOTSD|  0.0|       0.0|[0.97033604962701...|[0.87442596205071...|\n",
      "|2958-NHPPS|  0.0|       0.0|[1.18065865827640...|[0.91382959424905...|\n",
      "|3030-YDNRM|  0.0|       1.0|[-0.1597198886740...|[0.42081228446850...|\n",
      "|8777-PVYGU|  0.0|       0.0|[1.34568995203699...|[0.93651607152824...|\n",
      "|7622-FWGEW|  0.0|       0.0|[1.37418012758872...|[0.93982067636740...|\n",
      "|8129-GMVGI|  0.0|       0.0|[1.50113920164482...|[0.95267695140090...|\n",
      "|7315-WYOAW|  0.0|       1.0|[-0.5430827997283...|[0.25234100845596...|\n",
      "+----------+-----+----------+--------------------+--------------------+\n",
      "only showing top 10 rows\n",
      "\n"
     ]
    }
   ],
   "source": [
    "#Gradient Boosting Tree Classifier\n",
    "gbt=GBTClassifier(featuresCol=\"features\",labelCol=\"label\",seed=random_state)\n",
    "gbt_model=gbt.fit(train)\n",
    "gbt_predictions=gbt_model.transform(test)\n",
    "gbt_predictions.select(\"customerID\",\"label\",\"prediction\",\"rawPrediction\",\"probability\").show(10)"
   ]
  },
  {
   "cell_type": "code",
   "execution_count": 64,
   "metadata": {
    "colab": {
     "base_uri": "https://localhost:8080/",
     "height": 34
    },
    "colab_type": "code",
    "executionInfo": {
     "elapsed": 180471,
     "status": "ok",
     "timestamp": 1587390654526,
     "user": {
      "displayName": "Luis Blanco",
      "photoUrl": "https://lh3.googleusercontent.com/a-/AOh14Gg1BCQJfHT2P42mM1KkjEShxXP7ik2JKApJloXCcg=s64",
      "userId": "08327929932520946832"
     },
     "user_tz": -120
    },
    "id": "CFDwwJbmv9re",
    "outputId": "7f017d71-bcd9-49f0-82b0-c489e7da35fb"
   },
   "outputs": [
    {
     "name": "stdout",
     "output_type": "stream",
     "text": [
      "Área bajo la curva ROC en Test: 0.6296527222064328\n"
     ]
    }
   ],
   "source": [
    "print(\"Área bajo la curva ROC en Test: \" + str(evaluator.evaluate(gbt_predictions)))"
   ]
  },
  {
   "cell_type": "code",
   "execution_count": 65,
   "metadata": {
    "colab": {
     "base_uri": "https://localhost:8080/",
     "height": 430
    },
    "colab_type": "code",
    "executionInfo": {
     "elapsed": 182926,
     "status": "ok",
     "timestamp": 1587390657011,
     "user": {
      "displayName": "Luis Blanco",
      "photoUrl": "https://lh3.googleusercontent.com/a-/AOh14Gg1BCQJfHT2P42mM1KkjEShxXP7ik2JKApJloXCcg=s64",
      "userId": "08327929932520946832"
     },
     "user_tz": -120
    },
    "id": "nHP83RGTv9m3",
    "outputId": "eb11b43c-fd05-4ea1-ce9b-e12d8ac1f2a9"
   },
   "outputs": [
    {
     "name": "stdout",
     "output_type": "stream",
     "text": [
      "Confusion matrix, without normalization\n",
      "[[1136  158]\n",
      " [ 215  252]]\n"
     ]
    },
    {
     "data": {
      "image/png": "[encoded data removed]",
      "text/plain": [
       "<Figure size 432x288 with 2 Axes>"
      ]
     },
     "metadata": {
      "needs_background": "light",
      "tags": []
     },
     "output_type": "display_data"
    },
    {
     "name": "stdout",
     "output_type": "stream",
     "text": [
      "Precision: 0.6146\n",
      "Recall: 0.5396\n",
      "F1: 0.5747\n",
      "Accuracy score: 0.7882\n"
     ]
    }
   ],
   "source": [
    "#Lista con las clases\n",
    "class_temp = gbt_predictions.select(\"label\").groupBy(\"label\")\\\n",
    "                        .count().sort('count', ascending=False).toPandas()\n",
    "class_temp = class_temp[\"label\"].values.tolist()\n",
    "\n",
    "#Matriz de confusión:\n",
    "sacar_confusion_matrix(gbt_predictions)"
   ]
  },
  {
   "cell_type": "markdown",
   "metadata": {
    "colab_type": "text",
    "id": "oOLRmrCLCDuI"
   },
   "source": [
    "<font color=\"Grey\">Vemos que el modelo ha predicho correctamente 1.136 Verdaderos Negativos y 252 Verdaderos Positivos, sin embargo ha errado en 215 Falsos Negativos y 158 Falsos Positivos. El F1 Score es 0.5747."
   ]
  },
  {
   "cell_type": "code",
   "execution_count": 115,
   "metadata": {
    "colab": {
     "base_uri": "https://localhost:8080/",
     "height": 430
    },
    "colab_type": "code",
    "executionInfo": {
     "elapsed": 2498,
     "status": "ok",
     "timestamp": 1587402000945,
     "user": {
      "displayName": "Luis Blanco",
      "photoUrl": "https://lh3.googleusercontent.com/a-/AOh14Gg1BCQJfHT2P42mM1KkjEShxXP7ik2JKApJloXCcg=s64",
      "userId": "08327929932520946832"
     },
     "user_tz": -120
    },
    "id": "NZM05qnoh_VZ",
    "outputId": "6797a070-f3d7-4623-cc8e-bec1f3464cc0"
   },
   "outputs": [
    {
     "name": "stdout",
     "output_type": "stream",
     "text": [
      "Confusion matrix, without normalization\n",
      "[[3540  340]\n",
      " [ 561  841]]\n"
     ]
    },
    {
     "data": {
      "image/png": "[encoded data removed]",
      "text/plain": [
       "<Figure size 432x288 with 2 Axes>"
      ]
     },
     "metadata": {
      "needs_background": "light",
      "tags": []
     },
     "output_type": "display_data"
    },
    {
     "name": "stdout",
     "output_type": "stream",
     "text": [
      "Precision: 0.7121\n",
      "Recall: 0.5999\n",
      "F1: 0.6512\n",
      "Accuracy score: 0.8294\n"
     ]
    }
   ],
   "source": [
    "#Calculamos la matriz de las prediciones en Train para ver si hay overfitting:\n",
    "gbt_predictions_train = gbt_model.transform(train)\n",
    "\n",
    "#Lista con las clases\n",
    "class_temp = gbt_predictions_train.select(\"label\").groupBy(\"label\")\\\n",
    "                        .count().sort('count', ascending=False).toPandas()\n",
    "class_temp = class_temp[\"label\"].values.tolist()\n",
    "\n",
    "#Matriz de confusión:\n",
    "sacar_confusion_matrix(gbt_predictions_train)"
   ]
  },
  {
   "cell_type": "markdown",
   "metadata": {
    "colab_type": "text",
    "id": "Tv6b-61-iJTs"
   },
   "source": [
    "<font color=\"Grey\">Estamos en los mismos valores en las métricas, no hay overfitting, quizás un poco."
   ]
  },
  {
   "cell_type": "code",
   "execution_count": 66,
   "metadata": {
    "colab": {
     "base_uri": "https://localhost:8080/",
     "height": 289
    },
    "colab_type": "code",
    "executionInfo": {
     "elapsed": 183634,
     "status": "ok",
     "timestamp": 1587390657751,
     "user": {
      "displayName": "Luis Blanco",
      "photoUrl": "https://lh3.googleusercontent.com/a-/AOh14Gg1BCQJfHT2P42mM1KkjEShxXP7ik2JKApJloXCcg=s64",
      "userId": "08327929932520946832"
     },
     "user_tz": -120
    },
    "id": "DQLNxY9xv9ky",
    "outputId": "b7079a1a-ff12-4904-ee5c-82c3c9b92937"
   },
   "outputs": [
    {
     "name": "stdout",
     "output_type": "stream",
     "text": [
      "+----------+-----+----------+--------------------+--------------------+\n",
      "|customerID|label|prediction|       rawPrediction|         probability|\n",
      "+----------+-----+----------+--------------------+--------------------+\n",
      "|6980-IMXXE|  0.0|       0.0|[-464.54203699227...|[1.0,1.1678531170...|\n",
      "|8756-RDDLT|  0.0|       0.0|[-686.38443733550...|[1.0,2.6768771669...|\n",
      "|3190-ITQXP|  0.0|       0.0|[-344.82564822544...|[0.99999999980056...|\n",
      "|4672-FOTSD|  0.0|       1.0|[-471.07346313827...|[7.87907521394083...|\n",
      "|2958-NHPPS|  0.0|       1.0|[-256.83808387440...|[0.26972666993024...|\n",
      "|3030-YDNRM|  0.0|       1.0|[-471.60463980159...|[1.73549249207368...|\n",
      "|8777-PVYGU|  0.0|       0.0|[-712.66636655129...|[1.0,6.1497541088...|\n",
      "|7622-FWGEW|  0.0|       0.0|[-897.38274038065...|[1.0,1.2658175924...|\n",
      "|8129-GMVGI|  0.0|       0.0|[-395.01432435010...|[0.99999999999988...|\n",
      "|7315-WYOAW|  0.0|       1.0|[-613.34706762678...|[1.65739941060973...|\n",
      "+----------+-----+----------+--------------------+--------------------+\n",
      "only showing top 10 rows\n",
      "\n"
     ]
    }
   ],
   "source": [
    "#Naive Bayes Classifiers\n",
    "nb=NaiveBayes(featuresCol=\"features\", labelCol=\"label\")\n",
    "nb_model=nb.fit(train)\n",
    "nb_predictions=nb_model.transform(test)\n",
    "nb_predictions.select(\"customerID\",\"label\",\"prediction\",\"rawPrediction\",\"probability\").show(10)"
   ]
  },
  {
   "cell_type": "code",
   "execution_count": 67,
   "metadata": {
    "colab": {
     "base_uri": "https://localhost:8080/",
     "height": 34
    },
    "colab_type": "code",
    "executionInfo": {
     "elapsed": 184042,
     "status": "ok",
     "timestamp": 1587390658190,
     "user": {
      "displayName": "Luis Blanco",
      "photoUrl": "https://lh3.googleusercontent.com/a-/AOh14Gg1BCQJfHT2P42mM1KkjEShxXP7ik2JKApJloXCcg=s64",
      "userId": "08327929932520946832"
     },
     "user_tz": -120
    },
    "id": "7cDzt82qv9go",
    "outputId": "ad836105-6eaf-4017-8333-1302ff568ac9"
   },
   "outputs": [
    {
     "name": "stdout",
     "output_type": "stream",
     "text": [
      "Área bajo la curva ROC en Test: 0.2847692691651875\n"
     ]
    }
   ],
   "source": [
    "print(\"Área bajo la curva ROC en Test: \" + str(evaluator.evaluate(nb_predictions)))"
   ]
  },
  {
   "cell_type": "code",
   "execution_count": 68,
   "metadata": {
    "colab": {
     "base_uri": "https://localhost:8080/",
     "height": 430
    },
    "colab_type": "code",
    "executionInfo": {
     "elapsed": 186472,
     "status": "ok",
     "timestamp": 1587390660649,
     "user": {
      "displayName": "Luis Blanco",
      "photoUrl": "https://lh3.googleusercontent.com/a-/AOh14Gg1BCQJfHT2P42mM1KkjEShxXP7ik2JKApJloXCcg=s64",
      "userId": "08327929932520946832"
     },
     "user_tz": -120
    },
    "id": "_-9tEFvGv9ck",
    "outputId": "48c196eb-4c2b-4235-9d78-84e4746659e7"
   },
   "outputs": [
    {
     "name": "stdout",
     "output_type": "stream",
     "text": [
      "Confusion matrix, without normalization\n",
      "[[817 477]\n",
      " [119 348]]\n"
     ]
    },
    {
     "data": {
      "image/png": "[encoded data removed]",
      "text/plain": [
       "<Figure size 432x288 with 2 Axes>"
      ]
     },
     "metadata": {
      "needs_background": "light",
      "tags": []
     },
     "output_type": "display_data"
    },
    {
     "name": "stdout",
     "output_type": "stream",
     "text": [
      "Precision: 0.4218\n",
      "Recall: 0.7452\n",
      "F1: 0.5387\n",
      "Accuracy score: 0.6616\n"
     ]
    }
   ],
   "source": [
    "#Lista con las clases\n",
    "class_temp = nb_predictions.select(\"label\").groupBy(\"label\")\\\n",
    "                        .count().sort('count', ascending=False).toPandas()\n",
    "class_temp = class_temp[\"label\"].values.tolist()\n",
    "\n",
    "#Matriz de confusión:\n",
    "sacar_confusion_matrix(nb_predictions)"
   ]
  },
  {
   "cell_type": "markdown",
   "metadata": {
    "colab_type": "text",
    "id": "xCbMUo8vG1Mx"
   },
   "source": [
    "<font color=\"Grey\">Vemos que el modelo ha predicho correctamente 817 Verdaderos Negativos y 348 Verdaderos Positivos, sin embargo ha errado en 119 Falsos Negativos y 477 Falsos Positivos. El F1 Score es 0.5387."
   ]
  },
  {
   "cell_type": "code",
   "execution_count": 116,
   "metadata": {
    "colab": {
     "base_uri": "https://localhost:8080/",
     "height": 430
    },
    "colab_type": "code",
    "executionInfo": {
     "elapsed": 2548,
     "status": "ok",
     "timestamp": 1587402057979,
     "user": {
      "displayName": "Luis Blanco",
      "photoUrl": "https://lh3.googleusercontent.com/a-/AOh14Gg1BCQJfHT2P42mM1KkjEShxXP7ik2JKApJloXCcg=s64",
      "userId": "08327929932520946832"
     },
     "user_tz": -120
    },
    "id": "JghF5saOiOHl",
    "outputId": "0a51b399-013d-4077-8779-a6f35b353c37"
   },
   "outputs": [
    {
     "name": "stdout",
     "output_type": "stream",
     "text": [
      "Confusion matrix, without normalization\n",
      "[[2430 1450]\n",
      " [ 354 1048]]\n"
     ]
    },
    {
     "data": {
      "image/png": "[encoded data removed]",
      "text/plain": [
       "<Figure size 432x288 with 2 Axes>"
      ]
     },
     "metadata": {
      "needs_background": "light",
      "tags": []
     },
     "output_type": "display_data"
    },
    {
     "name": "stdout",
     "output_type": "stream",
     "text": [
      "Precision: 0.4195\n",
      "Recall: 0.7475\n",
      "F1: 0.5374\n",
      "Accuracy score: 0.6585\n"
     ]
    }
   ],
   "source": [
    "#Calculamos la matriz de las prediciones en Train para ver si hay overfitting:\n",
    "nb_predictions_train = nb_model.transform(train)\n",
    "\n",
    "#Lista con las clases\n",
    "class_temp = nb_predictions_train.select(\"label\").groupBy(\"label\")\\\n",
    "                        .count().sort('count', ascending=False).toPandas()\n",
    "class_temp = class_temp[\"label\"].values.tolist()\n",
    "\n",
    "#Matriz de confusión:\n",
    "sacar_confusion_matrix(nb_predictions_train)"
   ]
  },
  {
   "cell_type": "markdown",
   "metadata": {
    "colab_type": "text",
    "id": "aqKJrK3EiWDx"
   },
   "source": [
    "<font color=\"Grey\">Estamos en los mismos valores en las métricas, no hay overfitting."
   ]
  },
  {
   "cell_type": "code",
   "execution_count": 69,
   "metadata": {
    "colab": {
     "base_uri": "https://localhost:8080/",
     "height": 289
    },
    "colab_type": "code",
    "executionInfo": {
     "elapsed": 223534,
     "status": "ok",
     "timestamp": 1587390697739,
     "user": {
      "displayName": "Luis Blanco",
      "photoUrl": "https://lh3.googleusercontent.com/a-/AOh14Gg1BCQJfHT2P42mM1KkjEShxXP7ik2JKApJloXCcg=s64",
      "userId": "08327929932520946832"
     },
     "user_tz": -120
    },
    "id": "cjqLup-fAYC6",
    "outputId": "3761e07a-bf26-456c-95cf-ffe1be93a868"
   },
   "outputs": [
    {
     "name": "stdout",
     "output_type": "stream",
     "text": [
      "+----------+-----+----------+--------------------+\n",
      "|customerID|label|prediction|       rawPrediction|\n",
      "+----------+-----+----------+--------------------+\n",
      "|6980-IMXXE|  0.0|       0.0|[3.22267496409107...|\n",
      "|8756-RDDLT|  0.0|       0.0|[2.08521655351328...|\n",
      "|3190-ITQXP|  0.0|       0.0|[2.57043112102680...|\n",
      "|4672-FOTSD|  0.0|       0.0|[1.23233522308392...|\n",
      "|2958-NHPPS|  0.0|       0.0|[1.43815044205837...|\n",
      "|3030-YDNRM|  0.0|       1.0|[-0.8301176938240...|\n",
      "|8777-PVYGU|  0.0|       0.0|[2.45024238781440...|\n",
      "|7622-FWGEW|  0.0|       0.0|[2.72024407953844...|\n",
      "|8129-GMVGI|  0.0|       0.0|[2.78940378612382...|\n",
      "|7315-WYOAW|  0.0|       1.0|[-0.3991398011362...|\n",
      "+----------+-----+----------+--------------------+\n",
      "only showing top 10 rows\n",
      "\n"
     ]
    }
   ],
   "source": [
    "#Linear Support Vector Machine\n",
    "lsvc=LinearSVC(featuresCol=\"features\", labelCol=\"label\")\n",
    "lsvc_model=lsvc.fit(train)\n",
    "lsvc_predictions=lsvc_model.transform(test)\n",
    "lsvc_predictions.select(\"customerID\",\"label\",\"prediction\",\"rawPrediction\").show(10)"
   ]
  },
  {
   "cell_type": "code",
   "execution_count": 70,
   "metadata": {
    "colab": {
     "base_uri": "https://localhost:8080/",
     "height": 34
    },
    "colab_type": "code",
    "executionInfo": {
     "elapsed": 223695,
     "status": "ok",
     "timestamp": 1587390697932,
     "user": {
      "displayName": "Luis Blanco",
      "photoUrl": "https://lh3.googleusercontent.com/a-/AOh14Gg1BCQJfHT2P42mM1KkjEShxXP7ik2JKApJloXCcg=s64",
      "userId": "08327929932520946832"
     },
     "user_tz": -120
    },
    "id": "0Qm7b14wAX-4",
    "outputId": "bb2e824a-a535-4522-ffdc-1a4c01989174"
   },
   "outputs": [
    {
     "name": "stdout",
     "output_type": "stream",
     "text": [
      "Área bajo la curva ROC en Test: 0.6225960888574547\n"
     ]
    }
   ],
   "source": [
    "print(\"Área bajo la curva ROC en Test: \" + str(evaluator.evaluate(lsvc_predictions)))"
   ]
  },
  {
   "cell_type": "code",
   "execution_count": 71,
   "metadata": {
    "colab": {
     "base_uri": "https://localhost:8080/",
     "height": 430
    },
    "colab_type": "code",
    "executionInfo": {
     "elapsed": 225965,
     "status": "ok",
     "timestamp": 1587390700239,
     "user": {
      "displayName": "Luis Blanco",
      "photoUrl": "https://lh3.googleusercontent.com/a-/AOh14Gg1BCQJfHT2P42mM1KkjEShxXP7ik2JKApJloXCcg=s64",
      "userId": "08327929932520946832"
     },
     "user_tz": -120
    },
    "id": "j_VL1i0LAX8g",
    "outputId": "8dd43fb1-b9ed-4438-f7b7-a8effaccc373"
   },
   "outputs": [
    {
     "name": "stdout",
     "output_type": "stream",
     "text": [
      "Confusion matrix, without normalization\n",
      "[[1148  146]\n",
      " [ 216  251]]\n"
     ]
    },
    {
     "data": {
      "image/png": "[encoded data removed]",
      "text/plain": [
       "<Figure size 432x288 with 2 Axes>"
      ]
     },
     "metadata": {
      "needs_background": "light",
      "tags": []
     },
     "output_type": "display_data"
    },
    {
     "name": "stdout",
     "output_type": "stream",
     "text": [
      "Precision: 0.6322\n",
      "Recall: 0.5375\n",
      "F1: 0.5810\n",
      "Accuracy score: 0.7944\n"
     ]
    }
   ],
   "source": [
    "#Lista con las clases\n",
    "class_temp = lsvc_predictions.select(\"label\").groupBy(\"label\")\\\n",
    "                        .count().sort('count', ascending=False).toPandas()\n",
    "class_temp = class_temp[\"label\"].values.tolist()\n",
    "\n",
    "#Matriz de confusión:\n",
    "sacar_confusion_matrix(lsvc_predictions)"
   ]
  },
  {
   "cell_type": "markdown",
   "metadata": {
    "colab_type": "text",
    "id": "eZ4iS1xUP87H"
   },
   "source": [
    "<font color=\"Grey\">Vemos que el modelo ha predicho correctamente 1.148 Verdaderos Negativos y 251 Verdaderos Positivos, sin embargo ha errado en 216 Falsos Negativos y 146 Falsos Positivos. El F1 Score es 0.5810."
   ]
  },
  {
   "cell_type": "code",
   "execution_count": 117,
   "metadata": {
    "colab": {
     "base_uri": "https://localhost:8080/",
     "height": 430
    },
    "colab_type": "code",
    "executionInfo": {
     "elapsed": 3311,
     "status": "ok",
     "timestamp": 1587402113981,
     "user": {
      "displayName": "Luis Blanco",
      "photoUrl": "https://lh3.googleusercontent.com/a-/AOh14Gg1BCQJfHT2P42mM1KkjEShxXP7ik2JKApJloXCcg=s64",
      "userId": "08327929932520946832"
     },
     "user_tz": -120
    },
    "id": "HV5V-UIoiaMK",
    "outputId": "54c6691b-ca03-4a02-c8e3-3ef14f2480e1"
   },
   "outputs": [
    {
     "name": "stdout",
     "output_type": "stream",
     "text": [
      "Confusion matrix, without normalization\n",
      "[[3472  408]\n",
      " [ 619  783]]\n"
     ]
    },
    {
     "data": {
      "image/png": "[encoded data removed]",
      "text/plain": [
       "<Figure size 432x288 with 2 Axes>"
      ]
     },
     "metadata": {
      "needs_background": "light",
      "tags": []
     },
     "output_type": "display_data"
    },
    {
     "name": "stdout",
     "output_type": "stream",
     "text": [
      "Precision: 0.6574\n",
      "Recall: 0.5585\n",
      "F1: 0.6039\n",
      "Accuracy score: 0.8056\n"
     ]
    }
   ],
   "source": [
    "#Calculamos la matriz de las prediciones en Train para ver si hay overfitting:\n",
    "lsvc_predictions_train = lsvc_model.transform(train)\n",
    "\n",
    "#Lista con las clases\n",
    "class_temp = lsvc_predictions_train.select(\"label\").groupBy(\"label\")\\\n",
    "                        .count().sort('count', ascending=False).toPandas()\n",
    "class_temp = class_temp[\"label\"].values.tolist()\n",
    "\n",
    "#Matriz de confusión:\n",
    "sacar_confusion_matrix(lsvc_predictions_train)"
   ]
  },
  {
   "cell_type": "markdown",
   "metadata": {
    "colab_type": "text",
    "id": "23WkRlHhikpM"
   },
   "source": [
    "<font color=\"Grey\">Estamos en los mismos valores en las métricas, no hay overfitting."
   ]
  },
  {
   "cell_type": "markdown",
   "metadata": {
    "colab_type": "text",
    "id": "FoAH36qGdoVS"
   },
   "source": [
    "<font color=\"Grey\">Según vemos, el modelo que mejor F1 Score ha obtenido ha sido:  \n",
    "**Decision Tree Classifier con F1 = 0.5902**"
   ]
  },
  {
   "cell_type": "markdown",
   "metadata": {
    "colab_type": "text",
    "id": "-p32T9CIv-sx"
   },
   "source": [
    "# <font color=\"grey\">6. ¿Se pueden mejorar los resultado haciendo tunning de los hiperparámetros? Demuéstralo"
   ]
  },
  {
   "cell_type": "markdown",
   "metadata": {
    "colab_type": "text",
    "id": "Q6nDozLSwJ9L"
   },
   "source": [
    "<font color=\"Grey\"> Si ofrecemos rangos de valores de los hiperparámetros en nuestros modelos, tendremos más posibilidades de encontrar un modelo que prediga mejor los resultados. Por ello, vamos a realizar mejoras tanto en los hiperparámetros de cada modelo, así como en la forma de entrenar, mediante Cross Validation, con lo que dividiremos nuestro train en tantas partes como elijamos (\"numfolds\"), utilizando todas menos una para entrar y la restante para validar resultados, después, cogerá otra parte para validar y el resto para entrenar, así hasta que la parte de validación haya sido usada en todas las partes divididas. De esta forma, el entrenamiento es más efectivo, aunque corremos el riesgo de provocar un sobreentrenamiento.  \n",
    "Vamos a ver si mejoramos los modelos anteriores:"
   ]
  },
  {
   "cell_type": "code",
   "execution_count": 72,
   "metadata": {
    "colab": {
     "base_uri": "https://localhost:8080/",
     "height": 34
    },
    "colab_type": "code",
    "executionInfo": {
     "elapsed": 129532,
     "status": "ok",
     "timestamp": 1587391068472,
     "user": {
      "displayName": "Luis Blanco",
      "photoUrl": "https://lh3.googleusercontent.com/a-/AOh14Gg1BCQJfHT2P42mM1KkjEShxXP7ik2JKApJloXCcg=s64",
      "userId": "08327929932520946832"
     },
     "user_tz": -120
    },
    "id": "KeVMtUsVrsHh",
    "outputId": "7f6ac80f-75b5-48cd-ea9c-b42738fa5004"
   },
   "outputs": [
    {
     "name": "stdout",
     "output_type": "stream",
     "text": [
      "CrossValidatorModel_483dc8a9bb0f\n"
     ]
    }
   ],
   "source": [
    "#Logistic Regression CV:\n",
    "lr=LogisticRegression(featuresCol=\"features\", labelCol=\"label\")\n",
    "#Añadimos rangos de hiperparámetros para el modelo:\n",
    "lr_paramGrid = (ParamGridBuilder()\n",
    "            .addGrid(lr.regParam, [0.1, 0.01]) \n",
    "            .addGrid(lr.fitIntercept, [False,True])\n",
    "            .addGrid(lr.elasticNetParam, [0.0, 0.5])\n",
    "            .addGrid(lr.maxIter, [80, 100])\n",
    "            .build()\n",
    ")\n",
    "\n",
    "#CrossValidator 3 folds:\n",
    "lr_cross = CrossValidator(estimator = lr,\n",
    "                          estimatorParamMaps = lr_paramGrid,\n",
    "                          evaluator = evaluator,\n",
    "                          numFolds = 3)\n",
    "\n",
    "#Activamos la Validación Cruzada:\n",
    "lrcv_model = lr_cross.fit(train)\n",
    "print(lrcv_model)\n",
    "\n",
    "#Calculamos nuestras predicciones (en test):\n",
    "lrcv_predictions = lrcv_model.transform(test)"
   ]
  },
  {
   "cell_type": "code",
   "execution_count": 73,
   "metadata": {
    "colab": {
     "base_uri": "https://localhost:8080/",
     "height": 359
    },
    "colab_type": "code",
    "executionInfo": {
     "elapsed": 127687,
     "status": "ok",
     "timestamp": 1587391068475,
     "user": {
      "displayName": "Luis Blanco",
      "photoUrl": "https://lh3.googleusercontent.com/a-/AOh14Gg1BCQJfHT2P42mM1KkjEShxXP7ik2JKApJloXCcg=s64",
      "userId": "08327929932520946832"
     },
     "user_tz": -120
    },
    "id": "dWzYSoPxrq9H",
    "outputId": "fc2a247c-74ce-4ab5-a988-d104b17fe196"
   },
   "outputs": [
    {
     "data": {
      "text/html": [
       "<div>\n",
       "<style scoped>\n",
       "    .dataframe tbody tr th:only-of-type {\n",
       "        vertical-align: middle;\n",
       "    }\n",
       "\n",
       "    .dataframe tbody tr th {\n",
       "        vertical-align: top;\n",
       "    }\n",
       "\n",
       "    .dataframe thead th {\n",
       "        text-align: right;\n",
       "    }\n",
       "</style>\n",
       "<table border=\"1\" class=\"dataframe\">\n",
       "  <thead>\n",
       "    <tr style=\"text-align: right;\">\n",
       "      <th></th>\n",
       "      <th>customerID</th>\n",
       "      <th>label</th>\n",
       "      <th>prediction</th>\n",
       "      <th>rawPrediction</th>\n",
       "      <th>probability</th>\n",
       "    </tr>\n",
       "  </thead>\n",
       "  <tbody>\n",
       "    <tr>\n",
       "      <th>0</th>\n",
       "      <td>6980-IMXXE</td>\n",
       "      <td>0.0</td>\n",
       "      <td>0.0</td>\n",
       "      <td>[4.563198732025667, -4.563198732025667]</td>\n",
       "      <td>[0.9896789871142558, 0.010321012885744186]</td>\n",
       "    </tr>\n",
       "    <tr>\n",
       "      <th>1</th>\n",
       "      <td>8756-RDDLT</td>\n",
       "      <td>0.0</td>\n",
       "      <td>0.0</td>\n",
       "      <td>[1.9157246791597267, -1.9157246791597267]</td>\n",
       "      <td>[0.871660920886294, 0.128339079113706]</td>\n",
       "    </tr>\n",
       "    <tr>\n",
       "      <th>2</th>\n",
       "      <td>3190-ITQXP</td>\n",
       "      <td>0.0</td>\n",
       "      <td>0.0</td>\n",
       "      <td>[3.73308545621575, -3.73308545621575]</td>\n",
       "      <td>[0.9766398290052155, 0.023360170994784598]</td>\n",
       "    </tr>\n",
       "    <tr>\n",
       "      <th>3</th>\n",
       "      <td>4672-FOTSD</td>\n",
       "      <td>0.0</td>\n",
       "      <td>0.0</td>\n",
       "      <td>[1.2856937679893683, -1.2856937679893683]</td>\n",
       "      <td>[0.7834174229160308, 0.21658257708396927]</td>\n",
       "    </tr>\n",
       "    <tr>\n",
       "      <th>4</th>\n",
       "      <td>2958-NHPPS</td>\n",
       "      <td>0.0</td>\n",
       "      <td>0.0</td>\n",
       "      <td>[1.6711738575751016, -1.6711738575751016]</td>\n",
       "      <td>[0.8417322640957332, 0.15826773590426682]</td>\n",
       "    </tr>\n",
       "    <tr>\n",
       "      <th>5</th>\n",
       "      <td>3030-YDNRM</td>\n",
       "      <td>0.0</td>\n",
       "      <td>1.0</td>\n",
       "      <td>[-0.7241272720763472, 0.7241272720763472]</td>\n",
       "      <td>[0.3264847777737523, 0.6735152222262477]</td>\n",
       "    </tr>\n",
       "    <tr>\n",
       "      <th>6</th>\n",
       "      <td>8777-PVYGU</td>\n",
       "      <td>0.0</td>\n",
       "      <td>0.0</td>\n",
       "      <td>[3.034624999356759, -3.034624999356759]</td>\n",
       "      <td>[0.9541140830882772, 0.04588591691172279]</td>\n",
       "    </tr>\n",
       "    <tr>\n",
       "      <th>7</th>\n",
       "      <td>7622-FWGEW</td>\n",
       "      <td>0.0</td>\n",
       "      <td>0.0</td>\n",
       "      <td>[3.9631678863215054, -3.9631678863215054]</td>\n",
       "      <td>[0.9813515530168718, 0.018648446983128113]</td>\n",
       "    </tr>\n",
       "    <tr>\n",
       "      <th>8</th>\n",
       "      <td>8129-GMVGI</td>\n",
       "      <td>0.0</td>\n",
       "      <td>0.0</td>\n",
       "      <td>[4.174960037614637, -4.174960037614637]</td>\n",
       "      <td>[0.9848570292848112, 0.015142970715188839]</td>\n",
       "    </tr>\n",
       "    <tr>\n",
       "      <th>9</th>\n",
       "      <td>7315-WYOAW</td>\n",
       "      <td>0.0</td>\n",
       "      <td>1.0</td>\n",
       "      <td>[-0.419816622087773, 0.419816622087773]</td>\n",
       "      <td>[0.3965606316916582, 0.6034393683083419]</td>\n",
       "    </tr>\n",
       "  </tbody>\n",
       "</table>\n",
       "</div>"
      ],
      "text/plain": [
       "   customerID  ...                                 probability\n",
       "0  6980-IMXXE  ...  [0.9896789871142558, 0.010321012885744186]\n",
       "1  8756-RDDLT  ...      [0.871660920886294, 0.128339079113706]\n",
       "2  3190-ITQXP  ...  [0.9766398290052155, 0.023360170994784598]\n",
       "3  4672-FOTSD  ...   [0.7834174229160308, 0.21658257708396927]\n",
       "4  2958-NHPPS  ...   [0.8417322640957332, 0.15826773590426682]\n",
       "5  3030-YDNRM  ...    [0.3264847777737523, 0.6735152222262477]\n",
       "6  8777-PVYGU  ...   [0.9541140830882772, 0.04588591691172279]\n",
       "7  7622-FWGEW  ...  [0.9813515530168718, 0.018648446983128113]\n",
       "8  8129-GMVGI  ...  [0.9848570292848112, 0.015142970715188839]\n",
       "9  7315-WYOAW  ...    [0.3965606316916582, 0.6034393683083419]\n",
       "\n",
       "[10 rows x 5 columns]"
      ]
     },
     "execution_count": 73,
     "metadata": {
      "tags": []
     },
     "output_type": "execute_result"
    }
   ],
   "source": [
    "lrcv_predictions.select(\"customerID\",\"label\",\"prediction\",\"rawPrediction\",\"probability\").limit(10).toPandas()"
   ]
  },
  {
   "cell_type": "code",
   "execution_count": 74,
   "metadata": {
    "colab": {
     "base_uri": "https://localhost:8080/",
     "height": 34
    },
    "colab_type": "code",
    "executionInfo": {
     "elapsed": 126864,
     "status": "ok",
     "timestamp": 1587391069155,
     "user": {
      "displayName": "Luis Blanco",
      "photoUrl": "https://lh3.googleusercontent.com/a-/AOh14Gg1BCQJfHT2P42mM1KkjEShxXP7ik2JKApJloXCcg=s64",
      "userId": "08327929932520946832"
     },
     "user_tz": -120
    },
    "id": "eZRouGegJEfk",
    "outputId": "27d85bb4-69f4-40e5-aca1-7c33497831d2"
   },
   "outputs": [
    {
     "name": "stdout",
     "output_type": "stream",
     "text": [
      "Área bajo la curva ROC en Test: 0.6157080230792344\n"
     ]
    }
   ],
   "source": [
    "print(\"Área bajo la curva ROC en Test: \" + str(evaluator.evaluate(lrcv_predictions)))"
   ]
  },
  {
   "cell_type": "code",
   "execution_count": 75,
   "metadata": {
    "colab": {
     "base_uri": "https://localhost:8080/",
     "height": 430
    },
    "colab_type": "code",
    "executionInfo": {
     "elapsed": 128170,
     "status": "ok",
     "timestamp": 1587391071628,
     "user": {
      "displayName": "Luis Blanco",
      "photoUrl": "https://lh3.googleusercontent.com/a-/AOh14Gg1BCQJfHT2P42mM1KkjEShxXP7ik2JKApJloXCcg=s64",
      "userId": "08327929932520946832"
     },
     "user_tz": -120
    },
    "id": "n2KLyIodKzKe",
    "outputId": "827d5694-100d-4872-8d27-f13bf003cd5b"
   },
   "outputs": [
    {
     "name": "stdout",
     "output_type": "stream",
     "text": [
      "Confusion matrix, without normalization\n",
      "[[1154  140]\n",
      " [ 226  241]]\n"
     ]
    },
    {
     "data": {
      "image/png": "[encoded data removed]",
      "text/plain": [
       "<Figure size 432x288 with 2 Axes>"
      ]
     },
     "metadata": {
      "needs_background": "light",
      "tags": []
     },
     "output_type": "display_data"
    },
    {
     "name": "stdout",
     "output_type": "stream",
     "text": [
      "Precision: 0.6325\n",
      "Recall: 0.5161\n",
      "F1: 0.5684\n",
      "Accuracy score: 0.7922\n"
     ]
    }
   ],
   "source": [
    "#Lista con las clases\n",
    "class_temp = lrcv_predictions.select(\"label\").groupBy(\"label\")\\\n",
    "                        .count().sort('count', ascending=False).toPandas()\n",
    "class_temp = class_temp[\"label\"].values.tolist()\n",
    "\n",
    "#Matriz de confusión:\n",
    "sacar_confusion_matrix(lrcv_predictions)"
   ]
  },
  {
   "cell_type": "markdown",
   "metadata": {
    "colab_type": "text",
    "id": "2rY3iiltLFHg"
   },
   "source": [
    "<font color=\"Grey\">Vemos que el modelo ha predicho correctamente 1.154 Verdaderos Negativos y 241 Verdaderos Positivos, sin embargo ha errado en 226 Falsos Negativos y 140 Falsos Positivos.  \n",
    "Hemos podido comprobar que los hiperparámetros por defecto del modelo son los que mejor resultado han dado. Hemos pasado de un F1 Score de 0.5878 a 0.5684 con tunning de hiperparámetros."
   ]
  },
  {
   "cell_type": "code",
   "execution_count": 104,
   "metadata": {
    "colab": {
     "base_uri": "https://localhost:8080/",
     "height": 430
    },
    "colab_type": "code",
    "executionInfo": {
     "elapsed": 2638,
     "status": "ok",
     "timestamp": 1587399985615,
     "user": {
      "displayName": "Luis Blanco",
      "photoUrl": "https://lh3.googleusercontent.com/a-/AOh14Gg1BCQJfHT2P42mM1KkjEShxXP7ik2JKApJloXCcg=s64",
      "userId": "08327929932520946832"
     },
     "user_tz": -120
    },
    "id": "CSVfZikeZrKd",
    "outputId": "fbc8afac-e7b3-4da0-ae5f-2b51cde66336"
   },
   "outputs": [
    {
     "name": "stdout",
     "output_type": "stream",
     "text": [
      "Confusion matrix, without normalization\n",
      "[[3492  388]\n",
      " [ 638  764]]\n"
     ]
    },
    {
     "data": {
      "image/png": "[encoded data removed]",
      "text/plain": [
       "<Figure size 432x288 with 2 Axes>"
      ]
     },
     "metadata": {
      "needs_background": "light",
      "tags": []
     },
     "output_type": "display_data"
    },
    {
     "name": "stdout",
     "output_type": "stream",
     "text": [
      "Precision: 0.6632\n",
      "Recall: 0.5449\n",
      "F1: 0.5983\n",
      "Accuracy score: 0.8058\n"
     ]
    }
   ],
   "source": [
    "#Calculamos la matriz de las prediciones en Train para ver si hay overfitting:\n",
    "lrcv_predictions_train = lrcv_model.transform(train)\n",
    "\n",
    "#Lista con las clases\n",
    "class_temp = lrcv_predictions_train.select(\"label\").groupBy(\"label\")\\\n",
    "                        .count().sort('count', ascending=False).toPandas()\n",
    "class_temp = class_temp[\"label\"].values.tolist()\n",
    "\n",
    "#Matriz de confusión:\n",
    "sacar_confusion_matrix(lrcv_predictions_train)"
   ]
  },
  {
   "cell_type": "markdown",
   "metadata": {
    "colab_type": "text",
    "id": "3s55gLQwaMSL"
   },
   "source": [
    "<font color=\"Grey\">Estamos en los mismos valores en las métricas, no hay overfitting."
   ]
  },
  {
   "cell_type": "code",
   "execution_count": 76,
   "metadata": {
    "colab": {
     "base_uri": "https://localhost:8080/",
     "height": 34
    },
    "colab_type": "code",
    "executionInfo": {
     "elapsed": 33719,
     "status": "ok",
     "timestamp": 1587391243317,
     "user": {
      "displayName": "Luis Blanco",
      "photoUrl": "https://lh3.googleusercontent.com/a-/AOh14Gg1BCQJfHT2P42mM1KkjEShxXP7ik2JKApJloXCcg=s64",
      "userId": "08327929932520946832"
     },
     "user_tz": -120
    },
    "id": "7a4C8XFKrq5F",
    "outputId": "b9ec4beb-1103-4f10-d135-86fa25611720"
   },
   "outputs": [
    {
     "name": "stdout",
     "output_type": "stream",
     "text": [
      "CrossValidatorModel_483dc8a9bb0f\n"
     ]
    }
   ],
   "source": [
    "#Decision Tree Classifier CV:\n",
    "dt=DecisionTreeClassifier(featuresCol=\"features\",labelCol=\"label\",seed=random_state)\n",
    "#Añadimos rangos de hiperparámetros para el modelo:\n",
    "dt_paramGrid = (ParamGridBuilder()\n",
    "            .addGrid(dt.maxDepth, [5,10,20])\n",
    "            .addGrid(dt.maxBins, [10,32,40])\n",
    "            .build()\n",
    ") \n",
    "\n",
    "#CrossValidator 3 folds:\n",
    "dt_cross = CrossValidator(estimator = dt,\n",
    "                          estimatorParamMaps = dt_paramGrid,\n",
    "                          evaluator = evaluator,\n",
    "                          numFolds = 3)\n",
    "\n",
    "#Activamos la Validación Cruzada:\n",
    "dtcv_model = dt_cross.fit(train)\n",
    "print(lrcv_model)\n",
    "\n",
    "#Calculamos nuestras predicciones (en test):\n",
    "dtcv_predictions = dtcv_model.transform(test)"
   ]
  },
  {
   "cell_type": "code",
   "execution_count": 77,
   "metadata": {
    "colab": {
     "base_uri": "https://localhost:8080/",
     "height": 359
    },
    "colab_type": "code",
    "executionInfo": {
     "elapsed": 31897,
     "status": "ok",
     "timestamp": 1587391243320,
     "user": {
      "displayName": "Luis Blanco",
      "photoUrl": "https://lh3.googleusercontent.com/a-/AOh14Gg1BCQJfHT2P42mM1KkjEShxXP7ik2JKApJloXCcg=s64",
      "userId": "08327929932520946832"
     },
     "user_tz": -120
    },
    "id": "gOAXtSuLrqnX",
    "outputId": "898bd666-c769-4919-c926-904892ed0dcf"
   },
   "outputs": [
    {
     "data": {
      "text/html": [
       "<div>\n",
       "<style scoped>\n",
       "    .dataframe tbody tr th:only-of-type {\n",
       "        vertical-align: middle;\n",
       "    }\n",
       "\n",
       "    .dataframe tbody tr th {\n",
       "        vertical-align: top;\n",
       "    }\n",
       "\n",
       "    .dataframe thead th {\n",
       "        text-align: right;\n",
       "    }\n",
       "</style>\n",
       "<table border=\"1\" class=\"dataframe\">\n",
       "  <thead>\n",
       "    <tr style=\"text-align: right;\">\n",
       "      <th></th>\n",
       "      <th>customerID</th>\n",
       "      <th>label</th>\n",
       "      <th>prediction</th>\n",
       "      <th>rawPrediction</th>\n",
       "      <th>probability</th>\n",
       "    </tr>\n",
       "  </thead>\n",
       "  <tbody>\n",
       "    <tr>\n",
       "      <th>0</th>\n",
       "      <td>6980-IMXXE</td>\n",
       "      <td>0.0</td>\n",
       "      <td>0.0</td>\n",
       "      <td>[2231.0, 164.0]</td>\n",
       "      <td>[0.9315240083507307, 0.0684759916492693]</td>\n",
       "    </tr>\n",
       "    <tr>\n",
       "      <th>1</th>\n",
       "      <td>8756-RDDLT</td>\n",
       "      <td>0.0</td>\n",
       "      <td>0.0</td>\n",
       "      <td>[107.0, 40.0]</td>\n",
       "      <td>[0.7278911564625851, 0.272108843537415]</td>\n",
       "    </tr>\n",
       "    <tr>\n",
       "      <th>2</th>\n",
       "      <td>3190-ITQXP</td>\n",
       "      <td>0.0</td>\n",
       "      <td>0.0</td>\n",
       "      <td>[2231.0, 164.0]</td>\n",
       "      <td>[0.9315240083507307, 0.0684759916492693]</td>\n",
       "    </tr>\n",
       "    <tr>\n",
       "      <th>3</th>\n",
       "      <td>4672-FOTSD</td>\n",
       "      <td>0.0</td>\n",
       "      <td>0.0</td>\n",
       "      <td>[506.0, 89.0]</td>\n",
       "      <td>[0.8504201680672269, 0.1495798319327731]</td>\n",
       "    </tr>\n",
       "    <tr>\n",
       "      <th>4</th>\n",
       "      <td>2958-NHPPS</td>\n",
       "      <td>0.0</td>\n",
       "      <td>0.0</td>\n",
       "      <td>[506.0, 89.0]</td>\n",
       "      <td>[0.8504201680672269, 0.1495798319327731]</td>\n",
       "    </tr>\n",
       "    <tr>\n",
       "      <th>5</th>\n",
       "      <td>3030-YDNRM</td>\n",
       "      <td>0.0</td>\n",
       "      <td>1.0</td>\n",
       "      <td>[185.0, 364.0]</td>\n",
       "      <td>[0.33697632058287796, 0.663023679417122]</td>\n",
       "    </tr>\n",
       "    <tr>\n",
       "      <th>6</th>\n",
       "      <td>8777-PVYGU</td>\n",
       "      <td>0.0</td>\n",
       "      <td>0.0</td>\n",
       "      <td>[2231.0, 164.0]</td>\n",
       "      <td>[0.9315240083507307, 0.0684759916492693]</td>\n",
       "    </tr>\n",
       "    <tr>\n",
       "      <th>7</th>\n",
       "      <td>7622-FWGEW</td>\n",
       "      <td>0.0</td>\n",
       "      <td>0.0</td>\n",
       "      <td>[2231.0, 164.0]</td>\n",
       "      <td>[0.9315240083507307, 0.0684759916492693]</td>\n",
       "    </tr>\n",
       "    <tr>\n",
       "      <th>8</th>\n",
       "      <td>8129-GMVGI</td>\n",
       "      <td>0.0</td>\n",
       "      <td>0.0</td>\n",
       "      <td>[2231.0, 164.0]</td>\n",
       "      <td>[0.9315240083507307, 0.0684759916492693]</td>\n",
       "    </tr>\n",
       "    <tr>\n",
       "      <th>9</th>\n",
       "      <td>7315-WYOAW</td>\n",
       "      <td>0.0</td>\n",
       "      <td>1.0</td>\n",
       "      <td>[185.0, 364.0]</td>\n",
       "      <td>[0.33697632058287796, 0.663023679417122]</td>\n",
       "    </tr>\n",
       "  </tbody>\n",
       "</table>\n",
       "</div>"
      ],
      "text/plain": [
       "   customerID  label  ...    rawPrediction                               probability\n",
       "0  6980-IMXXE    0.0  ...  [2231.0, 164.0]  [0.9315240083507307, 0.0684759916492693]\n",
       "1  8756-RDDLT    0.0  ...    [107.0, 40.0]   [0.7278911564625851, 0.272108843537415]\n",
       "2  3190-ITQXP    0.0  ...  [2231.0, 164.0]  [0.9315240083507307, 0.0684759916492693]\n",
       "3  4672-FOTSD    0.0  ...    [506.0, 89.0]  [0.8504201680672269, 0.1495798319327731]\n",
       "4  2958-NHPPS    0.0  ...    [506.0, 89.0]  [0.8504201680672269, 0.1495798319327731]\n",
       "5  3030-YDNRM    0.0  ...   [185.0, 364.0]  [0.33697632058287796, 0.663023679417122]\n",
       "6  8777-PVYGU    0.0  ...  [2231.0, 164.0]  [0.9315240083507307, 0.0684759916492693]\n",
       "7  7622-FWGEW    0.0  ...  [2231.0, 164.0]  [0.9315240083507307, 0.0684759916492693]\n",
       "8  8129-GMVGI    0.0  ...  [2231.0, 164.0]  [0.9315240083507307, 0.0684759916492693]\n",
       "9  7315-WYOAW    0.0  ...   [185.0, 364.0]  [0.33697632058287796, 0.663023679417122]\n",
       "\n",
       "[10 rows x 5 columns]"
      ]
     },
     "execution_count": 77,
     "metadata": {
      "tags": []
     },
     "output_type": "execute_result"
    }
   ],
   "source": [
    "dtcv_predictions.select(\"customerID\",\"label\",\"prediction\",\"rawPrediction\",\"probability\").limit(10).toPandas()"
   ]
  },
  {
   "cell_type": "code",
   "execution_count": 78,
   "metadata": {
    "colab": {
     "base_uri": "https://localhost:8080/",
     "height": 34
    },
    "colab_type": "code",
    "executionInfo": {
     "elapsed": 31667,
     "status": "ok",
     "timestamp": 1587391243543,
     "user": {
      "displayName": "Luis Blanco",
      "photoUrl": "https://lh3.googleusercontent.com/a-/AOh14Gg1BCQJfHT2P42mM1KkjEShxXP7ik2JKApJloXCcg=s64",
      "userId": "08327929932520946832"
     },
     "user_tz": -120
    },
    "id": "xLsL9xtzNPKt",
    "outputId": "1007a10e-2251-4ed6-8241-e2effd31c2c4"
   },
   "outputs": [
    {
     "name": "stdout",
     "output_type": "stream",
     "text": [
      "Área bajo la curva ROC en Test: 0.4153981806346546\n"
     ]
    }
   ],
   "source": [
    "print(\"Área bajo la curva ROC en Test: \" + str(evaluator.evaluate(dtcv_predictions)))"
   ]
  },
  {
   "cell_type": "code",
   "execution_count": 79,
   "metadata": {
    "colab": {
     "base_uri": "https://localhost:8080/",
     "height": 430
    },
    "colab_type": "code",
    "executionInfo": {
     "elapsed": 32276,
     "status": "ok",
     "timestamp": 1587391245581,
     "user": {
      "displayName": "Luis Blanco",
      "photoUrl": "https://lh3.googleusercontent.com/a-/AOh14Gg1BCQJfHT2P42mM1KkjEShxXP7ik2JKApJloXCcg=s64",
      "userId": "08327929932520946832"
     },
     "user_tz": -120
    },
    "id": "E96khvNcNOz8",
    "outputId": "960be7b7-c3d6-4d8f-f232-3082f05cb76b"
   },
   "outputs": [
    {
     "name": "stdout",
     "output_type": "stream",
     "text": [
      "Confusion matrix, without normalization\n",
      "[[1089  205]\n",
      " [ 187  280]]\n"
     ]
    },
    {
     "data": {
      "image/png": "[encoded data removed]",
      "text/plain": [
       "<Figure size 432x288 with 2 Axes>"
      ]
     },
     "metadata": {
      "needs_background": "light",
      "tags": []
     },
     "output_type": "display_data"
    },
    {
     "name": "stdout",
     "output_type": "stream",
     "text": [
      "Precision: 0.5773\n",
      "Recall: 0.5996\n",
      "F1: 0.5882\n",
      "Accuracy score: 0.7774\n"
     ]
    }
   ],
   "source": [
    "#Lista con las clases\n",
    "class_temp = dtcv_predictions.select(\"label\").groupBy(\"label\")\\\n",
    "                        .count().sort('count', ascending=False).toPandas()\n",
    "class_temp = class_temp[\"label\"].values.tolist()\n",
    "\n",
    "#Matriz de confusión:\n",
    "sacar_confusion_matrix(dtcv_predictions)"
   ]
  },
  {
   "cell_type": "markdown",
   "metadata": {
    "colab_type": "text",
    "id": "TCzBslCKNLzR"
   },
   "source": [
    "<font color=\"Grey\">Vemos que el modelo ha predicho correctamente 1.089 Verdaderos Negativos y 280 Verdaderos Positivos, sin embargo ha errado en 187 Falsos Negativos y 205 Falsos Positivos.  \n",
    "Hemos podido comprobar que los hiperparámetros por defecto del modelo son lo que mejor resultado han dado. Hemos pasado de un F1 Score de 0.5902 a 0.5882 con tunning de hiperparámetros."
   ]
  },
  {
   "cell_type": "code",
   "execution_count": 106,
   "metadata": {
    "colab": {
     "base_uri": "https://localhost:8080/",
     "height": 430
    },
    "colab_type": "code",
    "executionInfo": {
     "elapsed": 2399,
     "status": "ok",
     "timestamp": 1587400100604,
     "user": {
      "displayName": "Luis Blanco",
      "photoUrl": "https://lh3.googleusercontent.com/a-/AOh14Gg1BCQJfHT2P42mM1KkjEShxXP7ik2JKApJloXCcg=s64",
      "userId": "08327929932520946832"
     },
     "user_tz": -120
    },
    "id": "nL70jeEpaSSA",
    "outputId": "5a718c8f-e334-4239-fde4-9a16e7fc7be5"
   },
   "outputs": [
    {
     "name": "stdout",
     "output_type": "stream",
     "text": [
      "Confusion matrix, without normalization\n",
      "[[3352  528]\n",
      " [ 503  899]]\n"
     ]
    },
    {
     "data": {
      "image/png": "[encoded data removed]",
      "text/plain": [
       "<Figure size 432x288 with 2 Axes>"
      ]
     },
     "metadata": {
      "needs_background": "light",
      "tags": []
     },
     "output_type": "display_data"
    },
    {
     "name": "stdout",
     "output_type": "stream",
     "text": [
      "Precision: 0.6300\n",
      "Recall: 0.6412\n",
      "F1: 0.6356\n",
      "Accuracy score: 0.8048\n"
     ]
    }
   ],
   "source": [
    "#Calculamos la matriz de las prediciones en Train para ver si hay overfitting:\n",
    "dtcv_predictions_train = dtcv_model.transform(train)\n",
    "\n",
    "#Lista con las clases\n",
    "class_temp = dtcv_predictions_train.select(\"label\").groupBy(\"label\")\\\n",
    "                        .count().sort('count', ascending=False).toPandas()\n",
    "class_temp = class_temp[\"label\"].values.tolist()\n",
    "\n",
    "#Matriz de confusión:\n",
    "sacar_confusion_matrix(dtcv_predictions_train)"
   ]
  },
  {
   "cell_type": "markdown",
   "metadata": {
    "colab_type": "text",
    "id": "fTPjVeEna5jf"
   },
   "source": [
    "<font color=\"Grey\">Estamos en los mismos valores en las métricas, no hay overfitting."
   ]
  },
  {
   "cell_type": "code",
   "execution_count": 80,
   "metadata": {
    "colab": {
     "base_uri": "https://localhost:8080/",
     "height": 34
    },
    "colab_type": "code",
    "executionInfo": {
     "elapsed": 234132,
     "status": "ok",
     "timestamp": 1587391528413,
     "user": {
      "displayName": "Luis Blanco",
      "photoUrl": "https://lh3.googleusercontent.com/a-/AOh14Gg1BCQJfHT2P42mM1KkjEShxXP7ik2JKApJloXCcg=s64",
      "userId": "08327929932520946832"
     },
     "user_tz": -120
    },
    "id": "vDeaxAN9rql5",
    "outputId": "089c36c3-8515-4556-a734-136d75cb8da5"
   },
   "outputs": [
    {
     "name": "stdout",
     "output_type": "stream",
     "text": [
      "CrossValidatorModel_c55b0f6b8017\n"
     ]
    }
   ],
   "source": [
    "#Random Forest Classifier CV:\n",
    "rf = RandomForestClassifier(featuresCol=\"features\",labelCol=\"label\",seed=random_state)\n",
    "#Añadimos rangos de hiperparámetros para el modelo:\n",
    "rf_paramGrid = (ParamGridBuilder()\n",
    "            .addGrid(rf.numTrees, [10,20,30])\n",
    "            .addGrid(rf.maxDepth, [5,10,20])\n",
    "            .addGrid(rf.maxBins, [10, 32,40])\n",
    "            .build()\n",
    ")  \n",
    "\n",
    "#CrossValidator 3 folds:\n",
    "rf_cross = CrossValidator(estimator = rf,\n",
    "                          estimatorParamMaps = rf_paramGrid,\n",
    "                          evaluator = evaluator,\n",
    "                          numFolds = 3)\n",
    "\n",
    "#Activamos la Validación Cruzada:\n",
    "rfcv_model = rf_cross.fit(train)\n",
    "print(rfcv_model)\n",
    "\n",
    "#Calculamos nuestras predicciones (en test):\n",
    "rfcv_predictions = rfcv_model.transform(test)"
   ]
  },
  {
   "cell_type": "code",
   "execution_count": 81,
   "metadata": {
    "colab": {
     "base_uri": "https://localhost:8080/",
     "height": 359
    },
    "colab_type": "code",
    "executionInfo": {
     "elapsed": 598,
     "status": "ok",
     "timestamp": 1587391529035,
     "user": {
      "displayName": "Luis Blanco",
      "photoUrl": "https://lh3.googleusercontent.com/a-/AOh14Gg1BCQJfHT2P42mM1KkjEShxXP7ik2JKApJloXCcg=s64",
      "userId": "08327929932520946832"
     },
     "user_tz": -120
    },
    "id": "0On9e209rqgF",
    "outputId": "934ac615-de9d-4ad1-9ef7-eb57a2e7ac55"
   },
   "outputs": [
    {
     "data": {
      "text/html": [
       "<div>\n",
       "<style scoped>\n",
       "    .dataframe tbody tr th:only-of-type {\n",
       "        vertical-align: middle;\n",
       "    }\n",
       "\n",
       "    .dataframe tbody tr th {\n",
       "        vertical-align: top;\n",
       "    }\n",
       "\n",
       "    .dataframe thead th {\n",
       "        text-align: right;\n",
       "    }\n",
       "</style>\n",
       "<table border=\"1\" class=\"dataframe\">\n",
       "  <thead>\n",
       "    <tr style=\"text-align: right;\">\n",
       "      <th></th>\n",
       "      <th>customerID</th>\n",
       "      <th>label</th>\n",
       "      <th>prediction</th>\n",
       "      <th>rawPrediction</th>\n",
       "      <th>probability</th>\n",
       "    </tr>\n",
       "  </thead>\n",
       "  <tbody>\n",
       "    <tr>\n",
       "      <th>0</th>\n",
       "      <td>6980-IMXXE</td>\n",
       "      <td>0.0</td>\n",
       "      <td>0.0</td>\n",
       "      <td>[28.095385438655814, 1.9046145613441836]</td>\n",
       "      <td>[0.936512847955194, 0.06348715204480612]</td>\n",
       "    </tr>\n",
       "    <tr>\n",
       "      <th>1</th>\n",
       "      <td>8756-RDDLT</td>\n",
       "      <td>0.0</td>\n",
       "      <td>0.0</td>\n",
       "      <td>[23.680843383567343, 6.319156616432657]</td>\n",
       "      <td>[0.7893614461189115, 0.21063855388108857]</td>\n",
       "    </tr>\n",
       "    <tr>\n",
       "      <th>2</th>\n",
       "      <td>3190-ITQXP</td>\n",
       "      <td>0.0</td>\n",
       "      <td>0.0</td>\n",
       "      <td>[28.095385438655814, 1.9046145613441836]</td>\n",
       "      <td>[0.936512847955194, 0.06348715204480612]</td>\n",
       "    </tr>\n",
       "    <tr>\n",
       "      <th>3</th>\n",
       "      <td>4672-FOTSD</td>\n",
       "      <td>0.0</td>\n",
       "      <td>0.0</td>\n",
       "      <td>[25.088698530809065, 4.911301469190944]</td>\n",
       "      <td>[0.8362899510269687, 0.16371004897303143]</td>\n",
       "    </tr>\n",
       "    <tr>\n",
       "      <th>4</th>\n",
       "      <td>2958-NHPPS</td>\n",
       "      <td>0.0</td>\n",
       "      <td>0.0</td>\n",
       "      <td>[25.790286838439638, 4.20971316156037]</td>\n",
       "      <td>[0.8596762279479877, 0.1403237720520123]</td>\n",
       "    </tr>\n",
       "    <tr>\n",
       "      <th>5</th>\n",
       "      <td>3030-YDNRM</td>\n",
       "      <td>0.0</td>\n",
       "      <td>1.0</td>\n",
       "      <td>[10.309761270679996, 19.69023872932]</td>\n",
       "      <td>[0.34365870902266654, 0.6563412909773334]</td>\n",
       "    </tr>\n",
       "    <tr>\n",
       "      <th>6</th>\n",
       "      <td>8777-PVYGU</td>\n",
       "      <td>0.0</td>\n",
       "      <td>0.0</td>\n",
       "      <td>[26.40309546969376, 3.596904530306236]</td>\n",
       "      <td>[0.8801031823231255, 0.11989681767687455]</td>\n",
       "    </tr>\n",
       "    <tr>\n",
       "      <th>7</th>\n",
       "      <td>7622-FWGEW</td>\n",
       "      <td>0.0</td>\n",
       "      <td>0.0</td>\n",
       "      <td>[28.044636479120268, 1.9553635208797342]</td>\n",
       "      <td>[0.9348212159706756, 0.06517878402932448]</td>\n",
       "    </tr>\n",
       "    <tr>\n",
       "      <th>8</th>\n",
       "      <td>8129-GMVGI</td>\n",
       "      <td>0.0</td>\n",
       "      <td>0.0</td>\n",
       "      <td>[28.095385438655814, 1.9046145613441836]</td>\n",
       "      <td>[0.936512847955194, 0.06348715204480612]</td>\n",
       "    </tr>\n",
       "    <tr>\n",
       "      <th>9</th>\n",
       "      <td>7315-WYOAW</td>\n",
       "      <td>0.0</td>\n",
       "      <td>0.0</td>\n",
       "      <td>[17.412730613063943, 12.587269386936056]</td>\n",
       "      <td>[0.5804243537687981, 0.41957564623120186]</td>\n",
       "    </tr>\n",
       "  </tbody>\n",
       "</table>\n",
       "</div>"
      ],
      "text/plain": [
       "   customerID  ...                                probability\n",
       "0  6980-IMXXE  ...   [0.936512847955194, 0.06348715204480612]\n",
       "1  8756-RDDLT  ...  [0.7893614461189115, 0.21063855388108857]\n",
       "2  3190-ITQXP  ...   [0.936512847955194, 0.06348715204480612]\n",
       "3  4672-FOTSD  ...  [0.8362899510269687, 0.16371004897303143]\n",
       "4  2958-NHPPS  ...   [0.8596762279479877, 0.1403237720520123]\n",
       "5  3030-YDNRM  ...  [0.34365870902266654, 0.6563412909773334]\n",
       "6  8777-PVYGU  ...  [0.8801031823231255, 0.11989681767687455]\n",
       "7  7622-FWGEW  ...  [0.9348212159706756, 0.06517878402932448]\n",
       "8  8129-GMVGI  ...   [0.936512847955194, 0.06348715204480612]\n",
       "9  7315-WYOAW  ...  [0.5804243537687981, 0.41957564623120186]\n",
       "\n",
       "[10 rows x 5 columns]"
      ]
     },
     "execution_count": 81,
     "metadata": {
      "tags": []
     },
     "output_type": "execute_result"
    }
   ],
   "source": [
    "rfcv_predictions.select(\"customerID\",\"label\",\"prediction\",\"rawPrediction\",\"probability\").limit(10).toPandas()"
   ]
  },
  {
   "cell_type": "code",
   "execution_count": 82,
   "metadata": {
    "colab": {
     "base_uri": "https://localhost:8080/",
     "height": 34
    },
    "colab_type": "code",
    "executionInfo": {
     "elapsed": 1827,
     "status": "ok",
     "timestamp": 1587391530286,
     "user": {
      "displayName": "Luis Blanco",
      "photoUrl": "https://lh3.googleusercontent.com/a-/AOh14Gg1BCQJfHT2P42mM1KkjEShxXP7ik2JKApJloXCcg=s64",
      "userId": "08327929932520946832"
     },
     "user_tz": -120
    },
    "id": "m7da-svcNdl5",
    "outputId": "6471bdde-798b-4330-981c-06d1dc33ac5a"
   },
   "outputs": [
    {
     "name": "stdout",
     "output_type": "stream",
     "text": [
      "Área bajo la curva ROC en Test: 0.6019617292008358\n"
     ]
    }
   ],
   "source": [
    "print(\"Área bajo la curva ROC en Test: \" + str(evaluator.evaluate(rfcv_predictions)))"
   ]
  },
  {
   "cell_type": "code",
   "execution_count": 83,
   "metadata": {
    "colab": {
     "base_uri": "https://localhost:8080/",
     "height": 430
    },
    "colab_type": "code",
    "executionInfo": {
     "elapsed": 2812,
     "status": "ok",
     "timestamp": 1587391531290,
     "user": {
      "displayName": "Luis Blanco",
      "photoUrl": "https://lh3.googleusercontent.com/a-/AOh14Gg1BCQJfHT2P42mM1KkjEShxXP7ik2JKApJloXCcg=s64",
      "userId": "08327929932520946832"
     },
     "user_tz": -120
    },
    "id": "nQlY_W2CNddD",
    "outputId": "fedf0767-6d82-49c7-c3cb-e6472030ff2c"
   },
   "outputs": [
    {
     "name": "stdout",
     "output_type": "stream",
     "text": [
      "Confusion matrix, without normalization\n",
      "[[1200   94]\n",
      " [ 298  169]]\n"
     ]
    },
    {
     "data": {
      "image/png": "[encoded data removed]",
      "text/plain": [
       "<Figure size 432x288 with 2 Axes>"
      ]
     },
     "metadata": {
      "needs_background": "light",
      "tags": []
     },
     "output_type": "display_data"
    },
    {
     "name": "stdout",
     "output_type": "stream",
     "text": [
      "Precision: 0.6426\n",
      "Recall: 0.3619\n",
      "F1: 0.4630\n",
      "Accuracy score: 0.7774\n"
     ]
    }
   ],
   "source": [
    "#Lista con las clases\n",
    "class_temp = rfcv_predictions.select(\"label\").groupBy(\"label\")\\\n",
    "                        .count().sort('count', ascending=False).toPandas()\n",
    "class_temp = class_temp[\"label\"].values.tolist()\n",
    "\n",
    "#Matriz de confusión:\n",
    "sacar_confusion_matrix(rfcv_predictions)"
   ]
  },
  {
   "cell_type": "markdown",
   "metadata": {
    "colab_type": "text",
    "id": "EiMcLtyjNeXT"
   },
   "source": [
    "<font color=\"Grey\">Vemos que el modelo ha predicho correctamente 1.200 Verdaderos Negativos y 169 Verdaderos Positivos, sin embargo ha errado en 298 Falsos Negativos y 94 Falsos Positivos. \n",
    "Hemos podido comprobar que los hiperparámetros por defecto del modelo son lo que mejor resultado han dado. Hemos pasado de un F1 Score de 0.4815 a 0.4630 con tunning de hiperparámetros."
   ]
  },
  {
   "cell_type": "code",
   "execution_count": 108,
   "metadata": {
    "colab": {
     "base_uri": "https://localhost:8080/",
     "height": 430
    },
    "colab_type": "code",
    "executionInfo": {
     "elapsed": 2647,
     "status": "ok",
     "timestamp": 1587400174368,
     "user": {
      "displayName": "Luis Blanco",
      "photoUrl": "https://lh3.googleusercontent.com/a-/AOh14Gg1BCQJfHT2P42mM1KkjEShxXP7ik2JKApJloXCcg=s64",
      "userId": "08327929932520946832"
     },
     "user_tz": -120
    },
    "id": "CgswqASea9EM",
    "outputId": "8a0e18a1-acd3-4ffb-f0ec-c4032f6e9388"
   },
   "outputs": [
    {
     "name": "stdout",
     "output_type": "stream",
     "text": [
      "Confusion matrix, without normalization\n",
      "[[3633  247]\n",
      " [ 792  610]]\n"
     ]
    },
    {
     "data": {
      "image/png": "[encoded data removed]",
      "text/plain": [
       "<Figure size 432x288 with 2 Axes>"
      ]
     },
     "metadata": {
      "needs_background": "light",
      "tags": []
     },
     "output_type": "display_data"
    },
    {
     "name": "stdout",
     "output_type": "stream",
     "text": [
      "Precision: 0.7118\n",
      "Recall: 0.4351\n",
      "F1: 0.5401\n",
      "Accuracy score: 0.8033\n"
     ]
    }
   ],
   "source": [
    "#Calculamos la matriz de las prediciones en Train para ver si hay overfitting:\n",
    "rfcv_predictions_train = rfcv_model.transform(train)\n",
    "\n",
    "#Lista con las clases\n",
    "class_temp = rfcv_predictions_train.select(\"label\").groupBy(\"label\")\\\n",
    "                        .count().sort('count', ascending=False).toPandas()\n",
    "class_temp = class_temp[\"label\"].values.tolist()\n",
    "\n",
    "#Matriz de confusión:\n",
    "sacar_confusion_matrix(rfcv_predictions_train)"
   ]
  },
  {
   "cell_type": "markdown",
   "metadata": {
    "colab_type": "text",
    "id": "iaPTsx7ObLO-"
   },
   "source": [
    "<font color=\"Grey\">Estamos en los mismos valores en las métricas, no hay overfitting."
   ]
  },
  {
   "cell_type": "code",
   "execution_count": 96,
   "metadata": {
    "colab": {
     "base_uri": "https://localhost:8080/",
     "height": 34
    },
    "colab_type": "code",
    "executionInfo": {
     "elapsed": 1007,
     "status": "ok",
     "timestamp": 1587398173542,
     "user": {
      "displayName": "Luis Blanco",
      "photoUrl": "https://lh3.googleusercontent.com/a-/AOh14Gg1BCQJfHT2P42mM1KkjEShxXP7ik2JKApJloXCcg=s64",
      "userId": "08327929932520946832"
     },
     "user_tz": -120
    },
    "id": "plAmOEJ4rqeL",
    "outputId": "1d48aeb8-2bf7-40ec-ea11-e48f83f06696"
   },
   "outputs": [
    {
     "name": "stdout",
     "output_type": "stream",
     "text": [
      "CrossValidatorModel_4c15441611d8\n"
     ]
    }
   ],
   "source": [
    "#Gradient Boosting Tree Classifier CV:\n",
    "gbt=GBTClassifier(featuresCol=\"features\",labelCol=\"label\",seed=random_state)\n",
    "#Añadimos rangos de hiperparámetros para el modelo:\n",
    "gbt_paramGrid = (ParamGridBuilder()\n",
    "             .addGrid(gbt.maxDepth, [10,20])\n",
    "             .addGrid(gbt.maxBins, [10, 32])\n",
    "             .addGrid(gbt.maxIter, [20,30])\n",
    "             .build()\n",
    ")\n",
    "\n",
    "#CrossValidator 3 folds:\n",
    "gbt_cross = CrossValidator(estimator = gbt,\n",
    "                      estimatorParamMaps = gbt_paramGrid,\n",
    "                      evaluator = evaluator,\n",
    "                      numFolds = 3)\n",
    "\n",
    "#Activamos la Validación Cruzada:\n",
    "gbtcv_model = gbt_cross.fit(train)\n",
    "print(gbtcv_model)\n",
    "\n",
    "#Calculamos nuestras predicciones (en test):\n",
    "gbtcv_predictions = gbtcv_model.transform(test)"
   ]
  },
  {
   "cell_type": "code",
   "execution_count": 97,
   "metadata": {
    "colab": {
     "base_uri": "https://localhost:8080/",
     "height": 359
    },
    "colab_type": "code",
    "executionInfo": {
     "elapsed": 66,
     "status": "ok",
     "timestamp": 1587398173544,
     "user": {
      "displayName": "Luis Blanco",
      "photoUrl": "https://lh3.googleusercontent.com/a-/AOh14Gg1BCQJfHT2P42mM1KkjEShxXP7ik2JKApJloXCcg=s64",
      "userId": "08327929932520946832"
     },
     "user_tz": -120
    },
    "id": "BszSAZ2Frqbc",
    "outputId": "c3137598-e9da-4f07-ec9c-53eab9b982ef"
   },
   "outputs": [
    {
     "data": {
      "text/html": [
       "<div>\n",
       "<style scoped>\n",
       "    .dataframe tbody tr th:only-of-type {\n",
       "        vertical-align: middle;\n",
       "    }\n",
       "\n",
       "    .dataframe tbody tr th {\n",
       "        vertical-align: top;\n",
       "    }\n",
       "\n",
       "    .dataframe thead th {\n",
       "        text-align: right;\n",
       "    }\n",
       "</style>\n",
       "<table border=\"1\" class=\"dataframe\">\n",
       "  <thead>\n",
       "    <tr style=\"text-align: right;\">\n",
       "      <th></th>\n",
       "      <th>customerID</th>\n",
       "      <th>label</th>\n",
       "      <th>prediction</th>\n",
       "      <th>rawPrediction</th>\n",
       "      <th>probability</th>\n",
       "    </tr>\n",
       "  </thead>\n",
       "  <tbody>\n",
       "    <tr>\n",
       "      <th>0</th>\n",
       "      <td>6980-IMXXE</td>\n",
       "      <td>0.0</td>\n",
       "      <td>0.0</td>\n",
       "      <td>[1.6969875314253915, -1.6969875314253915]</td>\n",
       "      <td>[0.9675157096292905, 0.032484290370709545]</td>\n",
       "    </tr>\n",
       "    <tr>\n",
       "      <th>1</th>\n",
       "      <td>8756-RDDLT</td>\n",
       "      <td>0.0</td>\n",
       "      <td>0.0</td>\n",
       "      <td>[0.01761605512464059, -0.01761605512464059]</td>\n",
       "      <td>[0.5088071165571832, 0.49119288344281675]</td>\n",
       "    </tr>\n",
       "    <tr>\n",
       "      <th>2</th>\n",
       "      <td>3190-ITQXP</td>\n",
       "      <td>0.0</td>\n",
       "      <td>0.0</td>\n",
       "      <td>[1.6798821090974303, -1.6798821090974303]</td>\n",
       "      <td>[0.9664231265659653, 0.033576873434034704]</td>\n",
       "    </tr>\n",
       "    <tr>\n",
       "      <th>3</th>\n",
       "      <td>4672-FOTSD</td>\n",
       "      <td>0.0</td>\n",
       "      <td>0.0</td>\n",
       "      <td>[0.7890758897380354, -0.7890758897380354]</td>\n",
       "      <td>[0.8289426055978661, 0.17105739440213386]</td>\n",
       "    </tr>\n",
       "    <tr>\n",
       "      <th>4</th>\n",
       "      <td>2958-NHPPS</td>\n",
       "      <td>0.0</td>\n",
       "      <td>0.0</td>\n",
       "      <td>[1.7209283025376592, -1.7209283025376592]</td>\n",
       "      <td>[0.9689873570238158, 0.031012642976184224]</td>\n",
       "    </tr>\n",
       "    <tr>\n",
       "      <th>5</th>\n",
       "      <td>3030-YDNRM</td>\n",
       "      <td>0.0</td>\n",
       "      <td>1.0</td>\n",
       "      <td>[-0.24168962938139787, 0.24168962938139787]</td>\n",
       "      <td>[0.3814544806249943, 0.6185455193750057]</td>\n",
       "    </tr>\n",
       "    <tr>\n",
       "      <th>6</th>\n",
       "      <td>8777-PVYGU</td>\n",
       "      <td>0.0</td>\n",
       "      <td>0.0</td>\n",
       "      <td>[1.7256423243303158, -1.7256423243303158]</td>\n",
       "      <td>[0.9692694285256653, 0.030730571474334667]</td>\n",
       "    </tr>\n",
       "    <tr>\n",
       "      <th>7</th>\n",
       "      <td>7622-FWGEW</td>\n",
       "      <td>0.0</td>\n",
       "      <td>0.0</td>\n",
       "      <td>[1.662874297951927, -1.662874297951927]</td>\n",
       "      <td>[0.9653016529517774, 0.03469834704822261]</td>\n",
       "    </tr>\n",
       "    <tr>\n",
       "      <th>8</th>\n",
       "      <td>8129-GMVGI</td>\n",
       "      <td>0.0</td>\n",
       "      <td>0.0</td>\n",
       "      <td>[1.6987727200910483, -1.6987727200910483]</td>\n",
       "      <td>[0.9676277361226537, 0.03237226387734626]</td>\n",
       "    </tr>\n",
       "    <tr>\n",
       "      <th>9</th>\n",
       "      <td>7315-WYOAW</td>\n",
       "      <td>0.0</td>\n",
       "      <td>1.0</td>\n",
       "      <td>[-1.2254342988913052, 1.2254342988913052]</td>\n",
       "      <td>[0.07937505350681136, 0.9206249464931886]</td>\n",
       "    </tr>\n",
       "  </tbody>\n",
       "</table>\n",
       "</div>"
      ],
      "text/plain": [
       "   customerID  ...                                 probability\n",
       "0  6980-IMXXE  ...  [0.9675157096292905, 0.032484290370709545]\n",
       "1  8756-RDDLT  ...   [0.5088071165571832, 0.49119288344281675]\n",
       "2  3190-ITQXP  ...  [0.9664231265659653, 0.033576873434034704]\n",
       "3  4672-FOTSD  ...   [0.8289426055978661, 0.17105739440213386]\n",
       "4  2958-NHPPS  ...  [0.9689873570238158, 0.031012642976184224]\n",
       "5  3030-YDNRM  ...    [0.3814544806249943, 0.6185455193750057]\n",
       "6  8777-PVYGU  ...  [0.9692694285256653, 0.030730571474334667]\n",
       "7  7622-FWGEW  ...   [0.9653016529517774, 0.03469834704822261]\n",
       "8  8129-GMVGI  ...   [0.9676277361226537, 0.03237226387734626]\n",
       "9  7315-WYOAW  ...   [0.07937505350681136, 0.9206249464931886]\n",
       "\n",
       "[10 rows x 5 columns]"
      ]
     },
     "execution_count": 97,
     "metadata": {
      "tags": []
     },
     "output_type": "execute_result"
    }
   ],
   "source": [
    "gbtcv_predictions.select(\"customerID\",\"label\",\"prediction\",\"rawPrediction\",\"probability\").limit(10).toPandas()"
   ]
  },
  {
   "cell_type": "code",
   "execution_count": 98,
   "metadata": {
    "colab": {
     "base_uri": "https://localhost:8080/",
     "height": 34
    },
    "colab_type": "code",
    "executionInfo": {
     "elapsed": 44,
     "status": "ok",
     "timestamp": 1587398173545,
     "user": {
      "displayName": "Luis Blanco",
      "photoUrl": "https://lh3.googleusercontent.com/a-/AOh14Gg1BCQJfHT2P42mM1KkjEShxXP7ik2JKApJloXCcg=s64",
      "userId": "08327929932520946832"
     },
     "user_tz": -120
    },
    "id": "pSNHLtOSNljD",
    "outputId": "5964f04f-4f38-4c48-98ad-b89ee20b1ee9"
   },
   "outputs": [
    {
     "name": "stdout",
     "output_type": "stream",
     "text": [
      "Área bajo la curva ROC en Test: 0.5399309569284177\n"
     ]
    }
   ],
   "source": [
    "print(\"Área bajo la curva ROC en Test: \" + str(evaluator.evaluate(gbtcv_predictions)))"
   ]
  },
  {
   "cell_type": "code",
   "execution_count": 99,
   "metadata": {
    "colab": {
     "base_uri": "https://localhost:8080/",
     "height": 430
    },
    "colab_type": "code",
    "executionInfo": {
     "elapsed": 25,
     "status": "ok",
     "timestamp": 1587398173545,
     "user": {
      "displayName": "Luis Blanco",
      "photoUrl": "https://lh3.googleusercontent.com/a-/AOh14Gg1BCQJfHT2P42mM1KkjEShxXP7ik2JKApJloXCcg=s64",
      "userId": "08327929932520946832"
     },
     "user_tz": -120
    },
    "id": "ykQ29zmnNlch",
    "outputId": "16fa516e-ec22-4f70-dc68-38fb94d72896"
   },
   "outputs": [
    {
     "name": "stdout",
     "output_type": "stream",
     "text": [
      "Confusion matrix, without normalization\n",
      "[[1075  219]\n",
      " [ 229  238]]\n"
     ]
    },
    {
     "data": {
      "image/png": "[encoded data removed]",
      "text/plain": [
       "<Figure size 432x288 with 2 Axes>"
      ]
     },
     "metadata": {
      "needs_background": "light",
      "tags": []
     },
     "output_type": "display_data"
    },
    {
     "name": "stdout",
     "output_type": "stream",
     "text": [
      "Precision: 0.5208\n",
      "Recall: 0.5096\n",
      "F1: 0.5152\n",
      "Accuracy score: 0.7456\n"
     ]
    }
   ],
   "source": [
    "#Lista con las clases\n",
    "class_temp = gbtcv_predictions.select(\"label\").groupBy(\"label\")\\\n",
    "                        .count().sort('count', ascending=False).toPandas()\n",
    "class_temp = class_temp[\"label\"].values.tolist()\n",
    "\n",
    "#Matriz de confusión:\n",
    "sacar_confusion_matrix(gbtcv_predictions)"
   ]
  },
  {
   "cell_type": "markdown",
   "metadata": {
    "colab_type": "text",
    "id": "zMbSGhHYNl7z"
   },
   "source": [
    "<font color=\"Grey\">Vemos que el modelo ha predicho correctamente 1.075 Verdaderos Negativos y 238 Verdaderos Positivos, sin embargo ha errado en 229 Falsos Negativos y 219 Falsos Positivos.  \n",
    "Hemos podido comprobar que los hiperparámetros por defecto del modelo son lo que mejor resultado han dado, ya que hemos obtenido perores resultados, hemos pasado de un F1 Score de 0.5747 a 0.5152."
   ]
  },
  {
   "cell_type": "code",
   "execution_count": 109,
   "metadata": {
    "colab": {
     "base_uri": "https://localhost:8080/",
     "height": 430
    },
    "colab_type": "code",
    "executionInfo": {
     "elapsed": 2974,
     "status": "ok",
     "timestamp": 1587400449100,
     "user": {
      "displayName": "Luis Blanco",
      "photoUrl": "https://lh3.googleusercontent.com/a-/AOh14Gg1BCQJfHT2P42mM1KkjEShxXP7ik2JKApJloXCcg=s64",
      "userId": "08327929932520946832"
     },
     "user_tz": -120
    },
    "id": "Mb-w2ZXdbN6U",
    "outputId": "3e060181-2a29-45c5-c076-c33fed24a7c2"
   },
   "outputs": [
    {
     "name": "stdout",
     "output_type": "stream",
     "text": [
      "Confusion matrix, without normalization\n",
      "[[3829   51]\n",
      " [  47 1355]]\n"
     ]
    },
    {
     "data": {
      "image/png": "[encoded data removed]",
      "text/plain": [
       "<Figure size 432x288 with 2 Axes>"
      ]
     },
     "metadata": {
      "needs_background": "light",
      "tags": []
     },
     "output_type": "display_data"
    },
    {
     "name": "stdout",
     "output_type": "stream",
     "text": [
      "Precision: 0.9637\n",
      "Recall: 0.9665\n",
      "F1: 0.9651\n",
      "Accuracy score: 0.9814\n"
     ]
    }
   ],
   "source": [
    "#Calculamos la matriz de las prediciones en Train para ver si hay overfitting:\n",
    "gbtcv_predictions_train = gbtcv_model.transform(train)\n",
    "\n",
    "#Lista con las clases\n",
    "class_temp = gbtcv_predictions_train.select(\"label\").groupBy(\"label\")\\\n",
    "                        .count().sort('count', ascending=False).toPandas()\n",
    "class_temp = class_temp[\"label\"].values.tolist()\n",
    "\n",
    "#Matriz de confusión:\n",
    "sacar_confusion_matrix(gbtcv_predictions_train)"
   ]
  },
  {
   "cell_type": "markdown",
   "metadata": {
    "colab_type": "text",
    "id": "cNK_Iy2hcQaE"
   },
   "source": [
    "<font color=\"Grey\">El modelo tiene overfitting ya que en train tenemos valores muy altos en la métrica y en test mucho más bajos."
   ]
  },
  {
   "cell_type": "code",
   "execution_count": 88,
   "metadata": {
    "colab": {
     "base_uri": "https://localhost:8080/",
     "height": 34
    },
    "colab_type": "code",
    "executionInfo": {
     "elapsed": 17237,
     "status": "ok",
     "timestamp": 1587394965710,
     "user": {
      "displayName": "Luis Blanco",
      "photoUrl": "https://lh3.googleusercontent.com/a-/AOh14Gg1BCQJfHT2P42mM1KkjEShxXP7ik2JKApJloXCcg=s64",
      "userId": "08327929932520946832"
     },
     "user_tz": -120
    },
    "id": "dgiTcbbjrqYP",
    "outputId": "19b2a2dc-0b9e-4bdb-ca22-9cf14d422658"
   },
   "outputs": [
    {
     "name": "stdout",
     "output_type": "stream",
     "text": [
      "CrossValidatorModel_d69b4f2cb9e5\n"
     ]
    }
   ],
   "source": [
    "#Naive Bayes Classifiers CV:\n",
    "nb=NaiveBayes(featuresCol=\"features\", labelCol=\"label\")\n",
    "#Añadimos rangos de hiperparámetros para el modelo:\n",
    "nb_paramGrid = (ParamGridBuilder()\n",
    "    .addGrid(nb.smoothing, [1, 3, 5])\n",
    "    .build()\n",
    ")  \n",
    "\n",
    "#CrossValidator 3 folds:\n",
    "nb_cross = CrossValidator(estimator = nb,\n",
    "                      estimatorParamMaps = nb_paramGrid,\n",
    "                      evaluator = evaluator,\n",
    "                      numFolds = 3)\n",
    "\n",
    "#Activamos la Validación Cruzada:\n",
    "nbcv_model = nb_cross.fit(train)\n",
    "print(nbcv_model)\n",
    "\n",
    "#Calculamos nuestras predicciones (en test):\n",
    "nbcv_predictions = nbcv_model.transform(test)"
   ]
  },
  {
   "cell_type": "code",
   "execution_count": 89,
   "metadata": {
    "colab": {
     "base_uri": "https://localhost:8080/",
     "height": 359
    },
    "colab_type": "code",
    "executionInfo": {
     "elapsed": 12001,
     "status": "ok",
     "timestamp": 1587394966615,
     "user": {
      "displayName": "Luis Blanco",
      "photoUrl": "https://lh3.googleusercontent.com/a-/AOh14Gg1BCQJfHT2P42mM1KkjEShxXP7ik2JKApJloXCcg=s64",
      "userId": "08327929932520946832"
     },
     "user_tz": -120
    },
    "id": "iC2_pqIjrqVh",
    "outputId": "49d62233-bd3b-4457-ea1c-178a7de245e8"
   },
   "outputs": [
    {
     "data": {
      "text/html": [
       "<div>\n",
       "<style scoped>\n",
       "    .dataframe tbody tr th:only-of-type {\n",
       "        vertical-align: middle;\n",
       "    }\n",
       "\n",
       "    .dataframe tbody tr th {\n",
       "        vertical-align: top;\n",
       "    }\n",
       "\n",
       "    .dataframe thead th {\n",
       "        text-align: right;\n",
       "    }\n",
       "</style>\n",
       "<table border=\"1\" class=\"dataframe\">\n",
       "  <thead>\n",
       "    <tr style=\"text-align: right;\">\n",
       "      <th></th>\n",
       "      <th>customerID</th>\n",
       "      <th>label</th>\n",
       "      <th>prediction</th>\n",
       "      <th>rawPrediction</th>\n",
       "      <th>probability</th>\n",
       "    </tr>\n",
       "  </thead>\n",
       "  <tbody>\n",
       "    <tr>\n",
       "      <th>0</th>\n",
       "      <td>6980-IMXXE</td>\n",
       "      <td>0.0</td>\n",
       "      <td>0.0</td>\n",
       "      <td>[-464.54435510053634, -505.79852573877946]</td>\n",
       "      <td>[1.0, 1.2121080521953684e-18]</td>\n",
       "    </tr>\n",
       "    <tr>\n",
       "      <th>1</th>\n",
       "      <td>8756-RDDLT</td>\n",
       "      <td>0.0</td>\n",
       "      <td>0.0</td>\n",
       "      <td>[-686.3864224236905, -743.0016869907573]</td>\n",
       "      <td>[1.0, 2.5840624608514673e-25]</td>\n",
       "    </tr>\n",
       "    <tr>\n",
       "      <th>2</th>\n",
       "      <td>3190-ITQXP</td>\n",
       "      <td>0.0</td>\n",
       "      <td>0.0</td>\n",
       "      <td>[-344.82520204126166, -367.1142471574343]</td>\n",
       "      <td>[0.9999999997910749, 2.0892513865510259e-10]</td>\n",
       "    </tr>\n",
       "    <tr>\n",
       "      <th>3</th>\n",
       "      <td>4672-FOTSD</td>\n",
       "      <td>0.0</td>\n",
       "      <td>1.0</td>\n",
       "      <td>[-471.0591714156753, -440.86823697627074]</td>\n",
       "      <td>[7.731144123988118e-14, 0.9999999999999227]</td>\n",
       "    </tr>\n",
       "    <tr>\n",
       "      <th>4</th>\n",
       "      <td>2958-NHPPS</td>\n",
       "      <td>0.0</td>\n",
       "      <td>1.0</td>\n",
       "      <td>[-256.8330162136503, -255.83697545362827]</td>\n",
       "      <td>[0.2697205669535631, 0.7302794330464369]</td>\n",
       "    </tr>\n",
       "    <tr>\n",
       "      <th>5</th>\n",
       "      <td>3030-YDNRM</td>\n",
       "      <td>0.0</td>\n",
       "      <td>1.0</td>\n",
       "      <td>[-471.58909281414026, -423.7827984350723]</td>\n",
       "      <td>[1.7297771303213742e-21, 1.0]</td>\n",
       "    </tr>\n",
       "    <tr>\n",
       "      <th>6</th>\n",
       "      <td>8777-PVYGU</td>\n",
       "      <td>0.0</td>\n",
       "      <td>0.0</td>\n",
       "      <td>[-712.6699817123284, -761.5442512961387]</td>\n",
       "      <td>[1.0, 5.9453087432574455e-22]</td>\n",
       "    </tr>\n",
       "    <tr>\n",
       "      <th>7</th>\n",
       "      <td>7622-FWGEW</td>\n",
       "      <td>0.0</td>\n",
       "      <td>0.0</td>\n",
       "      <td>[-897.3874221435344, -970.831031160078]</td>\n",
       "      <td>[1.0, 1.270123270652222e-32]</td>\n",
       "    </tr>\n",
       "    <tr>\n",
       "      <th>8</th>\n",
       "      <td>8129-GMVGI</td>\n",
       "      <td>0.0</td>\n",
       "      <td>0.0</td>\n",
       "      <td>[-395.0150033168839, -424.7959649091717]</td>\n",
       "      <td>[0.9999999999998834, 1.1649109154100525e-13]</td>\n",
       "    </tr>\n",
       "    <tr>\n",
       "      <th>9</th>\n",
       "      <td>7315-WYOAW</td>\n",
       "      <td>0.0</td>\n",
       "      <td>1.0</td>\n",
       "      <td>[-613.3363765278194, -570.0972333022205]</td>\n",
       "      <td>[1.665247134068571e-19, 1.0]</td>\n",
       "    </tr>\n",
       "  </tbody>\n",
       "</table>\n",
       "</div>"
      ],
      "text/plain": [
       "   customerID  ...                                   probability\n",
       "0  6980-IMXXE  ...                 [1.0, 1.2121080521953684e-18]\n",
       "1  8756-RDDLT  ...                 [1.0, 2.5840624608514673e-25]\n",
       "2  3190-ITQXP  ...  [0.9999999997910749, 2.0892513865510259e-10]\n",
       "3  4672-FOTSD  ...   [7.731144123988118e-14, 0.9999999999999227]\n",
       "4  2958-NHPPS  ...      [0.2697205669535631, 0.7302794330464369]\n",
       "5  3030-YDNRM  ...                 [1.7297771303213742e-21, 1.0]\n",
       "6  8777-PVYGU  ...                 [1.0, 5.9453087432574455e-22]\n",
       "7  7622-FWGEW  ...                  [1.0, 1.270123270652222e-32]\n",
       "8  8129-GMVGI  ...  [0.9999999999998834, 1.1649109154100525e-13]\n",
       "9  7315-WYOAW  ...                  [1.665247134068571e-19, 1.0]\n",
       "\n",
       "[10 rows x 5 columns]"
      ]
     },
     "execution_count": 89,
     "metadata": {
      "tags": []
     },
     "output_type": "execute_result"
    }
   ],
   "source": [
    "nbcv_predictions.select(\"customerID\",\"label\",\"prediction\",\"rawPrediction\",\"probability\").limit(10).toPandas()"
   ]
  },
  {
   "cell_type": "code",
   "execution_count": 90,
   "metadata": {
    "colab": {
     "base_uri": "https://localhost:8080/",
     "height": 34
    },
    "colab_type": "code",
    "executionInfo": {
     "elapsed": 10620,
     "status": "ok",
     "timestamp": 1587394966836,
     "user": {
      "displayName": "Luis Blanco",
      "photoUrl": "https://lh3.googleusercontent.com/a-/AOh14Gg1BCQJfHT2P42mM1KkjEShxXP7ik2JKApJloXCcg=s64",
      "userId": "08327929932520946832"
     },
     "user_tz": -120
    },
    "id": "bmWVeafNNuy8",
    "outputId": "bbdacefc-551a-4c0f-8d02-cb83d5be7e4b"
   },
   "outputs": [
    {
     "name": "stdout",
     "output_type": "stream",
     "text": [
      "Área bajo la curva ROC en Test: 0.28477213618837427\n"
     ]
    }
   ],
   "source": [
    "print(\"Área bajo la curva ROC en Test: \" + str(evaluator.evaluate(nbcv_predictions)))"
   ]
  },
  {
   "cell_type": "code",
   "execution_count": 91,
   "metadata": {
    "colab": {
     "base_uri": "https://localhost:8080/",
     "height": 430
    },
    "colab_type": "code",
    "executionInfo": {
     "elapsed": 12861,
     "status": "ok",
     "timestamp": 1587394969737,
     "user": {
      "displayName": "Luis Blanco",
      "photoUrl": "https://lh3.googleusercontent.com/a-/AOh14Gg1BCQJfHT2P42mM1KkjEShxXP7ik2JKApJloXCcg=s64",
      "userId": "08327929932520946832"
     },
     "user_tz": -120
    },
    "id": "zoabjgKTNusu",
    "outputId": "919e7907-d43b-453d-819b-21f38cdebdce"
   },
   "outputs": [
    {
     "name": "stdout",
     "output_type": "stream",
     "text": [
      "Confusion matrix, without normalization\n",
      "[[817 477]\n",
      " [119 348]]\n"
     ]
    },
    {
     "data": {
      "image/png": "[encoded data removed]",
      "text/plain": [
       "<Figure size 432x288 with 2 Axes>"
      ]
     },
     "metadata": {
      "needs_background": "light",
      "tags": []
     },
     "output_type": "display_data"
    },
    {
     "name": "stdout",
     "output_type": "stream",
     "text": [
      "Precision: 0.4218\n",
      "Recall: 0.7452\n",
      "F1: 0.5387\n",
      "Accuracy score: 0.6616\n"
     ]
    }
   ],
   "source": [
    "#Lista con las clases\n",
    "class_temp = nbcv_predictions.select(\"label\").groupBy(\"label\")\\\n",
    "                        .count().sort('count', ascending=False).toPandas()\n",
    "class_temp = class_temp[\"label\"].values.tolist()\n",
    "\n",
    "#Matriz de confusión:\n",
    "sacar_confusion_matrix(nbcv_predictions)"
   ]
  },
  {
   "cell_type": "markdown",
   "metadata": {
    "colab_type": "text",
    "id": "uHJWgRm5Nvc1"
   },
   "source": [
    "<font color=\"Grey\">Vemos que el modelo ha predicho correctamente 817 Verdaderos Negativos y 348 Verdaderos Positivos, sin embargo ha errado en 119 Falsos Negativos y 477 Falsos Positivos.  \n",
    "Hemos podido comprobar que los hiperparámetros por defecto del modelo son lo que mejor resultado han dado, ya que hemos obtenido los mismos resultados, por lo que el Cross Validation no ha tenido mucho efecto. F1 Score 0.5387 en ambos casos."
   ]
  },
  {
   "cell_type": "code",
   "execution_count": 110,
   "metadata": {
    "colab": {
     "base_uri": "https://localhost:8080/",
     "height": 430
    },
    "colab_type": "code",
    "executionInfo": {
     "elapsed": 2699,
     "status": "ok",
     "timestamp": 1587400857268,
     "user": {
      "displayName": "Luis Blanco",
      "photoUrl": "https://lh3.googleusercontent.com/a-/AOh14Gg1BCQJfHT2P42mM1KkjEShxXP7ik2JKApJloXCcg=s64",
      "userId": "08327929932520946832"
     },
     "user_tz": -120
    },
    "id": "F3I_LIjRdXpa",
    "outputId": "c9444aef-dd2f-4d0d-9f13-deff93125706"
   },
   "outputs": [
    {
     "name": "stdout",
     "output_type": "stream",
     "text": [
      "Confusion matrix, without normalization\n",
      "[[2430 1450]\n",
      " [ 354 1048]]\n"
     ]
    },
    {
     "data": {
      "image/png": "[encoded data removed]",
      "text/plain": [
       "<Figure size 432x288 with 2 Axes>"
      ]
     },
     "metadata": {
      "needs_background": "light",
      "tags": []
     },
     "output_type": "display_data"
    },
    {
     "name": "stdout",
     "output_type": "stream",
     "text": [
      "Precision: 0.4195\n",
      "Recall: 0.7475\n",
      "F1: 0.5374\n",
      "Accuracy score: 0.6585\n"
     ]
    }
   ],
   "source": [
    "#Calculamos la matriz de las prediciones en Train para ver si hay overfitting:\n",
    "nbcv_predictions_train = nbcv_model.transform(train)\n",
    "\n",
    "#Lista con las clases\n",
    "class_temp = nbcv_predictions_train.select(\"label\").groupBy(\"label\")\\\n",
    "                        .count().sort('count', ascending=False).toPandas()\n",
    "class_temp = class_temp[\"label\"].values.tolist()\n",
    "\n",
    "#Matriz de confusión:\n",
    "sacar_confusion_matrix(nbcv_predictions_train)"
   ]
  },
  {
   "cell_type": "markdown",
   "metadata": {
    "colab_type": "text",
    "id": "ypvwGzV1d1wy"
   },
   "source": [
    "<font color=\"Grey\">Estamos en los mismos valores en las métricas, no hay overfitting."
   ]
  },
  {
   "cell_type": "code",
   "execution_count": 92,
   "metadata": {
    "colab": {
     "base_uri": "https://localhost:8080/",
     "height": 34
    },
    "colab_type": "code",
    "executionInfo": {
     "elapsed": 484469,
     "status": "ok",
     "timestamp": 1587395471032,
     "user": {
      "displayName": "Luis Blanco",
      "photoUrl": "https://lh3.googleusercontent.com/a-/AOh14Gg1BCQJfHT2P42mM1KkjEShxXP7ik2JKApJloXCcg=s64",
      "userId": "08327929932520946832"
     },
     "user_tz": -120
    },
    "id": "i20bYWIwrqS6",
    "outputId": "4f1cd02b-7a0e-461c-9cab-57d75881071b"
   },
   "outputs": [
    {
     "name": "stdout",
     "output_type": "stream",
     "text": [
      "CrossValidatorModel_dcf2e1cf3ecf\n"
     ]
    }
   ],
   "source": [
    "#Linear Support Vector Machine CV:\n",
    "lsvc=LinearSVC(featuresCol=\"features\", labelCol=\"label\")\n",
    "#Añadimos rangos de hiperparámetros para el modelo:\n",
    "lsvc_paramGrid = (ParamGridBuilder()\n",
    "    .addGrid(lsvc.aggregationDepth, [2,3])\n",
    "    .addGrid(lsvc.maxIter, [100,120])\n",
    "    .addGrid(lsvc.fitIntercept, [True])\n",
    "    .addGrid(lsvc.standardization, [True])\n",
    "    .build()\n",
    ")  \n",
    "\n",
    "#CrossValidator 3 folds:\n",
    "lsvc_cross = CrossValidator(estimator = lsvc,\n",
    "                      estimatorParamMaps = lsvc_paramGrid,\n",
    "                      evaluator = evaluator,\n",
    "                      numFolds = 3)\n",
    "\n",
    "#Activamos la Validación Cruzada:\n",
    "lsvccv_model = lsvc_cross.fit(train)\n",
    "print(lsvccv_model)\n",
    "\n",
    "#Calculamos nuestras predicciones (en test):\n",
    "lsvccv_predictions = lsvccv_model.transform(test)"
   ]
  },
  {
   "cell_type": "code",
   "execution_count": 93,
   "metadata": {
    "colab": {
     "base_uri": "https://localhost:8080/",
     "height": 359
    },
    "colab_type": "code",
    "executionInfo": {
     "elapsed": 915,
     "status": "ok",
     "timestamp": 1587395471982,
     "user": {
      "displayName": "Luis Blanco",
      "photoUrl": "https://lh3.googleusercontent.com/a-/AOh14Gg1BCQJfHT2P42mM1KkjEShxXP7ik2JKApJloXCcg=s64",
      "userId": "08327929932520946832"
     },
     "user_tz": -120
    },
    "id": "QROrZgX4rqPG",
    "outputId": "79fd2a91-d369-41b8-d4d0-a7c248637eed"
   },
   "outputs": [
    {
     "data": {
      "text/html": [
       "<div>\n",
       "<style scoped>\n",
       "    .dataframe tbody tr th:only-of-type {\n",
       "        vertical-align: middle;\n",
       "    }\n",
       "\n",
       "    .dataframe tbody tr th {\n",
       "        vertical-align: top;\n",
       "    }\n",
       "\n",
       "    .dataframe thead th {\n",
       "        text-align: right;\n",
       "    }\n",
       "</style>\n",
       "<table border=\"1\" class=\"dataframe\">\n",
       "  <thead>\n",
       "    <tr style=\"text-align: right;\">\n",
       "      <th></th>\n",
       "      <th>customerID</th>\n",
       "      <th>label</th>\n",
       "      <th>prediction</th>\n",
       "      <th>rawPrediction</th>\n",
       "    </tr>\n",
       "  </thead>\n",
       "  <tbody>\n",
       "    <tr>\n",
       "      <th>0</th>\n",
       "      <td>6980-IMXXE</td>\n",
       "      <td>0.0</td>\n",
       "      <td>0.0</td>\n",
       "      <td>[3.2277585228767802, -3.2277585228767802]</td>\n",
       "    </tr>\n",
       "    <tr>\n",
       "      <th>1</th>\n",
       "      <td>8756-RDDLT</td>\n",
       "      <td>0.0</td>\n",
       "      <td>0.0</td>\n",
       "      <td>[2.0965960626182776, -2.0965960626182776]</td>\n",
       "    </tr>\n",
       "    <tr>\n",
       "      <th>2</th>\n",
       "      <td>3190-ITQXP</td>\n",
       "      <td>0.0</td>\n",
       "      <td>0.0</td>\n",
       "      <td>[2.5734640252690637, -2.5734640252690637]</td>\n",
       "    </tr>\n",
       "    <tr>\n",
       "      <th>3</th>\n",
       "      <td>4672-FOTSD</td>\n",
       "      <td>0.0</td>\n",
       "      <td>0.0</td>\n",
       "      <td>[1.241177817340986, -1.241177817340986]</td>\n",
       "    </tr>\n",
       "    <tr>\n",
       "      <th>4</th>\n",
       "      <td>2958-NHPPS</td>\n",
       "      <td>0.0</td>\n",
       "      <td>0.0</td>\n",
       "      <td>[1.4479479257474277, -1.4479479257474277]</td>\n",
       "    </tr>\n",
       "    <tr>\n",
       "      <th>5</th>\n",
       "      <td>3030-YDNRM</td>\n",
       "      <td>0.0</td>\n",
       "      <td>1.0</td>\n",
       "      <td>[-0.828524077205524, 0.828524077205524]</td>\n",
       "    </tr>\n",
       "    <tr>\n",
       "      <th>6</th>\n",
       "      <td>8777-PVYGU</td>\n",
       "      <td>0.0</td>\n",
       "      <td>0.0</td>\n",
       "      <td>[2.4630800088139075, -2.4630800088139075]</td>\n",
       "    </tr>\n",
       "    <tr>\n",
       "      <th>7</th>\n",
       "      <td>7622-FWGEW</td>\n",
       "      <td>0.0</td>\n",
       "      <td>0.0</td>\n",
       "      <td>[2.740973133720192, -2.740973133720192]</td>\n",
       "    </tr>\n",
       "    <tr>\n",
       "      <th>8</th>\n",
       "      <td>8129-GMVGI</td>\n",
       "      <td>0.0</td>\n",
       "      <td>0.0</td>\n",
       "      <td>[2.7789654248146, -2.7789654248146]</td>\n",
       "    </tr>\n",
       "    <tr>\n",
       "      <th>9</th>\n",
       "      <td>7315-WYOAW</td>\n",
       "      <td>0.0</td>\n",
       "      <td>1.0</td>\n",
       "      <td>[-0.3891190683003307, 0.3891190683003307]</td>\n",
       "    </tr>\n",
       "  </tbody>\n",
       "</table>\n",
       "</div>"
      ],
      "text/plain": [
       "   customerID  label  prediction                              rawPrediction\n",
       "0  6980-IMXXE    0.0         0.0  [3.2277585228767802, -3.2277585228767802]\n",
       "1  8756-RDDLT    0.0         0.0  [2.0965960626182776, -2.0965960626182776]\n",
       "2  3190-ITQXP    0.0         0.0  [2.5734640252690637, -2.5734640252690637]\n",
       "3  4672-FOTSD    0.0         0.0    [1.241177817340986, -1.241177817340986]\n",
       "4  2958-NHPPS    0.0         0.0  [1.4479479257474277, -1.4479479257474277]\n",
       "5  3030-YDNRM    0.0         1.0    [-0.828524077205524, 0.828524077205524]\n",
       "6  8777-PVYGU    0.0         0.0  [2.4630800088139075, -2.4630800088139075]\n",
       "7  7622-FWGEW    0.0         0.0    [2.740973133720192, -2.740973133720192]\n",
       "8  8129-GMVGI    0.0         0.0        [2.7789654248146, -2.7789654248146]\n",
       "9  7315-WYOAW    0.0         1.0  [-0.3891190683003307, 0.3891190683003307]"
      ]
     },
     "execution_count": 93,
     "metadata": {
      "tags": []
     },
     "output_type": "execute_result"
    }
   ],
   "source": [
    "lsvccv_predictions.select(\"customerID\",\"label\",\"prediction\",\"rawPrediction\").limit(10).toPandas()"
   ]
  },
  {
   "cell_type": "code",
   "execution_count": 94,
   "metadata": {
    "colab": {
     "base_uri": "https://localhost:8080/",
     "height": 34
    },
    "colab_type": "code",
    "executionInfo": {
     "elapsed": 1892,
     "status": "ok",
     "timestamp": 1587395472983,
     "user": {
      "displayName": "Luis Blanco",
      "photoUrl": "https://lh3.googleusercontent.com/a-/AOh14Gg1BCQJfHT2P42mM1KkjEShxXP7ik2JKApJloXCcg=s64",
      "userId": "08327929932520946832"
     },
     "user_tz": -120
    },
    "id": "efTRHDY2rqMY",
    "outputId": "2c709b9a-cd95-472a-9362-642a967d7c88"
   },
   "outputs": [
    {
     "name": "stdout",
     "output_type": "stream",
     "text": [
      "Área bajo la curva ROC en Test: 0.6223279959507984\n"
     ]
    }
   ],
   "source": [
    "print(\"Área bajo la curva ROC en Test: \" + str(evaluator.evaluate(lsvccv_predictions)))"
   ]
  },
  {
   "cell_type": "code",
   "execution_count": 95,
   "metadata": {
    "colab": {
     "base_uri": "https://localhost:8080/",
     "height": 430
    },
    "colab_type": "code",
    "executionInfo": {
     "elapsed": 4935,
     "status": "ok",
     "timestamp": 1587395476041,
     "user": {
      "displayName": "Luis Blanco",
      "photoUrl": "https://lh3.googleusercontent.com/a-/AOh14Gg1BCQJfHT2P42mM1KkjEShxXP7ik2JKApJloXCcg=s64",
      "userId": "08327929932520946832"
     },
     "user_tz": -120
    },
    "id": "FCCyL-q2rqBl",
    "outputId": "ff71ee87-b25e-4711-91b6-da4e94a2ff7c"
   },
   "outputs": [
    {
     "name": "stdout",
     "output_type": "stream",
     "text": [
      "Confusion matrix, without normalization\n",
      "[[1147  147]\n",
      " [ 218  249]]\n"
     ]
    },
    {
     "data": {
      "image/png": "[encoded data removed]",
      "text/plain": [
       "<Figure size 432x288 with 2 Axes>"
      ]
     },
     "metadata": {
      "needs_background": "light",
      "tags": []
     },
     "output_type": "display_data"
    },
    {
     "name": "stdout",
     "output_type": "stream",
     "text": [
      "Precision: 0.6288\n",
      "Recall: 0.5332\n",
      "F1: 0.5771\n",
      "Accuracy score: 0.7927\n"
     ]
    }
   ],
   "source": [
    "#Lista con las clases\n",
    "class_temp = lsvccv_predictions.select(\"label\").groupBy(\"label\")\\\n",
    "                        .count().sort('count', ascending=False).toPandas()\n",
    "class_temp = class_temp[\"label\"].values.tolist()\n",
    "\n",
    "#Matriz de confusión:\n",
    "sacar_confusion_matrix(lsvccv_predictions)"
   ]
  },
  {
   "cell_type": "markdown",
   "metadata": {
    "colab_type": "text",
    "id": "9JAlbS6LNwUO"
   },
   "source": [
    "<font color=\"Grey\">Vemos que el modelo ha predicho correctamente 1.147 Verdaderos Negativos y 249 Verdaderos Positivos, sin embargo ha errado en 218 Falsos Negativos y 147 Falsos Positivos.  \n",
    "Hemos podido comprobar que el nuevo modelo, con otros hiperparámetros y con el Cross Validation, ha empeorado los resultados, obtiendo un mejor F1 score con el modelo inical (0.5810 antes vs. 0.5771 actual)."
   ]
  },
  {
   "cell_type": "code",
   "execution_count": 111,
   "metadata": {
    "colab": {
     "base_uri": "https://localhost:8080/",
     "height": 430
    },
    "colab_type": "code",
    "executionInfo": {
     "elapsed": 2371,
     "status": "ok",
     "timestamp": 1587400988226,
     "user": {
      "displayName": "Luis Blanco",
      "photoUrl": "https://lh3.googleusercontent.com/a-/AOh14Gg1BCQJfHT2P42mM1KkjEShxXP7ik2JKApJloXCcg=s64",
      "userId": "08327929932520946832"
     },
     "user_tz": -120
    },
    "id": "i1mydvI8d-Cw",
    "outputId": "8131d3e3-83d8-4cc6-a0ea-d6fae14fe127"
   },
   "outputs": [
    {
     "name": "stdout",
     "output_type": "stream",
     "text": [
      "Confusion matrix, without normalization\n",
      "[[3475  405]\n",
      " [ 620  782]]\n"
     ]
    },
    {
     "data": {
      "image/png": "[encoded data removed]",
      "text/plain": [
       "<Figure size 432x288 with 2 Axes>"
      ]
     },
     "metadata": {
      "needs_background": "light",
      "tags": []
     },
     "output_type": "display_data"
    },
    {
     "name": "stdout",
     "output_type": "stream",
     "text": [
      "Precision: 0.6588\n",
      "Recall: 0.5578\n",
      "F1: 0.6041\n",
      "Accuracy score: 0.8059\n"
     ]
    }
   ],
   "source": [
    "#Calculamos la matriz de las prediciones en Train para ver si hay overfitting:\n",
    "lsvccv_predictions_train = lsvccv_model.transform(train)\n",
    "\n",
    "#Lista con las clases\n",
    "class_temp = lsvccv_predictions_train.select(\"label\").groupBy(\"label\")\\\n",
    "                        .count().sort('count', ascending=False).toPandas()\n",
    "class_temp = class_temp[\"label\"].values.tolist()\n",
    "\n",
    "#Matriz de confusión:\n",
    "sacar_confusion_matrix(lsvccv_predictions_train)"
   ]
  },
  {
   "cell_type": "markdown",
   "metadata": {
    "colab_type": "text",
    "id": "n3E4h77QeXWr"
   },
   "source": [
    "<font color=\"Grey\">Estamos en los mismos valores en las métricas, no hay overfitting."
   ]
  },
  {
   "cell_type": "markdown",
   "metadata": {
    "colab_type": "text",
    "id": "KLuso-v6yA57"
   },
   "source": [
    "<font color=\"Grey\">Observamos, que no hemos mejorado los resultados en ningún modelo con respecto a su homólogo sin tunning.  \n",
    "Por lo que el mejor modelo sigue siendo el Decision Tree Classifier sin tunear.  \n",
    "Podríamos sacar los mejores parámetros de cada modelo tuneado, por al no haber mejorado los resultados anteriores no lo realizaremos."
   ]
  },
  {
   "cell_type": "markdown",
   "metadata": {
    "colab_type": "text",
    "id": "QhqmpLKojNOx"
   },
   "source": [
    "# <font color=\"grey\">7. En base al tipo de problemática (modelo de churn) con qué modelo te quedarías. Justificalo"
   ]
  },
  {
   "cell_type": "markdown",
   "metadata": {
    "colab_type": "text",
    "id": "ET6zA4rEjKks"
   },
   "source": [
    "<font color=\"Grey\">Con un modelo de churn, tratamos de evitar que los clientes se den de baja de la compañía. Es importante predecir qué usuarios van a darse de baja para ofrecerle algún tipo de promoción y así hacer que cambien de opinión.\n",
    "\n",
    "<font color=\"Grey\">En este sentido, al analizar nuestros resultados, debemos maximizar los Verdaderos Positivos, y para ello, es necesario minimizar tanto los Falsos Positivos, es decir, usuarios que no se van a ir de la compañía, pero erróneamente se le ofrece la promoción, y los Falsos Negativos, es decir, usuarios a los que no se les ofrece ninguna promoción ya que no se les considera, pero se van de la compañía.\n",
    "\n",
    "<font color=\"Grey\">Para conocer qué modelo sería mejor para llevarlo a producción, vamos a hacer un ejercicio de negocio. Calcularemos el gasto anual medio de nuestros clientes, con el fin de conocer lo que podemos perder en un año porque un usuario se dé de baja (Falsos Negativos), por otro lado, calcularemos el coste de ofrecer una promoción a los usuarios que no tenían intención de irse (Falsos Positivos), en este sentido, se ofrecerá una promoción que sea una reducción del 30% en la factura, es decir, el 30% del gasto anual medio calculado anteriormente.  \n",
    "La fórmula que pasaremos a todos nuestros modelos es la siguiente:\n",
    "\n",
    "<font color=\"Grey\">$$Falsos Negativos * Facturación Perdida + Falsos Positivos * Gasto Promoción$$"
   ]
  },
  {
   "cell_type": "code",
   "execution_count": 118,
   "metadata": {
    "colab": {
     "base_uri": "https://localhost:8080/",
     "height": 34
    },
    "colab_type": "code",
    "executionInfo": {
     "elapsed": 662,
     "status": "ok",
     "timestamp": 1587402295287,
     "user": {
      "displayName": "Luis Blanco",
      "photoUrl": "https://lh3.googleusercontent.com/a-/AOh14Gg1BCQJfHT2P42mM1KkjEShxXP7ik2JKApJloXCcg=s64",
      "userId": "08327929932520946832"
     },
     "user_tz": -120
    },
    "id": "oIN_NvEkjMQX",
    "outputId": "1df67c69-313a-4c49-c271-4b1305b34d39"
   },
   "outputs": [
    {
     "data": {
      "text/plain": [
       "777.14"
      ]
     },
     "execution_count": 118,
     "metadata": {
      "tags": []
     },
     "output_type": "execute_result"
    }
   ],
   "source": [
    "facturacion_perdida=df.agg(F.mean(\"MonthlyCharges\")*12).toPandas()\n",
    "facturacion_perdida=round(facturacion_perdida[\"(avg(MonthlyCharges) * 12)\"][0],2)\n",
    "facturacion_perdida"
   ]
  },
  {
   "cell_type": "code",
   "execution_count": 119,
   "metadata": {
    "colab": {
     "base_uri": "https://localhost:8080/",
     "height": 34
    },
    "colab_type": "code",
    "executionInfo": {
     "elapsed": 439,
     "status": "ok",
     "timestamp": 1587402295512,
     "user": {
      "displayName": "Luis Blanco",
      "photoUrl": "https://lh3.googleusercontent.com/a-/AOh14Gg1BCQJfHT2P42mM1KkjEShxXP7ik2JKApJloXCcg=s64",
      "userId": "08327929932520946832"
     },
     "user_tz": -120
    },
    "id": "jBHV-PJOnQ2v",
    "outputId": "91ffdf17-98b2-4e4b-8e92-84ba36889b22"
   },
   "outputs": [
    {
     "data": {
      "text/plain": [
       "233.14"
      ]
     },
     "execution_count": 119,
     "metadata": {
      "tags": []
     },
     "output_type": "execute_result"
    }
   ],
   "source": [
    "gasto_promocion=round(facturacion_perdida*0.3,2)\n",
    "gasto_promocion"
   ]
  },
  {
   "cell_type": "markdown",
   "metadata": {
    "colab_type": "text",
    "id": "8Lfykrn98ItP"
   },
   "source": [
    "<font color=\"Grey\">Vamos a analizar todos los modelos realizados"
   ]
  },
  {
   "cell_type": "code",
   "execution_count": 0,
   "metadata": {
    "colab": {},
    "colab_type": "code",
    "id": "AJz_Q2G79rjc"
   },
   "outputs": [],
   "source": [
    "def gasto (FN,FP):\n",
    "  \"\"\"\n",
    "  Función que determina el gasto que conlleva el uso\n",
    "  del modelo.\n",
    "  \"\"\"\n",
    "  return round((FN*facturacion_perdida)+(FP*gasto_promocion),2)"
   ]
  },
  {
   "cell_type": "code",
   "execution_count": 121,
   "metadata": {
    "colab": {
     "base_uri": "https://localhost:8080/",
     "height": 204
    },
    "colab_type": "code",
    "executionInfo": {
     "elapsed": 762,
     "status": "ok",
     "timestamp": 1587402407030,
     "user": {
      "displayName": "Luis Blanco",
      "photoUrl": "https://lh3.googleusercontent.com/a-/AOh14Gg1BCQJfHT2P42mM1KkjEShxXP7ik2JKApJloXCcg=s64",
      "userId": "08327929932520946832"
     },
     "user_tz": -120
    },
    "id": "JjjdG_4Lqkpa",
    "outputId": "f9028867-c634-45fd-ec31-90be57e90688"
   },
   "outputs": [
    {
     "name": "stdout",
     "output_type": "stream",
     "text": [
      "Con Logistic Regression la empresa perdería: 198481.26 $\n",
      "Con Decision Tree Classifier la empresa perdería: 191720.02 $\n",
      "Con Random Forest Classifier la empresa perdería: 246664.06 $\n",
      "Con Gradient Boosting Tree Classifier la empresa perdería: 203921.22 $\n",
      "Con Naive Bayes Classifiers la empresa perdería: 203687.44 $\n",
      "Con Linear Support Vector Machine la empresa perdería: 201900.68 $\n",
      "Con Logistic Regression CV la empresa perdería: 208273.24 $\n",
      "Con Decision Tree Classifier CV la empresa perdería: 193118.88 $\n",
      "Con Random Forest Classifier CV la empresa perdería: 253502.88 $\n",
      "Con Naive Bayes Classifiers CV la empresa perdería: 203687.44 $\n",
      "Con Linear Support Vector Machine CV la empresa perdería: 203688.1 $\n"
     ]
    }
   ],
   "source": [
    "#Logistic Regression:\n",
    "FN=211\n",
    "FP=148\n",
    "gasto_lr=gasto(FN,FP)\n",
    "print(\"Con Logistic Regression la empresa perdería:\",gasto_lr,\"$\")\n",
    "\n",
    "#Decision Tree Classifier:\n",
    "FN=184\n",
    "FP=209\n",
    "gasto_dt=gasto(FN,FP)\n",
    "print(\"Con Decision Tree Classifier la empresa perdería:\",gasto_dt,\"$\")\n",
    "\n",
    "#Random Forest Classifier:\n",
    "FN=291\n",
    "FP=88\n",
    "gasto_rf=gasto(FN,FP)\n",
    "print(\"Con Random Forest Classifier la empresa perdería:\",gasto_rf,\"$\")\n",
    "\n",
    "#Gradient Boosting Tree Classifier:\n",
    "FN=215\n",
    "FP=158\n",
    "gasto_gbt=gasto(FN,FP)\n",
    "print(\"Con Gradient Boosting Tree Classifier la empresa perdería:\",gasto_gbt,\"$\")\n",
    "\n",
    "#Naive Bayes Classifiers:\n",
    "FN=119\n",
    "FP=477\n",
    "gasto_nb=gasto(FN,FP)\n",
    "print(\"Con Naive Bayes Classifiers la empresa perdería:\",gasto_nb,\"$\")\n",
    "\n",
    "#Linear Support Vector Machine:\n",
    "FN=216\n",
    "FP=146\n",
    "gasto_lsvc=gasto(FN,FP)\n",
    "print(\"Con Linear Support Vector Machine la empresa perdería:\",gasto_lsvc,\"$\")\n",
    "\n",
    "#Con tunning hiperparámetros y Cross Validation:\n",
    "#Logistic Regression:\n",
    "FN=226\n",
    "FP=140\n",
    "gasto_lrcv=gasto(FN,FP)\n",
    "print(\"Con Logistic Regression CV la empresa perdería:\",gasto_lrcv,\"$\")\n",
    "\n",
    "#Decision Tree Classifier CV:\n",
    "FN=187\n",
    "FP=205\n",
    "gasto_dtcv=gasto(FN,FP)\n",
    "print(\"Con Decision Tree Classifier CV la empresa perdería:\",gasto_dtcv,\"$\")\n",
    "\n",
    "#Random Forest Classifier CV:\n",
    "FN=298\n",
    "FP=94\n",
    "gasto_rfcv=gasto(FN,FP)\n",
    "print(\"Con Random Forest Classifier CV la empresa perdería:\",gasto_rfcv,\"$\")\n",
    "\n",
    "#Gradient Boosting Tree Classifier CV: Sobreajustado, no lo tenemos en cuenta:\n",
    "#FN=229\n",
    "#FP=219\n",
    "#gasto_gbtcv=gasto(FN,FP)\n",
    "#print(\"Con Gradient Boosting Tree Classifier CV la empresa perdería:\",gasto_gbtcv,\"$\")\n",
    "\n",
    "#Naive Bayes Classifiers CV:\n",
    "FN=119\n",
    "FP=477\n",
    "gasto_nbcv=gasto(FN,FP)\n",
    "print(\"Con Naive Bayes Classifiers CV la empresa perdería:\",gasto_nbcv,\"$\")\n",
    "\n",
    "#Linear Support Vector Machine CV:\n",
    "FN=218\n",
    "FP=147\n",
    "gasto_lsvccv=gasto(FN,FP)\n",
    "print(\"Con Linear Support Vector Machine CV la empresa perdería:\",gasto_lsvccv,\"$\")"
   ]
  },
  {
   "cell_type": "markdown",
   "metadata": {
    "colab_type": "text",
    "id": "IEvXardT6pxy"
   },
   "source": [
    "<font color=\"Grey\">Vamos a crear un diccionario con todos los valores y crearemos un dataframe para ver cláramente qué modelo nos genera menos pérdidas:"
   ]
  },
  {
   "cell_type": "code",
   "execution_count": 0,
   "metadata": {
    "colab": {},
    "colab_type": "code",
    "id": "va2p5Bqx3nEI"
   },
   "outputs": [],
   "source": [
    "diccionario={\"gasto_lr\":gasto_lr,\"gasto_dt\":gasto_dt,\"gasto_rf\":gasto_rf,\n",
    "             \"gasto_gbt\":gasto_gbt,\"gasto_nb\":gasto_nb,\"gasto_lsvc\":gasto_lsvc,\n",
    "             \"gasto_lrcv\":gasto_lrcv,\"gasto_dtcv\":gasto_dtcv,\n",
    "             \"gasto_rfcv\":gasto_rfcv,\"gasto_nbcv\":gasto_nbcv,\n",
    "             \"gasto_lsvccv\":gasto_lsvccv}"
   ]
  },
  {
   "cell_type": "code",
   "execution_count": 124,
   "metadata": {
    "colab": {
     "base_uri": "https://localhost:8080/",
     "height": 80
    },
    "colab_type": "code",
    "executionInfo": {
     "elapsed": 523,
     "status": "ok",
     "timestamp": 1587402432558,
     "user": {
      "displayName": "Luis Blanco",
      "photoUrl": "https://lh3.googleusercontent.com/a-/AOh14Gg1BCQJfHT2P42mM1KkjEShxXP7ik2JKApJloXCcg=s64",
      "userId": "08327929932520946832"
     },
     "user_tz": -120
    },
    "id": "6gNz2-oN4aX9",
    "outputId": "948fde4b-52f0-4666-d35b-ffdd2f2556c2"
   },
   "outputs": [
    {
     "data": {
      "text/html": [
       "<div>\n",
       "<style scoped>\n",
       "    .dataframe tbody tr th:only-of-type {\n",
       "        vertical-align: middle;\n",
       "    }\n",
       "\n",
       "    .dataframe tbody tr th {\n",
       "        vertical-align: top;\n",
       "    }\n",
       "\n",
       "    .dataframe thead th {\n",
       "        text-align: right;\n",
       "    }\n",
       "</style>\n",
       "<table border=\"1\" class=\"dataframe\">\n",
       "  <thead>\n",
       "    <tr style=\"text-align: right;\">\n",
       "      <th></th>\n",
       "      <th>Modelo</th>\n",
       "      <th>Pérdida</th>\n",
       "    </tr>\n",
       "  </thead>\n",
       "  <tbody>\n",
       "    <tr>\n",
       "      <th>1</th>\n",
       "      <td>gasto_dt</td>\n",
       "      <td>191720.02</td>\n",
       "    </tr>\n",
       "  </tbody>\n",
       "</table>\n",
       "</div>"
      ],
      "text/plain": [
       "     Modelo    Pérdida\n",
       "1  gasto_dt  191720.02"
      ]
     },
     "execution_count": 124,
     "metadata": {
      "tags": []
     },
     "output_type": "execute_result"
    }
   ],
   "source": [
    "Pérdidas_por_modelos= pd.DataFrame([[key, diccionario[key]] for key in diccionario.keys()], columns=['Modelo', 'Pérdida'])\n",
    "Pérdidas_por_modelos.sort_values(by=\"Pérdida\").head(1)"
   ]
  },
  {
   "cell_type": "markdown",
   "metadata": {
    "colab_type": "text",
    "id": "NbzcMRPh9Oio"
   },
   "source": [
    "<font color=\"Grey\">Como podemos ver en la tabla, el modelo que genera menos gasto a la empresa es el Decision Tree Classifier con 191720.02 $ al año.  \n",
    "Vamos a ver el coste que conllevaría no realizar ningún modelo en test, para compararlo con los resultados obtenidos anteriormente:"
   ]
  },
  {
   "cell_type": "code",
   "execution_count": 126,
   "metadata": {
    "colab": {
     "base_uri": "https://localhost:8080/",
     "height": 68
    },
    "colab_type": "code",
    "executionInfo": {
     "elapsed": 460,
     "status": "ok",
     "timestamp": 1587402514410,
     "user": {
      "displayName": "Luis Blanco",
      "photoUrl": "https://lh3.googleusercontent.com/a-/AOh14Gg1BCQJfHT2P42mM1KkjEShxXP7ik2JKApJloXCcg=s64",
      "userId": "08327929932520946832"
     },
     "user_tz": -120
    },
    "id": "Nf3JeLkDW68F",
    "outputId": "a9d52200-d265-4452-e350-80f1049244d2"
   },
   "outputs": [
    {
     "name": "stdout",
     "output_type": "stream",
     "text": [
      "El coste en facturación perdida si no llevaramos a producción ningún modelo sería: 362924.38 $\n",
      "El coste en facturación perdida con el modelo Decision Tree Classifier: 191720.02 $\n",
      "El ahorro para la empresa con el uso del modelo Decision Tree Classifier es de un: 52.83 % al año.\n"
     ]
    }
   ],
   "source": [
    "coste_sin_modelo=facturacion_perdida* test.filter(test.Churn==\"Yes\").count()\n",
    "print(\"El coste en facturación perdida si no llevaramos a producción ningún modelo sería: %s $\" %coste_sin_modelo)\n",
    "\n",
    "print(\"El coste en facturación perdida con el modelo Decision Tree Classifier: %s $\" %gasto_dt)\n",
    "\n",
    "print(\"El ahorro para la empresa con el uso del modelo Decision Tree Classifier es de un:\",\n",
    "      round((gasto_dt/coste_sin_modelo)*100,2),\"% al año.\")"
   ]
  },
  {
   "cell_type": "markdown",
   "metadata": {
    "colab_type": "text",
    "id": "JtfwYr_8W6E0"
   },
   "source": [
    "<font color=\"Grey\">Según nuestro supuesto, si llevaramos a producción el modelo Decision Tree Classifier reduciríamos las pérdidas en un 52.83%."
   ]
  }
 ],
 "metadata": {
  "accelerator": "GPU",
  "colab": {
   "collapsed_sections": [],
   "name": "Ejercicio_modelos_clasificacion_Luis_Blanco.ipynb",
   "provenance": [],
   "toc_visible": true
  },
  "kernelspec": {
   "display_name": "Python 3",
   "language": "python",
   "name": "python3"
  },
  "language_info": {
   "codemirror_mode": {
    "name": "ipython",
    "version": 3
   },
   "file_extension": ".py",
   "mimetype": "text/x-python",
   "name": "python",
   "nbconvert_exporter": "python",
   "pygments_lexer": "ipython3",
   "version": "3.7.4"
  }
 },
 "nbformat": 4,
 "nbformat_minor": 1
}
