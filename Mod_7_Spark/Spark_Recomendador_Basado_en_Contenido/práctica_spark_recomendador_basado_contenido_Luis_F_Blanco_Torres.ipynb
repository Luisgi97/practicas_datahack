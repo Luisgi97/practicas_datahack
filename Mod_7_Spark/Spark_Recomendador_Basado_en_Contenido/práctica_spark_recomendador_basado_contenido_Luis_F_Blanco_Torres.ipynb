{
  "nbformat": 4,
  "nbformat_minor": 0,
  "metadata": {
    "kernelspec": {
      "display_name": "Python 3",
      "language": "python",
      "name": "python3"
    },
    "language_info": {
      "codemirror_mode": {
        "name": "ipython",
        "version": 3
      },
      "file_extension": ".py",
      "mimetype": "text/x-python",
      "name": "python",
      "nbconvert_exporter": "python",
      "pygments_lexer": "ipython3",
      "version": "3.7.4"
    },
    "colab": {
      "name": "Ejercicio_recomendador_basado_contenido.ipynb",
      "provenance": [],
      "collapsed_sections": [],
      "toc_visible": true
    }
  },
  "cells": [
    {
      "cell_type": "markdown",
      "metadata": {
        "id": "zP9GuNl2RU2j"
      },
      "source": [
        "<center><img src='https://www.datahack.es/wp-content/uploads/2020/02/logo-home.png' width=\"500\"></center>"
      ]
    },
    {
      "cell_type": "markdown",
      "metadata": {
        "id": "7GanEwDkRU2m"
      },
      "source": [
        "# Ejercicio de algoritmos basados en contenido 2 PUNTOS\n",
        "En este ejercicio os propongo generar un recomendadador basado en contenido, con los datos de la popular web www.xataka.com.\n",
        "\n",
        "Para ello he descargado las etiquetas de los artículos de los últimos 13 meses. "
      ]
    },
    {
      "cell_type": "markdown",
      "metadata": {
        "id": "MwMXYCDbRU2v"
      },
      "source": [
        "<center><img src='https://i.blogs.es/11ca44/xataka/450_1000.jpg' width=600 ></center>"
      ]
    },
    {
      "cell_type": "markdown",
      "metadata": {
        "id": "aqD47cpNRU2z"
      },
      "source": [
        "## Información\n",
        "\n",
        "La información está almacenada de manera que cada fichero representa un mes, y contiene la siguiente información guardada en formato json :\n",
        "\n",
        "- **artículo:** es la parte final de la url del artículo, que si le pegamos por delante el prefijo \"xataka.com\" nos llevaría directamene a la web del artículo.\n",
        "\n",
        "- **etiquetas:** son las etiquetas asociadas al artículo, las hay de dos tipos , tags y categoría. Se pueden usar indistintamente o si creeís que puede aportar algo de información tratarlas independientemente.\n",
        "\n",
        "- **comentarios:** es una info adicional que se podría usar o no para mejorar la recomendación. \n",
        "\n",
        "- **nombre del ficheros:** el nombre del fichero nos indica el año y el mes del artículo. Esta información también la podríamos usar para mejorar la recomendación, no es obligatorio."
      ]
    },
    {
      "cell_type": "markdown",
      "metadata": {
        "id": "KWoh-zP0RU20"
      },
      "source": [
        "## Pasos a seguir\n",
        "\n",
        "1. Descarga la información de xataka en una carpeta que se llame `datos_ejercicios/xataka`.\n",
        "\n",
        "2. Lee los ficheros json utilizando la función spark.read.json y unifícalos en un único dataframe.\n",
        "\n",
        "3. Crea una columnas de nombre idx, que se corresponda con row number del dataset.\n",
        "\n",
        "4. Genera un algortimo basado en contenido (no olvides poner comentarios en el código). Explica el motivo de cada paso. Puedes hacer uso de todas la información. Se valora la creatividad.\n",
        "\n",
        "5. Crea una función que dado un idx nos devuelva el nombre del artículo junto con el nombre del top 5 de artículos similares. Se valora la creatividad.\n",
        "\n",
        "6. Descarga el ipynb, conviertelo a html y esos serán tus documentos de evaluación."
      ]
    },
    {
      "cell_type": "code",
      "metadata": {
        "id": "Lwyg00XnVGsx",
        "outputId": "67d8015c-59ba-46a6-ba2f-dcaa79330033",
        "colab": {
          "base_uri": "https://localhost:8080/"
        }
      },
      "source": [
        "from google.colab import drive\n",
        "drive.mount('/content/drive')"
      ],
      "execution_count": 1,
      "outputs": [
        {
          "output_type": "stream",
          "text": [
            "Mounted at /content/drive\n"
          ],
          "name": "stdout"
        }
      ]
    },
    {
      "cell_type": "markdown",
      "metadata": {
        "id": "--EuXOUgcFab"
      },
      "source": [
        "##0. Instalaciones y librerías"
      ]
    },
    {
      "cell_type": "markdown",
      "metadata": {
        "id": "zQsttvb5cIqc"
      },
      "source": [
        "Instalación de Spark, Findspark y Pyspark."
      ]
    },
    {
      "cell_type": "code",
      "metadata": {
        "id": "nRlTxZKebZtS",
        "outputId": "59f93ecd-b5b2-4984-80f7-c044a687c344",
        "colab": {
          "base_uri": "https://localhost:8080/"
        }
      },
      "source": [
        "!apt-get install openjdk-8-jdk-headless -qq > /dev/null\n",
        "!wget -q http://apache.osuosl.org/spark/spark-3.0.1/spark-3.0.1-bin-hadoop2.7.tgz\n",
        "!tar xf spark-3.0.1-bin-hadoop2.7.tgz\n",
        "!pip install -q findspark\n",
        "!pip install pyspark"
      ],
      "execution_count": 3,
      "outputs": [
        {
          "output_type": "stream",
          "text": [
            "Collecting pyspark\n",
            "\u001b[?25l  Downloading https://files.pythonhosted.org/packages/f0/26/198fc8c0b98580f617cb03cb298c6056587b8f0447e20fa40c5b634ced77/pyspark-3.0.1.tar.gz (204.2MB)\n",
            "\u001b[K     |████████████████████████████████| 204.2MB 67kB/s \n",
            "\u001b[?25hCollecting py4j==0.10.9\n",
            "\u001b[?25l  Downloading https://files.pythonhosted.org/packages/9e/b6/6a4fb90cd235dc8e265a6a2067f2a2c99f0d91787f06aca4bcf7c23f3f80/py4j-0.10.9-py2.py3-none-any.whl (198kB)\n",
            "\u001b[K     |████████████████████████████████| 204kB 43.5MB/s \n",
            "\u001b[?25hBuilding wheels for collected packages: pyspark\n",
            "  Building wheel for pyspark (setup.py) ... \u001b[?25l\u001b[?25hdone\n",
            "  Created wheel for pyspark: filename=pyspark-3.0.1-py2.py3-none-any.whl size=204612243 sha256=757f02336bf39f3fe7afe67a95d0ec737133ca8616d283de8d8fdd96db98a75d\n",
            "  Stored in directory: /root/.cache/pip/wheels/5e/bd/07/031766ca628adec8435bb40f0bd83bb676ce65ff4007f8e73f\n",
            "Successfully built pyspark\n",
            "Installing collected packages: py4j, pyspark\n",
            "Successfully installed py4j-0.10.9 pyspark-3.0.1\n"
          ],
          "name": "stdout"
        }
      ]
    },
    {
      "cell_type": "markdown",
      "metadata": {
        "id": "tf5YddrkcLj6"
      },
      "source": [
        "Creación de la Sesión Spark \"ejercicio_recomendadores_tipo_ranking_rehecho\"."
      ]
    },
    {
      "cell_type": "code",
      "metadata": {
        "id": "2kAcFgOyVqaf"
      },
      "source": [
        "# Set up required environment variables\n",
        "import os\n",
        "os.environ[\"JAVA_HOME\"] = \"/usr/lib/jvm/java-8-openjdk-amd64\"\n",
        "os.environ[\"SPARK_HOME\"] = \"/content/spark-3.0.1-bin-hadoop2.7\"\n",
        "from pyspark import SparkContext\n",
        "from pyspark.sql import SparkSession\n",
        "spark = SparkSession.builder.appName(\"ejercicio_recomendador_basado_en_contenido\").master(\"local[*]\").getOrCreate()"
      ],
      "execution_count": 4,
      "outputs": []
    },
    {
      "cell_type": "code",
      "metadata": {
        "id": "5_eb9uZmbgII"
      },
      "source": [
        "#Carga de datos de la web, no lo usamos en esta práctica (ejemplo):\n",
        "#!pip install wget \n",
        "#import wget\n",
        "\n",
        "#Tratamiento de datos:\n",
        "import pandas as pd\n",
        "import numpy as np\n",
        "import pyspark.sql.functions as F\n",
        "import pyspark.sql.types as T\n",
        "import glob\n",
        "from pyspark.ml.feature import CountVectorizer\n",
        "import re\n",
        "\n",
        "#Dibujo de tablas y gráficos:\n",
        "pd.set_option('display.max_rows', 50) #max 50 rows out"
      ],
      "execution_count": 5,
      "outputs": []
    },
    {
      "cell_type": "markdown",
      "metadata": {
        "id": "cf4yuHLob6SI"
      },
      "source": [
        "\n",
        "1. Descarga la información de IMDb en una carpeta que se llame datos_ejercicios/imdb."
      ]
    },
    {
      "cell_type": "code",
      "metadata": {
        "id": "uByVgoerbzdn"
      },
      "source": [
        "#No lo hacemos, usaremos la data almacenada en la carpeta de la práctica, pero sería\n",
        "\n",
        "#url= \"url\"\n",
        "#wget.download(url, \"/content/drive/My Drive/Colab Notebooks/Práctica Spark/datos_ejercicios/xataka\")"
      ],
      "execution_count": 6,
      "outputs": []
    },
    {
      "cell_type": "markdown",
      "metadata": {
        "id": "Ww2PdPwfcnHh"
      },
      "source": [
        "# <font color=\"Grey\">2. Lee los ficheros json utilizando la función spark.read.json y unifícalos en un único dataframe."
      ]
    },
    {
      "cell_type": "markdown",
      "metadata": {
        "id": "KL2kvqNVcoDC"
      },
      "source": [
        "<font color=\"Grey\">Cargamos todos los paths de los 13 archivos json en la variable \"archivos\", mediante un bucle vamos a leerlos con Spark.read.json, pasarlos a Pandas e incluirlos en una lista que llamaremos variable \"lista_data\". Después los concatenaremos.  \n",
        "Realizaremos un estudio breve de los datos, presencia de nulos y eliminado de duplicados."
      ]
    },
    {
      "cell_type": "code",
      "metadata": {
        "id": "33KdnM9kcozu"
      },
      "source": [
        "archivos= glob.glob('/content/drive/My Drive/Colab Notebooks/Práctica Spark/datos_ejercicios/xataka/*.json')"
      ],
      "execution_count": 7,
      "outputs": []
    },
    {
      "cell_type": "code",
      "metadata": {
        "id": "4DqFRIQddD0g",
        "outputId": "44c3f7af-13c8-406b-87d6-276f8b38445b",
        "colab": {
          "base_uri": "https://localhost:8080/"
        }
      },
      "source": [
        "archivos"
      ],
      "execution_count": 8,
      "outputs": [
        {
          "output_type": "execute_result",
          "data": {
            "text/plain": [
              "['/content/drive/My Drive/Colab Notebooks/Práctica Spark/datos_ejercicios/xataka/2019_2.json',\n",
              " '/content/drive/My Drive/Colab Notebooks/Práctica Spark/datos_ejercicios/xataka/2019_9.json',\n",
              " '/content/drive/My Drive/Colab Notebooks/Práctica Spark/datos_ejercicios/xataka/2020_1.json',\n",
              " '/content/drive/My Drive/Colab Notebooks/Práctica Spark/datos_ejercicios/xataka/2019_6.json',\n",
              " '/content/drive/My Drive/Colab Notebooks/Práctica Spark/datos_ejercicios/xataka/2019_10.json',\n",
              " '/content/drive/My Drive/Colab Notebooks/Práctica Spark/datos_ejercicios/xataka/2019_8.json',\n",
              " '/content/drive/My Drive/Colab Notebooks/Práctica Spark/datos_ejercicios/xataka/2019_4.json',\n",
              " '/content/drive/My Drive/Colab Notebooks/Práctica Spark/datos_ejercicios/xataka/2019_5.json',\n",
              " '/content/drive/My Drive/Colab Notebooks/Práctica Spark/datos_ejercicios/xataka/2019_3.json',\n",
              " '/content/drive/My Drive/Colab Notebooks/Práctica Spark/datos_ejercicios/xataka/2019_7.json',\n",
              " '/content/drive/My Drive/Colab Notebooks/Práctica Spark/datos_ejercicios/xataka/2020_11.json',\n",
              " '/content/drive/My Drive/Colab Notebooks/Práctica Spark/datos_ejercicios/xataka/2020_2.json',\n",
              " '/content/drive/My Drive/Colab Notebooks/Práctica Spark/datos_ejercicios/xataka/2020_12.json']"
            ]
          },
          "metadata": {
            "tags": []
          },
          "execution_count": 8
        }
      ]
    },
    {
      "cell_type": "code",
      "metadata": {
        "id": "J1HDuTsdfucI"
      },
      "source": [
        "lista_data=[]\n",
        "for i in archivos:\n",
        "  m=re.search(r'(?<=/)\\d+_\\d+',i)\n",
        "  fecha=m.group(0)\n",
        "  dfs=spark.read.json(i).toPandas()\n",
        "  dfs[\"fecha\"]=fecha\n",
        "  lista_data.append(dfs)"
      ],
      "execution_count": 9,
      "outputs": []
    },
    {
      "cell_type": "code",
      "metadata": {
        "id": "kMzJ4NLQkL0x"
      },
      "source": [
        "df=pd.concat(lista_data,ignore_index=True)"
      ],
      "execution_count": 10,
      "outputs": []
    },
    {
      "cell_type": "code",
      "metadata": {
        "id": "cnE1MZZmvZQ4",
        "outputId": "11d0d915-043a-4cc1-b48f-abafaf331866",
        "colab": {
          "base_uri": "https://localhost:8080/",
          "height": 419
        }
      },
      "source": [
        "df"
      ],
      "execution_count": 11,
      "outputs": [
        {
          "output_type": "execute_result",
          "data": {
            "text/html": [
              "<div>\n",
              "<style scoped>\n",
              "    .dataframe tbody tr th:only-of-type {\n",
              "        vertical-align: middle;\n",
              "    }\n",
              "\n",
              "    .dataframe tbody tr th {\n",
              "        vertical-align: top;\n",
              "    }\n",
              "\n",
              "    .dataframe thead th {\n",
              "        text-align: right;\n",
              "    }\n",
              "</style>\n",
              "<table border=\"1\" class=\"dataframe\">\n",
              "  <thead>\n",
              "    <tr style=\"text-align: right;\">\n",
              "      <th></th>\n",
              "      <th>articulo</th>\n",
              "      <th>comentarios</th>\n",
              "      <th>etiquetas</th>\n",
              "      <th>fecha</th>\n",
              "    </tr>\n",
              "  </thead>\n",
              "  <tbody>\n",
              "    <tr>\n",
              "      <th>0</th>\n",
              "      <td>/automovil/tesla-finalmente-lanza-version-35-0...</td>\n",
              "      <td>101</td>\n",
              "      <td>[/categoria/automovil, /tag/tesla, /tag/coche-...</td>\n",
              "      <td>2019_2</td>\n",
              "    </tr>\n",
              "    <tr>\n",
              "      <th>1</th>\n",
              "      <td>/servicios/youtube-tratara-evitar-que-videos-m...</td>\n",
              "      <td>13</td>\n",
              "      <td>[/categoria/servicios, /tag/google, /tag/ninos...</td>\n",
              "      <td>2019_2</td>\n",
              "    </tr>\n",
              "    <tr>\n",
              "      <th>2</th>\n",
              "      <td>/moviles/vitrina-world-congress-2019-ano-que-n...</td>\n",
              "      <td>10</td>\n",
              "      <td>[/categoria/moviles, /tag/pantallas-flexibles,...</td>\n",
              "      <td>2019_2</td>\n",
              "    </tr>\n",
              "    <tr>\n",
              "      <th>3</th>\n",
              "      <td>/inteligencia-artificial/cara-cruz-ia-pib-mund...</td>\n",
              "      <td>41</td>\n",
              "      <td>[/categoria/inteligencia-artificial, /tag/espa...</td>\n",
              "      <td>2019_2</td>\n",
              "    </tr>\n",
              "    <tr>\n",
              "      <th>4</th>\n",
              "      <td>/basics/como-remapear-boton-bixby-tu-samsung-g...</td>\n",
              "      <td>2</td>\n",
              "      <td>[/categoria/basics, /tag/samsung, /tag/bixby, ...</td>\n",
              "      <td>2019_2</td>\n",
              "    </tr>\n",
              "    <tr>\n",
              "      <th>...</th>\n",
              "      <td>...</td>\n",
              "      <td>...</td>\n",
              "      <td>...</td>\n",
              "      <td>...</td>\n",
              "    </tr>\n",
              "    <tr>\n",
              "      <th>6602</th>\n",
              "      <td>/domotica-1/estas-luces-navidad-permiten-usar-...</td>\n",
              "      <td>9</td>\n",
              "      <td>[/categoria/domotica-1, /categoria/internet-of...</td>\n",
              "      <td>2020_12</td>\n",
              "    </tr>\n",
              "    <tr>\n",
              "      <th>6603</th>\n",
              "      <td>/legislacion-y-derechos/congreso-eeuu-amenaza-...</td>\n",
              "      <td>83</td>\n",
              "      <td>[/categoria/legislacion-y-derechos, /categoria...</td>\n",
              "      <td>2020_12</td>\n",
              "    </tr>\n",
              "    <tr>\n",
              "      <th>6604</th>\n",
              "      <td>/vehiculos/que-busca-convertirse-primer-avion-...</td>\n",
              "      <td>15</td>\n",
              "      <td>[/categoria/vehiculos, /tag/canada, /tag/avion...</td>\n",
              "      <td>2020_12</td>\n",
              "    </tr>\n",
              "    <tr>\n",
              "      <th>6605</th>\n",
              "      <td>/medicina-y-salud/celulas-se-le-volvieron-loca...</td>\n",
              "      <td>10</td>\n",
              "      <td>[/categoria/medicina-y-salud, /tag/medicina, /...</td>\n",
              "      <td>2020_12</td>\n",
              "    </tr>\n",
              "    <tr>\n",
              "      <th>6606</th>\n",
              "      <td>/streaming/netflix-testea-nuevos-modelos-suscr...</td>\n",
              "      <td>7</td>\n",
              "      <td>[/categoria/streaming, /tag/movil, /tag/netfli...</td>\n",
              "      <td>2020_12</td>\n",
              "    </tr>\n",
              "  </tbody>\n",
              "</table>\n",
              "<p>6607 rows × 4 columns</p>\n",
              "</div>"
            ],
            "text/plain": [
              "                                               articulo  ...    fecha\n",
              "0     /automovil/tesla-finalmente-lanza-version-35-0...  ...   2019_2\n",
              "1     /servicios/youtube-tratara-evitar-que-videos-m...  ...   2019_2\n",
              "2     /moviles/vitrina-world-congress-2019-ano-que-n...  ...   2019_2\n",
              "3     /inteligencia-artificial/cara-cruz-ia-pib-mund...  ...   2019_2\n",
              "4     /basics/como-remapear-boton-bixby-tu-samsung-g...  ...   2019_2\n",
              "...                                                 ...  ...      ...\n",
              "6602  /domotica-1/estas-luces-navidad-permiten-usar-...  ...  2020_12\n",
              "6603  /legislacion-y-derechos/congreso-eeuu-amenaza-...  ...  2020_12\n",
              "6604  /vehiculos/que-busca-convertirse-primer-avion-...  ...  2020_12\n",
              "6605  /medicina-y-salud/celulas-se-le-volvieron-loca...  ...  2020_12\n",
              "6606  /streaming/netflix-testea-nuevos-modelos-suscr...  ...  2020_12\n",
              "\n",
              "[6607 rows x 4 columns]"
            ]
          },
          "metadata": {
            "tags": []
          },
          "execution_count": 11
        }
      ]
    },
    {
      "cell_type": "code",
      "metadata": {
        "id": "vOJZ0hJUpwcV",
        "outputId": "5d50497e-329a-49bf-9956-fc8bdea49009",
        "colab": {
          "base_uri": "https://localhost:8080/",
          "height": 419
        }
      },
      "source": [
        "#Voy a crear una columna con las urls\n",
        "url= ['xataka.com'+i for i in df.articulo]\n",
        "df['url']=url\n",
        "df"
      ],
      "execution_count": 12,
      "outputs": [
        {
          "output_type": "execute_result",
          "data": {
            "text/html": [
              "<div>\n",
              "<style scoped>\n",
              "    .dataframe tbody tr th:only-of-type {\n",
              "        vertical-align: middle;\n",
              "    }\n",
              "\n",
              "    .dataframe tbody tr th {\n",
              "        vertical-align: top;\n",
              "    }\n",
              "\n",
              "    .dataframe thead th {\n",
              "        text-align: right;\n",
              "    }\n",
              "</style>\n",
              "<table border=\"1\" class=\"dataframe\">\n",
              "  <thead>\n",
              "    <tr style=\"text-align: right;\">\n",
              "      <th></th>\n",
              "      <th>articulo</th>\n",
              "      <th>comentarios</th>\n",
              "      <th>etiquetas</th>\n",
              "      <th>fecha</th>\n",
              "      <th>url</th>\n",
              "    </tr>\n",
              "  </thead>\n",
              "  <tbody>\n",
              "    <tr>\n",
              "      <th>0</th>\n",
              "      <td>/automovil/tesla-finalmente-lanza-version-35-0...</td>\n",
              "      <td>101</td>\n",
              "      <td>[/categoria/automovil, /tag/tesla, /tag/coche-...</td>\n",
              "      <td>2019_2</td>\n",
              "      <td>xataka.com/automovil/tesla-finalmente-lanza-ve...</td>\n",
              "    </tr>\n",
              "    <tr>\n",
              "      <th>1</th>\n",
              "      <td>/servicios/youtube-tratara-evitar-que-videos-m...</td>\n",
              "      <td>13</td>\n",
              "      <td>[/categoria/servicios, /tag/google, /tag/ninos...</td>\n",
              "      <td>2019_2</td>\n",
              "      <td>xataka.com/servicios/youtube-tratara-evitar-qu...</td>\n",
              "    </tr>\n",
              "    <tr>\n",
              "      <th>2</th>\n",
              "      <td>/moviles/vitrina-world-congress-2019-ano-que-n...</td>\n",
              "      <td>10</td>\n",
              "      <td>[/categoria/moviles, /tag/pantallas-flexibles,...</td>\n",
              "      <td>2019_2</td>\n",
              "      <td>xataka.com/moviles/vitrina-world-congress-2019...</td>\n",
              "    </tr>\n",
              "    <tr>\n",
              "      <th>3</th>\n",
              "      <td>/inteligencia-artificial/cara-cruz-ia-pib-mund...</td>\n",
              "      <td>41</td>\n",
              "      <td>[/categoria/inteligencia-artificial, /tag/espa...</td>\n",
              "      <td>2019_2</td>\n",
              "      <td>xataka.com/inteligencia-artificial/cara-cruz-i...</td>\n",
              "    </tr>\n",
              "    <tr>\n",
              "      <th>4</th>\n",
              "      <td>/basics/como-remapear-boton-bixby-tu-samsung-g...</td>\n",
              "      <td>2</td>\n",
              "      <td>[/categoria/basics, /tag/samsung, /tag/bixby, ...</td>\n",
              "      <td>2019_2</td>\n",
              "      <td>xataka.com/basics/como-remapear-boton-bixby-tu...</td>\n",
              "    </tr>\n",
              "    <tr>\n",
              "      <th>...</th>\n",
              "      <td>...</td>\n",
              "      <td>...</td>\n",
              "      <td>...</td>\n",
              "      <td>...</td>\n",
              "      <td>...</td>\n",
              "    </tr>\n",
              "    <tr>\n",
              "      <th>6602</th>\n",
              "      <td>/domotica-1/estas-luces-navidad-permiten-usar-...</td>\n",
              "      <td>9</td>\n",
              "      <td>[/categoria/domotica-1, /categoria/internet-of...</td>\n",
              "      <td>2020_12</td>\n",
              "      <td>xataka.com/domotica-1/estas-luces-navidad-perm...</td>\n",
              "    </tr>\n",
              "    <tr>\n",
              "      <th>6603</th>\n",
              "      <td>/legislacion-y-derechos/congreso-eeuu-amenaza-...</td>\n",
              "      <td>83</td>\n",
              "      <td>[/categoria/legislacion-y-derechos, /categoria...</td>\n",
              "      <td>2020_12</td>\n",
              "      <td>xataka.com/legislacion-y-derechos/congreso-eeu...</td>\n",
              "    </tr>\n",
              "    <tr>\n",
              "      <th>6604</th>\n",
              "      <td>/vehiculos/que-busca-convertirse-primer-avion-...</td>\n",
              "      <td>15</td>\n",
              "      <td>[/categoria/vehiculos, /tag/canada, /tag/avion...</td>\n",
              "      <td>2020_12</td>\n",
              "      <td>xataka.com/vehiculos/que-busca-convertirse-pri...</td>\n",
              "    </tr>\n",
              "    <tr>\n",
              "      <th>6605</th>\n",
              "      <td>/medicina-y-salud/celulas-se-le-volvieron-loca...</td>\n",
              "      <td>10</td>\n",
              "      <td>[/categoria/medicina-y-salud, /tag/medicina, /...</td>\n",
              "      <td>2020_12</td>\n",
              "      <td>xataka.com/medicina-y-salud/celulas-se-le-volv...</td>\n",
              "    </tr>\n",
              "    <tr>\n",
              "      <th>6606</th>\n",
              "      <td>/streaming/netflix-testea-nuevos-modelos-suscr...</td>\n",
              "      <td>7</td>\n",
              "      <td>[/categoria/streaming, /tag/movil, /tag/netfli...</td>\n",
              "      <td>2020_12</td>\n",
              "      <td>xataka.com/streaming/netflix-testea-nuevos-mod...</td>\n",
              "    </tr>\n",
              "  </tbody>\n",
              "</table>\n",
              "<p>6607 rows × 5 columns</p>\n",
              "</div>"
            ],
            "text/plain": [
              "                                               articulo  ...                                                url\n",
              "0     /automovil/tesla-finalmente-lanza-version-35-0...  ...  xataka.com/automovil/tesla-finalmente-lanza-ve...\n",
              "1     /servicios/youtube-tratara-evitar-que-videos-m...  ...  xataka.com/servicios/youtube-tratara-evitar-qu...\n",
              "2     /moviles/vitrina-world-congress-2019-ano-que-n...  ...  xataka.com/moviles/vitrina-world-congress-2019...\n",
              "3     /inteligencia-artificial/cara-cruz-ia-pib-mund...  ...  xataka.com/inteligencia-artificial/cara-cruz-i...\n",
              "4     /basics/como-remapear-boton-bixby-tu-samsung-g...  ...  xataka.com/basics/como-remapear-boton-bixby-tu...\n",
              "...                                                 ...  ...                                                ...\n",
              "6602  /domotica-1/estas-luces-navidad-permiten-usar-...  ...  xataka.com/domotica-1/estas-luces-navidad-perm...\n",
              "6603  /legislacion-y-derechos/congreso-eeuu-amenaza-...  ...  xataka.com/legislacion-y-derechos/congreso-eeu...\n",
              "6604  /vehiculos/que-busca-convertirse-primer-avion-...  ...  xataka.com/vehiculos/que-busca-convertirse-pri...\n",
              "6605  /medicina-y-salud/celulas-se-le-volvieron-loca...  ...  xataka.com/medicina-y-salud/celulas-se-le-volv...\n",
              "6606  /streaming/netflix-testea-nuevos-modelos-suscr...  ...  xataka.com/streaming/netflix-testea-nuevos-mod...\n",
              "\n",
              "[6607 rows x 5 columns]"
            ]
          },
          "metadata": {
            "tags": []
          },
          "execution_count": 12
        }
      ]
    },
    {
      "cell_type": "code",
      "metadata": {
        "id": "H9gcKApGvZjc"
      },
      "source": [
        "df_spark= spark.createDataFrame(df)"
      ],
      "execution_count": 13,
      "outputs": []
    },
    {
      "cell_type": "code",
      "metadata": {
        "id": "J4zAF08nvxSe",
        "outputId": "fb8e5c5c-1cc4-499f-ff34-f8e04c494ac1",
        "colab": {
          "base_uri": "https://localhost:8080/"
        }
      },
      "source": [
        "df_spark.show()"
      ],
      "execution_count": 14,
      "outputs": [
        {
          "output_type": "stream",
          "text": [
            "+--------------------+-----------+--------------------+------+--------------------+\n",
            "|            articulo|comentarios|           etiquetas| fecha|                 url|\n",
            "+--------------------+-----------+--------------------+------+--------------------+\n",
            "|/automovil/tesla-...|        101|[/categoria/autom...|2019_2|xataka.com/automo...|\n",
            "|/servicios/youtub...|         13|[/categoria/servi...|2019_2|xataka.com/servic...|\n",
            "|/moviles/vitrina-...|         10|[/categoria/movil...|2019_2|xataka.com/movile...|\n",
            "|/inteligencia-art...|         41|[/categoria/intel...|2019_2|xataka.com/inteli...|\n",
            "|/basics/como-rema...|          2|[/categoria/basic...|2019_2|xataka.com/basics...|\n",
            "|/televisores/bloa...|         56|[/categoria/telev...|2019_2|xataka.com/televi...|\n",
            "|/otros/cable-subm...|         19|[/categoria/otros...|2019_2|xataka.com/otros/...|\n",
            "|/aplicaciones/chr...|         13|[/categoria/aplic...|2019_2|xataka.com/aplica...|\n",
            "|/seleccion/como-i...|         11|[/categoria/selec...|2019_2|xataka.com/selecc...|\n",
            "|/basics/fortnite-...|          0|[/categoria/basic...|2019_2|xataka.com/basics...|\n",
            "|/streaming/estren...|          0|[/categoria/strea...|2019_2|xataka.com/stream...|\n",
            "|/eventos/5g-panta...|          2|[/categoria/event...|2019_2|xataka.com/evento...|\n",
            "|/moviles/todos-sm...|          3|[/categoria/movil...|2019_2|xataka.com/movile...|\n",
            "|/inteligencia-art...|          0|[/categoria/intel...|2019_2|xataka.com/inteli...|\n",
            "|/videojuegos/shad...|         25|[/categoria/video...|2019_2|xataka.com/videoj...|\n",
            "|/investigacion/co...|        241|[/categoria/inves...|2019_2|xataka.com/invest...|\n",
            "|/medicina-y-salud...|          3|[/categoria/medic...|2019_2|xataka.com/medici...|\n",
            "|/vehiculos/mitico...|         11|[/categoria/vehic...|2019_2|xataka.com/vehicu...|\n",
            "|/basics/como-camb...|          1|[/categoria/basic...|2019_2|xataka.com/basics...|\n",
            "|/accesorios/panta...|         12|[/categoria/acces...|2019_2|xataka.com/acceso...|\n",
            "+--------------------+-----------+--------------------+------+--------------------+\n",
            "only showing top 20 rows\n",
            "\n"
          ],
          "name": "stdout"
        }
      ]
    },
    {
      "cell_type": "code",
      "metadata": {
        "id": "ofneDN9mzooz",
        "outputId": "e0b51691-f98f-43ee-d571-89faca27c83d",
        "colab": {
          "base_uri": "https://localhost:8080/"
        }
      },
      "source": [
        "#Vemos si hay nulos\n",
        "df_spark.select([F.count(F.when(F.isnull(c), c)).alias(c) for c in df_spark.columns]).show()"
      ],
      "execution_count": 15,
      "outputs": [
        {
          "output_type": "stream",
          "text": [
            "+--------+-----------+---------+-----+---+\n",
            "|articulo|comentarios|etiquetas|fecha|url|\n",
            "+--------+-----------+---------+-----+---+\n",
            "|       0|          0|        0|    0|  0|\n",
            "+--------+-----------+---------+-----+---+\n",
            "\n"
          ],
          "name": "stdout"
        }
      ]
    },
    {
      "cell_type": "code",
      "metadata": {
        "id": "oM6eAy_QvzHs",
        "outputId": "dd738bd6-65ff-4a79-d75c-56bc9eb4bc8a",
        "colab": {
          "base_uri": "https://localhost:8080/"
        }
      },
      "source": [
        "#Vamos a ver si hay artículos duplicados\n",
        "if df_spark.count() == df_spark.select('articulo').distinct().count():\n",
        "  print ('No hay duplicados')\n",
        "else:\n",
        "  print('Existen duplicados')\n",
        "  print('Nº de duplicados:',df_spark.count()-df_spark.select('articulo').distinct().count())"
      ],
      "execution_count": 16,
      "outputs": [
        {
          "output_type": "stream",
          "text": [
            "Existen duplicados\n",
            "Nº de duplicados: 1\n"
          ],
          "name": "stdout"
        }
      ]
    },
    {
      "cell_type": "code",
      "metadata": {
        "id": "_9uo2pRwTZCi",
        "outputId": "a78f86b5-096d-4f31-f86c-698949d9a6ba",
        "colab": {
          "base_uri": "https://localhost:8080/"
        }
      },
      "source": [
        "#Buscamos cuál está duplicado\n",
        "df_spark.groupBy(df_spark.articulo).count().filter(F.col('count')!=1).show(truncate=False)"
      ],
      "execution_count": 17,
      "outputs": [
        {
          "output_type": "stream",
          "text": [
            "+----------------------------------------------------------------------------------------------------------+-----+\n",
            "|articulo                                                                                                  |count|\n",
            "+----------------------------------------------------------------------------------------------------------+-----+\n",
            "|/seleccion/guia-compra-accesorios-para-nintendo-switch-lite-27-fundas-carcasas-mandos-soportes-tarjetas-sd|2    |\n",
            "+----------------------------------------------------------------------------------------------------------+-----+\n",
            "\n"
          ],
          "name": "stdout"
        }
      ]
    },
    {
      "cell_type": "code",
      "metadata": {
        "id": "b07JPsY7bhOK",
        "outputId": "f05cc95d-9095-45e4-b881-2d65613823d6",
        "colab": {
          "base_uri": "https://localhost:8080/"
        }
      },
      "source": [
        "#Vamos a ver este duplicado en el total del dataset para ver si esta duplicada toda la row:\n",
        "duplicado= df_spark.groupBy(df_spark.articulo).count().filter(F.col('count')!=1).collect()[0][0] #Con esto sacamos el valor del articulo para hacer un filter\n",
        "df_spark.filter(F.col('articulo')==duplicado).show(truncate=False)"
      ],
      "execution_count": 18,
      "outputs": [
        {
          "output_type": "stream",
          "text": [
            "+----------------------------------------------------------------------------------------------------------+-----------+---------------------------------------------------------------------------------------+-------+--------------------------------------------------------------------------------------------------------------------+\n",
            "|articulo                                                                                                  |comentarios|etiquetas                                                                              |fecha  |url                                                                                                                 |\n",
            "+----------------------------------------------------------------------------------------------------------+-----------+---------------------------------------------------------------------------------------+-------+--------------------------------------------------------------------------------------------------------------------+\n",
            "|/seleccion/guia-compra-accesorios-para-nintendo-switch-lite-27-fundas-carcasas-mandos-soportes-tarjetas-sd|1          |[/categoria/seleccion, /tag/guia-de-compras, /tag/guia-de-compra, /tag/nintendo-switch]|2019_10|xataka.com/seleccion/guia-compra-accesorios-para-nintendo-switch-lite-27-fundas-carcasas-mandos-soportes-tarjetas-sd|\n",
            "|/seleccion/guia-compra-accesorios-para-nintendo-switch-lite-27-fundas-carcasas-mandos-soportes-tarjetas-sd|1          |[/categoria/seleccion, /tag/guia-de-compras, /tag/guia-de-compra, /tag/nintendo-switch]|2020_12|xataka.com/seleccion/guia-compra-accesorios-para-nintendo-switch-lite-27-fundas-carcasas-mandos-soportes-tarjetas-sd|\n",
            "+----------------------------------------------------------------------------------------------------------+-----------+---------------------------------------------------------------------------------------+-------+--------------------------------------------------------------------------------------------------------------------+\n",
            "\n"
          ],
          "name": "stdout"
        }
      ]
    },
    {
      "cell_type": "code",
      "metadata": {
        "id": "SjFkW74MfrKr"
      },
      "source": [
        "#Tienen años diferentes, pero como queremos recomendar artículos, podría darse el caso de que salieran los dos en una misma recomendación, por lo que vamos a cargarnos el más antiguo,\n",
        "#para ello, reordenamos el dataset de más moderno a más antiguo y luego eliminamos(ya que elimina el segundo duplicado)\n",
        "df_spark=df_spark.orderBy(F.desc('fecha')).drop_duplicates(subset=['articulo'])"
      ],
      "execution_count": 19,
      "outputs": []
    },
    {
      "cell_type": "code",
      "metadata": {
        "id": "jL4btB0hgFxp",
        "outputId": "0331dff6-db9f-4eda-e997-b0f12e86e549",
        "colab": {
          "base_uri": "https://localhost:8080/"
        }
      },
      "source": [
        "df_spark.filter(F.col('articulo')==duplicado).show(truncate=False)"
      ],
      "execution_count": 20,
      "outputs": [
        {
          "output_type": "stream",
          "text": [
            "+----------------------------------------------------------------------------------------------------------+-----------+---------------------------------------------------------------------------------------+-------+--------------------------------------------------------------------------------------------------------------------+\n",
            "|articulo                                                                                                  |comentarios|etiquetas                                                                              |fecha  |url                                                                                                                 |\n",
            "+----------------------------------------------------------------------------------------------------------+-----------+---------------------------------------------------------------------------------------+-------+--------------------------------------------------------------------------------------------------------------------+\n",
            "|/seleccion/guia-compra-accesorios-para-nintendo-switch-lite-27-fundas-carcasas-mandos-soportes-tarjetas-sd|1          |[/categoria/seleccion, /tag/guia-de-compras, /tag/guia-de-compra, /tag/nintendo-switch]|2020_12|xataka.com/seleccion/guia-compra-accesorios-para-nintendo-switch-lite-27-fundas-carcasas-mandos-soportes-tarjetas-sd|\n",
            "+----------------------------------------------------------------------------------------------------------+-----------+---------------------------------------------------------------------------------------+-------+--------------------------------------------------------------------------------------------------------------------+\n",
            "\n"
          ],
          "name": "stdout"
        }
      ]
    },
    {
      "cell_type": "code",
      "metadata": {
        "id": "Bov34Ydxh1T3",
        "outputId": "9c3461ba-f6c9-40f2-da1c-3c32ee375898",
        "colab": {
          "base_uri": "https://localhost:8080/"
        }
      },
      "source": [
        "df_spark.printSchema()"
      ],
      "execution_count": 21,
      "outputs": [
        {
          "output_type": "stream",
          "text": [
            "root\n",
            " |-- articulo: string (nullable = true)\n",
            " |-- comentarios: long (nullable = true)\n",
            " |-- etiquetas: array (nullable = true)\n",
            " |    |-- element: string (containsNull = true)\n",
            " |-- fecha: string (nullable = true)\n",
            " |-- url: string (nullable = true)\n",
            "\n"
          ],
          "name": "stdout"
        }
      ]
    },
    {
      "cell_type": "markdown",
      "metadata": {
        "id": "vDCnqVUsia49"
      },
      "source": [
        "# <font color=\"Grey\">3. Crea una columnas de nombre idx, que se corresponda con row number del dataset."
      ]
    },
    {
      "cell_type": "code",
      "metadata": {
        "id": "vdr8a1oviQcu"
      },
      "source": [
        "df_spark = (df_spark\n",
        "            .withColumn(\"idx\", F.monotonically_increasing_id())\n",
        "            .select(\"idx\",\"articulo\",\"comentarios\",\"etiquetas\",\"fecha\",\"url\")\n",
        ")"
      ],
      "execution_count": 22,
      "outputs": []
    },
    {
      "cell_type": "code",
      "metadata": {
        "id": "1nv3Yp2Jqb-o",
        "outputId": "c931b402-1b0b-4fb4-94f6-76337ab992d6",
        "colab": {
          "base_uri": "https://localhost:8080/"
        }
      },
      "source": [
        "df_spark.show()"
      ],
      "execution_count": 23,
      "outputs": [
        {
          "output_type": "stream",
          "text": [
            "+---+--------------------+-----------+--------------------+-------+--------------------+\n",
            "|idx|            articulo|comentarios|           etiquetas|  fecha|                 url|\n",
            "+---+--------------------+-----------+--------------------+-------+--------------------+\n",
            "|  0|/audio/midi-2-0-s...|         18|[/categoria/audio...| 2020_1|xataka.com/audio/...|\n",
            "|  1|/basics/como-borr...|         14|[/categoria/basic...|2019_10|xataka.com/basics...|\n",
            "|  2|/basics/redaccion...|          1|[/categoria/basic...| 2019_3|xataka.com/basics...|\n",
            "|  3|/domotica-1/dos-a...|         30|[/categoria/domot...|2020_11|xataka.com/domoti...|\n",
            "|  4|/ecologia-y-natur...|         37|[/categoria/ecolo...|2020_12|xataka.com/ecolog...|\n",
            "|  5|/empresas-y-econo...|         34|[/categoria/empre...| 2019_7|xataka.com/empres...|\n",
            "|  6|/espacio/heavy-ro...|         25|[/categoria/espac...| 2019_4|xataka.com/espaci...|\n",
            "|  7|/espacio/stratola...|         16|[/categoria/espac...| 2019_4|xataka.com/espaci...|\n",
            "|  8|/inteligencia-art...|          3|[/categoria/intel...| 2019_3|xataka.com/inteli...|\n",
            "|  9|/legislacion-y-de...|          6|[/categoria/legis...| 2020_1|xataka.com/legisl...|\n",
            "| 10|/literatura-comic...|          1|[/categoria/liter...| 2019_6|xataka.com/litera...|\n",
            "| 11|/otros/hay-monjas...|         10|[/categoria/otros...| 2019_4|xataka.com/otros/...|\n",
            "| 12|/otros/sindrome-v...|         73|[/categoria/otros...| 2019_4|xataka.com/otros/...|\n",
            "| 13|/otros/vodafone-l...|         30|[/categoria/otros...| 2019_4|xataka.com/otros/...|\n",
            "| 14|/privacidad/algun...|         13|[/categoria/priva...| 2019_5|xataka.com/privac...|\n",
            "| 15|/realidad-virtual...|         11|[/categoria/reali...| 2019_4|xataka.com/realid...|\n",
            "| 16|/seguridad/britis...|          9|[/categoria/segur...| 2019_7|xataka.com/seguri...|\n",
            "| 17|/seleccion/iphone...|         93|[/categoria/selec...| 2019_9|xataka.com/selecc...|\n",
            "| 18|/seleccion/mejore...|          0|[/categoria/selec...|2020_11|xataka.com/selecc...|\n",
            "| 19|/xataka/que-tesla...|         64|[/categoria/autom...| 2019_8|xataka.com/xataka...|\n",
            "+---+--------------------+-----------+--------------------+-------+--------------------+\n",
            "only showing top 20 rows\n",
            "\n"
          ],
          "name": "stdout"
        }
      ]
    },
    {
      "cell_type": "markdown",
      "metadata": {
        "id": "2cw7Te0KtVz3"
      },
      "source": [
        "# <font color=\"Grey\">4. Genera un algortimo basado en contenido (no olvides poner comentarios en el código). Explica el motivo de cada paso. Puedes hacer uso de todas la información. Se valora la creatividad."
      ]
    },
    {
      "cell_type": "markdown",
      "metadata": {
        "id": "OqZB20nMtY9a"
      },
      "source": [
        "<font color=\"Grey\">Vamos a usar la función CountVectorizer, ya que usaremos las etiquetas para basar nuestras recomendaciones. Esta función se basa en el número de veces que se repite un contenido, en nuestro caso una categoría o un tag, sin dar más importancia a unos que a otros. Un contenido que tiene muchos tags en común con otro quiere decir que son contenidos parecidos."
      ]
    },
    {
      "cell_type": "code",
      "metadata": {
        "id": "iHNwc5v1qdkw",
        "outputId": "8d2cb911-a646-46bc-aef0-e17bcda12794",
        "colab": {
          "base_uri": "https://localhost:8080/"
        }
      },
      "source": [
        "from pyspark.ml.feature import CountVectorizer\n",
        "\n",
        "# Entrenamos el CountVectorizerModel desde el corpus.\n",
        "cv=CountVectorizer( inputCol='etiquetas', outputCol=\"features\")\n",
        "model=cv.fit(df_spark)\n",
        "df_cv=model.transform(df_spark).cache()\n",
        "df_cv.show(truncate=False)"
      ],
      "execution_count": 24,
      "outputs": [
        {
          "output_type": "stream",
          "text": [
            "+---+----------------------------------------------------------------------------------------------------------------------------------------+-----------+-----------------------------------------------------------------------------------------------------------------------------------------------------------------------------------------+-------+--------------------------------------------------------------------------------------------------------------------------------------------------+------------------------------------------------------------------------------------+\n",
            "|idx|articulo                                                                                                                                |comentarios|etiquetas                                                                                                                                                                                |fecha  |url                                                                                                                                               |features                                                                            |\n",
            "+---+----------------------------------------------------------------------------------------------------------------------------------------+-----------+-----------------------------------------------------------------------------------------------------------------------------------------------------------------------------------------+-------+--------------------------------------------------------------------------------------------------------------------------------------------------+------------------------------------------------------------------------------------+\n",
            "|0  |/audio/midi-2-0-sera-retrocompatible-mayor-resolucion-protocolo-analogico-musical-anuncia-nueva-version-36-anos-despues                 |18         |[/categoria/audio, /tag/musica, /tag/midi]                                                                                                                                               |2020_1 |xataka.com/audio/midi-2-0-sera-retrocompatible-mayor-resolucion-protocolo-analogico-musical-anuncia-nueva-version-36-anos-despues                 |(3814,[70,434,3182],[1.0,1.0,1.0])                                                  |\n",
            "|1  |/basics/como-borrar-informacion-personal-tuya-que-aparece-internet                                                                      |14         |[/categoria/basics, /tag/redes-sociales, /tag/datos, /tag/paranoicos-de-la-privacidad, /tag/debate-sobre-privacidad-y-seguridad, /tag/guias-y-trucos-a-fondo]                            |2019_10|xataka.com/basics/como-borrar-informacion-personal-tuya-que-aparece-internet                                                                      |(3814,[0,45,78,85,106,149],[1.0,1.0,1.0,1.0,1.0,1.0])                               |\n",
            "|2  |/basics/redaccion-inteligente-gmail-como-funciona-como-puedes-desactivarla                                                              |1          |[/categoria/basics, /tag/gmail, /tag/trucos-android]                                                                                                                                     |2019_3 |xataka.com/basics/redaccion-inteligente-gmail-como-funciona-como-puedes-desactivarla                                                              |(3814,[0,40,414],[1.0,1.0,1.0])                                                     |\n",
            "|3  |/domotica-1/dos-a-cuatro-habitaciones-muebles-mirada-a-minipisos-tecnologicos-hong-kong-almacenamiento-inteligente                      |30         |[/categoria/domotica-1, /categoria/internet-of-things, /tag/domotica, /tag/muebles, /tag/casa-domotica, /tag/arquitectura, /tag/sistema-modular]                                         |2020_11|xataka.com/domotica-1/dos-a-cuatro-habitaciones-muebles-mirada-a-minipisos-tecnologicos-hong-kong-almacenamiento-inteligente                      |(3814,[145,194,200,262,902,1322,1346],[1.0,1.0,1.0,1.0,1.0,1.0,1.0])                |\n",
            "|4  |/ecologia-y-naturaleza/pasta-dientes-forma-tableta-invento-que-busca-acabar-desperdicio-generado-tubos-plastico                         |37         |[/categoria/ecologia-y-naturaleza, /tag/invento, /tag/tableta, /tag/microplasticos, /tag/change-toothpaste]                                                                              |2020_12|xataka.com/ecologia-y-naturaleza/pasta-dientes-forma-tableta-invento-que-busca-acabar-desperdicio-generado-tubos-plastico                         |(3814,[24,795,1014,1226,2601],[1.0,1.0,1.0,1.0,1.0])                                |\n",
            "|5  |/empresas-y-economia/donald-trump-amenaza-a-francia-accion-reciproca-aprobar-impuesto-digital-a-tecnologicas-estadounidenses            |34         |[/categoria/empresas-y-economia, /tag/estados-unidos, /tag/francia, /tag/impuestos]                                                                                                      |2019_7 |xataka.com/empresas-y-economia/donald-trump-amenaza-a-francia-accion-reciproca-aprobar-impuesto-digital-a-tecnologicas-estadounidenses            |(3814,[10,49,255,537],[1.0,1.0,1.0,1.0])                                            |\n",
            "|6  |/espacio/heavy-rocket-space-x-consigue-aterrizar-sus-tres-cohetes-su-primer-vuelo-comercial-ha-sido-exito                               |25         |[/categoria/espacio, /tag/elon-musk, /tag/spacex, /tag/cohete, /tag/falcon-heavy]                                                                                                        |2019_4 |xataka.com/espacio/heavy-rocket-space-x-consigue-aterrizar-sus-tres-cohetes-su-primer-vuelo-comercial-ha-sido-exito                               |(3814,[11,69,175,545,1380],[1.0,1.0,1.0,1.0,1.0])                                   |\n",
            "|7  |/espacio/stratolaunch-echa-a-volar-asi-ha-sido-primer-vuelo-avion-grande-historia                                                       |16         |[/categoria/espacio, /tag/avion, /tag/stratolaunch]                                                                                                                                      |2019_4 |xataka.com/espacio/stratolaunch-echa-a-volar-asi-ha-sido-primer-vuelo-avion-grande-historia                                                       |(3814,[11,132,3470],[1.0,1.0,1.0])                                                  |\n",
            "|8  |/inteligencia-artificial/posible-detectar-noticias-falsas-creadas-inteligencia-artificial-que-openai-no-quiso-publica                   |3          |[/categoria/inteligencia-artificial, /tag/inteligencia-artificial, /tag/openai, /tag/noticias-falsas, /tag/lenguaje]                                                                     |2019_3 |xataka.com/inteligencia-artificial/posible-detectar-noticias-falsas-creadas-inteligencia-artificial-que-openai-no-quiso-publica                   |(3814,[4,7,347,358,611],[1.0,1.0,1.0,1.0,1.0])                                      |\n",
            "|9  |/legislacion-y-derechos/google-tendra-que-pagar-50-millones-euros-francia-violar-gdpr                                                   |6          |[/categoria/legislacion-y-derechos, /tag/google, /tag/debate-sobre-privacidad-y-seguridad, /tag/gdpr]                                                                                    |2020_1 |xataka.com/legislacion-y-derechos/google-tendra-que-pagar-50-millones-euros-francia-violar-gdpr                                                   |(3814,[15,43,149,834],[1.0,1.0,1.0,1.0])                                            |\n",
            "|10 |/literatura-comics-y-juegos/estan-aqui-premios-minotauro-2020-se-busca-mejor-obra-fantasia-ciencia-ficcion-espanol                      |1          |[/categoria/literatura-comics-y-juegos, /tag/ficcion, /tag/premios-minotauro-2020]                                                                                                       |2019_6 |xataka.com/literatura-comics-y-juegos/estan-aqui-premios-minotauro-2020-se-busca-mejor-obra-fantasia-ciencia-ficcion-espanol                      |(3814,[44,618,3211],[1.0,1.0,1.0])                                                  |\n",
            "|11 |/otros/hay-monjas-vendiendo-torrijas-internet-elaboradas-momento-que-compras-solo-durante-esta-epoca-semana-santa                       |10         |[/categoria/otros, /tag/compras-online, /tag/religion]                                                                                                                                   |2019_4 |xataka.com/otros/hay-monjas-vendiendo-torrijas-internet-elaboradas-momento-que-compras-solo-durante-esta-epoca-semana-santa                       |(3814,[21,721,856],[1.0,1.0,1.0])                                                   |\n",
            "|12 |/otros/sindrome-vivir-miedo-a-convertirte-programador-oxidado                                                                           |73         |[/categoria/otros, /tag/programacion]                                                                                                                                                    |2019_4 |xataka.com/otros/sindrome-vivir-miedo-a-convertirte-programador-oxidado                                                                           |(3814,[21,178],[1.0,1.0])                                                           |\n",
            "|13 |/otros/vodafone-lanza-sus-nuevas-tarifas-datos-ilimitados-limite-esta-velocidad                                                         |30         |[/categoria/otros, /tag/vodafone]                                                                                                                                                        |2019_4 |xataka.com/otros/vodafone-lanza-sus-nuevas-tarifas-datos-ilimitados-limite-esta-velocidad                                                         |(3814,[21,384],[1.0,1.0])                                                           |\n",
            "|14 |/privacidad/algunas-aplicaciones-iphone-utilizan-trackers-para-enviar-nuestros-datos-a-terceros-que-nos-demos-cuenta-the-washington-post|13         |[/categoria/privacidad, /categoria/seguridad, /tag/publicidad, /tag/iphone, /tag/iphone-tracker, /tag/paranoicos-de-la-privacidad]                                                       |2019_5 |xataka.com/privacidad/algunas-aplicaciones-iphone-utilizan-trackers-para-enviar-nuestros-datos-a-terceros-que-nos-demos-cuenta-the-washington-post|(3814,[19,20,78,84,360,3697],[1.0,1.0,1.0,1.0,1.0,1.0])                             |\n",
            "|15 |/realidad-virtual-aumentada/oculus-rift-s-oculus-quest-primeras-impresiones-realidad-virtual-quiere-entrar-todas-hogares                |11         |[/categoria/realidad-virtual-aumentada, /categoria/literatura-comics-y-juegos, /tag/oculus-rift]                                                                                         |2019_4 |xataka.com/realidad-virtual-aumentada/oculus-rift-s-oculus-quest-primeras-impresiones-realidad-virtual-quiere-entrar-todas-hogares                |(3814,[44,121,1916],[1.0,1.0,1.0])                                                  |\n",
            "|16 |/seguridad/british-airways-sancionada-213-millones-euros-multa-gdpr-alta-fecha                                                          |9          |[/categoria/seguridad, /tag/british-airways, /tag/gdpr]                                                                                                                                  |2019_7 |xataka.com/seguridad/british-airways-sancionada-213-millones-euros-multa-gdpr-alta-fecha                                                          |(3814,[19,834,3705],[1.0,1.0,1.0])                                                  |\n",
            "|17 |/seleccion/iphone-11-iphone-11-pro-iphone-11-pro-max-precio-donde-comprar                                                               |93         |[/categoria/seleccion, /tag/nuevos-iphone, /tag/iphone-11-pro, /tag/iphone-11-pro-max, /tag/iphone-11]                                                                                   |2019_9 |xataka.com/seleccion/iphone-11-iphone-11-pro-iphone-11-pro-max-precio-donde-comprar                                                               |(3814,[1,521,613,955,1324],[1.0,1.0,1.0,1.0,1.0])                                   |\n",
            "|18 |/seleccion/mejores-ofertas-black-friday-moviles-xiaomi-samsung-apple-sony                                                               |0          |[/categoria/seleccion, /tag/black-friday, /tag/ofertas]                                                                                                                                  |2020_11|xataka.com/seleccion/mejores-ofertas-black-friday-moviles-xiaomi-samsung-apple-sony                                                               |(3814,[1,79,118],[1.0,1.0,1.0])                                                     |\n",
            "|19 |/xataka/que-tesla-esta-ganando-carrera-coche-autonomo                                                                                   |64         |[/categoria/automovil, /categoria/xataka, /categoria/robotica-e-ia, /categoria/vehiculos, /tag/coches, /tag/tesla, /tag/conduccion, /tag/elon-musk, /tag/big-data, /tag/machine-learning]|2019_8 |xataka.com/xataka/que-tesla-esta-ganando-carrera-coche-autonomo                                                                                   |(3814,[9,12,29,39,48,69,119,159,610,1367],[1.0,1.0,1.0,1.0,1.0,1.0,1.0,1.0,1.0,1.0])|\n",
            "+---+----------------------------------------------------------------------------------------------------------------------------------------+-----------+-----------------------------------------------------------------------------------------------------------------------------------------------------------------------------------------+-------+--------------------------------------------------------------------------------------------------------------------------------------------------+------------------------------------------------------------------------------------+\n",
            "only showing top 20 rows\n",
            "\n"
          ],
          "name": "stdout"
        }
      ]
    },
    {
      "cell_type": "markdown",
      "metadata": {
        "id": "QptTjr8qwazY"
      },
      "source": [
        "#<font color=\"grey\">5. Crea una función que dado un idx nos devuelva el nombre del artículo junto con el nombre del top 5 de artículos similares. Se valora la creatividad."
      ]
    },
    {
      "cell_type": "markdown",
      "metadata": {
        "id": "qEDHjkX_wgUb"
      },
      "source": [
        "<font color=\"Grey\">En primer lugar, vamos a crear nuestra función dot_udf que calcula la similitud para cada par de contenidos."
      ]
    },
    {
      "cell_type": "code",
      "metadata": {
        "id": "28k342R5tulJ"
      },
      "source": [
        "dot_udf = F.udf(lambda x,y: float(x.dot(y)), T.DoubleType())"
      ],
      "execution_count": 25,
      "outputs": []
    },
    {
      "cell_type": "markdown",
      "metadata": {
        "id": "tZ_Z1ML3xLTI"
      },
      "source": [
        "<font color=\"Grey\">Creamos una función con la que, dado un idx de un artículo, nos ofrece los 5 artículos similares.  \n",
        "Realizamos un crossJoin de nuetro df_cv consigo misma para así tener todos los artículos enfrentados con todos en una misma fila, generando un dos nuevos índices, que serán el índice del artículo_1 (del que buscamos contenido similar) y un idx_2 que será el del artículo similar, pero su url, para que el usuario pueda clicar y redirigirse al contenido recomendado. Además, incluiremos la fecha, para aportar información al usuario.  \n",
        "Generaremos la columna dot, que muestra el grado de relación entre los artículos (resultado de la función dot_udf) y lo ordenaremos descendentemente para mostrar la mayor relación al principio de nuestra tabla.  \n",
        "Por último, mostraremos los 5 primeros resultados como nos pide el ejercicio.\n"
      ]
    },
    {
      "cell_type": "code",
      "metadata": {
        "id": "LofKhmsVxJUO"
      },
      "source": [
        "def Top5_artículos_similares(idx_articulo):\n",
        "  \"\"\"\n",
        "  Función que dado un artículo muestra el Top5\n",
        "  de artículos similares\n",
        "  \"\"\"\n",
        "  (df_cv.alias(\"i\").crossJoin(df_cv.alias(\"j\"))\n",
        "        .select(\n",
        "        F.col(\"i.idx\").alias(\"idx_1\"), \n",
        "        F.col(\"j.idx\").alias(\"idx_2\"),\n",
        "        F.col(\"i.articulo\").alias(\"articulo_1\"),  \n",
        "        F.col(\"j.url\").alias(\"recomendaciones\"),  \n",
        "        F.col(\"i.fecha\"),\n",
        "        #.orderBy(\"idx_1\",F.desc(\"fecha\")),\n",
        "        dot_udf(\"i.features\", \"j.features\").alias(\"afinidad\"))\n",
        "        .orderBy(\"idx_1\",F.desc(\"afinidad\"))  \n",
        "        .filter(\"idx_1!=idx_2\")\n",
        "        .filter(\"idx_1 = %s\" %idx_articulo)\n",
        "  ).show(5,truncate=False)"
      ],
      "execution_count": 26,
      "outputs": []
    },
    {
      "cell_type": "code",
      "metadata": {
        "id": "YJwvXWPgxdMi",
        "outputId": "3a18dce3-6a89-4903-e945-baa1c3c011eb",
        "colab": {
          "base_uri": "https://localhost:8080/"
        }
      },
      "source": [
        "Top5_artículos_similares(1)"
      ],
      "execution_count": 27,
      "outputs": [
        {
          "output_type": "stream",
          "text": [
            "+-----+------------+------------------------------------------------------------------+------------------------------------------------------------------------------------------------------------------------------+-------+--------+\n",
            "|idx_1|idx_2       |articulo_1                                                        |recomendaciones                                                                                                               |fecha  |afinidad|\n",
            "+-----+------------+------------------------------------------------------------------+------------------------------------------------------------------------------------------------------------------------------+-------+--------+\n",
            "|1    |137438953482|/basics/como-borrar-informacion-personal-tuya-que-aparece-internet|xataka.com/basics/como-solicitar-que-no-se-te-envie-propaganda-electoral-correo-postal-internet                               |2019_10|3.0     |\n",
            "|1    |455266533397|/basics/como-borrar-informacion-personal-tuya-que-aparece-internet|xataka.com/privacidad/descubren-china-misteriosa-base-datos-que-clasifica-a-1-8-millones-mujeres-como-listas-para-reproducirse|2019_10|3.0     |\n",
            "|1    |146028888097|/basics/como-borrar-informacion-personal-tuya-que-aparece-internet|xataka.com/privacidad/encuentran-base-datos-540-millones-datos-usuarios-facebook-servidor-contrasena-cifrado                  |2019_10|3.0     |\n",
            "|1    |274877906975|/basics/como-borrar-informacion-personal-tuya-que-aparece-internet|xataka.com/privacidad/bienvenidos-al-nuevo-facebook-zuckerberg-ahora-dice-que-su-red-social-se-centrara-cifrado-privacidad    |2019_10|3.0     |\n",
            "|1    |283467841540|/basics/como-borrar-informacion-personal-tuya-que-aparece-internet|xataka.com/basics/como-configurar-chrome-proteja-al-maximo-tu-privacidad                                                      |2019_10|3.0     |\n",
            "+-----+------------+------------------------------------------------------------------+------------------------------------------------------------------------------------------------------------------------------+-------+--------+\n",
            "only showing top 5 rows\n",
            "\n"
          ],
          "name": "stdout"
        }
      ]
    },
    {
      "cell_type": "code",
      "metadata": {
        "id": "pmqnChOxzMxH"
      },
      "source": [
        ""
      ],
      "execution_count": 27,
      "outputs": []
    }
  ]
}